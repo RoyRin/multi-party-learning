{
  "nbformat": 4,
  "nbformat_minor": 0,
  "metadata": {
    "accelerator": "GPU",
    "colab": {
      "name": "PATE.ipynb",
      "provenance": [],
      "collapsed_sections": [],
      "include_colab_link": true
    },
    "kernelspec": {
      "display_name": "Python 3",
      "name": "python3"
    },
    "language_info": {
      "name": "python"
    },
    "widgets": {
      "application/vnd.jupyter.widget-state+json": {
        "81397295d98146d4b182454b6ecc9f02": {
          "model_module": "@jupyter-widgets/controls",
          "model_name": "HBoxModel",
          "model_module_version": "1.5.0",
          "state": {
            "_view_name": "HBoxView",
            "_dom_classes": [],
            "_model_name": "HBoxModel",
            "_view_module": "@jupyter-widgets/controls",
            "_model_module_version": "1.5.0",
            "_view_count": null,
            "_view_module_version": "1.5.0",
            "box_style": "",
            "layout": "IPY_MODEL_f1b289ab193f40c28795fe20a1d7c423",
            "_model_module": "@jupyter-widgets/controls",
            "children": [
              "IPY_MODEL_4d49e16f124f4d0b8743f0db68c16924",
              "IPY_MODEL_8b3820016fcc42fe805accd2500f7cc2",
              "IPY_MODEL_55911fed2fb9447ab179ed137c7a9c83"
            ]
          }
        },
        "f1b289ab193f40c28795fe20a1d7c423": {
          "model_module": "@jupyter-widgets/base",
          "model_name": "LayoutModel",
          "model_module_version": "1.2.0",
          "state": {
            "_view_name": "LayoutView",
            "grid_template_rows": null,
            "right": null,
            "justify_content": null,
            "_view_module": "@jupyter-widgets/base",
            "overflow": null,
            "_model_module_version": "1.2.0",
            "_view_count": null,
            "flex_flow": null,
            "width": null,
            "min_width": null,
            "border": null,
            "align_items": null,
            "bottom": null,
            "_model_module": "@jupyter-widgets/base",
            "top": null,
            "grid_column": null,
            "overflow_y": null,
            "overflow_x": null,
            "grid_auto_flow": null,
            "grid_area": null,
            "grid_template_columns": null,
            "flex": null,
            "_model_name": "LayoutModel",
            "justify_items": null,
            "grid_row": null,
            "max_height": null,
            "align_content": null,
            "visibility": null,
            "align_self": null,
            "height": null,
            "min_height": null,
            "padding": null,
            "grid_auto_rows": null,
            "grid_gap": null,
            "max_width": null,
            "order": null,
            "_view_module_version": "1.2.0",
            "grid_template_areas": null,
            "object_position": null,
            "object_fit": null,
            "grid_auto_columns": null,
            "margin": null,
            "display": null,
            "left": null
          }
        },
        "4d49e16f124f4d0b8743f0db68c16924": {
          "model_module": "@jupyter-widgets/controls",
          "model_name": "HTMLModel",
          "model_module_version": "1.5.0",
          "state": {
            "_view_name": "HTMLView",
            "style": "IPY_MODEL_05094957ccc849438395291fbe49bff1",
            "_dom_classes": [],
            "description": "",
            "_model_name": "HTMLModel",
            "placeholder": "​",
            "_view_module": "@jupyter-widgets/controls",
            "_model_module_version": "1.5.0",
            "value": "",
            "_view_count": null,
            "_view_module_version": "1.5.0",
            "description_tooltip": null,
            "_model_module": "@jupyter-widgets/controls",
            "layout": "IPY_MODEL_aa65d2126f924435bd2e5be79870c533"
          }
        },
        "8b3820016fcc42fe805accd2500f7cc2": {
          "model_module": "@jupyter-widgets/controls",
          "model_name": "FloatProgressModel",
          "model_module_version": "1.5.0",
          "state": {
            "_view_name": "ProgressView",
            "style": "IPY_MODEL_10ada1fbf862485189f61079d5a71b79",
            "_dom_classes": [],
            "description": "",
            "_model_name": "FloatProgressModel",
            "bar_style": "success",
            "max": 9912422,
            "_view_module": "@jupyter-widgets/controls",
            "_model_module_version": "1.5.0",
            "value": 9912422,
            "_view_count": null,
            "_view_module_version": "1.5.0",
            "orientation": "horizontal",
            "min": 0,
            "description_tooltip": null,
            "_model_module": "@jupyter-widgets/controls",
            "layout": "IPY_MODEL_1613be24596a4cafac0a37979ee5e9d8"
          }
        },
        "55911fed2fb9447ab179ed137c7a9c83": {
          "model_module": "@jupyter-widgets/controls",
          "model_name": "HTMLModel",
          "model_module_version": "1.5.0",
          "state": {
            "_view_name": "HTMLView",
            "style": "IPY_MODEL_2e0cb1895fee4b23b6eabf2ab1290399",
            "_dom_classes": [],
            "description": "",
            "_model_name": "HTMLModel",
            "placeholder": "​",
            "_view_module": "@jupyter-widgets/controls",
            "_model_module_version": "1.5.0",
            "value": " 9913344/? [00:00&lt;00:00, 48683336.20it/s]",
            "_view_count": null,
            "_view_module_version": "1.5.0",
            "description_tooltip": null,
            "_model_module": "@jupyter-widgets/controls",
            "layout": "IPY_MODEL_7ee5e7267ba4465883262a10b8d157eb"
          }
        },
        "05094957ccc849438395291fbe49bff1": {
          "model_module": "@jupyter-widgets/controls",
          "model_name": "DescriptionStyleModel",
          "model_module_version": "1.5.0",
          "state": {
            "_view_name": "StyleView",
            "_model_name": "DescriptionStyleModel",
            "description_width": "",
            "_view_module": "@jupyter-widgets/base",
            "_model_module_version": "1.5.0",
            "_view_count": null,
            "_view_module_version": "1.2.0",
            "_model_module": "@jupyter-widgets/controls"
          }
        },
        "aa65d2126f924435bd2e5be79870c533": {
          "model_module": "@jupyter-widgets/base",
          "model_name": "LayoutModel",
          "model_module_version": "1.2.0",
          "state": {
            "_view_name": "LayoutView",
            "grid_template_rows": null,
            "right": null,
            "justify_content": null,
            "_view_module": "@jupyter-widgets/base",
            "overflow": null,
            "_model_module_version": "1.2.0",
            "_view_count": null,
            "flex_flow": null,
            "width": null,
            "min_width": null,
            "border": null,
            "align_items": null,
            "bottom": null,
            "_model_module": "@jupyter-widgets/base",
            "top": null,
            "grid_column": null,
            "overflow_y": null,
            "overflow_x": null,
            "grid_auto_flow": null,
            "grid_area": null,
            "grid_template_columns": null,
            "flex": null,
            "_model_name": "LayoutModel",
            "justify_items": null,
            "grid_row": null,
            "max_height": null,
            "align_content": null,
            "visibility": null,
            "align_self": null,
            "height": null,
            "min_height": null,
            "padding": null,
            "grid_auto_rows": null,
            "grid_gap": null,
            "max_width": null,
            "order": null,
            "_view_module_version": "1.2.0",
            "grid_template_areas": null,
            "object_position": null,
            "object_fit": null,
            "grid_auto_columns": null,
            "margin": null,
            "display": null,
            "left": null
          }
        },
        "10ada1fbf862485189f61079d5a71b79": {
          "model_module": "@jupyter-widgets/controls",
          "model_name": "ProgressStyleModel",
          "model_module_version": "1.5.0",
          "state": {
            "_view_name": "StyleView",
            "_model_name": "ProgressStyleModel",
            "description_width": "",
            "_view_module": "@jupyter-widgets/base",
            "_model_module_version": "1.5.0",
            "_view_count": null,
            "_view_module_version": "1.2.0",
            "bar_color": null,
            "_model_module": "@jupyter-widgets/controls"
          }
        },
        "1613be24596a4cafac0a37979ee5e9d8": {
          "model_module": "@jupyter-widgets/base",
          "model_name": "LayoutModel",
          "model_module_version": "1.2.0",
          "state": {
            "_view_name": "LayoutView",
            "grid_template_rows": null,
            "right": null,
            "justify_content": null,
            "_view_module": "@jupyter-widgets/base",
            "overflow": null,
            "_model_module_version": "1.2.0",
            "_view_count": null,
            "flex_flow": null,
            "width": null,
            "min_width": null,
            "border": null,
            "align_items": null,
            "bottom": null,
            "_model_module": "@jupyter-widgets/base",
            "top": null,
            "grid_column": null,
            "overflow_y": null,
            "overflow_x": null,
            "grid_auto_flow": null,
            "grid_area": null,
            "grid_template_columns": null,
            "flex": null,
            "_model_name": "LayoutModel",
            "justify_items": null,
            "grid_row": null,
            "max_height": null,
            "align_content": null,
            "visibility": null,
            "align_self": null,
            "height": null,
            "min_height": null,
            "padding": null,
            "grid_auto_rows": null,
            "grid_gap": null,
            "max_width": null,
            "order": null,
            "_view_module_version": "1.2.0",
            "grid_template_areas": null,
            "object_position": null,
            "object_fit": null,
            "grid_auto_columns": null,
            "margin": null,
            "display": null,
            "left": null
          }
        },
        "2e0cb1895fee4b23b6eabf2ab1290399": {
          "model_module": "@jupyter-widgets/controls",
          "model_name": "DescriptionStyleModel",
          "model_module_version": "1.5.0",
          "state": {
            "_view_name": "StyleView",
            "_model_name": "DescriptionStyleModel",
            "description_width": "",
            "_view_module": "@jupyter-widgets/base",
            "_model_module_version": "1.5.0",
            "_view_count": null,
            "_view_module_version": "1.2.0",
            "_model_module": "@jupyter-widgets/controls"
          }
        },
        "7ee5e7267ba4465883262a10b8d157eb": {
          "model_module": "@jupyter-widgets/base",
          "model_name": "LayoutModel",
          "model_module_version": "1.2.0",
          "state": {
            "_view_name": "LayoutView",
            "grid_template_rows": null,
            "right": null,
            "justify_content": null,
            "_view_module": "@jupyter-widgets/base",
            "overflow": null,
            "_model_module_version": "1.2.0",
            "_view_count": null,
            "flex_flow": null,
            "width": null,
            "min_width": null,
            "border": null,
            "align_items": null,
            "bottom": null,
            "_model_module": "@jupyter-widgets/base",
            "top": null,
            "grid_column": null,
            "overflow_y": null,
            "overflow_x": null,
            "grid_auto_flow": null,
            "grid_area": null,
            "grid_template_columns": null,
            "flex": null,
            "_model_name": "LayoutModel",
            "justify_items": null,
            "grid_row": null,
            "max_height": null,
            "align_content": null,
            "visibility": null,
            "align_self": null,
            "height": null,
            "min_height": null,
            "padding": null,
            "grid_auto_rows": null,
            "grid_gap": null,
            "max_width": null,
            "order": null,
            "_view_module_version": "1.2.0",
            "grid_template_areas": null,
            "object_position": null,
            "object_fit": null,
            "grid_auto_columns": null,
            "margin": null,
            "display": null,
            "left": null
          }
        },
        "fbdffb312051425ab59639f1d2452969": {
          "model_module": "@jupyter-widgets/controls",
          "model_name": "HBoxModel",
          "model_module_version": "1.5.0",
          "state": {
            "_view_name": "HBoxView",
            "_dom_classes": [],
            "_model_name": "HBoxModel",
            "_view_module": "@jupyter-widgets/controls",
            "_model_module_version": "1.5.0",
            "_view_count": null,
            "_view_module_version": "1.5.0",
            "box_style": "",
            "layout": "IPY_MODEL_4f2efae0ce424d0e96e8ae4ad5b67d69",
            "_model_module": "@jupyter-widgets/controls",
            "children": [
              "IPY_MODEL_1b81a29792ed40249c238a4399f69df1",
              "IPY_MODEL_b3f8b145a44242f898bca1d0c9f04420",
              "IPY_MODEL_2d1b1bd056854a77ae122f38d754e30d"
            ]
          }
        },
        "4f2efae0ce424d0e96e8ae4ad5b67d69": {
          "model_module": "@jupyter-widgets/base",
          "model_name": "LayoutModel",
          "model_module_version": "1.2.0",
          "state": {
            "_view_name": "LayoutView",
            "grid_template_rows": null,
            "right": null,
            "justify_content": null,
            "_view_module": "@jupyter-widgets/base",
            "overflow": null,
            "_model_module_version": "1.2.0",
            "_view_count": null,
            "flex_flow": null,
            "width": null,
            "min_width": null,
            "border": null,
            "align_items": null,
            "bottom": null,
            "_model_module": "@jupyter-widgets/base",
            "top": null,
            "grid_column": null,
            "overflow_y": null,
            "overflow_x": null,
            "grid_auto_flow": null,
            "grid_area": null,
            "grid_template_columns": null,
            "flex": null,
            "_model_name": "LayoutModel",
            "justify_items": null,
            "grid_row": null,
            "max_height": null,
            "align_content": null,
            "visibility": null,
            "align_self": null,
            "height": null,
            "min_height": null,
            "padding": null,
            "grid_auto_rows": null,
            "grid_gap": null,
            "max_width": null,
            "order": null,
            "_view_module_version": "1.2.0",
            "grid_template_areas": null,
            "object_position": null,
            "object_fit": null,
            "grid_auto_columns": null,
            "margin": null,
            "display": null,
            "left": null
          }
        },
        "1b81a29792ed40249c238a4399f69df1": {
          "model_module": "@jupyter-widgets/controls",
          "model_name": "HTMLModel",
          "model_module_version": "1.5.0",
          "state": {
            "_view_name": "HTMLView",
            "style": "IPY_MODEL_d6c1de019ece49699cf2e9386fb5e2f6",
            "_dom_classes": [],
            "description": "",
            "_model_name": "HTMLModel",
            "placeholder": "​",
            "_view_module": "@jupyter-widgets/controls",
            "_model_module_version": "1.5.0",
            "value": "",
            "_view_count": null,
            "_view_module_version": "1.5.0",
            "description_tooltip": null,
            "_model_module": "@jupyter-widgets/controls",
            "layout": "IPY_MODEL_791cce2b8aef44d1a69a471e61c2eec8"
          }
        },
        "b3f8b145a44242f898bca1d0c9f04420": {
          "model_module": "@jupyter-widgets/controls",
          "model_name": "FloatProgressModel",
          "model_module_version": "1.5.0",
          "state": {
            "_view_name": "ProgressView",
            "style": "IPY_MODEL_7235622624894b6c80640fc9ad6bd2b3",
            "_dom_classes": [],
            "description": "",
            "_model_name": "FloatProgressModel",
            "bar_style": "success",
            "max": 28881,
            "_view_module": "@jupyter-widgets/controls",
            "_model_module_version": "1.5.0",
            "value": 28881,
            "_view_count": null,
            "_view_module_version": "1.5.0",
            "orientation": "horizontal",
            "min": 0,
            "description_tooltip": null,
            "_model_module": "@jupyter-widgets/controls",
            "layout": "IPY_MODEL_2b35b94b98504ac7b3b731e99dc55ebd"
          }
        },
        "2d1b1bd056854a77ae122f38d754e30d": {
          "model_module": "@jupyter-widgets/controls",
          "model_name": "HTMLModel",
          "model_module_version": "1.5.0",
          "state": {
            "_view_name": "HTMLView",
            "style": "IPY_MODEL_16ace3cd61ab42d9aef40daef0904948",
            "_dom_classes": [],
            "description": "",
            "_model_name": "HTMLModel",
            "placeholder": "​",
            "_view_module": "@jupyter-widgets/controls",
            "_model_module_version": "1.5.0",
            "value": " 29696/? [00:00&lt;00:00, 677819.36it/s]",
            "_view_count": null,
            "_view_module_version": "1.5.0",
            "description_tooltip": null,
            "_model_module": "@jupyter-widgets/controls",
            "layout": "IPY_MODEL_b64888d7a0814e42a0550ffba1e5f530"
          }
        },
        "d6c1de019ece49699cf2e9386fb5e2f6": {
          "model_module": "@jupyter-widgets/controls",
          "model_name": "DescriptionStyleModel",
          "model_module_version": "1.5.0",
          "state": {
            "_view_name": "StyleView",
            "_model_name": "DescriptionStyleModel",
            "description_width": "",
            "_view_module": "@jupyter-widgets/base",
            "_model_module_version": "1.5.0",
            "_view_count": null,
            "_view_module_version": "1.2.0",
            "_model_module": "@jupyter-widgets/controls"
          }
        },
        "791cce2b8aef44d1a69a471e61c2eec8": {
          "model_module": "@jupyter-widgets/base",
          "model_name": "LayoutModel",
          "model_module_version": "1.2.0",
          "state": {
            "_view_name": "LayoutView",
            "grid_template_rows": null,
            "right": null,
            "justify_content": null,
            "_view_module": "@jupyter-widgets/base",
            "overflow": null,
            "_model_module_version": "1.2.0",
            "_view_count": null,
            "flex_flow": null,
            "width": null,
            "min_width": null,
            "border": null,
            "align_items": null,
            "bottom": null,
            "_model_module": "@jupyter-widgets/base",
            "top": null,
            "grid_column": null,
            "overflow_y": null,
            "overflow_x": null,
            "grid_auto_flow": null,
            "grid_area": null,
            "grid_template_columns": null,
            "flex": null,
            "_model_name": "LayoutModel",
            "justify_items": null,
            "grid_row": null,
            "max_height": null,
            "align_content": null,
            "visibility": null,
            "align_self": null,
            "height": null,
            "min_height": null,
            "padding": null,
            "grid_auto_rows": null,
            "grid_gap": null,
            "max_width": null,
            "order": null,
            "_view_module_version": "1.2.0",
            "grid_template_areas": null,
            "object_position": null,
            "object_fit": null,
            "grid_auto_columns": null,
            "margin": null,
            "display": null,
            "left": null
          }
        },
        "7235622624894b6c80640fc9ad6bd2b3": {
          "model_module": "@jupyter-widgets/controls",
          "model_name": "ProgressStyleModel",
          "model_module_version": "1.5.0",
          "state": {
            "_view_name": "StyleView",
            "_model_name": "ProgressStyleModel",
            "description_width": "",
            "_view_module": "@jupyter-widgets/base",
            "_model_module_version": "1.5.0",
            "_view_count": null,
            "_view_module_version": "1.2.0",
            "bar_color": null,
            "_model_module": "@jupyter-widgets/controls"
          }
        },
        "2b35b94b98504ac7b3b731e99dc55ebd": {
          "model_module": "@jupyter-widgets/base",
          "model_name": "LayoutModel",
          "model_module_version": "1.2.0",
          "state": {
            "_view_name": "LayoutView",
            "grid_template_rows": null,
            "right": null,
            "justify_content": null,
            "_view_module": "@jupyter-widgets/base",
            "overflow": null,
            "_model_module_version": "1.2.0",
            "_view_count": null,
            "flex_flow": null,
            "width": null,
            "min_width": null,
            "border": null,
            "align_items": null,
            "bottom": null,
            "_model_module": "@jupyter-widgets/base",
            "top": null,
            "grid_column": null,
            "overflow_y": null,
            "overflow_x": null,
            "grid_auto_flow": null,
            "grid_area": null,
            "grid_template_columns": null,
            "flex": null,
            "_model_name": "LayoutModel",
            "justify_items": null,
            "grid_row": null,
            "max_height": null,
            "align_content": null,
            "visibility": null,
            "align_self": null,
            "height": null,
            "min_height": null,
            "padding": null,
            "grid_auto_rows": null,
            "grid_gap": null,
            "max_width": null,
            "order": null,
            "_view_module_version": "1.2.0",
            "grid_template_areas": null,
            "object_position": null,
            "object_fit": null,
            "grid_auto_columns": null,
            "margin": null,
            "display": null,
            "left": null
          }
        },
        "16ace3cd61ab42d9aef40daef0904948": {
          "model_module": "@jupyter-widgets/controls",
          "model_name": "DescriptionStyleModel",
          "model_module_version": "1.5.0",
          "state": {
            "_view_name": "StyleView",
            "_model_name": "DescriptionStyleModel",
            "description_width": "",
            "_view_module": "@jupyter-widgets/base",
            "_model_module_version": "1.5.0",
            "_view_count": null,
            "_view_module_version": "1.2.0",
            "_model_module": "@jupyter-widgets/controls"
          }
        },
        "b64888d7a0814e42a0550ffba1e5f530": {
          "model_module": "@jupyter-widgets/base",
          "model_name": "LayoutModel",
          "model_module_version": "1.2.0",
          "state": {
            "_view_name": "LayoutView",
            "grid_template_rows": null,
            "right": null,
            "justify_content": null,
            "_view_module": "@jupyter-widgets/base",
            "overflow": null,
            "_model_module_version": "1.2.0",
            "_view_count": null,
            "flex_flow": null,
            "width": null,
            "min_width": null,
            "border": null,
            "align_items": null,
            "bottom": null,
            "_model_module": "@jupyter-widgets/base",
            "top": null,
            "grid_column": null,
            "overflow_y": null,
            "overflow_x": null,
            "grid_auto_flow": null,
            "grid_area": null,
            "grid_template_columns": null,
            "flex": null,
            "_model_name": "LayoutModel",
            "justify_items": null,
            "grid_row": null,
            "max_height": null,
            "align_content": null,
            "visibility": null,
            "align_self": null,
            "height": null,
            "min_height": null,
            "padding": null,
            "grid_auto_rows": null,
            "grid_gap": null,
            "max_width": null,
            "order": null,
            "_view_module_version": "1.2.0",
            "grid_template_areas": null,
            "object_position": null,
            "object_fit": null,
            "grid_auto_columns": null,
            "margin": null,
            "display": null,
            "left": null
          }
        },
        "799c3942e697471db810f60c95834754": {
          "model_module": "@jupyter-widgets/controls",
          "model_name": "HBoxModel",
          "model_module_version": "1.5.0",
          "state": {
            "_view_name": "HBoxView",
            "_dom_classes": [],
            "_model_name": "HBoxModel",
            "_view_module": "@jupyter-widgets/controls",
            "_model_module_version": "1.5.0",
            "_view_count": null,
            "_view_module_version": "1.5.0",
            "box_style": "",
            "layout": "IPY_MODEL_2a6aff2471314eb9bbd61b55898b9f18",
            "_model_module": "@jupyter-widgets/controls",
            "children": [
              "IPY_MODEL_c2a108611cd5458287e27b15ddf85290",
              "IPY_MODEL_aeb5fb2cc8b84d43b4e577e11655e6d0",
              "IPY_MODEL_f2603336b6ab4ea7a46847d7646ff35c"
            ]
          }
        },
        "2a6aff2471314eb9bbd61b55898b9f18": {
          "model_module": "@jupyter-widgets/base",
          "model_name": "LayoutModel",
          "model_module_version": "1.2.0",
          "state": {
            "_view_name": "LayoutView",
            "grid_template_rows": null,
            "right": null,
            "justify_content": null,
            "_view_module": "@jupyter-widgets/base",
            "overflow": null,
            "_model_module_version": "1.2.0",
            "_view_count": null,
            "flex_flow": null,
            "width": null,
            "min_width": null,
            "border": null,
            "align_items": null,
            "bottom": null,
            "_model_module": "@jupyter-widgets/base",
            "top": null,
            "grid_column": null,
            "overflow_y": null,
            "overflow_x": null,
            "grid_auto_flow": null,
            "grid_area": null,
            "grid_template_columns": null,
            "flex": null,
            "_model_name": "LayoutModel",
            "justify_items": null,
            "grid_row": null,
            "max_height": null,
            "align_content": null,
            "visibility": null,
            "align_self": null,
            "height": null,
            "min_height": null,
            "padding": null,
            "grid_auto_rows": null,
            "grid_gap": null,
            "max_width": null,
            "order": null,
            "_view_module_version": "1.2.0",
            "grid_template_areas": null,
            "object_position": null,
            "object_fit": null,
            "grid_auto_columns": null,
            "margin": null,
            "display": null,
            "left": null
          }
        },
        "c2a108611cd5458287e27b15ddf85290": {
          "model_module": "@jupyter-widgets/controls",
          "model_name": "HTMLModel",
          "model_module_version": "1.5.0",
          "state": {
            "_view_name": "HTMLView",
            "style": "IPY_MODEL_face78c76d2848a181490348ad7a3ed6",
            "_dom_classes": [],
            "description": "",
            "_model_name": "HTMLModel",
            "placeholder": "​",
            "_view_module": "@jupyter-widgets/controls",
            "_model_module_version": "1.5.0",
            "value": "",
            "_view_count": null,
            "_view_module_version": "1.5.0",
            "description_tooltip": null,
            "_model_module": "@jupyter-widgets/controls",
            "layout": "IPY_MODEL_fb2937b4e3684a1489cccbce2932e8dc"
          }
        },
        "aeb5fb2cc8b84d43b4e577e11655e6d0": {
          "model_module": "@jupyter-widgets/controls",
          "model_name": "FloatProgressModel",
          "model_module_version": "1.5.0",
          "state": {
            "_view_name": "ProgressView",
            "style": "IPY_MODEL_2db5bb09bf5f48bc9580a4650825cf70",
            "_dom_classes": [],
            "description": "",
            "_model_name": "FloatProgressModel",
            "bar_style": "success",
            "max": 1648877,
            "_view_module": "@jupyter-widgets/controls",
            "_model_module_version": "1.5.0",
            "value": 1648877,
            "_view_count": null,
            "_view_module_version": "1.5.0",
            "orientation": "horizontal",
            "min": 0,
            "description_tooltip": null,
            "_model_module": "@jupyter-widgets/controls",
            "layout": "IPY_MODEL_4eafd197545e4fb89de0ae3f18a6fe48"
          }
        },
        "f2603336b6ab4ea7a46847d7646ff35c": {
          "model_module": "@jupyter-widgets/controls",
          "model_name": "HTMLModel",
          "model_module_version": "1.5.0",
          "state": {
            "_view_name": "HTMLView",
            "style": "IPY_MODEL_696adb4a36cb4082a6c306272762abee",
            "_dom_classes": [],
            "description": "",
            "_model_name": "HTMLModel",
            "placeholder": "​",
            "_view_module": "@jupyter-widgets/controls",
            "_model_module_version": "1.5.0",
            "value": " 1649664/? [00:00&lt;00:00, 19513769.29it/s]",
            "_view_count": null,
            "_view_module_version": "1.5.0",
            "description_tooltip": null,
            "_model_module": "@jupyter-widgets/controls",
            "layout": "IPY_MODEL_3c22d4e8edec41659a39fa38706844d2"
          }
        },
        "face78c76d2848a181490348ad7a3ed6": {
          "model_module": "@jupyter-widgets/controls",
          "model_name": "DescriptionStyleModel",
          "model_module_version": "1.5.0",
          "state": {
            "_view_name": "StyleView",
            "_model_name": "DescriptionStyleModel",
            "description_width": "",
            "_view_module": "@jupyter-widgets/base",
            "_model_module_version": "1.5.0",
            "_view_count": null,
            "_view_module_version": "1.2.0",
            "_model_module": "@jupyter-widgets/controls"
          }
        },
        "fb2937b4e3684a1489cccbce2932e8dc": {
          "model_module": "@jupyter-widgets/base",
          "model_name": "LayoutModel",
          "model_module_version": "1.2.0",
          "state": {
            "_view_name": "LayoutView",
            "grid_template_rows": null,
            "right": null,
            "justify_content": null,
            "_view_module": "@jupyter-widgets/base",
            "overflow": null,
            "_model_module_version": "1.2.0",
            "_view_count": null,
            "flex_flow": null,
            "width": null,
            "min_width": null,
            "border": null,
            "align_items": null,
            "bottom": null,
            "_model_module": "@jupyter-widgets/base",
            "top": null,
            "grid_column": null,
            "overflow_y": null,
            "overflow_x": null,
            "grid_auto_flow": null,
            "grid_area": null,
            "grid_template_columns": null,
            "flex": null,
            "_model_name": "LayoutModel",
            "justify_items": null,
            "grid_row": null,
            "max_height": null,
            "align_content": null,
            "visibility": null,
            "align_self": null,
            "height": null,
            "min_height": null,
            "padding": null,
            "grid_auto_rows": null,
            "grid_gap": null,
            "max_width": null,
            "order": null,
            "_view_module_version": "1.2.0",
            "grid_template_areas": null,
            "object_position": null,
            "object_fit": null,
            "grid_auto_columns": null,
            "margin": null,
            "display": null,
            "left": null
          }
        },
        "2db5bb09bf5f48bc9580a4650825cf70": {
          "model_module": "@jupyter-widgets/controls",
          "model_name": "ProgressStyleModel",
          "model_module_version": "1.5.0",
          "state": {
            "_view_name": "StyleView",
            "_model_name": "ProgressStyleModel",
            "description_width": "",
            "_view_module": "@jupyter-widgets/base",
            "_model_module_version": "1.5.0",
            "_view_count": null,
            "_view_module_version": "1.2.0",
            "bar_color": null,
            "_model_module": "@jupyter-widgets/controls"
          }
        },
        "4eafd197545e4fb89de0ae3f18a6fe48": {
          "model_module": "@jupyter-widgets/base",
          "model_name": "LayoutModel",
          "model_module_version": "1.2.0",
          "state": {
            "_view_name": "LayoutView",
            "grid_template_rows": null,
            "right": null,
            "justify_content": null,
            "_view_module": "@jupyter-widgets/base",
            "overflow": null,
            "_model_module_version": "1.2.0",
            "_view_count": null,
            "flex_flow": null,
            "width": null,
            "min_width": null,
            "border": null,
            "align_items": null,
            "bottom": null,
            "_model_module": "@jupyter-widgets/base",
            "top": null,
            "grid_column": null,
            "overflow_y": null,
            "overflow_x": null,
            "grid_auto_flow": null,
            "grid_area": null,
            "grid_template_columns": null,
            "flex": null,
            "_model_name": "LayoutModel",
            "justify_items": null,
            "grid_row": null,
            "max_height": null,
            "align_content": null,
            "visibility": null,
            "align_self": null,
            "height": null,
            "min_height": null,
            "padding": null,
            "grid_auto_rows": null,
            "grid_gap": null,
            "max_width": null,
            "order": null,
            "_view_module_version": "1.2.0",
            "grid_template_areas": null,
            "object_position": null,
            "object_fit": null,
            "grid_auto_columns": null,
            "margin": null,
            "display": null,
            "left": null
          }
        },
        "696adb4a36cb4082a6c306272762abee": {
          "model_module": "@jupyter-widgets/controls",
          "model_name": "DescriptionStyleModel",
          "model_module_version": "1.5.0",
          "state": {
            "_view_name": "StyleView",
            "_model_name": "DescriptionStyleModel",
            "description_width": "",
            "_view_module": "@jupyter-widgets/base",
            "_model_module_version": "1.5.0",
            "_view_count": null,
            "_view_module_version": "1.2.0",
            "_model_module": "@jupyter-widgets/controls"
          }
        },
        "3c22d4e8edec41659a39fa38706844d2": {
          "model_module": "@jupyter-widgets/base",
          "model_name": "LayoutModel",
          "model_module_version": "1.2.0",
          "state": {
            "_view_name": "LayoutView",
            "grid_template_rows": null,
            "right": null,
            "justify_content": null,
            "_view_module": "@jupyter-widgets/base",
            "overflow": null,
            "_model_module_version": "1.2.0",
            "_view_count": null,
            "flex_flow": null,
            "width": null,
            "min_width": null,
            "border": null,
            "align_items": null,
            "bottom": null,
            "_model_module": "@jupyter-widgets/base",
            "top": null,
            "grid_column": null,
            "overflow_y": null,
            "overflow_x": null,
            "grid_auto_flow": null,
            "grid_area": null,
            "grid_template_columns": null,
            "flex": null,
            "_model_name": "LayoutModel",
            "justify_items": null,
            "grid_row": null,
            "max_height": null,
            "align_content": null,
            "visibility": null,
            "align_self": null,
            "height": null,
            "min_height": null,
            "padding": null,
            "grid_auto_rows": null,
            "grid_gap": null,
            "max_width": null,
            "order": null,
            "_view_module_version": "1.2.0",
            "grid_template_areas": null,
            "object_position": null,
            "object_fit": null,
            "grid_auto_columns": null,
            "margin": null,
            "display": null,
            "left": null
          }
        },
        "3da43ac777dc4813962de12c15c187e1": {
          "model_module": "@jupyter-widgets/controls",
          "model_name": "HBoxModel",
          "model_module_version": "1.5.0",
          "state": {
            "_view_name": "HBoxView",
            "_dom_classes": [],
            "_model_name": "HBoxModel",
            "_view_module": "@jupyter-widgets/controls",
            "_model_module_version": "1.5.0",
            "_view_count": null,
            "_view_module_version": "1.5.0",
            "box_style": "",
            "layout": "IPY_MODEL_57256988cb0d42488e9c63a3d57956c2",
            "_model_module": "@jupyter-widgets/controls",
            "children": [
              "IPY_MODEL_d2bd028325734cd6a9a53f027791cf2e",
              "IPY_MODEL_7d4ee78f552040f19c48ea0f102dfac0",
              "IPY_MODEL_b443c9acbe91488db77a66d06f5d8542"
            ]
          }
        },
        "57256988cb0d42488e9c63a3d57956c2": {
          "model_module": "@jupyter-widgets/base",
          "model_name": "LayoutModel",
          "model_module_version": "1.2.0",
          "state": {
            "_view_name": "LayoutView",
            "grid_template_rows": null,
            "right": null,
            "justify_content": null,
            "_view_module": "@jupyter-widgets/base",
            "overflow": null,
            "_model_module_version": "1.2.0",
            "_view_count": null,
            "flex_flow": null,
            "width": null,
            "min_width": null,
            "border": null,
            "align_items": null,
            "bottom": null,
            "_model_module": "@jupyter-widgets/base",
            "top": null,
            "grid_column": null,
            "overflow_y": null,
            "overflow_x": null,
            "grid_auto_flow": null,
            "grid_area": null,
            "grid_template_columns": null,
            "flex": null,
            "_model_name": "LayoutModel",
            "justify_items": null,
            "grid_row": null,
            "max_height": null,
            "align_content": null,
            "visibility": null,
            "align_self": null,
            "height": null,
            "min_height": null,
            "padding": null,
            "grid_auto_rows": null,
            "grid_gap": null,
            "max_width": null,
            "order": null,
            "_view_module_version": "1.2.0",
            "grid_template_areas": null,
            "object_position": null,
            "object_fit": null,
            "grid_auto_columns": null,
            "margin": null,
            "display": null,
            "left": null
          }
        },
        "d2bd028325734cd6a9a53f027791cf2e": {
          "model_module": "@jupyter-widgets/controls",
          "model_name": "HTMLModel",
          "model_module_version": "1.5.0",
          "state": {
            "_view_name": "HTMLView",
            "style": "IPY_MODEL_5b11067f082f4c798aaea7941e001eff",
            "_dom_classes": [],
            "description": "",
            "_model_name": "HTMLModel",
            "placeholder": "​",
            "_view_module": "@jupyter-widgets/controls",
            "_model_module_version": "1.5.0",
            "value": "",
            "_view_count": null,
            "_view_module_version": "1.5.0",
            "description_tooltip": null,
            "_model_module": "@jupyter-widgets/controls",
            "layout": "IPY_MODEL_e566ff7d3a9a48cf9d6c6ed047b3b728"
          }
        },
        "7d4ee78f552040f19c48ea0f102dfac0": {
          "model_module": "@jupyter-widgets/controls",
          "model_name": "FloatProgressModel",
          "model_module_version": "1.5.0",
          "state": {
            "_view_name": "ProgressView",
            "style": "IPY_MODEL_a4f854918e5a41689c3822095fe0943a",
            "_dom_classes": [],
            "description": "",
            "_model_name": "FloatProgressModel",
            "bar_style": "success",
            "max": 4542,
            "_view_module": "@jupyter-widgets/controls",
            "_model_module_version": "1.5.0",
            "value": 4542,
            "_view_count": null,
            "_view_module_version": "1.5.0",
            "orientation": "horizontal",
            "min": 0,
            "description_tooltip": null,
            "_model_module": "@jupyter-widgets/controls",
            "layout": "IPY_MODEL_efbe4f57ef7f4aed84db77c254c47d4a"
          }
        },
        "b443c9acbe91488db77a66d06f5d8542": {
          "model_module": "@jupyter-widgets/controls",
          "model_name": "HTMLModel",
          "model_module_version": "1.5.0",
          "state": {
            "_view_name": "HTMLView",
            "style": "IPY_MODEL_3ef42eef60ae43f89d75d59d92d559db",
            "_dom_classes": [],
            "description": "",
            "_model_name": "HTMLModel",
            "placeholder": "​",
            "_view_module": "@jupyter-widgets/controls",
            "_model_module_version": "1.5.0",
            "value": " 5120/? [00:00&lt;00:00, 125077.68it/s]",
            "_view_count": null,
            "_view_module_version": "1.5.0",
            "description_tooltip": null,
            "_model_module": "@jupyter-widgets/controls",
            "layout": "IPY_MODEL_e5a4fc20dcc34675a72ff064ea52c101"
          }
        },
        "5b11067f082f4c798aaea7941e001eff": {
          "model_module": "@jupyter-widgets/controls",
          "model_name": "DescriptionStyleModel",
          "model_module_version": "1.5.0",
          "state": {
            "_view_name": "StyleView",
            "_model_name": "DescriptionStyleModel",
            "description_width": "",
            "_view_module": "@jupyter-widgets/base",
            "_model_module_version": "1.5.0",
            "_view_count": null,
            "_view_module_version": "1.2.0",
            "_model_module": "@jupyter-widgets/controls"
          }
        },
        "e566ff7d3a9a48cf9d6c6ed047b3b728": {
          "model_module": "@jupyter-widgets/base",
          "model_name": "LayoutModel",
          "model_module_version": "1.2.0",
          "state": {
            "_view_name": "LayoutView",
            "grid_template_rows": null,
            "right": null,
            "justify_content": null,
            "_view_module": "@jupyter-widgets/base",
            "overflow": null,
            "_model_module_version": "1.2.0",
            "_view_count": null,
            "flex_flow": null,
            "width": null,
            "min_width": null,
            "border": null,
            "align_items": null,
            "bottom": null,
            "_model_module": "@jupyter-widgets/base",
            "top": null,
            "grid_column": null,
            "overflow_y": null,
            "overflow_x": null,
            "grid_auto_flow": null,
            "grid_area": null,
            "grid_template_columns": null,
            "flex": null,
            "_model_name": "LayoutModel",
            "justify_items": null,
            "grid_row": null,
            "max_height": null,
            "align_content": null,
            "visibility": null,
            "align_self": null,
            "height": null,
            "min_height": null,
            "padding": null,
            "grid_auto_rows": null,
            "grid_gap": null,
            "max_width": null,
            "order": null,
            "_view_module_version": "1.2.0",
            "grid_template_areas": null,
            "object_position": null,
            "object_fit": null,
            "grid_auto_columns": null,
            "margin": null,
            "display": null,
            "left": null
          }
        },
        "a4f854918e5a41689c3822095fe0943a": {
          "model_module": "@jupyter-widgets/controls",
          "model_name": "ProgressStyleModel",
          "model_module_version": "1.5.0",
          "state": {
            "_view_name": "StyleView",
            "_model_name": "ProgressStyleModel",
            "description_width": "",
            "_view_module": "@jupyter-widgets/base",
            "_model_module_version": "1.5.0",
            "_view_count": null,
            "_view_module_version": "1.2.0",
            "bar_color": null,
            "_model_module": "@jupyter-widgets/controls"
          }
        },
        "efbe4f57ef7f4aed84db77c254c47d4a": {
          "model_module": "@jupyter-widgets/base",
          "model_name": "LayoutModel",
          "model_module_version": "1.2.0",
          "state": {
            "_view_name": "LayoutView",
            "grid_template_rows": null,
            "right": null,
            "justify_content": null,
            "_view_module": "@jupyter-widgets/base",
            "overflow": null,
            "_model_module_version": "1.2.0",
            "_view_count": null,
            "flex_flow": null,
            "width": null,
            "min_width": null,
            "border": null,
            "align_items": null,
            "bottom": null,
            "_model_module": "@jupyter-widgets/base",
            "top": null,
            "grid_column": null,
            "overflow_y": null,
            "overflow_x": null,
            "grid_auto_flow": null,
            "grid_area": null,
            "grid_template_columns": null,
            "flex": null,
            "_model_name": "LayoutModel",
            "justify_items": null,
            "grid_row": null,
            "max_height": null,
            "align_content": null,
            "visibility": null,
            "align_self": null,
            "height": null,
            "min_height": null,
            "padding": null,
            "grid_auto_rows": null,
            "grid_gap": null,
            "max_width": null,
            "order": null,
            "_view_module_version": "1.2.0",
            "grid_template_areas": null,
            "object_position": null,
            "object_fit": null,
            "grid_auto_columns": null,
            "margin": null,
            "display": null,
            "left": null
          }
        },
        "3ef42eef60ae43f89d75d59d92d559db": {
          "model_module": "@jupyter-widgets/controls",
          "model_name": "DescriptionStyleModel",
          "model_module_version": "1.5.0",
          "state": {
            "_view_name": "StyleView",
            "_model_name": "DescriptionStyleModel",
            "description_width": "",
            "_view_module": "@jupyter-widgets/base",
            "_model_module_version": "1.5.0",
            "_view_count": null,
            "_view_module_version": "1.2.0",
            "_model_module": "@jupyter-widgets/controls"
          }
        },
        "e5a4fc20dcc34675a72ff064ea52c101": {
          "model_module": "@jupyter-widgets/base",
          "model_name": "LayoutModel",
          "model_module_version": "1.2.0",
          "state": {
            "_view_name": "LayoutView",
            "grid_template_rows": null,
            "right": null,
            "justify_content": null,
            "_view_module": "@jupyter-widgets/base",
            "overflow": null,
            "_model_module_version": "1.2.0",
            "_view_count": null,
            "flex_flow": null,
            "width": null,
            "min_width": null,
            "border": null,
            "align_items": null,
            "bottom": null,
            "_model_module": "@jupyter-widgets/base",
            "top": null,
            "grid_column": null,
            "overflow_y": null,
            "overflow_x": null,
            "grid_auto_flow": null,
            "grid_area": null,
            "grid_template_columns": null,
            "flex": null,
            "_model_name": "LayoutModel",
            "justify_items": null,
            "grid_row": null,
            "max_height": null,
            "align_content": null,
            "visibility": null,
            "align_self": null,
            "height": null,
            "min_height": null,
            "padding": null,
            "grid_auto_rows": null,
            "grid_gap": null,
            "max_width": null,
            "order": null,
            "_view_module_version": "1.2.0",
            "grid_template_areas": null,
            "object_position": null,
            "object_fit": null,
            "grid_auto_columns": null,
            "margin": null,
            "display": null,
            "left": null
          }
        }
      }
    }
  },
  "cells": [
    {
      "cell_type": "markdown",
      "metadata": {
        "id": "view-in-github",
        "colab_type": "text"
      },
      "source": [
        "<a href=\"https://colab.research.google.com/github/RoyRin/multi-party-learning/blob/master/PATE.ipynb\" target=\"_parent\"><img src=\"https://colab.research.google.com/assets/colab-badge.svg\" alt=\"Open In Colab\"/></a>"
      ]
    },
    {
      "cell_type": "code",
      "metadata": {
        "colab": {
          "base_uri": "https://localhost:8080/"
        },
        "id": "eZ9GGwQHJ5dl",
        "outputId": "e1b1ffa6-5ad1-4107-b94f-96d78870f7b0"
      },
      "source": [
        " from google.colab import drive\n",
        "drive.mount('/content/drive')"
      ],
      "execution_count": 2,
      "outputs": [
        {
          "output_type": "stream",
          "name": "stdout",
          "text": [
            "Mounted at /content/drive\n",
            "Drive already mounted at /content/drive; to attempt to forcibly remount, call drive.mount(\"/content/drive\", force_remount=True).\n"
          ]
        }
      ]
    },
    {
      "cell_type": "code",
      "metadata": {
        "colab": {
          "base_uri": "https://localhost:8080/",
          "height": 36
        },
        "id": "rH6trG1awUVj",
        "outputId": "e3a7916b-9331-4a1a-a2bd-ee455a09607d"
      },
      "source": [
        "import sys\n",
        "sys.version"
      ],
      "execution_count": 3,
      "outputs": [
        {
          "output_type": "execute_result",
          "data": {
            "application/vnd.google.colaboratory.intrinsic+json": {
              "type": "string"
            },
            "text/plain": [
              "'3.7.12 (default, Sep 10 2021, 00:21:48) \\n[GCC 7.5.0]'"
            ]
          },
          "metadata": {},
          "execution_count": 3
        }
      ]
    },
    {
      "cell_type": "code",
      "metadata": {
        "colab": {
          "base_uri": "https://localhost:8080/"
        },
        "id": "9m5_OHoi_Mji",
        "outputId": "ec085be7-73bc-4126-e2bf-6a77ef630c2e"
      },
      "source": [
        "!cat /content/drive/MyDrive/academics/columbia/neural_networks/project/requirements.txt | grep \"syft\"\n",
        "\n"
      ],
      "execution_count": 4,
      "outputs": [
        {
          "output_type": "stream",
          "name": "stdout",
          "text": [
            "syft-proto==0.5.3 \\\n",
            "syft==0.2.9 \\\n"
          ]
        }
      ]
    },
    {
      "cell_type": "code",
      "metadata": {
        "id": "JcHaMe7k3hCy",
        "colab": {
          "base_uri": "https://localhost:8080/",
          "height": 1000
        },
        "outputId": "6abf0a76-5a07-4854-9f25-26e914a5006d"
      },
      "source": [
        "#%%capture\n",
        "#! python3 -m pip install -r /content/drive/MyDrive/academics/columbia/neural_networks/project/requirements.txt\n",
        "\n",
        "#!pip install --upgrade IPython \n",
        "!pip install torchviz\n",
        "# https://opacus.ai/tutorials/building_text_classifierz\n",
        "#!pip install pycodestyle pycodestyle_magic flake8\n",
        "!pip install torch torchvision\n",
        "!pip install tensorboard\n",
        "!pip install --upgrade syft torch numpy\n",
        "\n",
        "#!pip ins"
      ],
      "execution_count": 5,
      "outputs": [
        {
          "output_type": "stream",
          "name": "stdout",
          "text": [
            "Collecting torchviz\n",
            "  Downloading torchviz-0.0.2.tar.gz (4.9 kB)\n",
            "Requirement already satisfied: torch in /usr/local/lib/python3.7/dist-packages (from torchviz) (1.10.0+cu111)\n",
            "Requirement already satisfied: graphviz in /usr/local/lib/python3.7/dist-packages (from torchviz) (0.10.1)\n",
            "Requirement already satisfied: typing-extensions in /usr/local/lib/python3.7/dist-packages (from torch->torchviz) (3.10.0.2)\n",
            "Building wheels for collected packages: torchviz\n",
            "  Building wheel for torchviz (setup.py) ... \u001b[?25l\u001b[?25hdone\n",
            "  Created wheel for torchviz: filename=torchviz-0.0.2-py3-none-any.whl size=4151 sha256=416e2803f9a8022db79cbd7af43357602c7b7f29dddb787c52f8bd9d0054db79\n",
            "  Stored in directory: /root/.cache/pip/wheels/04/38/f5/dc4f85c3909051823df49901e72015d2d750bd26b086480ec2\n",
            "Successfully built torchviz\n",
            "Installing collected packages: torchviz\n",
            "Successfully installed torchviz-0.0.2\n",
            "Requirement already satisfied: torch in /usr/local/lib/python3.7/dist-packages (1.10.0+cu111)\n",
            "Requirement already satisfied: torchvision in /usr/local/lib/python3.7/dist-packages (0.11.1+cu111)\n",
            "Requirement already satisfied: typing-extensions in /usr/local/lib/python3.7/dist-packages (from torch) (3.10.0.2)\n",
            "Requirement already satisfied: pillow!=8.3.0,>=5.3.0 in /usr/local/lib/python3.7/dist-packages (from torchvision) (7.1.2)\n",
            "Requirement already satisfied: numpy in /usr/local/lib/python3.7/dist-packages (from torchvision) (1.19.5)\n",
            "Requirement already satisfied: tensorboard in /usr/local/lib/python3.7/dist-packages (2.7.0)\n",
            "Requirement already satisfied: protobuf>=3.6.0 in /usr/local/lib/python3.7/dist-packages (from tensorboard) (3.17.3)\n",
            "Requirement already satisfied: google-auth-oauthlib<0.5,>=0.4.1 in /usr/local/lib/python3.7/dist-packages (from tensorboard) (0.4.6)\n",
            "Requirement already satisfied: google-auth<3,>=1.6.3 in /usr/local/lib/python3.7/dist-packages (from tensorboard) (1.35.0)\n",
            "Requirement already satisfied: werkzeug>=0.11.15 in /usr/local/lib/python3.7/dist-packages (from tensorboard) (1.0.1)\n",
            "Requirement already satisfied: markdown>=2.6.8 in /usr/local/lib/python3.7/dist-packages (from tensorboard) (3.3.6)\n",
            "Requirement already satisfied: requests<3,>=2.21.0 in /usr/local/lib/python3.7/dist-packages (from tensorboard) (2.23.0)\n",
            "Requirement already satisfied: tensorboard-data-server<0.7.0,>=0.6.0 in /usr/local/lib/python3.7/dist-packages (from tensorboard) (0.6.1)\n",
            "Requirement already satisfied: numpy>=1.12.0 in /usr/local/lib/python3.7/dist-packages (from tensorboard) (1.19.5)\n",
            "Requirement already satisfied: setuptools>=41.0.0 in /usr/local/lib/python3.7/dist-packages (from tensorboard) (57.4.0)\n",
            "Requirement already satisfied: tensorboard-plugin-wit>=1.6.0 in /usr/local/lib/python3.7/dist-packages (from tensorboard) (1.8.0)\n",
            "Requirement already satisfied: wheel>=0.26 in /usr/local/lib/python3.7/dist-packages (from tensorboard) (0.37.0)\n",
            "Requirement already satisfied: grpcio>=1.24.3 in /usr/local/lib/python3.7/dist-packages (from tensorboard) (1.42.0)\n",
            "Requirement already satisfied: absl-py>=0.4 in /usr/local/lib/python3.7/dist-packages (from tensorboard) (0.12.0)\n",
            "Requirement already satisfied: six in /usr/local/lib/python3.7/dist-packages (from absl-py>=0.4->tensorboard) (1.15.0)\n",
            "Requirement already satisfied: rsa<5,>=3.1.4 in /usr/local/lib/python3.7/dist-packages (from google-auth<3,>=1.6.3->tensorboard) (4.8)\n",
            "Requirement already satisfied: pyasn1-modules>=0.2.1 in /usr/local/lib/python3.7/dist-packages (from google-auth<3,>=1.6.3->tensorboard) (0.2.8)\n",
            "Requirement already satisfied: cachetools<5.0,>=2.0.0 in /usr/local/lib/python3.7/dist-packages (from google-auth<3,>=1.6.3->tensorboard) (4.2.4)\n",
            "Requirement already satisfied: requests-oauthlib>=0.7.0 in /usr/local/lib/python3.7/dist-packages (from google-auth-oauthlib<0.5,>=0.4.1->tensorboard) (1.3.0)\n",
            "Requirement already satisfied: importlib-metadata>=4.4 in /usr/local/lib/python3.7/dist-packages (from markdown>=2.6.8->tensorboard) (4.8.2)\n",
            "Requirement already satisfied: typing-extensions>=3.6.4 in /usr/local/lib/python3.7/dist-packages (from importlib-metadata>=4.4->markdown>=2.6.8->tensorboard) (3.10.0.2)\n",
            "Requirement already satisfied: zipp>=0.5 in /usr/local/lib/python3.7/dist-packages (from importlib-metadata>=4.4->markdown>=2.6.8->tensorboard) (3.6.0)\n",
            "Requirement already satisfied: pyasn1<0.5.0,>=0.4.6 in /usr/local/lib/python3.7/dist-packages (from pyasn1-modules>=0.2.1->google-auth<3,>=1.6.3->tensorboard) (0.4.8)\n",
            "Requirement already satisfied: certifi>=2017.4.17 in /usr/local/lib/python3.7/dist-packages (from requests<3,>=2.21.0->tensorboard) (2021.10.8)\n",
            "Requirement already satisfied: urllib3!=1.25.0,!=1.25.1,<1.26,>=1.21.1 in /usr/local/lib/python3.7/dist-packages (from requests<3,>=2.21.0->tensorboard) (1.24.3)\n",
            "Requirement already satisfied: idna<3,>=2.5 in /usr/local/lib/python3.7/dist-packages (from requests<3,>=2.21.0->tensorboard) (2.10)\n",
            "Requirement already satisfied: chardet<4,>=3.0.2 in /usr/local/lib/python3.7/dist-packages (from requests<3,>=2.21.0->tensorboard) (3.0.4)\n",
            "Requirement already satisfied: oauthlib>=3.0.0 in /usr/local/lib/python3.7/dist-packages (from requests-oauthlib>=0.7.0->google-auth-oauthlib<0.5,>=0.4.1->tensorboard) (3.1.1)\n",
            "Collecting syft\n",
            "  Downloading syft-0.6.0-py2.py3-none-any.whl (606 kB)\n",
            "\u001b[K     |████████████████████████████████| 606 kB 11.1 MB/s \n",
            "\u001b[?25hRequirement already satisfied: torch in /usr/local/lib/python3.7/dist-packages (1.10.0+cu111)\n",
            "Requirement already satisfied: numpy in /usr/local/lib/python3.7/dist-packages (1.19.5)\n",
            "Collecting numpy\n",
            "  Downloading numpy-1.21.4-cp37-cp37m-manylinux_2_12_x86_64.manylinux2010_x86_64.whl (15.7 MB)\n",
            "\u001b[K     |████████████████████████████████| 15.7 MB 36.4 MB/s \n",
            "\u001b[?25hCollecting autodp==0.2\n",
            "  Downloading autodp-0.2.tar.gz (39 kB)\n",
            "Requirement already satisfied: tqdm==4.62.3 in /usr/local/lib/python3.7/dist-packages (from syft) (4.62.3)\n",
            "Collecting PyNaCl==1.4.0\n",
            "  Downloading PyNaCl-1.4.0-cp35-abi3-manylinux1_x86_64.whl (961 kB)\n",
            "\u001b[K     |████████████████████████████████| 961 kB 45.1 MB/s \n",
            "\u001b[?25hRequirement already satisfied: SQLAlchemy==1.4.27 in /usr/local/lib/python3.7/dist-packages (from syft) (1.4.27)\n",
            "Collecting names==0.3.0\n",
            "  Downloading names-0.3.0.tar.gz (789 kB)\n",
            "\u001b[K     |████████████████████████████████| 789 kB 43.6 MB/s \n",
            "\u001b[?25hCollecting sympy==1.9\n",
            "  Downloading sympy-1.9-py3-none-any.whl (6.2 MB)\n",
            "\u001b[K     |████████████████████████████████| 6.2 MB 43.1 MB/s \n",
            "\u001b[?25hCollecting pandas==1.3.4\n",
            "  Downloading pandas-1.3.4-cp37-cp37m-manylinux_2_17_x86_64.manylinux2014_x86_64.whl (11.3 MB)\n",
            "\u001b[K     |████████████████████████████████| 11.3 MB 44.8 MB/s \n",
            "\u001b[?25hCollecting bcrypt==3.2.0\n",
            "  Downloading bcrypt-3.2.0-cp36-abi3-manylinux2010_x86_64.whl (63 kB)\n",
            "\u001b[K     |████████████████████████████████| 63 kB 2.4 MB/s \n",
            "\u001b[?25hCollecting packaging==21.2\n",
            "  Downloading packaging-21.2-py3-none-any.whl (40 kB)\n",
            "\u001b[K     |████████████████████████████████| 40 kB 5.4 MB/s \n",
            "\u001b[?25hCollecting forbiddenfruit==0.1.4\n",
            "  Downloading forbiddenfruit-0.1.4.tar.gz (43 kB)\n",
            "\u001b[K     |████████████████████████████████| 43 kB 2.2 MB/s \n",
            "\u001b[?25hCollecting typing-extensions==4.0.0\n",
            "  Downloading typing_extensions-4.0.0-py3-none-any.whl (22 kB)\n",
            "Collecting pydantic[email]==1.8.2\n",
            "  Downloading pydantic-1.8.2-cp37-cp37m-manylinux2014_x86_64.whl (10.1 MB)\n",
            "\u001b[K     |████████████████████████████████| 10.1 MB 51.3 MB/s \n",
            "\u001b[?25hCollecting requests-toolbelt==0.9.1\n",
            "  Downloading requests_toolbelt-0.9.1-py2.py3-none-any.whl (54 kB)\n",
            "\u001b[K     |████████████████████████████████| 54 kB 2.7 MB/s \n",
            "\u001b[?25hCollecting werkzeug==2.0.2\n",
            "  Downloading Werkzeug-2.0.2-py3-none-any.whl (288 kB)\n",
            "\u001b[K     |████████████████████████████████| 288 kB 55.2 MB/s \n",
            "\u001b[?25hRequirement already satisfied: cachetools==4.2.4 in /usr/local/lib/python3.7/dist-packages (from syft) (4.2.4)\n",
            "Collecting loguru==0.5.3\n",
            "  Downloading loguru-0.5.3-py3-none-any.whl (57 kB)\n",
            "\u001b[K     |████████████████████████████████| 57 kB 5.1 MB/s \n",
            "\u001b[?25hCollecting ascii-magic==1.6\n",
            "  Downloading ascii_magic-1.6-py3-none-any.whl (7.6 kB)\n",
            "Collecting requests==2.26.0\n",
            "  Downloading requests-2.26.0-py2.py3-none-any.whl (62 kB)\n",
            "\u001b[K     |████████████████████████████████| 62 kB 894 kB/s \n",
            "\u001b[?25hCollecting pyarrow==6.0.0\n",
            "  Downloading pyarrow-6.0.0-cp37-cp37m-manylinux_2_17_x86_64.manylinux2014_x86_64.whl (25.5 MB)\n",
            "\u001b[K     |████████████████████████████████| 25.5 MB 49.8 MB/s \n",
            "\u001b[?25hCollecting gevent==21.8.0\n",
            "  Downloading gevent-21.8.0-cp37-cp37m-manylinux_2_12_x86_64.manylinux2010_x86_64.whl (5.8 MB)\n",
            "\u001b[K     |████████████████████████████████| 5.8 MB 26.3 MB/s \n",
            "\u001b[?25hCollecting pymbolic==2021.1\n",
            "  Downloading pymbolic-2021.1.tar.gz (84 kB)\n",
            "\u001b[K     |████████████████████████████████| 84 kB 3.4 MB/s \n",
            "\u001b[?25hRequirement already satisfied: importlib-metadata==4.8.2 in /usr/local/lib/python3.7/dist-packages (from syft) (4.8.2)\n",
            "Collecting protobuf==3.19.1\n",
            "  Downloading protobuf-3.19.1-cp37-cp37m-manylinux_2_17_x86_64.manylinux2014_x86_64.whl (1.1 MB)\n",
            "\u001b[K     |████████████████████████████████| 1.1 MB 51.4 MB/s \n",
            "\u001b[?25hCollecting PyJWT==2.3.0\n",
            "  Downloading PyJWT-2.3.0-py3-none-any.whl (16 kB)\n",
            "Collecting colorama\n",
            "  Downloading colorama-0.4.4-py2.py3-none-any.whl (16 kB)\n",
            "Requirement already satisfied: Pillow in /usr/local/lib/python3.7/dist-packages (from ascii-magic==1.6->syft) (7.1.2)\n",
            "Requirement already satisfied: scipy in /usr/local/lib/python3.7/dist-packages (from autodp==0.2->syft) (1.4.1)\n",
            "Requirement already satisfied: cffi>=1.1 in /usr/local/lib/python3.7/dist-packages (from bcrypt==3.2.0->syft) (1.15.0)\n",
            "Requirement already satisfied: six>=1.4.1 in /usr/local/lib/python3.7/dist-packages (from bcrypt==3.2.0->syft) (1.15.0)\n",
            "Collecting zope.interface\n",
            "  Downloading zope.interface-5.4.0-cp37-cp37m-manylinux2010_x86_64.whl (251 kB)\n",
            "\u001b[K     |████████████████████████████████| 251 kB 56.3 MB/s \n",
            "\u001b[?25hRequirement already satisfied: greenlet<2.0,>=1.1.0 in /usr/local/lib/python3.7/dist-packages (from gevent==21.8.0->syft) (1.1.2)\n",
            "Requirement already satisfied: setuptools in /usr/local/lib/python3.7/dist-packages (from gevent==21.8.0->syft) (57.4.0)\n",
            "Collecting zope.event\n",
            "  Downloading zope.event-4.5.0-py2.py3-none-any.whl (6.8 kB)\n",
            "Requirement already satisfied: zipp>=0.5 in /usr/local/lib/python3.7/dist-packages (from importlib-metadata==4.8.2->syft) (3.6.0)\n",
            "Collecting pyparsing<3,>=2.0.2\n",
            "  Downloading pyparsing-2.4.7-py2.py3-none-any.whl (67 kB)\n",
            "\u001b[K     |████████████████████████████████| 67 kB 6.5 MB/s \n",
            "\u001b[?25hRequirement already satisfied: python-dateutil>=2.7.3 in /usr/local/lib/python3.7/dist-packages (from pandas==1.3.4->syft) (2.8.2)\n",
            "Requirement already satisfied: pytz>=2017.3 in /usr/local/lib/python3.7/dist-packages (from pandas==1.3.4->syft) (2018.9)\n",
            "Collecting email-validator>=1.0.3\n",
            "  Downloading email_validator-1.1.3-py2.py3-none-any.whl (18 kB)\n",
            "Collecting pytools>=2\n",
            "  Downloading pytools-2021.2.9.tar.gz (66 kB)\n",
            "\u001b[K     |████████████████████████████████| 66 kB 4.3 MB/s \n",
            "\u001b[?25hRequirement already satisfied: pytest>=2.3 in /usr/local/lib/python3.7/dist-packages (from pymbolic==2021.1->syft) (3.6.4)\n",
            "Requirement already satisfied: urllib3<1.27,>=1.21.1 in /usr/local/lib/python3.7/dist-packages (from requests==2.26.0->syft) (1.24.3)\n",
            "Requirement already satisfied: certifi>=2017.4.17 in /usr/local/lib/python3.7/dist-packages (from requests==2.26.0->syft) (2021.10.8)\n",
            "Requirement already satisfied: charset-normalizer~=2.0.0 in /usr/local/lib/python3.7/dist-packages (from requests==2.26.0->syft) (2.0.8)\n",
            "Requirement already satisfied: idna<4,>=2.5 in /usr/local/lib/python3.7/dist-packages (from requests==2.26.0->syft) (2.10)\n",
            "Requirement already satisfied: mpmath>=0.19 in /usr/local/lib/python3.7/dist-packages (from sympy==1.9->syft) (1.2.1)\n",
            "Requirement already satisfied: pycparser in /usr/local/lib/python3.7/dist-packages (from cffi>=1.1->bcrypt==3.2.0->syft) (2.21)\n",
            "Collecting dnspython>=1.15.0\n",
            "  Downloading dnspython-2.1.0-py3-none-any.whl (241 kB)\n",
            "\u001b[K     |████████████████████████████████| 241 kB 46.8 MB/s \n",
            "\u001b[?25hRequirement already satisfied: py>=1.5.0 in /usr/local/lib/python3.7/dist-packages (from pytest>=2.3->pymbolic==2021.1->syft) (1.11.0)\n",
            "Requirement already satisfied: more-itertools>=4.0.0 in /usr/local/lib/python3.7/dist-packages (from pytest>=2.3->pymbolic==2021.1->syft) (8.12.0)\n",
            "Requirement already satisfied: attrs>=17.4.0 in /usr/local/lib/python3.7/dist-packages (from pytest>=2.3->pymbolic==2021.1->syft) (21.2.0)\n",
            "Requirement already satisfied: pluggy<0.8,>=0.5 in /usr/local/lib/python3.7/dist-packages (from pytest>=2.3->pymbolic==2021.1->syft) (0.7.1)\n",
            "Requirement already satisfied: atomicwrites>=1.0 in /usr/local/lib/python3.7/dist-packages (from pytest>=2.3->pymbolic==2021.1->syft) (1.4.0)\n",
            "Requirement already satisfied: appdirs>=1.4.0 in /usr/local/lib/python3.7/dist-packages (from pytools>=2->pymbolic==2021.1->syft) (1.4.4)\n",
            "Building wheels for collected packages: autodp, forbiddenfruit, names, pymbolic, pytools\n",
            "  Building wheel for autodp (setup.py) ... \u001b[?25l\u001b[?25hdone\n",
            "  Created wheel for autodp: filename=autodp-0.2-py3-none-any.whl size=42460 sha256=3923b7a99bc414ef0cce83d632417107ae29189006a02175572e4b8772749f1b\n",
            "  Stored in directory: /root/.cache/pip/wheels/6a/95/85/6a1fc999268b5ed5aaeb387ff91f0063698b8a4db55e5c38c5\n",
            "  Building wheel for forbiddenfruit (setup.py) ... \u001b[?25l\u001b[?25hdone\n",
            "  Created wheel for forbiddenfruit: filename=forbiddenfruit-0.1.4-py3-none-any.whl size=21810 sha256=4ac4dbce71987945bb752ce75bee0aff7c28f694bc0471149672272ac0ca468b\n",
            "  Stored in directory: /root/.cache/pip/wheels/ab/b1/d4/d715c0964da2cbf9f773760b9cf9352405eb4e6a988ffd2606\n",
            "  Building wheel for names (setup.py) ... \u001b[?25l\u001b[?25hdone\n",
            "  Created wheel for names: filename=names-0.3.0-py3-none-any.whl size=803698 sha256=07a1504b470048e8b8f63e4e32d6e481acde9dfa85a37d42f0757710e895f22a\n",
            "  Stored in directory: /root/.cache/pip/wheels/05/ea/68/92f6b0669e478af9b7c3c524520d03050089e034edcc775c2b\n",
            "  Building wheel for pymbolic (setup.py) ... \u001b[?25l\u001b[?25hdone\n",
            "  Created wheel for pymbolic: filename=pymbolic-2021.1-py3-none-any.whl size=110410 sha256=d13e4af973b1d57e04dfcc7269da912b558944f882fc62de3aeb238fa2befb63\n",
            "  Stored in directory: /root/.cache/pip/wheels/2e/f9/34/d75a7263fdb5fd102d58693151064e229acdf1a8640f91e5be\n",
            "  Building wheel for pytools (setup.py) ... \u001b[?25l\u001b[?25hdone\n",
            "  Created wheel for pytools: filename=pytools-2021.2.9-py2.py3-none-any.whl size=62370 sha256=1c584be10e7cdde35696f805d9bab52d2a00b44e33c77f197c89b4b6a4d35a1d\n",
            "  Stored in directory: /root/.cache/pip/wheels/41/b9/6e/94bb014f6484b15ec77e7877f3a227609481ffd98db364504d\n",
            "Successfully built autodp forbiddenfruit names pymbolic pytools\n",
            "Installing collected packages: typing-extensions, numpy, dnspython, zope.interface, zope.event, requests, pytools, pyparsing, pydantic, email-validator, colorama, werkzeug, sympy, requests-toolbelt, PyNaCl, pymbolic, PyJWT, pyarrow, protobuf, pandas, packaging, names, loguru, gevent, forbiddenfruit, bcrypt, autodp, ascii-magic, syft\n",
            "  Attempting uninstall: typing-extensions\n",
            "    Found existing installation: typing-extensions 3.10.0.2\n",
            "    Uninstalling typing-extensions-3.10.0.2:\n",
            "      Successfully uninstalled typing-extensions-3.10.0.2\n",
            "  Attempting uninstall: numpy\n",
            "    Found existing installation: numpy 1.19.5\n",
            "    Uninstalling numpy-1.19.5:\n",
            "      Successfully uninstalled numpy-1.19.5\n",
            "  Attempting uninstall: requests\n",
            "    Found existing installation: requests 2.23.0\n",
            "    Uninstalling requests-2.23.0:\n",
            "      Successfully uninstalled requests-2.23.0\n",
            "  Attempting uninstall: pyparsing\n",
            "    Found existing installation: pyparsing 3.0.6\n",
            "    Uninstalling pyparsing-3.0.6:\n",
            "      Successfully uninstalled pyparsing-3.0.6\n",
            "  Attempting uninstall: werkzeug\n",
            "    Found existing installation: Werkzeug 1.0.1\n",
            "    Uninstalling Werkzeug-1.0.1:\n",
            "      Successfully uninstalled Werkzeug-1.0.1\n",
            "  Attempting uninstall: sympy\n",
            "    Found existing installation: sympy 1.7.1\n",
            "    Uninstalling sympy-1.7.1:\n",
            "      Successfully uninstalled sympy-1.7.1\n",
            "  Attempting uninstall: pyarrow\n",
            "    Found existing installation: pyarrow 3.0.0\n",
            "    Uninstalling pyarrow-3.0.0:\n",
            "      Successfully uninstalled pyarrow-3.0.0\n",
            "  Attempting uninstall: protobuf\n",
            "    Found existing installation: protobuf 3.17.3\n",
            "    Uninstalling protobuf-3.17.3:\n",
            "      Successfully uninstalled protobuf-3.17.3\n",
            "  Attempting uninstall: pandas\n",
            "    Found existing installation: pandas 1.1.5\n",
            "    Uninstalling pandas-1.1.5:\n",
            "      Successfully uninstalled pandas-1.1.5\n",
            "  Attempting uninstall: packaging\n",
            "    Found existing installation: packaging 21.3\n",
            "    Uninstalling packaging-21.3:\n",
            "      Successfully uninstalled packaging-21.3\n",
            "\u001b[31mERROR: pip's dependency resolver does not currently take into account all the packages that are installed. This behaviour is the source of the following dependency conflicts.\n",
            "yellowbrick 1.3.post1 requires numpy<1.20,>=1.16.0, but you have numpy 1.21.4 which is incompatible.\n",
            "google-colab 1.0.0 requires pandas~=1.1.0; python_version >= \"3.0\", but you have pandas 1.3.4 which is incompatible.\n",
            "google-colab 1.0.0 requires requests~=2.23.0, but you have requests 2.26.0 which is incompatible.\n",
            "flask 1.1.4 requires Werkzeug<2.0,>=0.15, but you have werkzeug 2.0.2 which is incompatible.\n",
            "datascience 0.10.6 requires folium==0.2.1, but you have folium 0.8.3 which is incompatible.\n",
            "arviz 0.11.4 requires typing-extensions<4,>=3.7.4.3, but you have typing-extensions 4.0.0 which is incompatible.\n",
            "albumentations 0.1.12 requires imgaug<0.2.7,>=0.2.5, but you have imgaug 0.2.9 which is incompatible.\u001b[0m\n",
            "Successfully installed PyJWT-2.3.0 PyNaCl-1.4.0 ascii-magic-1.6 autodp-0.2 bcrypt-3.2.0 colorama-0.4.4 dnspython-2.1.0 email-validator-1.1.3 forbiddenfruit-0.1.4 gevent-21.8.0 loguru-0.5.3 names-0.3.0 numpy-1.21.4 packaging-21.2 pandas-1.3.4 protobuf-3.19.1 pyarrow-6.0.0 pydantic-1.8.2 pymbolic-2021.1 pyparsing-2.4.7 pytools-2021.2.9 requests-2.26.0 requests-toolbelt-0.9.1 syft-0.6.0 sympy-1.9 typing-extensions-4.0.0 werkzeug-2.0.2 zope.event-4.5.0 zope.interface-5.4.0\n"
          ]
        },
        {
          "output_type": "display_data",
          "data": {
            "application/vnd.colab-display-data+json": {
              "pip_warning": {
                "packages": [
                  "google",
                  "numpy",
                  "pandas",
                  "pyparsing"
                ]
              }
            }
          },
          "metadata": {}
        }
      ]
    },
    {
      "cell_type": "code",
      "metadata": {
        "id": "YGAsAddQAGIo"
      },
      "source": [
        "\n",
        "%load_ext tensorboard\n",
        "\n",
        "%matplotlib inline"
      ],
      "execution_count": 6,
      "outputs": []
    },
    {
      "cell_type": "code",
      "metadata": {
        "id": "EhEmzqcbLnqm"
      },
      "source": [
        "# from pytorch tutorial: https://pytorch.org/tutorials/beginner/blitz/cifar10_tutorial.html\n",
        "import os\n",
        "import tarfile\n",
        "import numpy as np\n",
        "import toolz \n",
        "import datetime\n",
        "import matplotlib.pyplot as plt\n",
        "from collections import defaultdict, namedtuple, OrderedDict\n",
        "\n",
        "import torch\n",
        "import torch.nn as nn\n",
        "import torch.nn.functional as F\n",
        "from torch.utils.tensorboard import SummaryWriter\n",
        "import torchvision\n",
        "#import torchvision.transforms as transforms\n",
        "import torchvision.transforms as tt\n",
        "import torchvision.models as models\n",
        "\n",
        "from torchvision import datasets, transforms, models\n",
        "from torch.utils.data import DataLoader, random_split, Subset\n",
        "from torchvision.datasets.utils import download_url\n",
        "from torchvision.datasets import ImageFolder\n",
        "from torchvision.utils import make_grid\n",
        "\n",
        "# privacy\n",
        "# https://opacus.ai/tutorials/building_text_classifier\n",
        "#from opacus import PrivacyEngine\n",
        "#from opacus.dp_model_inspector import DPModelInspector\n",
        "#from opacus.utils import module_modification"
      ],
      "execution_count": 7,
      "outputs": []
    },
    {
      "cell_type": "code",
      "metadata": {
        "id": "SVwE-1GXh7xI"
      },
      "source": [
        "torch.manual_seed(0)\n",
        "np.random.seed(0)\n",
        "#torch.use_deterministic_algorithms(False)"
      ],
      "execution_count": 8,
      "outputs": []
    },
    {
      "cell_type": "markdown",
      "metadata": {
        "id": "Ov7_7maE2R7X"
      },
      "source": [
        "## load data"
      ]
    },
    {
      "cell_type": "code",
      "metadata": {
        "colab": {
          "base_uri": "https://localhost:8080/",
          "height": 439,
          "referenced_widgets": [
            "81397295d98146d4b182454b6ecc9f02",
            "f1b289ab193f40c28795fe20a1d7c423",
            "4d49e16f124f4d0b8743f0db68c16924",
            "8b3820016fcc42fe805accd2500f7cc2",
            "55911fed2fb9447ab179ed137c7a9c83",
            "05094957ccc849438395291fbe49bff1",
            "aa65d2126f924435bd2e5be79870c533",
            "10ada1fbf862485189f61079d5a71b79",
            "1613be24596a4cafac0a37979ee5e9d8",
            "2e0cb1895fee4b23b6eabf2ab1290399",
            "7ee5e7267ba4465883262a10b8d157eb",
            "fbdffb312051425ab59639f1d2452969",
            "4f2efae0ce424d0e96e8ae4ad5b67d69",
            "1b81a29792ed40249c238a4399f69df1",
            "b3f8b145a44242f898bca1d0c9f04420",
            "2d1b1bd056854a77ae122f38d754e30d",
            "d6c1de019ece49699cf2e9386fb5e2f6",
            "791cce2b8aef44d1a69a471e61c2eec8",
            "7235622624894b6c80640fc9ad6bd2b3",
            "2b35b94b98504ac7b3b731e99dc55ebd",
            "16ace3cd61ab42d9aef40daef0904948",
            "b64888d7a0814e42a0550ffba1e5f530",
            "799c3942e697471db810f60c95834754",
            "2a6aff2471314eb9bbd61b55898b9f18",
            "c2a108611cd5458287e27b15ddf85290",
            "aeb5fb2cc8b84d43b4e577e11655e6d0",
            "f2603336b6ab4ea7a46847d7646ff35c",
            "face78c76d2848a181490348ad7a3ed6",
            "fb2937b4e3684a1489cccbce2932e8dc",
            "2db5bb09bf5f48bc9580a4650825cf70",
            "4eafd197545e4fb89de0ae3f18a6fe48",
            "696adb4a36cb4082a6c306272762abee",
            "3c22d4e8edec41659a39fa38706844d2",
            "3da43ac777dc4813962de12c15c187e1",
            "57256988cb0d42488e9c63a3d57956c2",
            "d2bd028325734cd6a9a53f027791cf2e",
            "7d4ee78f552040f19c48ea0f102dfac0",
            "b443c9acbe91488db77a66d06f5d8542",
            "5b11067f082f4c798aaea7941e001eff",
            "e566ff7d3a9a48cf9d6c6ed047b3b728",
            "a4f854918e5a41689c3822095fe0943a",
            "efbe4f57ef7f4aed84db77c254c47d4a",
            "3ef42eef60ae43f89d75d59d92d559db",
            "e5a4fc20dcc34675a72ff064ea52c101"
          ]
        },
        "id": "TAYKkZiyMXmS",
        "outputId": "dc1f7ae5-b417-442a-d48c-0cb5e114bd1d"
      },
      "source": [
        "transform = transforms.Compose([\n",
        "    transforms.ToTensor(),\n",
        "    transforms.Normalize((0.5, ), (0.5, )),\n",
        "])\n",
        "\n",
        "# beep boop baap - if it breaks -it's because I am reusing the datasets\n",
        "trainset = datasets.MNIST(\n",
        "    \"~/.pytorch/MNIST_data/\", train=True, download=True, transform=transform)\n",
        "testset = datasets.MNIST(\n",
        "      \"~/.pytorch/MNIST_data/\", train=False, download=True, transform=transform)\n",
        "\n",
        "\n",
        "batch_size = 64\n",
        "load = lambda dataset : torch.utils.data.DataLoader(dataset, batch_size=batch_size,\n",
        "                                          shuffle=False, num_workers=2)\n",
        "\n",
        "trainloader, testloader = load(trainset), load(testset)"
      ],
      "execution_count": 9,
      "outputs": [
        {
          "output_type": "stream",
          "name": "stdout",
          "text": [
            "Downloading http://yann.lecun.com/exdb/mnist/train-images-idx3-ubyte.gz\n",
            "Downloading http://yann.lecun.com/exdb/mnist/train-images-idx3-ubyte.gz to /root/.pytorch/MNIST_data/MNIST/raw/train-images-idx3-ubyte.gz\n"
          ]
        },
        {
          "output_type": "display_data",
          "data": {
            "application/vnd.jupyter.widget-view+json": {
              "model_id": "81397295d98146d4b182454b6ecc9f02",
              "version_minor": 0,
              "version_major": 2
            },
            "text/plain": [
              "  0%|          | 0/9912422 [00:00<?, ?it/s]"
            ]
          },
          "metadata": {}
        },
        {
          "output_type": "stream",
          "name": "stdout",
          "text": [
            "Extracting /root/.pytorch/MNIST_data/MNIST/raw/train-images-idx3-ubyte.gz to /root/.pytorch/MNIST_data/MNIST/raw\n",
            "\n",
            "Downloading http://yann.lecun.com/exdb/mnist/train-labels-idx1-ubyte.gz\n",
            "Downloading http://yann.lecun.com/exdb/mnist/train-labels-idx1-ubyte.gz to /root/.pytorch/MNIST_data/MNIST/raw/train-labels-idx1-ubyte.gz\n"
          ]
        },
        {
          "output_type": "display_data",
          "data": {
            "application/vnd.jupyter.widget-view+json": {
              "model_id": "fbdffb312051425ab59639f1d2452969",
              "version_minor": 0,
              "version_major": 2
            },
            "text/plain": [
              "  0%|          | 0/28881 [00:00<?, ?it/s]"
            ]
          },
          "metadata": {}
        },
        {
          "output_type": "stream",
          "name": "stdout",
          "text": [
            "Extracting /root/.pytorch/MNIST_data/MNIST/raw/train-labels-idx1-ubyte.gz to /root/.pytorch/MNIST_data/MNIST/raw\n",
            "\n",
            "Downloading http://yann.lecun.com/exdb/mnist/t10k-images-idx3-ubyte.gz\n",
            "Downloading http://yann.lecun.com/exdb/mnist/t10k-images-idx3-ubyte.gz to /root/.pytorch/MNIST_data/MNIST/raw/t10k-images-idx3-ubyte.gz\n"
          ]
        },
        {
          "output_type": "display_data",
          "data": {
            "application/vnd.jupyter.widget-view+json": {
              "model_id": "799c3942e697471db810f60c95834754",
              "version_minor": 0,
              "version_major": 2
            },
            "text/plain": [
              "  0%|          | 0/1648877 [00:00<?, ?it/s]"
            ]
          },
          "metadata": {}
        },
        {
          "output_type": "stream",
          "name": "stdout",
          "text": [
            "Extracting /root/.pytorch/MNIST_data/MNIST/raw/t10k-images-idx3-ubyte.gz to /root/.pytorch/MNIST_data/MNIST/raw\n",
            "\n",
            "Downloading http://yann.lecun.com/exdb/mnist/t10k-labels-idx1-ubyte.gz\n",
            "Downloading http://yann.lecun.com/exdb/mnist/t10k-labels-idx1-ubyte.gz to /root/.pytorch/MNIST_data/MNIST/raw/t10k-labels-idx1-ubyte.gz\n"
          ]
        },
        {
          "output_type": "display_data",
          "data": {
            "application/vnd.jupyter.widget-view+json": {
              "model_id": "3da43ac777dc4813962de12c15c187e1",
              "version_minor": 0,
              "version_major": 2
            },
            "text/plain": [
              "  0%|          | 0/4542 [00:00<?, ?it/s]"
            ]
          },
          "metadata": {}
        },
        {
          "output_type": "stream",
          "name": "stdout",
          "text": [
            "Extracting /root/.pytorch/MNIST_data/MNIST/raw/t10k-labels-idx1-ubyte.gz to /root/.pytorch/MNIST_data/MNIST/raw\n",
            "\n"
          ]
        }
      ]
    },
    {
      "cell_type": "code",
      "metadata": {
        "id": "HDBl8cDnASZy"
      },
      "source": [
        "def split_dataset_federated(count):\n",
        "  people = [sy.VirtualWorker(hook, id=f\"worker_{i}\") for i in range(count)]\n",
        "\n",
        "  federated_train_loader = sy.FederatedDataLoader(\n",
        "      train_set.federate(people), batch_size=64, shuffle=False) # split the data across Jake and John\n",
        "\n",
        "  test_loader = torch.utils.data.DataLoader(\n",
        "      test_set, batch_size=64, shuffle=False)\n",
        "  \n",
        "  return people, federated_train_loader, test_loader\n",
        "\n"
      ],
      "execution_count": 10,
      "outputs": []
    },
    {
      "cell_type": "markdown",
      "metadata": {
        "id": "s_slwtcbdtgL"
      },
      "source": [
        "## train model helper functions"
      ]
    },
    {
      "cell_type": "code",
      "metadata": {
        "id": "aliJsxPebCdZ"
      },
      "source": [
        "# transfer to GPU\n",
        "def get_default_device():\n",
        "    \"\"\"Pick GPU if available, else CPU\"\"\"\n",
        "    return torch.device('cuda') if torch.cuda.is_available() else torch.device('cpu')\n",
        "    \n",
        "def to_device(data, device):\n",
        "    \"\"\"Move tensor(s) to chosen device\"\"\"\n",
        "    if isinstance(data, (list,tuple)):\n",
        "        return [to_device(x, device) for x in data]\n",
        "    return data.to(device, non_blocking=True)\n",
        "\n",
        "class DeviceDataLoader():\n",
        "    \"\"\"Wrap a dataloader to move data to a device\"\"\"\n",
        "    def __init__(self, dl, device):\n",
        "        self.dl = dl\n",
        "        self.device = device\n",
        "        \n",
        "    def __iter__(self):\n",
        "        \"\"\"Yield a batch of data after moving it to device\"\"\"\n",
        "        for b in self.dl: \n",
        "            yield to_device(b, self.device)\n",
        "    def __len__(self):\n",
        "        \"\"\"Number of batches\"\"\"\n",
        "        return len(self.dl)\n",
        "\n",
        "device = get_default_device()\n",
        "# Transfering data to the device in use (In our case GPU)\n",
        "trainloader = DeviceDataLoader(trainloader, device)\n",
        "testloader = DeviceDataLoader(testloader, device)"
      ],
      "execution_count": 11,
      "outputs": []
    },
    {
      "cell_type": "code",
      "metadata": {
        "id": "RAoXi__KdkYA"
      },
      "source": [
        "def compute_accuracy(outputs, labels):\n",
        "    _, preds = torch.max(outputs, dim=1)\n",
        "    return torch.tensor(torch.sum(preds == labels).item() / len(preds))\n",
        "\n",
        "def epoch_end(epoch, result):\n",
        "      print(f\"Epoch [{epoch}], train_loss: {result['train_loss']},\",\n",
        "            f\"val_loss: {result['val_loss']}, val_acc: {result['val_acc']}\")\n",
        "\n",
        "def validation_epoch_end(outputs):\n",
        "    batch_losses = [x['val_loss'] for x in outputs]\n",
        "    epoch_loss = torch.stack(batch_losses).mean()   # Combine losses\n",
        "    batch_accs = [x['val_acc'] for x in outputs]\n",
        "    epoch_acc = torch.stack(batch_accs).mean()      # Combine accuracies\n",
        "    return {'val_loss': epoch_loss.item(), 'val_acc': epoch_acc.item()}\n",
        "    \n",
        "def validation_step(model, batch, criterion):\n",
        "    images, labels = batch \n",
        "    out = model(images)                    # Generate predictions\n",
        "    loss = criterion(out, labels)   # Calculate loss\n",
        "    acc = compute_accuracy(out, labels)           # Calculate accuracy\n",
        "    return {'val_loss': loss.detach(), 'val_acc': acc}\n",
        "\n",
        "def training_step(model, batch, criterion):\n",
        "    images, labels = batch \n",
        "    out = model(images) # Generate predictions\n",
        "    return criterion(out, labels) # Calculate loss\n",
        "\n",
        "    \n",
        "\n",
        "def get_num_correct(preds, labels):\n",
        "    return preds.argmax(dim=1).eq(labels).sum().item()\n",
        "\n",
        "def accuracy(preds, labels):\n",
        "    return (preds == labels).mean()\n",
        "\n",
        "@torch.no_grad()\n",
        "def evaluate(model, validation_loader, criterion):\n",
        "    model.eval()\n",
        "    outputs = [validation_step(model, batch, criterion) for batch in validation_loader]\n",
        "    return validation_epoch_end(outputs)\n",
        "\n",
        "\n",
        "\n",
        "# https://opacus.ai/tutorials/building_text_classifier\n",
        "batch_size = BATCH_SIZE = 32\n",
        "VIRTUAL_BATCH_SIZE = 512\n",
        "assert VIRTUAL_BATCH_SIZE % BATCH_SIZE == 0 # VIRTUAL_BATCH_SIZE should be divisible by BATCH_SIZE\n",
        "N_ACCUMULATION_STEPS = int(VIRTUAL_BATCH_SIZE / BATCH_SIZE)\n",
        "\n",
        "# to do: put these in a nice place\n",
        "MAX_GRAD_NORM = 0.1\n",
        "SAMPLE_RATE = BATCH_SIZE / len(trainset)\n",
        "\n",
        "def train_single_epoch(*, model, train_loader, train_losses,\n",
        "                       lrs, optimizer, sched, grad_clip, \n",
        "                       accuracies = None,\n",
        "                       criterion = None):\n",
        "    model.train()\n",
        "    if not criterion:\n",
        "      criterion = nn.CrossEntropyLoss()\n",
        "    total_correct = 0\n",
        "\n",
        "    epoch_train_losses, epoch_lrs, epoch_accuracies = [], [], []\n",
        "    for batch_id, (images, target) in enumerate(train_loader):\n",
        "        images = images.to(device)\n",
        "        target = target.to(device)\n",
        "\n",
        "        output= model(images)\n",
        "        loss = criterion(output, target)\n",
        "\n",
        "        preds = np.argmax(output.detach().cpu().numpy(), axis=1)\n",
        "        labels = target.detach().cpu().numpy()        \n",
        "\n",
        "\n",
        "        # get stats\n",
        "        total_correct+= get_num_correct(output, target) \n",
        "        acc = accuracy(preds, labels) \n",
        "        epoch_accuracies.append(acc)\n",
        "        epoch_train_losses.append(loss.item())\n",
        "        epoch_lrs.append(optimizer.param_groups[0]['lr'])\n",
        "\n",
        "        loss.backward()\n",
        "        \n",
        "        # Gradient clipping\n",
        "        if grad_clip: \n",
        "            nn.utils.clip_grad_value_(model.parameters(), MAX_GRAD_NORM)    \n",
        "\n",
        "        optimizer.step()\n",
        "        optimizer.zero_grad() # https://stackoverflow.com/questions/48001598/why-do-we-need-to-call-zero-grad-in-pytorch\n",
        "        # update learning rate\n",
        "        sched.step\n",
        "    \n",
        "    train_losses.append(epoch_train_losses)\n",
        "    lrs.append(epoch_lrs)\n",
        "    accuracies.append(epoch_accuracies)\n",
        "    return total_correct\n",
        "\n",
        "\n",
        "def log_epoch(model, epoch, total_correct, \n",
        "              train_loader, val_loader, \n",
        "              lrs, train_losses, N, \n",
        "              writer, criterion, accuracies):\n",
        "        train_loss = np.mean(train_losses[-1])\n",
        "        train_accuracy = np.mean(accuracies[-1])\n",
        "        # add the loss from the entire previous batch\n",
        "        #total_loss = sum([t.item() for t in train_losses[-len(train_loader):]])\n",
        "\n",
        "        writer.add_scalar(\"train_Loss\", train_loss, epoch)\n",
        "        writer.add_scalar(\"train_Correct\", total_correct, epoch)\n",
        "        #writer.add_scalar(\"Train_Accuracy\", total_correct/ N, epoch)\n",
        "        writer.add_scalar(\"Train_Accuracy\", train_accuracy, epoch)\n",
        "         \n",
        "\n",
        "        for name, param in model.named_parameters():\n",
        "          writer.add_histogram(name, param, epoch)  \n",
        "        \n",
        "        # Validation phase\n",
        "        result = evaluate(model, val_loader, criterion) ## this is where the difference between the accuracy definitions lies.\n",
        "        writer.add_scalar(\"val_Loss\", result[\"val_loss\"], epoch)\n",
        "        writer.add_scalar(\"val_Accuracy\", result[\"val_acc\"], epoch)\n",
        "        # logging information\n",
        "        result['train_loss'] = train_loss\n",
        "        result['lrs'] = lrs if lrs else []\n",
        "        return result \n",
        "\n",
        "# Lookie here # https://jovian.ai/roubish/final-course-assignment\n",
        "def train_model(*, model, epochs, \n",
        "                max_lr, train_loader, \n",
        "                val_loader, weight_decay=0, \n",
        "                grad_clip=None, optimizer=None, \n",
        "                writer = None, criterion = None):\n",
        "  \n",
        "    torch.cuda.empty_cache()\n",
        "    history = []\n",
        "    # Set up cutom optimizer with weight decay\n",
        "    if not optimizer:\n",
        "      optimizer = torch.optim.SGD(model.parameters(), \n",
        "                                  max_lr, weight_decay=weight_decay)\n",
        "    # Set up one-cycle learning rate scheduler\n",
        "    sched = torch.optim.lr_scheduler.OneCycleLR(optimizer, max_lr, epochs=epochs, \n",
        "                                                steps_per_epoch=len(train_loader))\n",
        "    if not criterion:\n",
        "      criterion = nn.CrossEntropyLoss()\n",
        "    first_start = datetime.datetime.now()\n",
        "    \n",
        "    train_losses, lrs, accuracies = [], [], []\n",
        "\n",
        "    for epoch in range(epochs):\n",
        "        start = datetime.datetime.now()\n",
        "        print(f\"Training epoch: {epoch}/{epochs}\")\n",
        "        # Training Phase \n",
        "        model.train()\n",
        "\n",
        "        \n",
        "        # train the epoch\n",
        "        total_correct = train_single_epoch(model = model, train_loader= train_loader, \n",
        "                                           train_losses= train_losses,\n",
        "                                           lrs = lrs, optimizer= optimizer, \n",
        "                                           sched = sched, grad_clip = grad_clip                                           ,\n",
        "                                           criterion = criterion, accuracies= accuracies)  \n",
        "\n",
        "        result = log_epoch(model, epoch, total_correct, \n",
        "                           train_loader, val_loader, lrs, train_losses, \n",
        "                           N = len(trainset), writer = writer, \n",
        "                           criterion= criterion, accuracies= accuracies)\n",
        "        # we don't need this for now\n",
        "        epoch_end(epoch, result)\n",
        "        history.append(result)\n",
        "        print(f\"time for epoch {epoch} : {(datetime.datetime.now() - start)}\")\n",
        "    \n",
        "    print(f\"total time: {(datetime.datetime.now() - first_start)}\")\n",
        "    return history\n",
        "\n",
        "\n",
        "def select_n_random(data, labels, n=100):\n",
        "    ''' Selects n random datapoints and their corresponding labels from a dataset '''\n",
        "    assert len(data) == len(labels)\n",
        "    perm = torch.randperm(len(data))\n",
        "    rand_labels = [trainset.targets[i] for i in perm][:n]\n",
        "    return data[perm][:n], rand_labels\n",
        "\n",
        "def log_model_to_tensorboard(model, dataset, writer = None, n = 32):\n",
        "  \"\"\" log model information to tensorboard (things like model graph and features) \"\"\"\n",
        "  # log to tensorboard writer\n",
        "  #class_labels\n",
        "  # select random images and their target indices\n",
        "  if not writer:\n",
        "    return\n",
        "  images, labels = select_n_random(dataset.data, dataset.targets, n = n)\n",
        "  writer.add_graph(model, images)\n",
        "\n"
      ],
      "execution_count": 12,
      "outputs": []
    },
    {
      "cell_type": "code",
      "metadata": {
        "id": "EvcPXQksa8lp"
      },
      "source": [
        "def save_model(model, path):\n",
        "    \"\"\" helper function to save model\"\"\"\n",
        "    #torch.save(model.state_dict(), 'cifar100-resnet12layers.pth')\n",
        "    torch.save(model.state_dict(), path)\n",
        "\n",
        "def load_model(path, base_model, map_location = None):\n",
        "    \"\"\" helper function to load model\"\"\"\n",
        "    model = base_model\n",
        "    loaded_dict = torch.load(path, map_location = map_location)\n",
        "    for name, buffer in model.named_buffers():\n",
        "      if name not in loaded_dict:\n",
        "        loaded_dict[name] = buffer\n",
        "\n",
        "    model.load_state_dict(loaded_dict)  \n",
        "    model = to_device(model, device) \n",
        "    return model\n"
      ],
      "execution_count": 13,
      "outputs": []
    },
    {
      "cell_type": "code",
      "metadata": {
        "id": "f0gfGOrQ6YNB"
      },
      "source": [
        "ASSETS_PATH = \"/content/drive/MyDrive/academics/columbia/neural_networks/project/data\"\n",
        "ASSETS_BASE_PATH = os.path.join(ASSETS_PATH, \"round_6\")"
      ],
      "execution_count": 14,
      "outputs": []
    },
    {
      "cell_type": "code",
      "metadata": {
        "id": "D2a_Eh-zvPoX"
      },
      "source": [
        "\n",
        "def get_new_optimizer(model ):\n",
        "  optimizer_type = torch.optim.Adam\n",
        "  optimizer_type = torch.optim.RMSprop\n",
        "  return optimizer_type(model.parameters(), max_lr, weight_decay=weight_decay)\n",
        "  \n",
        "def train_and_log(*, model, \n",
        "                  epochs, \n",
        "                  trainloader, testloader, \n",
        "                  tensorboard_name = ASSETS_BASE_PATH+ \"tb.pth\",\n",
        "                  max_lr= 1.e-3, \n",
        "                  grad_clip = 0.3, #MAX_GRAD_NORM, \n",
        "                  weight_decay=1.e-4, #weight_decay, \n",
        "                  optimizer = None, criterion = None):\n",
        "  if not optimizer:\n",
        "    optimizer = torch.optim.Adam(model.parameters(), max_lr, weight_decay=weight_decay)\n",
        "  if not criterion:\n",
        "    criterion = nn.CrossEntropyLoss()\n",
        "\n",
        "  with SummaryWriter(tensorboard_name) as writer_:\n",
        "      #result = evaluate(model, testloader) # need to train first\n",
        "      history = train_model(model = model, epochs = EPOCHS,max_lr= max_lr, \n",
        "                          train_loader =trainloader, val_loader = testloader, \n",
        "                          weight_decay=weight_decay,\n",
        "                          grad_clip=MAX_GRAD_NORM,\n",
        "                          optimizer=optimizer, writer = writer_, \n",
        "                          criterion = criterion)\n",
        "      history.append(evaluate(model = model, validation_loader = testloader, criterion= criterion))\n",
        "      return history\n",
        "\n",
        "\n",
        "def do_it_all( *, model, model_name, save_path, tensorboard_path, trainloader_, val_loader_,\n",
        "              num_classes = 100, \n",
        "              device= device, epochs= 30):\n",
        "\n",
        "    ret = {\n",
        "        \"save_path\" : save_path,\n",
        "        \"history\": None,\n",
        "        \"model_name\": model_name\n",
        "    }\n",
        "\n",
        "    optimizer_type = torch.optim.Adam\n",
        "  \n",
        "    if os.path.exists(save_path):\n",
        "        print(f\"path {save_path} already saved to. SKIPPING.\")\n",
        "        return ret\n",
        "    optimizer = get_new_optimizer(model)\n",
        "    \n",
        "    history = train_and_log(model = model,\n",
        "                            epochs = epochs, \n",
        "                            trainloader=trainloader_, \n",
        "                            testloader=val_loader_, \n",
        "                            tensorboard_name = tensorboard_path,\n",
        "                            max_lr= max_lr, \n",
        "                            grad_clip = MAX_GRAD_NORM, \n",
        "                            weight_decay=weight_decay, \n",
        "                            optimizer = optimizer)\n",
        "\n",
        "    save_model(model, save_path)\n",
        "\n",
        "    ret[\"history\"] = history \n",
        "    return ret\n"
      ],
      "execution_count": 15,
      "outputs": []
    },
    {
      "cell_type": "markdown",
      "metadata": {
        "id": "Ql6p0lfmaJX7"
      },
      "source": [
        "## model params\n"
      ]
    },
    {
      "cell_type": "code",
      "metadata": {
        "id": "6KWnS2_dZ1gA"
      },
      "source": [
        "### defaults behaviors:\n",
        "\n",
        "MAX_GRAD_NORM = 0.3\n",
        "batch_size = BATCH_SIZE = 32\n",
        "SAMPLE_RATE = BATCH_SIZE / len(trainset)\n",
        "\n",
        "VIRTUAL_BATCH_SIZE = 64\n",
        "assert VIRTUAL_BATCH_SIZE % BATCH_SIZE == 0 # VIRTUAL_BATCH_SIZE should be divisible by BATCH_SIZE\n",
        "N_ACCUMULATION_STEPS = int(VIRTUAL_BATCH_SIZE / BATCH_SIZE)\n",
        "\n",
        "max_lr = 1e-3 #0.01\n",
        "weight_decay =1e-4\n",
        "\n",
        "DELTA = 1. * 1e-5\n",
        "EPSILON = 2.\n",
        "\n",
        "optimizer_type = torch.optim.Adam\n",
        "criterion = nn.CrossEntropyLoss()\n",
        "EPOCHS = 20\n"
      ],
      "execution_count": 16,
      "outputs": []
    },
    {
      "cell_type": "code",
      "metadata": {
        "id": "s6mfLA4rIfOV"
      },
      "source": [
        "class Model(nn.Module):\n",
        "    def __init__(self):\n",
        "        super(Model, self).__init__()\n",
        "        self.fc1 = nn.Linear(784, 500)\n",
        "        self.fc2 = nn.Linear(500, 10)\n",
        "\n",
        "    def forward(self, x):\n",
        "        x = x.view(-1, 784)\n",
        "        x = self.fc1(x)\n",
        "        x = F.relu(x)\n",
        "        x = self.fc2(x)\n",
        "        return F.log_softmax(x, dim=1)\n"
      ],
      "execution_count": 17,
      "outputs": []
    },
    {
      "cell_type": "markdown",
      "metadata": {
        "id": "w8sE_LIchw4e"
      },
      "source": [
        "## PATE\n"
      ]
    },
    {
      "cell_type": "code",
      "metadata": {
        "id": "3iPEDZRzFTtk"
      },
      "source": [
        "# 1 - split the dataset into uneven chunks\n",
        "# 2 - train the models, save them, and store where you are saving them (persist the data somewhere like to a yaml, or you will lose it)\n",
        "# 3 - have each model vote on each data point in the test-dataset, store that to a yaml\n",
        "# 4 - "
      ],
      "execution_count": 18,
      "outputs": []
    },
    {
      "cell_type": "code",
      "metadata": {
        "id": "JfUh6sIzHF7T"
      },
      "source": [
        "import logging"
      ],
      "execution_count": 19,
      "outputs": []
    },
    {
      "cell_type": "code",
      "metadata": {
        "id": "A31EnzLhRUNI"
      },
      "source": [
        "import yaml\n",
        "from pathlib import Path"
      ],
      "execution_count": 20,
      "outputs": []
    },
    {
      "cell_type": "code",
      "metadata": {
        "id": "sWIy-GnCFgh9"
      },
      "source": [
        "def open_yaml(filename):\n",
        "  \"\"\" return the contents of yaml as a dictionary \"\"\"\n",
        "  path = Path(filename)\n",
        "  if not path.is_file():\n",
        "      return None\n",
        "  try:\n",
        "      with open(path, \"r\") as infile:\n",
        "          return yaml.safe_load(infile)\n",
        "  except Exception as e:\n",
        "      logging.info(e)\n",
        "  return {}\n",
        "\n",
        "def write_yaml(filename, d):\n",
        "    \"\"\" dump contents of d into filename, in yaml format\"\"\"\n",
        "    with open(filename, 'w') as file:\n",
        "        yaml.dump(d, file, default_flow_style=False)\n"
      ],
      "execution_count": 21,
      "outputs": []
    },
    {
      "cell_type": "code",
      "metadata": {
        "id": "3_VTK6UiHZyR"
      },
      "source": [
        "def get_data_loaders(data_loader, num_teachers):\n",
        "    \"\"\" Function to create data loaders for the Teacher classifier \"\"\"\n",
        "    # data per teacher\n",
        "    data_per_teacher = len(data_loader) // num_teachers\n",
        "\n",
        "    return [torch.utils.data.DataLoader(\n",
        "                            Subset(data_loader, \n",
        "                                   np.arange(0,data_per_teacher)+(data_per_teacher * teacher)), \n",
        "                            batch_size=batch_size) \n",
        "                      for teacher in range(num_teachers)]\n",
        "    \"\"\"\n",
        "    teacher_loaders = []\n",
        "    for i in range(data_size):\n",
        "        indices = list(range(i*data_size, (i+1)*data_size))\n",
        "        subset_data = Subset(data_loader, indices)\n",
        "        loader = torch.utils.data.DataLoader(subset_data, batch_size=batch_size)\n",
        "        teacher_loaders.append(loader)\n",
        "    return teacher_loaders\n",
        "    \"\"\"\n",
        "\n",
        "N = len(trainset)\n",
        "percent = int(N/100)\n",
        "lengths = [percent*30, percent * 20, percent * 15, percent * 10, percent * 5,percent * 5, percent * 5, percent * 5,percent * 5]\n",
        "\n",
        "def get_uneven_data_loaders(dataset, lengths):\n",
        "    return torch.utils.data.random_split(dataset, lengths)\n",
        "    \n",
        "\n"
      ],
      "execution_count": 22,
      "outputs": []
    },
    {
      "cell_type": "code",
      "metadata": {
        "id": "JXwLct1UIJR8"
      },
      "source": [
        "len(trainset)\n",
        "import datetime"
      ],
      "execution_count": 23,
      "outputs": []
    },
    {
      "cell_type": "code",
      "metadata": {
        "colab": {
          "base_uri": "https://localhost:8080/"
        },
        "id": "vb6LoyrFftAJ",
        "outputId": "d03244d2-36d2-4a6e-8689-843bd9fa6687"
      },
      "source": [
        "# Note, \n",
        "# experimnet 1:\n",
        "\"\"\"\n",
        "EPOCHS = 25\n",
        "num_teachers = 600 #10 \n",
        "\"\"\"\n",
        "EPOCHS = 25\n",
        "num_teachers = 100 \n",
        "\n",
        "batch_size = 50 \n",
        "prefix  = \"\"# \"test_1\"\n",
        "\n",
        "teacher_loaders = get_data_loaders(trainset, num_teachers)\n",
        "\n",
        "experiments_base_save = os.path.join(f\"{ASSETS_BASE_PATH}\", prefix)\n",
        "\n",
        "meta_yaml = os.path.join(experiments_base_save, \"meta.yaml\") \n",
        "\n",
        "meta = open_yaml(meta_yaml)\n",
        "if not meta:\n",
        "  meta = {}\n",
        "  \n",
        "num_classes = len(trainset.class_to_idx)\n",
        "\n",
        "for ind, teacher_loader in enumerate(teacher_loaders): \n",
        "    start = datetime.datetime.now()\n",
        "    model_name = f\"model_{ind}_of_{num_teachers}\"\n",
        "    print(model_name)\n",
        "    model = to_device(Model(), device)\n",
        "    \n",
        "    experiments_base_save = os.path.join(f\"{experiments_base_save}\", model_name)\n",
        "    # make the directory to which we will save stuff\n",
        "    os.makedirs(os.path.dirname(experiments_base_save), exist_ok =True) \n",
        "    tensorboard_path = experiments_base_save \n",
        "    save_path = experiments_base_save + \".pth\"\n",
        "    print(f\"tensorboard path is {tensorboard_path}\")\n",
        "    print(f\"save_path is {save_path}\")\n",
        "    \n",
        "    # \n",
        "    d = do_it_all(model = model, model_name = model_name,\n",
        "                                     save_path = save_path, tensorboard_path= tensorboard_path, \n",
        "                                     trainloader_ = teacher_loader, val_loader_ = testloader,\n",
        "                                     num_classes = num_classes, device = device, epochs = EPOCHS)\n",
        "    print(ind)\n",
        "    print(d)\n",
        "    meta[model_name] =d \n",
        "    print(f\"Model training took {datetime.datetime.now() - start}\")\n",
        "\n",
        "write_yaml(meta_yaml, meta)"
      ],
      "execution_count": 24,
      "outputs": [
        {
          "output_type": "stream",
          "name": "stdout",
          "text": [
            "model_0_of_100\n",
            "tensorboard path is /content/drive/MyDrive/academics/columbia/neural_networks/project/data/round_6/model_0_of_100\n",
            "save_path is /content/drive/MyDrive/academics/columbia/neural_networks/project/data/round_6/model_0_of_100.pth\n",
            "path /content/drive/MyDrive/academics/columbia/neural_networks/project/data/round_6/model_0_of_100.pth already saved to. SKIPPING.\n",
            "0\n",
            "{'save_path': '/content/drive/MyDrive/academics/columbia/neural_networks/project/data/round_6/model_0_of_100.pth', 'history': None, 'model_name': 'model_0_of_100'}\n",
            "Model training took 0:00:09.613046\n",
            "model_1_of_100\n",
            "tensorboard path is /content/drive/MyDrive/academics/columbia/neural_networks/project/data/round_6/model_0_of_100/model_1_of_100\n",
            "save_path is /content/drive/MyDrive/academics/columbia/neural_networks/project/data/round_6/model_0_of_100/model_1_of_100.pth\n",
            "path /content/drive/MyDrive/academics/columbia/neural_networks/project/data/round_6/model_0_of_100/model_1_of_100.pth already saved to. SKIPPING.\n",
            "1\n",
            "{'save_path': '/content/drive/MyDrive/academics/columbia/neural_networks/project/data/round_6/model_0_of_100/model_1_of_100.pth', 'history': None, 'model_name': 'model_1_of_100'}\n",
            "Model training took 0:00:00.007500\n",
            "model_2_of_100\n",
            "tensorboard path is /content/drive/MyDrive/academics/columbia/neural_networks/project/data/round_6/model_0_of_100/model_1_of_100/model_2_of_100\n",
            "save_path is /content/drive/MyDrive/academics/columbia/neural_networks/project/data/round_6/model_0_of_100/model_1_of_100/model_2_of_100.pth\n",
            "path /content/drive/MyDrive/academics/columbia/neural_networks/project/data/round_6/model_0_of_100/model_1_of_100/model_2_of_100.pth already saved to. SKIPPING.\n",
            "2\n",
            "{'save_path': '/content/drive/MyDrive/academics/columbia/neural_networks/project/data/round_6/model_0_of_100/model_1_of_100/model_2_of_100.pth', 'history': None, 'model_name': 'model_2_of_100'}\n",
            "Model training took 0:00:00.234892\n",
            "model_3_of_100\n",
            "tensorboard path is /content/drive/MyDrive/academics/columbia/neural_networks/project/data/round_6/model_0_of_100/model_1_of_100/model_2_of_100/model_3_of_100\n",
            "save_path is /content/drive/MyDrive/academics/columbia/neural_networks/project/data/round_6/model_0_of_100/model_1_of_100/model_2_of_100/model_3_of_100.pth\n",
            "path /content/drive/MyDrive/academics/columbia/neural_networks/project/data/round_6/model_0_of_100/model_1_of_100/model_2_of_100/model_3_of_100.pth already saved to. SKIPPING.\n",
            "3\n",
            "{'save_path': '/content/drive/MyDrive/academics/columbia/neural_networks/project/data/round_6/model_0_of_100/model_1_of_100/model_2_of_100/model_3_of_100.pth', 'history': None, 'model_name': 'model_3_of_100'}\n",
            "Model training took 0:00:00.218549\n",
            "model_4_of_100\n",
            "tensorboard path is /content/drive/MyDrive/academics/columbia/neural_networks/project/data/round_6/model_0_of_100/model_1_of_100/model_2_of_100/model_3_of_100/model_4_of_100\n",
            "save_path is /content/drive/MyDrive/academics/columbia/neural_networks/project/data/round_6/model_0_of_100/model_1_of_100/model_2_of_100/model_3_of_100/model_4_of_100.pth\n",
            "path /content/drive/MyDrive/academics/columbia/neural_networks/project/data/round_6/model_0_of_100/model_1_of_100/model_2_of_100/model_3_of_100/model_4_of_100.pth already saved to. SKIPPING.\n",
            "4\n",
            "{'save_path': '/content/drive/MyDrive/academics/columbia/neural_networks/project/data/round_6/model_0_of_100/model_1_of_100/model_2_of_100/model_3_of_100/model_4_of_100.pth', 'history': None, 'model_name': 'model_4_of_100'}\n",
            "Model training took 0:00:00.267997\n",
            "model_5_of_100\n",
            "tensorboard path is /content/drive/MyDrive/academics/columbia/neural_networks/project/data/round_6/model_0_of_100/model_1_of_100/model_2_of_100/model_3_of_100/model_4_of_100/model_5_of_100\n",
            "save_path is /content/drive/MyDrive/academics/columbia/neural_networks/project/data/round_6/model_0_of_100/model_1_of_100/model_2_of_100/model_3_of_100/model_4_of_100/model_5_of_100.pth\n",
            "path /content/drive/MyDrive/academics/columbia/neural_networks/project/data/round_6/model_0_of_100/model_1_of_100/model_2_of_100/model_3_of_100/model_4_of_100/model_5_of_100.pth already saved to. SKIPPING.\n",
            "5\n",
            "{'save_path': '/content/drive/MyDrive/academics/columbia/neural_networks/project/data/round_6/model_0_of_100/model_1_of_100/model_2_of_100/model_3_of_100/model_4_of_100/model_5_of_100.pth', 'history': None, 'model_name': 'model_5_of_100'}\n",
            "Model training took 0:00:00.223194\n",
            "model_6_of_100\n",
            "tensorboard path is /content/drive/MyDrive/academics/columbia/neural_networks/project/data/round_6/model_0_of_100/model_1_of_100/model_2_of_100/model_3_of_100/model_4_of_100/model_5_of_100/model_6_of_100\n",
            "save_path is /content/drive/MyDrive/academics/columbia/neural_networks/project/data/round_6/model_0_of_100/model_1_of_100/model_2_of_100/model_3_of_100/model_4_of_100/model_5_of_100/model_6_of_100.pth\n",
            "path /content/drive/MyDrive/academics/columbia/neural_networks/project/data/round_6/model_0_of_100/model_1_of_100/model_2_of_100/model_3_of_100/model_4_of_100/model_5_of_100/model_6_of_100.pth already saved to. SKIPPING.\n",
            "6\n",
            "{'save_path': '/content/drive/MyDrive/academics/columbia/neural_networks/project/data/round_6/model_0_of_100/model_1_of_100/model_2_of_100/model_3_of_100/model_4_of_100/model_5_of_100/model_6_of_100.pth', 'history': None, 'model_name': 'model_6_of_100'}\n",
            "Model training took 0:00:00.239261\n",
            "model_7_of_100\n",
            "tensorboard path is /content/drive/MyDrive/academics/columbia/neural_networks/project/data/round_6/model_0_of_100/model_1_of_100/model_2_of_100/model_3_of_100/model_4_of_100/model_5_of_100/model_6_of_100/model_7_of_100\n",
            "save_path is /content/drive/MyDrive/academics/columbia/neural_networks/project/data/round_6/model_0_of_100/model_1_of_100/model_2_of_100/model_3_of_100/model_4_of_100/model_5_of_100/model_6_of_100/model_7_of_100.pth\n",
            "path /content/drive/MyDrive/academics/columbia/neural_networks/project/data/round_6/model_0_of_100/model_1_of_100/model_2_of_100/model_3_of_100/model_4_of_100/model_5_of_100/model_6_of_100/model_7_of_100.pth already saved to. SKIPPING.\n",
            "7\n",
            "{'save_path': '/content/drive/MyDrive/academics/columbia/neural_networks/project/data/round_6/model_0_of_100/model_1_of_100/model_2_of_100/model_3_of_100/model_4_of_100/model_5_of_100/model_6_of_100/model_7_of_100.pth', 'history': None, 'model_name': 'model_7_of_100'}\n",
            "Model training took 0:00:00.213636\n",
            "model_8_of_100\n",
            "tensorboard path is /content/drive/MyDrive/academics/columbia/neural_networks/project/data/round_6/model_0_of_100/model_1_of_100/model_2_of_100/model_3_of_100/model_4_of_100/model_5_of_100/model_6_of_100/model_7_of_100/model_8_of_100\n",
            "save_path is /content/drive/MyDrive/academics/columbia/neural_networks/project/data/round_6/model_0_of_100/model_1_of_100/model_2_of_100/model_3_of_100/model_4_of_100/model_5_of_100/model_6_of_100/model_7_of_100/model_8_of_100.pth\n",
            "path /content/drive/MyDrive/academics/columbia/neural_networks/project/data/round_6/model_0_of_100/model_1_of_100/model_2_of_100/model_3_of_100/model_4_of_100/model_5_of_100/model_6_of_100/model_7_of_100/model_8_of_100.pth already saved to. SKIPPING.\n",
            "8\n",
            "{'save_path': '/content/drive/MyDrive/academics/columbia/neural_networks/project/data/round_6/model_0_of_100/model_1_of_100/model_2_of_100/model_3_of_100/model_4_of_100/model_5_of_100/model_6_of_100/model_7_of_100/model_8_of_100.pth', 'history': None, 'model_name': 'model_8_of_100'}\n",
            "Model training took 0:00:00.257273\n",
            "model_9_of_100\n",
            "tensorboard path is /content/drive/MyDrive/academics/columbia/neural_networks/project/data/round_6/model_0_of_100/model_1_of_100/model_2_of_100/model_3_of_100/model_4_of_100/model_5_of_100/model_6_of_100/model_7_of_100/model_8_of_100/model_9_of_100\n",
            "save_path is /content/drive/MyDrive/academics/columbia/neural_networks/project/data/round_6/model_0_of_100/model_1_of_100/model_2_of_100/model_3_of_100/model_4_of_100/model_5_of_100/model_6_of_100/model_7_of_100/model_8_of_100/model_9_of_100.pth\n",
            "path /content/drive/MyDrive/academics/columbia/neural_networks/project/data/round_6/model_0_of_100/model_1_of_100/model_2_of_100/model_3_of_100/model_4_of_100/model_5_of_100/model_6_of_100/model_7_of_100/model_8_of_100/model_9_of_100.pth already saved to. SKIPPING.\n",
            "9\n",
            "{'save_path': '/content/drive/MyDrive/academics/columbia/neural_networks/project/data/round_6/model_0_of_100/model_1_of_100/model_2_of_100/model_3_of_100/model_4_of_100/model_5_of_100/model_6_of_100/model_7_of_100/model_8_of_100/model_9_of_100.pth', 'history': None, 'model_name': 'model_9_of_100'}\n",
            "Model training took 0:00:00.317151\n",
            "model_10_of_100\n",
            "tensorboard path is /content/drive/MyDrive/academics/columbia/neural_networks/project/data/round_6/model_0_of_100/model_1_of_100/model_2_of_100/model_3_of_100/model_4_of_100/model_5_of_100/model_6_of_100/model_7_of_100/model_8_of_100/model_9_of_100/model_10_of_100\n",
            "save_path is /content/drive/MyDrive/academics/columbia/neural_networks/project/data/round_6/model_0_of_100/model_1_of_100/model_2_of_100/model_3_of_100/model_4_of_100/model_5_of_100/model_6_of_100/model_7_of_100/model_8_of_100/model_9_of_100/model_10_of_100.pth\n",
            "path /content/drive/MyDrive/academics/columbia/neural_networks/project/data/round_6/model_0_of_100/model_1_of_100/model_2_of_100/model_3_of_100/model_4_of_100/model_5_of_100/model_6_of_100/model_7_of_100/model_8_of_100/model_9_of_100/model_10_of_100.pth already saved to. SKIPPING.\n",
            "10\n",
            "{'save_path': '/content/drive/MyDrive/academics/columbia/neural_networks/project/data/round_6/model_0_of_100/model_1_of_100/model_2_of_100/model_3_of_100/model_4_of_100/model_5_of_100/model_6_of_100/model_7_of_100/model_8_of_100/model_9_of_100/model_10_of_100.pth', 'history': None, 'model_name': 'model_10_of_100'}\n",
            "Model training took 0:00:00.275332\n",
            "model_11_of_100\n",
            "tensorboard path is /content/drive/MyDrive/academics/columbia/neural_networks/project/data/round_6/model_0_of_100/model_1_of_100/model_2_of_100/model_3_of_100/model_4_of_100/model_5_of_100/model_6_of_100/model_7_of_100/model_8_of_100/model_9_of_100/model_10_of_100/model_11_of_100\n",
            "save_path is /content/drive/MyDrive/academics/columbia/neural_networks/project/data/round_6/model_0_of_100/model_1_of_100/model_2_of_100/model_3_of_100/model_4_of_100/model_5_of_100/model_6_of_100/model_7_of_100/model_8_of_100/model_9_of_100/model_10_of_100/model_11_of_100.pth\n",
            "path /content/drive/MyDrive/academics/columbia/neural_networks/project/data/round_6/model_0_of_100/model_1_of_100/model_2_of_100/model_3_of_100/model_4_of_100/model_5_of_100/model_6_of_100/model_7_of_100/model_8_of_100/model_9_of_100/model_10_of_100/model_11_of_100.pth already saved to. SKIPPING.\n",
            "11\n",
            "{'save_path': '/content/drive/MyDrive/academics/columbia/neural_networks/project/data/round_6/model_0_of_100/model_1_of_100/model_2_of_100/model_3_of_100/model_4_of_100/model_5_of_100/model_6_of_100/model_7_of_100/model_8_of_100/model_9_of_100/model_10_of_100/model_11_of_100.pth', 'history': None, 'model_name': 'model_11_of_100'}\n",
            "Model training took 0:00:00.288817\n",
            "model_12_of_100\n",
            "tensorboard path is /content/drive/MyDrive/academics/columbia/neural_networks/project/data/round_6/model_0_of_100/model_1_of_100/model_2_of_100/model_3_of_100/model_4_of_100/model_5_of_100/model_6_of_100/model_7_of_100/model_8_of_100/model_9_of_100/model_10_of_100/model_11_of_100/model_12_of_100\n",
            "save_path is /content/drive/MyDrive/academics/columbia/neural_networks/project/data/round_6/model_0_of_100/model_1_of_100/model_2_of_100/model_3_of_100/model_4_of_100/model_5_of_100/model_6_of_100/model_7_of_100/model_8_of_100/model_9_of_100/model_10_of_100/model_11_of_100/model_12_of_100.pth\n",
            "path /content/drive/MyDrive/academics/columbia/neural_networks/project/data/round_6/model_0_of_100/model_1_of_100/model_2_of_100/model_3_of_100/model_4_of_100/model_5_of_100/model_6_of_100/model_7_of_100/model_8_of_100/model_9_of_100/model_10_of_100/model_11_of_100/model_12_of_100.pth already saved to. SKIPPING.\n",
            "12\n",
            "{'save_path': '/content/drive/MyDrive/academics/columbia/neural_networks/project/data/round_6/model_0_of_100/model_1_of_100/model_2_of_100/model_3_of_100/model_4_of_100/model_5_of_100/model_6_of_100/model_7_of_100/model_8_of_100/model_9_of_100/model_10_of_100/model_11_of_100/model_12_of_100.pth', 'history': None, 'model_name': 'model_12_of_100'}\n",
            "Model training took 0:00:00.254304\n",
            "model_13_of_100\n",
            "tensorboard path is /content/drive/MyDrive/academics/columbia/neural_networks/project/data/round_6/model_0_of_100/model_1_of_100/model_2_of_100/model_3_of_100/model_4_of_100/model_5_of_100/model_6_of_100/model_7_of_100/model_8_of_100/model_9_of_100/model_10_of_100/model_11_of_100/model_12_of_100/model_13_of_100\n",
            "save_path is /content/drive/MyDrive/academics/columbia/neural_networks/project/data/round_6/model_0_of_100/model_1_of_100/model_2_of_100/model_3_of_100/model_4_of_100/model_5_of_100/model_6_of_100/model_7_of_100/model_8_of_100/model_9_of_100/model_10_of_100/model_11_of_100/model_12_of_100/model_13_of_100.pth\n",
            "path /content/drive/MyDrive/academics/columbia/neural_networks/project/data/round_6/model_0_of_100/model_1_of_100/model_2_of_100/model_3_of_100/model_4_of_100/model_5_of_100/model_6_of_100/model_7_of_100/model_8_of_100/model_9_of_100/model_10_of_100/model_11_of_100/model_12_of_100/model_13_of_100.pth already saved to. SKIPPING.\n",
            "13\n",
            "{'save_path': '/content/drive/MyDrive/academics/columbia/neural_networks/project/data/round_6/model_0_of_100/model_1_of_100/model_2_of_100/model_3_of_100/model_4_of_100/model_5_of_100/model_6_of_100/model_7_of_100/model_8_of_100/model_9_of_100/model_10_of_100/model_11_of_100/model_12_of_100/model_13_of_100.pth', 'history': None, 'model_name': 'model_13_of_100'}\n",
            "Model training took 0:00:00.271761\n",
            "model_14_of_100\n",
            "tensorboard path is /content/drive/MyDrive/academics/columbia/neural_networks/project/data/round_6/model_0_of_100/model_1_of_100/model_2_of_100/model_3_of_100/model_4_of_100/model_5_of_100/model_6_of_100/model_7_of_100/model_8_of_100/model_9_of_100/model_10_of_100/model_11_of_100/model_12_of_100/model_13_of_100/model_14_of_100\n",
            "save_path is /content/drive/MyDrive/academics/columbia/neural_networks/project/data/round_6/model_0_of_100/model_1_of_100/model_2_of_100/model_3_of_100/model_4_of_100/model_5_of_100/model_6_of_100/model_7_of_100/model_8_of_100/model_9_of_100/model_10_of_100/model_11_of_100/model_12_of_100/model_13_of_100/model_14_of_100.pth\n",
            "path /content/drive/MyDrive/academics/columbia/neural_networks/project/data/round_6/model_0_of_100/model_1_of_100/model_2_of_100/model_3_of_100/model_4_of_100/model_5_of_100/model_6_of_100/model_7_of_100/model_8_of_100/model_9_of_100/model_10_of_100/model_11_of_100/model_12_of_100/model_13_of_100/model_14_of_100.pth already saved to. SKIPPING.\n",
            "14\n",
            "{'save_path': '/content/drive/MyDrive/academics/columbia/neural_networks/project/data/round_6/model_0_of_100/model_1_of_100/model_2_of_100/model_3_of_100/model_4_of_100/model_5_of_100/model_6_of_100/model_7_of_100/model_8_of_100/model_9_of_100/model_10_of_100/model_11_of_100/model_12_of_100/model_13_of_100/model_14_of_100.pth', 'history': None, 'model_name': 'model_14_of_100'}\n",
            "Model training took 0:00:00.314370\n",
            "model_15_of_100\n",
            "tensorboard path is /content/drive/MyDrive/academics/columbia/neural_networks/project/data/round_6/model_0_of_100/model_1_of_100/model_2_of_100/model_3_of_100/model_4_of_100/model_5_of_100/model_6_of_100/model_7_of_100/model_8_of_100/model_9_of_100/model_10_of_100/model_11_of_100/model_12_of_100/model_13_of_100/model_14_of_100/model_15_of_100\n",
            "save_path is /content/drive/MyDrive/academics/columbia/neural_networks/project/data/round_6/model_0_of_100/model_1_of_100/model_2_of_100/model_3_of_100/model_4_of_100/model_5_of_100/model_6_of_100/model_7_of_100/model_8_of_100/model_9_of_100/model_10_of_100/model_11_of_100/model_12_of_100/model_13_of_100/model_14_of_100/model_15_of_100.pth\n",
            "path /content/drive/MyDrive/academics/columbia/neural_networks/project/data/round_6/model_0_of_100/model_1_of_100/model_2_of_100/model_3_of_100/model_4_of_100/model_5_of_100/model_6_of_100/model_7_of_100/model_8_of_100/model_9_of_100/model_10_of_100/model_11_of_100/model_12_of_100/model_13_of_100/model_14_of_100/model_15_of_100.pth already saved to. SKIPPING.\n",
            "15\n",
            "{'save_path': '/content/drive/MyDrive/academics/columbia/neural_networks/project/data/round_6/model_0_of_100/model_1_of_100/model_2_of_100/model_3_of_100/model_4_of_100/model_5_of_100/model_6_of_100/model_7_of_100/model_8_of_100/model_9_of_100/model_10_of_100/model_11_of_100/model_12_of_100/model_13_of_100/model_14_of_100/model_15_of_100.pth', 'history': None, 'model_name': 'model_15_of_100'}\n",
            "Model training took 0:00:00.207554\n",
            "model_16_of_100\n",
            "tensorboard path is /content/drive/MyDrive/academics/columbia/neural_networks/project/data/round_6/model_0_of_100/model_1_of_100/model_2_of_100/model_3_of_100/model_4_of_100/model_5_of_100/model_6_of_100/model_7_of_100/model_8_of_100/model_9_of_100/model_10_of_100/model_11_of_100/model_12_of_100/model_13_of_100/model_14_of_100/model_15_of_100/model_16_of_100\n",
            "save_path is /content/drive/MyDrive/academics/columbia/neural_networks/project/data/round_6/model_0_of_100/model_1_of_100/model_2_of_100/model_3_of_100/model_4_of_100/model_5_of_100/model_6_of_100/model_7_of_100/model_8_of_100/model_9_of_100/model_10_of_100/model_11_of_100/model_12_of_100/model_13_of_100/model_14_of_100/model_15_of_100/model_16_of_100.pth\n",
            "path /content/drive/MyDrive/academics/columbia/neural_networks/project/data/round_6/model_0_of_100/model_1_of_100/model_2_of_100/model_3_of_100/model_4_of_100/model_5_of_100/model_6_of_100/model_7_of_100/model_8_of_100/model_9_of_100/model_10_of_100/model_11_of_100/model_12_of_100/model_13_of_100/model_14_of_100/model_15_of_100/model_16_of_100.pth already saved to. SKIPPING.\n",
            "16\n",
            "{'save_path': '/content/drive/MyDrive/academics/columbia/neural_networks/project/data/round_6/model_0_of_100/model_1_of_100/model_2_of_100/model_3_of_100/model_4_of_100/model_5_of_100/model_6_of_100/model_7_of_100/model_8_of_100/model_9_of_100/model_10_of_100/model_11_of_100/model_12_of_100/model_13_of_100/model_14_of_100/model_15_of_100/model_16_of_100.pth', 'history': None, 'model_name': 'model_16_of_100'}\n",
            "Model training took 0:00:00.281641\n",
            "model_17_of_100\n",
            "tensorboard path is /content/drive/MyDrive/academics/columbia/neural_networks/project/data/round_6/model_0_of_100/model_1_of_100/model_2_of_100/model_3_of_100/model_4_of_100/model_5_of_100/model_6_of_100/model_7_of_100/model_8_of_100/model_9_of_100/model_10_of_100/model_11_of_100/model_12_of_100/model_13_of_100/model_14_of_100/model_15_of_100/model_16_of_100/model_17_of_100\n",
            "save_path is /content/drive/MyDrive/academics/columbia/neural_networks/project/data/round_6/model_0_of_100/model_1_of_100/model_2_of_100/model_3_of_100/model_4_of_100/model_5_of_100/model_6_of_100/model_7_of_100/model_8_of_100/model_9_of_100/model_10_of_100/model_11_of_100/model_12_of_100/model_13_of_100/model_14_of_100/model_15_of_100/model_16_of_100/model_17_of_100.pth\n",
            "path /content/drive/MyDrive/academics/columbia/neural_networks/project/data/round_6/model_0_of_100/model_1_of_100/model_2_of_100/model_3_of_100/model_4_of_100/model_5_of_100/model_6_of_100/model_7_of_100/model_8_of_100/model_9_of_100/model_10_of_100/model_11_of_100/model_12_of_100/model_13_of_100/model_14_of_100/model_15_of_100/model_16_of_100/model_17_of_100.pth already saved to. SKIPPING.\n",
            "17\n",
            "{'save_path': '/content/drive/MyDrive/academics/columbia/neural_networks/project/data/round_6/model_0_of_100/model_1_of_100/model_2_of_100/model_3_of_100/model_4_of_100/model_5_of_100/model_6_of_100/model_7_of_100/model_8_of_100/model_9_of_100/model_10_of_100/model_11_of_100/model_12_of_100/model_13_of_100/model_14_of_100/model_15_of_100/model_16_of_100/model_17_of_100.pth', 'history': None, 'model_name': 'model_17_of_100'}\n",
            "Model training took 0:00:00.262455\n",
            "model_18_of_100\n",
            "tensorboard path is /content/drive/MyDrive/academics/columbia/neural_networks/project/data/round_6/model_0_of_100/model_1_of_100/model_2_of_100/model_3_of_100/model_4_of_100/model_5_of_100/model_6_of_100/model_7_of_100/model_8_of_100/model_9_of_100/model_10_of_100/model_11_of_100/model_12_of_100/model_13_of_100/model_14_of_100/model_15_of_100/model_16_of_100/model_17_of_100/model_18_of_100\n",
            "save_path is /content/drive/MyDrive/academics/columbia/neural_networks/project/data/round_6/model_0_of_100/model_1_of_100/model_2_of_100/model_3_of_100/model_4_of_100/model_5_of_100/model_6_of_100/model_7_of_100/model_8_of_100/model_9_of_100/model_10_of_100/model_11_of_100/model_12_of_100/model_13_of_100/model_14_of_100/model_15_of_100/model_16_of_100/model_17_of_100/model_18_of_100.pth\n",
            "path /content/drive/MyDrive/academics/columbia/neural_networks/project/data/round_6/model_0_of_100/model_1_of_100/model_2_of_100/model_3_of_100/model_4_of_100/model_5_of_100/model_6_of_100/model_7_of_100/model_8_of_100/model_9_of_100/model_10_of_100/model_11_of_100/model_12_of_100/model_13_of_100/model_14_of_100/model_15_of_100/model_16_of_100/model_17_of_100/model_18_of_100.pth already saved to. SKIPPING.\n",
            "18\n",
            "{'save_path': '/content/drive/MyDrive/academics/columbia/neural_networks/project/data/round_6/model_0_of_100/model_1_of_100/model_2_of_100/model_3_of_100/model_4_of_100/model_5_of_100/model_6_of_100/model_7_of_100/model_8_of_100/model_9_of_100/model_10_of_100/model_11_of_100/model_12_of_100/model_13_of_100/model_14_of_100/model_15_of_100/model_16_of_100/model_17_of_100/model_18_of_100.pth', 'history': None, 'model_name': 'model_18_of_100'}\n",
            "Model training took 0:00:00.251482\n",
            "model_19_of_100\n",
            "tensorboard path is /content/drive/MyDrive/academics/columbia/neural_networks/project/data/round_6/model_0_of_100/model_1_of_100/model_2_of_100/model_3_of_100/model_4_of_100/model_5_of_100/model_6_of_100/model_7_of_100/model_8_of_100/model_9_of_100/model_10_of_100/model_11_of_100/model_12_of_100/model_13_of_100/model_14_of_100/model_15_of_100/model_16_of_100/model_17_of_100/model_18_of_100/model_19_of_100\n",
            "save_path is /content/drive/MyDrive/academics/columbia/neural_networks/project/data/round_6/model_0_of_100/model_1_of_100/model_2_of_100/model_3_of_100/model_4_of_100/model_5_of_100/model_6_of_100/model_7_of_100/model_8_of_100/model_9_of_100/model_10_of_100/model_11_of_100/model_12_of_100/model_13_of_100/model_14_of_100/model_15_of_100/model_16_of_100/model_17_of_100/model_18_of_100/model_19_of_100.pth\n",
            "path /content/drive/MyDrive/academics/columbia/neural_networks/project/data/round_6/model_0_of_100/model_1_of_100/model_2_of_100/model_3_of_100/model_4_of_100/model_5_of_100/model_6_of_100/model_7_of_100/model_8_of_100/model_9_of_100/model_10_of_100/model_11_of_100/model_12_of_100/model_13_of_100/model_14_of_100/model_15_of_100/model_16_of_100/model_17_of_100/model_18_of_100/model_19_of_100.pth already saved to. SKIPPING.\n",
            "19\n",
            "{'save_path': '/content/drive/MyDrive/academics/columbia/neural_networks/project/data/round_6/model_0_of_100/model_1_of_100/model_2_of_100/model_3_of_100/model_4_of_100/model_5_of_100/model_6_of_100/model_7_of_100/model_8_of_100/model_9_of_100/model_10_of_100/model_11_of_100/model_12_of_100/model_13_of_100/model_14_of_100/model_15_of_100/model_16_of_100/model_17_of_100/model_18_of_100/model_19_of_100.pth', 'history': None, 'model_name': 'model_19_of_100'}\n",
            "Model training took 0:00:00.313077\n",
            "model_20_of_100\n",
            "tensorboard path is /content/drive/MyDrive/academics/columbia/neural_networks/project/data/round_6/model_0_of_100/model_1_of_100/model_2_of_100/model_3_of_100/model_4_of_100/model_5_of_100/model_6_of_100/model_7_of_100/model_8_of_100/model_9_of_100/model_10_of_100/model_11_of_100/model_12_of_100/model_13_of_100/model_14_of_100/model_15_of_100/model_16_of_100/model_17_of_100/model_18_of_100/model_19_of_100/model_20_of_100\n",
            "save_path is /content/drive/MyDrive/academics/columbia/neural_networks/project/data/round_6/model_0_of_100/model_1_of_100/model_2_of_100/model_3_of_100/model_4_of_100/model_5_of_100/model_6_of_100/model_7_of_100/model_8_of_100/model_9_of_100/model_10_of_100/model_11_of_100/model_12_of_100/model_13_of_100/model_14_of_100/model_15_of_100/model_16_of_100/model_17_of_100/model_18_of_100/model_19_of_100/model_20_of_100.pth\n",
            "path /content/drive/MyDrive/academics/columbia/neural_networks/project/data/round_6/model_0_of_100/model_1_of_100/model_2_of_100/model_3_of_100/model_4_of_100/model_5_of_100/model_6_of_100/model_7_of_100/model_8_of_100/model_9_of_100/model_10_of_100/model_11_of_100/model_12_of_100/model_13_of_100/model_14_of_100/model_15_of_100/model_16_of_100/model_17_of_100/model_18_of_100/model_19_of_100/model_20_of_100.pth already saved to. SKIPPING.\n",
            "20\n",
            "{'save_path': '/content/drive/MyDrive/academics/columbia/neural_networks/project/data/round_6/model_0_of_100/model_1_of_100/model_2_of_100/model_3_of_100/model_4_of_100/model_5_of_100/model_6_of_100/model_7_of_100/model_8_of_100/model_9_of_100/model_10_of_100/model_11_of_100/model_12_of_100/model_13_of_100/model_14_of_100/model_15_of_100/model_16_of_100/model_17_of_100/model_18_of_100/model_19_of_100/model_20_of_100.pth', 'history': None, 'model_name': 'model_20_of_100'}\n",
            "Model training took 0:00:00.309448\n",
            "model_21_of_100\n",
            "tensorboard path is /content/drive/MyDrive/academics/columbia/neural_networks/project/data/round_6/model_0_of_100/model_1_of_100/model_2_of_100/model_3_of_100/model_4_of_100/model_5_of_100/model_6_of_100/model_7_of_100/model_8_of_100/model_9_of_100/model_10_of_100/model_11_of_100/model_12_of_100/model_13_of_100/model_14_of_100/model_15_of_100/model_16_of_100/model_17_of_100/model_18_of_100/model_19_of_100/model_20_of_100/model_21_of_100\n",
            "save_path is /content/drive/MyDrive/academics/columbia/neural_networks/project/data/round_6/model_0_of_100/model_1_of_100/model_2_of_100/model_3_of_100/model_4_of_100/model_5_of_100/model_6_of_100/model_7_of_100/model_8_of_100/model_9_of_100/model_10_of_100/model_11_of_100/model_12_of_100/model_13_of_100/model_14_of_100/model_15_of_100/model_16_of_100/model_17_of_100/model_18_of_100/model_19_of_100/model_20_of_100/model_21_of_100.pth\n",
            "path /content/drive/MyDrive/academics/columbia/neural_networks/project/data/round_6/model_0_of_100/model_1_of_100/model_2_of_100/model_3_of_100/model_4_of_100/model_5_of_100/model_6_of_100/model_7_of_100/model_8_of_100/model_9_of_100/model_10_of_100/model_11_of_100/model_12_of_100/model_13_of_100/model_14_of_100/model_15_of_100/model_16_of_100/model_17_of_100/model_18_of_100/model_19_of_100/model_20_of_100/model_21_of_100.pth already saved to. SKIPPING.\n",
            "21\n",
            "{'save_path': '/content/drive/MyDrive/academics/columbia/neural_networks/project/data/round_6/model_0_of_100/model_1_of_100/model_2_of_100/model_3_of_100/model_4_of_100/model_5_of_100/model_6_of_100/model_7_of_100/model_8_of_100/model_9_of_100/model_10_of_100/model_11_of_100/model_12_of_100/model_13_of_100/model_14_of_100/model_15_of_100/model_16_of_100/model_17_of_100/model_18_of_100/model_19_of_100/model_20_of_100/model_21_of_100.pth', 'history': None, 'model_name': 'model_21_of_100'}\n",
            "Model training took 0:00:00.242859\n",
            "model_22_of_100\n",
            "tensorboard path is /content/drive/MyDrive/academics/columbia/neural_networks/project/data/round_6/model_0_of_100/model_1_of_100/model_2_of_100/model_3_of_100/model_4_of_100/model_5_of_100/model_6_of_100/model_7_of_100/model_8_of_100/model_9_of_100/model_10_of_100/model_11_of_100/model_12_of_100/model_13_of_100/model_14_of_100/model_15_of_100/model_16_of_100/model_17_of_100/model_18_of_100/model_19_of_100/model_20_of_100/model_21_of_100/model_22_of_100\n",
            "save_path is /content/drive/MyDrive/academics/columbia/neural_networks/project/data/round_6/model_0_of_100/model_1_of_100/model_2_of_100/model_3_of_100/model_4_of_100/model_5_of_100/model_6_of_100/model_7_of_100/model_8_of_100/model_9_of_100/model_10_of_100/model_11_of_100/model_12_of_100/model_13_of_100/model_14_of_100/model_15_of_100/model_16_of_100/model_17_of_100/model_18_of_100/model_19_of_100/model_20_of_100/model_21_of_100/model_22_of_100.pth\n",
            "path /content/drive/MyDrive/academics/columbia/neural_networks/project/data/round_6/model_0_of_100/model_1_of_100/model_2_of_100/model_3_of_100/model_4_of_100/model_5_of_100/model_6_of_100/model_7_of_100/model_8_of_100/model_9_of_100/model_10_of_100/model_11_of_100/model_12_of_100/model_13_of_100/model_14_of_100/model_15_of_100/model_16_of_100/model_17_of_100/model_18_of_100/model_19_of_100/model_20_of_100/model_21_of_100/model_22_of_100.pth already saved to. SKIPPING.\n",
            "22\n",
            "{'save_path': '/content/drive/MyDrive/academics/columbia/neural_networks/project/data/round_6/model_0_of_100/model_1_of_100/model_2_of_100/model_3_of_100/model_4_of_100/model_5_of_100/model_6_of_100/model_7_of_100/model_8_of_100/model_9_of_100/model_10_of_100/model_11_of_100/model_12_of_100/model_13_of_100/model_14_of_100/model_15_of_100/model_16_of_100/model_17_of_100/model_18_of_100/model_19_of_100/model_20_of_100/model_21_of_100/model_22_of_100.pth', 'history': None, 'model_name': 'model_22_of_100'}\n",
            "Model training took 0:00:00.248975\n",
            "model_23_of_100\n",
            "tensorboard path is /content/drive/MyDrive/academics/columbia/neural_networks/project/data/round_6/model_0_of_100/model_1_of_100/model_2_of_100/model_3_of_100/model_4_of_100/model_5_of_100/model_6_of_100/model_7_of_100/model_8_of_100/model_9_of_100/model_10_of_100/model_11_of_100/model_12_of_100/model_13_of_100/model_14_of_100/model_15_of_100/model_16_of_100/model_17_of_100/model_18_of_100/model_19_of_100/model_20_of_100/model_21_of_100/model_22_of_100/model_23_of_100\n",
            "save_path is /content/drive/MyDrive/academics/columbia/neural_networks/project/data/round_6/model_0_of_100/model_1_of_100/model_2_of_100/model_3_of_100/model_4_of_100/model_5_of_100/model_6_of_100/model_7_of_100/model_8_of_100/model_9_of_100/model_10_of_100/model_11_of_100/model_12_of_100/model_13_of_100/model_14_of_100/model_15_of_100/model_16_of_100/model_17_of_100/model_18_of_100/model_19_of_100/model_20_of_100/model_21_of_100/model_22_of_100/model_23_of_100.pth\n",
            "path /content/drive/MyDrive/academics/columbia/neural_networks/project/data/round_6/model_0_of_100/model_1_of_100/model_2_of_100/model_3_of_100/model_4_of_100/model_5_of_100/model_6_of_100/model_7_of_100/model_8_of_100/model_9_of_100/model_10_of_100/model_11_of_100/model_12_of_100/model_13_of_100/model_14_of_100/model_15_of_100/model_16_of_100/model_17_of_100/model_18_of_100/model_19_of_100/model_20_of_100/model_21_of_100/model_22_of_100/model_23_of_100.pth already saved to. SKIPPING.\n",
            "23\n",
            "{'save_path': '/content/drive/MyDrive/academics/columbia/neural_networks/project/data/round_6/model_0_of_100/model_1_of_100/model_2_of_100/model_3_of_100/model_4_of_100/model_5_of_100/model_6_of_100/model_7_of_100/model_8_of_100/model_9_of_100/model_10_of_100/model_11_of_100/model_12_of_100/model_13_of_100/model_14_of_100/model_15_of_100/model_16_of_100/model_17_of_100/model_18_of_100/model_19_of_100/model_20_of_100/model_21_of_100/model_22_of_100/model_23_of_100.pth', 'history': None, 'model_name': 'model_23_of_100'}\n",
            "Model training took 0:00:00.218910\n",
            "model_24_of_100\n",
            "tensorboard path is /content/drive/MyDrive/academics/columbia/neural_networks/project/data/round_6/model_0_of_100/model_1_of_100/model_2_of_100/model_3_of_100/model_4_of_100/model_5_of_100/model_6_of_100/model_7_of_100/model_8_of_100/model_9_of_100/model_10_of_100/model_11_of_100/model_12_of_100/model_13_of_100/model_14_of_100/model_15_of_100/model_16_of_100/model_17_of_100/model_18_of_100/model_19_of_100/model_20_of_100/model_21_of_100/model_22_of_100/model_23_of_100/model_24_of_100\n",
            "save_path is /content/drive/MyDrive/academics/columbia/neural_networks/project/data/round_6/model_0_of_100/model_1_of_100/model_2_of_100/model_3_of_100/model_4_of_100/model_5_of_100/model_6_of_100/model_7_of_100/model_8_of_100/model_9_of_100/model_10_of_100/model_11_of_100/model_12_of_100/model_13_of_100/model_14_of_100/model_15_of_100/model_16_of_100/model_17_of_100/model_18_of_100/model_19_of_100/model_20_of_100/model_21_of_100/model_22_of_100/model_23_of_100/model_24_of_100.pth\n",
            "path /content/drive/MyDrive/academics/columbia/neural_networks/project/data/round_6/model_0_of_100/model_1_of_100/model_2_of_100/model_3_of_100/model_4_of_100/model_5_of_100/model_6_of_100/model_7_of_100/model_8_of_100/model_9_of_100/model_10_of_100/model_11_of_100/model_12_of_100/model_13_of_100/model_14_of_100/model_15_of_100/model_16_of_100/model_17_of_100/model_18_of_100/model_19_of_100/model_20_of_100/model_21_of_100/model_22_of_100/model_23_of_100/model_24_of_100.pth already saved to. SKIPPING.\n",
            "24\n",
            "{'save_path': '/content/drive/MyDrive/academics/columbia/neural_networks/project/data/round_6/model_0_of_100/model_1_of_100/model_2_of_100/model_3_of_100/model_4_of_100/model_5_of_100/model_6_of_100/model_7_of_100/model_8_of_100/model_9_of_100/model_10_of_100/model_11_of_100/model_12_of_100/model_13_of_100/model_14_of_100/model_15_of_100/model_16_of_100/model_17_of_100/model_18_of_100/model_19_of_100/model_20_of_100/model_21_of_100/model_22_of_100/model_23_of_100/model_24_of_100.pth', 'history': None, 'model_name': 'model_24_of_100'}\n",
            "Model training took 0:00:00.268520\n",
            "model_25_of_100\n",
            "tensorboard path is /content/drive/MyDrive/academics/columbia/neural_networks/project/data/round_6/model_0_of_100/model_1_of_100/model_2_of_100/model_3_of_100/model_4_of_100/model_5_of_100/model_6_of_100/model_7_of_100/model_8_of_100/model_9_of_100/model_10_of_100/model_11_of_100/model_12_of_100/model_13_of_100/model_14_of_100/model_15_of_100/model_16_of_100/model_17_of_100/model_18_of_100/model_19_of_100/model_20_of_100/model_21_of_100/model_22_of_100/model_23_of_100/model_24_of_100/model_25_of_100\n",
            "save_path is /content/drive/MyDrive/academics/columbia/neural_networks/project/data/round_6/model_0_of_100/model_1_of_100/model_2_of_100/model_3_of_100/model_4_of_100/model_5_of_100/model_6_of_100/model_7_of_100/model_8_of_100/model_9_of_100/model_10_of_100/model_11_of_100/model_12_of_100/model_13_of_100/model_14_of_100/model_15_of_100/model_16_of_100/model_17_of_100/model_18_of_100/model_19_of_100/model_20_of_100/model_21_of_100/model_22_of_100/model_23_of_100/model_24_of_100/model_25_of_100.pth\n",
            "path /content/drive/MyDrive/academics/columbia/neural_networks/project/data/round_6/model_0_of_100/model_1_of_100/model_2_of_100/model_3_of_100/model_4_of_100/model_5_of_100/model_6_of_100/model_7_of_100/model_8_of_100/model_9_of_100/model_10_of_100/model_11_of_100/model_12_of_100/model_13_of_100/model_14_of_100/model_15_of_100/model_16_of_100/model_17_of_100/model_18_of_100/model_19_of_100/model_20_of_100/model_21_of_100/model_22_of_100/model_23_of_100/model_24_of_100/model_25_of_100.pth already saved to. SKIPPING.\n",
            "25\n",
            "{'save_path': '/content/drive/MyDrive/academics/columbia/neural_networks/project/data/round_6/model_0_of_100/model_1_of_100/model_2_of_100/model_3_of_100/model_4_of_100/model_5_of_100/model_6_of_100/model_7_of_100/model_8_of_100/model_9_of_100/model_10_of_100/model_11_of_100/model_12_of_100/model_13_of_100/model_14_of_100/model_15_of_100/model_16_of_100/model_17_of_100/model_18_of_100/model_19_of_100/model_20_of_100/model_21_of_100/model_22_of_100/model_23_of_100/model_24_of_100/model_25_of_100.pth', 'history': None, 'model_name': 'model_25_of_100'}\n",
            "Model training took 0:00:00.248345\n",
            "model_26_of_100\n",
            "tensorboard path is /content/drive/MyDrive/academics/columbia/neural_networks/project/data/round_6/model_0_of_100/model_1_of_100/model_2_of_100/model_3_of_100/model_4_of_100/model_5_of_100/model_6_of_100/model_7_of_100/model_8_of_100/model_9_of_100/model_10_of_100/model_11_of_100/model_12_of_100/model_13_of_100/model_14_of_100/model_15_of_100/model_16_of_100/model_17_of_100/model_18_of_100/model_19_of_100/model_20_of_100/model_21_of_100/model_22_of_100/model_23_of_100/model_24_of_100/model_25_of_100/model_26_of_100\n",
            "save_path is /content/drive/MyDrive/academics/columbia/neural_networks/project/data/round_6/model_0_of_100/model_1_of_100/model_2_of_100/model_3_of_100/model_4_of_100/model_5_of_100/model_6_of_100/model_7_of_100/model_8_of_100/model_9_of_100/model_10_of_100/model_11_of_100/model_12_of_100/model_13_of_100/model_14_of_100/model_15_of_100/model_16_of_100/model_17_of_100/model_18_of_100/model_19_of_100/model_20_of_100/model_21_of_100/model_22_of_100/model_23_of_100/model_24_of_100/model_25_of_100/model_26_of_100.pth\n",
            "path /content/drive/MyDrive/academics/columbia/neural_networks/project/data/round_6/model_0_of_100/model_1_of_100/model_2_of_100/model_3_of_100/model_4_of_100/model_5_of_100/model_6_of_100/model_7_of_100/model_8_of_100/model_9_of_100/model_10_of_100/model_11_of_100/model_12_of_100/model_13_of_100/model_14_of_100/model_15_of_100/model_16_of_100/model_17_of_100/model_18_of_100/model_19_of_100/model_20_of_100/model_21_of_100/model_22_of_100/model_23_of_100/model_24_of_100/model_25_of_100/model_26_of_100.pth already saved to. SKIPPING.\n",
            "26\n",
            "{'save_path': '/content/drive/MyDrive/academics/columbia/neural_networks/project/data/round_6/model_0_of_100/model_1_of_100/model_2_of_100/model_3_of_100/model_4_of_100/model_5_of_100/model_6_of_100/model_7_of_100/model_8_of_100/model_9_of_100/model_10_of_100/model_11_of_100/model_12_of_100/model_13_of_100/model_14_of_100/model_15_of_100/model_16_of_100/model_17_of_100/model_18_of_100/model_19_of_100/model_20_of_100/model_21_of_100/model_22_of_100/model_23_of_100/model_24_of_100/model_25_of_100/model_26_of_100.pth', 'history': None, 'model_name': 'model_26_of_100'}\n",
            "Model training took 0:00:00.249837\n",
            "model_27_of_100\n",
            "tensorboard path is /content/drive/MyDrive/academics/columbia/neural_networks/project/data/round_6/model_0_of_100/model_1_of_100/model_2_of_100/model_3_of_100/model_4_of_100/model_5_of_100/model_6_of_100/model_7_of_100/model_8_of_100/model_9_of_100/model_10_of_100/model_11_of_100/model_12_of_100/model_13_of_100/model_14_of_100/model_15_of_100/model_16_of_100/model_17_of_100/model_18_of_100/model_19_of_100/model_20_of_100/model_21_of_100/model_22_of_100/model_23_of_100/model_24_of_100/model_25_of_100/model_26_of_100/model_27_of_100\n",
            "save_path is /content/drive/MyDrive/academics/columbia/neural_networks/project/data/round_6/model_0_of_100/model_1_of_100/model_2_of_100/model_3_of_100/model_4_of_100/model_5_of_100/model_6_of_100/model_7_of_100/model_8_of_100/model_9_of_100/model_10_of_100/model_11_of_100/model_12_of_100/model_13_of_100/model_14_of_100/model_15_of_100/model_16_of_100/model_17_of_100/model_18_of_100/model_19_of_100/model_20_of_100/model_21_of_100/model_22_of_100/model_23_of_100/model_24_of_100/model_25_of_100/model_26_of_100/model_27_of_100.pth\n",
            "path /content/drive/MyDrive/academics/columbia/neural_networks/project/data/round_6/model_0_of_100/model_1_of_100/model_2_of_100/model_3_of_100/model_4_of_100/model_5_of_100/model_6_of_100/model_7_of_100/model_8_of_100/model_9_of_100/model_10_of_100/model_11_of_100/model_12_of_100/model_13_of_100/model_14_of_100/model_15_of_100/model_16_of_100/model_17_of_100/model_18_of_100/model_19_of_100/model_20_of_100/model_21_of_100/model_22_of_100/model_23_of_100/model_24_of_100/model_25_of_100/model_26_of_100/model_27_of_100.pth already saved to. SKIPPING.\n",
            "27\n",
            "{'save_path': '/content/drive/MyDrive/academics/columbia/neural_networks/project/data/round_6/model_0_of_100/model_1_of_100/model_2_of_100/model_3_of_100/model_4_of_100/model_5_of_100/model_6_of_100/model_7_of_100/model_8_of_100/model_9_of_100/model_10_of_100/model_11_of_100/model_12_of_100/model_13_of_100/model_14_of_100/model_15_of_100/model_16_of_100/model_17_of_100/model_18_of_100/model_19_of_100/model_20_of_100/model_21_of_100/model_22_of_100/model_23_of_100/model_24_of_100/model_25_of_100/model_26_of_100/model_27_of_100.pth', 'history': None, 'model_name': 'model_27_of_100'}\n",
            "Model training took 0:00:00.293684\n",
            "model_28_of_100\n",
            "tensorboard path is /content/drive/MyDrive/academics/columbia/neural_networks/project/data/round_6/model_0_of_100/model_1_of_100/model_2_of_100/model_3_of_100/model_4_of_100/model_5_of_100/model_6_of_100/model_7_of_100/model_8_of_100/model_9_of_100/model_10_of_100/model_11_of_100/model_12_of_100/model_13_of_100/model_14_of_100/model_15_of_100/model_16_of_100/model_17_of_100/model_18_of_100/model_19_of_100/model_20_of_100/model_21_of_100/model_22_of_100/model_23_of_100/model_24_of_100/model_25_of_100/model_26_of_100/model_27_of_100/model_28_of_100\n",
            "save_path is /content/drive/MyDrive/academics/columbia/neural_networks/project/data/round_6/model_0_of_100/model_1_of_100/model_2_of_100/model_3_of_100/model_4_of_100/model_5_of_100/model_6_of_100/model_7_of_100/model_8_of_100/model_9_of_100/model_10_of_100/model_11_of_100/model_12_of_100/model_13_of_100/model_14_of_100/model_15_of_100/model_16_of_100/model_17_of_100/model_18_of_100/model_19_of_100/model_20_of_100/model_21_of_100/model_22_of_100/model_23_of_100/model_24_of_100/model_25_of_100/model_26_of_100/model_27_of_100/model_28_of_100.pth\n",
            "path /content/drive/MyDrive/academics/columbia/neural_networks/project/data/round_6/model_0_of_100/model_1_of_100/model_2_of_100/model_3_of_100/model_4_of_100/model_5_of_100/model_6_of_100/model_7_of_100/model_8_of_100/model_9_of_100/model_10_of_100/model_11_of_100/model_12_of_100/model_13_of_100/model_14_of_100/model_15_of_100/model_16_of_100/model_17_of_100/model_18_of_100/model_19_of_100/model_20_of_100/model_21_of_100/model_22_of_100/model_23_of_100/model_24_of_100/model_25_of_100/model_26_of_100/model_27_of_100/model_28_of_100.pth already saved to. SKIPPING.\n",
            "28\n",
            "{'save_path': '/content/drive/MyDrive/academics/columbia/neural_networks/project/data/round_6/model_0_of_100/model_1_of_100/model_2_of_100/model_3_of_100/model_4_of_100/model_5_of_100/model_6_of_100/model_7_of_100/model_8_of_100/model_9_of_100/model_10_of_100/model_11_of_100/model_12_of_100/model_13_of_100/model_14_of_100/model_15_of_100/model_16_of_100/model_17_of_100/model_18_of_100/model_19_of_100/model_20_of_100/model_21_of_100/model_22_of_100/model_23_of_100/model_24_of_100/model_25_of_100/model_26_of_100/model_27_of_100/model_28_of_100.pth', 'history': None, 'model_name': 'model_28_of_100'}\n",
            "Model training took 0:00:00.278257\n",
            "model_29_of_100\n",
            "tensorboard path is /content/drive/MyDrive/academics/columbia/neural_networks/project/data/round_6/model_0_of_100/model_1_of_100/model_2_of_100/model_3_of_100/model_4_of_100/model_5_of_100/model_6_of_100/model_7_of_100/model_8_of_100/model_9_of_100/model_10_of_100/model_11_of_100/model_12_of_100/model_13_of_100/model_14_of_100/model_15_of_100/model_16_of_100/model_17_of_100/model_18_of_100/model_19_of_100/model_20_of_100/model_21_of_100/model_22_of_100/model_23_of_100/model_24_of_100/model_25_of_100/model_26_of_100/model_27_of_100/model_28_of_100/model_29_of_100\n",
            "save_path is /content/drive/MyDrive/academics/columbia/neural_networks/project/data/round_6/model_0_of_100/model_1_of_100/model_2_of_100/model_3_of_100/model_4_of_100/model_5_of_100/model_6_of_100/model_7_of_100/model_8_of_100/model_9_of_100/model_10_of_100/model_11_of_100/model_12_of_100/model_13_of_100/model_14_of_100/model_15_of_100/model_16_of_100/model_17_of_100/model_18_of_100/model_19_of_100/model_20_of_100/model_21_of_100/model_22_of_100/model_23_of_100/model_24_of_100/model_25_of_100/model_26_of_100/model_27_of_100/model_28_of_100/model_29_of_100.pth\n",
            "path /content/drive/MyDrive/academics/columbia/neural_networks/project/data/round_6/model_0_of_100/model_1_of_100/model_2_of_100/model_3_of_100/model_4_of_100/model_5_of_100/model_6_of_100/model_7_of_100/model_8_of_100/model_9_of_100/model_10_of_100/model_11_of_100/model_12_of_100/model_13_of_100/model_14_of_100/model_15_of_100/model_16_of_100/model_17_of_100/model_18_of_100/model_19_of_100/model_20_of_100/model_21_of_100/model_22_of_100/model_23_of_100/model_24_of_100/model_25_of_100/model_26_of_100/model_27_of_100/model_28_of_100/model_29_of_100.pth already saved to. SKIPPING.\n",
            "29\n",
            "{'save_path': '/content/drive/MyDrive/academics/columbia/neural_networks/project/data/round_6/model_0_of_100/model_1_of_100/model_2_of_100/model_3_of_100/model_4_of_100/model_5_of_100/model_6_of_100/model_7_of_100/model_8_of_100/model_9_of_100/model_10_of_100/model_11_of_100/model_12_of_100/model_13_of_100/model_14_of_100/model_15_of_100/model_16_of_100/model_17_of_100/model_18_of_100/model_19_of_100/model_20_of_100/model_21_of_100/model_22_of_100/model_23_of_100/model_24_of_100/model_25_of_100/model_26_of_100/model_27_of_100/model_28_of_100/model_29_of_100.pth', 'history': None, 'model_name': 'model_29_of_100'}\n",
            "Model training took 0:00:00.234811\n",
            "model_30_of_100\n",
            "tensorboard path is /content/drive/MyDrive/academics/columbia/neural_networks/project/data/round_6/model_0_of_100/model_1_of_100/model_2_of_100/model_3_of_100/model_4_of_100/model_5_of_100/model_6_of_100/model_7_of_100/model_8_of_100/model_9_of_100/model_10_of_100/model_11_of_100/model_12_of_100/model_13_of_100/model_14_of_100/model_15_of_100/model_16_of_100/model_17_of_100/model_18_of_100/model_19_of_100/model_20_of_100/model_21_of_100/model_22_of_100/model_23_of_100/model_24_of_100/model_25_of_100/model_26_of_100/model_27_of_100/model_28_of_100/model_29_of_100/model_30_of_100\n",
            "save_path is /content/drive/MyDrive/academics/columbia/neural_networks/project/data/round_6/model_0_of_100/model_1_of_100/model_2_of_100/model_3_of_100/model_4_of_100/model_5_of_100/model_6_of_100/model_7_of_100/model_8_of_100/model_9_of_100/model_10_of_100/model_11_of_100/model_12_of_100/model_13_of_100/model_14_of_100/model_15_of_100/model_16_of_100/model_17_of_100/model_18_of_100/model_19_of_100/model_20_of_100/model_21_of_100/model_22_of_100/model_23_of_100/model_24_of_100/model_25_of_100/model_26_of_100/model_27_of_100/model_28_of_100/model_29_of_100/model_30_of_100.pth\n",
            "path /content/drive/MyDrive/academics/columbia/neural_networks/project/data/round_6/model_0_of_100/model_1_of_100/model_2_of_100/model_3_of_100/model_4_of_100/model_5_of_100/model_6_of_100/model_7_of_100/model_8_of_100/model_9_of_100/model_10_of_100/model_11_of_100/model_12_of_100/model_13_of_100/model_14_of_100/model_15_of_100/model_16_of_100/model_17_of_100/model_18_of_100/model_19_of_100/model_20_of_100/model_21_of_100/model_22_of_100/model_23_of_100/model_24_of_100/model_25_of_100/model_26_of_100/model_27_of_100/model_28_of_100/model_29_of_100/model_30_of_100.pth already saved to. SKIPPING.\n",
            "30\n",
            "{'save_path': '/content/drive/MyDrive/academics/columbia/neural_networks/project/data/round_6/model_0_of_100/model_1_of_100/model_2_of_100/model_3_of_100/model_4_of_100/model_5_of_100/model_6_of_100/model_7_of_100/model_8_of_100/model_9_of_100/model_10_of_100/model_11_of_100/model_12_of_100/model_13_of_100/model_14_of_100/model_15_of_100/model_16_of_100/model_17_of_100/model_18_of_100/model_19_of_100/model_20_of_100/model_21_of_100/model_22_of_100/model_23_of_100/model_24_of_100/model_25_of_100/model_26_of_100/model_27_of_100/model_28_of_100/model_29_of_100/model_30_of_100.pth', 'history': None, 'model_name': 'model_30_of_100'}\n",
            "Model training took 0:00:00.296778\n",
            "model_31_of_100\n",
            "tensorboard path is /content/drive/MyDrive/academics/columbia/neural_networks/project/data/round_6/model_0_of_100/model_1_of_100/model_2_of_100/model_3_of_100/model_4_of_100/model_5_of_100/model_6_of_100/model_7_of_100/model_8_of_100/model_9_of_100/model_10_of_100/model_11_of_100/model_12_of_100/model_13_of_100/model_14_of_100/model_15_of_100/model_16_of_100/model_17_of_100/model_18_of_100/model_19_of_100/model_20_of_100/model_21_of_100/model_22_of_100/model_23_of_100/model_24_of_100/model_25_of_100/model_26_of_100/model_27_of_100/model_28_of_100/model_29_of_100/model_30_of_100/model_31_of_100\n",
            "save_path is /content/drive/MyDrive/academics/columbia/neural_networks/project/data/round_6/model_0_of_100/model_1_of_100/model_2_of_100/model_3_of_100/model_4_of_100/model_5_of_100/model_6_of_100/model_7_of_100/model_8_of_100/model_9_of_100/model_10_of_100/model_11_of_100/model_12_of_100/model_13_of_100/model_14_of_100/model_15_of_100/model_16_of_100/model_17_of_100/model_18_of_100/model_19_of_100/model_20_of_100/model_21_of_100/model_22_of_100/model_23_of_100/model_24_of_100/model_25_of_100/model_26_of_100/model_27_of_100/model_28_of_100/model_29_of_100/model_30_of_100/model_31_of_100.pth\n",
            "path /content/drive/MyDrive/academics/columbia/neural_networks/project/data/round_6/model_0_of_100/model_1_of_100/model_2_of_100/model_3_of_100/model_4_of_100/model_5_of_100/model_6_of_100/model_7_of_100/model_8_of_100/model_9_of_100/model_10_of_100/model_11_of_100/model_12_of_100/model_13_of_100/model_14_of_100/model_15_of_100/model_16_of_100/model_17_of_100/model_18_of_100/model_19_of_100/model_20_of_100/model_21_of_100/model_22_of_100/model_23_of_100/model_24_of_100/model_25_of_100/model_26_of_100/model_27_of_100/model_28_of_100/model_29_of_100/model_30_of_100/model_31_of_100.pth already saved to. SKIPPING.\n",
            "31\n",
            "{'save_path': '/content/drive/MyDrive/academics/columbia/neural_networks/project/data/round_6/model_0_of_100/model_1_of_100/model_2_of_100/model_3_of_100/model_4_of_100/model_5_of_100/model_6_of_100/model_7_of_100/model_8_of_100/model_9_of_100/model_10_of_100/model_11_of_100/model_12_of_100/model_13_of_100/model_14_of_100/model_15_of_100/model_16_of_100/model_17_of_100/model_18_of_100/model_19_of_100/model_20_of_100/model_21_of_100/model_22_of_100/model_23_of_100/model_24_of_100/model_25_of_100/model_26_of_100/model_27_of_100/model_28_of_100/model_29_of_100/model_30_of_100/model_31_of_100.pth', 'history': None, 'model_name': 'model_31_of_100'}\n",
            "Model training took 0:00:00.229859\n",
            "model_32_of_100\n",
            "tensorboard path is /content/drive/MyDrive/academics/columbia/neural_networks/project/data/round_6/model_0_of_100/model_1_of_100/model_2_of_100/model_3_of_100/model_4_of_100/model_5_of_100/model_6_of_100/model_7_of_100/model_8_of_100/model_9_of_100/model_10_of_100/model_11_of_100/model_12_of_100/model_13_of_100/model_14_of_100/model_15_of_100/model_16_of_100/model_17_of_100/model_18_of_100/model_19_of_100/model_20_of_100/model_21_of_100/model_22_of_100/model_23_of_100/model_24_of_100/model_25_of_100/model_26_of_100/model_27_of_100/model_28_of_100/model_29_of_100/model_30_of_100/model_31_of_100/model_32_of_100\n",
            "save_path is /content/drive/MyDrive/academics/columbia/neural_networks/project/data/round_6/model_0_of_100/model_1_of_100/model_2_of_100/model_3_of_100/model_4_of_100/model_5_of_100/model_6_of_100/model_7_of_100/model_8_of_100/model_9_of_100/model_10_of_100/model_11_of_100/model_12_of_100/model_13_of_100/model_14_of_100/model_15_of_100/model_16_of_100/model_17_of_100/model_18_of_100/model_19_of_100/model_20_of_100/model_21_of_100/model_22_of_100/model_23_of_100/model_24_of_100/model_25_of_100/model_26_of_100/model_27_of_100/model_28_of_100/model_29_of_100/model_30_of_100/model_31_of_100/model_32_of_100.pth\n",
            "path /content/drive/MyDrive/academics/columbia/neural_networks/project/data/round_6/model_0_of_100/model_1_of_100/model_2_of_100/model_3_of_100/model_4_of_100/model_5_of_100/model_6_of_100/model_7_of_100/model_8_of_100/model_9_of_100/model_10_of_100/model_11_of_100/model_12_of_100/model_13_of_100/model_14_of_100/model_15_of_100/model_16_of_100/model_17_of_100/model_18_of_100/model_19_of_100/model_20_of_100/model_21_of_100/model_22_of_100/model_23_of_100/model_24_of_100/model_25_of_100/model_26_of_100/model_27_of_100/model_28_of_100/model_29_of_100/model_30_of_100/model_31_of_100/model_32_of_100.pth already saved to. SKIPPING.\n",
            "32\n",
            "{'save_path': '/content/drive/MyDrive/academics/columbia/neural_networks/project/data/round_6/model_0_of_100/model_1_of_100/model_2_of_100/model_3_of_100/model_4_of_100/model_5_of_100/model_6_of_100/model_7_of_100/model_8_of_100/model_9_of_100/model_10_of_100/model_11_of_100/model_12_of_100/model_13_of_100/model_14_of_100/model_15_of_100/model_16_of_100/model_17_of_100/model_18_of_100/model_19_of_100/model_20_of_100/model_21_of_100/model_22_of_100/model_23_of_100/model_24_of_100/model_25_of_100/model_26_of_100/model_27_of_100/model_28_of_100/model_29_of_100/model_30_of_100/model_31_of_100/model_32_of_100.pth', 'history': None, 'model_name': 'model_32_of_100'}\n",
            "Model training took 0:00:00.312367\n",
            "model_33_of_100\n",
            "tensorboard path is /content/drive/MyDrive/academics/columbia/neural_networks/project/data/round_6/model_0_of_100/model_1_of_100/model_2_of_100/model_3_of_100/model_4_of_100/model_5_of_100/model_6_of_100/model_7_of_100/model_8_of_100/model_9_of_100/model_10_of_100/model_11_of_100/model_12_of_100/model_13_of_100/model_14_of_100/model_15_of_100/model_16_of_100/model_17_of_100/model_18_of_100/model_19_of_100/model_20_of_100/model_21_of_100/model_22_of_100/model_23_of_100/model_24_of_100/model_25_of_100/model_26_of_100/model_27_of_100/model_28_of_100/model_29_of_100/model_30_of_100/model_31_of_100/model_32_of_100/model_33_of_100\n",
            "save_path is /content/drive/MyDrive/academics/columbia/neural_networks/project/data/round_6/model_0_of_100/model_1_of_100/model_2_of_100/model_3_of_100/model_4_of_100/model_5_of_100/model_6_of_100/model_7_of_100/model_8_of_100/model_9_of_100/model_10_of_100/model_11_of_100/model_12_of_100/model_13_of_100/model_14_of_100/model_15_of_100/model_16_of_100/model_17_of_100/model_18_of_100/model_19_of_100/model_20_of_100/model_21_of_100/model_22_of_100/model_23_of_100/model_24_of_100/model_25_of_100/model_26_of_100/model_27_of_100/model_28_of_100/model_29_of_100/model_30_of_100/model_31_of_100/model_32_of_100/model_33_of_100.pth\n",
            "path /content/drive/MyDrive/academics/columbia/neural_networks/project/data/round_6/model_0_of_100/model_1_of_100/model_2_of_100/model_3_of_100/model_4_of_100/model_5_of_100/model_6_of_100/model_7_of_100/model_8_of_100/model_9_of_100/model_10_of_100/model_11_of_100/model_12_of_100/model_13_of_100/model_14_of_100/model_15_of_100/model_16_of_100/model_17_of_100/model_18_of_100/model_19_of_100/model_20_of_100/model_21_of_100/model_22_of_100/model_23_of_100/model_24_of_100/model_25_of_100/model_26_of_100/model_27_of_100/model_28_of_100/model_29_of_100/model_30_of_100/model_31_of_100/model_32_of_100/model_33_of_100.pth already saved to. SKIPPING.\n",
            "33\n",
            "{'save_path': '/content/drive/MyDrive/academics/columbia/neural_networks/project/data/round_6/model_0_of_100/model_1_of_100/model_2_of_100/model_3_of_100/model_4_of_100/model_5_of_100/model_6_of_100/model_7_of_100/model_8_of_100/model_9_of_100/model_10_of_100/model_11_of_100/model_12_of_100/model_13_of_100/model_14_of_100/model_15_of_100/model_16_of_100/model_17_of_100/model_18_of_100/model_19_of_100/model_20_of_100/model_21_of_100/model_22_of_100/model_23_of_100/model_24_of_100/model_25_of_100/model_26_of_100/model_27_of_100/model_28_of_100/model_29_of_100/model_30_of_100/model_31_of_100/model_32_of_100/model_33_of_100.pth', 'history': None, 'model_name': 'model_33_of_100'}\n",
            "Model training took 0:00:00.224393\n",
            "model_34_of_100\n",
            "tensorboard path is /content/drive/MyDrive/academics/columbia/neural_networks/project/data/round_6/model_0_of_100/model_1_of_100/model_2_of_100/model_3_of_100/model_4_of_100/model_5_of_100/model_6_of_100/model_7_of_100/model_8_of_100/model_9_of_100/model_10_of_100/model_11_of_100/model_12_of_100/model_13_of_100/model_14_of_100/model_15_of_100/model_16_of_100/model_17_of_100/model_18_of_100/model_19_of_100/model_20_of_100/model_21_of_100/model_22_of_100/model_23_of_100/model_24_of_100/model_25_of_100/model_26_of_100/model_27_of_100/model_28_of_100/model_29_of_100/model_30_of_100/model_31_of_100/model_32_of_100/model_33_of_100/model_34_of_100\n",
            "save_path is /content/drive/MyDrive/academics/columbia/neural_networks/project/data/round_6/model_0_of_100/model_1_of_100/model_2_of_100/model_3_of_100/model_4_of_100/model_5_of_100/model_6_of_100/model_7_of_100/model_8_of_100/model_9_of_100/model_10_of_100/model_11_of_100/model_12_of_100/model_13_of_100/model_14_of_100/model_15_of_100/model_16_of_100/model_17_of_100/model_18_of_100/model_19_of_100/model_20_of_100/model_21_of_100/model_22_of_100/model_23_of_100/model_24_of_100/model_25_of_100/model_26_of_100/model_27_of_100/model_28_of_100/model_29_of_100/model_30_of_100/model_31_of_100/model_32_of_100/model_33_of_100/model_34_of_100.pth\n",
            "path /content/drive/MyDrive/academics/columbia/neural_networks/project/data/round_6/model_0_of_100/model_1_of_100/model_2_of_100/model_3_of_100/model_4_of_100/model_5_of_100/model_6_of_100/model_7_of_100/model_8_of_100/model_9_of_100/model_10_of_100/model_11_of_100/model_12_of_100/model_13_of_100/model_14_of_100/model_15_of_100/model_16_of_100/model_17_of_100/model_18_of_100/model_19_of_100/model_20_of_100/model_21_of_100/model_22_of_100/model_23_of_100/model_24_of_100/model_25_of_100/model_26_of_100/model_27_of_100/model_28_of_100/model_29_of_100/model_30_of_100/model_31_of_100/model_32_of_100/model_33_of_100/model_34_of_100.pth already saved to. SKIPPING.\n",
            "34\n",
            "{'save_path': '/content/drive/MyDrive/academics/columbia/neural_networks/project/data/round_6/model_0_of_100/model_1_of_100/model_2_of_100/model_3_of_100/model_4_of_100/model_5_of_100/model_6_of_100/model_7_of_100/model_8_of_100/model_9_of_100/model_10_of_100/model_11_of_100/model_12_of_100/model_13_of_100/model_14_of_100/model_15_of_100/model_16_of_100/model_17_of_100/model_18_of_100/model_19_of_100/model_20_of_100/model_21_of_100/model_22_of_100/model_23_of_100/model_24_of_100/model_25_of_100/model_26_of_100/model_27_of_100/model_28_of_100/model_29_of_100/model_30_of_100/model_31_of_100/model_32_of_100/model_33_of_100/model_34_of_100.pth', 'history': None, 'model_name': 'model_34_of_100'}\n",
            "Model training took 0:00:00.287385\n",
            "model_35_of_100\n",
            "tensorboard path is /content/drive/MyDrive/academics/columbia/neural_networks/project/data/round_6/model_0_of_100/model_1_of_100/model_2_of_100/model_3_of_100/model_4_of_100/model_5_of_100/model_6_of_100/model_7_of_100/model_8_of_100/model_9_of_100/model_10_of_100/model_11_of_100/model_12_of_100/model_13_of_100/model_14_of_100/model_15_of_100/model_16_of_100/model_17_of_100/model_18_of_100/model_19_of_100/model_20_of_100/model_21_of_100/model_22_of_100/model_23_of_100/model_24_of_100/model_25_of_100/model_26_of_100/model_27_of_100/model_28_of_100/model_29_of_100/model_30_of_100/model_31_of_100/model_32_of_100/model_33_of_100/model_34_of_100/model_35_of_100\n",
            "save_path is /content/drive/MyDrive/academics/columbia/neural_networks/project/data/round_6/model_0_of_100/model_1_of_100/model_2_of_100/model_3_of_100/model_4_of_100/model_5_of_100/model_6_of_100/model_7_of_100/model_8_of_100/model_9_of_100/model_10_of_100/model_11_of_100/model_12_of_100/model_13_of_100/model_14_of_100/model_15_of_100/model_16_of_100/model_17_of_100/model_18_of_100/model_19_of_100/model_20_of_100/model_21_of_100/model_22_of_100/model_23_of_100/model_24_of_100/model_25_of_100/model_26_of_100/model_27_of_100/model_28_of_100/model_29_of_100/model_30_of_100/model_31_of_100/model_32_of_100/model_33_of_100/model_34_of_100/model_35_of_100.pth\n",
            "path /content/drive/MyDrive/academics/columbia/neural_networks/project/data/round_6/model_0_of_100/model_1_of_100/model_2_of_100/model_3_of_100/model_4_of_100/model_5_of_100/model_6_of_100/model_7_of_100/model_8_of_100/model_9_of_100/model_10_of_100/model_11_of_100/model_12_of_100/model_13_of_100/model_14_of_100/model_15_of_100/model_16_of_100/model_17_of_100/model_18_of_100/model_19_of_100/model_20_of_100/model_21_of_100/model_22_of_100/model_23_of_100/model_24_of_100/model_25_of_100/model_26_of_100/model_27_of_100/model_28_of_100/model_29_of_100/model_30_of_100/model_31_of_100/model_32_of_100/model_33_of_100/model_34_of_100/model_35_of_100.pth already saved to. SKIPPING.\n",
            "35\n",
            "{'save_path': '/content/drive/MyDrive/academics/columbia/neural_networks/project/data/round_6/model_0_of_100/model_1_of_100/model_2_of_100/model_3_of_100/model_4_of_100/model_5_of_100/model_6_of_100/model_7_of_100/model_8_of_100/model_9_of_100/model_10_of_100/model_11_of_100/model_12_of_100/model_13_of_100/model_14_of_100/model_15_of_100/model_16_of_100/model_17_of_100/model_18_of_100/model_19_of_100/model_20_of_100/model_21_of_100/model_22_of_100/model_23_of_100/model_24_of_100/model_25_of_100/model_26_of_100/model_27_of_100/model_28_of_100/model_29_of_100/model_30_of_100/model_31_of_100/model_32_of_100/model_33_of_100/model_34_of_100/model_35_of_100.pth', 'history': None, 'model_name': 'model_35_of_100'}\n",
            "Model training took 0:00:00.417743\n",
            "model_36_of_100\n",
            "tensorboard path is /content/drive/MyDrive/academics/columbia/neural_networks/project/data/round_6/model_0_of_100/model_1_of_100/model_2_of_100/model_3_of_100/model_4_of_100/model_5_of_100/model_6_of_100/model_7_of_100/model_8_of_100/model_9_of_100/model_10_of_100/model_11_of_100/model_12_of_100/model_13_of_100/model_14_of_100/model_15_of_100/model_16_of_100/model_17_of_100/model_18_of_100/model_19_of_100/model_20_of_100/model_21_of_100/model_22_of_100/model_23_of_100/model_24_of_100/model_25_of_100/model_26_of_100/model_27_of_100/model_28_of_100/model_29_of_100/model_30_of_100/model_31_of_100/model_32_of_100/model_33_of_100/model_34_of_100/model_35_of_100/model_36_of_100\n",
            "save_path is /content/drive/MyDrive/academics/columbia/neural_networks/project/data/round_6/model_0_of_100/model_1_of_100/model_2_of_100/model_3_of_100/model_4_of_100/model_5_of_100/model_6_of_100/model_7_of_100/model_8_of_100/model_9_of_100/model_10_of_100/model_11_of_100/model_12_of_100/model_13_of_100/model_14_of_100/model_15_of_100/model_16_of_100/model_17_of_100/model_18_of_100/model_19_of_100/model_20_of_100/model_21_of_100/model_22_of_100/model_23_of_100/model_24_of_100/model_25_of_100/model_26_of_100/model_27_of_100/model_28_of_100/model_29_of_100/model_30_of_100/model_31_of_100/model_32_of_100/model_33_of_100/model_34_of_100/model_35_of_100/model_36_of_100.pth\n",
            "path /content/drive/MyDrive/academics/columbia/neural_networks/project/data/round_6/model_0_of_100/model_1_of_100/model_2_of_100/model_3_of_100/model_4_of_100/model_5_of_100/model_6_of_100/model_7_of_100/model_8_of_100/model_9_of_100/model_10_of_100/model_11_of_100/model_12_of_100/model_13_of_100/model_14_of_100/model_15_of_100/model_16_of_100/model_17_of_100/model_18_of_100/model_19_of_100/model_20_of_100/model_21_of_100/model_22_of_100/model_23_of_100/model_24_of_100/model_25_of_100/model_26_of_100/model_27_of_100/model_28_of_100/model_29_of_100/model_30_of_100/model_31_of_100/model_32_of_100/model_33_of_100/model_34_of_100/model_35_of_100/model_36_of_100.pth already saved to. SKIPPING.\n",
            "36\n",
            "{'save_path': '/content/drive/MyDrive/academics/columbia/neural_networks/project/data/round_6/model_0_of_100/model_1_of_100/model_2_of_100/model_3_of_100/model_4_of_100/model_5_of_100/model_6_of_100/model_7_of_100/model_8_of_100/model_9_of_100/model_10_of_100/model_11_of_100/model_12_of_100/model_13_of_100/model_14_of_100/model_15_of_100/model_16_of_100/model_17_of_100/model_18_of_100/model_19_of_100/model_20_of_100/model_21_of_100/model_22_of_100/model_23_of_100/model_24_of_100/model_25_of_100/model_26_of_100/model_27_of_100/model_28_of_100/model_29_of_100/model_30_of_100/model_31_of_100/model_32_of_100/model_33_of_100/model_34_of_100/model_35_of_100/model_36_of_100.pth', 'history': None, 'model_name': 'model_36_of_100'}\n",
            "Model training took 0:00:00.303331\n",
            "model_37_of_100\n",
            "tensorboard path is /content/drive/MyDrive/academics/columbia/neural_networks/project/data/round_6/model_0_of_100/model_1_of_100/model_2_of_100/model_3_of_100/model_4_of_100/model_5_of_100/model_6_of_100/model_7_of_100/model_8_of_100/model_9_of_100/model_10_of_100/model_11_of_100/model_12_of_100/model_13_of_100/model_14_of_100/model_15_of_100/model_16_of_100/model_17_of_100/model_18_of_100/model_19_of_100/model_20_of_100/model_21_of_100/model_22_of_100/model_23_of_100/model_24_of_100/model_25_of_100/model_26_of_100/model_27_of_100/model_28_of_100/model_29_of_100/model_30_of_100/model_31_of_100/model_32_of_100/model_33_of_100/model_34_of_100/model_35_of_100/model_36_of_100/model_37_of_100\n",
            "save_path is /content/drive/MyDrive/academics/columbia/neural_networks/project/data/round_6/model_0_of_100/model_1_of_100/model_2_of_100/model_3_of_100/model_4_of_100/model_5_of_100/model_6_of_100/model_7_of_100/model_8_of_100/model_9_of_100/model_10_of_100/model_11_of_100/model_12_of_100/model_13_of_100/model_14_of_100/model_15_of_100/model_16_of_100/model_17_of_100/model_18_of_100/model_19_of_100/model_20_of_100/model_21_of_100/model_22_of_100/model_23_of_100/model_24_of_100/model_25_of_100/model_26_of_100/model_27_of_100/model_28_of_100/model_29_of_100/model_30_of_100/model_31_of_100/model_32_of_100/model_33_of_100/model_34_of_100/model_35_of_100/model_36_of_100/model_37_of_100.pth\n",
            "path /content/drive/MyDrive/academics/columbia/neural_networks/project/data/round_6/model_0_of_100/model_1_of_100/model_2_of_100/model_3_of_100/model_4_of_100/model_5_of_100/model_6_of_100/model_7_of_100/model_8_of_100/model_9_of_100/model_10_of_100/model_11_of_100/model_12_of_100/model_13_of_100/model_14_of_100/model_15_of_100/model_16_of_100/model_17_of_100/model_18_of_100/model_19_of_100/model_20_of_100/model_21_of_100/model_22_of_100/model_23_of_100/model_24_of_100/model_25_of_100/model_26_of_100/model_27_of_100/model_28_of_100/model_29_of_100/model_30_of_100/model_31_of_100/model_32_of_100/model_33_of_100/model_34_of_100/model_35_of_100/model_36_of_100/model_37_of_100.pth already saved to. SKIPPING.\n",
            "37\n",
            "{'save_path': '/content/drive/MyDrive/academics/columbia/neural_networks/project/data/round_6/model_0_of_100/model_1_of_100/model_2_of_100/model_3_of_100/model_4_of_100/model_5_of_100/model_6_of_100/model_7_of_100/model_8_of_100/model_9_of_100/model_10_of_100/model_11_of_100/model_12_of_100/model_13_of_100/model_14_of_100/model_15_of_100/model_16_of_100/model_17_of_100/model_18_of_100/model_19_of_100/model_20_of_100/model_21_of_100/model_22_of_100/model_23_of_100/model_24_of_100/model_25_of_100/model_26_of_100/model_27_of_100/model_28_of_100/model_29_of_100/model_30_of_100/model_31_of_100/model_32_of_100/model_33_of_100/model_34_of_100/model_35_of_100/model_36_of_100/model_37_of_100.pth', 'history': None, 'model_name': 'model_37_of_100'}\n",
            "Model training took 0:00:00.248906\n",
            "model_38_of_100\n",
            "tensorboard path is /content/drive/MyDrive/academics/columbia/neural_networks/project/data/round_6/model_0_of_100/model_1_of_100/model_2_of_100/model_3_of_100/model_4_of_100/model_5_of_100/model_6_of_100/model_7_of_100/model_8_of_100/model_9_of_100/model_10_of_100/model_11_of_100/model_12_of_100/model_13_of_100/model_14_of_100/model_15_of_100/model_16_of_100/model_17_of_100/model_18_of_100/model_19_of_100/model_20_of_100/model_21_of_100/model_22_of_100/model_23_of_100/model_24_of_100/model_25_of_100/model_26_of_100/model_27_of_100/model_28_of_100/model_29_of_100/model_30_of_100/model_31_of_100/model_32_of_100/model_33_of_100/model_34_of_100/model_35_of_100/model_36_of_100/model_37_of_100/model_38_of_100\n",
            "save_path is /content/drive/MyDrive/academics/columbia/neural_networks/project/data/round_6/model_0_of_100/model_1_of_100/model_2_of_100/model_3_of_100/model_4_of_100/model_5_of_100/model_6_of_100/model_7_of_100/model_8_of_100/model_9_of_100/model_10_of_100/model_11_of_100/model_12_of_100/model_13_of_100/model_14_of_100/model_15_of_100/model_16_of_100/model_17_of_100/model_18_of_100/model_19_of_100/model_20_of_100/model_21_of_100/model_22_of_100/model_23_of_100/model_24_of_100/model_25_of_100/model_26_of_100/model_27_of_100/model_28_of_100/model_29_of_100/model_30_of_100/model_31_of_100/model_32_of_100/model_33_of_100/model_34_of_100/model_35_of_100/model_36_of_100/model_37_of_100/model_38_of_100.pth\n",
            "path /content/drive/MyDrive/academics/columbia/neural_networks/project/data/round_6/model_0_of_100/model_1_of_100/model_2_of_100/model_3_of_100/model_4_of_100/model_5_of_100/model_6_of_100/model_7_of_100/model_8_of_100/model_9_of_100/model_10_of_100/model_11_of_100/model_12_of_100/model_13_of_100/model_14_of_100/model_15_of_100/model_16_of_100/model_17_of_100/model_18_of_100/model_19_of_100/model_20_of_100/model_21_of_100/model_22_of_100/model_23_of_100/model_24_of_100/model_25_of_100/model_26_of_100/model_27_of_100/model_28_of_100/model_29_of_100/model_30_of_100/model_31_of_100/model_32_of_100/model_33_of_100/model_34_of_100/model_35_of_100/model_36_of_100/model_37_of_100/model_38_of_100.pth already saved to. SKIPPING.\n",
            "38\n",
            "{'save_path': '/content/drive/MyDrive/academics/columbia/neural_networks/project/data/round_6/model_0_of_100/model_1_of_100/model_2_of_100/model_3_of_100/model_4_of_100/model_5_of_100/model_6_of_100/model_7_of_100/model_8_of_100/model_9_of_100/model_10_of_100/model_11_of_100/model_12_of_100/model_13_of_100/model_14_of_100/model_15_of_100/model_16_of_100/model_17_of_100/model_18_of_100/model_19_of_100/model_20_of_100/model_21_of_100/model_22_of_100/model_23_of_100/model_24_of_100/model_25_of_100/model_26_of_100/model_27_of_100/model_28_of_100/model_29_of_100/model_30_of_100/model_31_of_100/model_32_of_100/model_33_of_100/model_34_of_100/model_35_of_100/model_36_of_100/model_37_of_100/model_38_of_100.pth', 'history': None, 'model_name': 'model_38_of_100'}\n",
            "Model training took 0:00:00.328768\n",
            "model_39_of_100\n",
            "tensorboard path is /content/drive/MyDrive/academics/columbia/neural_networks/project/data/round_6/model_0_of_100/model_1_of_100/model_2_of_100/model_3_of_100/model_4_of_100/model_5_of_100/model_6_of_100/model_7_of_100/model_8_of_100/model_9_of_100/model_10_of_100/model_11_of_100/model_12_of_100/model_13_of_100/model_14_of_100/model_15_of_100/model_16_of_100/model_17_of_100/model_18_of_100/model_19_of_100/model_20_of_100/model_21_of_100/model_22_of_100/model_23_of_100/model_24_of_100/model_25_of_100/model_26_of_100/model_27_of_100/model_28_of_100/model_29_of_100/model_30_of_100/model_31_of_100/model_32_of_100/model_33_of_100/model_34_of_100/model_35_of_100/model_36_of_100/model_37_of_100/model_38_of_100/model_39_of_100\n",
            "save_path is /content/drive/MyDrive/academics/columbia/neural_networks/project/data/round_6/model_0_of_100/model_1_of_100/model_2_of_100/model_3_of_100/model_4_of_100/model_5_of_100/model_6_of_100/model_7_of_100/model_8_of_100/model_9_of_100/model_10_of_100/model_11_of_100/model_12_of_100/model_13_of_100/model_14_of_100/model_15_of_100/model_16_of_100/model_17_of_100/model_18_of_100/model_19_of_100/model_20_of_100/model_21_of_100/model_22_of_100/model_23_of_100/model_24_of_100/model_25_of_100/model_26_of_100/model_27_of_100/model_28_of_100/model_29_of_100/model_30_of_100/model_31_of_100/model_32_of_100/model_33_of_100/model_34_of_100/model_35_of_100/model_36_of_100/model_37_of_100/model_38_of_100/model_39_of_100.pth\n",
            "path /content/drive/MyDrive/academics/columbia/neural_networks/project/data/round_6/model_0_of_100/model_1_of_100/model_2_of_100/model_3_of_100/model_4_of_100/model_5_of_100/model_6_of_100/model_7_of_100/model_8_of_100/model_9_of_100/model_10_of_100/model_11_of_100/model_12_of_100/model_13_of_100/model_14_of_100/model_15_of_100/model_16_of_100/model_17_of_100/model_18_of_100/model_19_of_100/model_20_of_100/model_21_of_100/model_22_of_100/model_23_of_100/model_24_of_100/model_25_of_100/model_26_of_100/model_27_of_100/model_28_of_100/model_29_of_100/model_30_of_100/model_31_of_100/model_32_of_100/model_33_of_100/model_34_of_100/model_35_of_100/model_36_of_100/model_37_of_100/model_38_of_100/model_39_of_100.pth already saved to. SKIPPING.\n",
            "39\n",
            "{'save_path': '/content/drive/MyDrive/academics/columbia/neural_networks/project/data/round_6/model_0_of_100/model_1_of_100/model_2_of_100/model_3_of_100/model_4_of_100/model_5_of_100/model_6_of_100/model_7_of_100/model_8_of_100/model_9_of_100/model_10_of_100/model_11_of_100/model_12_of_100/model_13_of_100/model_14_of_100/model_15_of_100/model_16_of_100/model_17_of_100/model_18_of_100/model_19_of_100/model_20_of_100/model_21_of_100/model_22_of_100/model_23_of_100/model_24_of_100/model_25_of_100/model_26_of_100/model_27_of_100/model_28_of_100/model_29_of_100/model_30_of_100/model_31_of_100/model_32_of_100/model_33_of_100/model_34_of_100/model_35_of_100/model_36_of_100/model_37_of_100/model_38_of_100/model_39_of_100.pth', 'history': None, 'model_name': 'model_39_of_100'}\n",
            "Model training took 0:00:00.254620\n",
            "model_40_of_100\n",
            "tensorboard path is /content/drive/MyDrive/academics/columbia/neural_networks/project/data/round_6/model_0_of_100/model_1_of_100/model_2_of_100/model_3_of_100/model_4_of_100/model_5_of_100/model_6_of_100/model_7_of_100/model_8_of_100/model_9_of_100/model_10_of_100/model_11_of_100/model_12_of_100/model_13_of_100/model_14_of_100/model_15_of_100/model_16_of_100/model_17_of_100/model_18_of_100/model_19_of_100/model_20_of_100/model_21_of_100/model_22_of_100/model_23_of_100/model_24_of_100/model_25_of_100/model_26_of_100/model_27_of_100/model_28_of_100/model_29_of_100/model_30_of_100/model_31_of_100/model_32_of_100/model_33_of_100/model_34_of_100/model_35_of_100/model_36_of_100/model_37_of_100/model_38_of_100/model_39_of_100/model_40_of_100\n",
            "save_path is /content/drive/MyDrive/academics/columbia/neural_networks/project/data/round_6/model_0_of_100/model_1_of_100/model_2_of_100/model_3_of_100/model_4_of_100/model_5_of_100/model_6_of_100/model_7_of_100/model_8_of_100/model_9_of_100/model_10_of_100/model_11_of_100/model_12_of_100/model_13_of_100/model_14_of_100/model_15_of_100/model_16_of_100/model_17_of_100/model_18_of_100/model_19_of_100/model_20_of_100/model_21_of_100/model_22_of_100/model_23_of_100/model_24_of_100/model_25_of_100/model_26_of_100/model_27_of_100/model_28_of_100/model_29_of_100/model_30_of_100/model_31_of_100/model_32_of_100/model_33_of_100/model_34_of_100/model_35_of_100/model_36_of_100/model_37_of_100/model_38_of_100/model_39_of_100/model_40_of_100.pth\n",
            "path /content/drive/MyDrive/academics/columbia/neural_networks/project/data/round_6/model_0_of_100/model_1_of_100/model_2_of_100/model_3_of_100/model_4_of_100/model_5_of_100/model_6_of_100/model_7_of_100/model_8_of_100/model_9_of_100/model_10_of_100/model_11_of_100/model_12_of_100/model_13_of_100/model_14_of_100/model_15_of_100/model_16_of_100/model_17_of_100/model_18_of_100/model_19_of_100/model_20_of_100/model_21_of_100/model_22_of_100/model_23_of_100/model_24_of_100/model_25_of_100/model_26_of_100/model_27_of_100/model_28_of_100/model_29_of_100/model_30_of_100/model_31_of_100/model_32_of_100/model_33_of_100/model_34_of_100/model_35_of_100/model_36_of_100/model_37_of_100/model_38_of_100/model_39_of_100/model_40_of_100.pth already saved to. SKIPPING.\n",
            "40\n",
            "{'save_path': '/content/drive/MyDrive/academics/columbia/neural_networks/project/data/round_6/model_0_of_100/model_1_of_100/model_2_of_100/model_3_of_100/model_4_of_100/model_5_of_100/model_6_of_100/model_7_of_100/model_8_of_100/model_9_of_100/model_10_of_100/model_11_of_100/model_12_of_100/model_13_of_100/model_14_of_100/model_15_of_100/model_16_of_100/model_17_of_100/model_18_of_100/model_19_of_100/model_20_of_100/model_21_of_100/model_22_of_100/model_23_of_100/model_24_of_100/model_25_of_100/model_26_of_100/model_27_of_100/model_28_of_100/model_29_of_100/model_30_of_100/model_31_of_100/model_32_of_100/model_33_of_100/model_34_of_100/model_35_of_100/model_36_of_100/model_37_of_100/model_38_of_100/model_39_of_100/model_40_of_100.pth', 'history': None, 'model_name': 'model_40_of_100'}\n",
            "Model training took 0:00:00.327381\n",
            "model_41_of_100\n",
            "tensorboard path is /content/drive/MyDrive/academics/columbia/neural_networks/project/data/round_6/model_0_of_100/model_1_of_100/model_2_of_100/model_3_of_100/model_4_of_100/model_5_of_100/model_6_of_100/model_7_of_100/model_8_of_100/model_9_of_100/model_10_of_100/model_11_of_100/model_12_of_100/model_13_of_100/model_14_of_100/model_15_of_100/model_16_of_100/model_17_of_100/model_18_of_100/model_19_of_100/model_20_of_100/model_21_of_100/model_22_of_100/model_23_of_100/model_24_of_100/model_25_of_100/model_26_of_100/model_27_of_100/model_28_of_100/model_29_of_100/model_30_of_100/model_31_of_100/model_32_of_100/model_33_of_100/model_34_of_100/model_35_of_100/model_36_of_100/model_37_of_100/model_38_of_100/model_39_of_100/model_40_of_100/model_41_of_100\n",
            "save_path is /content/drive/MyDrive/academics/columbia/neural_networks/project/data/round_6/model_0_of_100/model_1_of_100/model_2_of_100/model_3_of_100/model_4_of_100/model_5_of_100/model_6_of_100/model_7_of_100/model_8_of_100/model_9_of_100/model_10_of_100/model_11_of_100/model_12_of_100/model_13_of_100/model_14_of_100/model_15_of_100/model_16_of_100/model_17_of_100/model_18_of_100/model_19_of_100/model_20_of_100/model_21_of_100/model_22_of_100/model_23_of_100/model_24_of_100/model_25_of_100/model_26_of_100/model_27_of_100/model_28_of_100/model_29_of_100/model_30_of_100/model_31_of_100/model_32_of_100/model_33_of_100/model_34_of_100/model_35_of_100/model_36_of_100/model_37_of_100/model_38_of_100/model_39_of_100/model_40_of_100/model_41_of_100.pth\n",
            "path /content/drive/MyDrive/academics/columbia/neural_networks/project/data/round_6/model_0_of_100/model_1_of_100/model_2_of_100/model_3_of_100/model_4_of_100/model_5_of_100/model_6_of_100/model_7_of_100/model_8_of_100/model_9_of_100/model_10_of_100/model_11_of_100/model_12_of_100/model_13_of_100/model_14_of_100/model_15_of_100/model_16_of_100/model_17_of_100/model_18_of_100/model_19_of_100/model_20_of_100/model_21_of_100/model_22_of_100/model_23_of_100/model_24_of_100/model_25_of_100/model_26_of_100/model_27_of_100/model_28_of_100/model_29_of_100/model_30_of_100/model_31_of_100/model_32_of_100/model_33_of_100/model_34_of_100/model_35_of_100/model_36_of_100/model_37_of_100/model_38_of_100/model_39_of_100/model_40_of_100/model_41_of_100.pth already saved to. SKIPPING.\n",
            "41\n",
            "{'save_path': '/content/drive/MyDrive/academics/columbia/neural_networks/project/data/round_6/model_0_of_100/model_1_of_100/model_2_of_100/model_3_of_100/model_4_of_100/model_5_of_100/model_6_of_100/model_7_of_100/model_8_of_100/model_9_of_100/model_10_of_100/model_11_of_100/model_12_of_100/model_13_of_100/model_14_of_100/model_15_of_100/model_16_of_100/model_17_of_100/model_18_of_100/model_19_of_100/model_20_of_100/model_21_of_100/model_22_of_100/model_23_of_100/model_24_of_100/model_25_of_100/model_26_of_100/model_27_of_100/model_28_of_100/model_29_of_100/model_30_of_100/model_31_of_100/model_32_of_100/model_33_of_100/model_34_of_100/model_35_of_100/model_36_of_100/model_37_of_100/model_38_of_100/model_39_of_100/model_40_of_100/model_41_of_100.pth', 'history': None, 'model_name': 'model_41_of_100'}\n",
            "Model training took 0:00:00.273992\n",
            "model_42_of_100\n",
            "tensorboard path is /content/drive/MyDrive/academics/columbia/neural_networks/project/data/round_6/model_0_of_100/model_1_of_100/model_2_of_100/model_3_of_100/model_4_of_100/model_5_of_100/model_6_of_100/model_7_of_100/model_8_of_100/model_9_of_100/model_10_of_100/model_11_of_100/model_12_of_100/model_13_of_100/model_14_of_100/model_15_of_100/model_16_of_100/model_17_of_100/model_18_of_100/model_19_of_100/model_20_of_100/model_21_of_100/model_22_of_100/model_23_of_100/model_24_of_100/model_25_of_100/model_26_of_100/model_27_of_100/model_28_of_100/model_29_of_100/model_30_of_100/model_31_of_100/model_32_of_100/model_33_of_100/model_34_of_100/model_35_of_100/model_36_of_100/model_37_of_100/model_38_of_100/model_39_of_100/model_40_of_100/model_41_of_100/model_42_of_100\n",
            "save_path is /content/drive/MyDrive/academics/columbia/neural_networks/project/data/round_6/model_0_of_100/model_1_of_100/model_2_of_100/model_3_of_100/model_4_of_100/model_5_of_100/model_6_of_100/model_7_of_100/model_8_of_100/model_9_of_100/model_10_of_100/model_11_of_100/model_12_of_100/model_13_of_100/model_14_of_100/model_15_of_100/model_16_of_100/model_17_of_100/model_18_of_100/model_19_of_100/model_20_of_100/model_21_of_100/model_22_of_100/model_23_of_100/model_24_of_100/model_25_of_100/model_26_of_100/model_27_of_100/model_28_of_100/model_29_of_100/model_30_of_100/model_31_of_100/model_32_of_100/model_33_of_100/model_34_of_100/model_35_of_100/model_36_of_100/model_37_of_100/model_38_of_100/model_39_of_100/model_40_of_100/model_41_of_100/model_42_of_100.pth\n",
            "path /content/drive/MyDrive/academics/columbia/neural_networks/project/data/round_6/model_0_of_100/model_1_of_100/model_2_of_100/model_3_of_100/model_4_of_100/model_5_of_100/model_6_of_100/model_7_of_100/model_8_of_100/model_9_of_100/model_10_of_100/model_11_of_100/model_12_of_100/model_13_of_100/model_14_of_100/model_15_of_100/model_16_of_100/model_17_of_100/model_18_of_100/model_19_of_100/model_20_of_100/model_21_of_100/model_22_of_100/model_23_of_100/model_24_of_100/model_25_of_100/model_26_of_100/model_27_of_100/model_28_of_100/model_29_of_100/model_30_of_100/model_31_of_100/model_32_of_100/model_33_of_100/model_34_of_100/model_35_of_100/model_36_of_100/model_37_of_100/model_38_of_100/model_39_of_100/model_40_of_100/model_41_of_100/model_42_of_100.pth already saved to. SKIPPING.\n",
            "42\n",
            "{'save_path': '/content/drive/MyDrive/academics/columbia/neural_networks/project/data/round_6/model_0_of_100/model_1_of_100/model_2_of_100/model_3_of_100/model_4_of_100/model_5_of_100/model_6_of_100/model_7_of_100/model_8_of_100/model_9_of_100/model_10_of_100/model_11_of_100/model_12_of_100/model_13_of_100/model_14_of_100/model_15_of_100/model_16_of_100/model_17_of_100/model_18_of_100/model_19_of_100/model_20_of_100/model_21_of_100/model_22_of_100/model_23_of_100/model_24_of_100/model_25_of_100/model_26_of_100/model_27_of_100/model_28_of_100/model_29_of_100/model_30_of_100/model_31_of_100/model_32_of_100/model_33_of_100/model_34_of_100/model_35_of_100/model_36_of_100/model_37_of_100/model_38_of_100/model_39_of_100/model_40_of_100/model_41_of_100/model_42_of_100.pth', 'history': None, 'model_name': 'model_42_of_100'}\n",
            "Model training took 0:00:00.271451\n",
            "model_43_of_100\n",
            "tensorboard path is /content/drive/MyDrive/academics/columbia/neural_networks/project/data/round_6/model_0_of_100/model_1_of_100/model_2_of_100/model_3_of_100/model_4_of_100/model_5_of_100/model_6_of_100/model_7_of_100/model_8_of_100/model_9_of_100/model_10_of_100/model_11_of_100/model_12_of_100/model_13_of_100/model_14_of_100/model_15_of_100/model_16_of_100/model_17_of_100/model_18_of_100/model_19_of_100/model_20_of_100/model_21_of_100/model_22_of_100/model_23_of_100/model_24_of_100/model_25_of_100/model_26_of_100/model_27_of_100/model_28_of_100/model_29_of_100/model_30_of_100/model_31_of_100/model_32_of_100/model_33_of_100/model_34_of_100/model_35_of_100/model_36_of_100/model_37_of_100/model_38_of_100/model_39_of_100/model_40_of_100/model_41_of_100/model_42_of_100/model_43_of_100\n",
            "save_path is /content/drive/MyDrive/academics/columbia/neural_networks/project/data/round_6/model_0_of_100/model_1_of_100/model_2_of_100/model_3_of_100/model_4_of_100/model_5_of_100/model_6_of_100/model_7_of_100/model_8_of_100/model_9_of_100/model_10_of_100/model_11_of_100/model_12_of_100/model_13_of_100/model_14_of_100/model_15_of_100/model_16_of_100/model_17_of_100/model_18_of_100/model_19_of_100/model_20_of_100/model_21_of_100/model_22_of_100/model_23_of_100/model_24_of_100/model_25_of_100/model_26_of_100/model_27_of_100/model_28_of_100/model_29_of_100/model_30_of_100/model_31_of_100/model_32_of_100/model_33_of_100/model_34_of_100/model_35_of_100/model_36_of_100/model_37_of_100/model_38_of_100/model_39_of_100/model_40_of_100/model_41_of_100/model_42_of_100/model_43_of_100.pth\n",
            "path /content/drive/MyDrive/academics/columbia/neural_networks/project/data/round_6/model_0_of_100/model_1_of_100/model_2_of_100/model_3_of_100/model_4_of_100/model_5_of_100/model_6_of_100/model_7_of_100/model_8_of_100/model_9_of_100/model_10_of_100/model_11_of_100/model_12_of_100/model_13_of_100/model_14_of_100/model_15_of_100/model_16_of_100/model_17_of_100/model_18_of_100/model_19_of_100/model_20_of_100/model_21_of_100/model_22_of_100/model_23_of_100/model_24_of_100/model_25_of_100/model_26_of_100/model_27_of_100/model_28_of_100/model_29_of_100/model_30_of_100/model_31_of_100/model_32_of_100/model_33_of_100/model_34_of_100/model_35_of_100/model_36_of_100/model_37_of_100/model_38_of_100/model_39_of_100/model_40_of_100/model_41_of_100/model_42_of_100/model_43_of_100.pth already saved to. SKIPPING.\n",
            "43\n",
            "{'save_path': '/content/drive/MyDrive/academics/columbia/neural_networks/project/data/round_6/model_0_of_100/model_1_of_100/model_2_of_100/model_3_of_100/model_4_of_100/model_5_of_100/model_6_of_100/model_7_of_100/model_8_of_100/model_9_of_100/model_10_of_100/model_11_of_100/model_12_of_100/model_13_of_100/model_14_of_100/model_15_of_100/model_16_of_100/model_17_of_100/model_18_of_100/model_19_of_100/model_20_of_100/model_21_of_100/model_22_of_100/model_23_of_100/model_24_of_100/model_25_of_100/model_26_of_100/model_27_of_100/model_28_of_100/model_29_of_100/model_30_of_100/model_31_of_100/model_32_of_100/model_33_of_100/model_34_of_100/model_35_of_100/model_36_of_100/model_37_of_100/model_38_of_100/model_39_of_100/model_40_of_100/model_41_of_100/model_42_of_100/model_43_of_100.pth', 'history': None, 'model_name': 'model_43_of_100'}\n",
            "Model training took 0:00:00.277299\n",
            "model_44_of_100\n",
            "tensorboard path is /content/drive/MyDrive/academics/columbia/neural_networks/project/data/round_6/model_0_of_100/model_1_of_100/model_2_of_100/model_3_of_100/model_4_of_100/model_5_of_100/model_6_of_100/model_7_of_100/model_8_of_100/model_9_of_100/model_10_of_100/model_11_of_100/model_12_of_100/model_13_of_100/model_14_of_100/model_15_of_100/model_16_of_100/model_17_of_100/model_18_of_100/model_19_of_100/model_20_of_100/model_21_of_100/model_22_of_100/model_23_of_100/model_24_of_100/model_25_of_100/model_26_of_100/model_27_of_100/model_28_of_100/model_29_of_100/model_30_of_100/model_31_of_100/model_32_of_100/model_33_of_100/model_34_of_100/model_35_of_100/model_36_of_100/model_37_of_100/model_38_of_100/model_39_of_100/model_40_of_100/model_41_of_100/model_42_of_100/model_43_of_100/model_44_of_100\n",
            "save_path is /content/drive/MyDrive/academics/columbia/neural_networks/project/data/round_6/model_0_of_100/model_1_of_100/model_2_of_100/model_3_of_100/model_4_of_100/model_5_of_100/model_6_of_100/model_7_of_100/model_8_of_100/model_9_of_100/model_10_of_100/model_11_of_100/model_12_of_100/model_13_of_100/model_14_of_100/model_15_of_100/model_16_of_100/model_17_of_100/model_18_of_100/model_19_of_100/model_20_of_100/model_21_of_100/model_22_of_100/model_23_of_100/model_24_of_100/model_25_of_100/model_26_of_100/model_27_of_100/model_28_of_100/model_29_of_100/model_30_of_100/model_31_of_100/model_32_of_100/model_33_of_100/model_34_of_100/model_35_of_100/model_36_of_100/model_37_of_100/model_38_of_100/model_39_of_100/model_40_of_100/model_41_of_100/model_42_of_100/model_43_of_100/model_44_of_100.pth\n",
            "path /content/drive/MyDrive/academics/columbia/neural_networks/project/data/round_6/model_0_of_100/model_1_of_100/model_2_of_100/model_3_of_100/model_4_of_100/model_5_of_100/model_6_of_100/model_7_of_100/model_8_of_100/model_9_of_100/model_10_of_100/model_11_of_100/model_12_of_100/model_13_of_100/model_14_of_100/model_15_of_100/model_16_of_100/model_17_of_100/model_18_of_100/model_19_of_100/model_20_of_100/model_21_of_100/model_22_of_100/model_23_of_100/model_24_of_100/model_25_of_100/model_26_of_100/model_27_of_100/model_28_of_100/model_29_of_100/model_30_of_100/model_31_of_100/model_32_of_100/model_33_of_100/model_34_of_100/model_35_of_100/model_36_of_100/model_37_of_100/model_38_of_100/model_39_of_100/model_40_of_100/model_41_of_100/model_42_of_100/model_43_of_100/model_44_of_100.pth already saved to. SKIPPING.\n",
            "44\n",
            "{'save_path': '/content/drive/MyDrive/academics/columbia/neural_networks/project/data/round_6/model_0_of_100/model_1_of_100/model_2_of_100/model_3_of_100/model_4_of_100/model_5_of_100/model_6_of_100/model_7_of_100/model_8_of_100/model_9_of_100/model_10_of_100/model_11_of_100/model_12_of_100/model_13_of_100/model_14_of_100/model_15_of_100/model_16_of_100/model_17_of_100/model_18_of_100/model_19_of_100/model_20_of_100/model_21_of_100/model_22_of_100/model_23_of_100/model_24_of_100/model_25_of_100/model_26_of_100/model_27_of_100/model_28_of_100/model_29_of_100/model_30_of_100/model_31_of_100/model_32_of_100/model_33_of_100/model_34_of_100/model_35_of_100/model_36_of_100/model_37_of_100/model_38_of_100/model_39_of_100/model_40_of_100/model_41_of_100/model_42_of_100/model_43_of_100/model_44_of_100.pth', 'history': None, 'model_name': 'model_44_of_100'}\n",
            "Model training took 0:00:00.277666\n",
            "model_45_of_100\n",
            "tensorboard path is /content/drive/MyDrive/academics/columbia/neural_networks/project/data/round_6/model_0_of_100/model_1_of_100/model_2_of_100/model_3_of_100/model_4_of_100/model_5_of_100/model_6_of_100/model_7_of_100/model_8_of_100/model_9_of_100/model_10_of_100/model_11_of_100/model_12_of_100/model_13_of_100/model_14_of_100/model_15_of_100/model_16_of_100/model_17_of_100/model_18_of_100/model_19_of_100/model_20_of_100/model_21_of_100/model_22_of_100/model_23_of_100/model_24_of_100/model_25_of_100/model_26_of_100/model_27_of_100/model_28_of_100/model_29_of_100/model_30_of_100/model_31_of_100/model_32_of_100/model_33_of_100/model_34_of_100/model_35_of_100/model_36_of_100/model_37_of_100/model_38_of_100/model_39_of_100/model_40_of_100/model_41_of_100/model_42_of_100/model_43_of_100/model_44_of_100/model_45_of_100\n",
            "save_path is /content/drive/MyDrive/academics/columbia/neural_networks/project/data/round_6/model_0_of_100/model_1_of_100/model_2_of_100/model_3_of_100/model_4_of_100/model_5_of_100/model_6_of_100/model_7_of_100/model_8_of_100/model_9_of_100/model_10_of_100/model_11_of_100/model_12_of_100/model_13_of_100/model_14_of_100/model_15_of_100/model_16_of_100/model_17_of_100/model_18_of_100/model_19_of_100/model_20_of_100/model_21_of_100/model_22_of_100/model_23_of_100/model_24_of_100/model_25_of_100/model_26_of_100/model_27_of_100/model_28_of_100/model_29_of_100/model_30_of_100/model_31_of_100/model_32_of_100/model_33_of_100/model_34_of_100/model_35_of_100/model_36_of_100/model_37_of_100/model_38_of_100/model_39_of_100/model_40_of_100/model_41_of_100/model_42_of_100/model_43_of_100/model_44_of_100/model_45_of_100.pth\n",
            "path /content/drive/MyDrive/academics/columbia/neural_networks/project/data/round_6/model_0_of_100/model_1_of_100/model_2_of_100/model_3_of_100/model_4_of_100/model_5_of_100/model_6_of_100/model_7_of_100/model_8_of_100/model_9_of_100/model_10_of_100/model_11_of_100/model_12_of_100/model_13_of_100/model_14_of_100/model_15_of_100/model_16_of_100/model_17_of_100/model_18_of_100/model_19_of_100/model_20_of_100/model_21_of_100/model_22_of_100/model_23_of_100/model_24_of_100/model_25_of_100/model_26_of_100/model_27_of_100/model_28_of_100/model_29_of_100/model_30_of_100/model_31_of_100/model_32_of_100/model_33_of_100/model_34_of_100/model_35_of_100/model_36_of_100/model_37_of_100/model_38_of_100/model_39_of_100/model_40_of_100/model_41_of_100/model_42_of_100/model_43_of_100/model_44_of_100/model_45_of_100.pth already saved to. SKIPPING.\n",
            "45\n",
            "{'save_path': '/content/drive/MyDrive/academics/columbia/neural_networks/project/data/round_6/model_0_of_100/model_1_of_100/model_2_of_100/model_3_of_100/model_4_of_100/model_5_of_100/model_6_of_100/model_7_of_100/model_8_of_100/model_9_of_100/model_10_of_100/model_11_of_100/model_12_of_100/model_13_of_100/model_14_of_100/model_15_of_100/model_16_of_100/model_17_of_100/model_18_of_100/model_19_of_100/model_20_of_100/model_21_of_100/model_22_of_100/model_23_of_100/model_24_of_100/model_25_of_100/model_26_of_100/model_27_of_100/model_28_of_100/model_29_of_100/model_30_of_100/model_31_of_100/model_32_of_100/model_33_of_100/model_34_of_100/model_35_of_100/model_36_of_100/model_37_of_100/model_38_of_100/model_39_of_100/model_40_of_100/model_41_of_100/model_42_of_100/model_43_of_100/model_44_of_100/model_45_of_100.pth', 'history': None, 'model_name': 'model_45_of_100'}\n",
            "Model training took 0:00:00.247988\n",
            "model_46_of_100\n",
            "tensorboard path is /content/drive/MyDrive/academics/columbia/neural_networks/project/data/round_6/model_0_of_100/model_1_of_100/model_2_of_100/model_3_of_100/model_4_of_100/model_5_of_100/model_6_of_100/model_7_of_100/model_8_of_100/model_9_of_100/model_10_of_100/model_11_of_100/model_12_of_100/model_13_of_100/model_14_of_100/model_15_of_100/model_16_of_100/model_17_of_100/model_18_of_100/model_19_of_100/model_20_of_100/model_21_of_100/model_22_of_100/model_23_of_100/model_24_of_100/model_25_of_100/model_26_of_100/model_27_of_100/model_28_of_100/model_29_of_100/model_30_of_100/model_31_of_100/model_32_of_100/model_33_of_100/model_34_of_100/model_35_of_100/model_36_of_100/model_37_of_100/model_38_of_100/model_39_of_100/model_40_of_100/model_41_of_100/model_42_of_100/model_43_of_100/model_44_of_100/model_45_of_100/model_46_of_100\n",
            "save_path is /content/drive/MyDrive/academics/columbia/neural_networks/project/data/round_6/model_0_of_100/model_1_of_100/model_2_of_100/model_3_of_100/model_4_of_100/model_5_of_100/model_6_of_100/model_7_of_100/model_8_of_100/model_9_of_100/model_10_of_100/model_11_of_100/model_12_of_100/model_13_of_100/model_14_of_100/model_15_of_100/model_16_of_100/model_17_of_100/model_18_of_100/model_19_of_100/model_20_of_100/model_21_of_100/model_22_of_100/model_23_of_100/model_24_of_100/model_25_of_100/model_26_of_100/model_27_of_100/model_28_of_100/model_29_of_100/model_30_of_100/model_31_of_100/model_32_of_100/model_33_of_100/model_34_of_100/model_35_of_100/model_36_of_100/model_37_of_100/model_38_of_100/model_39_of_100/model_40_of_100/model_41_of_100/model_42_of_100/model_43_of_100/model_44_of_100/model_45_of_100/model_46_of_100.pth\n",
            "path /content/drive/MyDrive/academics/columbia/neural_networks/project/data/round_6/model_0_of_100/model_1_of_100/model_2_of_100/model_3_of_100/model_4_of_100/model_5_of_100/model_6_of_100/model_7_of_100/model_8_of_100/model_9_of_100/model_10_of_100/model_11_of_100/model_12_of_100/model_13_of_100/model_14_of_100/model_15_of_100/model_16_of_100/model_17_of_100/model_18_of_100/model_19_of_100/model_20_of_100/model_21_of_100/model_22_of_100/model_23_of_100/model_24_of_100/model_25_of_100/model_26_of_100/model_27_of_100/model_28_of_100/model_29_of_100/model_30_of_100/model_31_of_100/model_32_of_100/model_33_of_100/model_34_of_100/model_35_of_100/model_36_of_100/model_37_of_100/model_38_of_100/model_39_of_100/model_40_of_100/model_41_of_100/model_42_of_100/model_43_of_100/model_44_of_100/model_45_of_100/model_46_of_100.pth already saved to. SKIPPING.\n",
            "46\n",
            "{'save_path': '/content/drive/MyDrive/academics/columbia/neural_networks/project/data/round_6/model_0_of_100/model_1_of_100/model_2_of_100/model_3_of_100/model_4_of_100/model_5_of_100/model_6_of_100/model_7_of_100/model_8_of_100/model_9_of_100/model_10_of_100/model_11_of_100/model_12_of_100/model_13_of_100/model_14_of_100/model_15_of_100/model_16_of_100/model_17_of_100/model_18_of_100/model_19_of_100/model_20_of_100/model_21_of_100/model_22_of_100/model_23_of_100/model_24_of_100/model_25_of_100/model_26_of_100/model_27_of_100/model_28_of_100/model_29_of_100/model_30_of_100/model_31_of_100/model_32_of_100/model_33_of_100/model_34_of_100/model_35_of_100/model_36_of_100/model_37_of_100/model_38_of_100/model_39_of_100/model_40_of_100/model_41_of_100/model_42_of_100/model_43_of_100/model_44_of_100/model_45_of_100/model_46_of_100.pth', 'history': None, 'model_name': 'model_46_of_100'}\n",
            "Model training took 0:00:00.292298\n",
            "model_47_of_100\n",
            "tensorboard path is /content/drive/MyDrive/academics/columbia/neural_networks/project/data/round_6/model_0_of_100/model_1_of_100/model_2_of_100/model_3_of_100/model_4_of_100/model_5_of_100/model_6_of_100/model_7_of_100/model_8_of_100/model_9_of_100/model_10_of_100/model_11_of_100/model_12_of_100/model_13_of_100/model_14_of_100/model_15_of_100/model_16_of_100/model_17_of_100/model_18_of_100/model_19_of_100/model_20_of_100/model_21_of_100/model_22_of_100/model_23_of_100/model_24_of_100/model_25_of_100/model_26_of_100/model_27_of_100/model_28_of_100/model_29_of_100/model_30_of_100/model_31_of_100/model_32_of_100/model_33_of_100/model_34_of_100/model_35_of_100/model_36_of_100/model_37_of_100/model_38_of_100/model_39_of_100/model_40_of_100/model_41_of_100/model_42_of_100/model_43_of_100/model_44_of_100/model_45_of_100/model_46_of_100/model_47_of_100\n",
            "save_path is /content/drive/MyDrive/academics/columbia/neural_networks/project/data/round_6/model_0_of_100/model_1_of_100/model_2_of_100/model_3_of_100/model_4_of_100/model_5_of_100/model_6_of_100/model_7_of_100/model_8_of_100/model_9_of_100/model_10_of_100/model_11_of_100/model_12_of_100/model_13_of_100/model_14_of_100/model_15_of_100/model_16_of_100/model_17_of_100/model_18_of_100/model_19_of_100/model_20_of_100/model_21_of_100/model_22_of_100/model_23_of_100/model_24_of_100/model_25_of_100/model_26_of_100/model_27_of_100/model_28_of_100/model_29_of_100/model_30_of_100/model_31_of_100/model_32_of_100/model_33_of_100/model_34_of_100/model_35_of_100/model_36_of_100/model_37_of_100/model_38_of_100/model_39_of_100/model_40_of_100/model_41_of_100/model_42_of_100/model_43_of_100/model_44_of_100/model_45_of_100/model_46_of_100/model_47_of_100.pth\n",
            "path /content/drive/MyDrive/academics/columbia/neural_networks/project/data/round_6/model_0_of_100/model_1_of_100/model_2_of_100/model_3_of_100/model_4_of_100/model_5_of_100/model_6_of_100/model_7_of_100/model_8_of_100/model_9_of_100/model_10_of_100/model_11_of_100/model_12_of_100/model_13_of_100/model_14_of_100/model_15_of_100/model_16_of_100/model_17_of_100/model_18_of_100/model_19_of_100/model_20_of_100/model_21_of_100/model_22_of_100/model_23_of_100/model_24_of_100/model_25_of_100/model_26_of_100/model_27_of_100/model_28_of_100/model_29_of_100/model_30_of_100/model_31_of_100/model_32_of_100/model_33_of_100/model_34_of_100/model_35_of_100/model_36_of_100/model_37_of_100/model_38_of_100/model_39_of_100/model_40_of_100/model_41_of_100/model_42_of_100/model_43_of_100/model_44_of_100/model_45_of_100/model_46_of_100/model_47_of_100.pth already saved to. SKIPPING.\n",
            "47\n",
            "{'save_path': '/content/drive/MyDrive/academics/columbia/neural_networks/project/data/round_6/model_0_of_100/model_1_of_100/model_2_of_100/model_3_of_100/model_4_of_100/model_5_of_100/model_6_of_100/model_7_of_100/model_8_of_100/model_9_of_100/model_10_of_100/model_11_of_100/model_12_of_100/model_13_of_100/model_14_of_100/model_15_of_100/model_16_of_100/model_17_of_100/model_18_of_100/model_19_of_100/model_20_of_100/model_21_of_100/model_22_of_100/model_23_of_100/model_24_of_100/model_25_of_100/model_26_of_100/model_27_of_100/model_28_of_100/model_29_of_100/model_30_of_100/model_31_of_100/model_32_of_100/model_33_of_100/model_34_of_100/model_35_of_100/model_36_of_100/model_37_of_100/model_38_of_100/model_39_of_100/model_40_of_100/model_41_of_100/model_42_of_100/model_43_of_100/model_44_of_100/model_45_of_100/model_46_of_100/model_47_of_100.pth', 'history': None, 'model_name': 'model_47_of_100'}\n",
            "Model training took 0:00:00.269382\n",
            "model_48_of_100\n",
            "tensorboard path is /content/drive/MyDrive/academics/columbia/neural_networks/project/data/round_6/model_0_of_100/model_1_of_100/model_2_of_100/model_3_of_100/model_4_of_100/model_5_of_100/model_6_of_100/model_7_of_100/model_8_of_100/model_9_of_100/model_10_of_100/model_11_of_100/model_12_of_100/model_13_of_100/model_14_of_100/model_15_of_100/model_16_of_100/model_17_of_100/model_18_of_100/model_19_of_100/model_20_of_100/model_21_of_100/model_22_of_100/model_23_of_100/model_24_of_100/model_25_of_100/model_26_of_100/model_27_of_100/model_28_of_100/model_29_of_100/model_30_of_100/model_31_of_100/model_32_of_100/model_33_of_100/model_34_of_100/model_35_of_100/model_36_of_100/model_37_of_100/model_38_of_100/model_39_of_100/model_40_of_100/model_41_of_100/model_42_of_100/model_43_of_100/model_44_of_100/model_45_of_100/model_46_of_100/model_47_of_100/model_48_of_100\n",
            "save_path is /content/drive/MyDrive/academics/columbia/neural_networks/project/data/round_6/model_0_of_100/model_1_of_100/model_2_of_100/model_3_of_100/model_4_of_100/model_5_of_100/model_6_of_100/model_7_of_100/model_8_of_100/model_9_of_100/model_10_of_100/model_11_of_100/model_12_of_100/model_13_of_100/model_14_of_100/model_15_of_100/model_16_of_100/model_17_of_100/model_18_of_100/model_19_of_100/model_20_of_100/model_21_of_100/model_22_of_100/model_23_of_100/model_24_of_100/model_25_of_100/model_26_of_100/model_27_of_100/model_28_of_100/model_29_of_100/model_30_of_100/model_31_of_100/model_32_of_100/model_33_of_100/model_34_of_100/model_35_of_100/model_36_of_100/model_37_of_100/model_38_of_100/model_39_of_100/model_40_of_100/model_41_of_100/model_42_of_100/model_43_of_100/model_44_of_100/model_45_of_100/model_46_of_100/model_47_of_100/model_48_of_100.pth\n",
            "path /content/drive/MyDrive/academics/columbia/neural_networks/project/data/round_6/model_0_of_100/model_1_of_100/model_2_of_100/model_3_of_100/model_4_of_100/model_5_of_100/model_6_of_100/model_7_of_100/model_8_of_100/model_9_of_100/model_10_of_100/model_11_of_100/model_12_of_100/model_13_of_100/model_14_of_100/model_15_of_100/model_16_of_100/model_17_of_100/model_18_of_100/model_19_of_100/model_20_of_100/model_21_of_100/model_22_of_100/model_23_of_100/model_24_of_100/model_25_of_100/model_26_of_100/model_27_of_100/model_28_of_100/model_29_of_100/model_30_of_100/model_31_of_100/model_32_of_100/model_33_of_100/model_34_of_100/model_35_of_100/model_36_of_100/model_37_of_100/model_38_of_100/model_39_of_100/model_40_of_100/model_41_of_100/model_42_of_100/model_43_of_100/model_44_of_100/model_45_of_100/model_46_of_100/model_47_of_100/model_48_of_100.pth already saved to. SKIPPING.\n",
            "48\n",
            "{'save_path': '/content/drive/MyDrive/academics/columbia/neural_networks/project/data/round_6/model_0_of_100/model_1_of_100/model_2_of_100/model_3_of_100/model_4_of_100/model_5_of_100/model_6_of_100/model_7_of_100/model_8_of_100/model_9_of_100/model_10_of_100/model_11_of_100/model_12_of_100/model_13_of_100/model_14_of_100/model_15_of_100/model_16_of_100/model_17_of_100/model_18_of_100/model_19_of_100/model_20_of_100/model_21_of_100/model_22_of_100/model_23_of_100/model_24_of_100/model_25_of_100/model_26_of_100/model_27_of_100/model_28_of_100/model_29_of_100/model_30_of_100/model_31_of_100/model_32_of_100/model_33_of_100/model_34_of_100/model_35_of_100/model_36_of_100/model_37_of_100/model_38_of_100/model_39_of_100/model_40_of_100/model_41_of_100/model_42_of_100/model_43_of_100/model_44_of_100/model_45_of_100/model_46_of_100/model_47_of_100/model_48_of_100.pth', 'history': None, 'model_name': 'model_48_of_100'}\n",
            "Model training took 0:00:00.293981\n",
            "model_49_of_100\n",
            "tensorboard path is /content/drive/MyDrive/academics/columbia/neural_networks/project/data/round_6/model_0_of_100/model_1_of_100/model_2_of_100/model_3_of_100/model_4_of_100/model_5_of_100/model_6_of_100/model_7_of_100/model_8_of_100/model_9_of_100/model_10_of_100/model_11_of_100/model_12_of_100/model_13_of_100/model_14_of_100/model_15_of_100/model_16_of_100/model_17_of_100/model_18_of_100/model_19_of_100/model_20_of_100/model_21_of_100/model_22_of_100/model_23_of_100/model_24_of_100/model_25_of_100/model_26_of_100/model_27_of_100/model_28_of_100/model_29_of_100/model_30_of_100/model_31_of_100/model_32_of_100/model_33_of_100/model_34_of_100/model_35_of_100/model_36_of_100/model_37_of_100/model_38_of_100/model_39_of_100/model_40_of_100/model_41_of_100/model_42_of_100/model_43_of_100/model_44_of_100/model_45_of_100/model_46_of_100/model_47_of_100/model_48_of_100/model_49_of_100\n",
            "save_path is /content/drive/MyDrive/academics/columbia/neural_networks/project/data/round_6/model_0_of_100/model_1_of_100/model_2_of_100/model_3_of_100/model_4_of_100/model_5_of_100/model_6_of_100/model_7_of_100/model_8_of_100/model_9_of_100/model_10_of_100/model_11_of_100/model_12_of_100/model_13_of_100/model_14_of_100/model_15_of_100/model_16_of_100/model_17_of_100/model_18_of_100/model_19_of_100/model_20_of_100/model_21_of_100/model_22_of_100/model_23_of_100/model_24_of_100/model_25_of_100/model_26_of_100/model_27_of_100/model_28_of_100/model_29_of_100/model_30_of_100/model_31_of_100/model_32_of_100/model_33_of_100/model_34_of_100/model_35_of_100/model_36_of_100/model_37_of_100/model_38_of_100/model_39_of_100/model_40_of_100/model_41_of_100/model_42_of_100/model_43_of_100/model_44_of_100/model_45_of_100/model_46_of_100/model_47_of_100/model_48_of_100/model_49_of_100.pth\n",
            "path /content/drive/MyDrive/academics/columbia/neural_networks/project/data/round_6/model_0_of_100/model_1_of_100/model_2_of_100/model_3_of_100/model_4_of_100/model_5_of_100/model_6_of_100/model_7_of_100/model_8_of_100/model_9_of_100/model_10_of_100/model_11_of_100/model_12_of_100/model_13_of_100/model_14_of_100/model_15_of_100/model_16_of_100/model_17_of_100/model_18_of_100/model_19_of_100/model_20_of_100/model_21_of_100/model_22_of_100/model_23_of_100/model_24_of_100/model_25_of_100/model_26_of_100/model_27_of_100/model_28_of_100/model_29_of_100/model_30_of_100/model_31_of_100/model_32_of_100/model_33_of_100/model_34_of_100/model_35_of_100/model_36_of_100/model_37_of_100/model_38_of_100/model_39_of_100/model_40_of_100/model_41_of_100/model_42_of_100/model_43_of_100/model_44_of_100/model_45_of_100/model_46_of_100/model_47_of_100/model_48_of_100/model_49_of_100.pth already saved to. SKIPPING.\n",
            "49\n",
            "{'save_path': '/content/drive/MyDrive/academics/columbia/neural_networks/project/data/round_6/model_0_of_100/model_1_of_100/model_2_of_100/model_3_of_100/model_4_of_100/model_5_of_100/model_6_of_100/model_7_of_100/model_8_of_100/model_9_of_100/model_10_of_100/model_11_of_100/model_12_of_100/model_13_of_100/model_14_of_100/model_15_of_100/model_16_of_100/model_17_of_100/model_18_of_100/model_19_of_100/model_20_of_100/model_21_of_100/model_22_of_100/model_23_of_100/model_24_of_100/model_25_of_100/model_26_of_100/model_27_of_100/model_28_of_100/model_29_of_100/model_30_of_100/model_31_of_100/model_32_of_100/model_33_of_100/model_34_of_100/model_35_of_100/model_36_of_100/model_37_of_100/model_38_of_100/model_39_of_100/model_40_of_100/model_41_of_100/model_42_of_100/model_43_of_100/model_44_of_100/model_45_of_100/model_46_of_100/model_47_of_100/model_48_of_100/model_49_of_100.pth', 'history': None, 'model_name': 'model_49_of_100'}\n",
            "Model training took 0:00:00.225318\n",
            "model_50_of_100\n",
            "tensorboard path is /content/drive/MyDrive/academics/columbia/neural_networks/project/data/round_6/model_0_of_100/model_1_of_100/model_2_of_100/model_3_of_100/model_4_of_100/model_5_of_100/model_6_of_100/model_7_of_100/model_8_of_100/model_9_of_100/model_10_of_100/model_11_of_100/model_12_of_100/model_13_of_100/model_14_of_100/model_15_of_100/model_16_of_100/model_17_of_100/model_18_of_100/model_19_of_100/model_20_of_100/model_21_of_100/model_22_of_100/model_23_of_100/model_24_of_100/model_25_of_100/model_26_of_100/model_27_of_100/model_28_of_100/model_29_of_100/model_30_of_100/model_31_of_100/model_32_of_100/model_33_of_100/model_34_of_100/model_35_of_100/model_36_of_100/model_37_of_100/model_38_of_100/model_39_of_100/model_40_of_100/model_41_of_100/model_42_of_100/model_43_of_100/model_44_of_100/model_45_of_100/model_46_of_100/model_47_of_100/model_48_of_100/model_49_of_100/model_50_of_100\n",
            "save_path is /content/drive/MyDrive/academics/columbia/neural_networks/project/data/round_6/model_0_of_100/model_1_of_100/model_2_of_100/model_3_of_100/model_4_of_100/model_5_of_100/model_6_of_100/model_7_of_100/model_8_of_100/model_9_of_100/model_10_of_100/model_11_of_100/model_12_of_100/model_13_of_100/model_14_of_100/model_15_of_100/model_16_of_100/model_17_of_100/model_18_of_100/model_19_of_100/model_20_of_100/model_21_of_100/model_22_of_100/model_23_of_100/model_24_of_100/model_25_of_100/model_26_of_100/model_27_of_100/model_28_of_100/model_29_of_100/model_30_of_100/model_31_of_100/model_32_of_100/model_33_of_100/model_34_of_100/model_35_of_100/model_36_of_100/model_37_of_100/model_38_of_100/model_39_of_100/model_40_of_100/model_41_of_100/model_42_of_100/model_43_of_100/model_44_of_100/model_45_of_100/model_46_of_100/model_47_of_100/model_48_of_100/model_49_of_100/model_50_of_100.pth\n",
            "path /content/drive/MyDrive/academics/columbia/neural_networks/project/data/round_6/model_0_of_100/model_1_of_100/model_2_of_100/model_3_of_100/model_4_of_100/model_5_of_100/model_6_of_100/model_7_of_100/model_8_of_100/model_9_of_100/model_10_of_100/model_11_of_100/model_12_of_100/model_13_of_100/model_14_of_100/model_15_of_100/model_16_of_100/model_17_of_100/model_18_of_100/model_19_of_100/model_20_of_100/model_21_of_100/model_22_of_100/model_23_of_100/model_24_of_100/model_25_of_100/model_26_of_100/model_27_of_100/model_28_of_100/model_29_of_100/model_30_of_100/model_31_of_100/model_32_of_100/model_33_of_100/model_34_of_100/model_35_of_100/model_36_of_100/model_37_of_100/model_38_of_100/model_39_of_100/model_40_of_100/model_41_of_100/model_42_of_100/model_43_of_100/model_44_of_100/model_45_of_100/model_46_of_100/model_47_of_100/model_48_of_100/model_49_of_100/model_50_of_100.pth already saved to. SKIPPING.\n",
            "50\n",
            "{'save_path': '/content/drive/MyDrive/academics/columbia/neural_networks/project/data/round_6/model_0_of_100/model_1_of_100/model_2_of_100/model_3_of_100/model_4_of_100/model_5_of_100/model_6_of_100/model_7_of_100/model_8_of_100/model_9_of_100/model_10_of_100/model_11_of_100/model_12_of_100/model_13_of_100/model_14_of_100/model_15_of_100/model_16_of_100/model_17_of_100/model_18_of_100/model_19_of_100/model_20_of_100/model_21_of_100/model_22_of_100/model_23_of_100/model_24_of_100/model_25_of_100/model_26_of_100/model_27_of_100/model_28_of_100/model_29_of_100/model_30_of_100/model_31_of_100/model_32_of_100/model_33_of_100/model_34_of_100/model_35_of_100/model_36_of_100/model_37_of_100/model_38_of_100/model_39_of_100/model_40_of_100/model_41_of_100/model_42_of_100/model_43_of_100/model_44_of_100/model_45_of_100/model_46_of_100/model_47_of_100/model_48_of_100/model_49_of_100/model_50_of_100.pth', 'history': None, 'model_name': 'model_50_of_100'}\n",
            "Model training took 0:00:00.281340\n",
            "model_51_of_100\n",
            "tensorboard path is /content/drive/MyDrive/academics/columbia/neural_networks/project/data/round_6/model_0_of_100/model_1_of_100/model_2_of_100/model_3_of_100/model_4_of_100/model_5_of_100/model_6_of_100/model_7_of_100/model_8_of_100/model_9_of_100/model_10_of_100/model_11_of_100/model_12_of_100/model_13_of_100/model_14_of_100/model_15_of_100/model_16_of_100/model_17_of_100/model_18_of_100/model_19_of_100/model_20_of_100/model_21_of_100/model_22_of_100/model_23_of_100/model_24_of_100/model_25_of_100/model_26_of_100/model_27_of_100/model_28_of_100/model_29_of_100/model_30_of_100/model_31_of_100/model_32_of_100/model_33_of_100/model_34_of_100/model_35_of_100/model_36_of_100/model_37_of_100/model_38_of_100/model_39_of_100/model_40_of_100/model_41_of_100/model_42_of_100/model_43_of_100/model_44_of_100/model_45_of_100/model_46_of_100/model_47_of_100/model_48_of_100/model_49_of_100/model_50_of_100/model_51_of_100\n",
            "save_path is /content/drive/MyDrive/academics/columbia/neural_networks/project/data/round_6/model_0_of_100/model_1_of_100/model_2_of_100/model_3_of_100/model_4_of_100/model_5_of_100/model_6_of_100/model_7_of_100/model_8_of_100/model_9_of_100/model_10_of_100/model_11_of_100/model_12_of_100/model_13_of_100/model_14_of_100/model_15_of_100/model_16_of_100/model_17_of_100/model_18_of_100/model_19_of_100/model_20_of_100/model_21_of_100/model_22_of_100/model_23_of_100/model_24_of_100/model_25_of_100/model_26_of_100/model_27_of_100/model_28_of_100/model_29_of_100/model_30_of_100/model_31_of_100/model_32_of_100/model_33_of_100/model_34_of_100/model_35_of_100/model_36_of_100/model_37_of_100/model_38_of_100/model_39_of_100/model_40_of_100/model_41_of_100/model_42_of_100/model_43_of_100/model_44_of_100/model_45_of_100/model_46_of_100/model_47_of_100/model_48_of_100/model_49_of_100/model_50_of_100/model_51_of_100.pth\n",
            "path /content/drive/MyDrive/academics/columbia/neural_networks/project/data/round_6/model_0_of_100/model_1_of_100/model_2_of_100/model_3_of_100/model_4_of_100/model_5_of_100/model_6_of_100/model_7_of_100/model_8_of_100/model_9_of_100/model_10_of_100/model_11_of_100/model_12_of_100/model_13_of_100/model_14_of_100/model_15_of_100/model_16_of_100/model_17_of_100/model_18_of_100/model_19_of_100/model_20_of_100/model_21_of_100/model_22_of_100/model_23_of_100/model_24_of_100/model_25_of_100/model_26_of_100/model_27_of_100/model_28_of_100/model_29_of_100/model_30_of_100/model_31_of_100/model_32_of_100/model_33_of_100/model_34_of_100/model_35_of_100/model_36_of_100/model_37_of_100/model_38_of_100/model_39_of_100/model_40_of_100/model_41_of_100/model_42_of_100/model_43_of_100/model_44_of_100/model_45_of_100/model_46_of_100/model_47_of_100/model_48_of_100/model_49_of_100/model_50_of_100/model_51_of_100.pth already saved to. SKIPPING.\n",
            "51\n",
            "{'save_path': '/content/drive/MyDrive/academics/columbia/neural_networks/project/data/round_6/model_0_of_100/model_1_of_100/model_2_of_100/model_3_of_100/model_4_of_100/model_5_of_100/model_6_of_100/model_7_of_100/model_8_of_100/model_9_of_100/model_10_of_100/model_11_of_100/model_12_of_100/model_13_of_100/model_14_of_100/model_15_of_100/model_16_of_100/model_17_of_100/model_18_of_100/model_19_of_100/model_20_of_100/model_21_of_100/model_22_of_100/model_23_of_100/model_24_of_100/model_25_of_100/model_26_of_100/model_27_of_100/model_28_of_100/model_29_of_100/model_30_of_100/model_31_of_100/model_32_of_100/model_33_of_100/model_34_of_100/model_35_of_100/model_36_of_100/model_37_of_100/model_38_of_100/model_39_of_100/model_40_of_100/model_41_of_100/model_42_of_100/model_43_of_100/model_44_of_100/model_45_of_100/model_46_of_100/model_47_of_100/model_48_of_100/model_49_of_100/model_50_of_100/model_51_of_100.pth', 'history': None, 'model_name': 'model_51_of_100'}\n",
            "Model training took 0:00:00.238355\n",
            "model_52_of_100\n",
            "tensorboard path is /content/drive/MyDrive/academics/columbia/neural_networks/project/data/round_6/model_0_of_100/model_1_of_100/model_2_of_100/model_3_of_100/model_4_of_100/model_5_of_100/model_6_of_100/model_7_of_100/model_8_of_100/model_9_of_100/model_10_of_100/model_11_of_100/model_12_of_100/model_13_of_100/model_14_of_100/model_15_of_100/model_16_of_100/model_17_of_100/model_18_of_100/model_19_of_100/model_20_of_100/model_21_of_100/model_22_of_100/model_23_of_100/model_24_of_100/model_25_of_100/model_26_of_100/model_27_of_100/model_28_of_100/model_29_of_100/model_30_of_100/model_31_of_100/model_32_of_100/model_33_of_100/model_34_of_100/model_35_of_100/model_36_of_100/model_37_of_100/model_38_of_100/model_39_of_100/model_40_of_100/model_41_of_100/model_42_of_100/model_43_of_100/model_44_of_100/model_45_of_100/model_46_of_100/model_47_of_100/model_48_of_100/model_49_of_100/model_50_of_100/model_51_of_100/model_52_of_100\n",
            "save_path is /content/drive/MyDrive/academics/columbia/neural_networks/project/data/round_6/model_0_of_100/model_1_of_100/model_2_of_100/model_3_of_100/model_4_of_100/model_5_of_100/model_6_of_100/model_7_of_100/model_8_of_100/model_9_of_100/model_10_of_100/model_11_of_100/model_12_of_100/model_13_of_100/model_14_of_100/model_15_of_100/model_16_of_100/model_17_of_100/model_18_of_100/model_19_of_100/model_20_of_100/model_21_of_100/model_22_of_100/model_23_of_100/model_24_of_100/model_25_of_100/model_26_of_100/model_27_of_100/model_28_of_100/model_29_of_100/model_30_of_100/model_31_of_100/model_32_of_100/model_33_of_100/model_34_of_100/model_35_of_100/model_36_of_100/model_37_of_100/model_38_of_100/model_39_of_100/model_40_of_100/model_41_of_100/model_42_of_100/model_43_of_100/model_44_of_100/model_45_of_100/model_46_of_100/model_47_of_100/model_48_of_100/model_49_of_100/model_50_of_100/model_51_of_100/model_52_of_100.pth\n",
            "path /content/drive/MyDrive/academics/columbia/neural_networks/project/data/round_6/model_0_of_100/model_1_of_100/model_2_of_100/model_3_of_100/model_4_of_100/model_5_of_100/model_6_of_100/model_7_of_100/model_8_of_100/model_9_of_100/model_10_of_100/model_11_of_100/model_12_of_100/model_13_of_100/model_14_of_100/model_15_of_100/model_16_of_100/model_17_of_100/model_18_of_100/model_19_of_100/model_20_of_100/model_21_of_100/model_22_of_100/model_23_of_100/model_24_of_100/model_25_of_100/model_26_of_100/model_27_of_100/model_28_of_100/model_29_of_100/model_30_of_100/model_31_of_100/model_32_of_100/model_33_of_100/model_34_of_100/model_35_of_100/model_36_of_100/model_37_of_100/model_38_of_100/model_39_of_100/model_40_of_100/model_41_of_100/model_42_of_100/model_43_of_100/model_44_of_100/model_45_of_100/model_46_of_100/model_47_of_100/model_48_of_100/model_49_of_100/model_50_of_100/model_51_of_100/model_52_of_100.pth already saved to. SKIPPING.\n",
            "52\n",
            "{'save_path': '/content/drive/MyDrive/academics/columbia/neural_networks/project/data/round_6/model_0_of_100/model_1_of_100/model_2_of_100/model_3_of_100/model_4_of_100/model_5_of_100/model_6_of_100/model_7_of_100/model_8_of_100/model_9_of_100/model_10_of_100/model_11_of_100/model_12_of_100/model_13_of_100/model_14_of_100/model_15_of_100/model_16_of_100/model_17_of_100/model_18_of_100/model_19_of_100/model_20_of_100/model_21_of_100/model_22_of_100/model_23_of_100/model_24_of_100/model_25_of_100/model_26_of_100/model_27_of_100/model_28_of_100/model_29_of_100/model_30_of_100/model_31_of_100/model_32_of_100/model_33_of_100/model_34_of_100/model_35_of_100/model_36_of_100/model_37_of_100/model_38_of_100/model_39_of_100/model_40_of_100/model_41_of_100/model_42_of_100/model_43_of_100/model_44_of_100/model_45_of_100/model_46_of_100/model_47_of_100/model_48_of_100/model_49_of_100/model_50_of_100/model_51_of_100/model_52_of_100.pth', 'history': None, 'model_name': 'model_52_of_100'}\n",
            "Model training took 0:00:00.248550\n",
            "model_53_of_100\n",
            "tensorboard path is /content/drive/MyDrive/academics/columbia/neural_networks/project/data/round_6/model_0_of_100/model_1_of_100/model_2_of_100/model_3_of_100/model_4_of_100/model_5_of_100/model_6_of_100/model_7_of_100/model_8_of_100/model_9_of_100/model_10_of_100/model_11_of_100/model_12_of_100/model_13_of_100/model_14_of_100/model_15_of_100/model_16_of_100/model_17_of_100/model_18_of_100/model_19_of_100/model_20_of_100/model_21_of_100/model_22_of_100/model_23_of_100/model_24_of_100/model_25_of_100/model_26_of_100/model_27_of_100/model_28_of_100/model_29_of_100/model_30_of_100/model_31_of_100/model_32_of_100/model_33_of_100/model_34_of_100/model_35_of_100/model_36_of_100/model_37_of_100/model_38_of_100/model_39_of_100/model_40_of_100/model_41_of_100/model_42_of_100/model_43_of_100/model_44_of_100/model_45_of_100/model_46_of_100/model_47_of_100/model_48_of_100/model_49_of_100/model_50_of_100/model_51_of_100/model_52_of_100/model_53_of_100\n",
            "save_path is /content/drive/MyDrive/academics/columbia/neural_networks/project/data/round_6/model_0_of_100/model_1_of_100/model_2_of_100/model_3_of_100/model_4_of_100/model_5_of_100/model_6_of_100/model_7_of_100/model_8_of_100/model_9_of_100/model_10_of_100/model_11_of_100/model_12_of_100/model_13_of_100/model_14_of_100/model_15_of_100/model_16_of_100/model_17_of_100/model_18_of_100/model_19_of_100/model_20_of_100/model_21_of_100/model_22_of_100/model_23_of_100/model_24_of_100/model_25_of_100/model_26_of_100/model_27_of_100/model_28_of_100/model_29_of_100/model_30_of_100/model_31_of_100/model_32_of_100/model_33_of_100/model_34_of_100/model_35_of_100/model_36_of_100/model_37_of_100/model_38_of_100/model_39_of_100/model_40_of_100/model_41_of_100/model_42_of_100/model_43_of_100/model_44_of_100/model_45_of_100/model_46_of_100/model_47_of_100/model_48_of_100/model_49_of_100/model_50_of_100/model_51_of_100/model_52_of_100/model_53_of_100.pth\n",
            "path /content/drive/MyDrive/academics/columbia/neural_networks/project/data/round_6/model_0_of_100/model_1_of_100/model_2_of_100/model_3_of_100/model_4_of_100/model_5_of_100/model_6_of_100/model_7_of_100/model_8_of_100/model_9_of_100/model_10_of_100/model_11_of_100/model_12_of_100/model_13_of_100/model_14_of_100/model_15_of_100/model_16_of_100/model_17_of_100/model_18_of_100/model_19_of_100/model_20_of_100/model_21_of_100/model_22_of_100/model_23_of_100/model_24_of_100/model_25_of_100/model_26_of_100/model_27_of_100/model_28_of_100/model_29_of_100/model_30_of_100/model_31_of_100/model_32_of_100/model_33_of_100/model_34_of_100/model_35_of_100/model_36_of_100/model_37_of_100/model_38_of_100/model_39_of_100/model_40_of_100/model_41_of_100/model_42_of_100/model_43_of_100/model_44_of_100/model_45_of_100/model_46_of_100/model_47_of_100/model_48_of_100/model_49_of_100/model_50_of_100/model_51_of_100/model_52_of_100/model_53_of_100.pth already saved to. SKIPPING.\n",
            "53\n",
            "{'save_path': '/content/drive/MyDrive/academics/columbia/neural_networks/project/data/round_6/model_0_of_100/model_1_of_100/model_2_of_100/model_3_of_100/model_4_of_100/model_5_of_100/model_6_of_100/model_7_of_100/model_8_of_100/model_9_of_100/model_10_of_100/model_11_of_100/model_12_of_100/model_13_of_100/model_14_of_100/model_15_of_100/model_16_of_100/model_17_of_100/model_18_of_100/model_19_of_100/model_20_of_100/model_21_of_100/model_22_of_100/model_23_of_100/model_24_of_100/model_25_of_100/model_26_of_100/model_27_of_100/model_28_of_100/model_29_of_100/model_30_of_100/model_31_of_100/model_32_of_100/model_33_of_100/model_34_of_100/model_35_of_100/model_36_of_100/model_37_of_100/model_38_of_100/model_39_of_100/model_40_of_100/model_41_of_100/model_42_of_100/model_43_of_100/model_44_of_100/model_45_of_100/model_46_of_100/model_47_of_100/model_48_of_100/model_49_of_100/model_50_of_100/model_51_of_100/model_52_of_100/model_53_of_100.pth', 'history': None, 'model_name': 'model_53_of_100'}\n",
            "Model training took 0:00:00.237354\n",
            "model_54_of_100\n",
            "tensorboard path is /content/drive/MyDrive/academics/columbia/neural_networks/project/data/round_6/model_0_of_100/model_1_of_100/model_2_of_100/model_3_of_100/model_4_of_100/model_5_of_100/model_6_of_100/model_7_of_100/model_8_of_100/model_9_of_100/model_10_of_100/model_11_of_100/model_12_of_100/model_13_of_100/model_14_of_100/model_15_of_100/model_16_of_100/model_17_of_100/model_18_of_100/model_19_of_100/model_20_of_100/model_21_of_100/model_22_of_100/model_23_of_100/model_24_of_100/model_25_of_100/model_26_of_100/model_27_of_100/model_28_of_100/model_29_of_100/model_30_of_100/model_31_of_100/model_32_of_100/model_33_of_100/model_34_of_100/model_35_of_100/model_36_of_100/model_37_of_100/model_38_of_100/model_39_of_100/model_40_of_100/model_41_of_100/model_42_of_100/model_43_of_100/model_44_of_100/model_45_of_100/model_46_of_100/model_47_of_100/model_48_of_100/model_49_of_100/model_50_of_100/model_51_of_100/model_52_of_100/model_53_of_100/model_54_of_100\n",
            "save_path is /content/drive/MyDrive/academics/columbia/neural_networks/project/data/round_6/model_0_of_100/model_1_of_100/model_2_of_100/model_3_of_100/model_4_of_100/model_5_of_100/model_6_of_100/model_7_of_100/model_8_of_100/model_9_of_100/model_10_of_100/model_11_of_100/model_12_of_100/model_13_of_100/model_14_of_100/model_15_of_100/model_16_of_100/model_17_of_100/model_18_of_100/model_19_of_100/model_20_of_100/model_21_of_100/model_22_of_100/model_23_of_100/model_24_of_100/model_25_of_100/model_26_of_100/model_27_of_100/model_28_of_100/model_29_of_100/model_30_of_100/model_31_of_100/model_32_of_100/model_33_of_100/model_34_of_100/model_35_of_100/model_36_of_100/model_37_of_100/model_38_of_100/model_39_of_100/model_40_of_100/model_41_of_100/model_42_of_100/model_43_of_100/model_44_of_100/model_45_of_100/model_46_of_100/model_47_of_100/model_48_of_100/model_49_of_100/model_50_of_100/model_51_of_100/model_52_of_100/model_53_of_100/model_54_of_100.pth\n",
            "path /content/drive/MyDrive/academics/columbia/neural_networks/project/data/round_6/model_0_of_100/model_1_of_100/model_2_of_100/model_3_of_100/model_4_of_100/model_5_of_100/model_6_of_100/model_7_of_100/model_8_of_100/model_9_of_100/model_10_of_100/model_11_of_100/model_12_of_100/model_13_of_100/model_14_of_100/model_15_of_100/model_16_of_100/model_17_of_100/model_18_of_100/model_19_of_100/model_20_of_100/model_21_of_100/model_22_of_100/model_23_of_100/model_24_of_100/model_25_of_100/model_26_of_100/model_27_of_100/model_28_of_100/model_29_of_100/model_30_of_100/model_31_of_100/model_32_of_100/model_33_of_100/model_34_of_100/model_35_of_100/model_36_of_100/model_37_of_100/model_38_of_100/model_39_of_100/model_40_of_100/model_41_of_100/model_42_of_100/model_43_of_100/model_44_of_100/model_45_of_100/model_46_of_100/model_47_of_100/model_48_of_100/model_49_of_100/model_50_of_100/model_51_of_100/model_52_of_100/model_53_of_100/model_54_of_100.pth already saved to. SKIPPING.\n",
            "54\n",
            "{'save_path': '/content/drive/MyDrive/academics/columbia/neural_networks/project/data/round_6/model_0_of_100/model_1_of_100/model_2_of_100/model_3_of_100/model_4_of_100/model_5_of_100/model_6_of_100/model_7_of_100/model_8_of_100/model_9_of_100/model_10_of_100/model_11_of_100/model_12_of_100/model_13_of_100/model_14_of_100/model_15_of_100/model_16_of_100/model_17_of_100/model_18_of_100/model_19_of_100/model_20_of_100/model_21_of_100/model_22_of_100/model_23_of_100/model_24_of_100/model_25_of_100/model_26_of_100/model_27_of_100/model_28_of_100/model_29_of_100/model_30_of_100/model_31_of_100/model_32_of_100/model_33_of_100/model_34_of_100/model_35_of_100/model_36_of_100/model_37_of_100/model_38_of_100/model_39_of_100/model_40_of_100/model_41_of_100/model_42_of_100/model_43_of_100/model_44_of_100/model_45_of_100/model_46_of_100/model_47_of_100/model_48_of_100/model_49_of_100/model_50_of_100/model_51_of_100/model_52_of_100/model_53_of_100/model_54_of_100.pth', 'history': None, 'model_name': 'model_54_of_100'}\n",
            "Model training took 0:00:00.272791\n",
            "model_55_of_100\n",
            "tensorboard path is /content/drive/MyDrive/academics/columbia/neural_networks/project/data/round_6/model_0_of_100/model_1_of_100/model_2_of_100/model_3_of_100/model_4_of_100/model_5_of_100/model_6_of_100/model_7_of_100/model_8_of_100/model_9_of_100/model_10_of_100/model_11_of_100/model_12_of_100/model_13_of_100/model_14_of_100/model_15_of_100/model_16_of_100/model_17_of_100/model_18_of_100/model_19_of_100/model_20_of_100/model_21_of_100/model_22_of_100/model_23_of_100/model_24_of_100/model_25_of_100/model_26_of_100/model_27_of_100/model_28_of_100/model_29_of_100/model_30_of_100/model_31_of_100/model_32_of_100/model_33_of_100/model_34_of_100/model_35_of_100/model_36_of_100/model_37_of_100/model_38_of_100/model_39_of_100/model_40_of_100/model_41_of_100/model_42_of_100/model_43_of_100/model_44_of_100/model_45_of_100/model_46_of_100/model_47_of_100/model_48_of_100/model_49_of_100/model_50_of_100/model_51_of_100/model_52_of_100/model_53_of_100/model_54_of_100/model_55_of_100\n",
            "save_path is /content/drive/MyDrive/academics/columbia/neural_networks/project/data/round_6/model_0_of_100/model_1_of_100/model_2_of_100/model_3_of_100/model_4_of_100/model_5_of_100/model_6_of_100/model_7_of_100/model_8_of_100/model_9_of_100/model_10_of_100/model_11_of_100/model_12_of_100/model_13_of_100/model_14_of_100/model_15_of_100/model_16_of_100/model_17_of_100/model_18_of_100/model_19_of_100/model_20_of_100/model_21_of_100/model_22_of_100/model_23_of_100/model_24_of_100/model_25_of_100/model_26_of_100/model_27_of_100/model_28_of_100/model_29_of_100/model_30_of_100/model_31_of_100/model_32_of_100/model_33_of_100/model_34_of_100/model_35_of_100/model_36_of_100/model_37_of_100/model_38_of_100/model_39_of_100/model_40_of_100/model_41_of_100/model_42_of_100/model_43_of_100/model_44_of_100/model_45_of_100/model_46_of_100/model_47_of_100/model_48_of_100/model_49_of_100/model_50_of_100/model_51_of_100/model_52_of_100/model_53_of_100/model_54_of_100/model_55_of_100.pth\n",
            "path /content/drive/MyDrive/academics/columbia/neural_networks/project/data/round_6/model_0_of_100/model_1_of_100/model_2_of_100/model_3_of_100/model_4_of_100/model_5_of_100/model_6_of_100/model_7_of_100/model_8_of_100/model_9_of_100/model_10_of_100/model_11_of_100/model_12_of_100/model_13_of_100/model_14_of_100/model_15_of_100/model_16_of_100/model_17_of_100/model_18_of_100/model_19_of_100/model_20_of_100/model_21_of_100/model_22_of_100/model_23_of_100/model_24_of_100/model_25_of_100/model_26_of_100/model_27_of_100/model_28_of_100/model_29_of_100/model_30_of_100/model_31_of_100/model_32_of_100/model_33_of_100/model_34_of_100/model_35_of_100/model_36_of_100/model_37_of_100/model_38_of_100/model_39_of_100/model_40_of_100/model_41_of_100/model_42_of_100/model_43_of_100/model_44_of_100/model_45_of_100/model_46_of_100/model_47_of_100/model_48_of_100/model_49_of_100/model_50_of_100/model_51_of_100/model_52_of_100/model_53_of_100/model_54_of_100/model_55_of_100.pth already saved to. SKIPPING.\n",
            "55\n",
            "{'save_path': '/content/drive/MyDrive/academics/columbia/neural_networks/project/data/round_6/model_0_of_100/model_1_of_100/model_2_of_100/model_3_of_100/model_4_of_100/model_5_of_100/model_6_of_100/model_7_of_100/model_8_of_100/model_9_of_100/model_10_of_100/model_11_of_100/model_12_of_100/model_13_of_100/model_14_of_100/model_15_of_100/model_16_of_100/model_17_of_100/model_18_of_100/model_19_of_100/model_20_of_100/model_21_of_100/model_22_of_100/model_23_of_100/model_24_of_100/model_25_of_100/model_26_of_100/model_27_of_100/model_28_of_100/model_29_of_100/model_30_of_100/model_31_of_100/model_32_of_100/model_33_of_100/model_34_of_100/model_35_of_100/model_36_of_100/model_37_of_100/model_38_of_100/model_39_of_100/model_40_of_100/model_41_of_100/model_42_of_100/model_43_of_100/model_44_of_100/model_45_of_100/model_46_of_100/model_47_of_100/model_48_of_100/model_49_of_100/model_50_of_100/model_51_of_100/model_52_of_100/model_53_of_100/model_54_of_100/model_55_of_100.pth', 'history': None, 'model_name': 'model_55_of_100'}\n",
            "Model training took 0:00:00.263363\n",
            "model_56_of_100\n",
            "tensorboard path is /content/drive/MyDrive/academics/columbia/neural_networks/project/data/round_6/model_0_of_100/model_1_of_100/model_2_of_100/model_3_of_100/model_4_of_100/model_5_of_100/model_6_of_100/model_7_of_100/model_8_of_100/model_9_of_100/model_10_of_100/model_11_of_100/model_12_of_100/model_13_of_100/model_14_of_100/model_15_of_100/model_16_of_100/model_17_of_100/model_18_of_100/model_19_of_100/model_20_of_100/model_21_of_100/model_22_of_100/model_23_of_100/model_24_of_100/model_25_of_100/model_26_of_100/model_27_of_100/model_28_of_100/model_29_of_100/model_30_of_100/model_31_of_100/model_32_of_100/model_33_of_100/model_34_of_100/model_35_of_100/model_36_of_100/model_37_of_100/model_38_of_100/model_39_of_100/model_40_of_100/model_41_of_100/model_42_of_100/model_43_of_100/model_44_of_100/model_45_of_100/model_46_of_100/model_47_of_100/model_48_of_100/model_49_of_100/model_50_of_100/model_51_of_100/model_52_of_100/model_53_of_100/model_54_of_100/model_55_of_100/model_56_of_100\n",
            "save_path is /content/drive/MyDrive/academics/columbia/neural_networks/project/data/round_6/model_0_of_100/model_1_of_100/model_2_of_100/model_3_of_100/model_4_of_100/model_5_of_100/model_6_of_100/model_7_of_100/model_8_of_100/model_9_of_100/model_10_of_100/model_11_of_100/model_12_of_100/model_13_of_100/model_14_of_100/model_15_of_100/model_16_of_100/model_17_of_100/model_18_of_100/model_19_of_100/model_20_of_100/model_21_of_100/model_22_of_100/model_23_of_100/model_24_of_100/model_25_of_100/model_26_of_100/model_27_of_100/model_28_of_100/model_29_of_100/model_30_of_100/model_31_of_100/model_32_of_100/model_33_of_100/model_34_of_100/model_35_of_100/model_36_of_100/model_37_of_100/model_38_of_100/model_39_of_100/model_40_of_100/model_41_of_100/model_42_of_100/model_43_of_100/model_44_of_100/model_45_of_100/model_46_of_100/model_47_of_100/model_48_of_100/model_49_of_100/model_50_of_100/model_51_of_100/model_52_of_100/model_53_of_100/model_54_of_100/model_55_of_100/model_56_of_100.pth\n",
            "path /content/drive/MyDrive/academics/columbia/neural_networks/project/data/round_6/model_0_of_100/model_1_of_100/model_2_of_100/model_3_of_100/model_4_of_100/model_5_of_100/model_6_of_100/model_7_of_100/model_8_of_100/model_9_of_100/model_10_of_100/model_11_of_100/model_12_of_100/model_13_of_100/model_14_of_100/model_15_of_100/model_16_of_100/model_17_of_100/model_18_of_100/model_19_of_100/model_20_of_100/model_21_of_100/model_22_of_100/model_23_of_100/model_24_of_100/model_25_of_100/model_26_of_100/model_27_of_100/model_28_of_100/model_29_of_100/model_30_of_100/model_31_of_100/model_32_of_100/model_33_of_100/model_34_of_100/model_35_of_100/model_36_of_100/model_37_of_100/model_38_of_100/model_39_of_100/model_40_of_100/model_41_of_100/model_42_of_100/model_43_of_100/model_44_of_100/model_45_of_100/model_46_of_100/model_47_of_100/model_48_of_100/model_49_of_100/model_50_of_100/model_51_of_100/model_52_of_100/model_53_of_100/model_54_of_100/model_55_of_100/model_56_of_100.pth already saved to. SKIPPING.\n",
            "56\n",
            "{'save_path': '/content/drive/MyDrive/academics/columbia/neural_networks/project/data/round_6/model_0_of_100/model_1_of_100/model_2_of_100/model_3_of_100/model_4_of_100/model_5_of_100/model_6_of_100/model_7_of_100/model_8_of_100/model_9_of_100/model_10_of_100/model_11_of_100/model_12_of_100/model_13_of_100/model_14_of_100/model_15_of_100/model_16_of_100/model_17_of_100/model_18_of_100/model_19_of_100/model_20_of_100/model_21_of_100/model_22_of_100/model_23_of_100/model_24_of_100/model_25_of_100/model_26_of_100/model_27_of_100/model_28_of_100/model_29_of_100/model_30_of_100/model_31_of_100/model_32_of_100/model_33_of_100/model_34_of_100/model_35_of_100/model_36_of_100/model_37_of_100/model_38_of_100/model_39_of_100/model_40_of_100/model_41_of_100/model_42_of_100/model_43_of_100/model_44_of_100/model_45_of_100/model_46_of_100/model_47_of_100/model_48_of_100/model_49_of_100/model_50_of_100/model_51_of_100/model_52_of_100/model_53_of_100/model_54_of_100/model_55_of_100/model_56_of_100.pth', 'history': None, 'model_name': 'model_56_of_100'}\n",
            "Model training took 0:00:00.323677\n",
            "model_57_of_100\n",
            "tensorboard path is /content/drive/MyDrive/academics/columbia/neural_networks/project/data/round_6/model_0_of_100/model_1_of_100/model_2_of_100/model_3_of_100/model_4_of_100/model_5_of_100/model_6_of_100/model_7_of_100/model_8_of_100/model_9_of_100/model_10_of_100/model_11_of_100/model_12_of_100/model_13_of_100/model_14_of_100/model_15_of_100/model_16_of_100/model_17_of_100/model_18_of_100/model_19_of_100/model_20_of_100/model_21_of_100/model_22_of_100/model_23_of_100/model_24_of_100/model_25_of_100/model_26_of_100/model_27_of_100/model_28_of_100/model_29_of_100/model_30_of_100/model_31_of_100/model_32_of_100/model_33_of_100/model_34_of_100/model_35_of_100/model_36_of_100/model_37_of_100/model_38_of_100/model_39_of_100/model_40_of_100/model_41_of_100/model_42_of_100/model_43_of_100/model_44_of_100/model_45_of_100/model_46_of_100/model_47_of_100/model_48_of_100/model_49_of_100/model_50_of_100/model_51_of_100/model_52_of_100/model_53_of_100/model_54_of_100/model_55_of_100/model_56_of_100/model_57_of_100\n",
            "save_path is /content/drive/MyDrive/academics/columbia/neural_networks/project/data/round_6/model_0_of_100/model_1_of_100/model_2_of_100/model_3_of_100/model_4_of_100/model_5_of_100/model_6_of_100/model_7_of_100/model_8_of_100/model_9_of_100/model_10_of_100/model_11_of_100/model_12_of_100/model_13_of_100/model_14_of_100/model_15_of_100/model_16_of_100/model_17_of_100/model_18_of_100/model_19_of_100/model_20_of_100/model_21_of_100/model_22_of_100/model_23_of_100/model_24_of_100/model_25_of_100/model_26_of_100/model_27_of_100/model_28_of_100/model_29_of_100/model_30_of_100/model_31_of_100/model_32_of_100/model_33_of_100/model_34_of_100/model_35_of_100/model_36_of_100/model_37_of_100/model_38_of_100/model_39_of_100/model_40_of_100/model_41_of_100/model_42_of_100/model_43_of_100/model_44_of_100/model_45_of_100/model_46_of_100/model_47_of_100/model_48_of_100/model_49_of_100/model_50_of_100/model_51_of_100/model_52_of_100/model_53_of_100/model_54_of_100/model_55_of_100/model_56_of_100/model_57_of_100.pth\n",
            "path /content/drive/MyDrive/academics/columbia/neural_networks/project/data/round_6/model_0_of_100/model_1_of_100/model_2_of_100/model_3_of_100/model_4_of_100/model_5_of_100/model_6_of_100/model_7_of_100/model_8_of_100/model_9_of_100/model_10_of_100/model_11_of_100/model_12_of_100/model_13_of_100/model_14_of_100/model_15_of_100/model_16_of_100/model_17_of_100/model_18_of_100/model_19_of_100/model_20_of_100/model_21_of_100/model_22_of_100/model_23_of_100/model_24_of_100/model_25_of_100/model_26_of_100/model_27_of_100/model_28_of_100/model_29_of_100/model_30_of_100/model_31_of_100/model_32_of_100/model_33_of_100/model_34_of_100/model_35_of_100/model_36_of_100/model_37_of_100/model_38_of_100/model_39_of_100/model_40_of_100/model_41_of_100/model_42_of_100/model_43_of_100/model_44_of_100/model_45_of_100/model_46_of_100/model_47_of_100/model_48_of_100/model_49_of_100/model_50_of_100/model_51_of_100/model_52_of_100/model_53_of_100/model_54_of_100/model_55_of_100/model_56_of_100/model_57_of_100.pth already saved to. SKIPPING.\n",
            "57\n",
            "{'save_path': '/content/drive/MyDrive/academics/columbia/neural_networks/project/data/round_6/model_0_of_100/model_1_of_100/model_2_of_100/model_3_of_100/model_4_of_100/model_5_of_100/model_6_of_100/model_7_of_100/model_8_of_100/model_9_of_100/model_10_of_100/model_11_of_100/model_12_of_100/model_13_of_100/model_14_of_100/model_15_of_100/model_16_of_100/model_17_of_100/model_18_of_100/model_19_of_100/model_20_of_100/model_21_of_100/model_22_of_100/model_23_of_100/model_24_of_100/model_25_of_100/model_26_of_100/model_27_of_100/model_28_of_100/model_29_of_100/model_30_of_100/model_31_of_100/model_32_of_100/model_33_of_100/model_34_of_100/model_35_of_100/model_36_of_100/model_37_of_100/model_38_of_100/model_39_of_100/model_40_of_100/model_41_of_100/model_42_of_100/model_43_of_100/model_44_of_100/model_45_of_100/model_46_of_100/model_47_of_100/model_48_of_100/model_49_of_100/model_50_of_100/model_51_of_100/model_52_of_100/model_53_of_100/model_54_of_100/model_55_of_100/model_56_of_100/model_57_of_100.pth', 'history': None, 'model_name': 'model_57_of_100'}\n",
            "Model training took 0:00:00.299821\n",
            "model_58_of_100\n",
            "tensorboard path is /content/drive/MyDrive/academics/columbia/neural_networks/project/data/round_6/model_0_of_100/model_1_of_100/model_2_of_100/model_3_of_100/model_4_of_100/model_5_of_100/model_6_of_100/model_7_of_100/model_8_of_100/model_9_of_100/model_10_of_100/model_11_of_100/model_12_of_100/model_13_of_100/model_14_of_100/model_15_of_100/model_16_of_100/model_17_of_100/model_18_of_100/model_19_of_100/model_20_of_100/model_21_of_100/model_22_of_100/model_23_of_100/model_24_of_100/model_25_of_100/model_26_of_100/model_27_of_100/model_28_of_100/model_29_of_100/model_30_of_100/model_31_of_100/model_32_of_100/model_33_of_100/model_34_of_100/model_35_of_100/model_36_of_100/model_37_of_100/model_38_of_100/model_39_of_100/model_40_of_100/model_41_of_100/model_42_of_100/model_43_of_100/model_44_of_100/model_45_of_100/model_46_of_100/model_47_of_100/model_48_of_100/model_49_of_100/model_50_of_100/model_51_of_100/model_52_of_100/model_53_of_100/model_54_of_100/model_55_of_100/model_56_of_100/model_57_of_100/model_58_of_100\n",
            "save_path is /content/drive/MyDrive/academics/columbia/neural_networks/project/data/round_6/model_0_of_100/model_1_of_100/model_2_of_100/model_3_of_100/model_4_of_100/model_5_of_100/model_6_of_100/model_7_of_100/model_8_of_100/model_9_of_100/model_10_of_100/model_11_of_100/model_12_of_100/model_13_of_100/model_14_of_100/model_15_of_100/model_16_of_100/model_17_of_100/model_18_of_100/model_19_of_100/model_20_of_100/model_21_of_100/model_22_of_100/model_23_of_100/model_24_of_100/model_25_of_100/model_26_of_100/model_27_of_100/model_28_of_100/model_29_of_100/model_30_of_100/model_31_of_100/model_32_of_100/model_33_of_100/model_34_of_100/model_35_of_100/model_36_of_100/model_37_of_100/model_38_of_100/model_39_of_100/model_40_of_100/model_41_of_100/model_42_of_100/model_43_of_100/model_44_of_100/model_45_of_100/model_46_of_100/model_47_of_100/model_48_of_100/model_49_of_100/model_50_of_100/model_51_of_100/model_52_of_100/model_53_of_100/model_54_of_100/model_55_of_100/model_56_of_100/model_57_of_100/model_58_of_100.pth\n",
            "path /content/drive/MyDrive/academics/columbia/neural_networks/project/data/round_6/model_0_of_100/model_1_of_100/model_2_of_100/model_3_of_100/model_4_of_100/model_5_of_100/model_6_of_100/model_7_of_100/model_8_of_100/model_9_of_100/model_10_of_100/model_11_of_100/model_12_of_100/model_13_of_100/model_14_of_100/model_15_of_100/model_16_of_100/model_17_of_100/model_18_of_100/model_19_of_100/model_20_of_100/model_21_of_100/model_22_of_100/model_23_of_100/model_24_of_100/model_25_of_100/model_26_of_100/model_27_of_100/model_28_of_100/model_29_of_100/model_30_of_100/model_31_of_100/model_32_of_100/model_33_of_100/model_34_of_100/model_35_of_100/model_36_of_100/model_37_of_100/model_38_of_100/model_39_of_100/model_40_of_100/model_41_of_100/model_42_of_100/model_43_of_100/model_44_of_100/model_45_of_100/model_46_of_100/model_47_of_100/model_48_of_100/model_49_of_100/model_50_of_100/model_51_of_100/model_52_of_100/model_53_of_100/model_54_of_100/model_55_of_100/model_56_of_100/model_57_of_100/model_58_of_100.pth already saved to. SKIPPING.\n",
            "58\n",
            "{'save_path': '/content/drive/MyDrive/academics/columbia/neural_networks/project/data/round_6/model_0_of_100/model_1_of_100/model_2_of_100/model_3_of_100/model_4_of_100/model_5_of_100/model_6_of_100/model_7_of_100/model_8_of_100/model_9_of_100/model_10_of_100/model_11_of_100/model_12_of_100/model_13_of_100/model_14_of_100/model_15_of_100/model_16_of_100/model_17_of_100/model_18_of_100/model_19_of_100/model_20_of_100/model_21_of_100/model_22_of_100/model_23_of_100/model_24_of_100/model_25_of_100/model_26_of_100/model_27_of_100/model_28_of_100/model_29_of_100/model_30_of_100/model_31_of_100/model_32_of_100/model_33_of_100/model_34_of_100/model_35_of_100/model_36_of_100/model_37_of_100/model_38_of_100/model_39_of_100/model_40_of_100/model_41_of_100/model_42_of_100/model_43_of_100/model_44_of_100/model_45_of_100/model_46_of_100/model_47_of_100/model_48_of_100/model_49_of_100/model_50_of_100/model_51_of_100/model_52_of_100/model_53_of_100/model_54_of_100/model_55_of_100/model_56_of_100/model_57_of_100/model_58_of_100.pth', 'history': None, 'model_name': 'model_58_of_100'}\n",
            "Model training took 0:00:00.291386\n",
            "model_59_of_100\n",
            "tensorboard path is /content/drive/MyDrive/academics/columbia/neural_networks/project/data/round_6/model_0_of_100/model_1_of_100/model_2_of_100/model_3_of_100/model_4_of_100/model_5_of_100/model_6_of_100/model_7_of_100/model_8_of_100/model_9_of_100/model_10_of_100/model_11_of_100/model_12_of_100/model_13_of_100/model_14_of_100/model_15_of_100/model_16_of_100/model_17_of_100/model_18_of_100/model_19_of_100/model_20_of_100/model_21_of_100/model_22_of_100/model_23_of_100/model_24_of_100/model_25_of_100/model_26_of_100/model_27_of_100/model_28_of_100/model_29_of_100/model_30_of_100/model_31_of_100/model_32_of_100/model_33_of_100/model_34_of_100/model_35_of_100/model_36_of_100/model_37_of_100/model_38_of_100/model_39_of_100/model_40_of_100/model_41_of_100/model_42_of_100/model_43_of_100/model_44_of_100/model_45_of_100/model_46_of_100/model_47_of_100/model_48_of_100/model_49_of_100/model_50_of_100/model_51_of_100/model_52_of_100/model_53_of_100/model_54_of_100/model_55_of_100/model_56_of_100/model_57_of_100/model_58_of_100/model_59_of_100\n",
            "save_path is /content/drive/MyDrive/academics/columbia/neural_networks/project/data/round_6/model_0_of_100/model_1_of_100/model_2_of_100/model_3_of_100/model_4_of_100/model_5_of_100/model_6_of_100/model_7_of_100/model_8_of_100/model_9_of_100/model_10_of_100/model_11_of_100/model_12_of_100/model_13_of_100/model_14_of_100/model_15_of_100/model_16_of_100/model_17_of_100/model_18_of_100/model_19_of_100/model_20_of_100/model_21_of_100/model_22_of_100/model_23_of_100/model_24_of_100/model_25_of_100/model_26_of_100/model_27_of_100/model_28_of_100/model_29_of_100/model_30_of_100/model_31_of_100/model_32_of_100/model_33_of_100/model_34_of_100/model_35_of_100/model_36_of_100/model_37_of_100/model_38_of_100/model_39_of_100/model_40_of_100/model_41_of_100/model_42_of_100/model_43_of_100/model_44_of_100/model_45_of_100/model_46_of_100/model_47_of_100/model_48_of_100/model_49_of_100/model_50_of_100/model_51_of_100/model_52_of_100/model_53_of_100/model_54_of_100/model_55_of_100/model_56_of_100/model_57_of_100/model_58_of_100/model_59_of_100.pth\n",
            "path /content/drive/MyDrive/academics/columbia/neural_networks/project/data/round_6/model_0_of_100/model_1_of_100/model_2_of_100/model_3_of_100/model_4_of_100/model_5_of_100/model_6_of_100/model_7_of_100/model_8_of_100/model_9_of_100/model_10_of_100/model_11_of_100/model_12_of_100/model_13_of_100/model_14_of_100/model_15_of_100/model_16_of_100/model_17_of_100/model_18_of_100/model_19_of_100/model_20_of_100/model_21_of_100/model_22_of_100/model_23_of_100/model_24_of_100/model_25_of_100/model_26_of_100/model_27_of_100/model_28_of_100/model_29_of_100/model_30_of_100/model_31_of_100/model_32_of_100/model_33_of_100/model_34_of_100/model_35_of_100/model_36_of_100/model_37_of_100/model_38_of_100/model_39_of_100/model_40_of_100/model_41_of_100/model_42_of_100/model_43_of_100/model_44_of_100/model_45_of_100/model_46_of_100/model_47_of_100/model_48_of_100/model_49_of_100/model_50_of_100/model_51_of_100/model_52_of_100/model_53_of_100/model_54_of_100/model_55_of_100/model_56_of_100/model_57_of_100/model_58_of_100/model_59_of_100.pth already saved to. SKIPPING.\n",
            "59\n",
            "{'save_path': '/content/drive/MyDrive/academics/columbia/neural_networks/project/data/round_6/model_0_of_100/model_1_of_100/model_2_of_100/model_3_of_100/model_4_of_100/model_5_of_100/model_6_of_100/model_7_of_100/model_8_of_100/model_9_of_100/model_10_of_100/model_11_of_100/model_12_of_100/model_13_of_100/model_14_of_100/model_15_of_100/model_16_of_100/model_17_of_100/model_18_of_100/model_19_of_100/model_20_of_100/model_21_of_100/model_22_of_100/model_23_of_100/model_24_of_100/model_25_of_100/model_26_of_100/model_27_of_100/model_28_of_100/model_29_of_100/model_30_of_100/model_31_of_100/model_32_of_100/model_33_of_100/model_34_of_100/model_35_of_100/model_36_of_100/model_37_of_100/model_38_of_100/model_39_of_100/model_40_of_100/model_41_of_100/model_42_of_100/model_43_of_100/model_44_of_100/model_45_of_100/model_46_of_100/model_47_of_100/model_48_of_100/model_49_of_100/model_50_of_100/model_51_of_100/model_52_of_100/model_53_of_100/model_54_of_100/model_55_of_100/model_56_of_100/model_57_of_100/model_58_of_100/model_59_of_100.pth', 'history': None, 'model_name': 'model_59_of_100'}\n",
            "Model training took 0:00:00.271613\n",
            "model_60_of_100\n",
            "tensorboard path is /content/drive/MyDrive/academics/columbia/neural_networks/project/data/round_6/model_0_of_100/model_1_of_100/model_2_of_100/model_3_of_100/model_4_of_100/model_5_of_100/model_6_of_100/model_7_of_100/model_8_of_100/model_9_of_100/model_10_of_100/model_11_of_100/model_12_of_100/model_13_of_100/model_14_of_100/model_15_of_100/model_16_of_100/model_17_of_100/model_18_of_100/model_19_of_100/model_20_of_100/model_21_of_100/model_22_of_100/model_23_of_100/model_24_of_100/model_25_of_100/model_26_of_100/model_27_of_100/model_28_of_100/model_29_of_100/model_30_of_100/model_31_of_100/model_32_of_100/model_33_of_100/model_34_of_100/model_35_of_100/model_36_of_100/model_37_of_100/model_38_of_100/model_39_of_100/model_40_of_100/model_41_of_100/model_42_of_100/model_43_of_100/model_44_of_100/model_45_of_100/model_46_of_100/model_47_of_100/model_48_of_100/model_49_of_100/model_50_of_100/model_51_of_100/model_52_of_100/model_53_of_100/model_54_of_100/model_55_of_100/model_56_of_100/model_57_of_100/model_58_of_100/model_59_of_100/model_60_of_100\n",
            "save_path is /content/drive/MyDrive/academics/columbia/neural_networks/project/data/round_6/model_0_of_100/model_1_of_100/model_2_of_100/model_3_of_100/model_4_of_100/model_5_of_100/model_6_of_100/model_7_of_100/model_8_of_100/model_9_of_100/model_10_of_100/model_11_of_100/model_12_of_100/model_13_of_100/model_14_of_100/model_15_of_100/model_16_of_100/model_17_of_100/model_18_of_100/model_19_of_100/model_20_of_100/model_21_of_100/model_22_of_100/model_23_of_100/model_24_of_100/model_25_of_100/model_26_of_100/model_27_of_100/model_28_of_100/model_29_of_100/model_30_of_100/model_31_of_100/model_32_of_100/model_33_of_100/model_34_of_100/model_35_of_100/model_36_of_100/model_37_of_100/model_38_of_100/model_39_of_100/model_40_of_100/model_41_of_100/model_42_of_100/model_43_of_100/model_44_of_100/model_45_of_100/model_46_of_100/model_47_of_100/model_48_of_100/model_49_of_100/model_50_of_100/model_51_of_100/model_52_of_100/model_53_of_100/model_54_of_100/model_55_of_100/model_56_of_100/model_57_of_100/model_58_of_100/model_59_of_100/model_60_of_100.pth\n",
            "path /content/drive/MyDrive/academics/columbia/neural_networks/project/data/round_6/model_0_of_100/model_1_of_100/model_2_of_100/model_3_of_100/model_4_of_100/model_5_of_100/model_6_of_100/model_7_of_100/model_8_of_100/model_9_of_100/model_10_of_100/model_11_of_100/model_12_of_100/model_13_of_100/model_14_of_100/model_15_of_100/model_16_of_100/model_17_of_100/model_18_of_100/model_19_of_100/model_20_of_100/model_21_of_100/model_22_of_100/model_23_of_100/model_24_of_100/model_25_of_100/model_26_of_100/model_27_of_100/model_28_of_100/model_29_of_100/model_30_of_100/model_31_of_100/model_32_of_100/model_33_of_100/model_34_of_100/model_35_of_100/model_36_of_100/model_37_of_100/model_38_of_100/model_39_of_100/model_40_of_100/model_41_of_100/model_42_of_100/model_43_of_100/model_44_of_100/model_45_of_100/model_46_of_100/model_47_of_100/model_48_of_100/model_49_of_100/model_50_of_100/model_51_of_100/model_52_of_100/model_53_of_100/model_54_of_100/model_55_of_100/model_56_of_100/model_57_of_100/model_58_of_100/model_59_of_100/model_60_of_100.pth already saved to. SKIPPING.\n",
            "60\n",
            "{'save_path': '/content/drive/MyDrive/academics/columbia/neural_networks/project/data/round_6/model_0_of_100/model_1_of_100/model_2_of_100/model_3_of_100/model_4_of_100/model_5_of_100/model_6_of_100/model_7_of_100/model_8_of_100/model_9_of_100/model_10_of_100/model_11_of_100/model_12_of_100/model_13_of_100/model_14_of_100/model_15_of_100/model_16_of_100/model_17_of_100/model_18_of_100/model_19_of_100/model_20_of_100/model_21_of_100/model_22_of_100/model_23_of_100/model_24_of_100/model_25_of_100/model_26_of_100/model_27_of_100/model_28_of_100/model_29_of_100/model_30_of_100/model_31_of_100/model_32_of_100/model_33_of_100/model_34_of_100/model_35_of_100/model_36_of_100/model_37_of_100/model_38_of_100/model_39_of_100/model_40_of_100/model_41_of_100/model_42_of_100/model_43_of_100/model_44_of_100/model_45_of_100/model_46_of_100/model_47_of_100/model_48_of_100/model_49_of_100/model_50_of_100/model_51_of_100/model_52_of_100/model_53_of_100/model_54_of_100/model_55_of_100/model_56_of_100/model_57_of_100/model_58_of_100/model_59_of_100/model_60_of_100.pth', 'history': None, 'model_name': 'model_60_of_100'}\n",
            "Model training took 0:00:00.251165\n",
            "model_61_of_100\n",
            "tensorboard path is /content/drive/MyDrive/academics/columbia/neural_networks/project/data/round_6/model_0_of_100/model_1_of_100/model_2_of_100/model_3_of_100/model_4_of_100/model_5_of_100/model_6_of_100/model_7_of_100/model_8_of_100/model_9_of_100/model_10_of_100/model_11_of_100/model_12_of_100/model_13_of_100/model_14_of_100/model_15_of_100/model_16_of_100/model_17_of_100/model_18_of_100/model_19_of_100/model_20_of_100/model_21_of_100/model_22_of_100/model_23_of_100/model_24_of_100/model_25_of_100/model_26_of_100/model_27_of_100/model_28_of_100/model_29_of_100/model_30_of_100/model_31_of_100/model_32_of_100/model_33_of_100/model_34_of_100/model_35_of_100/model_36_of_100/model_37_of_100/model_38_of_100/model_39_of_100/model_40_of_100/model_41_of_100/model_42_of_100/model_43_of_100/model_44_of_100/model_45_of_100/model_46_of_100/model_47_of_100/model_48_of_100/model_49_of_100/model_50_of_100/model_51_of_100/model_52_of_100/model_53_of_100/model_54_of_100/model_55_of_100/model_56_of_100/model_57_of_100/model_58_of_100/model_59_of_100/model_60_of_100/model_61_of_100\n",
            "save_path is /content/drive/MyDrive/academics/columbia/neural_networks/project/data/round_6/model_0_of_100/model_1_of_100/model_2_of_100/model_3_of_100/model_4_of_100/model_5_of_100/model_6_of_100/model_7_of_100/model_8_of_100/model_9_of_100/model_10_of_100/model_11_of_100/model_12_of_100/model_13_of_100/model_14_of_100/model_15_of_100/model_16_of_100/model_17_of_100/model_18_of_100/model_19_of_100/model_20_of_100/model_21_of_100/model_22_of_100/model_23_of_100/model_24_of_100/model_25_of_100/model_26_of_100/model_27_of_100/model_28_of_100/model_29_of_100/model_30_of_100/model_31_of_100/model_32_of_100/model_33_of_100/model_34_of_100/model_35_of_100/model_36_of_100/model_37_of_100/model_38_of_100/model_39_of_100/model_40_of_100/model_41_of_100/model_42_of_100/model_43_of_100/model_44_of_100/model_45_of_100/model_46_of_100/model_47_of_100/model_48_of_100/model_49_of_100/model_50_of_100/model_51_of_100/model_52_of_100/model_53_of_100/model_54_of_100/model_55_of_100/model_56_of_100/model_57_of_100/model_58_of_100/model_59_of_100/model_60_of_100/model_61_of_100.pth\n",
            "path /content/drive/MyDrive/academics/columbia/neural_networks/project/data/round_6/model_0_of_100/model_1_of_100/model_2_of_100/model_3_of_100/model_4_of_100/model_5_of_100/model_6_of_100/model_7_of_100/model_8_of_100/model_9_of_100/model_10_of_100/model_11_of_100/model_12_of_100/model_13_of_100/model_14_of_100/model_15_of_100/model_16_of_100/model_17_of_100/model_18_of_100/model_19_of_100/model_20_of_100/model_21_of_100/model_22_of_100/model_23_of_100/model_24_of_100/model_25_of_100/model_26_of_100/model_27_of_100/model_28_of_100/model_29_of_100/model_30_of_100/model_31_of_100/model_32_of_100/model_33_of_100/model_34_of_100/model_35_of_100/model_36_of_100/model_37_of_100/model_38_of_100/model_39_of_100/model_40_of_100/model_41_of_100/model_42_of_100/model_43_of_100/model_44_of_100/model_45_of_100/model_46_of_100/model_47_of_100/model_48_of_100/model_49_of_100/model_50_of_100/model_51_of_100/model_52_of_100/model_53_of_100/model_54_of_100/model_55_of_100/model_56_of_100/model_57_of_100/model_58_of_100/model_59_of_100/model_60_of_100/model_61_of_100.pth already saved to. SKIPPING.\n",
            "61\n",
            "{'save_path': '/content/drive/MyDrive/academics/columbia/neural_networks/project/data/round_6/model_0_of_100/model_1_of_100/model_2_of_100/model_3_of_100/model_4_of_100/model_5_of_100/model_6_of_100/model_7_of_100/model_8_of_100/model_9_of_100/model_10_of_100/model_11_of_100/model_12_of_100/model_13_of_100/model_14_of_100/model_15_of_100/model_16_of_100/model_17_of_100/model_18_of_100/model_19_of_100/model_20_of_100/model_21_of_100/model_22_of_100/model_23_of_100/model_24_of_100/model_25_of_100/model_26_of_100/model_27_of_100/model_28_of_100/model_29_of_100/model_30_of_100/model_31_of_100/model_32_of_100/model_33_of_100/model_34_of_100/model_35_of_100/model_36_of_100/model_37_of_100/model_38_of_100/model_39_of_100/model_40_of_100/model_41_of_100/model_42_of_100/model_43_of_100/model_44_of_100/model_45_of_100/model_46_of_100/model_47_of_100/model_48_of_100/model_49_of_100/model_50_of_100/model_51_of_100/model_52_of_100/model_53_of_100/model_54_of_100/model_55_of_100/model_56_of_100/model_57_of_100/model_58_of_100/model_59_of_100/model_60_of_100/model_61_of_100.pth', 'history': None, 'model_name': 'model_61_of_100'}\n",
            "Model training took 0:00:00.228903\n",
            "model_62_of_100\n",
            "tensorboard path is /content/drive/MyDrive/academics/columbia/neural_networks/project/data/round_6/model_0_of_100/model_1_of_100/model_2_of_100/model_3_of_100/model_4_of_100/model_5_of_100/model_6_of_100/model_7_of_100/model_8_of_100/model_9_of_100/model_10_of_100/model_11_of_100/model_12_of_100/model_13_of_100/model_14_of_100/model_15_of_100/model_16_of_100/model_17_of_100/model_18_of_100/model_19_of_100/model_20_of_100/model_21_of_100/model_22_of_100/model_23_of_100/model_24_of_100/model_25_of_100/model_26_of_100/model_27_of_100/model_28_of_100/model_29_of_100/model_30_of_100/model_31_of_100/model_32_of_100/model_33_of_100/model_34_of_100/model_35_of_100/model_36_of_100/model_37_of_100/model_38_of_100/model_39_of_100/model_40_of_100/model_41_of_100/model_42_of_100/model_43_of_100/model_44_of_100/model_45_of_100/model_46_of_100/model_47_of_100/model_48_of_100/model_49_of_100/model_50_of_100/model_51_of_100/model_52_of_100/model_53_of_100/model_54_of_100/model_55_of_100/model_56_of_100/model_57_of_100/model_58_of_100/model_59_of_100/model_60_of_100/model_61_of_100/model_62_of_100\n",
            "save_path is /content/drive/MyDrive/academics/columbia/neural_networks/project/data/round_6/model_0_of_100/model_1_of_100/model_2_of_100/model_3_of_100/model_4_of_100/model_5_of_100/model_6_of_100/model_7_of_100/model_8_of_100/model_9_of_100/model_10_of_100/model_11_of_100/model_12_of_100/model_13_of_100/model_14_of_100/model_15_of_100/model_16_of_100/model_17_of_100/model_18_of_100/model_19_of_100/model_20_of_100/model_21_of_100/model_22_of_100/model_23_of_100/model_24_of_100/model_25_of_100/model_26_of_100/model_27_of_100/model_28_of_100/model_29_of_100/model_30_of_100/model_31_of_100/model_32_of_100/model_33_of_100/model_34_of_100/model_35_of_100/model_36_of_100/model_37_of_100/model_38_of_100/model_39_of_100/model_40_of_100/model_41_of_100/model_42_of_100/model_43_of_100/model_44_of_100/model_45_of_100/model_46_of_100/model_47_of_100/model_48_of_100/model_49_of_100/model_50_of_100/model_51_of_100/model_52_of_100/model_53_of_100/model_54_of_100/model_55_of_100/model_56_of_100/model_57_of_100/model_58_of_100/model_59_of_100/model_60_of_100/model_61_of_100/model_62_of_100.pth\n",
            "path /content/drive/MyDrive/academics/columbia/neural_networks/project/data/round_6/model_0_of_100/model_1_of_100/model_2_of_100/model_3_of_100/model_4_of_100/model_5_of_100/model_6_of_100/model_7_of_100/model_8_of_100/model_9_of_100/model_10_of_100/model_11_of_100/model_12_of_100/model_13_of_100/model_14_of_100/model_15_of_100/model_16_of_100/model_17_of_100/model_18_of_100/model_19_of_100/model_20_of_100/model_21_of_100/model_22_of_100/model_23_of_100/model_24_of_100/model_25_of_100/model_26_of_100/model_27_of_100/model_28_of_100/model_29_of_100/model_30_of_100/model_31_of_100/model_32_of_100/model_33_of_100/model_34_of_100/model_35_of_100/model_36_of_100/model_37_of_100/model_38_of_100/model_39_of_100/model_40_of_100/model_41_of_100/model_42_of_100/model_43_of_100/model_44_of_100/model_45_of_100/model_46_of_100/model_47_of_100/model_48_of_100/model_49_of_100/model_50_of_100/model_51_of_100/model_52_of_100/model_53_of_100/model_54_of_100/model_55_of_100/model_56_of_100/model_57_of_100/model_58_of_100/model_59_of_100/model_60_of_100/model_61_of_100/model_62_of_100.pth already saved to. SKIPPING.\n",
            "62\n",
            "{'save_path': '/content/drive/MyDrive/academics/columbia/neural_networks/project/data/round_6/model_0_of_100/model_1_of_100/model_2_of_100/model_3_of_100/model_4_of_100/model_5_of_100/model_6_of_100/model_7_of_100/model_8_of_100/model_9_of_100/model_10_of_100/model_11_of_100/model_12_of_100/model_13_of_100/model_14_of_100/model_15_of_100/model_16_of_100/model_17_of_100/model_18_of_100/model_19_of_100/model_20_of_100/model_21_of_100/model_22_of_100/model_23_of_100/model_24_of_100/model_25_of_100/model_26_of_100/model_27_of_100/model_28_of_100/model_29_of_100/model_30_of_100/model_31_of_100/model_32_of_100/model_33_of_100/model_34_of_100/model_35_of_100/model_36_of_100/model_37_of_100/model_38_of_100/model_39_of_100/model_40_of_100/model_41_of_100/model_42_of_100/model_43_of_100/model_44_of_100/model_45_of_100/model_46_of_100/model_47_of_100/model_48_of_100/model_49_of_100/model_50_of_100/model_51_of_100/model_52_of_100/model_53_of_100/model_54_of_100/model_55_of_100/model_56_of_100/model_57_of_100/model_58_of_100/model_59_of_100/model_60_of_100/model_61_of_100/model_62_of_100.pth', 'history': None, 'model_name': 'model_62_of_100'}\n",
            "Model training took 0:00:00.287128\n",
            "model_63_of_100\n",
            "tensorboard path is /content/drive/MyDrive/academics/columbia/neural_networks/project/data/round_6/model_0_of_100/model_1_of_100/model_2_of_100/model_3_of_100/model_4_of_100/model_5_of_100/model_6_of_100/model_7_of_100/model_8_of_100/model_9_of_100/model_10_of_100/model_11_of_100/model_12_of_100/model_13_of_100/model_14_of_100/model_15_of_100/model_16_of_100/model_17_of_100/model_18_of_100/model_19_of_100/model_20_of_100/model_21_of_100/model_22_of_100/model_23_of_100/model_24_of_100/model_25_of_100/model_26_of_100/model_27_of_100/model_28_of_100/model_29_of_100/model_30_of_100/model_31_of_100/model_32_of_100/model_33_of_100/model_34_of_100/model_35_of_100/model_36_of_100/model_37_of_100/model_38_of_100/model_39_of_100/model_40_of_100/model_41_of_100/model_42_of_100/model_43_of_100/model_44_of_100/model_45_of_100/model_46_of_100/model_47_of_100/model_48_of_100/model_49_of_100/model_50_of_100/model_51_of_100/model_52_of_100/model_53_of_100/model_54_of_100/model_55_of_100/model_56_of_100/model_57_of_100/model_58_of_100/model_59_of_100/model_60_of_100/model_61_of_100/model_62_of_100/model_63_of_100\n",
            "save_path is /content/drive/MyDrive/academics/columbia/neural_networks/project/data/round_6/model_0_of_100/model_1_of_100/model_2_of_100/model_3_of_100/model_4_of_100/model_5_of_100/model_6_of_100/model_7_of_100/model_8_of_100/model_9_of_100/model_10_of_100/model_11_of_100/model_12_of_100/model_13_of_100/model_14_of_100/model_15_of_100/model_16_of_100/model_17_of_100/model_18_of_100/model_19_of_100/model_20_of_100/model_21_of_100/model_22_of_100/model_23_of_100/model_24_of_100/model_25_of_100/model_26_of_100/model_27_of_100/model_28_of_100/model_29_of_100/model_30_of_100/model_31_of_100/model_32_of_100/model_33_of_100/model_34_of_100/model_35_of_100/model_36_of_100/model_37_of_100/model_38_of_100/model_39_of_100/model_40_of_100/model_41_of_100/model_42_of_100/model_43_of_100/model_44_of_100/model_45_of_100/model_46_of_100/model_47_of_100/model_48_of_100/model_49_of_100/model_50_of_100/model_51_of_100/model_52_of_100/model_53_of_100/model_54_of_100/model_55_of_100/model_56_of_100/model_57_of_100/model_58_of_100/model_59_of_100/model_60_of_100/model_61_of_100/model_62_of_100/model_63_of_100.pth\n",
            "path /content/drive/MyDrive/academics/columbia/neural_networks/project/data/round_6/model_0_of_100/model_1_of_100/model_2_of_100/model_3_of_100/model_4_of_100/model_5_of_100/model_6_of_100/model_7_of_100/model_8_of_100/model_9_of_100/model_10_of_100/model_11_of_100/model_12_of_100/model_13_of_100/model_14_of_100/model_15_of_100/model_16_of_100/model_17_of_100/model_18_of_100/model_19_of_100/model_20_of_100/model_21_of_100/model_22_of_100/model_23_of_100/model_24_of_100/model_25_of_100/model_26_of_100/model_27_of_100/model_28_of_100/model_29_of_100/model_30_of_100/model_31_of_100/model_32_of_100/model_33_of_100/model_34_of_100/model_35_of_100/model_36_of_100/model_37_of_100/model_38_of_100/model_39_of_100/model_40_of_100/model_41_of_100/model_42_of_100/model_43_of_100/model_44_of_100/model_45_of_100/model_46_of_100/model_47_of_100/model_48_of_100/model_49_of_100/model_50_of_100/model_51_of_100/model_52_of_100/model_53_of_100/model_54_of_100/model_55_of_100/model_56_of_100/model_57_of_100/model_58_of_100/model_59_of_100/model_60_of_100/model_61_of_100/model_62_of_100/model_63_of_100.pth already saved to. SKIPPING.\n",
            "63\n",
            "{'save_path': '/content/drive/MyDrive/academics/columbia/neural_networks/project/data/round_6/model_0_of_100/model_1_of_100/model_2_of_100/model_3_of_100/model_4_of_100/model_5_of_100/model_6_of_100/model_7_of_100/model_8_of_100/model_9_of_100/model_10_of_100/model_11_of_100/model_12_of_100/model_13_of_100/model_14_of_100/model_15_of_100/model_16_of_100/model_17_of_100/model_18_of_100/model_19_of_100/model_20_of_100/model_21_of_100/model_22_of_100/model_23_of_100/model_24_of_100/model_25_of_100/model_26_of_100/model_27_of_100/model_28_of_100/model_29_of_100/model_30_of_100/model_31_of_100/model_32_of_100/model_33_of_100/model_34_of_100/model_35_of_100/model_36_of_100/model_37_of_100/model_38_of_100/model_39_of_100/model_40_of_100/model_41_of_100/model_42_of_100/model_43_of_100/model_44_of_100/model_45_of_100/model_46_of_100/model_47_of_100/model_48_of_100/model_49_of_100/model_50_of_100/model_51_of_100/model_52_of_100/model_53_of_100/model_54_of_100/model_55_of_100/model_56_of_100/model_57_of_100/model_58_of_100/model_59_of_100/model_60_of_100/model_61_of_100/model_62_of_100/model_63_of_100.pth', 'history': None, 'model_name': 'model_63_of_100'}\n",
            "Model training took 0:00:00.286148\n",
            "model_64_of_100\n",
            "tensorboard path is /content/drive/MyDrive/academics/columbia/neural_networks/project/data/round_6/model_0_of_100/model_1_of_100/model_2_of_100/model_3_of_100/model_4_of_100/model_5_of_100/model_6_of_100/model_7_of_100/model_8_of_100/model_9_of_100/model_10_of_100/model_11_of_100/model_12_of_100/model_13_of_100/model_14_of_100/model_15_of_100/model_16_of_100/model_17_of_100/model_18_of_100/model_19_of_100/model_20_of_100/model_21_of_100/model_22_of_100/model_23_of_100/model_24_of_100/model_25_of_100/model_26_of_100/model_27_of_100/model_28_of_100/model_29_of_100/model_30_of_100/model_31_of_100/model_32_of_100/model_33_of_100/model_34_of_100/model_35_of_100/model_36_of_100/model_37_of_100/model_38_of_100/model_39_of_100/model_40_of_100/model_41_of_100/model_42_of_100/model_43_of_100/model_44_of_100/model_45_of_100/model_46_of_100/model_47_of_100/model_48_of_100/model_49_of_100/model_50_of_100/model_51_of_100/model_52_of_100/model_53_of_100/model_54_of_100/model_55_of_100/model_56_of_100/model_57_of_100/model_58_of_100/model_59_of_100/model_60_of_100/model_61_of_100/model_62_of_100/model_63_of_100/model_64_of_100\n",
            "save_path is /content/drive/MyDrive/academics/columbia/neural_networks/project/data/round_6/model_0_of_100/model_1_of_100/model_2_of_100/model_3_of_100/model_4_of_100/model_5_of_100/model_6_of_100/model_7_of_100/model_8_of_100/model_9_of_100/model_10_of_100/model_11_of_100/model_12_of_100/model_13_of_100/model_14_of_100/model_15_of_100/model_16_of_100/model_17_of_100/model_18_of_100/model_19_of_100/model_20_of_100/model_21_of_100/model_22_of_100/model_23_of_100/model_24_of_100/model_25_of_100/model_26_of_100/model_27_of_100/model_28_of_100/model_29_of_100/model_30_of_100/model_31_of_100/model_32_of_100/model_33_of_100/model_34_of_100/model_35_of_100/model_36_of_100/model_37_of_100/model_38_of_100/model_39_of_100/model_40_of_100/model_41_of_100/model_42_of_100/model_43_of_100/model_44_of_100/model_45_of_100/model_46_of_100/model_47_of_100/model_48_of_100/model_49_of_100/model_50_of_100/model_51_of_100/model_52_of_100/model_53_of_100/model_54_of_100/model_55_of_100/model_56_of_100/model_57_of_100/model_58_of_100/model_59_of_100/model_60_of_100/model_61_of_100/model_62_of_100/model_63_of_100/model_64_of_100.pth\n",
            "path /content/drive/MyDrive/academics/columbia/neural_networks/project/data/round_6/model_0_of_100/model_1_of_100/model_2_of_100/model_3_of_100/model_4_of_100/model_5_of_100/model_6_of_100/model_7_of_100/model_8_of_100/model_9_of_100/model_10_of_100/model_11_of_100/model_12_of_100/model_13_of_100/model_14_of_100/model_15_of_100/model_16_of_100/model_17_of_100/model_18_of_100/model_19_of_100/model_20_of_100/model_21_of_100/model_22_of_100/model_23_of_100/model_24_of_100/model_25_of_100/model_26_of_100/model_27_of_100/model_28_of_100/model_29_of_100/model_30_of_100/model_31_of_100/model_32_of_100/model_33_of_100/model_34_of_100/model_35_of_100/model_36_of_100/model_37_of_100/model_38_of_100/model_39_of_100/model_40_of_100/model_41_of_100/model_42_of_100/model_43_of_100/model_44_of_100/model_45_of_100/model_46_of_100/model_47_of_100/model_48_of_100/model_49_of_100/model_50_of_100/model_51_of_100/model_52_of_100/model_53_of_100/model_54_of_100/model_55_of_100/model_56_of_100/model_57_of_100/model_58_of_100/model_59_of_100/model_60_of_100/model_61_of_100/model_62_of_100/model_63_of_100/model_64_of_100.pth already saved to. SKIPPING.\n",
            "64\n",
            "{'save_path': '/content/drive/MyDrive/academics/columbia/neural_networks/project/data/round_6/model_0_of_100/model_1_of_100/model_2_of_100/model_3_of_100/model_4_of_100/model_5_of_100/model_6_of_100/model_7_of_100/model_8_of_100/model_9_of_100/model_10_of_100/model_11_of_100/model_12_of_100/model_13_of_100/model_14_of_100/model_15_of_100/model_16_of_100/model_17_of_100/model_18_of_100/model_19_of_100/model_20_of_100/model_21_of_100/model_22_of_100/model_23_of_100/model_24_of_100/model_25_of_100/model_26_of_100/model_27_of_100/model_28_of_100/model_29_of_100/model_30_of_100/model_31_of_100/model_32_of_100/model_33_of_100/model_34_of_100/model_35_of_100/model_36_of_100/model_37_of_100/model_38_of_100/model_39_of_100/model_40_of_100/model_41_of_100/model_42_of_100/model_43_of_100/model_44_of_100/model_45_of_100/model_46_of_100/model_47_of_100/model_48_of_100/model_49_of_100/model_50_of_100/model_51_of_100/model_52_of_100/model_53_of_100/model_54_of_100/model_55_of_100/model_56_of_100/model_57_of_100/model_58_of_100/model_59_of_100/model_60_of_100/model_61_of_100/model_62_of_100/model_63_of_100/model_64_of_100.pth', 'history': None, 'model_name': 'model_64_of_100'}\n",
            "Model training took 0:00:00.280541\n",
            "model_65_of_100\n",
            "tensorboard path is /content/drive/MyDrive/academics/columbia/neural_networks/project/data/round_6/model_0_of_100/model_1_of_100/model_2_of_100/model_3_of_100/model_4_of_100/model_5_of_100/model_6_of_100/model_7_of_100/model_8_of_100/model_9_of_100/model_10_of_100/model_11_of_100/model_12_of_100/model_13_of_100/model_14_of_100/model_15_of_100/model_16_of_100/model_17_of_100/model_18_of_100/model_19_of_100/model_20_of_100/model_21_of_100/model_22_of_100/model_23_of_100/model_24_of_100/model_25_of_100/model_26_of_100/model_27_of_100/model_28_of_100/model_29_of_100/model_30_of_100/model_31_of_100/model_32_of_100/model_33_of_100/model_34_of_100/model_35_of_100/model_36_of_100/model_37_of_100/model_38_of_100/model_39_of_100/model_40_of_100/model_41_of_100/model_42_of_100/model_43_of_100/model_44_of_100/model_45_of_100/model_46_of_100/model_47_of_100/model_48_of_100/model_49_of_100/model_50_of_100/model_51_of_100/model_52_of_100/model_53_of_100/model_54_of_100/model_55_of_100/model_56_of_100/model_57_of_100/model_58_of_100/model_59_of_100/model_60_of_100/model_61_of_100/model_62_of_100/model_63_of_100/model_64_of_100/model_65_of_100\n",
            "save_path is /content/drive/MyDrive/academics/columbia/neural_networks/project/data/round_6/model_0_of_100/model_1_of_100/model_2_of_100/model_3_of_100/model_4_of_100/model_5_of_100/model_6_of_100/model_7_of_100/model_8_of_100/model_9_of_100/model_10_of_100/model_11_of_100/model_12_of_100/model_13_of_100/model_14_of_100/model_15_of_100/model_16_of_100/model_17_of_100/model_18_of_100/model_19_of_100/model_20_of_100/model_21_of_100/model_22_of_100/model_23_of_100/model_24_of_100/model_25_of_100/model_26_of_100/model_27_of_100/model_28_of_100/model_29_of_100/model_30_of_100/model_31_of_100/model_32_of_100/model_33_of_100/model_34_of_100/model_35_of_100/model_36_of_100/model_37_of_100/model_38_of_100/model_39_of_100/model_40_of_100/model_41_of_100/model_42_of_100/model_43_of_100/model_44_of_100/model_45_of_100/model_46_of_100/model_47_of_100/model_48_of_100/model_49_of_100/model_50_of_100/model_51_of_100/model_52_of_100/model_53_of_100/model_54_of_100/model_55_of_100/model_56_of_100/model_57_of_100/model_58_of_100/model_59_of_100/model_60_of_100/model_61_of_100/model_62_of_100/model_63_of_100/model_64_of_100/model_65_of_100.pth\n",
            "path /content/drive/MyDrive/academics/columbia/neural_networks/project/data/round_6/model_0_of_100/model_1_of_100/model_2_of_100/model_3_of_100/model_4_of_100/model_5_of_100/model_6_of_100/model_7_of_100/model_8_of_100/model_9_of_100/model_10_of_100/model_11_of_100/model_12_of_100/model_13_of_100/model_14_of_100/model_15_of_100/model_16_of_100/model_17_of_100/model_18_of_100/model_19_of_100/model_20_of_100/model_21_of_100/model_22_of_100/model_23_of_100/model_24_of_100/model_25_of_100/model_26_of_100/model_27_of_100/model_28_of_100/model_29_of_100/model_30_of_100/model_31_of_100/model_32_of_100/model_33_of_100/model_34_of_100/model_35_of_100/model_36_of_100/model_37_of_100/model_38_of_100/model_39_of_100/model_40_of_100/model_41_of_100/model_42_of_100/model_43_of_100/model_44_of_100/model_45_of_100/model_46_of_100/model_47_of_100/model_48_of_100/model_49_of_100/model_50_of_100/model_51_of_100/model_52_of_100/model_53_of_100/model_54_of_100/model_55_of_100/model_56_of_100/model_57_of_100/model_58_of_100/model_59_of_100/model_60_of_100/model_61_of_100/model_62_of_100/model_63_of_100/model_64_of_100/model_65_of_100.pth already saved to. SKIPPING.\n",
            "65\n",
            "{'save_path': '/content/drive/MyDrive/academics/columbia/neural_networks/project/data/round_6/model_0_of_100/model_1_of_100/model_2_of_100/model_3_of_100/model_4_of_100/model_5_of_100/model_6_of_100/model_7_of_100/model_8_of_100/model_9_of_100/model_10_of_100/model_11_of_100/model_12_of_100/model_13_of_100/model_14_of_100/model_15_of_100/model_16_of_100/model_17_of_100/model_18_of_100/model_19_of_100/model_20_of_100/model_21_of_100/model_22_of_100/model_23_of_100/model_24_of_100/model_25_of_100/model_26_of_100/model_27_of_100/model_28_of_100/model_29_of_100/model_30_of_100/model_31_of_100/model_32_of_100/model_33_of_100/model_34_of_100/model_35_of_100/model_36_of_100/model_37_of_100/model_38_of_100/model_39_of_100/model_40_of_100/model_41_of_100/model_42_of_100/model_43_of_100/model_44_of_100/model_45_of_100/model_46_of_100/model_47_of_100/model_48_of_100/model_49_of_100/model_50_of_100/model_51_of_100/model_52_of_100/model_53_of_100/model_54_of_100/model_55_of_100/model_56_of_100/model_57_of_100/model_58_of_100/model_59_of_100/model_60_of_100/model_61_of_100/model_62_of_100/model_63_of_100/model_64_of_100/model_65_of_100.pth', 'history': None, 'model_name': 'model_65_of_100'}\n",
            "Model training took 0:00:00.222809\n",
            "model_66_of_100\n",
            "tensorboard path is /content/drive/MyDrive/academics/columbia/neural_networks/project/data/round_6/model_0_of_100/model_1_of_100/model_2_of_100/model_3_of_100/model_4_of_100/model_5_of_100/model_6_of_100/model_7_of_100/model_8_of_100/model_9_of_100/model_10_of_100/model_11_of_100/model_12_of_100/model_13_of_100/model_14_of_100/model_15_of_100/model_16_of_100/model_17_of_100/model_18_of_100/model_19_of_100/model_20_of_100/model_21_of_100/model_22_of_100/model_23_of_100/model_24_of_100/model_25_of_100/model_26_of_100/model_27_of_100/model_28_of_100/model_29_of_100/model_30_of_100/model_31_of_100/model_32_of_100/model_33_of_100/model_34_of_100/model_35_of_100/model_36_of_100/model_37_of_100/model_38_of_100/model_39_of_100/model_40_of_100/model_41_of_100/model_42_of_100/model_43_of_100/model_44_of_100/model_45_of_100/model_46_of_100/model_47_of_100/model_48_of_100/model_49_of_100/model_50_of_100/model_51_of_100/model_52_of_100/model_53_of_100/model_54_of_100/model_55_of_100/model_56_of_100/model_57_of_100/model_58_of_100/model_59_of_100/model_60_of_100/model_61_of_100/model_62_of_100/model_63_of_100/model_64_of_100/model_65_of_100/model_66_of_100\n",
            "save_path is /content/drive/MyDrive/academics/columbia/neural_networks/project/data/round_6/model_0_of_100/model_1_of_100/model_2_of_100/model_3_of_100/model_4_of_100/model_5_of_100/model_6_of_100/model_7_of_100/model_8_of_100/model_9_of_100/model_10_of_100/model_11_of_100/model_12_of_100/model_13_of_100/model_14_of_100/model_15_of_100/model_16_of_100/model_17_of_100/model_18_of_100/model_19_of_100/model_20_of_100/model_21_of_100/model_22_of_100/model_23_of_100/model_24_of_100/model_25_of_100/model_26_of_100/model_27_of_100/model_28_of_100/model_29_of_100/model_30_of_100/model_31_of_100/model_32_of_100/model_33_of_100/model_34_of_100/model_35_of_100/model_36_of_100/model_37_of_100/model_38_of_100/model_39_of_100/model_40_of_100/model_41_of_100/model_42_of_100/model_43_of_100/model_44_of_100/model_45_of_100/model_46_of_100/model_47_of_100/model_48_of_100/model_49_of_100/model_50_of_100/model_51_of_100/model_52_of_100/model_53_of_100/model_54_of_100/model_55_of_100/model_56_of_100/model_57_of_100/model_58_of_100/model_59_of_100/model_60_of_100/model_61_of_100/model_62_of_100/model_63_of_100/model_64_of_100/model_65_of_100/model_66_of_100.pth\n",
            "path /content/drive/MyDrive/academics/columbia/neural_networks/project/data/round_6/model_0_of_100/model_1_of_100/model_2_of_100/model_3_of_100/model_4_of_100/model_5_of_100/model_6_of_100/model_7_of_100/model_8_of_100/model_9_of_100/model_10_of_100/model_11_of_100/model_12_of_100/model_13_of_100/model_14_of_100/model_15_of_100/model_16_of_100/model_17_of_100/model_18_of_100/model_19_of_100/model_20_of_100/model_21_of_100/model_22_of_100/model_23_of_100/model_24_of_100/model_25_of_100/model_26_of_100/model_27_of_100/model_28_of_100/model_29_of_100/model_30_of_100/model_31_of_100/model_32_of_100/model_33_of_100/model_34_of_100/model_35_of_100/model_36_of_100/model_37_of_100/model_38_of_100/model_39_of_100/model_40_of_100/model_41_of_100/model_42_of_100/model_43_of_100/model_44_of_100/model_45_of_100/model_46_of_100/model_47_of_100/model_48_of_100/model_49_of_100/model_50_of_100/model_51_of_100/model_52_of_100/model_53_of_100/model_54_of_100/model_55_of_100/model_56_of_100/model_57_of_100/model_58_of_100/model_59_of_100/model_60_of_100/model_61_of_100/model_62_of_100/model_63_of_100/model_64_of_100/model_65_of_100/model_66_of_100.pth already saved to. SKIPPING.\n",
            "66\n",
            "{'save_path': '/content/drive/MyDrive/academics/columbia/neural_networks/project/data/round_6/model_0_of_100/model_1_of_100/model_2_of_100/model_3_of_100/model_4_of_100/model_5_of_100/model_6_of_100/model_7_of_100/model_8_of_100/model_9_of_100/model_10_of_100/model_11_of_100/model_12_of_100/model_13_of_100/model_14_of_100/model_15_of_100/model_16_of_100/model_17_of_100/model_18_of_100/model_19_of_100/model_20_of_100/model_21_of_100/model_22_of_100/model_23_of_100/model_24_of_100/model_25_of_100/model_26_of_100/model_27_of_100/model_28_of_100/model_29_of_100/model_30_of_100/model_31_of_100/model_32_of_100/model_33_of_100/model_34_of_100/model_35_of_100/model_36_of_100/model_37_of_100/model_38_of_100/model_39_of_100/model_40_of_100/model_41_of_100/model_42_of_100/model_43_of_100/model_44_of_100/model_45_of_100/model_46_of_100/model_47_of_100/model_48_of_100/model_49_of_100/model_50_of_100/model_51_of_100/model_52_of_100/model_53_of_100/model_54_of_100/model_55_of_100/model_56_of_100/model_57_of_100/model_58_of_100/model_59_of_100/model_60_of_100/model_61_of_100/model_62_of_100/model_63_of_100/model_64_of_100/model_65_of_100/model_66_of_100.pth', 'history': None, 'model_name': 'model_66_of_100'}\n",
            "Model training took 0:00:00.259339\n",
            "model_67_of_100\n",
            "tensorboard path is /content/drive/MyDrive/academics/columbia/neural_networks/project/data/round_6/model_0_of_100/model_1_of_100/model_2_of_100/model_3_of_100/model_4_of_100/model_5_of_100/model_6_of_100/model_7_of_100/model_8_of_100/model_9_of_100/model_10_of_100/model_11_of_100/model_12_of_100/model_13_of_100/model_14_of_100/model_15_of_100/model_16_of_100/model_17_of_100/model_18_of_100/model_19_of_100/model_20_of_100/model_21_of_100/model_22_of_100/model_23_of_100/model_24_of_100/model_25_of_100/model_26_of_100/model_27_of_100/model_28_of_100/model_29_of_100/model_30_of_100/model_31_of_100/model_32_of_100/model_33_of_100/model_34_of_100/model_35_of_100/model_36_of_100/model_37_of_100/model_38_of_100/model_39_of_100/model_40_of_100/model_41_of_100/model_42_of_100/model_43_of_100/model_44_of_100/model_45_of_100/model_46_of_100/model_47_of_100/model_48_of_100/model_49_of_100/model_50_of_100/model_51_of_100/model_52_of_100/model_53_of_100/model_54_of_100/model_55_of_100/model_56_of_100/model_57_of_100/model_58_of_100/model_59_of_100/model_60_of_100/model_61_of_100/model_62_of_100/model_63_of_100/model_64_of_100/model_65_of_100/model_66_of_100/model_67_of_100\n",
            "save_path is /content/drive/MyDrive/academics/columbia/neural_networks/project/data/round_6/model_0_of_100/model_1_of_100/model_2_of_100/model_3_of_100/model_4_of_100/model_5_of_100/model_6_of_100/model_7_of_100/model_8_of_100/model_9_of_100/model_10_of_100/model_11_of_100/model_12_of_100/model_13_of_100/model_14_of_100/model_15_of_100/model_16_of_100/model_17_of_100/model_18_of_100/model_19_of_100/model_20_of_100/model_21_of_100/model_22_of_100/model_23_of_100/model_24_of_100/model_25_of_100/model_26_of_100/model_27_of_100/model_28_of_100/model_29_of_100/model_30_of_100/model_31_of_100/model_32_of_100/model_33_of_100/model_34_of_100/model_35_of_100/model_36_of_100/model_37_of_100/model_38_of_100/model_39_of_100/model_40_of_100/model_41_of_100/model_42_of_100/model_43_of_100/model_44_of_100/model_45_of_100/model_46_of_100/model_47_of_100/model_48_of_100/model_49_of_100/model_50_of_100/model_51_of_100/model_52_of_100/model_53_of_100/model_54_of_100/model_55_of_100/model_56_of_100/model_57_of_100/model_58_of_100/model_59_of_100/model_60_of_100/model_61_of_100/model_62_of_100/model_63_of_100/model_64_of_100/model_65_of_100/model_66_of_100/model_67_of_100.pth\n",
            "path /content/drive/MyDrive/academics/columbia/neural_networks/project/data/round_6/model_0_of_100/model_1_of_100/model_2_of_100/model_3_of_100/model_4_of_100/model_5_of_100/model_6_of_100/model_7_of_100/model_8_of_100/model_9_of_100/model_10_of_100/model_11_of_100/model_12_of_100/model_13_of_100/model_14_of_100/model_15_of_100/model_16_of_100/model_17_of_100/model_18_of_100/model_19_of_100/model_20_of_100/model_21_of_100/model_22_of_100/model_23_of_100/model_24_of_100/model_25_of_100/model_26_of_100/model_27_of_100/model_28_of_100/model_29_of_100/model_30_of_100/model_31_of_100/model_32_of_100/model_33_of_100/model_34_of_100/model_35_of_100/model_36_of_100/model_37_of_100/model_38_of_100/model_39_of_100/model_40_of_100/model_41_of_100/model_42_of_100/model_43_of_100/model_44_of_100/model_45_of_100/model_46_of_100/model_47_of_100/model_48_of_100/model_49_of_100/model_50_of_100/model_51_of_100/model_52_of_100/model_53_of_100/model_54_of_100/model_55_of_100/model_56_of_100/model_57_of_100/model_58_of_100/model_59_of_100/model_60_of_100/model_61_of_100/model_62_of_100/model_63_of_100/model_64_of_100/model_65_of_100/model_66_of_100/model_67_of_100.pth already saved to. SKIPPING.\n",
            "67\n",
            "{'save_path': '/content/drive/MyDrive/academics/columbia/neural_networks/project/data/round_6/model_0_of_100/model_1_of_100/model_2_of_100/model_3_of_100/model_4_of_100/model_5_of_100/model_6_of_100/model_7_of_100/model_8_of_100/model_9_of_100/model_10_of_100/model_11_of_100/model_12_of_100/model_13_of_100/model_14_of_100/model_15_of_100/model_16_of_100/model_17_of_100/model_18_of_100/model_19_of_100/model_20_of_100/model_21_of_100/model_22_of_100/model_23_of_100/model_24_of_100/model_25_of_100/model_26_of_100/model_27_of_100/model_28_of_100/model_29_of_100/model_30_of_100/model_31_of_100/model_32_of_100/model_33_of_100/model_34_of_100/model_35_of_100/model_36_of_100/model_37_of_100/model_38_of_100/model_39_of_100/model_40_of_100/model_41_of_100/model_42_of_100/model_43_of_100/model_44_of_100/model_45_of_100/model_46_of_100/model_47_of_100/model_48_of_100/model_49_of_100/model_50_of_100/model_51_of_100/model_52_of_100/model_53_of_100/model_54_of_100/model_55_of_100/model_56_of_100/model_57_of_100/model_58_of_100/model_59_of_100/model_60_of_100/model_61_of_100/model_62_of_100/model_63_of_100/model_64_of_100/model_65_of_100/model_66_of_100/model_67_of_100.pth', 'history': None, 'model_name': 'model_67_of_100'}\n",
            "Model training took 0:00:00.332620\n",
            "model_68_of_100\n",
            "tensorboard path is /content/drive/MyDrive/academics/columbia/neural_networks/project/data/round_6/model_0_of_100/model_1_of_100/model_2_of_100/model_3_of_100/model_4_of_100/model_5_of_100/model_6_of_100/model_7_of_100/model_8_of_100/model_9_of_100/model_10_of_100/model_11_of_100/model_12_of_100/model_13_of_100/model_14_of_100/model_15_of_100/model_16_of_100/model_17_of_100/model_18_of_100/model_19_of_100/model_20_of_100/model_21_of_100/model_22_of_100/model_23_of_100/model_24_of_100/model_25_of_100/model_26_of_100/model_27_of_100/model_28_of_100/model_29_of_100/model_30_of_100/model_31_of_100/model_32_of_100/model_33_of_100/model_34_of_100/model_35_of_100/model_36_of_100/model_37_of_100/model_38_of_100/model_39_of_100/model_40_of_100/model_41_of_100/model_42_of_100/model_43_of_100/model_44_of_100/model_45_of_100/model_46_of_100/model_47_of_100/model_48_of_100/model_49_of_100/model_50_of_100/model_51_of_100/model_52_of_100/model_53_of_100/model_54_of_100/model_55_of_100/model_56_of_100/model_57_of_100/model_58_of_100/model_59_of_100/model_60_of_100/model_61_of_100/model_62_of_100/model_63_of_100/model_64_of_100/model_65_of_100/model_66_of_100/model_67_of_100/model_68_of_100\n",
            "save_path is /content/drive/MyDrive/academics/columbia/neural_networks/project/data/round_6/model_0_of_100/model_1_of_100/model_2_of_100/model_3_of_100/model_4_of_100/model_5_of_100/model_6_of_100/model_7_of_100/model_8_of_100/model_9_of_100/model_10_of_100/model_11_of_100/model_12_of_100/model_13_of_100/model_14_of_100/model_15_of_100/model_16_of_100/model_17_of_100/model_18_of_100/model_19_of_100/model_20_of_100/model_21_of_100/model_22_of_100/model_23_of_100/model_24_of_100/model_25_of_100/model_26_of_100/model_27_of_100/model_28_of_100/model_29_of_100/model_30_of_100/model_31_of_100/model_32_of_100/model_33_of_100/model_34_of_100/model_35_of_100/model_36_of_100/model_37_of_100/model_38_of_100/model_39_of_100/model_40_of_100/model_41_of_100/model_42_of_100/model_43_of_100/model_44_of_100/model_45_of_100/model_46_of_100/model_47_of_100/model_48_of_100/model_49_of_100/model_50_of_100/model_51_of_100/model_52_of_100/model_53_of_100/model_54_of_100/model_55_of_100/model_56_of_100/model_57_of_100/model_58_of_100/model_59_of_100/model_60_of_100/model_61_of_100/model_62_of_100/model_63_of_100/model_64_of_100/model_65_of_100/model_66_of_100/model_67_of_100/model_68_of_100.pth\n",
            "path /content/drive/MyDrive/academics/columbia/neural_networks/project/data/round_6/model_0_of_100/model_1_of_100/model_2_of_100/model_3_of_100/model_4_of_100/model_5_of_100/model_6_of_100/model_7_of_100/model_8_of_100/model_9_of_100/model_10_of_100/model_11_of_100/model_12_of_100/model_13_of_100/model_14_of_100/model_15_of_100/model_16_of_100/model_17_of_100/model_18_of_100/model_19_of_100/model_20_of_100/model_21_of_100/model_22_of_100/model_23_of_100/model_24_of_100/model_25_of_100/model_26_of_100/model_27_of_100/model_28_of_100/model_29_of_100/model_30_of_100/model_31_of_100/model_32_of_100/model_33_of_100/model_34_of_100/model_35_of_100/model_36_of_100/model_37_of_100/model_38_of_100/model_39_of_100/model_40_of_100/model_41_of_100/model_42_of_100/model_43_of_100/model_44_of_100/model_45_of_100/model_46_of_100/model_47_of_100/model_48_of_100/model_49_of_100/model_50_of_100/model_51_of_100/model_52_of_100/model_53_of_100/model_54_of_100/model_55_of_100/model_56_of_100/model_57_of_100/model_58_of_100/model_59_of_100/model_60_of_100/model_61_of_100/model_62_of_100/model_63_of_100/model_64_of_100/model_65_of_100/model_66_of_100/model_67_of_100/model_68_of_100.pth already saved to. SKIPPING.\n",
            "68\n",
            "{'save_path': '/content/drive/MyDrive/academics/columbia/neural_networks/project/data/round_6/model_0_of_100/model_1_of_100/model_2_of_100/model_3_of_100/model_4_of_100/model_5_of_100/model_6_of_100/model_7_of_100/model_8_of_100/model_9_of_100/model_10_of_100/model_11_of_100/model_12_of_100/model_13_of_100/model_14_of_100/model_15_of_100/model_16_of_100/model_17_of_100/model_18_of_100/model_19_of_100/model_20_of_100/model_21_of_100/model_22_of_100/model_23_of_100/model_24_of_100/model_25_of_100/model_26_of_100/model_27_of_100/model_28_of_100/model_29_of_100/model_30_of_100/model_31_of_100/model_32_of_100/model_33_of_100/model_34_of_100/model_35_of_100/model_36_of_100/model_37_of_100/model_38_of_100/model_39_of_100/model_40_of_100/model_41_of_100/model_42_of_100/model_43_of_100/model_44_of_100/model_45_of_100/model_46_of_100/model_47_of_100/model_48_of_100/model_49_of_100/model_50_of_100/model_51_of_100/model_52_of_100/model_53_of_100/model_54_of_100/model_55_of_100/model_56_of_100/model_57_of_100/model_58_of_100/model_59_of_100/model_60_of_100/model_61_of_100/model_62_of_100/model_63_of_100/model_64_of_100/model_65_of_100/model_66_of_100/model_67_of_100/model_68_of_100.pth', 'history': None, 'model_name': 'model_68_of_100'}\n",
            "Model training took 0:00:00.273017\n",
            "model_69_of_100\n",
            "tensorboard path is /content/drive/MyDrive/academics/columbia/neural_networks/project/data/round_6/model_0_of_100/model_1_of_100/model_2_of_100/model_3_of_100/model_4_of_100/model_5_of_100/model_6_of_100/model_7_of_100/model_8_of_100/model_9_of_100/model_10_of_100/model_11_of_100/model_12_of_100/model_13_of_100/model_14_of_100/model_15_of_100/model_16_of_100/model_17_of_100/model_18_of_100/model_19_of_100/model_20_of_100/model_21_of_100/model_22_of_100/model_23_of_100/model_24_of_100/model_25_of_100/model_26_of_100/model_27_of_100/model_28_of_100/model_29_of_100/model_30_of_100/model_31_of_100/model_32_of_100/model_33_of_100/model_34_of_100/model_35_of_100/model_36_of_100/model_37_of_100/model_38_of_100/model_39_of_100/model_40_of_100/model_41_of_100/model_42_of_100/model_43_of_100/model_44_of_100/model_45_of_100/model_46_of_100/model_47_of_100/model_48_of_100/model_49_of_100/model_50_of_100/model_51_of_100/model_52_of_100/model_53_of_100/model_54_of_100/model_55_of_100/model_56_of_100/model_57_of_100/model_58_of_100/model_59_of_100/model_60_of_100/model_61_of_100/model_62_of_100/model_63_of_100/model_64_of_100/model_65_of_100/model_66_of_100/model_67_of_100/model_68_of_100/model_69_of_100\n",
            "save_path is /content/drive/MyDrive/academics/columbia/neural_networks/project/data/round_6/model_0_of_100/model_1_of_100/model_2_of_100/model_3_of_100/model_4_of_100/model_5_of_100/model_6_of_100/model_7_of_100/model_8_of_100/model_9_of_100/model_10_of_100/model_11_of_100/model_12_of_100/model_13_of_100/model_14_of_100/model_15_of_100/model_16_of_100/model_17_of_100/model_18_of_100/model_19_of_100/model_20_of_100/model_21_of_100/model_22_of_100/model_23_of_100/model_24_of_100/model_25_of_100/model_26_of_100/model_27_of_100/model_28_of_100/model_29_of_100/model_30_of_100/model_31_of_100/model_32_of_100/model_33_of_100/model_34_of_100/model_35_of_100/model_36_of_100/model_37_of_100/model_38_of_100/model_39_of_100/model_40_of_100/model_41_of_100/model_42_of_100/model_43_of_100/model_44_of_100/model_45_of_100/model_46_of_100/model_47_of_100/model_48_of_100/model_49_of_100/model_50_of_100/model_51_of_100/model_52_of_100/model_53_of_100/model_54_of_100/model_55_of_100/model_56_of_100/model_57_of_100/model_58_of_100/model_59_of_100/model_60_of_100/model_61_of_100/model_62_of_100/model_63_of_100/model_64_of_100/model_65_of_100/model_66_of_100/model_67_of_100/model_68_of_100/model_69_of_100.pth\n",
            "path /content/drive/MyDrive/academics/columbia/neural_networks/project/data/round_6/model_0_of_100/model_1_of_100/model_2_of_100/model_3_of_100/model_4_of_100/model_5_of_100/model_6_of_100/model_7_of_100/model_8_of_100/model_9_of_100/model_10_of_100/model_11_of_100/model_12_of_100/model_13_of_100/model_14_of_100/model_15_of_100/model_16_of_100/model_17_of_100/model_18_of_100/model_19_of_100/model_20_of_100/model_21_of_100/model_22_of_100/model_23_of_100/model_24_of_100/model_25_of_100/model_26_of_100/model_27_of_100/model_28_of_100/model_29_of_100/model_30_of_100/model_31_of_100/model_32_of_100/model_33_of_100/model_34_of_100/model_35_of_100/model_36_of_100/model_37_of_100/model_38_of_100/model_39_of_100/model_40_of_100/model_41_of_100/model_42_of_100/model_43_of_100/model_44_of_100/model_45_of_100/model_46_of_100/model_47_of_100/model_48_of_100/model_49_of_100/model_50_of_100/model_51_of_100/model_52_of_100/model_53_of_100/model_54_of_100/model_55_of_100/model_56_of_100/model_57_of_100/model_58_of_100/model_59_of_100/model_60_of_100/model_61_of_100/model_62_of_100/model_63_of_100/model_64_of_100/model_65_of_100/model_66_of_100/model_67_of_100/model_68_of_100/model_69_of_100.pth already saved to. SKIPPING.\n",
            "69\n",
            "{'save_path': '/content/drive/MyDrive/academics/columbia/neural_networks/project/data/round_6/model_0_of_100/model_1_of_100/model_2_of_100/model_3_of_100/model_4_of_100/model_5_of_100/model_6_of_100/model_7_of_100/model_8_of_100/model_9_of_100/model_10_of_100/model_11_of_100/model_12_of_100/model_13_of_100/model_14_of_100/model_15_of_100/model_16_of_100/model_17_of_100/model_18_of_100/model_19_of_100/model_20_of_100/model_21_of_100/model_22_of_100/model_23_of_100/model_24_of_100/model_25_of_100/model_26_of_100/model_27_of_100/model_28_of_100/model_29_of_100/model_30_of_100/model_31_of_100/model_32_of_100/model_33_of_100/model_34_of_100/model_35_of_100/model_36_of_100/model_37_of_100/model_38_of_100/model_39_of_100/model_40_of_100/model_41_of_100/model_42_of_100/model_43_of_100/model_44_of_100/model_45_of_100/model_46_of_100/model_47_of_100/model_48_of_100/model_49_of_100/model_50_of_100/model_51_of_100/model_52_of_100/model_53_of_100/model_54_of_100/model_55_of_100/model_56_of_100/model_57_of_100/model_58_of_100/model_59_of_100/model_60_of_100/model_61_of_100/model_62_of_100/model_63_of_100/model_64_of_100/model_65_of_100/model_66_of_100/model_67_of_100/model_68_of_100/model_69_of_100.pth', 'history': None, 'model_name': 'model_69_of_100'}\n",
            "Model training took 0:00:00.252796\n",
            "model_70_of_100\n",
            "tensorboard path is /content/drive/MyDrive/academics/columbia/neural_networks/project/data/round_6/model_0_of_100/model_1_of_100/model_2_of_100/model_3_of_100/model_4_of_100/model_5_of_100/model_6_of_100/model_7_of_100/model_8_of_100/model_9_of_100/model_10_of_100/model_11_of_100/model_12_of_100/model_13_of_100/model_14_of_100/model_15_of_100/model_16_of_100/model_17_of_100/model_18_of_100/model_19_of_100/model_20_of_100/model_21_of_100/model_22_of_100/model_23_of_100/model_24_of_100/model_25_of_100/model_26_of_100/model_27_of_100/model_28_of_100/model_29_of_100/model_30_of_100/model_31_of_100/model_32_of_100/model_33_of_100/model_34_of_100/model_35_of_100/model_36_of_100/model_37_of_100/model_38_of_100/model_39_of_100/model_40_of_100/model_41_of_100/model_42_of_100/model_43_of_100/model_44_of_100/model_45_of_100/model_46_of_100/model_47_of_100/model_48_of_100/model_49_of_100/model_50_of_100/model_51_of_100/model_52_of_100/model_53_of_100/model_54_of_100/model_55_of_100/model_56_of_100/model_57_of_100/model_58_of_100/model_59_of_100/model_60_of_100/model_61_of_100/model_62_of_100/model_63_of_100/model_64_of_100/model_65_of_100/model_66_of_100/model_67_of_100/model_68_of_100/model_69_of_100/model_70_of_100\n",
            "save_path is /content/drive/MyDrive/academics/columbia/neural_networks/project/data/round_6/model_0_of_100/model_1_of_100/model_2_of_100/model_3_of_100/model_4_of_100/model_5_of_100/model_6_of_100/model_7_of_100/model_8_of_100/model_9_of_100/model_10_of_100/model_11_of_100/model_12_of_100/model_13_of_100/model_14_of_100/model_15_of_100/model_16_of_100/model_17_of_100/model_18_of_100/model_19_of_100/model_20_of_100/model_21_of_100/model_22_of_100/model_23_of_100/model_24_of_100/model_25_of_100/model_26_of_100/model_27_of_100/model_28_of_100/model_29_of_100/model_30_of_100/model_31_of_100/model_32_of_100/model_33_of_100/model_34_of_100/model_35_of_100/model_36_of_100/model_37_of_100/model_38_of_100/model_39_of_100/model_40_of_100/model_41_of_100/model_42_of_100/model_43_of_100/model_44_of_100/model_45_of_100/model_46_of_100/model_47_of_100/model_48_of_100/model_49_of_100/model_50_of_100/model_51_of_100/model_52_of_100/model_53_of_100/model_54_of_100/model_55_of_100/model_56_of_100/model_57_of_100/model_58_of_100/model_59_of_100/model_60_of_100/model_61_of_100/model_62_of_100/model_63_of_100/model_64_of_100/model_65_of_100/model_66_of_100/model_67_of_100/model_68_of_100/model_69_of_100/model_70_of_100.pth\n",
            "path /content/drive/MyDrive/academics/columbia/neural_networks/project/data/round_6/model_0_of_100/model_1_of_100/model_2_of_100/model_3_of_100/model_4_of_100/model_5_of_100/model_6_of_100/model_7_of_100/model_8_of_100/model_9_of_100/model_10_of_100/model_11_of_100/model_12_of_100/model_13_of_100/model_14_of_100/model_15_of_100/model_16_of_100/model_17_of_100/model_18_of_100/model_19_of_100/model_20_of_100/model_21_of_100/model_22_of_100/model_23_of_100/model_24_of_100/model_25_of_100/model_26_of_100/model_27_of_100/model_28_of_100/model_29_of_100/model_30_of_100/model_31_of_100/model_32_of_100/model_33_of_100/model_34_of_100/model_35_of_100/model_36_of_100/model_37_of_100/model_38_of_100/model_39_of_100/model_40_of_100/model_41_of_100/model_42_of_100/model_43_of_100/model_44_of_100/model_45_of_100/model_46_of_100/model_47_of_100/model_48_of_100/model_49_of_100/model_50_of_100/model_51_of_100/model_52_of_100/model_53_of_100/model_54_of_100/model_55_of_100/model_56_of_100/model_57_of_100/model_58_of_100/model_59_of_100/model_60_of_100/model_61_of_100/model_62_of_100/model_63_of_100/model_64_of_100/model_65_of_100/model_66_of_100/model_67_of_100/model_68_of_100/model_69_of_100/model_70_of_100.pth already saved to. SKIPPING.\n",
            "70\n",
            "{'save_path': '/content/drive/MyDrive/academics/columbia/neural_networks/project/data/round_6/model_0_of_100/model_1_of_100/model_2_of_100/model_3_of_100/model_4_of_100/model_5_of_100/model_6_of_100/model_7_of_100/model_8_of_100/model_9_of_100/model_10_of_100/model_11_of_100/model_12_of_100/model_13_of_100/model_14_of_100/model_15_of_100/model_16_of_100/model_17_of_100/model_18_of_100/model_19_of_100/model_20_of_100/model_21_of_100/model_22_of_100/model_23_of_100/model_24_of_100/model_25_of_100/model_26_of_100/model_27_of_100/model_28_of_100/model_29_of_100/model_30_of_100/model_31_of_100/model_32_of_100/model_33_of_100/model_34_of_100/model_35_of_100/model_36_of_100/model_37_of_100/model_38_of_100/model_39_of_100/model_40_of_100/model_41_of_100/model_42_of_100/model_43_of_100/model_44_of_100/model_45_of_100/model_46_of_100/model_47_of_100/model_48_of_100/model_49_of_100/model_50_of_100/model_51_of_100/model_52_of_100/model_53_of_100/model_54_of_100/model_55_of_100/model_56_of_100/model_57_of_100/model_58_of_100/model_59_of_100/model_60_of_100/model_61_of_100/model_62_of_100/model_63_of_100/model_64_of_100/model_65_of_100/model_66_of_100/model_67_of_100/model_68_of_100/model_69_of_100/model_70_of_100.pth', 'history': None, 'model_name': 'model_70_of_100'}\n",
            "Model training took 0:00:00.275301\n",
            "model_71_of_100\n",
            "tensorboard path is /content/drive/MyDrive/academics/columbia/neural_networks/project/data/round_6/model_0_of_100/model_1_of_100/model_2_of_100/model_3_of_100/model_4_of_100/model_5_of_100/model_6_of_100/model_7_of_100/model_8_of_100/model_9_of_100/model_10_of_100/model_11_of_100/model_12_of_100/model_13_of_100/model_14_of_100/model_15_of_100/model_16_of_100/model_17_of_100/model_18_of_100/model_19_of_100/model_20_of_100/model_21_of_100/model_22_of_100/model_23_of_100/model_24_of_100/model_25_of_100/model_26_of_100/model_27_of_100/model_28_of_100/model_29_of_100/model_30_of_100/model_31_of_100/model_32_of_100/model_33_of_100/model_34_of_100/model_35_of_100/model_36_of_100/model_37_of_100/model_38_of_100/model_39_of_100/model_40_of_100/model_41_of_100/model_42_of_100/model_43_of_100/model_44_of_100/model_45_of_100/model_46_of_100/model_47_of_100/model_48_of_100/model_49_of_100/model_50_of_100/model_51_of_100/model_52_of_100/model_53_of_100/model_54_of_100/model_55_of_100/model_56_of_100/model_57_of_100/model_58_of_100/model_59_of_100/model_60_of_100/model_61_of_100/model_62_of_100/model_63_of_100/model_64_of_100/model_65_of_100/model_66_of_100/model_67_of_100/model_68_of_100/model_69_of_100/model_70_of_100/model_71_of_100\n",
            "save_path is /content/drive/MyDrive/academics/columbia/neural_networks/project/data/round_6/model_0_of_100/model_1_of_100/model_2_of_100/model_3_of_100/model_4_of_100/model_5_of_100/model_6_of_100/model_7_of_100/model_8_of_100/model_9_of_100/model_10_of_100/model_11_of_100/model_12_of_100/model_13_of_100/model_14_of_100/model_15_of_100/model_16_of_100/model_17_of_100/model_18_of_100/model_19_of_100/model_20_of_100/model_21_of_100/model_22_of_100/model_23_of_100/model_24_of_100/model_25_of_100/model_26_of_100/model_27_of_100/model_28_of_100/model_29_of_100/model_30_of_100/model_31_of_100/model_32_of_100/model_33_of_100/model_34_of_100/model_35_of_100/model_36_of_100/model_37_of_100/model_38_of_100/model_39_of_100/model_40_of_100/model_41_of_100/model_42_of_100/model_43_of_100/model_44_of_100/model_45_of_100/model_46_of_100/model_47_of_100/model_48_of_100/model_49_of_100/model_50_of_100/model_51_of_100/model_52_of_100/model_53_of_100/model_54_of_100/model_55_of_100/model_56_of_100/model_57_of_100/model_58_of_100/model_59_of_100/model_60_of_100/model_61_of_100/model_62_of_100/model_63_of_100/model_64_of_100/model_65_of_100/model_66_of_100/model_67_of_100/model_68_of_100/model_69_of_100/model_70_of_100/model_71_of_100.pth\n",
            "path /content/drive/MyDrive/academics/columbia/neural_networks/project/data/round_6/model_0_of_100/model_1_of_100/model_2_of_100/model_3_of_100/model_4_of_100/model_5_of_100/model_6_of_100/model_7_of_100/model_8_of_100/model_9_of_100/model_10_of_100/model_11_of_100/model_12_of_100/model_13_of_100/model_14_of_100/model_15_of_100/model_16_of_100/model_17_of_100/model_18_of_100/model_19_of_100/model_20_of_100/model_21_of_100/model_22_of_100/model_23_of_100/model_24_of_100/model_25_of_100/model_26_of_100/model_27_of_100/model_28_of_100/model_29_of_100/model_30_of_100/model_31_of_100/model_32_of_100/model_33_of_100/model_34_of_100/model_35_of_100/model_36_of_100/model_37_of_100/model_38_of_100/model_39_of_100/model_40_of_100/model_41_of_100/model_42_of_100/model_43_of_100/model_44_of_100/model_45_of_100/model_46_of_100/model_47_of_100/model_48_of_100/model_49_of_100/model_50_of_100/model_51_of_100/model_52_of_100/model_53_of_100/model_54_of_100/model_55_of_100/model_56_of_100/model_57_of_100/model_58_of_100/model_59_of_100/model_60_of_100/model_61_of_100/model_62_of_100/model_63_of_100/model_64_of_100/model_65_of_100/model_66_of_100/model_67_of_100/model_68_of_100/model_69_of_100/model_70_of_100/model_71_of_100.pth already saved to. SKIPPING.\n",
            "71\n",
            "{'save_path': '/content/drive/MyDrive/academics/columbia/neural_networks/project/data/round_6/model_0_of_100/model_1_of_100/model_2_of_100/model_3_of_100/model_4_of_100/model_5_of_100/model_6_of_100/model_7_of_100/model_8_of_100/model_9_of_100/model_10_of_100/model_11_of_100/model_12_of_100/model_13_of_100/model_14_of_100/model_15_of_100/model_16_of_100/model_17_of_100/model_18_of_100/model_19_of_100/model_20_of_100/model_21_of_100/model_22_of_100/model_23_of_100/model_24_of_100/model_25_of_100/model_26_of_100/model_27_of_100/model_28_of_100/model_29_of_100/model_30_of_100/model_31_of_100/model_32_of_100/model_33_of_100/model_34_of_100/model_35_of_100/model_36_of_100/model_37_of_100/model_38_of_100/model_39_of_100/model_40_of_100/model_41_of_100/model_42_of_100/model_43_of_100/model_44_of_100/model_45_of_100/model_46_of_100/model_47_of_100/model_48_of_100/model_49_of_100/model_50_of_100/model_51_of_100/model_52_of_100/model_53_of_100/model_54_of_100/model_55_of_100/model_56_of_100/model_57_of_100/model_58_of_100/model_59_of_100/model_60_of_100/model_61_of_100/model_62_of_100/model_63_of_100/model_64_of_100/model_65_of_100/model_66_of_100/model_67_of_100/model_68_of_100/model_69_of_100/model_70_of_100/model_71_of_100.pth', 'history': None, 'model_name': 'model_71_of_100'}\n",
            "Model training took 0:00:00.245799\n",
            "model_72_of_100\n",
            "tensorboard path is /content/drive/MyDrive/academics/columbia/neural_networks/project/data/round_6/model_0_of_100/model_1_of_100/model_2_of_100/model_3_of_100/model_4_of_100/model_5_of_100/model_6_of_100/model_7_of_100/model_8_of_100/model_9_of_100/model_10_of_100/model_11_of_100/model_12_of_100/model_13_of_100/model_14_of_100/model_15_of_100/model_16_of_100/model_17_of_100/model_18_of_100/model_19_of_100/model_20_of_100/model_21_of_100/model_22_of_100/model_23_of_100/model_24_of_100/model_25_of_100/model_26_of_100/model_27_of_100/model_28_of_100/model_29_of_100/model_30_of_100/model_31_of_100/model_32_of_100/model_33_of_100/model_34_of_100/model_35_of_100/model_36_of_100/model_37_of_100/model_38_of_100/model_39_of_100/model_40_of_100/model_41_of_100/model_42_of_100/model_43_of_100/model_44_of_100/model_45_of_100/model_46_of_100/model_47_of_100/model_48_of_100/model_49_of_100/model_50_of_100/model_51_of_100/model_52_of_100/model_53_of_100/model_54_of_100/model_55_of_100/model_56_of_100/model_57_of_100/model_58_of_100/model_59_of_100/model_60_of_100/model_61_of_100/model_62_of_100/model_63_of_100/model_64_of_100/model_65_of_100/model_66_of_100/model_67_of_100/model_68_of_100/model_69_of_100/model_70_of_100/model_71_of_100/model_72_of_100\n",
            "save_path is /content/drive/MyDrive/academics/columbia/neural_networks/project/data/round_6/model_0_of_100/model_1_of_100/model_2_of_100/model_3_of_100/model_4_of_100/model_5_of_100/model_6_of_100/model_7_of_100/model_8_of_100/model_9_of_100/model_10_of_100/model_11_of_100/model_12_of_100/model_13_of_100/model_14_of_100/model_15_of_100/model_16_of_100/model_17_of_100/model_18_of_100/model_19_of_100/model_20_of_100/model_21_of_100/model_22_of_100/model_23_of_100/model_24_of_100/model_25_of_100/model_26_of_100/model_27_of_100/model_28_of_100/model_29_of_100/model_30_of_100/model_31_of_100/model_32_of_100/model_33_of_100/model_34_of_100/model_35_of_100/model_36_of_100/model_37_of_100/model_38_of_100/model_39_of_100/model_40_of_100/model_41_of_100/model_42_of_100/model_43_of_100/model_44_of_100/model_45_of_100/model_46_of_100/model_47_of_100/model_48_of_100/model_49_of_100/model_50_of_100/model_51_of_100/model_52_of_100/model_53_of_100/model_54_of_100/model_55_of_100/model_56_of_100/model_57_of_100/model_58_of_100/model_59_of_100/model_60_of_100/model_61_of_100/model_62_of_100/model_63_of_100/model_64_of_100/model_65_of_100/model_66_of_100/model_67_of_100/model_68_of_100/model_69_of_100/model_70_of_100/model_71_of_100/model_72_of_100.pth\n",
            "path /content/drive/MyDrive/academics/columbia/neural_networks/project/data/round_6/model_0_of_100/model_1_of_100/model_2_of_100/model_3_of_100/model_4_of_100/model_5_of_100/model_6_of_100/model_7_of_100/model_8_of_100/model_9_of_100/model_10_of_100/model_11_of_100/model_12_of_100/model_13_of_100/model_14_of_100/model_15_of_100/model_16_of_100/model_17_of_100/model_18_of_100/model_19_of_100/model_20_of_100/model_21_of_100/model_22_of_100/model_23_of_100/model_24_of_100/model_25_of_100/model_26_of_100/model_27_of_100/model_28_of_100/model_29_of_100/model_30_of_100/model_31_of_100/model_32_of_100/model_33_of_100/model_34_of_100/model_35_of_100/model_36_of_100/model_37_of_100/model_38_of_100/model_39_of_100/model_40_of_100/model_41_of_100/model_42_of_100/model_43_of_100/model_44_of_100/model_45_of_100/model_46_of_100/model_47_of_100/model_48_of_100/model_49_of_100/model_50_of_100/model_51_of_100/model_52_of_100/model_53_of_100/model_54_of_100/model_55_of_100/model_56_of_100/model_57_of_100/model_58_of_100/model_59_of_100/model_60_of_100/model_61_of_100/model_62_of_100/model_63_of_100/model_64_of_100/model_65_of_100/model_66_of_100/model_67_of_100/model_68_of_100/model_69_of_100/model_70_of_100/model_71_of_100/model_72_of_100.pth already saved to. SKIPPING.\n",
            "72\n",
            "{'save_path': '/content/drive/MyDrive/academics/columbia/neural_networks/project/data/round_6/model_0_of_100/model_1_of_100/model_2_of_100/model_3_of_100/model_4_of_100/model_5_of_100/model_6_of_100/model_7_of_100/model_8_of_100/model_9_of_100/model_10_of_100/model_11_of_100/model_12_of_100/model_13_of_100/model_14_of_100/model_15_of_100/model_16_of_100/model_17_of_100/model_18_of_100/model_19_of_100/model_20_of_100/model_21_of_100/model_22_of_100/model_23_of_100/model_24_of_100/model_25_of_100/model_26_of_100/model_27_of_100/model_28_of_100/model_29_of_100/model_30_of_100/model_31_of_100/model_32_of_100/model_33_of_100/model_34_of_100/model_35_of_100/model_36_of_100/model_37_of_100/model_38_of_100/model_39_of_100/model_40_of_100/model_41_of_100/model_42_of_100/model_43_of_100/model_44_of_100/model_45_of_100/model_46_of_100/model_47_of_100/model_48_of_100/model_49_of_100/model_50_of_100/model_51_of_100/model_52_of_100/model_53_of_100/model_54_of_100/model_55_of_100/model_56_of_100/model_57_of_100/model_58_of_100/model_59_of_100/model_60_of_100/model_61_of_100/model_62_of_100/model_63_of_100/model_64_of_100/model_65_of_100/model_66_of_100/model_67_of_100/model_68_of_100/model_69_of_100/model_70_of_100/model_71_of_100/model_72_of_100.pth', 'history': None, 'model_name': 'model_72_of_100'}\n",
            "Model training took 0:00:00.278979\n",
            "model_73_of_100\n",
            "tensorboard path is /content/drive/MyDrive/academics/columbia/neural_networks/project/data/round_6/model_0_of_100/model_1_of_100/model_2_of_100/model_3_of_100/model_4_of_100/model_5_of_100/model_6_of_100/model_7_of_100/model_8_of_100/model_9_of_100/model_10_of_100/model_11_of_100/model_12_of_100/model_13_of_100/model_14_of_100/model_15_of_100/model_16_of_100/model_17_of_100/model_18_of_100/model_19_of_100/model_20_of_100/model_21_of_100/model_22_of_100/model_23_of_100/model_24_of_100/model_25_of_100/model_26_of_100/model_27_of_100/model_28_of_100/model_29_of_100/model_30_of_100/model_31_of_100/model_32_of_100/model_33_of_100/model_34_of_100/model_35_of_100/model_36_of_100/model_37_of_100/model_38_of_100/model_39_of_100/model_40_of_100/model_41_of_100/model_42_of_100/model_43_of_100/model_44_of_100/model_45_of_100/model_46_of_100/model_47_of_100/model_48_of_100/model_49_of_100/model_50_of_100/model_51_of_100/model_52_of_100/model_53_of_100/model_54_of_100/model_55_of_100/model_56_of_100/model_57_of_100/model_58_of_100/model_59_of_100/model_60_of_100/model_61_of_100/model_62_of_100/model_63_of_100/model_64_of_100/model_65_of_100/model_66_of_100/model_67_of_100/model_68_of_100/model_69_of_100/model_70_of_100/model_71_of_100/model_72_of_100/model_73_of_100\n",
            "save_path is /content/drive/MyDrive/academics/columbia/neural_networks/project/data/round_6/model_0_of_100/model_1_of_100/model_2_of_100/model_3_of_100/model_4_of_100/model_5_of_100/model_6_of_100/model_7_of_100/model_8_of_100/model_9_of_100/model_10_of_100/model_11_of_100/model_12_of_100/model_13_of_100/model_14_of_100/model_15_of_100/model_16_of_100/model_17_of_100/model_18_of_100/model_19_of_100/model_20_of_100/model_21_of_100/model_22_of_100/model_23_of_100/model_24_of_100/model_25_of_100/model_26_of_100/model_27_of_100/model_28_of_100/model_29_of_100/model_30_of_100/model_31_of_100/model_32_of_100/model_33_of_100/model_34_of_100/model_35_of_100/model_36_of_100/model_37_of_100/model_38_of_100/model_39_of_100/model_40_of_100/model_41_of_100/model_42_of_100/model_43_of_100/model_44_of_100/model_45_of_100/model_46_of_100/model_47_of_100/model_48_of_100/model_49_of_100/model_50_of_100/model_51_of_100/model_52_of_100/model_53_of_100/model_54_of_100/model_55_of_100/model_56_of_100/model_57_of_100/model_58_of_100/model_59_of_100/model_60_of_100/model_61_of_100/model_62_of_100/model_63_of_100/model_64_of_100/model_65_of_100/model_66_of_100/model_67_of_100/model_68_of_100/model_69_of_100/model_70_of_100/model_71_of_100/model_72_of_100/model_73_of_100.pth\n",
            "path /content/drive/MyDrive/academics/columbia/neural_networks/project/data/round_6/model_0_of_100/model_1_of_100/model_2_of_100/model_3_of_100/model_4_of_100/model_5_of_100/model_6_of_100/model_7_of_100/model_8_of_100/model_9_of_100/model_10_of_100/model_11_of_100/model_12_of_100/model_13_of_100/model_14_of_100/model_15_of_100/model_16_of_100/model_17_of_100/model_18_of_100/model_19_of_100/model_20_of_100/model_21_of_100/model_22_of_100/model_23_of_100/model_24_of_100/model_25_of_100/model_26_of_100/model_27_of_100/model_28_of_100/model_29_of_100/model_30_of_100/model_31_of_100/model_32_of_100/model_33_of_100/model_34_of_100/model_35_of_100/model_36_of_100/model_37_of_100/model_38_of_100/model_39_of_100/model_40_of_100/model_41_of_100/model_42_of_100/model_43_of_100/model_44_of_100/model_45_of_100/model_46_of_100/model_47_of_100/model_48_of_100/model_49_of_100/model_50_of_100/model_51_of_100/model_52_of_100/model_53_of_100/model_54_of_100/model_55_of_100/model_56_of_100/model_57_of_100/model_58_of_100/model_59_of_100/model_60_of_100/model_61_of_100/model_62_of_100/model_63_of_100/model_64_of_100/model_65_of_100/model_66_of_100/model_67_of_100/model_68_of_100/model_69_of_100/model_70_of_100/model_71_of_100/model_72_of_100/model_73_of_100.pth already saved to. SKIPPING.\n",
            "73\n",
            "{'save_path': '/content/drive/MyDrive/academics/columbia/neural_networks/project/data/round_6/model_0_of_100/model_1_of_100/model_2_of_100/model_3_of_100/model_4_of_100/model_5_of_100/model_6_of_100/model_7_of_100/model_8_of_100/model_9_of_100/model_10_of_100/model_11_of_100/model_12_of_100/model_13_of_100/model_14_of_100/model_15_of_100/model_16_of_100/model_17_of_100/model_18_of_100/model_19_of_100/model_20_of_100/model_21_of_100/model_22_of_100/model_23_of_100/model_24_of_100/model_25_of_100/model_26_of_100/model_27_of_100/model_28_of_100/model_29_of_100/model_30_of_100/model_31_of_100/model_32_of_100/model_33_of_100/model_34_of_100/model_35_of_100/model_36_of_100/model_37_of_100/model_38_of_100/model_39_of_100/model_40_of_100/model_41_of_100/model_42_of_100/model_43_of_100/model_44_of_100/model_45_of_100/model_46_of_100/model_47_of_100/model_48_of_100/model_49_of_100/model_50_of_100/model_51_of_100/model_52_of_100/model_53_of_100/model_54_of_100/model_55_of_100/model_56_of_100/model_57_of_100/model_58_of_100/model_59_of_100/model_60_of_100/model_61_of_100/model_62_of_100/model_63_of_100/model_64_of_100/model_65_of_100/model_66_of_100/model_67_of_100/model_68_of_100/model_69_of_100/model_70_of_100/model_71_of_100/model_72_of_100/model_73_of_100.pth', 'history': None, 'model_name': 'model_73_of_100'}\n",
            "Model training took 0:00:00.299889\n",
            "model_74_of_100\n",
            "tensorboard path is /content/drive/MyDrive/academics/columbia/neural_networks/project/data/round_6/model_0_of_100/model_1_of_100/model_2_of_100/model_3_of_100/model_4_of_100/model_5_of_100/model_6_of_100/model_7_of_100/model_8_of_100/model_9_of_100/model_10_of_100/model_11_of_100/model_12_of_100/model_13_of_100/model_14_of_100/model_15_of_100/model_16_of_100/model_17_of_100/model_18_of_100/model_19_of_100/model_20_of_100/model_21_of_100/model_22_of_100/model_23_of_100/model_24_of_100/model_25_of_100/model_26_of_100/model_27_of_100/model_28_of_100/model_29_of_100/model_30_of_100/model_31_of_100/model_32_of_100/model_33_of_100/model_34_of_100/model_35_of_100/model_36_of_100/model_37_of_100/model_38_of_100/model_39_of_100/model_40_of_100/model_41_of_100/model_42_of_100/model_43_of_100/model_44_of_100/model_45_of_100/model_46_of_100/model_47_of_100/model_48_of_100/model_49_of_100/model_50_of_100/model_51_of_100/model_52_of_100/model_53_of_100/model_54_of_100/model_55_of_100/model_56_of_100/model_57_of_100/model_58_of_100/model_59_of_100/model_60_of_100/model_61_of_100/model_62_of_100/model_63_of_100/model_64_of_100/model_65_of_100/model_66_of_100/model_67_of_100/model_68_of_100/model_69_of_100/model_70_of_100/model_71_of_100/model_72_of_100/model_73_of_100/model_74_of_100\n",
            "save_path is /content/drive/MyDrive/academics/columbia/neural_networks/project/data/round_6/model_0_of_100/model_1_of_100/model_2_of_100/model_3_of_100/model_4_of_100/model_5_of_100/model_6_of_100/model_7_of_100/model_8_of_100/model_9_of_100/model_10_of_100/model_11_of_100/model_12_of_100/model_13_of_100/model_14_of_100/model_15_of_100/model_16_of_100/model_17_of_100/model_18_of_100/model_19_of_100/model_20_of_100/model_21_of_100/model_22_of_100/model_23_of_100/model_24_of_100/model_25_of_100/model_26_of_100/model_27_of_100/model_28_of_100/model_29_of_100/model_30_of_100/model_31_of_100/model_32_of_100/model_33_of_100/model_34_of_100/model_35_of_100/model_36_of_100/model_37_of_100/model_38_of_100/model_39_of_100/model_40_of_100/model_41_of_100/model_42_of_100/model_43_of_100/model_44_of_100/model_45_of_100/model_46_of_100/model_47_of_100/model_48_of_100/model_49_of_100/model_50_of_100/model_51_of_100/model_52_of_100/model_53_of_100/model_54_of_100/model_55_of_100/model_56_of_100/model_57_of_100/model_58_of_100/model_59_of_100/model_60_of_100/model_61_of_100/model_62_of_100/model_63_of_100/model_64_of_100/model_65_of_100/model_66_of_100/model_67_of_100/model_68_of_100/model_69_of_100/model_70_of_100/model_71_of_100/model_72_of_100/model_73_of_100/model_74_of_100.pth\n",
            "path /content/drive/MyDrive/academics/columbia/neural_networks/project/data/round_6/model_0_of_100/model_1_of_100/model_2_of_100/model_3_of_100/model_4_of_100/model_5_of_100/model_6_of_100/model_7_of_100/model_8_of_100/model_9_of_100/model_10_of_100/model_11_of_100/model_12_of_100/model_13_of_100/model_14_of_100/model_15_of_100/model_16_of_100/model_17_of_100/model_18_of_100/model_19_of_100/model_20_of_100/model_21_of_100/model_22_of_100/model_23_of_100/model_24_of_100/model_25_of_100/model_26_of_100/model_27_of_100/model_28_of_100/model_29_of_100/model_30_of_100/model_31_of_100/model_32_of_100/model_33_of_100/model_34_of_100/model_35_of_100/model_36_of_100/model_37_of_100/model_38_of_100/model_39_of_100/model_40_of_100/model_41_of_100/model_42_of_100/model_43_of_100/model_44_of_100/model_45_of_100/model_46_of_100/model_47_of_100/model_48_of_100/model_49_of_100/model_50_of_100/model_51_of_100/model_52_of_100/model_53_of_100/model_54_of_100/model_55_of_100/model_56_of_100/model_57_of_100/model_58_of_100/model_59_of_100/model_60_of_100/model_61_of_100/model_62_of_100/model_63_of_100/model_64_of_100/model_65_of_100/model_66_of_100/model_67_of_100/model_68_of_100/model_69_of_100/model_70_of_100/model_71_of_100/model_72_of_100/model_73_of_100/model_74_of_100.pth already saved to. SKIPPING.\n",
            "74\n",
            "{'save_path': '/content/drive/MyDrive/academics/columbia/neural_networks/project/data/round_6/model_0_of_100/model_1_of_100/model_2_of_100/model_3_of_100/model_4_of_100/model_5_of_100/model_6_of_100/model_7_of_100/model_8_of_100/model_9_of_100/model_10_of_100/model_11_of_100/model_12_of_100/model_13_of_100/model_14_of_100/model_15_of_100/model_16_of_100/model_17_of_100/model_18_of_100/model_19_of_100/model_20_of_100/model_21_of_100/model_22_of_100/model_23_of_100/model_24_of_100/model_25_of_100/model_26_of_100/model_27_of_100/model_28_of_100/model_29_of_100/model_30_of_100/model_31_of_100/model_32_of_100/model_33_of_100/model_34_of_100/model_35_of_100/model_36_of_100/model_37_of_100/model_38_of_100/model_39_of_100/model_40_of_100/model_41_of_100/model_42_of_100/model_43_of_100/model_44_of_100/model_45_of_100/model_46_of_100/model_47_of_100/model_48_of_100/model_49_of_100/model_50_of_100/model_51_of_100/model_52_of_100/model_53_of_100/model_54_of_100/model_55_of_100/model_56_of_100/model_57_of_100/model_58_of_100/model_59_of_100/model_60_of_100/model_61_of_100/model_62_of_100/model_63_of_100/model_64_of_100/model_65_of_100/model_66_of_100/model_67_of_100/model_68_of_100/model_69_of_100/model_70_of_100/model_71_of_100/model_72_of_100/model_73_of_100/model_74_of_100.pth', 'history': None, 'model_name': 'model_74_of_100'}\n",
            "Model training took 0:00:00.246172\n",
            "model_75_of_100\n",
            "tensorboard path is /content/drive/MyDrive/academics/columbia/neural_networks/project/data/round_6/model_0_of_100/model_1_of_100/model_2_of_100/model_3_of_100/model_4_of_100/model_5_of_100/model_6_of_100/model_7_of_100/model_8_of_100/model_9_of_100/model_10_of_100/model_11_of_100/model_12_of_100/model_13_of_100/model_14_of_100/model_15_of_100/model_16_of_100/model_17_of_100/model_18_of_100/model_19_of_100/model_20_of_100/model_21_of_100/model_22_of_100/model_23_of_100/model_24_of_100/model_25_of_100/model_26_of_100/model_27_of_100/model_28_of_100/model_29_of_100/model_30_of_100/model_31_of_100/model_32_of_100/model_33_of_100/model_34_of_100/model_35_of_100/model_36_of_100/model_37_of_100/model_38_of_100/model_39_of_100/model_40_of_100/model_41_of_100/model_42_of_100/model_43_of_100/model_44_of_100/model_45_of_100/model_46_of_100/model_47_of_100/model_48_of_100/model_49_of_100/model_50_of_100/model_51_of_100/model_52_of_100/model_53_of_100/model_54_of_100/model_55_of_100/model_56_of_100/model_57_of_100/model_58_of_100/model_59_of_100/model_60_of_100/model_61_of_100/model_62_of_100/model_63_of_100/model_64_of_100/model_65_of_100/model_66_of_100/model_67_of_100/model_68_of_100/model_69_of_100/model_70_of_100/model_71_of_100/model_72_of_100/model_73_of_100/model_74_of_100/model_75_of_100\n",
            "save_path is /content/drive/MyDrive/academics/columbia/neural_networks/project/data/round_6/model_0_of_100/model_1_of_100/model_2_of_100/model_3_of_100/model_4_of_100/model_5_of_100/model_6_of_100/model_7_of_100/model_8_of_100/model_9_of_100/model_10_of_100/model_11_of_100/model_12_of_100/model_13_of_100/model_14_of_100/model_15_of_100/model_16_of_100/model_17_of_100/model_18_of_100/model_19_of_100/model_20_of_100/model_21_of_100/model_22_of_100/model_23_of_100/model_24_of_100/model_25_of_100/model_26_of_100/model_27_of_100/model_28_of_100/model_29_of_100/model_30_of_100/model_31_of_100/model_32_of_100/model_33_of_100/model_34_of_100/model_35_of_100/model_36_of_100/model_37_of_100/model_38_of_100/model_39_of_100/model_40_of_100/model_41_of_100/model_42_of_100/model_43_of_100/model_44_of_100/model_45_of_100/model_46_of_100/model_47_of_100/model_48_of_100/model_49_of_100/model_50_of_100/model_51_of_100/model_52_of_100/model_53_of_100/model_54_of_100/model_55_of_100/model_56_of_100/model_57_of_100/model_58_of_100/model_59_of_100/model_60_of_100/model_61_of_100/model_62_of_100/model_63_of_100/model_64_of_100/model_65_of_100/model_66_of_100/model_67_of_100/model_68_of_100/model_69_of_100/model_70_of_100/model_71_of_100/model_72_of_100/model_73_of_100/model_74_of_100/model_75_of_100.pth\n",
            "path /content/drive/MyDrive/academics/columbia/neural_networks/project/data/round_6/model_0_of_100/model_1_of_100/model_2_of_100/model_3_of_100/model_4_of_100/model_5_of_100/model_6_of_100/model_7_of_100/model_8_of_100/model_9_of_100/model_10_of_100/model_11_of_100/model_12_of_100/model_13_of_100/model_14_of_100/model_15_of_100/model_16_of_100/model_17_of_100/model_18_of_100/model_19_of_100/model_20_of_100/model_21_of_100/model_22_of_100/model_23_of_100/model_24_of_100/model_25_of_100/model_26_of_100/model_27_of_100/model_28_of_100/model_29_of_100/model_30_of_100/model_31_of_100/model_32_of_100/model_33_of_100/model_34_of_100/model_35_of_100/model_36_of_100/model_37_of_100/model_38_of_100/model_39_of_100/model_40_of_100/model_41_of_100/model_42_of_100/model_43_of_100/model_44_of_100/model_45_of_100/model_46_of_100/model_47_of_100/model_48_of_100/model_49_of_100/model_50_of_100/model_51_of_100/model_52_of_100/model_53_of_100/model_54_of_100/model_55_of_100/model_56_of_100/model_57_of_100/model_58_of_100/model_59_of_100/model_60_of_100/model_61_of_100/model_62_of_100/model_63_of_100/model_64_of_100/model_65_of_100/model_66_of_100/model_67_of_100/model_68_of_100/model_69_of_100/model_70_of_100/model_71_of_100/model_72_of_100/model_73_of_100/model_74_of_100/model_75_of_100.pth already saved to. SKIPPING.\n",
            "75\n",
            "{'save_path': '/content/drive/MyDrive/academics/columbia/neural_networks/project/data/round_6/model_0_of_100/model_1_of_100/model_2_of_100/model_3_of_100/model_4_of_100/model_5_of_100/model_6_of_100/model_7_of_100/model_8_of_100/model_9_of_100/model_10_of_100/model_11_of_100/model_12_of_100/model_13_of_100/model_14_of_100/model_15_of_100/model_16_of_100/model_17_of_100/model_18_of_100/model_19_of_100/model_20_of_100/model_21_of_100/model_22_of_100/model_23_of_100/model_24_of_100/model_25_of_100/model_26_of_100/model_27_of_100/model_28_of_100/model_29_of_100/model_30_of_100/model_31_of_100/model_32_of_100/model_33_of_100/model_34_of_100/model_35_of_100/model_36_of_100/model_37_of_100/model_38_of_100/model_39_of_100/model_40_of_100/model_41_of_100/model_42_of_100/model_43_of_100/model_44_of_100/model_45_of_100/model_46_of_100/model_47_of_100/model_48_of_100/model_49_of_100/model_50_of_100/model_51_of_100/model_52_of_100/model_53_of_100/model_54_of_100/model_55_of_100/model_56_of_100/model_57_of_100/model_58_of_100/model_59_of_100/model_60_of_100/model_61_of_100/model_62_of_100/model_63_of_100/model_64_of_100/model_65_of_100/model_66_of_100/model_67_of_100/model_68_of_100/model_69_of_100/model_70_of_100/model_71_of_100/model_72_of_100/model_73_of_100/model_74_of_100/model_75_of_100.pth', 'history': None, 'model_name': 'model_75_of_100'}\n",
            "Model training took 0:00:00.270070\n",
            "model_76_of_100\n",
            "tensorboard path is /content/drive/MyDrive/academics/columbia/neural_networks/project/data/round_6/model_0_of_100/model_1_of_100/model_2_of_100/model_3_of_100/model_4_of_100/model_5_of_100/model_6_of_100/model_7_of_100/model_8_of_100/model_9_of_100/model_10_of_100/model_11_of_100/model_12_of_100/model_13_of_100/model_14_of_100/model_15_of_100/model_16_of_100/model_17_of_100/model_18_of_100/model_19_of_100/model_20_of_100/model_21_of_100/model_22_of_100/model_23_of_100/model_24_of_100/model_25_of_100/model_26_of_100/model_27_of_100/model_28_of_100/model_29_of_100/model_30_of_100/model_31_of_100/model_32_of_100/model_33_of_100/model_34_of_100/model_35_of_100/model_36_of_100/model_37_of_100/model_38_of_100/model_39_of_100/model_40_of_100/model_41_of_100/model_42_of_100/model_43_of_100/model_44_of_100/model_45_of_100/model_46_of_100/model_47_of_100/model_48_of_100/model_49_of_100/model_50_of_100/model_51_of_100/model_52_of_100/model_53_of_100/model_54_of_100/model_55_of_100/model_56_of_100/model_57_of_100/model_58_of_100/model_59_of_100/model_60_of_100/model_61_of_100/model_62_of_100/model_63_of_100/model_64_of_100/model_65_of_100/model_66_of_100/model_67_of_100/model_68_of_100/model_69_of_100/model_70_of_100/model_71_of_100/model_72_of_100/model_73_of_100/model_74_of_100/model_75_of_100/model_76_of_100\n",
            "save_path is /content/drive/MyDrive/academics/columbia/neural_networks/project/data/round_6/model_0_of_100/model_1_of_100/model_2_of_100/model_3_of_100/model_4_of_100/model_5_of_100/model_6_of_100/model_7_of_100/model_8_of_100/model_9_of_100/model_10_of_100/model_11_of_100/model_12_of_100/model_13_of_100/model_14_of_100/model_15_of_100/model_16_of_100/model_17_of_100/model_18_of_100/model_19_of_100/model_20_of_100/model_21_of_100/model_22_of_100/model_23_of_100/model_24_of_100/model_25_of_100/model_26_of_100/model_27_of_100/model_28_of_100/model_29_of_100/model_30_of_100/model_31_of_100/model_32_of_100/model_33_of_100/model_34_of_100/model_35_of_100/model_36_of_100/model_37_of_100/model_38_of_100/model_39_of_100/model_40_of_100/model_41_of_100/model_42_of_100/model_43_of_100/model_44_of_100/model_45_of_100/model_46_of_100/model_47_of_100/model_48_of_100/model_49_of_100/model_50_of_100/model_51_of_100/model_52_of_100/model_53_of_100/model_54_of_100/model_55_of_100/model_56_of_100/model_57_of_100/model_58_of_100/model_59_of_100/model_60_of_100/model_61_of_100/model_62_of_100/model_63_of_100/model_64_of_100/model_65_of_100/model_66_of_100/model_67_of_100/model_68_of_100/model_69_of_100/model_70_of_100/model_71_of_100/model_72_of_100/model_73_of_100/model_74_of_100/model_75_of_100/model_76_of_100.pth\n",
            "path /content/drive/MyDrive/academics/columbia/neural_networks/project/data/round_6/model_0_of_100/model_1_of_100/model_2_of_100/model_3_of_100/model_4_of_100/model_5_of_100/model_6_of_100/model_7_of_100/model_8_of_100/model_9_of_100/model_10_of_100/model_11_of_100/model_12_of_100/model_13_of_100/model_14_of_100/model_15_of_100/model_16_of_100/model_17_of_100/model_18_of_100/model_19_of_100/model_20_of_100/model_21_of_100/model_22_of_100/model_23_of_100/model_24_of_100/model_25_of_100/model_26_of_100/model_27_of_100/model_28_of_100/model_29_of_100/model_30_of_100/model_31_of_100/model_32_of_100/model_33_of_100/model_34_of_100/model_35_of_100/model_36_of_100/model_37_of_100/model_38_of_100/model_39_of_100/model_40_of_100/model_41_of_100/model_42_of_100/model_43_of_100/model_44_of_100/model_45_of_100/model_46_of_100/model_47_of_100/model_48_of_100/model_49_of_100/model_50_of_100/model_51_of_100/model_52_of_100/model_53_of_100/model_54_of_100/model_55_of_100/model_56_of_100/model_57_of_100/model_58_of_100/model_59_of_100/model_60_of_100/model_61_of_100/model_62_of_100/model_63_of_100/model_64_of_100/model_65_of_100/model_66_of_100/model_67_of_100/model_68_of_100/model_69_of_100/model_70_of_100/model_71_of_100/model_72_of_100/model_73_of_100/model_74_of_100/model_75_of_100/model_76_of_100.pth already saved to. SKIPPING.\n",
            "76\n",
            "{'save_path': '/content/drive/MyDrive/academics/columbia/neural_networks/project/data/round_6/model_0_of_100/model_1_of_100/model_2_of_100/model_3_of_100/model_4_of_100/model_5_of_100/model_6_of_100/model_7_of_100/model_8_of_100/model_9_of_100/model_10_of_100/model_11_of_100/model_12_of_100/model_13_of_100/model_14_of_100/model_15_of_100/model_16_of_100/model_17_of_100/model_18_of_100/model_19_of_100/model_20_of_100/model_21_of_100/model_22_of_100/model_23_of_100/model_24_of_100/model_25_of_100/model_26_of_100/model_27_of_100/model_28_of_100/model_29_of_100/model_30_of_100/model_31_of_100/model_32_of_100/model_33_of_100/model_34_of_100/model_35_of_100/model_36_of_100/model_37_of_100/model_38_of_100/model_39_of_100/model_40_of_100/model_41_of_100/model_42_of_100/model_43_of_100/model_44_of_100/model_45_of_100/model_46_of_100/model_47_of_100/model_48_of_100/model_49_of_100/model_50_of_100/model_51_of_100/model_52_of_100/model_53_of_100/model_54_of_100/model_55_of_100/model_56_of_100/model_57_of_100/model_58_of_100/model_59_of_100/model_60_of_100/model_61_of_100/model_62_of_100/model_63_of_100/model_64_of_100/model_65_of_100/model_66_of_100/model_67_of_100/model_68_of_100/model_69_of_100/model_70_of_100/model_71_of_100/model_72_of_100/model_73_of_100/model_74_of_100/model_75_of_100/model_76_of_100.pth', 'history': None, 'model_name': 'model_76_of_100'}\n",
            "Model training took 0:00:00.319477\n",
            "model_77_of_100\n",
            "tensorboard path is /content/drive/MyDrive/academics/columbia/neural_networks/project/data/round_6/model_0_of_100/model_1_of_100/model_2_of_100/model_3_of_100/model_4_of_100/model_5_of_100/model_6_of_100/model_7_of_100/model_8_of_100/model_9_of_100/model_10_of_100/model_11_of_100/model_12_of_100/model_13_of_100/model_14_of_100/model_15_of_100/model_16_of_100/model_17_of_100/model_18_of_100/model_19_of_100/model_20_of_100/model_21_of_100/model_22_of_100/model_23_of_100/model_24_of_100/model_25_of_100/model_26_of_100/model_27_of_100/model_28_of_100/model_29_of_100/model_30_of_100/model_31_of_100/model_32_of_100/model_33_of_100/model_34_of_100/model_35_of_100/model_36_of_100/model_37_of_100/model_38_of_100/model_39_of_100/model_40_of_100/model_41_of_100/model_42_of_100/model_43_of_100/model_44_of_100/model_45_of_100/model_46_of_100/model_47_of_100/model_48_of_100/model_49_of_100/model_50_of_100/model_51_of_100/model_52_of_100/model_53_of_100/model_54_of_100/model_55_of_100/model_56_of_100/model_57_of_100/model_58_of_100/model_59_of_100/model_60_of_100/model_61_of_100/model_62_of_100/model_63_of_100/model_64_of_100/model_65_of_100/model_66_of_100/model_67_of_100/model_68_of_100/model_69_of_100/model_70_of_100/model_71_of_100/model_72_of_100/model_73_of_100/model_74_of_100/model_75_of_100/model_76_of_100/model_77_of_100\n",
            "save_path is /content/drive/MyDrive/academics/columbia/neural_networks/project/data/round_6/model_0_of_100/model_1_of_100/model_2_of_100/model_3_of_100/model_4_of_100/model_5_of_100/model_6_of_100/model_7_of_100/model_8_of_100/model_9_of_100/model_10_of_100/model_11_of_100/model_12_of_100/model_13_of_100/model_14_of_100/model_15_of_100/model_16_of_100/model_17_of_100/model_18_of_100/model_19_of_100/model_20_of_100/model_21_of_100/model_22_of_100/model_23_of_100/model_24_of_100/model_25_of_100/model_26_of_100/model_27_of_100/model_28_of_100/model_29_of_100/model_30_of_100/model_31_of_100/model_32_of_100/model_33_of_100/model_34_of_100/model_35_of_100/model_36_of_100/model_37_of_100/model_38_of_100/model_39_of_100/model_40_of_100/model_41_of_100/model_42_of_100/model_43_of_100/model_44_of_100/model_45_of_100/model_46_of_100/model_47_of_100/model_48_of_100/model_49_of_100/model_50_of_100/model_51_of_100/model_52_of_100/model_53_of_100/model_54_of_100/model_55_of_100/model_56_of_100/model_57_of_100/model_58_of_100/model_59_of_100/model_60_of_100/model_61_of_100/model_62_of_100/model_63_of_100/model_64_of_100/model_65_of_100/model_66_of_100/model_67_of_100/model_68_of_100/model_69_of_100/model_70_of_100/model_71_of_100/model_72_of_100/model_73_of_100/model_74_of_100/model_75_of_100/model_76_of_100/model_77_of_100.pth\n",
            "path /content/drive/MyDrive/academics/columbia/neural_networks/project/data/round_6/model_0_of_100/model_1_of_100/model_2_of_100/model_3_of_100/model_4_of_100/model_5_of_100/model_6_of_100/model_7_of_100/model_8_of_100/model_9_of_100/model_10_of_100/model_11_of_100/model_12_of_100/model_13_of_100/model_14_of_100/model_15_of_100/model_16_of_100/model_17_of_100/model_18_of_100/model_19_of_100/model_20_of_100/model_21_of_100/model_22_of_100/model_23_of_100/model_24_of_100/model_25_of_100/model_26_of_100/model_27_of_100/model_28_of_100/model_29_of_100/model_30_of_100/model_31_of_100/model_32_of_100/model_33_of_100/model_34_of_100/model_35_of_100/model_36_of_100/model_37_of_100/model_38_of_100/model_39_of_100/model_40_of_100/model_41_of_100/model_42_of_100/model_43_of_100/model_44_of_100/model_45_of_100/model_46_of_100/model_47_of_100/model_48_of_100/model_49_of_100/model_50_of_100/model_51_of_100/model_52_of_100/model_53_of_100/model_54_of_100/model_55_of_100/model_56_of_100/model_57_of_100/model_58_of_100/model_59_of_100/model_60_of_100/model_61_of_100/model_62_of_100/model_63_of_100/model_64_of_100/model_65_of_100/model_66_of_100/model_67_of_100/model_68_of_100/model_69_of_100/model_70_of_100/model_71_of_100/model_72_of_100/model_73_of_100/model_74_of_100/model_75_of_100/model_76_of_100/model_77_of_100.pth already saved to. SKIPPING.\n",
            "77\n",
            "{'save_path': '/content/drive/MyDrive/academics/columbia/neural_networks/project/data/round_6/model_0_of_100/model_1_of_100/model_2_of_100/model_3_of_100/model_4_of_100/model_5_of_100/model_6_of_100/model_7_of_100/model_8_of_100/model_9_of_100/model_10_of_100/model_11_of_100/model_12_of_100/model_13_of_100/model_14_of_100/model_15_of_100/model_16_of_100/model_17_of_100/model_18_of_100/model_19_of_100/model_20_of_100/model_21_of_100/model_22_of_100/model_23_of_100/model_24_of_100/model_25_of_100/model_26_of_100/model_27_of_100/model_28_of_100/model_29_of_100/model_30_of_100/model_31_of_100/model_32_of_100/model_33_of_100/model_34_of_100/model_35_of_100/model_36_of_100/model_37_of_100/model_38_of_100/model_39_of_100/model_40_of_100/model_41_of_100/model_42_of_100/model_43_of_100/model_44_of_100/model_45_of_100/model_46_of_100/model_47_of_100/model_48_of_100/model_49_of_100/model_50_of_100/model_51_of_100/model_52_of_100/model_53_of_100/model_54_of_100/model_55_of_100/model_56_of_100/model_57_of_100/model_58_of_100/model_59_of_100/model_60_of_100/model_61_of_100/model_62_of_100/model_63_of_100/model_64_of_100/model_65_of_100/model_66_of_100/model_67_of_100/model_68_of_100/model_69_of_100/model_70_of_100/model_71_of_100/model_72_of_100/model_73_of_100/model_74_of_100/model_75_of_100/model_76_of_100/model_77_of_100.pth', 'history': None, 'model_name': 'model_77_of_100'}\n",
            "Model training took 0:00:00.280924\n",
            "model_78_of_100\n",
            "tensorboard path is /content/drive/MyDrive/academics/columbia/neural_networks/project/data/round_6/model_0_of_100/model_1_of_100/model_2_of_100/model_3_of_100/model_4_of_100/model_5_of_100/model_6_of_100/model_7_of_100/model_8_of_100/model_9_of_100/model_10_of_100/model_11_of_100/model_12_of_100/model_13_of_100/model_14_of_100/model_15_of_100/model_16_of_100/model_17_of_100/model_18_of_100/model_19_of_100/model_20_of_100/model_21_of_100/model_22_of_100/model_23_of_100/model_24_of_100/model_25_of_100/model_26_of_100/model_27_of_100/model_28_of_100/model_29_of_100/model_30_of_100/model_31_of_100/model_32_of_100/model_33_of_100/model_34_of_100/model_35_of_100/model_36_of_100/model_37_of_100/model_38_of_100/model_39_of_100/model_40_of_100/model_41_of_100/model_42_of_100/model_43_of_100/model_44_of_100/model_45_of_100/model_46_of_100/model_47_of_100/model_48_of_100/model_49_of_100/model_50_of_100/model_51_of_100/model_52_of_100/model_53_of_100/model_54_of_100/model_55_of_100/model_56_of_100/model_57_of_100/model_58_of_100/model_59_of_100/model_60_of_100/model_61_of_100/model_62_of_100/model_63_of_100/model_64_of_100/model_65_of_100/model_66_of_100/model_67_of_100/model_68_of_100/model_69_of_100/model_70_of_100/model_71_of_100/model_72_of_100/model_73_of_100/model_74_of_100/model_75_of_100/model_76_of_100/model_77_of_100/model_78_of_100\n",
            "save_path is /content/drive/MyDrive/academics/columbia/neural_networks/project/data/round_6/model_0_of_100/model_1_of_100/model_2_of_100/model_3_of_100/model_4_of_100/model_5_of_100/model_6_of_100/model_7_of_100/model_8_of_100/model_9_of_100/model_10_of_100/model_11_of_100/model_12_of_100/model_13_of_100/model_14_of_100/model_15_of_100/model_16_of_100/model_17_of_100/model_18_of_100/model_19_of_100/model_20_of_100/model_21_of_100/model_22_of_100/model_23_of_100/model_24_of_100/model_25_of_100/model_26_of_100/model_27_of_100/model_28_of_100/model_29_of_100/model_30_of_100/model_31_of_100/model_32_of_100/model_33_of_100/model_34_of_100/model_35_of_100/model_36_of_100/model_37_of_100/model_38_of_100/model_39_of_100/model_40_of_100/model_41_of_100/model_42_of_100/model_43_of_100/model_44_of_100/model_45_of_100/model_46_of_100/model_47_of_100/model_48_of_100/model_49_of_100/model_50_of_100/model_51_of_100/model_52_of_100/model_53_of_100/model_54_of_100/model_55_of_100/model_56_of_100/model_57_of_100/model_58_of_100/model_59_of_100/model_60_of_100/model_61_of_100/model_62_of_100/model_63_of_100/model_64_of_100/model_65_of_100/model_66_of_100/model_67_of_100/model_68_of_100/model_69_of_100/model_70_of_100/model_71_of_100/model_72_of_100/model_73_of_100/model_74_of_100/model_75_of_100/model_76_of_100/model_77_of_100/model_78_of_100.pth\n",
            "path /content/drive/MyDrive/academics/columbia/neural_networks/project/data/round_6/model_0_of_100/model_1_of_100/model_2_of_100/model_3_of_100/model_4_of_100/model_5_of_100/model_6_of_100/model_7_of_100/model_8_of_100/model_9_of_100/model_10_of_100/model_11_of_100/model_12_of_100/model_13_of_100/model_14_of_100/model_15_of_100/model_16_of_100/model_17_of_100/model_18_of_100/model_19_of_100/model_20_of_100/model_21_of_100/model_22_of_100/model_23_of_100/model_24_of_100/model_25_of_100/model_26_of_100/model_27_of_100/model_28_of_100/model_29_of_100/model_30_of_100/model_31_of_100/model_32_of_100/model_33_of_100/model_34_of_100/model_35_of_100/model_36_of_100/model_37_of_100/model_38_of_100/model_39_of_100/model_40_of_100/model_41_of_100/model_42_of_100/model_43_of_100/model_44_of_100/model_45_of_100/model_46_of_100/model_47_of_100/model_48_of_100/model_49_of_100/model_50_of_100/model_51_of_100/model_52_of_100/model_53_of_100/model_54_of_100/model_55_of_100/model_56_of_100/model_57_of_100/model_58_of_100/model_59_of_100/model_60_of_100/model_61_of_100/model_62_of_100/model_63_of_100/model_64_of_100/model_65_of_100/model_66_of_100/model_67_of_100/model_68_of_100/model_69_of_100/model_70_of_100/model_71_of_100/model_72_of_100/model_73_of_100/model_74_of_100/model_75_of_100/model_76_of_100/model_77_of_100/model_78_of_100.pth already saved to. SKIPPING.\n",
            "78\n",
            "{'save_path': '/content/drive/MyDrive/academics/columbia/neural_networks/project/data/round_6/model_0_of_100/model_1_of_100/model_2_of_100/model_3_of_100/model_4_of_100/model_5_of_100/model_6_of_100/model_7_of_100/model_8_of_100/model_9_of_100/model_10_of_100/model_11_of_100/model_12_of_100/model_13_of_100/model_14_of_100/model_15_of_100/model_16_of_100/model_17_of_100/model_18_of_100/model_19_of_100/model_20_of_100/model_21_of_100/model_22_of_100/model_23_of_100/model_24_of_100/model_25_of_100/model_26_of_100/model_27_of_100/model_28_of_100/model_29_of_100/model_30_of_100/model_31_of_100/model_32_of_100/model_33_of_100/model_34_of_100/model_35_of_100/model_36_of_100/model_37_of_100/model_38_of_100/model_39_of_100/model_40_of_100/model_41_of_100/model_42_of_100/model_43_of_100/model_44_of_100/model_45_of_100/model_46_of_100/model_47_of_100/model_48_of_100/model_49_of_100/model_50_of_100/model_51_of_100/model_52_of_100/model_53_of_100/model_54_of_100/model_55_of_100/model_56_of_100/model_57_of_100/model_58_of_100/model_59_of_100/model_60_of_100/model_61_of_100/model_62_of_100/model_63_of_100/model_64_of_100/model_65_of_100/model_66_of_100/model_67_of_100/model_68_of_100/model_69_of_100/model_70_of_100/model_71_of_100/model_72_of_100/model_73_of_100/model_74_of_100/model_75_of_100/model_76_of_100/model_77_of_100/model_78_of_100.pth', 'history': None, 'model_name': 'model_78_of_100'}\n",
            "Model training took 0:00:00.300733\n",
            "model_79_of_100\n",
            "tensorboard path is /content/drive/MyDrive/academics/columbia/neural_networks/project/data/round_6/model_0_of_100/model_1_of_100/model_2_of_100/model_3_of_100/model_4_of_100/model_5_of_100/model_6_of_100/model_7_of_100/model_8_of_100/model_9_of_100/model_10_of_100/model_11_of_100/model_12_of_100/model_13_of_100/model_14_of_100/model_15_of_100/model_16_of_100/model_17_of_100/model_18_of_100/model_19_of_100/model_20_of_100/model_21_of_100/model_22_of_100/model_23_of_100/model_24_of_100/model_25_of_100/model_26_of_100/model_27_of_100/model_28_of_100/model_29_of_100/model_30_of_100/model_31_of_100/model_32_of_100/model_33_of_100/model_34_of_100/model_35_of_100/model_36_of_100/model_37_of_100/model_38_of_100/model_39_of_100/model_40_of_100/model_41_of_100/model_42_of_100/model_43_of_100/model_44_of_100/model_45_of_100/model_46_of_100/model_47_of_100/model_48_of_100/model_49_of_100/model_50_of_100/model_51_of_100/model_52_of_100/model_53_of_100/model_54_of_100/model_55_of_100/model_56_of_100/model_57_of_100/model_58_of_100/model_59_of_100/model_60_of_100/model_61_of_100/model_62_of_100/model_63_of_100/model_64_of_100/model_65_of_100/model_66_of_100/model_67_of_100/model_68_of_100/model_69_of_100/model_70_of_100/model_71_of_100/model_72_of_100/model_73_of_100/model_74_of_100/model_75_of_100/model_76_of_100/model_77_of_100/model_78_of_100/model_79_of_100\n",
            "save_path is /content/drive/MyDrive/academics/columbia/neural_networks/project/data/round_6/model_0_of_100/model_1_of_100/model_2_of_100/model_3_of_100/model_4_of_100/model_5_of_100/model_6_of_100/model_7_of_100/model_8_of_100/model_9_of_100/model_10_of_100/model_11_of_100/model_12_of_100/model_13_of_100/model_14_of_100/model_15_of_100/model_16_of_100/model_17_of_100/model_18_of_100/model_19_of_100/model_20_of_100/model_21_of_100/model_22_of_100/model_23_of_100/model_24_of_100/model_25_of_100/model_26_of_100/model_27_of_100/model_28_of_100/model_29_of_100/model_30_of_100/model_31_of_100/model_32_of_100/model_33_of_100/model_34_of_100/model_35_of_100/model_36_of_100/model_37_of_100/model_38_of_100/model_39_of_100/model_40_of_100/model_41_of_100/model_42_of_100/model_43_of_100/model_44_of_100/model_45_of_100/model_46_of_100/model_47_of_100/model_48_of_100/model_49_of_100/model_50_of_100/model_51_of_100/model_52_of_100/model_53_of_100/model_54_of_100/model_55_of_100/model_56_of_100/model_57_of_100/model_58_of_100/model_59_of_100/model_60_of_100/model_61_of_100/model_62_of_100/model_63_of_100/model_64_of_100/model_65_of_100/model_66_of_100/model_67_of_100/model_68_of_100/model_69_of_100/model_70_of_100/model_71_of_100/model_72_of_100/model_73_of_100/model_74_of_100/model_75_of_100/model_76_of_100/model_77_of_100/model_78_of_100/model_79_of_100.pth\n",
            "path /content/drive/MyDrive/academics/columbia/neural_networks/project/data/round_6/model_0_of_100/model_1_of_100/model_2_of_100/model_3_of_100/model_4_of_100/model_5_of_100/model_6_of_100/model_7_of_100/model_8_of_100/model_9_of_100/model_10_of_100/model_11_of_100/model_12_of_100/model_13_of_100/model_14_of_100/model_15_of_100/model_16_of_100/model_17_of_100/model_18_of_100/model_19_of_100/model_20_of_100/model_21_of_100/model_22_of_100/model_23_of_100/model_24_of_100/model_25_of_100/model_26_of_100/model_27_of_100/model_28_of_100/model_29_of_100/model_30_of_100/model_31_of_100/model_32_of_100/model_33_of_100/model_34_of_100/model_35_of_100/model_36_of_100/model_37_of_100/model_38_of_100/model_39_of_100/model_40_of_100/model_41_of_100/model_42_of_100/model_43_of_100/model_44_of_100/model_45_of_100/model_46_of_100/model_47_of_100/model_48_of_100/model_49_of_100/model_50_of_100/model_51_of_100/model_52_of_100/model_53_of_100/model_54_of_100/model_55_of_100/model_56_of_100/model_57_of_100/model_58_of_100/model_59_of_100/model_60_of_100/model_61_of_100/model_62_of_100/model_63_of_100/model_64_of_100/model_65_of_100/model_66_of_100/model_67_of_100/model_68_of_100/model_69_of_100/model_70_of_100/model_71_of_100/model_72_of_100/model_73_of_100/model_74_of_100/model_75_of_100/model_76_of_100/model_77_of_100/model_78_of_100/model_79_of_100.pth already saved to. SKIPPING.\n",
            "79\n",
            "{'save_path': '/content/drive/MyDrive/academics/columbia/neural_networks/project/data/round_6/model_0_of_100/model_1_of_100/model_2_of_100/model_3_of_100/model_4_of_100/model_5_of_100/model_6_of_100/model_7_of_100/model_8_of_100/model_9_of_100/model_10_of_100/model_11_of_100/model_12_of_100/model_13_of_100/model_14_of_100/model_15_of_100/model_16_of_100/model_17_of_100/model_18_of_100/model_19_of_100/model_20_of_100/model_21_of_100/model_22_of_100/model_23_of_100/model_24_of_100/model_25_of_100/model_26_of_100/model_27_of_100/model_28_of_100/model_29_of_100/model_30_of_100/model_31_of_100/model_32_of_100/model_33_of_100/model_34_of_100/model_35_of_100/model_36_of_100/model_37_of_100/model_38_of_100/model_39_of_100/model_40_of_100/model_41_of_100/model_42_of_100/model_43_of_100/model_44_of_100/model_45_of_100/model_46_of_100/model_47_of_100/model_48_of_100/model_49_of_100/model_50_of_100/model_51_of_100/model_52_of_100/model_53_of_100/model_54_of_100/model_55_of_100/model_56_of_100/model_57_of_100/model_58_of_100/model_59_of_100/model_60_of_100/model_61_of_100/model_62_of_100/model_63_of_100/model_64_of_100/model_65_of_100/model_66_of_100/model_67_of_100/model_68_of_100/model_69_of_100/model_70_of_100/model_71_of_100/model_72_of_100/model_73_of_100/model_74_of_100/model_75_of_100/model_76_of_100/model_77_of_100/model_78_of_100/model_79_of_100.pth', 'history': None, 'model_name': 'model_79_of_100'}\n",
            "Model training took 0:00:00.633314\n",
            "model_80_of_100\n",
            "tensorboard path is /content/drive/MyDrive/academics/columbia/neural_networks/project/data/round_6/model_0_of_100/model_1_of_100/model_2_of_100/model_3_of_100/model_4_of_100/model_5_of_100/model_6_of_100/model_7_of_100/model_8_of_100/model_9_of_100/model_10_of_100/model_11_of_100/model_12_of_100/model_13_of_100/model_14_of_100/model_15_of_100/model_16_of_100/model_17_of_100/model_18_of_100/model_19_of_100/model_20_of_100/model_21_of_100/model_22_of_100/model_23_of_100/model_24_of_100/model_25_of_100/model_26_of_100/model_27_of_100/model_28_of_100/model_29_of_100/model_30_of_100/model_31_of_100/model_32_of_100/model_33_of_100/model_34_of_100/model_35_of_100/model_36_of_100/model_37_of_100/model_38_of_100/model_39_of_100/model_40_of_100/model_41_of_100/model_42_of_100/model_43_of_100/model_44_of_100/model_45_of_100/model_46_of_100/model_47_of_100/model_48_of_100/model_49_of_100/model_50_of_100/model_51_of_100/model_52_of_100/model_53_of_100/model_54_of_100/model_55_of_100/model_56_of_100/model_57_of_100/model_58_of_100/model_59_of_100/model_60_of_100/model_61_of_100/model_62_of_100/model_63_of_100/model_64_of_100/model_65_of_100/model_66_of_100/model_67_of_100/model_68_of_100/model_69_of_100/model_70_of_100/model_71_of_100/model_72_of_100/model_73_of_100/model_74_of_100/model_75_of_100/model_76_of_100/model_77_of_100/model_78_of_100/model_79_of_100/model_80_of_100\n",
            "save_path is /content/drive/MyDrive/academics/columbia/neural_networks/project/data/round_6/model_0_of_100/model_1_of_100/model_2_of_100/model_3_of_100/model_4_of_100/model_5_of_100/model_6_of_100/model_7_of_100/model_8_of_100/model_9_of_100/model_10_of_100/model_11_of_100/model_12_of_100/model_13_of_100/model_14_of_100/model_15_of_100/model_16_of_100/model_17_of_100/model_18_of_100/model_19_of_100/model_20_of_100/model_21_of_100/model_22_of_100/model_23_of_100/model_24_of_100/model_25_of_100/model_26_of_100/model_27_of_100/model_28_of_100/model_29_of_100/model_30_of_100/model_31_of_100/model_32_of_100/model_33_of_100/model_34_of_100/model_35_of_100/model_36_of_100/model_37_of_100/model_38_of_100/model_39_of_100/model_40_of_100/model_41_of_100/model_42_of_100/model_43_of_100/model_44_of_100/model_45_of_100/model_46_of_100/model_47_of_100/model_48_of_100/model_49_of_100/model_50_of_100/model_51_of_100/model_52_of_100/model_53_of_100/model_54_of_100/model_55_of_100/model_56_of_100/model_57_of_100/model_58_of_100/model_59_of_100/model_60_of_100/model_61_of_100/model_62_of_100/model_63_of_100/model_64_of_100/model_65_of_100/model_66_of_100/model_67_of_100/model_68_of_100/model_69_of_100/model_70_of_100/model_71_of_100/model_72_of_100/model_73_of_100/model_74_of_100/model_75_of_100/model_76_of_100/model_77_of_100/model_78_of_100/model_79_of_100/model_80_of_100.pth\n",
            "path /content/drive/MyDrive/academics/columbia/neural_networks/project/data/round_6/model_0_of_100/model_1_of_100/model_2_of_100/model_3_of_100/model_4_of_100/model_5_of_100/model_6_of_100/model_7_of_100/model_8_of_100/model_9_of_100/model_10_of_100/model_11_of_100/model_12_of_100/model_13_of_100/model_14_of_100/model_15_of_100/model_16_of_100/model_17_of_100/model_18_of_100/model_19_of_100/model_20_of_100/model_21_of_100/model_22_of_100/model_23_of_100/model_24_of_100/model_25_of_100/model_26_of_100/model_27_of_100/model_28_of_100/model_29_of_100/model_30_of_100/model_31_of_100/model_32_of_100/model_33_of_100/model_34_of_100/model_35_of_100/model_36_of_100/model_37_of_100/model_38_of_100/model_39_of_100/model_40_of_100/model_41_of_100/model_42_of_100/model_43_of_100/model_44_of_100/model_45_of_100/model_46_of_100/model_47_of_100/model_48_of_100/model_49_of_100/model_50_of_100/model_51_of_100/model_52_of_100/model_53_of_100/model_54_of_100/model_55_of_100/model_56_of_100/model_57_of_100/model_58_of_100/model_59_of_100/model_60_of_100/model_61_of_100/model_62_of_100/model_63_of_100/model_64_of_100/model_65_of_100/model_66_of_100/model_67_of_100/model_68_of_100/model_69_of_100/model_70_of_100/model_71_of_100/model_72_of_100/model_73_of_100/model_74_of_100/model_75_of_100/model_76_of_100/model_77_of_100/model_78_of_100/model_79_of_100/model_80_of_100.pth already saved to. SKIPPING.\n",
            "80\n",
            "{'save_path': '/content/drive/MyDrive/academics/columbia/neural_networks/project/data/round_6/model_0_of_100/model_1_of_100/model_2_of_100/model_3_of_100/model_4_of_100/model_5_of_100/model_6_of_100/model_7_of_100/model_8_of_100/model_9_of_100/model_10_of_100/model_11_of_100/model_12_of_100/model_13_of_100/model_14_of_100/model_15_of_100/model_16_of_100/model_17_of_100/model_18_of_100/model_19_of_100/model_20_of_100/model_21_of_100/model_22_of_100/model_23_of_100/model_24_of_100/model_25_of_100/model_26_of_100/model_27_of_100/model_28_of_100/model_29_of_100/model_30_of_100/model_31_of_100/model_32_of_100/model_33_of_100/model_34_of_100/model_35_of_100/model_36_of_100/model_37_of_100/model_38_of_100/model_39_of_100/model_40_of_100/model_41_of_100/model_42_of_100/model_43_of_100/model_44_of_100/model_45_of_100/model_46_of_100/model_47_of_100/model_48_of_100/model_49_of_100/model_50_of_100/model_51_of_100/model_52_of_100/model_53_of_100/model_54_of_100/model_55_of_100/model_56_of_100/model_57_of_100/model_58_of_100/model_59_of_100/model_60_of_100/model_61_of_100/model_62_of_100/model_63_of_100/model_64_of_100/model_65_of_100/model_66_of_100/model_67_of_100/model_68_of_100/model_69_of_100/model_70_of_100/model_71_of_100/model_72_of_100/model_73_of_100/model_74_of_100/model_75_of_100/model_76_of_100/model_77_of_100/model_78_of_100/model_79_of_100/model_80_of_100.pth', 'history': None, 'model_name': 'model_80_of_100'}\n",
            "Model training took 0:00:00.239679\n",
            "model_81_of_100\n",
            "tensorboard path is /content/drive/MyDrive/academics/columbia/neural_networks/project/data/round_6/model_0_of_100/model_1_of_100/model_2_of_100/model_3_of_100/model_4_of_100/model_5_of_100/model_6_of_100/model_7_of_100/model_8_of_100/model_9_of_100/model_10_of_100/model_11_of_100/model_12_of_100/model_13_of_100/model_14_of_100/model_15_of_100/model_16_of_100/model_17_of_100/model_18_of_100/model_19_of_100/model_20_of_100/model_21_of_100/model_22_of_100/model_23_of_100/model_24_of_100/model_25_of_100/model_26_of_100/model_27_of_100/model_28_of_100/model_29_of_100/model_30_of_100/model_31_of_100/model_32_of_100/model_33_of_100/model_34_of_100/model_35_of_100/model_36_of_100/model_37_of_100/model_38_of_100/model_39_of_100/model_40_of_100/model_41_of_100/model_42_of_100/model_43_of_100/model_44_of_100/model_45_of_100/model_46_of_100/model_47_of_100/model_48_of_100/model_49_of_100/model_50_of_100/model_51_of_100/model_52_of_100/model_53_of_100/model_54_of_100/model_55_of_100/model_56_of_100/model_57_of_100/model_58_of_100/model_59_of_100/model_60_of_100/model_61_of_100/model_62_of_100/model_63_of_100/model_64_of_100/model_65_of_100/model_66_of_100/model_67_of_100/model_68_of_100/model_69_of_100/model_70_of_100/model_71_of_100/model_72_of_100/model_73_of_100/model_74_of_100/model_75_of_100/model_76_of_100/model_77_of_100/model_78_of_100/model_79_of_100/model_80_of_100/model_81_of_100\n",
            "save_path is /content/drive/MyDrive/academics/columbia/neural_networks/project/data/round_6/model_0_of_100/model_1_of_100/model_2_of_100/model_3_of_100/model_4_of_100/model_5_of_100/model_6_of_100/model_7_of_100/model_8_of_100/model_9_of_100/model_10_of_100/model_11_of_100/model_12_of_100/model_13_of_100/model_14_of_100/model_15_of_100/model_16_of_100/model_17_of_100/model_18_of_100/model_19_of_100/model_20_of_100/model_21_of_100/model_22_of_100/model_23_of_100/model_24_of_100/model_25_of_100/model_26_of_100/model_27_of_100/model_28_of_100/model_29_of_100/model_30_of_100/model_31_of_100/model_32_of_100/model_33_of_100/model_34_of_100/model_35_of_100/model_36_of_100/model_37_of_100/model_38_of_100/model_39_of_100/model_40_of_100/model_41_of_100/model_42_of_100/model_43_of_100/model_44_of_100/model_45_of_100/model_46_of_100/model_47_of_100/model_48_of_100/model_49_of_100/model_50_of_100/model_51_of_100/model_52_of_100/model_53_of_100/model_54_of_100/model_55_of_100/model_56_of_100/model_57_of_100/model_58_of_100/model_59_of_100/model_60_of_100/model_61_of_100/model_62_of_100/model_63_of_100/model_64_of_100/model_65_of_100/model_66_of_100/model_67_of_100/model_68_of_100/model_69_of_100/model_70_of_100/model_71_of_100/model_72_of_100/model_73_of_100/model_74_of_100/model_75_of_100/model_76_of_100/model_77_of_100/model_78_of_100/model_79_of_100/model_80_of_100/model_81_of_100.pth\n",
            "path /content/drive/MyDrive/academics/columbia/neural_networks/project/data/round_6/model_0_of_100/model_1_of_100/model_2_of_100/model_3_of_100/model_4_of_100/model_5_of_100/model_6_of_100/model_7_of_100/model_8_of_100/model_9_of_100/model_10_of_100/model_11_of_100/model_12_of_100/model_13_of_100/model_14_of_100/model_15_of_100/model_16_of_100/model_17_of_100/model_18_of_100/model_19_of_100/model_20_of_100/model_21_of_100/model_22_of_100/model_23_of_100/model_24_of_100/model_25_of_100/model_26_of_100/model_27_of_100/model_28_of_100/model_29_of_100/model_30_of_100/model_31_of_100/model_32_of_100/model_33_of_100/model_34_of_100/model_35_of_100/model_36_of_100/model_37_of_100/model_38_of_100/model_39_of_100/model_40_of_100/model_41_of_100/model_42_of_100/model_43_of_100/model_44_of_100/model_45_of_100/model_46_of_100/model_47_of_100/model_48_of_100/model_49_of_100/model_50_of_100/model_51_of_100/model_52_of_100/model_53_of_100/model_54_of_100/model_55_of_100/model_56_of_100/model_57_of_100/model_58_of_100/model_59_of_100/model_60_of_100/model_61_of_100/model_62_of_100/model_63_of_100/model_64_of_100/model_65_of_100/model_66_of_100/model_67_of_100/model_68_of_100/model_69_of_100/model_70_of_100/model_71_of_100/model_72_of_100/model_73_of_100/model_74_of_100/model_75_of_100/model_76_of_100/model_77_of_100/model_78_of_100/model_79_of_100/model_80_of_100/model_81_of_100.pth already saved to. SKIPPING.\n",
            "81\n",
            "{'save_path': '/content/drive/MyDrive/academics/columbia/neural_networks/project/data/round_6/model_0_of_100/model_1_of_100/model_2_of_100/model_3_of_100/model_4_of_100/model_5_of_100/model_6_of_100/model_7_of_100/model_8_of_100/model_9_of_100/model_10_of_100/model_11_of_100/model_12_of_100/model_13_of_100/model_14_of_100/model_15_of_100/model_16_of_100/model_17_of_100/model_18_of_100/model_19_of_100/model_20_of_100/model_21_of_100/model_22_of_100/model_23_of_100/model_24_of_100/model_25_of_100/model_26_of_100/model_27_of_100/model_28_of_100/model_29_of_100/model_30_of_100/model_31_of_100/model_32_of_100/model_33_of_100/model_34_of_100/model_35_of_100/model_36_of_100/model_37_of_100/model_38_of_100/model_39_of_100/model_40_of_100/model_41_of_100/model_42_of_100/model_43_of_100/model_44_of_100/model_45_of_100/model_46_of_100/model_47_of_100/model_48_of_100/model_49_of_100/model_50_of_100/model_51_of_100/model_52_of_100/model_53_of_100/model_54_of_100/model_55_of_100/model_56_of_100/model_57_of_100/model_58_of_100/model_59_of_100/model_60_of_100/model_61_of_100/model_62_of_100/model_63_of_100/model_64_of_100/model_65_of_100/model_66_of_100/model_67_of_100/model_68_of_100/model_69_of_100/model_70_of_100/model_71_of_100/model_72_of_100/model_73_of_100/model_74_of_100/model_75_of_100/model_76_of_100/model_77_of_100/model_78_of_100/model_79_of_100/model_80_of_100/model_81_of_100.pth', 'history': None, 'model_name': 'model_81_of_100'}\n",
            "Model training took 0:00:00.245352\n",
            "model_82_of_100\n",
            "tensorboard path is /content/drive/MyDrive/academics/columbia/neural_networks/project/data/round_6/model_0_of_100/model_1_of_100/model_2_of_100/model_3_of_100/model_4_of_100/model_5_of_100/model_6_of_100/model_7_of_100/model_8_of_100/model_9_of_100/model_10_of_100/model_11_of_100/model_12_of_100/model_13_of_100/model_14_of_100/model_15_of_100/model_16_of_100/model_17_of_100/model_18_of_100/model_19_of_100/model_20_of_100/model_21_of_100/model_22_of_100/model_23_of_100/model_24_of_100/model_25_of_100/model_26_of_100/model_27_of_100/model_28_of_100/model_29_of_100/model_30_of_100/model_31_of_100/model_32_of_100/model_33_of_100/model_34_of_100/model_35_of_100/model_36_of_100/model_37_of_100/model_38_of_100/model_39_of_100/model_40_of_100/model_41_of_100/model_42_of_100/model_43_of_100/model_44_of_100/model_45_of_100/model_46_of_100/model_47_of_100/model_48_of_100/model_49_of_100/model_50_of_100/model_51_of_100/model_52_of_100/model_53_of_100/model_54_of_100/model_55_of_100/model_56_of_100/model_57_of_100/model_58_of_100/model_59_of_100/model_60_of_100/model_61_of_100/model_62_of_100/model_63_of_100/model_64_of_100/model_65_of_100/model_66_of_100/model_67_of_100/model_68_of_100/model_69_of_100/model_70_of_100/model_71_of_100/model_72_of_100/model_73_of_100/model_74_of_100/model_75_of_100/model_76_of_100/model_77_of_100/model_78_of_100/model_79_of_100/model_80_of_100/model_81_of_100/model_82_of_100\n",
            "save_path is /content/drive/MyDrive/academics/columbia/neural_networks/project/data/round_6/model_0_of_100/model_1_of_100/model_2_of_100/model_3_of_100/model_4_of_100/model_5_of_100/model_6_of_100/model_7_of_100/model_8_of_100/model_9_of_100/model_10_of_100/model_11_of_100/model_12_of_100/model_13_of_100/model_14_of_100/model_15_of_100/model_16_of_100/model_17_of_100/model_18_of_100/model_19_of_100/model_20_of_100/model_21_of_100/model_22_of_100/model_23_of_100/model_24_of_100/model_25_of_100/model_26_of_100/model_27_of_100/model_28_of_100/model_29_of_100/model_30_of_100/model_31_of_100/model_32_of_100/model_33_of_100/model_34_of_100/model_35_of_100/model_36_of_100/model_37_of_100/model_38_of_100/model_39_of_100/model_40_of_100/model_41_of_100/model_42_of_100/model_43_of_100/model_44_of_100/model_45_of_100/model_46_of_100/model_47_of_100/model_48_of_100/model_49_of_100/model_50_of_100/model_51_of_100/model_52_of_100/model_53_of_100/model_54_of_100/model_55_of_100/model_56_of_100/model_57_of_100/model_58_of_100/model_59_of_100/model_60_of_100/model_61_of_100/model_62_of_100/model_63_of_100/model_64_of_100/model_65_of_100/model_66_of_100/model_67_of_100/model_68_of_100/model_69_of_100/model_70_of_100/model_71_of_100/model_72_of_100/model_73_of_100/model_74_of_100/model_75_of_100/model_76_of_100/model_77_of_100/model_78_of_100/model_79_of_100/model_80_of_100/model_81_of_100/model_82_of_100.pth\n",
            "path /content/drive/MyDrive/academics/columbia/neural_networks/project/data/round_6/model_0_of_100/model_1_of_100/model_2_of_100/model_3_of_100/model_4_of_100/model_5_of_100/model_6_of_100/model_7_of_100/model_8_of_100/model_9_of_100/model_10_of_100/model_11_of_100/model_12_of_100/model_13_of_100/model_14_of_100/model_15_of_100/model_16_of_100/model_17_of_100/model_18_of_100/model_19_of_100/model_20_of_100/model_21_of_100/model_22_of_100/model_23_of_100/model_24_of_100/model_25_of_100/model_26_of_100/model_27_of_100/model_28_of_100/model_29_of_100/model_30_of_100/model_31_of_100/model_32_of_100/model_33_of_100/model_34_of_100/model_35_of_100/model_36_of_100/model_37_of_100/model_38_of_100/model_39_of_100/model_40_of_100/model_41_of_100/model_42_of_100/model_43_of_100/model_44_of_100/model_45_of_100/model_46_of_100/model_47_of_100/model_48_of_100/model_49_of_100/model_50_of_100/model_51_of_100/model_52_of_100/model_53_of_100/model_54_of_100/model_55_of_100/model_56_of_100/model_57_of_100/model_58_of_100/model_59_of_100/model_60_of_100/model_61_of_100/model_62_of_100/model_63_of_100/model_64_of_100/model_65_of_100/model_66_of_100/model_67_of_100/model_68_of_100/model_69_of_100/model_70_of_100/model_71_of_100/model_72_of_100/model_73_of_100/model_74_of_100/model_75_of_100/model_76_of_100/model_77_of_100/model_78_of_100/model_79_of_100/model_80_of_100/model_81_of_100/model_82_of_100.pth already saved to. SKIPPING.\n",
            "82\n",
            "{'save_path': '/content/drive/MyDrive/academics/columbia/neural_networks/project/data/round_6/model_0_of_100/model_1_of_100/model_2_of_100/model_3_of_100/model_4_of_100/model_5_of_100/model_6_of_100/model_7_of_100/model_8_of_100/model_9_of_100/model_10_of_100/model_11_of_100/model_12_of_100/model_13_of_100/model_14_of_100/model_15_of_100/model_16_of_100/model_17_of_100/model_18_of_100/model_19_of_100/model_20_of_100/model_21_of_100/model_22_of_100/model_23_of_100/model_24_of_100/model_25_of_100/model_26_of_100/model_27_of_100/model_28_of_100/model_29_of_100/model_30_of_100/model_31_of_100/model_32_of_100/model_33_of_100/model_34_of_100/model_35_of_100/model_36_of_100/model_37_of_100/model_38_of_100/model_39_of_100/model_40_of_100/model_41_of_100/model_42_of_100/model_43_of_100/model_44_of_100/model_45_of_100/model_46_of_100/model_47_of_100/model_48_of_100/model_49_of_100/model_50_of_100/model_51_of_100/model_52_of_100/model_53_of_100/model_54_of_100/model_55_of_100/model_56_of_100/model_57_of_100/model_58_of_100/model_59_of_100/model_60_of_100/model_61_of_100/model_62_of_100/model_63_of_100/model_64_of_100/model_65_of_100/model_66_of_100/model_67_of_100/model_68_of_100/model_69_of_100/model_70_of_100/model_71_of_100/model_72_of_100/model_73_of_100/model_74_of_100/model_75_of_100/model_76_of_100/model_77_of_100/model_78_of_100/model_79_of_100/model_80_of_100/model_81_of_100/model_82_of_100.pth', 'history': None, 'model_name': 'model_82_of_100'}\n",
            "Model training took 0:00:00.292901\n",
            "model_83_of_100\n",
            "tensorboard path is /content/drive/MyDrive/academics/columbia/neural_networks/project/data/round_6/model_0_of_100/model_1_of_100/model_2_of_100/model_3_of_100/model_4_of_100/model_5_of_100/model_6_of_100/model_7_of_100/model_8_of_100/model_9_of_100/model_10_of_100/model_11_of_100/model_12_of_100/model_13_of_100/model_14_of_100/model_15_of_100/model_16_of_100/model_17_of_100/model_18_of_100/model_19_of_100/model_20_of_100/model_21_of_100/model_22_of_100/model_23_of_100/model_24_of_100/model_25_of_100/model_26_of_100/model_27_of_100/model_28_of_100/model_29_of_100/model_30_of_100/model_31_of_100/model_32_of_100/model_33_of_100/model_34_of_100/model_35_of_100/model_36_of_100/model_37_of_100/model_38_of_100/model_39_of_100/model_40_of_100/model_41_of_100/model_42_of_100/model_43_of_100/model_44_of_100/model_45_of_100/model_46_of_100/model_47_of_100/model_48_of_100/model_49_of_100/model_50_of_100/model_51_of_100/model_52_of_100/model_53_of_100/model_54_of_100/model_55_of_100/model_56_of_100/model_57_of_100/model_58_of_100/model_59_of_100/model_60_of_100/model_61_of_100/model_62_of_100/model_63_of_100/model_64_of_100/model_65_of_100/model_66_of_100/model_67_of_100/model_68_of_100/model_69_of_100/model_70_of_100/model_71_of_100/model_72_of_100/model_73_of_100/model_74_of_100/model_75_of_100/model_76_of_100/model_77_of_100/model_78_of_100/model_79_of_100/model_80_of_100/model_81_of_100/model_82_of_100/model_83_of_100\n",
            "save_path is /content/drive/MyDrive/academics/columbia/neural_networks/project/data/round_6/model_0_of_100/model_1_of_100/model_2_of_100/model_3_of_100/model_4_of_100/model_5_of_100/model_6_of_100/model_7_of_100/model_8_of_100/model_9_of_100/model_10_of_100/model_11_of_100/model_12_of_100/model_13_of_100/model_14_of_100/model_15_of_100/model_16_of_100/model_17_of_100/model_18_of_100/model_19_of_100/model_20_of_100/model_21_of_100/model_22_of_100/model_23_of_100/model_24_of_100/model_25_of_100/model_26_of_100/model_27_of_100/model_28_of_100/model_29_of_100/model_30_of_100/model_31_of_100/model_32_of_100/model_33_of_100/model_34_of_100/model_35_of_100/model_36_of_100/model_37_of_100/model_38_of_100/model_39_of_100/model_40_of_100/model_41_of_100/model_42_of_100/model_43_of_100/model_44_of_100/model_45_of_100/model_46_of_100/model_47_of_100/model_48_of_100/model_49_of_100/model_50_of_100/model_51_of_100/model_52_of_100/model_53_of_100/model_54_of_100/model_55_of_100/model_56_of_100/model_57_of_100/model_58_of_100/model_59_of_100/model_60_of_100/model_61_of_100/model_62_of_100/model_63_of_100/model_64_of_100/model_65_of_100/model_66_of_100/model_67_of_100/model_68_of_100/model_69_of_100/model_70_of_100/model_71_of_100/model_72_of_100/model_73_of_100/model_74_of_100/model_75_of_100/model_76_of_100/model_77_of_100/model_78_of_100/model_79_of_100/model_80_of_100/model_81_of_100/model_82_of_100/model_83_of_100.pth\n",
            "path /content/drive/MyDrive/academics/columbia/neural_networks/project/data/round_6/model_0_of_100/model_1_of_100/model_2_of_100/model_3_of_100/model_4_of_100/model_5_of_100/model_6_of_100/model_7_of_100/model_8_of_100/model_9_of_100/model_10_of_100/model_11_of_100/model_12_of_100/model_13_of_100/model_14_of_100/model_15_of_100/model_16_of_100/model_17_of_100/model_18_of_100/model_19_of_100/model_20_of_100/model_21_of_100/model_22_of_100/model_23_of_100/model_24_of_100/model_25_of_100/model_26_of_100/model_27_of_100/model_28_of_100/model_29_of_100/model_30_of_100/model_31_of_100/model_32_of_100/model_33_of_100/model_34_of_100/model_35_of_100/model_36_of_100/model_37_of_100/model_38_of_100/model_39_of_100/model_40_of_100/model_41_of_100/model_42_of_100/model_43_of_100/model_44_of_100/model_45_of_100/model_46_of_100/model_47_of_100/model_48_of_100/model_49_of_100/model_50_of_100/model_51_of_100/model_52_of_100/model_53_of_100/model_54_of_100/model_55_of_100/model_56_of_100/model_57_of_100/model_58_of_100/model_59_of_100/model_60_of_100/model_61_of_100/model_62_of_100/model_63_of_100/model_64_of_100/model_65_of_100/model_66_of_100/model_67_of_100/model_68_of_100/model_69_of_100/model_70_of_100/model_71_of_100/model_72_of_100/model_73_of_100/model_74_of_100/model_75_of_100/model_76_of_100/model_77_of_100/model_78_of_100/model_79_of_100/model_80_of_100/model_81_of_100/model_82_of_100/model_83_of_100.pth already saved to. SKIPPING.\n",
            "83\n",
            "{'save_path': '/content/drive/MyDrive/academics/columbia/neural_networks/project/data/round_6/model_0_of_100/model_1_of_100/model_2_of_100/model_3_of_100/model_4_of_100/model_5_of_100/model_6_of_100/model_7_of_100/model_8_of_100/model_9_of_100/model_10_of_100/model_11_of_100/model_12_of_100/model_13_of_100/model_14_of_100/model_15_of_100/model_16_of_100/model_17_of_100/model_18_of_100/model_19_of_100/model_20_of_100/model_21_of_100/model_22_of_100/model_23_of_100/model_24_of_100/model_25_of_100/model_26_of_100/model_27_of_100/model_28_of_100/model_29_of_100/model_30_of_100/model_31_of_100/model_32_of_100/model_33_of_100/model_34_of_100/model_35_of_100/model_36_of_100/model_37_of_100/model_38_of_100/model_39_of_100/model_40_of_100/model_41_of_100/model_42_of_100/model_43_of_100/model_44_of_100/model_45_of_100/model_46_of_100/model_47_of_100/model_48_of_100/model_49_of_100/model_50_of_100/model_51_of_100/model_52_of_100/model_53_of_100/model_54_of_100/model_55_of_100/model_56_of_100/model_57_of_100/model_58_of_100/model_59_of_100/model_60_of_100/model_61_of_100/model_62_of_100/model_63_of_100/model_64_of_100/model_65_of_100/model_66_of_100/model_67_of_100/model_68_of_100/model_69_of_100/model_70_of_100/model_71_of_100/model_72_of_100/model_73_of_100/model_74_of_100/model_75_of_100/model_76_of_100/model_77_of_100/model_78_of_100/model_79_of_100/model_80_of_100/model_81_of_100/model_82_of_100/model_83_of_100.pth', 'history': None, 'model_name': 'model_83_of_100'}\n",
            "Model training took 0:00:00.233548\n",
            "model_84_of_100\n",
            "tensorboard path is /content/drive/MyDrive/academics/columbia/neural_networks/project/data/round_6/model_0_of_100/model_1_of_100/model_2_of_100/model_3_of_100/model_4_of_100/model_5_of_100/model_6_of_100/model_7_of_100/model_8_of_100/model_9_of_100/model_10_of_100/model_11_of_100/model_12_of_100/model_13_of_100/model_14_of_100/model_15_of_100/model_16_of_100/model_17_of_100/model_18_of_100/model_19_of_100/model_20_of_100/model_21_of_100/model_22_of_100/model_23_of_100/model_24_of_100/model_25_of_100/model_26_of_100/model_27_of_100/model_28_of_100/model_29_of_100/model_30_of_100/model_31_of_100/model_32_of_100/model_33_of_100/model_34_of_100/model_35_of_100/model_36_of_100/model_37_of_100/model_38_of_100/model_39_of_100/model_40_of_100/model_41_of_100/model_42_of_100/model_43_of_100/model_44_of_100/model_45_of_100/model_46_of_100/model_47_of_100/model_48_of_100/model_49_of_100/model_50_of_100/model_51_of_100/model_52_of_100/model_53_of_100/model_54_of_100/model_55_of_100/model_56_of_100/model_57_of_100/model_58_of_100/model_59_of_100/model_60_of_100/model_61_of_100/model_62_of_100/model_63_of_100/model_64_of_100/model_65_of_100/model_66_of_100/model_67_of_100/model_68_of_100/model_69_of_100/model_70_of_100/model_71_of_100/model_72_of_100/model_73_of_100/model_74_of_100/model_75_of_100/model_76_of_100/model_77_of_100/model_78_of_100/model_79_of_100/model_80_of_100/model_81_of_100/model_82_of_100/model_83_of_100/model_84_of_100\n",
            "save_path is /content/drive/MyDrive/academics/columbia/neural_networks/project/data/round_6/model_0_of_100/model_1_of_100/model_2_of_100/model_3_of_100/model_4_of_100/model_5_of_100/model_6_of_100/model_7_of_100/model_8_of_100/model_9_of_100/model_10_of_100/model_11_of_100/model_12_of_100/model_13_of_100/model_14_of_100/model_15_of_100/model_16_of_100/model_17_of_100/model_18_of_100/model_19_of_100/model_20_of_100/model_21_of_100/model_22_of_100/model_23_of_100/model_24_of_100/model_25_of_100/model_26_of_100/model_27_of_100/model_28_of_100/model_29_of_100/model_30_of_100/model_31_of_100/model_32_of_100/model_33_of_100/model_34_of_100/model_35_of_100/model_36_of_100/model_37_of_100/model_38_of_100/model_39_of_100/model_40_of_100/model_41_of_100/model_42_of_100/model_43_of_100/model_44_of_100/model_45_of_100/model_46_of_100/model_47_of_100/model_48_of_100/model_49_of_100/model_50_of_100/model_51_of_100/model_52_of_100/model_53_of_100/model_54_of_100/model_55_of_100/model_56_of_100/model_57_of_100/model_58_of_100/model_59_of_100/model_60_of_100/model_61_of_100/model_62_of_100/model_63_of_100/model_64_of_100/model_65_of_100/model_66_of_100/model_67_of_100/model_68_of_100/model_69_of_100/model_70_of_100/model_71_of_100/model_72_of_100/model_73_of_100/model_74_of_100/model_75_of_100/model_76_of_100/model_77_of_100/model_78_of_100/model_79_of_100/model_80_of_100/model_81_of_100/model_82_of_100/model_83_of_100/model_84_of_100.pth\n",
            "path /content/drive/MyDrive/academics/columbia/neural_networks/project/data/round_6/model_0_of_100/model_1_of_100/model_2_of_100/model_3_of_100/model_4_of_100/model_5_of_100/model_6_of_100/model_7_of_100/model_8_of_100/model_9_of_100/model_10_of_100/model_11_of_100/model_12_of_100/model_13_of_100/model_14_of_100/model_15_of_100/model_16_of_100/model_17_of_100/model_18_of_100/model_19_of_100/model_20_of_100/model_21_of_100/model_22_of_100/model_23_of_100/model_24_of_100/model_25_of_100/model_26_of_100/model_27_of_100/model_28_of_100/model_29_of_100/model_30_of_100/model_31_of_100/model_32_of_100/model_33_of_100/model_34_of_100/model_35_of_100/model_36_of_100/model_37_of_100/model_38_of_100/model_39_of_100/model_40_of_100/model_41_of_100/model_42_of_100/model_43_of_100/model_44_of_100/model_45_of_100/model_46_of_100/model_47_of_100/model_48_of_100/model_49_of_100/model_50_of_100/model_51_of_100/model_52_of_100/model_53_of_100/model_54_of_100/model_55_of_100/model_56_of_100/model_57_of_100/model_58_of_100/model_59_of_100/model_60_of_100/model_61_of_100/model_62_of_100/model_63_of_100/model_64_of_100/model_65_of_100/model_66_of_100/model_67_of_100/model_68_of_100/model_69_of_100/model_70_of_100/model_71_of_100/model_72_of_100/model_73_of_100/model_74_of_100/model_75_of_100/model_76_of_100/model_77_of_100/model_78_of_100/model_79_of_100/model_80_of_100/model_81_of_100/model_82_of_100/model_83_of_100/model_84_of_100.pth already saved to. SKIPPING.\n",
            "84\n",
            "{'save_path': '/content/drive/MyDrive/academics/columbia/neural_networks/project/data/round_6/model_0_of_100/model_1_of_100/model_2_of_100/model_3_of_100/model_4_of_100/model_5_of_100/model_6_of_100/model_7_of_100/model_8_of_100/model_9_of_100/model_10_of_100/model_11_of_100/model_12_of_100/model_13_of_100/model_14_of_100/model_15_of_100/model_16_of_100/model_17_of_100/model_18_of_100/model_19_of_100/model_20_of_100/model_21_of_100/model_22_of_100/model_23_of_100/model_24_of_100/model_25_of_100/model_26_of_100/model_27_of_100/model_28_of_100/model_29_of_100/model_30_of_100/model_31_of_100/model_32_of_100/model_33_of_100/model_34_of_100/model_35_of_100/model_36_of_100/model_37_of_100/model_38_of_100/model_39_of_100/model_40_of_100/model_41_of_100/model_42_of_100/model_43_of_100/model_44_of_100/model_45_of_100/model_46_of_100/model_47_of_100/model_48_of_100/model_49_of_100/model_50_of_100/model_51_of_100/model_52_of_100/model_53_of_100/model_54_of_100/model_55_of_100/model_56_of_100/model_57_of_100/model_58_of_100/model_59_of_100/model_60_of_100/model_61_of_100/model_62_of_100/model_63_of_100/model_64_of_100/model_65_of_100/model_66_of_100/model_67_of_100/model_68_of_100/model_69_of_100/model_70_of_100/model_71_of_100/model_72_of_100/model_73_of_100/model_74_of_100/model_75_of_100/model_76_of_100/model_77_of_100/model_78_of_100/model_79_of_100/model_80_of_100/model_81_of_100/model_82_of_100/model_83_of_100/model_84_of_100.pth', 'history': None, 'model_name': 'model_84_of_100'}\n",
            "Model training took 0:00:00.307180\n",
            "model_85_of_100\n",
            "tensorboard path is /content/drive/MyDrive/academics/columbia/neural_networks/project/data/round_6/model_0_of_100/model_1_of_100/model_2_of_100/model_3_of_100/model_4_of_100/model_5_of_100/model_6_of_100/model_7_of_100/model_8_of_100/model_9_of_100/model_10_of_100/model_11_of_100/model_12_of_100/model_13_of_100/model_14_of_100/model_15_of_100/model_16_of_100/model_17_of_100/model_18_of_100/model_19_of_100/model_20_of_100/model_21_of_100/model_22_of_100/model_23_of_100/model_24_of_100/model_25_of_100/model_26_of_100/model_27_of_100/model_28_of_100/model_29_of_100/model_30_of_100/model_31_of_100/model_32_of_100/model_33_of_100/model_34_of_100/model_35_of_100/model_36_of_100/model_37_of_100/model_38_of_100/model_39_of_100/model_40_of_100/model_41_of_100/model_42_of_100/model_43_of_100/model_44_of_100/model_45_of_100/model_46_of_100/model_47_of_100/model_48_of_100/model_49_of_100/model_50_of_100/model_51_of_100/model_52_of_100/model_53_of_100/model_54_of_100/model_55_of_100/model_56_of_100/model_57_of_100/model_58_of_100/model_59_of_100/model_60_of_100/model_61_of_100/model_62_of_100/model_63_of_100/model_64_of_100/model_65_of_100/model_66_of_100/model_67_of_100/model_68_of_100/model_69_of_100/model_70_of_100/model_71_of_100/model_72_of_100/model_73_of_100/model_74_of_100/model_75_of_100/model_76_of_100/model_77_of_100/model_78_of_100/model_79_of_100/model_80_of_100/model_81_of_100/model_82_of_100/model_83_of_100/model_84_of_100/model_85_of_100\n",
            "save_path is /content/drive/MyDrive/academics/columbia/neural_networks/project/data/round_6/model_0_of_100/model_1_of_100/model_2_of_100/model_3_of_100/model_4_of_100/model_5_of_100/model_6_of_100/model_7_of_100/model_8_of_100/model_9_of_100/model_10_of_100/model_11_of_100/model_12_of_100/model_13_of_100/model_14_of_100/model_15_of_100/model_16_of_100/model_17_of_100/model_18_of_100/model_19_of_100/model_20_of_100/model_21_of_100/model_22_of_100/model_23_of_100/model_24_of_100/model_25_of_100/model_26_of_100/model_27_of_100/model_28_of_100/model_29_of_100/model_30_of_100/model_31_of_100/model_32_of_100/model_33_of_100/model_34_of_100/model_35_of_100/model_36_of_100/model_37_of_100/model_38_of_100/model_39_of_100/model_40_of_100/model_41_of_100/model_42_of_100/model_43_of_100/model_44_of_100/model_45_of_100/model_46_of_100/model_47_of_100/model_48_of_100/model_49_of_100/model_50_of_100/model_51_of_100/model_52_of_100/model_53_of_100/model_54_of_100/model_55_of_100/model_56_of_100/model_57_of_100/model_58_of_100/model_59_of_100/model_60_of_100/model_61_of_100/model_62_of_100/model_63_of_100/model_64_of_100/model_65_of_100/model_66_of_100/model_67_of_100/model_68_of_100/model_69_of_100/model_70_of_100/model_71_of_100/model_72_of_100/model_73_of_100/model_74_of_100/model_75_of_100/model_76_of_100/model_77_of_100/model_78_of_100/model_79_of_100/model_80_of_100/model_81_of_100/model_82_of_100/model_83_of_100/model_84_of_100/model_85_of_100.pth\n",
            "path /content/drive/MyDrive/academics/columbia/neural_networks/project/data/round_6/model_0_of_100/model_1_of_100/model_2_of_100/model_3_of_100/model_4_of_100/model_5_of_100/model_6_of_100/model_7_of_100/model_8_of_100/model_9_of_100/model_10_of_100/model_11_of_100/model_12_of_100/model_13_of_100/model_14_of_100/model_15_of_100/model_16_of_100/model_17_of_100/model_18_of_100/model_19_of_100/model_20_of_100/model_21_of_100/model_22_of_100/model_23_of_100/model_24_of_100/model_25_of_100/model_26_of_100/model_27_of_100/model_28_of_100/model_29_of_100/model_30_of_100/model_31_of_100/model_32_of_100/model_33_of_100/model_34_of_100/model_35_of_100/model_36_of_100/model_37_of_100/model_38_of_100/model_39_of_100/model_40_of_100/model_41_of_100/model_42_of_100/model_43_of_100/model_44_of_100/model_45_of_100/model_46_of_100/model_47_of_100/model_48_of_100/model_49_of_100/model_50_of_100/model_51_of_100/model_52_of_100/model_53_of_100/model_54_of_100/model_55_of_100/model_56_of_100/model_57_of_100/model_58_of_100/model_59_of_100/model_60_of_100/model_61_of_100/model_62_of_100/model_63_of_100/model_64_of_100/model_65_of_100/model_66_of_100/model_67_of_100/model_68_of_100/model_69_of_100/model_70_of_100/model_71_of_100/model_72_of_100/model_73_of_100/model_74_of_100/model_75_of_100/model_76_of_100/model_77_of_100/model_78_of_100/model_79_of_100/model_80_of_100/model_81_of_100/model_82_of_100/model_83_of_100/model_84_of_100/model_85_of_100.pth already saved to. SKIPPING.\n",
            "85\n",
            "{'save_path': '/content/drive/MyDrive/academics/columbia/neural_networks/project/data/round_6/model_0_of_100/model_1_of_100/model_2_of_100/model_3_of_100/model_4_of_100/model_5_of_100/model_6_of_100/model_7_of_100/model_8_of_100/model_9_of_100/model_10_of_100/model_11_of_100/model_12_of_100/model_13_of_100/model_14_of_100/model_15_of_100/model_16_of_100/model_17_of_100/model_18_of_100/model_19_of_100/model_20_of_100/model_21_of_100/model_22_of_100/model_23_of_100/model_24_of_100/model_25_of_100/model_26_of_100/model_27_of_100/model_28_of_100/model_29_of_100/model_30_of_100/model_31_of_100/model_32_of_100/model_33_of_100/model_34_of_100/model_35_of_100/model_36_of_100/model_37_of_100/model_38_of_100/model_39_of_100/model_40_of_100/model_41_of_100/model_42_of_100/model_43_of_100/model_44_of_100/model_45_of_100/model_46_of_100/model_47_of_100/model_48_of_100/model_49_of_100/model_50_of_100/model_51_of_100/model_52_of_100/model_53_of_100/model_54_of_100/model_55_of_100/model_56_of_100/model_57_of_100/model_58_of_100/model_59_of_100/model_60_of_100/model_61_of_100/model_62_of_100/model_63_of_100/model_64_of_100/model_65_of_100/model_66_of_100/model_67_of_100/model_68_of_100/model_69_of_100/model_70_of_100/model_71_of_100/model_72_of_100/model_73_of_100/model_74_of_100/model_75_of_100/model_76_of_100/model_77_of_100/model_78_of_100/model_79_of_100/model_80_of_100/model_81_of_100/model_82_of_100/model_83_of_100/model_84_of_100/model_85_of_100.pth', 'history': None, 'model_name': 'model_85_of_100'}\n",
            "Model training took 0:00:00.236680\n",
            "model_86_of_100\n",
            "tensorboard path is /content/drive/MyDrive/academics/columbia/neural_networks/project/data/round_6/model_0_of_100/model_1_of_100/model_2_of_100/model_3_of_100/model_4_of_100/model_5_of_100/model_6_of_100/model_7_of_100/model_8_of_100/model_9_of_100/model_10_of_100/model_11_of_100/model_12_of_100/model_13_of_100/model_14_of_100/model_15_of_100/model_16_of_100/model_17_of_100/model_18_of_100/model_19_of_100/model_20_of_100/model_21_of_100/model_22_of_100/model_23_of_100/model_24_of_100/model_25_of_100/model_26_of_100/model_27_of_100/model_28_of_100/model_29_of_100/model_30_of_100/model_31_of_100/model_32_of_100/model_33_of_100/model_34_of_100/model_35_of_100/model_36_of_100/model_37_of_100/model_38_of_100/model_39_of_100/model_40_of_100/model_41_of_100/model_42_of_100/model_43_of_100/model_44_of_100/model_45_of_100/model_46_of_100/model_47_of_100/model_48_of_100/model_49_of_100/model_50_of_100/model_51_of_100/model_52_of_100/model_53_of_100/model_54_of_100/model_55_of_100/model_56_of_100/model_57_of_100/model_58_of_100/model_59_of_100/model_60_of_100/model_61_of_100/model_62_of_100/model_63_of_100/model_64_of_100/model_65_of_100/model_66_of_100/model_67_of_100/model_68_of_100/model_69_of_100/model_70_of_100/model_71_of_100/model_72_of_100/model_73_of_100/model_74_of_100/model_75_of_100/model_76_of_100/model_77_of_100/model_78_of_100/model_79_of_100/model_80_of_100/model_81_of_100/model_82_of_100/model_83_of_100/model_84_of_100/model_85_of_100/model_86_of_100\n",
            "save_path is /content/drive/MyDrive/academics/columbia/neural_networks/project/data/round_6/model_0_of_100/model_1_of_100/model_2_of_100/model_3_of_100/model_4_of_100/model_5_of_100/model_6_of_100/model_7_of_100/model_8_of_100/model_9_of_100/model_10_of_100/model_11_of_100/model_12_of_100/model_13_of_100/model_14_of_100/model_15_of_100/model_16_of_100/model_17_of_100/model_18_of_100/model_19_of_100/model_20_of_100/model_21_of_100/model_22_of_100/model_23_of_100/model_24_of_100/model_25_of_100/model_26_of_100/model_27_of_100/model_28_of_100/model_29_of_100/model_30_of_100/model_31_of_100/model_32_of_100/model_33_of_100/model_34_of_100/model_35_of_100/model_36_of_100/model_37_of_100/model_38_of_100/model_39_of_100/model_40_of_100/model_41_of_100/model_42_of_100/model_43_of_100/model_44_of_100/model_45_of_100/model_46_of_100/model_47_of_100/model_48_of_100/model_49_of_100/model_50_of_100/model_51_of_100/model_52_of_100/model_53_of_100/model_54_of_100/model_55_of_100/model_56_of_100/model_57_of_100/model_58_of_100/model_59_of_100/model_60_of_100/model_61_of_100/model_62_of_100/model_63_of_100/model_64_of_100/model_65_of_100/model_66_of_100/model_67_of_100/model_68_of_100/model_69_of_100/model_70_of_100/model_71_of_100/model_72_of_100/model_73_of_100/model_74_of_100/model_75_of_100/model_76_of_100/model_77_of_100/model_78_of_100/model_79_of_100/model_80_of_100/model_81_of_100/model_82_of_100/model_83_of_100/model_84_of_100/model_85_of_100/model_86_of_100.pth\n",
            "path /content/drive/MyDrive/academics/columbia/neural_networks/project/data/round_6/model_0_of_100/model_1_of_100/model_2_of_100/model_3_of_100/model_4_of_100/model_5_of_100/model_6_of_100/model_7_of_100/model_8_of_100/model_9_of_100/model_10_of_100/model_11_of_100/model_12_of_100/model_13_of_100/model_14_of_100/model_15_of_100/model_16_of_100/model_17_of_100/model_18_of_100/model_19_of_100/model_20_of_100/model_21_of_100/model_22_of_100/model_23_of_100/model_24_of_100/model_25_of_100/model_26_of_100/model_27_of_100/model_28_of_100/model_29_of_100/model_30_of_100/model_31_of_100/model_32_of_100/model_33_of_100/model_34_of_100/model_35_of_100/model_36_of_100/model_37_of_100/model_38_of_100/model_39_of_100/model_40_of_100/model_41_of_100/model_42_of_100/model_43_of_100/model_44_of_100/model_45_of_100/model_46_of_100/model_47_of_100/model_48_of_100/model_49_of_100/model_50_of_100/model_51_of_100/model_52_of_100/model_53_of_100/model_54_of_100/model_55_of_100/model_56_of_100/model_57_of_100/model_58_of_100/model_59_of_100/model_60_of_100/model_61_of_100/model_62_of_100/model_63_of_100/model_64_of_100/model_65_of_100/model_66_of_100/model_67_of_100/model_68_of_100/model_69_of_100/model_70_of_100/model_71_of_100/model_72_of_100/model_73_of_100/model_74_of_100/model_75_of_100/model_76_of_100/model_77_of_100/model_78_of_100/model_79_of_100/model_80_of_100/model_81_of_100/model_82_of_100/model_83_of_100/model_84_of_100/model_85_of_100/model_86_of_100.pth already saved to. SKIPPING.\n",
            "86\n",
            "{'save_path': '/content/drive/MyDrive/academics/columbia/neural_networks/project/data/round_6/model_0_of_100/model_1_of_100/model_2_of_100/model_3_of_100/model_4_of_100/model_5_of_100/model_6_of_100/model_7_of_100/model_8_of_100/model_9_of_100/model_10_of_100/model_11_of_100/model_12_of_100/model_13_of_100/model_14_of_100/model_15_of_100/model_16_of_100/model_17_of_100/model_18_of_100/model_19_of_100/model_20_of_100/model_21_of_100/model_22_of_100/model_23_of_100/model_24_of_100/model_25_of_100/model_26_of_100/model_27_of_100/model_28_of_100/model_29_of_100/model_30_of_100/model_31_of_100/model_32_of_100/model_33_of_100/model_34_of_100/model_35_of_100/model_36_of_100/model_37_of_100/model_38_of_100/model_39_of_100/model_40_of_100/model_41_of_100/model_42_of_100/model_43_of_100/model_44_of_100/model_45_of_100/model_46_of_100/model_47_of_100/model_48_of_100/model_49_of_100/model_50_of_100/model_51_of_100/model_52_of_100/model_53_of_100/model_54_of_100/model_55_of_100/model_56_of_100/model_57_of_100/model_58_of_100/model_59_of_100/model_60_of_100/model_61_of_100/model_62_of_100/model_63_of_100/model_64_of_100/model_65_of_100/model_66_of_100/model_67_of_100/model_68_of_100/model_69_of_100/model_70_of_100/model_71_of_100/model_72_of_100/model_73_of_100/model_74_of_100/model_75_of_100/model_76_of_100/model_77_of_100/model_78_of_100/model_79_of_100/model_80_of_100/model_81_of_100/model_82_of_100/model_83_of_100/model_84_of_100/model_85_of_100/model_86_of_100.pth', 'history': None, 'model_name': 'model_86_of_100'}\n",
            "Model training took 0:00:00.327341\n",
            "model_87_of_100\n",
            "tensorboard path is /content/drive/MyDrive/academics/columbia/neural_networks/project/data/round_6/model_0_of_100/model_1_of_100/model_2_of_100/model_3_of_100/model_4_of_100/model_5_of_100/model_6_of_100/model_7_of_100/model_8_of_100/model_9_of_100/model_10_of_100/model_11_of_100/model_12_of_100/model_13_of_100/model_14_of_100/model_15_of_100/model_16_of_100/model_17_of_100/model_18_of_100/model_19_of_100/model_20_of_100/model_21_of_100/model_22_of_100/model_23_of_100/model_24_of_100/model_25_of_100/model_26_of_100/model_27_of_100/model_28_of_100/model_29_of_100/model_30_of_100/model_31_of_100/model_32_of_100/model_33_of_100/model_34_of_100/model_35_of_100/model_36_of_100/model_37_of_100/model_38_of_100/model_39_of_100/model_40_of_100/model_41_of_100/model_42_of_100/model_43_of_100/model_44_of_100/model_45_of_100/model_46_of_100/model_47_of_100/model_48_of_100/model_49_of_100/model_50_of_100/model_51_of_100/model_52_of_100/model_53_of_100/model_54_of_100/model_55_of_100/model_56_of_100/model_57_of_100/model_58_of_100/model_59_of_100/model_60_of_100/model_61_of_100/model_62_of_100/model_63_of_100/model_64_of_100/model_65_of_100/model_66_of_100/model_67_of_100/model_68_of_100/model_69_of_100/model_70_of_100/model_71_of_100/model_72_of_100/model_73_of_100/model_74_of_100/model_75_of_100/model_76_of_100/model_77_of_100/model_78_of_100/model_79_of_100/model_80_of_100/model_81_of_100/model_82_of_100/model_83_of_100/model_84_of_100/model_85_of_100/model_86_of_100/model_87_of_100\n",
            "save_path is /content/drive/MyDrive/academics/columbia/neural_networks/project/data/round_6/model_0_of_100/model_1_of_100/model_2_of_100/model_3_of_100/model_4_of_100/model_5_of_100/model_6_of_100/model_7_of_100/model_8_of_100/model_9_of_100/model_10_of_100/model_11_of_100/model_12_of_100/model_13_of_100/model_14_of_100/model_15_of_100/model_16_of_100/model_17_of_100/model_18_of_100/model_19_of_100/model_20_of_100/model_21_of_100/model_22_of_100/model_23_of_100/model_24_of_100/model_25_of_100/model_26_of_100/model_27_of_100/model_28_of_100/model_29_of_100/model_30_of_100/model_31_of_100/model_32_of_100/model_33_of_100/model_34_of_100/model_35_of_100/model_36_of_100/model_37_of_100/model_38_of_100/model_39_of_100/model_40_of_100/model_41_of_100/model_42_of_100/model_43_of_100/model_44_of_100/model_45_of_100/model_46_of_100/model_47_of_100/model_48_of_100/model_49_of_100/model_50_of_100/model_51_of_100/model_52_of_100/model_53_of_100/model_54_of_100/model_55_of_100/model_56_of_100/model_57_of_100/model_58_of_100/model_59_of_100/model_60_of_100/model_61_of_100/model_62_of_100/model_63_of_100/model_64_of_100/model_65_of_100/model_66_of_100/model_67_of_100/model_68_of_100/model_69_of_100/model_70_of_100/model_71_of_100/model_72_of_100/model_73_of_100/model_74_of_100/model_75_of_100/model_76_of_100/model_77_of_100/model_78_of_100/model_79_of_100/model_80_of_100/model_81_of_100/model_82_of_100/model_83_of_100/model_84_of_100/model_85_of_100/model_86_of_100/model_87_of_100.pth\n",
            "path /content/drive/MyDrive/academics/columbia/neural_networks/project/data/round_6/model_0_of_100/model_1_of_100/model_2_of_100/model_3_of_100/model_4_of_100/model_5_of_100/model_6_of_100/model_7_of_100/model_8_of_100/model_9_of_100/model_10_of_100/model_11_of_100/model_12_of_100/model_13_of_100/model_14_of_100/model_15_of_100/model_16_of_100/model_17_of_100/model_18_of_100/model_19_of_100/model_20_of_100/model_21_of_100/model_22_of_100/model_23_of_100/model_24_of_100/model_25_of_100/model_26_of_100/model_27_of_100/model_28_of_100/model_29_of_100/model_30_of_100/model_31_of_100/model_32_of_100/model_33_of_100/model_34_of_100/model_35_of_100/model_36_of_100/model_37_of_100/model_38_of_100/model_39_of_100/model_40_of_100/model_41_of_100/model_42_of_100/model_43_of_100/model_44_of_100/model_45_of_100/model_46_of_100/model_47_of_100/model_48_of_100/model_49_of_100/model_50_of_100/model_51_of_100/model_52_of_100/model_53_of_100/model_54_of_100/model_55_of_100/model_56_of_100/model_57_of_100/model_58_of_100/model_59_of_100/model_60_of_100/model_61_of_100/model_62_of_100/model_63_of_100/model_64_of_100/model_65_of_100/model_66_of_100/model_67_of_100/model_68_of_100/model_69_of_100/model_70_of_100/model_71_of_100/model_72_of_100/model_73_of_100/model_74_of_100/model_75_of_100/model_76_of_100/model_77_of_100/model_78_of_100/model_79_of_100/model_80_of_100/model_81_of_100/model_82_of_100/model_83_of_100/model_84_of_100/model_85_of_100/model_86_of_100/model_87_of_100.pth already saved to. SKIPPING.\n",
            "87\n",
            "{'save_path': '/content/drive/MyDrive/academics/columbia/neural_networks/project/data/round_6/model_0_of_100/model_1_of_100/model_2_of_100/model_3_of_100/model_4_of_100/model_5_of_100/model_6_of_100/model_7_of_100/model_8_of_100/model_9_of_100/model_10_of_100/model_11_of_100/model_12_of_100/model_13_of_100/model_14_of_100/model_15_of_100/model_16_of_100/model_17_of_100/model_18_of_100/model_19_of_100/model_20_of_100/model_21_of_100/model_22_of_100/model_23_of_100/model_24_of_100/model_25_of_100/model_26_of_100/model_27_of_100/model_28_of_100/model_29_of_100/model_30_of_100/model_31_of_100/model_32_of_100/model_33_of_100/model_34_of_100/model_35_of_100/model_36_of_100/model_37_of_100/model_38_of_100/model_39_of_100/model_40_of_100/model_41_of_100/model_42_of_100/model_43_of_100/model_44_of_100/model_45_of_100/model_46_of_100/model_47_of_100/model_48_of_100/model_49_of_100/model_50_of_100/model_51_of_100/model_52_of_100/model_53_of_100/model_54_of_100/model_55_of_100/model_56_of_100/model_57_of_100/model_58_of_100/model_59_of_100/model_60_of_100/model_61_of_100/model_62_of_100/model_63_of_100/model_64_of_100/model_65_of_100/model_66_of_100/model_67_of_100/model_68_of_100/model_69_of_100/model_70_of_100/model_71_of_100/model_72_of_100/model_73_of_100/model_74_of_100/model_75_of_100/model_76_of_100/model_77_of_100/model_78_of_100/model_79_of_100/model_80_of_100/model_81_of_100/model_82_of_100/model_83_of_100/model_84_of_100/model_85_of_100/model_86_of_100/model_87_of_100.pth', 'history': None, 'model_name': 'model_87_of_100'}\n",
            "Model training took 0:00:00.197224\n",
            "model_88_of_100\n",
            "tensorboard path is /content/drive/MyDrive/academics/columbia/neural_networks/project/data/round_6/model_0_of_100/model_1_of_100/model_2_of_100/model_3_of_100/model_4_of_100/model_5_of_100/model_6_of_100/model_7_of_100/model_8_of_100/model_9_of_100/model_10_of_100/model_11_of_100/model_12_of_100/model_13_of_100/model_14_of_100/model_15_of_100/model_16_of_100/model_17_of_100/model_18_of_100/model_19_of_100/model_20_of_100/model_21_of_100/model_22_of_100/model_23_of_100/model_24_of_100/model_25_of_100/model_26_of_100/model_27_of_100/model_28_of_100/model_29_of_100/model_30_of_100/model_31_of_100/model_32_of_100/model_33_of_100/model_34_of_100/model_35_of_100/model_36_of_100/model_37_of_100/model_38_of_100/model_39_of_100/model_40_of_100/model_41_of_100/model_42_of_100/model_43_of_100/model_44_of_100/model_45_of_100/model_46_of_100/model_47_of_100/model_48_of_100/model_49_of_100/model_50_of_100/model_51_of_100/model_52_of_100/model_53_of_100/model_54_of_100/model_55_of_100/model_56_of_100/model_57_of_100/model_58_of_100/model_59_of_100/model_60_of_100/model_61_of_100/model_62_of_100/model_63_of_100/model_64_of_100/model_65_of_100/model_66_of_100/model_67_of_100/model_68_of_100/model_69_of_100/model_70_of_100/model_71_of_100/model_72_of_100/model_73_of_100/model_74_of_100/model_75_of_100/model_76_of_100/model_77_of_100/model_78_of_100/model_79_of_100/model_80_of_100/model_81_of_100/model_82_of_100/model_83_of_100/model_84_of_100/model_85_of_100/model_86_of_100/model_87_of_100/model_88_of_100\n",
            "save_path is /content/drive/MyDrive/academics/columbia/neural_networks/project/data/round_6/model_0_of_100/model_1_of_100/model_2_of_100/model_3_of_100/model_4_of_100/model_5_of_100/model_6_of_100/model_7_of_100/model_8_of_100/model_9_of_100/model_10_of_100/model_11_of_100/model_12_of_100/model_13_of_100/model_14_of_100/model_15_of_100/model_16_of_100/model_17_of_100/model_18_of_100/model_19_of_100/model_20_of_100/model_21_of_100/model_22_of_100/model_23_of_100/model_24_of_100/model_25_of_100/model_26_of_100/model_27_of_100/model_28_of_100/model_29_of_100/model_30_of_100/model_31_of_100/model_32_of_100/model_33_of_100/model_34_of_100/model_35_of_100/model_36_of_100/model_37_of_100/model_38_of_100/model_39_of_100/model_40_of_100/model_41_of_100/model_42_of_100/model_43_of_100/model_44_of_100/model_45_of_100/model_46_of_100/model_47_of_100/model_48_of_100/model_49_of_100/model_50_of_100/model_51_of_100/model_52_of_100/model_53_of_100/model_54_of_100/model_55_of_100/model_56_of_100/model_57_of_100/model_58_of_100/model_59_of_100/model_60_of_100/model_61_of_100/model_62_of_100/model_63_of_100/model_64_of_100/model_65_of_100/model_66_of_100/model_67_of_100/model_68_of_100/model_69_of_100/model_70_of_100/model_71_of_100/model_72_of_100/model_73_of_100/model_74_of_100/model_75_of_100/model_76_of_100/model_77_of_100/model_78_of_100/model_79_of_100/model_80_of_100/model_81_of_100/model_82_of_100/model_83_of_100/model_84_of_100/model_85_of_100/model_86_of_100/model_87_of_100/model_88_of_100.pth\n",
            "path /content/drive/MyDrive/academics/columbia/neural_networks/project/data/round_6/model_0_of_100/model_1_of_100/model_2_of_100/model_3_of_100/model_4_of_100/model_5_of_100/model_6_of_100/model_7_of_100/model_8_of_100/model_9_of_100/model_10_of_100/model_11_of_100/model_12_of_100/model_13_of_100/model_14_of_100/model_15_of_100/model_16_of_100/model_17_of_100/model_18_of_100/model_19_of_100/model_20_of_100/model_21_of_100/model_22_of_100/model_23_of_100/model_24_of_100/model_25_of_100/model_26_of_100/model_27_of_100/model_28_of_100/model_29_of_100/model_30_of_100/model_31_of_100/model_32_of_100/model_33_of_100/model_34_of_100/model_35_of_100/model_36_of_100/model_37_of_100/model_38_of_100/model_39_of_100/model_40_of_100/model_41_of_100/model_42_of_100/model_43_of_100/model_44_of_100/model_45_of_100/model_46_of_100/model_47_of_100/model_48_of_100/model_49_of_100/model_50_of_100/model_51_of_100/model_52_of_100/model_53_of_100/model_54_of_100/model_55_of_100/model_56_of_100/model_57_of_100/model_58_of_100/model_59_of_100/model_60_of_100/model_61_of_100/model_62_of_100/model_63_of_100/model_64_of_100/model_65_of_100/model_66_of_100/model_67_of_100/model_68_of_100/model_69_of_100/model_70_of_100/model_71_of_100/model_72_of_100/model_73_of_100/model_74_of_100/model_75_of_100/model_76_of_100/model_77_of_100/model_78_of_100/model_79_of_100/model_80_of_100/model_81_of_100/model_82_of_100/model_83_of_100/model_84_of_100/model_85_of_100/model_86_of_100/model_87_of_100/model_88_of_100.pth already saved to. SKIPPING.\n",
            "88\n",
            "{'save_path': '/content/drive/MyDrive/academics/columbia/neural_networks/project/data/round_6/model_0_of_100/model_1_of_100/model_2_of_100/model_3_of_100/model_4_of_100/model_5_of_100/model_6_of_100/model_7_of_100/model_8_of_100/model_9_of_100/model_10_of_100/model_11_of_100/model_12_of_100/model_13_of_100/model_14_of_100/model_15_of_100/model_16_of_100/model_17_of_100/model_18_of_100/model_19_of_100/model_20_of_100/model_21_of_100/model_22_of_100/model_23_of_100/model_24_of_100/model_25_of_100/model_26_of_100/model_27_of_100/model_28_of_100/model_29_of_100/model_30_of_100/model_31_of_100/model_32_of_100/model_33_of_100/model_34_of_100/model_35_of_100/model_36_of_100/model_37_of_100/model_38_of_100/model_39_of_100/model_40_of_100/model_41_of_100/model_42_of_100/model_43_of_100/model_44_of_100/model_45_of_100/model_46_of_100/model_47_of_100/model_48_of_100/model_49_of_100/model_50_of_100/model_51_of_100/model_52_of_100/model_53_of_100/model_54_of_100/model_55_of_100/model_56_of_100/model_57_of_100/model_58_of_100/model_59_of_100/model_60_of_100/model_61_of_100/model_62_of_100/model_63_of_100/model_64_of_100/model_65_of_100/model_66_of_100/model_67_of_100/model_68_of_100/model_69_of_100/model_70_of_100/model_71_of_100/model_72_of_100/model_73_of_100/model_74_of_100/model_75_of_100/model_76_of_100/model_77_of_100/model_78_of_100/model_79_of_100/model_80_of_100/model_81_of_100/model_82_of_100/model_83_of_100/model_84_of_100/model_85_of_100/model_86_of_100/model_87_of_100/model_88_of_100.pth', 'history': None, 'model_name': 'model_88_of_100'}\n",
            "Model training took 0:00:00.304240\n",
            "model_89_of_100\n",
            "tensorboard path is /content/drive/MyDrive/academics/columbia/neural_networks/project/data/round_6/model_0_of_100/model_1_of_100/model_2_of_100/model_3_of_100/model_4_of_100/model_5_of_100/model_6_of_100/model_7_of_100/model_8_of_100/model_9_of_100/model_10_of_100/model_11_of_100/model_12_of_100/model_13_of_100/model_14_of_100/model_15_of_100/model_16_of_100/model_17_of_100/model_18_of_100/model_19_of_100/model_20_of_100/model_21_of_100/model_22_of_100/model_23_of_100/model_24_of_100/model_25_of_100/model_26_of_100/model_27_of_100/model_28_of_100/model_29_of_100/model_30_of_100/model_31_of_100/model_32_of_100/model_33_of_100/model_34_of_100/model_35_of_100/model_36_of_100/model_37_of_100/model_38_of_100/model_39_of_100/model_40_of_100/model_41_of_100/model_42_of_100/model_43_of_100/model_44_of_100/model_45_of_100/model_46_of_100/model_47_of_100/model_48_of_100/model_49_of_100/model_50_of_100/model_51_of_100/model_52_of_100/model_53_of_100/model_54_of_100/model_55_of_100/model_56_of_100/model_57_of_100/model_58_of_100/model_59_of_100/model_60_of_100/model_61_of_100/model_62_of_100/model_63_of_100/model_64_of_100/model_65_of_100/model_66_of_100/model_67_of_100/model_68_of_100/model_69_of_100/model_70_of_100/model_71_of_100/model_72_of_100/model_73_of_100/model_74_of_100/model_75_of_100/model_76_of_100/model_77_of_100/model_78_of_100/model_79_of_100/model_80_of_100/model_81_of_100/model_82_of_100/model_83_of_100/model_84_of_100/model_85_of_100/model_86_of_100/model_87_of_100/model_88_of_100/model_89_of_100\n",
            "save_path is /content/drive/MyDrive/academics/columbia/neural_networks/project/data/round_6/model_0_of_100/model_1_of_100/model_2_of_100/model_3_of_100/model_4_of_100/model_5_of_100/model_6_of_100/model_7_of_100/model_8_of_100/model_9_of_100/model_10_of_100/model_11_of_100/model_12_of_100/model_13_of_100/model_14_of_100/model_15_of_100/model_16_of_100/model_17_of_100/model_18_of_100/model_19_of_100/model_20_of_100/model_21_of_100/model_22_of_100/model_23_of_100/model_24_of_100/model_25_of_100/model_26_of_100/model_27_of_100/model_28_of_100/model_29_of_100/model_30_of_100/model_31_of_100/model_32_of_100/model_33_of_100/model_34_of_100/model_35_of_100/model_36_of_100/model_37_of_100/model_38_of_100/model_39_of_100/model_40_of_100/model_41_of_100/model_42_of_100/model_43_of_100/model_44_of_100/model_45_of_100/model_46_of_100/model_47_of_100/model_48_of_100/model_49_of_100/model_50_of_100/model_51_of_100/model_52_of_100/model_53_of_100/model_54_of_100/model_55_of_100/model_56_of_100/model_57_of_100/model_58_of_100/model_59_of_100/model_60_of_100/model_61_of_100/model_62_of_100/model_63_of_100/model_64_of_100/model_65_of_100/model_66_of_100/model_67_of_100/model_68_of_100/model_69_of_100/model_70_of_100/model_71_of_100/model_72_of_100/model_73_of_100/model_74_of_100/model_75_of_100/model_76_of_100/model_77_of_100/model_78_of_100/model_79_of_100/model_80_of_100/model_81_of_100/model_82_of_100/model_83_of_100/model_84_of_100/model_85_of_100/model_86_of_100/model_87_of_100/model_88_of_100/model_89_of_100.pth\n",
            "path /content/drive/MyDrive/academics/columbia/neural_networks/project/data/round_6/model_0_of_100/model_1_of_100/model_2_of_100/model_3_of_100/model_4_of_100/model_5_of_100/model_6_of_100/model_7_of_100/model_8_of_100/model_9_of_100/model_10_of_100/model_11_of_100/model_12_of_100/model_13_of_100/model_14_of_100/model_15_of_100/model_16_of_100/model_17_of_100/model_18_of_100/model_19_of_100/model_20_of_100/model_21_of_100/model_22_of_100/model_23_of_100/model_24_of_100/model_25_of_100/model_26_of_100/model_27_of_100/model_28_of_100/model_29_of_100/model_30_of_100/model_31_of_100/model_32_of_100/model_33_of_100/model_34_of_100/model_35_of_100/model_36_of_100/model_37_of_100/model_38_of_100/model_39_of_100/model_40_of_100/model_41_of_100/model_42_of_100/model_43_of_100/model_44_of_100/model_45_of_100/model_46_of_100/model_47_of_100/model_48_of_100/model_49_of_100/model_50_of_100/model_51_of_100/model_52_of_100/model_53_of_100/model_54_of_100/model_55_of_100/model_56_of_100/model_57_of_100/model_58_of_100/model_59_of_100/model_60_of_100/model_61_of_100/model_62_of_100/model_63_of_100/model_64_of_100/model_65_of_100/model_66_of_100/model_67_of_100/model_68_of_100/model_69_of_100/model_70_of_100/model_71_of_100/model_72_of_100/model_73_of_100/model_74_of_100/model_75_of_100/model_76_of_100/model_77_of_100/model_78_of_100/model_79_of_100/model_80_of_100/model_81_of_100/model_82_of_100/model_83_of_100/model_84_of_100/model_85_of_100/model_86_of_100/model_87_of_100/model_88_of_100/model_89_of_100.pth already saved to. SKIPPING.\n",
            "89\n",
            "{'save_path': '/content/drive/MyDrive/academics/columbia/neural_networks/project/data/round_6/model_0_of_100/model_1_of_100/model_2_of_100/model_3_of_100/model_4_of_100/model_5_of_100/model_6_of_100/model_7_of_100/model_8_of_100/model_9_of_100/model_10_of_100/model_11_of_100/model_12_of_100/model_13_of_100/model_14_of_100/model_15_of_100/model_16_of_100/model_17_of_100/model_18_of_100/model_19_of_100/model_20_of_100/model_21_of_100/model_22_of_100/model_23_of_100/model_24_of_100/model_25_of_100/model_26_of_100/model_27_of_100/model_28_of_100/model_29_of_100/model_30_of_100/model_31_of_100/model_32_of_100/model_33_of_100/model_34_of_100/model_35_of_100/model_36_of_100/model_37_of_100/model_38_of_100/model_39_of_100/model_40_of_100/model_41_of_100/model_42_of_100/model_43_of_100/model_44_of_100/model_45_of_100/model_46_of_100/model_47_of_100/model_48_of_100/model_49_of_100/model_50_of_100/model_51_of_100/model_52_of_100/model_53_of_100/model_54_of_100/model_55_of_100/model_56_of_100/model_57_of_100/model_58_of_100/model_59_of_100/model_60_of_100/model_61_of_100/model_62_of_100/model_63_of_100/model_64_of_100/model_65_of_100/model_66_of_100/model_67_of_100/model_68_of_100/model_69_of_100/model_70_of_100/model_71_of_100/model_72_of_100/model_73_of_100/model_74_of_100/model_75_of_100/model_76_of_100/model_77_of_100/model_78_of_100/model_79_of_100/model_80_of_100/model_81_of_100/model_82_of_100/model_83_of_100/model_84_of_100/model_85_of_100/model_86_of_100/model_87_of_100/model_88_of_100/model_89_of_100.pth', 'history': None, 'model_name': 'model_89_of_100'}\n",
            "Model training took 0:00:00.258509\n",
            "model_90_of_100\n",
            "tensorboard path is /content/drive/MyDrive/academics/columbia/neural_networks/project/data/round_6/model_0_of_100/model_1_of_100/model_2_of_100/model_3_of_100/model_4_of_100/model_5_of_100/model_6_of_100/model_7_of_100/model_8_of_100/model_9_of_100/model_10_of_100/model_11_of_100/model_12_of_100/model_13_of_100/model_14_of_100/model_15_of_100/model_16_of_100/model_17_of_100/model_18_of_100/model_19_of_100/model_20_of_100/model_21_of_100/model_22_of_100/model_23_of_100/model_24_of_100/model_25_of_100/model_26_of_100/model_27_of_100/model_28_of_100/model_29_of_100/model_30_of_100/model_31_of_100/model_32_of_100/model_33_of_100/model_34_of_100/model_35_of_100/model_36_of_100/model_37_of_100/model_38_of_100/model_39_of_100/model_40_of_100/model_41_of_100/model_42_of_100/model_43_of_100/model_44_of_100/model_45_of_100/model_46_of_100/model_47_of_100/model_48_of_100/model_49_of_100/model_50_of_100/model_51_of_100/model_52_of_100/model_53_of_100/model_54_of_100/model_55_of_100/model_56_of_100/model_57_of_100/model_58_of_100/model_59_of_100/model_60_of_100/model_61_of_100/model_62_of_100/model_63_of_100/model_64_of_100/model_65_of_100/model_66_of_100/model_67_of_100/model_68_of_100/model_69_of_100/model_70_of_100/model_71_of_100/model_72_of_100/model_73_of_100/model_74_of_100/model_75_of_100/model_76_of_100/model_77_of_100/model_78_of_100/model_79_of_100/model_80_of_100/model_81_of_100/model_82_of_100/model_83_of_100/model_84_of_100/model_85_of_100/model_86_of_100/model_87_of_100/model_88_of_100/model_89_of_100/model_90_of_100\n",
            "save_path is /content/drive/MyDrive/academics/columbia/neural_networks/project/data/round_6/model_0_of_100/model_1_of_100/model_2_of_100/model_3_of_100/model_4_of_100/model_5_of_100/model_6_of_100/model_7_of_100/model_8_of_100/model_9_of_100/model_10_of_100/model_11_of_100/model_12_of_100/model_13_of_100/model_14_of_100/model_15_of_100/model_16_of_100/model_17_of_100/model_18_of_100/model_19_of_100/model_20_of_100/model_21_of_100/model_22_of_100/model_23_of_100/model_24_of_100/model_25_of_100/model_26_of_100/model_27_of_100/model_28_of_100/model_29_of_100/model_30_of_100/model_31_of_100/model_32_of_100/model_33_of_100/model_34_of_100/model_35_of_100/model_36_of_100/model_37_of_100/model_38_of_100/model_39_of_100/model_40_of_100/model_41_of_100/model_42_of_100/model_43_of_100/model_44_of_100/model_45_of_100/model_46_of_100/model_47_of_100/model_48_of_100/model_49_of_100/model_50_of_100/model_51_of_100/model_52_of_100/model_53_of_100/model_54_of_100/model_55_of_100/model_56_of_100/model_57_of_100/model_58_of_100/model_59_of_100/model_60_of_100/model_61_of_100/model_62_of_100/model_63_of_100/model_64_of_100/model_65_of_100/model_66_of_100/model_67_of_100/model_68_of_100/model_69_of_100/model_70_of_100/model_71_of_100/model_72_of_100/model_73_of_100/model_74_of_100/model_75_of_100/model_76_of_100/model_77_of_100/model_78_of_100/model_79_of_100/model_80_of_100/model_81_of_100/model_82_of_100/model_83_of_100/model_84_of_100/model_85_of_100/model_86_of_100/model_87_of_100/model_88_of_100/model_89_of_100/model_90_of_100.pth\n",
            "path /content/drive/MyDrive/academics/columbia/neural_networks/project/data/round_6/model_0_of_100/model_1_of_100/model_2_of_100/model_3_of_100/model_4_of_100/model_5_of_100/model_6_of_100/model_7_of_100/model_8_of_100/model_9_of_100/model_10_of_100/model_11_of_100/model_12_of_100/model_13_of_100/model_14_of_100/model_15_of_100/model_16_of_100/model_17_of_100/model_18_of_100/model_19_of_100/model_20_of_100/model_21_of_100/model_22_of_100/model_23_of_100/model_24_of_100/model_25_of_100/model_26_of_100/model_27_of_100/model_28_of_100/model_29_of_100/model_30_of_100/model_31_of_100/model_32_of_100/model_33_of_100/model_34_of_100/model_35_of_100/model_36_of_100/model_37_of_100/model_38_of_100/model_39_of_100/model_40_of_100/model_41_of_100/model_42_of_100/model_43_of_100/model_44_of_100/model_45_of_100/model_46_of_100/model_47_of_100/model_48_of_100/model_49_of_100/model_50_of_100/model_51_of_100/model_52_of_100/model_53_of_100/model_54_of_100/model_55_of_100/model_56_of_100/model_57_of_100/model_58_of_100/model_59_of_100/model_60_of_100/model_61_of_100/model_62_of_100/model_63_of_100/model_64_of_100/model_65_of_100/model_66_of_100/model_67_of_100/model_68_of_100/model_69_of_100/model_70_of_100/model_71_of_100/model_72_of_100/model_73_of_100/model_74_of_100/model_75_of_100/model_76_of_100/model_77_of_100/model_78_of_100/model_79_of_100/model_80_of_100/model_81_of_100/model_82_of_100/model_83_of_100/model_84_of_100/model_85_of_100/model_86_of_100/model_87_of_100/model_88_of_100/model_89_of_100/model_90_of_100.pth already saved to. SKIPPING.\n",
            "90\n",
            "{'save_path': '/content/drive/MyDrive/academics/columbia/neural_networks/project/data/round_6/model_0_of_100/model_1_of_100/model_2_of_100/model_3_of_100/model_4_of_100/model_5_of_100/model_6_of_100/model_7_of_100/model_8_of_100/model_9_of_100/model_10_of_100/model_11_of_100/model_12_of_100/model_13_of_100/model_14_of_100/model_15_of_100/model_16_of_100/model_17_of_100/model_18_of_100/model_19_of_100/model_20_of_100/model_21_of_100/model_22_of_100/model_23_of_100/model_24_of_100/model_25_of_100/model_26_of_100/model_27_of_100/model_28_of_100/model_29_of_100/model_30_of_100/model_31_of_100/model_32_of_100/model_33_of_100/model_34_of_100/model_35_of_100/model_36_of_100/model_37_of_100/model_38_of_100/model_39_of_100/model_40_of_100/model_41_of_100/model_42_of_100/model_43_of_100/model_44_of_100/model_45_of_100/model_46_of_100/model_47_of_100/model_48_of_100/model_49_of_100/model_50_of_100/model_51_of_100/model_52_of_100/model_53_of_100/model_54_of_100/model_55_of_100/model_56_of_100/model_57_of_100/model_58_of_100/model_59_of_100/model_60_of_100/model_61_of_100/model_62_of_100/model_63_of_100/model_64_of_100/model_65_of_100/model_66_of_100/model_67_of_100/model_68_of_100/model_69_of_100/model_70_of_100/model_71_of_100/model_72_of_100/model_73_of_100/model_74_of_100/model_75_of_100/model_76_of_100/model_77_of_100/model_78_of_100/model_79_of_100/model_80_of_100/model_81_of_100/model_82_of_100/model_83_of_100/model_84_of_100/model_85_of_100/model_86_of_100/model_87_of_100/model_88_of_100/model_89_of_100/model_90_of_100.pth', 'history': None, 'model_name': 'model_90_of_100'}\n",
            "Model training took 0:00:00.293379\n",
            "model_91_of_100\n",
            "tensorboard path is /content/drive/MyDrive/academics/columbia/neural_networks/project/data/round_6/model_0_of_100/model_1_of_100/model_2_of_100/model_3_of_100/model_4_of_100/model_5_of_100/model_6_of_100/model_7_of_100/model_8_of_100/model_9_of_100/model_10_of_100/model_11_of_100/model_12_of_100/model_13_of_100/model_14_of_100/model_15_of_100/model_16_of_100/model_17_of_100/model_18_of_100/model_19_of_100/model_20_of_100/model_21_of_100/model_22_of_100/model_23_of_100/model_24_of_100/model_25_of_100/model_26_of_100/model_27_of_100/model_28_of_100/model_29_of_100/model_30_of_100/model_31_of_100/model_32_of_100/model_33_of_100/model_34_of_100/model_35_of_100/model_36_of_100/model_37_of_100/model_38_of_100/model_39_of_100/model_40_of_100/model_41_of_100/model_42_of_100/model_43_of_100/model_44_of_100/model_45_of_100/model_46_of_100/model_47_of_100/model_48_of_100/model_49_of_100/model_50_of_100/model_51_of_100/model_52_of_100/model_53_of_100/model_54_of_100/model_55_of_100/model_56_of_100/model_57_of_100/model_58_of_100/model_59_of_100/model_60_of_100/model_61_of_100/model_62_of_100/model_63_of_100/model_64_of_100/model_65_of_100/model_66_of_100/model_67_of_100/model_68_of_100/model_69_of_100/model_70_of_100/model_71_of_100/model_72_of_100/model_73_of_100/model_74_of_100/model_75_of_100/model_76_of_100/model_77_of_100/model_78_of_100/model_79_of_100/model_80_of_100/model_81_of_100/model_82_of_100/model_83_of_100/model_84_of_100/model_85_of_100/model_86_of_100/model_87_of_100/model_88_of_100/model_89_of_100/model_90_of_100/model_91_of_100\n",
            "save_path is /content/drive/MyDrive/academics/columbia/neural_networks/project/data/round_6/model_0_of_100/model_1_of_100/model_2_of_100/model_3_of_100/model_4_of_100/model_5_of_100/model_6_of_100/model_7_of_100/model_8_of_100/model_9_of_100/model_10_of_100/model_11_of_100/model_12_of_100/model_13_of_100/model_14_of_100/model_15_of_100/model_16_of_100/model_17_of_100/model_18_of_100/model_19_of_100/model_20_of_100/model_21_of_100/model_22_of_100/model_23_of_100/model_24_of_100/model_25_of_100/model_26_of_100/model_27_of_100/model_28_of_100/model_29_of_100/model_30_of_100/model_31_of_100/model_32_of_100/model_33_of_100/model_34_of_100/model_35_of_100/model_36_of_100/model_37_of_100/model_38_of_100/model_39_of_100/model_40_of_100/model_41_of_100/model_42_of_100/model_43_of_100/model_44_of_100/model_45_of_100/model_46_of_100/model_47_of_100/model_48_of_100/model_49_of_100/model_50_of_100/model_51_of_100/model_52_of_100/model_53_of_100/model_54_of_100/model_55_of_100/model_56_of_100/model_57_of_100/model_58_of_100/model_59_of_100/model_60_of_100/model_61_of_100/model_62_of_100/model_63_of_100/model_64_of_100/model_65_of_100/model_66_of_100/model_67_of_100/model_68_of_100/model_69_of_100/model_70_of_100/model_71_of_100/model_72_of_100/model_73_of_100/model_74_of_100/model_75_of_100/model_76_of_100/model_77_of_100/model_78_of_100/model_79_of_100/model_80_of_100/model_81_of_100/model_82_of_100/model_83_of_100/model_84_of_100/model_85_of_100/model_86_of_100/model_87_of_100/model_88_of_100/model_89_of_100/model_90_of_100/model_91_of_100.pth\n",
            "path /content/drive/MyDrive/academics/columbia/neural_networks/project/data/round_6/model_0_of_100/model_1_of_100/model_2_of_100/model_3_of_100/model_4_of_100/model_5_of_100/model_6_of_100/model_7_of_100/model_8_of_100/model_9_of_100/model_10_of_100/model_11_of_100/model_12_of_100/model_13_of_100/model_14_of_100/model_15_of_100/model_16_of_100/model_17_of_100/model_18_of_100/model_19_of_100/model_20_of_100/model_21_of_100/model_22_of_100/model_23_of_100/model_24_of_100/model_25_of_100/model_26_of_100/model_27_of_100/model_28_of_100/model_29_of_100/model_30_of_100/model_31_of_100/model_32_of_100/model_33_of_100/model_34_of_100/model_35_of_100/model_36_of_100/model_37_of_100/model_38_of_100/model_39_of_100/model_40_of_100/model_41_of_100/model_42_of_100/model_43_of_100/model_44_of_100/model_45_of_100/model_46_of_100/model_47_of_100/model_48_of_100/model_49_of_100/model_50_of_100/model_51_of_100/model_52_of_100/model_53_of_100/model_54_of_100/model_55_of_100/model_56_of_100/model_57_of_100/model_58_of_100/model_59_of_100/model_60_of_100/model_61_of_100/model_62_of_100/model_63_of_100/model_64_of_100/model_65_of_100/model_66_of_100/model_67_of_100/model_68_of_100/model_69_of_100/model_70_of_100/model_71_of_100/model_72_of_100/model_73_of_100/model_74_of_100/model_75_of_100/model_76_of_100/model_77_of_100/model_78_of_100/model_79_of_100/model_80_of_100/model_81_of_100/model_82_of_100/model_83_of_100/model_84_of_100/model_85_of_100/model_86_of_100/model_87_of_100/model_88_of_100/model_89_of_100/model_90_of_100/model_91_of_100.pth already saved to. SKIPPING.\n",
            "91\n",
            "{'save_path': '/content/drive/MyDrive/academics/columbia/neural_networks/project/data/round_6/model_0_of_100/model_1_of_100/model_2_of_100/model_3_of_100/model_4_of_100/model_5_of_100/model_6_of_100/model_7_of_100/model_8_of_100/model_9_of_100/model_10_of_100/model_11_of_100/model_12_of_100/model_13_of_100/model_14_of_100/model_15_of_100/model_16_of_100/model_17_of_100/model_18_of_100/model_19_of_100/model_20_of_100/model_21_of_100/model_22_of_100/model_23_of_100/model_24_of_100/model_25_of_100/model_26_of_100/model_27_of_100/model_28_of_100/model_29_of_100/model_30_of_100/model_31_of_100/model_32_of_100/model_33_of_100/model_34_of_100/model_35_of_100/model_36_of_100/model_37_of_100/model_38_of_100/model_39_of_100/model_40_of_100/model_41_of_100/model_42_of_100/model_43_of_100/model_44_of_100/model_45_of_100/model_46_of_100/model_47_of_100/model_48_of_100/model_49_of_100/model_50_of_100/model_51_of_100/model_52_of_100/model_53_of_100/model_54_of_100/model_55_of_100/model_56_of_100/model_57_of_100/model_58_of_100/model_59_of_100/model_60_of_100/model_61_of_100/model_62_of_100/model_63_of_100/model_64_of_100/model_65_of_100/model_66_of_100/model_67_of_100/model_68_of_100/model_69_of_100/model_70_of_100/model_71_of_100/model_72_of_100/model_73_of_100/model_74_of_100/model_75_of_100/model_76_of_100/model_77_of_100/model_78_of_100/model_79_of_100/model_80_of_100/model_81_of_100/model_82_of_100/model_83_of_100/model_84_of_100/model_85_of_100/model_86_of_100/model_87_of_100/model_88_of_100/model_89_of_100/model_90_of_100/model_91_of_100.pth', 'history': None, 'model_name': 'model_91_of_100'}\n",
            "Model training took 0:00:00.760518\n",
            "model_92_of_100\n",
            "tensorboard path is /content/drive/MyDrive/academics/columbia/neural_networks/project/data/round_6/model_0_of_100/model_1_of_100/model_2_of_100/model_3_of_100/model_4_of_100/model_5_of_100/model_6_of_100/model_7_of_100/model_8_of_100/model_9_of_100/model_10_of_100/model_11_of_100/model_12_of_100/model_13_of_100/model_14_of_100/model_15_of_100/model_16_of_100/model_17_of_100/model_18_of_100/model_19_of_100/model_20_of_100/model_21_of_100/model_22_of_100/model_23_of_100/model_24_of_100/model_25_of_100/model_26_of_100/model_27_of_100/model_28_of_100/model_29_of_100/model_30_of_100/model_31_of_100/model_32_of_100/model_33_of_100/model_34_of_100/model_35_of_100/model_36_of_100/model_37_of_100/model_38_of_100/model_39_of_100/model_40_of_100/model_41_of_100/model_42_of_100/model_43_of_100/model_44_of_100/model_45_of_100/model_46_of_100/model_47_of_100/model_48_of_100/model_49_of_100/model_50_of_100/model_51_of_100/model_52_of_100/model_53_of_100/model_54_of_100/model_55_of_100/model_56_of_100/model_57_of_100/model_58_of_100/model_59_of_100/model_60_of_100/model_61_of_100/model_62_of_100/model_63_of_100/model_64_of_100/model_65_of_100/model_66_of_100/model_67_of_100/model_68_of_100/model_69_of_100/model_70_of_100/model_71_of_100/model_72_of_100/model_73_of_100/model_74_of_100/model_75_of_100/model_76_of_100/model_77_of_100/model_78_of_100/model_79_of_100/model_80_of_100/model_81_of_100/model_82_of_100/model_83_of_100/model_84_of_100/model_85_of_100/model_86_of_100/model_87_of_100/model_88_of_100/model_89_of_100/model_90_of_100/model_91_of_100/model_92_of_100\n",
            "save_path is /content/drive/MyDrive/academics/columbia/neural_networks/project/data/round_6/model_0_of_100/model_1_of_100/model_2_of_100/model_3_of_100/model_4_of_100/model_5_of_100/model_6_of_100/model_7_of_100/model_8_of_100/model_9_of_100/model_10_of_100/model_11_of_100/model_12_of_100/model_13_of_100/model_14_of_100/model_15_of_100/model_16_of_100/model_17_of_100/model_18_of_100/model_19_of_100/model_20_of_100/model_21_of_100/model_22_of_100/model_23_of_100/model_24_of_100/model_25_of_100/model_26_of_100/model_27_of_100/model_28_of_100/model_29_of_100/model_30_of_100/model_31_of_100/model_32_of_100/model_33_of_100/model_34_of_100/model_35_of_100/model_36_of_100/model_37_of_100/model_38_of_100/model_39_of_100/model_40_of_100/model_41_of_100/model_42_of_100/model_43_of_100/model_44_of_100/model_45_of_100/model_46_of_100/model_47_of_100/model_48_of_100/model_49_of_100/model_50_of_100/model_51_of_100/model_52_of_100/model_53_of_100/model_54_of_100/model_55_of_100/model_56_of_100/model_57_of_100/model_58_of_100/model_59_of_100/model_60_of_100/model_61_of_100/model_62_of_100/model_63_of_100/model_64_of_100/model_65_of_100/model_66_of_100/model_67_of_100/model_68_of_100/model_69_of_100/model_70_of_100/model_71_of_100/model_72_of_100/model_73_of_100/model_74_of_100/model_75_of_100/model_76_of_100/model_77_of_100/model_78_of_100/model_79_of_100/model_80_of_100/model_81_of_100/model_82_of_100/model_83_of_100/model_84_of_100/model_85_of_100/model_86_of_100/model_87_of_100/model_88_of_100/model_89_of_100/model_90_of_100/model_91_of_100/model_92_of_100.pth\n",
            "path /content/drive/MyDrive/academics/columbia/neural_networks/project/data/round_6/model_0_of_100/model_1_of_100/model_2_of_100/model_3_of_100/model_4_of_100/model_5_of_100/model_6_of_100/model_7_of_100/model_8_of_100/model_9_of_100/model_10_of_100/model_11_of_100/model_12_of_100/model_13_of_100/model_14_of_100/model_15_of_100/model_16_of_100/model_17_of_100/model_18_of_100/model_19_of_100/model_20_of_100/model_21_of_100/model_22_of_100/model_23_of_100/model_24_of_100/model_25_of_100/model_26_of_100/model_27_of_100/model_28_of_100/model_29_of_100/model_30_of_100/model_31_of_100/model_32_of_100/model_33_of_100/model_34_of_100/model_35_of_100/model_36_of_100/model_37_of_100/model_38_of_100/model_39_of_100/model_40_of_100/model_41_of_100/model_42_of_100/model_43_of_100/model_44_of_100/model_45_of_100/model_46_of_100/model_47_of_100/model_48_of_100/model_49_of_100/model_50_of_100/model_51_of_100/model_52_of_100/model_53_of_100/model_54_of_100/model_55_of_100/model_56_of_100/model_57_of_100/model_58_of_100/model_59_of_100/model_60_of_100/model_61_of_100/model_62_of_100/model_63_of_100/model_64_of_100/model_65_of_100/model_66_of_100/model_67_of_100/model_68_of_100/model_69_of_100/model_70_of_100/model_71_of_100/model_72_of_100/model_73_of_100/model_74_of_100/model_75_of_100/model_76_of_100/model_77_of_100/model_78_of_100/model_79_of_100/model_80_of_100/model_81_of_100/model_82_of_100/model_83_of_100/model_84_of_100/model_85_of_100/model_86_of_100/model_87_of_100/model_88_of_100/model_89_of_100/model_90_of_100/model_91_of_100/model_92_of_100.pth already saved to. SKIPPING.\n",
            "92\n",
            "{'save_path': '/content/drive/MyDrive/academics/columbia/neural_networks/project/data/round_6/model_0_of_100/model_1_of_100/model_2_of_100/model_3_of_100/model_4_of_100/model_5_of_100/model_6_of_100/model_7_of_100/model_8_of_100/model_9_of_100/model_10_of_100/model_11_of_100/model_12_of_100/model_13_of_100/model_14_of_100/model_15_of_100/model_16_of_100/model_17_of_100/model_18_of_100/model_19_of_100/model_20_of_100/model_21_of_100/model_22_of_100/model_23_of_100/model_24_of_100/model_25_of_100/model_26_of_100/model_27_of_100/model_28_of_100/model_29_of_100/model_30_of_100/model_31_of_100/model_32_of_100/model_33_of_100/model_34_of_100/model_35_of_100/model_36_of_100/model_37_of_100/model_38_of_100/model_39_of_100/model_40_of_100/model_41_of_100/model_42_of_100/model_43_of_100/model_44_of_100/model_45_of_100/model_46_of_100/model_47_of_100/model_48_of_100/model_49_of_100/model_50_of_100/model_51_of_100/model_52_of_100/model_53_of_100/model_54_of_100/model_55_of_100/model_56_of_100/model_57_of_100/model_58_of_100/model_59_of_100/model_60_of_100/model_61_of_100/model_62_of_100/model_63_of_100/model_64_of_100/model_65_of_100/model_66_of_100/model_67_of_100/model_68_of_100/model_69_of_100/model_70_of_100/model_71_of_100/model_72_of_100/model_73_of_100/model_74_of_100/model_75_of_100/model_76_of_100/model_77_of_100/model_78_of_100/model_79_of_100/model_80_of_100/model_81_of_100/model_82_of_100/model_83_of_100/model_84_of_100/model_85_of_100/model_86_of_100/model_87_of_100/model_88_of_100/model_89_of_100/model_90_of_100/model_91_of_100/model_92_of_100.pth', 'history': None, 'model_name': 'model_92_of_100'}\n",
            "Model training took 0:00:00.335094\n",
            "model_93_of_100\n",
            "tensorboard path is /content/drive/MyDrive/academics/columbia/neural_networks/project/data/round_6/model_0_of_100/model_1_of_100/model_2_of_100/model_3_of_100/model_4_of_100/model_5_of_100/model_6_of_100/model_7_of_100/model_8_of_100/model_9_of_100/model_10_of_100/model_11_of_100/model_12_of_100/model_13_of_100/model_14_of_100/model_15_of_100/model_16_of_100/model_17_of_100/model_18_of_100/model_19_of_100/model_20_of_100/model_21_of_100/model_22_of_100/model_23_of_100/model_24_of_100/model_25_of_100/model_26_of_100/model_27_of_100/model_28_of_100/model_29_of_100/model_30_of_100/model_31_of_100/model_32_of_100/model_33_of_100/model_34_of_100/model_35_of_100/model_36_of_100/model_37_of_100/model_38_of_100/model_39_of_100/model_40_of_100/model_41_of_100/model_42_of_100/model_43_of_100/model_44_of_100/model_45_of_100/model_46_of_100/model_47_of_100/model_48_of_100/model_49_of_100/model_50_of_100/model_51_of_100/model_52_of_100/model_53_of_100/model_54_of_100/model_55_of_100/model_56_of_100/model_57_of_100/model_58_of_100/model_59_of_100/model_60_of_100/model_61_of_100/model_62_of_100/model_63_of_100/model_64_of_100/model_65_of_100/model_66_of_100/model_67_of_100/model_68_of_100/model_69_of_100/model_70_of_100/model_71_of_100/model_72_of_100/model_73_of_100/model_74_of_100/model_75_of_100/model_76_of_100/model_77_of_100/model_78_of_100/model_79_of_100/model_80_of_100/model_81_of_100/model_82_of_100/model_83_of_100/model_84_of_100/model_85_of_100/model_86_of_100/model_87_of_100/model_88_of_100/model_89_of_100/model_90_of_100/model_91_of_100/model_92_of_100/model_93_of_100\n",
            "save_path is /content/drive/MyDrive/academics/columbia/neural_networks/project/data/round_6/model_0_of_100/model_1_of_100/model_2_of_100/model_3_of_100/model_4_of_100/model_5_of_100/model_6_of_100/model_7_of_100/model_8_of_100/model_9_of_100/model_10_of_100/model_11_of_100/model_12_of_100/model_13_of_100/model_14_of_100/model_15_of_100/model_16_of_100/model_17_of_100/model_18_of_100/model_19_of_100/model_20_of_100/model_21_of_100/model_22_of_100/model_23_of_100/model_24_of_100/model_25_of_100/model_26_of_100/model_27_of_100/model_28_of_100/model_29_of_100/model_30_of_100/model_31_of_100/model_32_of_100/model_33_of_100/model_34_of_100/model_35_of_100/model_36_of_100/model_37_of_100/model_38_of_100/model_39_of_100/model_40_of_100/model_41_of_100/model_42_of_100/model_43_of_100/model_44_of_100/model_45_of_100/model_46_of_100/model_47_of_100/model_48_of_100/model_49_of_100/model_50_of_100/model_51_of_100/model_52_of_100/model_53_of_100/model_54_of_100/model_55_of_100/model_56_of_100/model_57_of_100/model_58_of_100/model_59_of_100/model_60_of_100/model_61_of_100/model_62_of_100/model_63_of_100/model_64_of_100/model_65_of_100/model_66_of_100/model_67_of_100/model_68_of_100/model_69_of_100/model_70_of_100/model_71_of_100/model_72_of_100/model_73_of_100/model_74_of_100/model_75_of_100/model_76_of_100/model_77_of_100/model_78_of_100/model_79_of_100/model_80_of_100/model_81_of_100/model_82_of_100/model_83_of_100/model_84_of_100/model_85_of_100/model_86_of_100/model_87_of_100/model_88_of_100/model_89_of_100/model_90_of_100/model_91_of_100/model_92_of_100/model_93_of_100.pth\n",
            "path /content/drive/MyDrive/academics/columbia/neural_networks/project/data/round_6/model_0_of_100/model_1_of_100/model_2_of_100/model_3_of_100/model_4_of_100/model_5_of_100/model_6_of_100/model_7_of_100/model_8_of_100/model_9_of_100/model_10_of_100/model_11_of_100/model_12_of_100/model_13_of_100/model_14_of_100/model_15_of_100/model_16_of_100/model_17_of_100/model_18_of_100/model_19_of_100/model_20_of_100/model_21_of_100/model_22_of_100/model_23_of_100/model_24_of_100/model_25_of_100/model_26_of_100/model_27_of_100/model_28_of_100/model_29_of_100/model_30_of_100/model_31_of_100/model_32_of_100/model_33_of_100/model_34_of_100/model_35_of_100/model_36_of_100/model_37_of_100/model_38_of_100/model_39_of_100/model_40_of_100/model_41_of_100/model_42_of_100/model_43_of_100/model_44_of_100/model_45_of_100/model_46_of_100/model_47_of_100/model_48_of_100/model_49_of_100/model_50_of_100/model_51_of_100/model_52_of_100/model_53_of_100/model_54_of_100/model_55_of_100/model_56_of_100/model_57_of_100/model_58_of_100/model_59_of_100/model_60_of_100/model_61_of_100/model_62_of_100/model_63_of_100/model_64_of_100/model_65_of_100/model_66_of_100/model_67_of_100/model_68_of_100/model_69_of_100/model_70_of_100/model_71_of_100/model_72_of_100/model_73_of_100/model_74_of_100/model_75_of_100/model_76_of_100/model_77_of_100/model_78_of_100/model_79_of_100/model_80_of_100/model_81_of_100/model_82_of_100/model_83_of_100/model_84_of_100/model_85_of_100/model_86_of_100/model_87_of_100/model_88_of_100/model_89_of_100/model_90_of_100/model_91_of_100/model_92_of_100/model_93_of_100.pth already saved to. SKIPPING.\n",
            "93\n",
            "{'save_path': '/content/drive/MyDrive/academics/columbia/neural_networks/project/data/round_6/model_0_of_100/model_1_of_100/model_2_of_100/model_3_of_100/model_4_of_100/model_5_of_100/model_6_of_100/model_7_of_100/model_8_of_100/model_9_of_100/model_10_of_100/model_11_of_100/model_12_of_100/model_13_of_100/model_14_of_100/model_15_of_100/model_16_of_100/model_17_of_100/model_18_of_100/model_19_of_100/model_20_of_100/model_21_of_100/model_22_of_100/model_23_of_100/model_24_of_100/model_25_of_100/model_26_of_100/model_27_of_100/model_28_of_100/model_29_of_100/model_30_of_100/model_31_of_100/model_32_of_100/model_33_of_100/model_34_of_100/model_35_of_100/model_36_of_100/model_37_of_100/model_38_of_100/model_39_of_100/model_40_of_100/model_41_of_100/model_42_of_100/model_43_of_100/model_44_of_100/model_45_of_100/model_46_of_100/model_47_of_100/model_48_of_100/model_49_of_100/model_50_of_100/model_51_of_100/model_52_of_100/model_53_of_100/model_54_of_100/model_55_of_100/model_56_of_100/model_57_of_100/model_58_of_100/model_59_of_100/model_60_of_100/model_61_of_100/model_62_of_100/model_63_of_100/model_64_of_100/model_65_of_100/model_66_of_100/model_67_of_100/model_68_of_100/model_69_of_100/model_70_of_100/model_71_of_100/model_72_of_100/model_73_of_100/model_74_of_100/model_75_of_100/model_76_of_100/model_77_of_100/model_78_of_100/model_79_of_100/model_80_of_100/model_81_of_100/model_82_of_100/model_83_of_100/model_84_of_100/model_85_of_100/model_86_of_100/model_87_of_100/model_88_of_100/model_89_of_100/model_90_of_100/model_91_of_100/model_92_of_100/model_93_of_100.pth', 'history': None, 'model_name': 'model_93_of_100'}\n",
            "Model training took 0:00:00.263189\n",
            "model_94_of_100\n",
            "tensorboard path is /content/drive/MyDrive/academics/columbia/neural_networks/project/data/round_6/model_0_of_100/model_1_of_100/model_2_of_100/model_3_of_100/model_4_of_100/model_5_of_100/model_6_of_100/model_7_of_100/model_8_of_100/model_9_of_100/model_10_of_100/model_11_of_100/model_12_of_100/model_13_of_100/model_14_of_100/model_15_of_100/model_16_of_100/model_17_of_100/model_18_of_100/model_19_of_100/model_20_of_100/model_21_of_100/model_22_of_100/model_23_of_100/model_24_of_100/model_25_of_100/model_26_of_100/model_27_of_100/model_28_of_100/model_29_of_100/model_30_of_100/model_31_of_100/model_32_of_100/model_33_of_100/model_34_of_100/model_35_of_100/model_36_of_100/model_37_of_100/model_38_of_100/model_39_of_100/model_40_of_100/model_41_of_100/model_42_of_100/model_43_of_100/model_44_of_100/model_45_of_100/model_46_of_100/model_47_of_100/model_48_of_100/model_49_of_100/model_50_of_100/model_51_of_100/model_52_of_100/model_53_of_100/model_54_of_100/model_55_of_100/model_56_of_100/model_57_of_100/model_58_of_100/model_59_of_100/model_60_of_100/model_61_of_100/model_62_of_100/model_63_of_100/model_64_of_100/model_65_of_100/model_66_of_100/model_67_of_100/model_68_of_100/model_69_of_100/model_70_of_100/model_71_of_100/model_72_of_100/model_73_of_100/model_74_of_100/model_75_of_100/model_76_of_100/model_77_of_100/model_78_of_100/model_79_of_100/model_80_of_100/model_81_of_100/model_82_of_100/model_83_of_100/model_84_of_100/model_85_of_100/model_86_of_100/model_87_of_100/model_88_of_100/model_89_of_100/model_90_of_100/model_91_of_100/model_92_of_100/model_93_of_100/model_94_of_100\n",
            "save_path is /content/drive/MyDrive/academics/columbia/neural_networks/project/data/round_6/model_0_of_100/model_1_of_100/model_2_of_100/model_3_of_100/model_4_of_100/model_5_of_100/model_6_of_100/model_7_of_100/model_8_of_100/model_9_of_100/model_10_of_100/model_11_of_100/model_12_of_100/model_13_of_100/model_14_of_100/model_15_of_100/model_16_of_100/model_17_of_100/model_18_of_100/model_19_of_100/model_20_of_100/model_21_of_100/model_22_of_100/model_23_of_100/model_24_of_100/model_25_of_100/model_26_of_100/model_27_of_100/model_28_of_100/model_29_of_100/model_30_of_100/model_31_of_100/model_32_of_100/model_33_of_100/model_34_of_100/model_35_of_100/model_36_of_100/model_37_of_100/model_38_of_100/model_39_of_100/model_40_of_100/model_41_of_100/model_42_of_100/model_43_of_100/model_44_of_100/model_45_of_100/model_46_of_100/model_47_of_100/model_48_of_100/model_49_of_100/model_50_of_100/model_51_of_100/model_52_of_100/model_53_of_100/model_54_of_100/model_55_of_100/model_56_of_100/model_57_of_100/model_58_of_100/model_59_of_100/model_60_of_100/model_61_of_100/model_62_of_100/model_63_of_100/model_64_of_100/model_65_of_100/model_66_of_100/model_67_of_100/model_68_of_100/model_69_of_100/model_70_of_100/model_71_of_100/model_72_of_100/model_73_of_100/model_74_of_100/model_75_of_100/model_76_of_100/model_77_of_100/model_78_of_100/model_79_of_100/model_80_of_100/model_81_of_100/model_82_of_100/model_83_of_100/model_84_of_100/model_85_of_100/model_86_of_100/model_87_of_100/model_88_of_100/model_89_of_100/model_90_of_100/model_91_of_100/model_92_of_100/model_93_of_100/model_94_of_100.pth\n",
            "path /content/drive/MyDrive/academics/columbia/neural_networks/project/data/round_6/model_0_of_100/model_1_of_100/model_2_of_100/model_3_of_100/model_4_of_100/model_5_of_100/model_6_of_100/model_7_of_100/model_8_of_100/model_9_of_100/model_10_of_100/model_11_of_100/model_12_of_100/model_13_of_100/model_14_of_100/model_15_of_100/model_16_of_100/model_17_of_100/model_18_of_100/model_19_of_100/model_20_of_100/model_21_of_100/model_22_of_100/model_23_of_100/model_24_of_100/model_25_of_100/model_26_of_100/model_27_of_100/model_28_of_100/model_29_of_100/model_30_of_100/model_31_of_100/model_32_of_100/model_33_of_100/model_34_of_100/model_35_of_100/model_36_of_100/model_37_of_100/model_38_of_100/model_39_of_100/model_40_of_100/model_41_of_100/model_42_of_100/model_43_of_100/model_44_of_100/model_45_of_100/model_46_of_100/model_47_of_100/model_48_of_100/model_49_of_100/model_50_of_100/model_51_of_100/model_52_of_100/model_53_of_100/model_54_of_100/model_55_of_100/model_56_of_100/model_57_of_100/model_58_of_100/model_59_of_100/model_60_of_100/model_61_of_100/model_62_of_100/model_63_of_100/model_64_of_100/model_65_of_100/model_66_of_100/model_67_of_100/model_68_of_100/model_69_of_100/model_70_of_100/model_71_of_100/model_72_of_100/model_73_of_100/model_74_of_100/model_75_of_100/model_76_of_100/model_77_of_100/model_78_of_100/model_79_of_100/model_80_of_100/model_81_of_100/model_82_of_100/model_83_of_100/model_84_of_100/model_85_of_100/model_86_of_100/model_87_of_100/model_88_of_100/model_89_of_100/model_90_of_100/model_91_of_100/model_92_of_100/model_93_of_100/model_94_of_100.pth already saved to. SKIPPING.\n",
            "94\n",
            "{'save_path': '/content/drive/MyDrive/academics/columbia/neural_networks/project/data/round_6/model_0_of_100/model_1_of_100/model_2_of_100/model_3_of_100/model_4_of_100/model_5_of_100/model_6_of_100/model_7_of_100/model_8_of_100/model_9_of_100/model_10_of_100/model_11_of_100/model_12_of_100/model_13_of_100/model_14_of_100/model_15_of_100/model_16_of_100/model_17_of_100/model_18_of_100/model_19_of_100/model_20_of_100/model_21_of_100/model_22_of_100/model_23_of_100/model_24_of_100/model_25_of_100/model_26_of_100/model_27_of_100/model_28_of_100/model_29_of_100/model_30_of_100/model_31_of_100/model_32_of_100/model_33_of_100/model_34_of_100/model_35_of_100/model_36_of_100/model_37_of_100/model_38_of_100/model_39_of_100/model_40_of_100/model_41_of_100/model_42_of_100/model_43_of_100/model_44_of_100/model_45_of_100/model_46_of_100/model_47_of_100/model_48_of_100/model_49_of_100/model_50_of_100/model_51_of_100/model_52_of_100/model_53_of_100/model_54_of_100/model_55_of_100/model_56_of_100/model_57_of_100/model_58_of_100/model_59_of_100/model_60_of_100/model_61_of_100/model_62_of_100/model_63_of_100/model_64_of_100/model_65_of_100/model_66_of_100/model_67_of_100/model_68_of_100/model_69_of_100/model_70_of_100/model_71_of_100/model_72_of_100/model_73_of_100/model_74_of_100/model_75_of_100/model_76_of_100/model_77_of_100/model_78_of_100/model_79_of_100/model_80_of_100/model_81_of_100/model_82_of_100/model_83_of_100/model_84_of_100/model_85_of_100/model_86_of_100/model_87_of_100/model_88_of_100/model_89_of_100/model_90_of_100/model_91_of_100/model_92_of_100/model_93_of_100/model_94_of_100.pth', 'history': None, 'model_name': 'model_94_of_100'}\n",
            "Model training took 0:00:00.297406\n",
            "model_95_of_100\n",
            "tensorboard path is /content/drive/MyDrive/academics/columbia/neural_networks/project/data/round_6/model_0_of_100/model_1_of_100/model_2_of_100/model_3_of_100/model_4_of_100/model_5_of_100/model_6_of_100/model_7_of_100/model_8_of_100/model_9_of_100/model_10_of_100/model_11_of_100/model_12_of_100/model_13_of_100/model_14_of_100/model_15_of_100/model_16_of_100/model_17_of_100/model_18_of_100/model_19_of_100/model_20_of_100/model_21_of_100/model_22_of_100/model_23_of_100/model_24_of_100/model_25_of_100/model_26_of_100/model_27_of_100/model_28_of_100/model_29_of_100/model_30_of_100/model_31_of_100/model_32_of_100/model_33_of_100/model_34_of_100/model_35_of_100/model_36_of_100/model_37_of_100/model_38_of_100/model_39_of_100/model_40_of_100/model_41_of_100/model_42_of_100/model_43_of_100/model_44_of_100/model_45_of_100/model_46_of_100/model_47_of_100/model_48_of_100/model_49_of_100/model_50_of_100/model_51_of_100/model_52_of_100/model_53_of_100/model_54_of_100/model_55_of_100/model_56_of_100/model_57_of_100/model_58_of_100/model_59_of_100/model_60_of_100/model_61_of_100/model_62_of_100/model_63_of_100/model_64_of_100/model_65_of_100/model_66_of_100/model_67_of_100/model_68_of_100/model_69_of_100/model_70_of_100/model_71_of_100/model_72_of_100/model_73_of_100/model_74_of_100/model_75_of_100/model_76_of_100/model_77_of_100/model_78_of_100/model_79_of_100/model_80_of_100/model_81_of_100/model_82_of_100/model_83_of_100/model_84_of_100/model_85_of_100/model_86_of_100/model_87_of_100/model_88_of_100/model_89_of_100/model_90_of_100/model_91_of_100/model_92_of_100/model_93_of_100/model_94_of_100/model_95_of_100\n",
            "save_path is /content/drive/MyDrive/academics/columbia/neural_networks/project/data/round_6/model_0_of_100/model_1_of_100/model_2_of_100/model_3_of_100/model_4_of_100/model_5_of_100/model_6_of_100/model_7_of_100/model_8_of_100/model_9_of_100/model_10_of_100/model_11_of_100/model_12_of_100/model_13_of_100/model_14_of_100/model_15_of_100/model_16_of_100/model_17_of_100/model_18_of_100/model_19_of_100/model_20_of_100/model_21_of_100/model_22_of_100/model_23_of_100/model_24_of_100/model_25_of_100/model_26_of_100/model_27_of_100/model_28_of_100/model_29_of_100/model_30_of_100/model_31_of_100/model_32_of_100/model_33_of_100/model_34_of_100/model_35_of_100/model_36_of_100/model_37_of_100/model_38_of_100/model_39_of_100/model_40_of_100/model_41_of_100/model_42_of_100/model_43_of_100/model_44_of_100/model_45_of_100/model_46_of_100/model_47_of_100/model_48_of_100/model_49_of_100/model_50_of_100/model_51_of_100/model_52_of_100/model_53_of_100/model_54_of_100/model_55_of_100/model_56_of_100/model_57_of_100/model_58_of_100/model_59_of_100/model_60_of_100/model_61_of_100/model_62_of_100/model_63_of_100/model_64_of_100/model_65_of_100/model_66_of_100/model_67_of_100/model_68_of_100/model_69_of_100/model_70_of_100/model_71_of_100/model_72_of_100/model_73_of_100/model_74_of_100/model_75_of_100/model_76_of_100/model_77_of_100/model_78_of_100/model_79_of_100/model_80_of_100/model_81_of_100/model_82_of_100/model_83_of_100/model_84_of_100/model_85_of_100/model_86_of_100/model_87_of_100/model_88_of_100/model_89_of_100/model_90_of_100/model_91_of_100/model_92_of_100/model_93_of_100/model_94_of_100/model_95_of_100.pth\n",
            "path /content/drive/MyDrive/academics/columbia/neural_networks/project/data/round_6/model_0_of_100/model_1_of_100/model_2_of_100/model_3_of_100/model_4_of_100/model_5_of_100/model_6_of_100/model_7_of_100/model_8_of_100/model_9_of_100/model_10_of_100/model_11_of_100/model_12_of_100/model_13_of_100/model_14_of_100/model_15_of_100/model_16_of_100/model_17_of_100/model_18_of_100/model_19_of_100/model_20_of_100/model_21_of_100/model_22_of_100/model_23_of_100/model_24_of_100/model_25_of_100/model_26_of_100/model_27_of_100/model_28_of_100/model_29_of_100/model_30_of_100/model_31_of_100/model_32_of_100/model_33_of_100/model_34_of_100/model_35_of_100/model_36_of_100/model_37_of_100/model_38_of_100/model_39_of_100/model_40_of_100/model_41_of_100/model_42_of_100/model_43_of_100/model_44_of_100/model_45_of_100/model_46_of_100/model_47_of_100/model_48_of_100/model_49_of_100/model_50_of_100/model_51_of_100/model_52_of_100/model_53_of_100/model_54_of_100/model_55_of_100/model_56_of_100/model_57_of_100/model_58_of_100/model_59_of_100/model_60_of_100/model_61_of_100/model_62_of_100/model_63_of_100/model_64_of_100/model_65_of_100/model_66_of_100/model_67_of_100/model_68_of_100/model_69_of_100/model_70_of_100/model_71_of_100/model_72_of_100/model_73_of_100/model_74_of_100/model_75_of_100/model_76_of_100/model_77_of_100/model_78_of_100/model_79_of_100/model_80_of_100/model_81_of_100/model_82_of_100/model_83_of_100/model_84_of_100/model_85_of_100/model_86_of_100/model_87_of_100/model_88_of_100/model_89_of_100/model_90_of_100/model_91_of_100/model_92_of_100/model_93_of_100/model_94_of_100/model_95_of_100.pth already saved to. SKIPPING.\n",
            "95\n",
            "{'save_path': '/content/drive/MyDrive/academics/columbia/neural_networks/project/data/round_6/model_0_of_100/model_1_of_100/model_2_of_100/model_3_of_100/model_4_of_100/model_5_of_100/model_6_of_100/model_7_of_100/model_8_of_100/model_9_of_100/model_10_of_100/model_11_of_100/model_12_of_100/model_13_of_100/model_14_of_100/model_15_of_100/model_16_of_100/model_17_of_100/model_18_of_100/model_19_of_100/model_20_of_100/model_21_of_100/model_22_of_100/model_23_of_100/model_24_of_100/model_25_of_100/model_26_of_100/model_27_of_100/model_28_of_100/model_29_of_100/model_30_of_100/model_31_of_100/model_32_of_100/model_33_of_100/model_34_of_100/model_35_of_100/model_36_of_100/model_37_of_100/model_38_of_100/model_39_of_100/model_40_of_100/model_41_of_100/model_42_of_100/model_43_of_100/model_44_of_100/model_45_of_100/model_46_of_100/model_47_of_100/model_48_of_100/model_49_of_100/model_50_of_100/model_51_of_100/model_52_of_100/model_53_of_100/model_54_of_100/model_55_of_100/model_56_of_100/model_57_of_100/model_58_of_100/model_59_of_100/model_60_of_100/model_61_of_100/model_62_of_100/model_63_of_100/model_64_of_100/model_65_of_100/model_66_of_100/model_67_of_100/model_68_of_100/model_69_of_100/model_70_of_100/model_71_of_100/model_72_of_100/model_73_of_100/model_74_of_100/model_75_of_100/model_76_of_100/model_77_of_100/model_78_of_100/model_79_of_100/model_80_of_100/model_81_of_100/model_82_of_100/model_83_of_100/model_84_of_100/model_85_of_100/model_86_of_100/model_87_of_100/model_88_of_100/model_89_of_100/model_90_of_100/model_91_of_100/model_92_of_100/model_93_of_100/model_94_of_100/model_95_of_100.pth', 'history': None, 'model_name': 'model_95_of_100'}\n",
            "Model training took 0:00:00.305757\n",
            "model_96_of_100\n",
            "tensorboard path is /content/drive/MyDrive/academics/columbia/neural_networks/project/data/round_6/model_0_of_100/model_1_of_100/model_2_of_100/model_3_of_100/model_4_of_100/model_5_of_100/model_6_of_100/model_7_of_100/model_8_of_100/model_9_of_100/model_10_of_100/model_11_of_100/model_12_of_100/model_13_of_100/model_14_of_100/model_15_of_100/model_16_of_100/model_17_of_100/model_18_of_100/model_19_of_100/model_20_of_100/model_21_of_100/model_22_of_100/model_23_of_100/model_24_of_100/model_25_of_100/model_26_of_100/model_27_of_100/model_28_of_100/model_29_of_100/model_30_of_100/model_31_of_100/model_32_of_100/model_33_of_100/model_34_of_100/model_35_of_100/model_36_of_100/model_37_of_100/model_38_of_100/model_39_of_100/model_40_of_100/model_41_of_100/model_42_of_100/model_43_of_100/model_44_of_100/model_45_of_100/model_46_of_100/model_47_of_100/model_48_of_100/model_49_of_100/model_50_of_100/model_51_of_100/model_52_of_100/model_53_of_100/model_54_of_100/model_55_of_100/model_56_of_100/model_57_of_100/model_58_of_100/model_59_of_100/model_60_of_100/model_61_of_100/model_62_of_100/model_63_of_100/model_64_of_100/model_65_of_100/model_66_of_100/model_67_of_100/model_68_of_100/model_69_of_100/model_70_of_100/model_71_of_100/model_72_of_100/model_73_of_100/model_74_of_100/model_75_of_100/model_76_of_100/model_77_of_100/model_78_of_100/model_79_of_100/model_80_of_100/model_81_of_100/model_82_of_100/model_83_of_100/model_84_of_100/model_85_of_100/model_86_of_100/model_87_of_100/model_88_of_100/model_89_of_100/model_90_of_100/model_91_of_100/model_92_of_100/model_93_of_100/model_94_of_100/model_95_of_100/model_96_of_100\n",
            "save_path is /content/drive/MyDrive/academics/columbia/neural_networks/project/data/round_6/model_0_of_100/model_1_of_100/model_2_of_100/model_3_of_100/model_4_of_100/model_5_of_100/model_6_of_100/model_7_of_100/model_8_of_100/model_9_of_100/model_10_of_100/model_11_of_100/model_12_of_100/model_13_of_100/model_14_of_100/model_15_of_100/model_16_of_100/model_17_of_100/model_18_of_100/model_19_of_100/model_20_of_100/model_21_of_100/model_22_of_100/model_23_of_100/model_24_of_100/model_25_of_100/model_26_of_100/model_27_of_100/model_28_of_100/model_29_of_100/model_30_of_100/model_31_of_100/model_32_of_100/model_33_of_100/model_34_of_100/model_35_of_100/model_36_of_100/model_37_of_100/model_38_of_100/model_39_of_100/model_40_of_100/model_41_of_100/model_42_of_100/model_43_of_100/model_44_of_100/model_45_of_100/model_46_of_100/model_47_of_100/model_48_of_100/model_49_of_100/model_50_of_100/model_51_of_100/model_52_of_100/model_53_of_100/model_54_of_100/model_55_of_100/model_56_of_100/model_57_of_100/model_58_of_100/model_59_of_100/model_60_of_100/model_61_of_100/model_62_of_100/model_63_of_100/model_64_of_100/model_65_of_100/model_66_of_100/model_67_of_100/model_68_of_100/model_69_of_100/model_70_of_100/model_71_of_100/model_72_of_100/model_73_of_100/model_74_of_100/model_75_of_100/model_76_of_100/model_77_of_100/model_78_of_100/model_79_of_100/model_80_of_100/model_81_of_100/model_82_of_100/model_83_of_100/model_84_of_100/model_85_of_100/model_86_of_100/model_87_of_100/model_88_of_100/model_89_of_100/model_90_of_100/model_91_of_100/model_92_of_100/model_93_of_100/model_94_of_100/model_95_of_100/model_96_of_100.pth\n",
            "path /content/drive/MyDrive/academics/columbia/neural_networks/project/data/round_6/model_0_of_100/model_1_of_100/model_2_of_100/model_3_of_100/model_4_of_100/model_5_of_100/model_6_of_100/model_7_of_100/model_8_of_100/model_9_of_100/model_10_of_100/model_11_of_100/model_12_of_100/model_13_of_100/model_14_of_100/model_15_of_100/model_16_of_100/model_17_of_100/model_18_of_100/model_19_of_100/model_20_of_100/model_21_of_100/model_22_of_100/model_23_of_100/model_24_of_100/model_25_of_100/model_26_of_100/model_27_of_100/model_28_of_100/model_29_of_100/model_30_of_100/model_31_of_100/model_32_of_100/model_33_of_100/model_34_of_100/model_35_of_100/model_36_of_100/model_37_of_100/model_38_of_100/model_39_of_100/model_40_of_100/model_41_of_100/model_42_of_100/model_43_of_100/model_44_of_100/model_45_of_100/model_46_of_100/model_47_of_100/model_48_of_100/model_49_of_100/model_50_of_100/model_51_of_100/model_52_of_100/model_53_of_100/model_54_of_100/model_55_of_100/model_56_of_100/model_57_of_100/model_58_of_100/model_59_of_100/model_60_of_100/model_61_of_100/model_62_of_100/model_63_of_100/model_64_of_100/model_65_of_100/model_66_of_100/model_67_of_100/model_68_of_100/model_69_of_100/model_70_of_100/model_71_of_100/model_72_of_100/model_73_of_100/model_74_of_100/model_75_of_100/model_76_of_100/model_77_of_100/model_78_of_100/model_79_of_100/model_80_of_100/model_81_of_100/model_82_of_100/model_83_of_100/model_84_of_100/model_85_of_100/model_86_of_100/model_87_of_100/model_88_of_100/model_89_of_100/model_90_of_100/model_91_of_100/model_92_of_100/model_93_of_100/model_94_of_100/model_95_of_100/model_96_of_100.pth already saved to. SKIPPING.\n",
            "96\n",
            "{'save_path': '/content/drive/MyDrive/academics/columbia/neural_networks/project/data/round_6/model_0_of_100/model_1_of_100/model_2_of_100/model_3_of_100/model_4_of_100/model_5_of_100/model_6_of_100/model_7_of_100/model_8_of_100/model_9_of_100/model_10_of_100/model_11_of_100/model_12_of_100/model_13_of_100/model_14_of_100/model_15_of_100/model_16_of_100/model_17_of_100/model_18_of_100/model_19_of_100/model_20_of_100/model_21_of_100/model_22_of_100/model_23_of_100/model_24_of_100/model_25_of_100/model_26_of_100/model_27_of_100/model_28_of_100/model_29_of_100/model_30_of_100/model_31_of_100/model_32_of_100/model_33_of_100/model_34_of_100/model_35_of_100/model_36_of_100/model_37_of_100/model_38_of_100/model_39_of_100/model_40_of_100/model_41_of_100/model_42_of_100/model_43_of_100/model_44_of_100/model_45_of_100/model_46_of_100/model_47_of_100/model_48_of_100/model_49_of_100/model_50_of_100/model_51_of_100/model_52_of_100/model_53_of_100/model_54_of_100/model_55_of_100/model_56_of_100/model_57_of_100/model_58_of_100/model_59_of_100/model_60_of_100/model_61_of_100/model_62_of_100/model_63_of_100/model_64_of_100/model_65_of_100/model_66_of_100/model_67_of_100/model_68_of_100/model_69_of_100/model_70_of_100/model_71_of_100/model_72_of_100/model_73_of_100/model_74_of_100/model_75_of_100/model_76_of_100/model_77_of_100/model_78_of_100/model_79_of_100/model_80_of_100/model_81_of_100/model_82_of_100/model_83_of_100/model_84_of_100/model_85_of_100/model_86_of_100/model_87_of_100/model_88_of_100/model_89_of_100/model_90_of_100/model_91_of_100/model_92_of_100/model_93_of_100/model_94_of_100/model_95_of_100/model_96_of_100.pth', 'history': None, 'model_name': 'model_96_of_100'}\n",
            "Model training took 0:00:00.257122\n",
            "model_97_of_100\n",
            "tensorboard path is /content/drive/MyDrive/academics/columbia/neural_networks/project/data/round_6/model_0_of_100/model_1_of_100/model_2_of_100/model_3_of_100/model_4_of_100/model_5_of_100/model_6_of_100/model_7_of_100/model_8_of_100/model_9_of_100/model_10_of_100/model_11_of_100/model_12_of_100/model_13_of_100/model_14_of_100/model_15_of_100/model_16_of_100/model_17_of_100/model_18_of_100/model_19_of_100/model_20_of_100/model_21_of_100/model_22_of_100/model_23_of_100/model_24_of_100/model_25_of_100/model_26_of_100/model_27_of_100/model_28_of_100/model_29_of_100/model_30_of_100/model_31_of_100/model_32_of_100/model_33_of_100/model_34_of_100/model_35_of_100/model_36_of_100/model_37_of_100/model_38_of_100/model_39_of_100/model_40_of_100/model_41_of_100/model_42_of_100/model_43_of_100/model_44_of_100/model_45_of_100/model_46_of_100/model_47_of_100/model_48_of_100/model_49_of_100/model_50_of_100/model_51_of_100/model_52_of_100/model_53_of_100/model_54_of_100/model_55_of_100/model_56_of_100/model_57_of_100/model_58_of_100/model_59_of_100/model_60_of_100/model_61_of_100/model_62_of_100/model_63_of_100/model_64_of_100/model_65_of_100/model_66_of_100/model_67_of_100/model_68_of_100/model_69_of_100/model_70_of_100/model_71_of_100/model_72_of_100/model_73_of_100/model_74_of_100/model_75_of_100/model_76_of_100/model_77_of_100/model_78_of_100/model_79_of_100/model_80_of_100/model_81_of_100/model_82_of_100/model_83_of_100/model_84_of_100/model_85_of_100/model_86_of_100/model_87_of_100/model_88_of_100/model_89_of_100/model_90_of_100/model_91_of_100/model_92_of_100/model_93_of_100/model_94_of_100/model_95_of_100/model_96_of_100/model_97_of_100\n",
            "save_path is /content/drive/MyDrive/academics/columbia/neural_networks/project/data/round_6/model_0_of_100/model_1_of_100/model_2_of_100/model_3_of_100/model_4_of_100/model_5_of_100/model_6_of_100/model_7_of_100/model_8_of_100/model_9_of_100/model_10_of_100/model_11_of_100/model_12_of_100/model_13_of_100/model_14_of_100/model_15_of_100/model_16_of_100/model_17_of_100/model_18_of_100/model_19_of_100/model_20_of_100/model_21_of_100/model_22_of_100/model_23_of_100/model_24_of_100/model_25_of_100/model_26_of_100/model_27_of_100/model_28_of_100/model_29_of_100/model_30_of_100/model_31_of_100/model_32_of_100/model_33_of_100/model_34_of_100/model_35_of_100/model_36_of_100/model_37_of_100/model_38_of_100/model_39_of_100/model_40_of_100/model_41_of_100/model_42_of_100/model_43_of_100/model_44_of_100/model_45_of_100/model_46_of_100/model_47_of_100/model_48_of_100/model_49_of_100/model_50_of_100/model_51_of_100/model_52_of_100/model_53_of_100/model_54_of_100/model_55_of_100/model_56_of_100/model_57_of_100/model_58_of_100/model_59_of_100/model_60_of_100/model_61_of_100/model_62_of_100/model_63_of_100/model_64_of_100/model_65_of_100/model_66_of_100/model_67_of_100/model_68_of_100/model_69_of_100/model_70_of_100/model_71_of_100/model_72_of_100/model_73_of_100/model_74_of_100/model_75_of_100/model_76_of_100/model_77_of_100/model_78_of_100/model_79_of_100/model_80_of_100/model_81_of_100/model_82_of_100/model_83_of_100/model_84_of_100/model_85_of_100/model_86_of_100/model_87_of_100/model_88_of_100/model_89_of_100/model_90_of_100/model_91_of_100/model_92_of_100/model_93_of_100/model_94_of_100/model_95_of_100/model_96_of_100/model_97_of_100.pth\n",
            "path /content/drive/MyDrive/academics/columbia/neural_networks/project/data/round_6/model_0_of_100/model_1_of_100/model_2_of_100/model_3_of_100/model_4_of_100/model_5_of_100/model_6_of_100/model_7_of_100/model_8_of_100/model_9_of_100/model_10_of_100/model_11_of_100/model_12_of_100/model_13_of_100/model_14_of_100/model_15_of_100/model_16_of_100/model_17_of_100/model_18_of_100/model_19_of_100/model_20_of_100/model_21_of_100/model_22_of_100/model_23_of_100/model_24_of_100/model_25_of_100/model_26_of_100/model_27_of_100/model_28_of_100/model_29_of_100/model_30_of_100/model_31_of_100/model_32_of_100/model_33_of_100/model_34_of_100/model_35_of_100/model_36_of_100/model_37_of_100/model_38_of_100/model_39_of_100/model_40_of_100/model_41_of_100/model_42_of_100/model_43_of_100/model_44_of_100/model_45_of_100/model_46_of_100/model_47_of_100/model_48_of_100/model_49_of_100/model_50_of_100/model_51_of_100/model_52_of_100/model_53_of_100/model_54_of_100/model_55_of_100/model_56_of_100/model_57_of_100/model_58_of_100/model_59_of_100/model_60_of_100/model_61_of_100/model_62_of_100/model_63_of_100/model_64_of_100/model_65_of_100/model_66_of_100/model_67_of_100/model_68_of_100/model_69_of_100/model_70_of_100/model_71_of_100/model_72_of_100/model_73_of_100/model_74_of_100/model_75_of_100/model_76_of_100/model_77_of_100/model_78_of_100/model_79_of_100/model_80_of_100/model_81_of_100/model_82_of_100/model_83_of_100/model_84_of_100/model_85_of_100/model_86_of_100/model_87_of_100/model_88_of_100/model_89_of_100/model_90_of_100/model_91_of_100/model_92_of_100/model_93_of_100/model_94_of_100/model_95_of_100/model_96_of_100/model_97_of_100.pth already saved to. SKIPPING.\n",
            "97\n",
            "{'save_path': '/content/drive/MyDrive/academics/columbia/neural_networks/project/data/round_6/model_0_of_100/model_1_of_100/model_2_of_100/model_3_of_100/model_4_of_100/model_5_of_100/model_6_of_100/model_7_of_100/model_8_of_100/model_9_of_100/model_10_of_100/model_11_of_100/model_12_of_100/model_13_of_100/model_14_of_100/model_15_of_100/model_16_of_100/model_17_of_100/model_18_of_100/model_19_of_100/model_20_of_100/model_21_of_100/model_22_of_100/model_23_of_100/model_24_of_100/model_25_of_100/model_26_of_100/model_27_of_100/model_28_of_100/model_29_of_100/model_30_of_100/model_31_of_100/model_32_of_100/model_33_of_100/model_34_of_100/model_35_of_100/model_36_of_100/model_37_of_100/model_38_of_100/model_39_of_100/model_40_of_100/model_41_of_100/model_42_of_100/model_43_of_100/model_44_of_100/model_45_of_100/model_46_of_100/model_47_of_100/model_48_of_100/model_49_of_100/model_50_of_100/model_51_of_100/model_52_of_100/model_53_of_100/model_54_of_100/model_55_of_100/model_56_of_100/model_57_of_100/model_58_of_100/model_59_of_100/model_60_of_100/model_61_of_100/model_62_of_100/model_63_of_100/model_64_of_100/model_65_of_100/model_66_of_100/model_67_of_100/model_68_of_100/model_69_of_100/model_70_of_100/model_71_of_100/model_72_of_100/model_73_of_100/model_74_of_100/model_75_of_100/model_76_of_100/model_77_of_100/model_78_of_100/model_79_of_100/model_80_of_100/model_81_of_100/model_82_of_100/model_83_of_100/model_84_of_100/model_85_of_100/model_86_of_100/model_87_of_100/model_88_of_100/model_89_of_100/model_90_of_100/model_91_of_100/model_92_of_100/model_93_of_100/model_94_of_100/model_95_of_100/model_96_of_100/model_97_of_100.pth', 'history': None, 'model_name': 'model_97_of_100'}\n",
            "Model training took 0:00:00.236796\n",
            "model_98_of_100\n",
            "tensorboard path is /content/drive/MyDrive/academics/columbia/neural_networks/project/data/round_6/model_0_of_100/model_1_of_100/model_2_of_100/model_3_of_100/model_4_of_100/model_5_of_100/model_6_of_100/model_7_of_100/model_8_of_100/model_9_of_100/model_10_of_100/model_11_of_100/model_12_of_100/model_13_of_100/model_14_of_100/model_15_of_100/model_16_of_100/model_17_of_100/model_18_of_100/model_19_of_100/model_20_of_100/model_21_of_100/model_22_of_100/model_23_of_100/model_24_of_100/model_25_of_100/model_26_of_100/model_27_of_100/model_28_of_100/model_29_of_100/model_30_of_100/model_31_of_100/model_32_of_100/model_33_of_100/model_34_of_100/model_35_of_100/model_36_of_100/model_37_of_100/model_38_of_100/model_39_of_100/model_40_of_100/model_41_of_100/model_42_of_100/model_43_of_100/model_44_of_100/model_45_of_100/model_46_of_100/model_47_of_100/model_48_of_100/model_49_of_100/model_50_of_100/model_51_of_100/model_52_of_100/model_53_of_100/model_54_of_100/model_55_of_100/model_56_of_100/model_57_of_100/model_58_of_100/model_59_of_100/model_60_of_100/model_61_of_100/model_62_of_100/model_63_of_100/model_64_of_100/model_65_of_100/model_66_of_100/model_67_of_100/model_68_of_100/model_69_of_100/model_70_of_100/model_71_of_100/model_72_of_100/model_73_of_100/model_74_of_100/model_75_of_100/model_76_of_100/model_77_of_100/model_78_of_100/model_79_of_100/model_80_of_100/model_81_of_100/model_82_of_100/model_83_of_100/model_84_of_100/model_85_of_100/model_86_of_100/model_87_of_100/model_88_of_100/model_89_of_100/model_90_of_100/model_91_of_100/model_92_of_100/model_93_of_100/model_94_of_100/model_95_of_100/model_96_of_100/model_97_of_100/model_98_of_100\n",
            "save_path is /content/drive/MyDrive/academics/columbia/neural_networks/project/data/round_6/model_0_of_100/model_1_of_100/model_2_of_100/model_3_of_100/model_4_of_100/model_5_of_100/model_6_of_100/model_7_of_100/model_8_of_100/model_9_of_100/model_10_of_100/model_11_of_100/model_12_of_100/model_13_of_100/model_14_of_100/model_15_of_100/model_16_of_100/model_17_of_100/model_18_of_100/model_19_of_100/model_20_of_100/model_21_of_100/model_22_of_100/model_23_of_100/model_24_of_100/model_25_of_100/model_26_of_100/model_27_of_100/model_28_of_100/model_29_of_100/model_30_of_100/model_31_of_100/model_32_of_100/model_33_of_100/model_34_of_100/model_35_of_100/model_36_of_100/model_37_of_100/model_38_of_100/model_39_of_100/model_40_of_100/model_41_of_100/model_42_of_100/model_43_of_100/model_44_of_100/model_45_of_100/model_46_of_100/model_47_of_100/model_48_of_100/model_49_of_100/model_50_of_100/model_51_of_100/model_52_of_100/model_53_of_100/model_54_of_100/model_55_of_100/model_56_of_100/model_57_of_100/model_58_of_100/model_59_of_100/model_60_of_100/model_61_of_100/model_62_of_100/model_63_of_100/model_64_of_100/model_65_of_100/model_66_of_100/model_67_of_100/model_68_of_100/model_69_of_100/model_70_of_100/model_71_of_100/model_72_of_100/model_73_of_100/model_74_of_100/model_75_of_100/model_76_of_100/model_77_of_100/model_78_of_100/model_79_of_100/model_80_of_100/model_81_of_100/model_82_of_100/model_83_of_100/model_84_of_100/model_85_of_100/model_86_of_100/model_87_of_100/model_88_of_100/model_89_of_100/model_90_of_100/model_91_of_100/model_92_of_100/model_93_of_100/model_94_of_100/model_95_of_100/model_96_of_100/model_97_of_100/model_98_of_100.pth\n",
            "path /content/drive/MyDrive/academics/columbia/neural_networks/project/data/round_6/model_0_of_100/model_1_of_100/model_2_of_100/model_3_of_100/model_4_of_100/model_5_of_100/model_6_of_100/model_7_of_100/model_8_of_100/model_9_of_100/model_10_of_100/model_11_of_100/model_12_of_100/model_13_of_100/model_14_of_100/model_15_of_100/model_16_of_100/model_17_of_100/model_18_of_100/model_19_of_100/model_20_of_100/model_21_of_100/model_22_of_100/model_23_of_100/model_24_of_100/model_25_of_100/model_26_of_100/model_27_of_100/model_28_of_100/model_29_of_100/model_30_of_100/model_31_of_100/model_32_of_100/model_33_of_100/model_34_of_100/model_35_of_100/model_36_of_100/model_37_of_100/model_38_of_100/model_39_of_100/model_40_of_100/model_41_of_100/model_42_of_100/model_43_of_100/model_44_of_100/model_45_of_100/model_46_of_100/model_47_of_100/model_48_of_100/model_49_of_100/model_50_of_100/model_51_of_100/model_52_of_100/model_53_of_100/model_54_of_100/model_55_of_100/model_56_of_100/model_57_of_100/model_58_of_100/model_59_of_100/model_60_of_100/model_61_of_100/model_62_of_100/model_63_of_100/model_64_of_100/model_65_of_100/model_66_of_100/model_67_of_100/model_68_of_100/model_69_of_100/model_70_of_100/model_71_of_100/model_72_of_100/model_73_of_100/model_74_of_100/model_75_of_100/model_76_of_100/model_77_of_100/model_78_of_100/model_79_of_100/model_80_of_100/model_81_of_100/model_82_of_100/model_83_of_100/model_84_of_100/model_85_of_100/model_86_of_100/model_87_of_100/model_88_of_100/model_89_of_100/model_90_of_100/model_91_of_100/model_92_of_100/model_93_of_100/model_94_of_100/model_95_of_100/model_96_of_100/model_97_of_100/model_98_of_100.pth already saved to. SKIPPING.\n",
            "98\n",
            "{'save_path': '/content/drive/MyDrive/academics/columbia/neural_networks/project/data/round_6/model_0_of_100/model_1_of_100/model_2_of_100/model_3_of_100/model_4_of_100/model_5_of_100/model_6_of_100/model_7_of_100/model_8_of_100/model_9_of_100/model_10_of_100/model_11_of_100/model_12_of_100/model_13_of_100/model_14_of_100/model_15_of_100/model_16_of_100/model_17_of_100/model_18_of_100/model_19_of_100/model_20_of_100/model_21_of_100/model_22_of_100/model_23_of_100/model_24_of_100/model_25_of_100/model_26_of_100/model_27_of_100/model_28_of_100/model_29_of_100/model_30_of_100/model_31_of_100/model_32_of_100/model_33_of_100/model_34_of_100/model_35_of_100/model_36_of_100/model_37_of_100/model_38_of_100/model_39_of_100/model_40_of_100/model_41_of_100/model_42_of_100/model_43_of_100/model_44_of_100/model_45_of_100/model_46_of_100/model_47_of_100/model_48_of_100/model_49_of_100/model_50_of_100/model_51_of_100/model_52_of_100/model_53_of_100/model_54_of_100/model_55_of_100/model_56_of_100/model_57_of_100/model_58_of_100/model_59_of_100/model_60_of_100/model_61_of_100/model_62_of_100/model_63_of_100/model_64_of_100/model_65_of_100/model_66_of_100/model_67_of_100/model_68_of_100/model_69_of_100/model_70_of_100/model_71_of_100/model_72_of_100/model_73_of_100/model_74_of_100/model_75_of_100/model_76_of_100/model_77_of_100/model_78_of_100/model_79_of_100/model_80_of_100/model_81_of_100/model_82_of_100/model_83_of_100/model_84_of_100/model_85_of_100/model_86_of_100/model_87_of_100/model_88_of_100/model_89_of_100/model_90_of_100/model_91_of_100/model_92_of_100/model_93_of_100/model_94_of_100/model_95_of_100/model_96_of_100/model_97_of_100/model_98_of_100.pth', 'history': None, 'model_name': 'model_98_of_100'}\n",
            "Model training took 0:00:00.358684\n",
            "model_99_of_100\n",
            "tensorboard path is /content/drive/MyDrive/academics/columbia/neural_networks/project/data/round_6/model_0_of_100/model_1_of_100/model_2_of_100/model_3_of_100/model_4_of_100/model_5_of_100/model_6_of_100/model_7_of_100/model_8_of_100/model_9_of_100/model_10_of_100/model_11_of_100/model_12_of_100/model_13_of_100/model_14_of_100/model_15_of_100/model_16_of_100/model_17_of_100/model_18_of_100/model_19_of_100/model_20_of_100/model_21_of_100/model_22_of_100/model_23_of_100/model_24_of_100/model_25_of_100/model_26_of_100/model_27_of_100/model_28_of_100/model_29_of_100/model_30_of_100/model_31_of_100/model_32_of_100/model_33_of_100/model_34_of_100/model_35_of_100/model_36_of_100/model_37_of_100/model_38_of_100/model_39_of_100/model_40_of_100/model_41_of_100/model_42_of_100/model_43_of_100/model_44_of_100/model_45_of_100/model_46_of_100/model_47_of_100/model_48_of_100/model_49_of_100/model_50_of_100/model_51_of_100/model_52_of_100/model_53_of_100/model_54_of_100/model_55_of_100/model_56_of_100/model_57_of_100/model_58_of_100/model_59_of_100/model_60_of_100/model_61_of_100/model_62_of_100/model_63_of_100/model_64_of_100/model_65_of_100/model_66_of_100/model_67_of_100/model_68_of_100/model_69_of_100/model_70_of_100/model_71_of_100/model_72_of_100/model_73_of_100/model_74_of_100/model_75_of_100/model_76_of_100/model_77_of_100/model_78_of_100/model_79_of_100/model_80_of_100/model_81_of_100/model_82_of_100/model_83_of_100/model_84_of_100/model_85_of_100/model_86_of_100/model_87_of_100/model_88_of_100/model_89_of_100/model_90_of_100/model_91_of_100/model_92_of_100/model_93_of_100/model_94_of_100/model_95_of_100/model_96_of_100/model_97_of_100/model_98_of_100/model_99_of_100\n",
            "save_path is /content/drive/MyDrive/academics/columbia/neural_networks/project/data/round_6/model_0_of_100/model_1_of_100/model_2_of_100/model_3_of_100/model_4_of_100/model_5_of_100/model_6_of_100/model_7_of_100/model_8_of_100/model_9_of_100/model_10_of_100/model_11_of_100/model_12_of_100/model_13_of_100/model_14_of_100/model_15_of_100/model_16_of_100/model_17_of_100/model_18_of_100/model_19_of_100/model_20_of_100/model_21_of_100/model_22_of_100/model_23_of_100/model_24_of_100/model_25_of_100/model_26_of_100/model_27_of_100/model_28_of_100/model_29_of_100/model_30_of_100/model_31_of_100/model_32_of_100/model_33_of_100/model_34_of_100/model_35_of_100/model_36_of_100/model_37_of_100/model_38_of_100/model_39_of_100/model_40_of_100/model_41_of_100/model_42_of_100/model_43_of_100/model_44_of_100/model_45_of_100/model_46_of_100/model_47_of_100/model_48_of_100/model_49_of_100/model_50_of_100/model_51_of_100/model_52_of_100/model_53_of_100/model_54_of_100/model_55_of_100/model_56_of_100/model_57_of_100/model_58_of_100/model_59_of_100/model_60_of_100/model_61_of_100/model_62_of_100/model_63_of_100/model_64_of_100/model_65_of_100/model_66_of_100/model_67_of_100/model_68_of_100/model_69_of_100/model_70_of_100/model_71_of_100/model_72_of_100/model_73_of_100/model_74_of_100/model_75_of_100/model_76_of_100/model_77_of_100/model_78_of_100/model_79_of_100/model_80_of_100/model_81_of_100/model_82_of_100/model_83_of_100/model_84_of_100/model_85_of_100/model_86_of_100/model_87_of_100/model_88_of_100/model_89_of_100/model_90_of_100/model_91_of_100/model_92_of_100/model_93_of_100/model_94_of_100/model_95_of_100/model_96_of_100/model_97_of_100/model_98_of_100/model_99_of_100.pth\n",
            "path /content/drive/MyDrive/academics/columbia/neural_networks/project/data/round_6/model_0_of_100/model_1_of_100/model_2_of_100/model_3_of_100/model_4_of_100/model_5_of_100/model_6_of_100/model_7_of_100/model_8_of_100/model_9_of_100/model_10_of_100/model_11_of_100/model_12_of_100/model_13_of_100/model_14_of_100/model_15_of_100/model_16_of_100/model_17_of_100/model_18_of_100/model_19_of_100/model_20_of_100/model_21_of_100/model_22_of_100/model_23_of_100/model_24_of_100/model_25_of_100/model_26_of_100/model_27_of_100/model_28_of_100/model_29_of_100/model_30_of_100/model_31_of_100/model_32_of_100/model_33_of_100/model_34_of_100/model_35_of_100/model_36_of_100/model_37_of_100/model_38_of_100/model_39_of_100/model_40_of_100/model_41_of_100/model_42_of_100/model_43_of_100/model_44_of_100/model_45_of_100/model_46_of_100/model_47_of_100/model_48_of_100/model_49_of_100/model_50_of_100/model_51_of_100/model_52_of_100/model_53_of_100/model_54_of_100/model_55_of_100/model_56_of_100/model_57_of_100/model_58_of_100/model_59_of_100/model_60_of_100/model_61_of_100/model_62_of_100/model_63_of_100/model_64_of_100/model_65_of_100/model_66_of_100/model_67_of_100/model_68_of_100/model_69_of_100/model_70_of_100/model_71_of_100/model_72_of_100/model_73_of_100/model_74_of_100/model_75_of_100/model_76_of_100/model_77_of_100/model_78_of_100/model_79_of_100/model_80_of_100/model_81_of_100/model_82_of_100/model_83_of_100/model_84_of_100/model_85_of_100/model_86_of_100/model_87_of_100/model_88_of_100/model_89_of_100/model_90_of_100/model_91_of_100/model_92_of_100/model_93_of_100/model_94_of_100/model_95_of_100/model_96_of_100/model_97_of_100/model_98_of_100/model_99_of_100.pth already saved to. SKIPPING.\n",
            "99\n",
            "{'save_path': '/content/drive/MyDrive/academics/columbia/neural_networks/project/data/round_6/model_0_of_100/model_1_of_100/model_2_of_100/model_3_of_100/model_4_of_100/model_5_of_100/model_6_of_100/model_7_of_100/model_8_of_100/model_9_of_100/model_10_of_100/model_11_of_100/model_12_of_100/model_13_of_100/model_14_of_100/model_15_of_100/model_16_of_100/model_17_of_100/model_18_of_100/model_19_of_100/model_20_of_100/model_21_of_100/model_22_of_100/model_23_of_100/model_24_of_100/model_25_of_100/model_26_of_100/model_27_of_100/model_28_of_100/model_29_of_100/model_30_of_100/model_31_of_100/model_32_of_100/model_33_of_100/model_34_of_100/model_35_of_100/model_36_of_100/model_37_of_100/model_38_of_100/model_39_of_100/model_40_of_100/model_41_of_100/model_42_of_100/model_43_of_100/model_44_of_100/model_45_of_100/model_46_of_100/model_47_of_100/model_48_of_100/model_49_of_100/model_50_of_100/model_51_of_100/model_52_of_100/model_53_of_100/model_54_of_100/model_55_of_100/model_56_of_100/model_57_of_100/model_58_of_100/model_59_of_100/model_60_of_100/model_61_of_100/model_62_of_100/model_63_of_100/model_64_of_100/model_65_of_100/model_66_of_100/model_67_of_100/model_68_of_100/model_69_of_100/model_70_of_100/model_71_of_100/model_72_of_100/model_73_of_100/model_74_of_100/model_75_of_100/model_76_of_100/model_77_of_100/model_78_of_100/model_79_of_100/model_80_of_100/model_81_of_100/model_82_of_100/model_83_of_100/model_84_of_100/model_85_of_100/model_86_of_100/model_87_of_100/model_88_of_100/model_89_of_100/model_90_of_100/model_91_of_100/model_92_of_100/model_93_of_100/model_94_of_100/model_95_of_100/model_96_of_100/model_97_of_100/model_98_of_100/model_99_of_100.pth', 'history': None, 'model_name': 'model_99_of_100'}\n",
            "Model training took 0:00:00.236808\n"
          ]
        }
      ]
    },
    {
      "cell_type": "code",
      "metadata": {
        "colab": {
          "base_uri": "https://localhost:8080/"
        },
        "id": "ofGy9QzJ1D5i",
        "outputId": "4c7f9476-89d9-40b4-d1cd-9aef937406e0"
      },
      "source": [
        "meta.keys()"
      ],
      "execution_count": 25,
      "outputs": [
        {
          "output_type": "execute_result",
          "data": {
            "text/plain": [
              "dict_keys(['model_0_of_100', 'model_10_of_100', 'model_11_of_100', 'model_12_of_100', 'model_13_of_100', 'model_14_of_100', 'model_15_of_100', 'model_16_of_100', 'model_17_of_100', 'model_18_of_100', 'model_19_of_100', 'model_1_of_100', 'model_20_of_100', 'model_21_of_100', 'model_22_of_100', 'model_23_of_100', 'model_24_of_100', 'model_25_of_100', 'model_26_of_100', 'model_27_of_100', 'model_28_of_100', 'model_29_of_100', 'model_2_of_100', 'model_30_of_100', 'model_31_of_100', 'model_32_of_100', 'model_33_of_100', 'model_34_of_100', 'model_35_of_100', 'model_36_of_100', 'model_37_of_100', 'model_38_of_100', 'model_39_of_100', 'model_3_of_100', 'model_40_of_100', 'model_41_of_100', 'model_42_of_100', 'model_43_of_100', 'model_44_of_100', 'model_45_of_100', 'model_46_of_100', 'model_47_of_100', 'model_48_of_100', 'model_49_of_100', 'model_4_of_100', 'model_50_of_100', 'model_51_of_100', 'model_52_of_100', 'model_53_of_100', 'model_54_of_100', 'model_55_of_100', 'model_56_of_100', 'model_57_of_100', 'model_58_of_100', 'model_59_of_100', 'model_5_of_100', 'model_60_of_100', 'model_61_of_100', 'model_62_of_100', 'model_63_of_100', 'model_64_of_100', 'model_65_of_100', 'model_66_of_100', 'model_67_of_100', 'model_68_of_100', 'model_69_of_100', 'model_6_of_100', 'model_70_of_100', 'model_71_of_100', 'model_72_of_100', 'model_73_of_100', 'model_74_of_100', 'model_75_of_100', 'model_76_of_100', 'model_77_of_100', 'model_78_of_100', 'model_79_of_100', 'model_7_of_100', 'model_80_of_100', 'model_81_of_100', 'model_82_of_100', 'model_83_of_100', 'model_84_of_100', 'model_85_of_100', 'model_86_of_100', 'model_87_of_100', 'model_88_of_100', 'model_89_of_100', 'model_8_of_100', 'model_90_of_100', 'model_91_of_100', 'model_92_of_100', 'model_93_of_100', 'model_94_of_100', 'model_95_of_100', 'model_96_of_100', 'model_97_of_100', 'model_98_of_100', 'model_99_of_100', 'model_9_of_100'])"
            ]
          },
          "metadata": {},
          "execution_count": 25
        }
      ]
    },
    {
      "cell_type": "code",
      "metadata": {
        "id": "_urtDlu-XSgL"
      },
      "source": [
        "def prediction_by_img(model, img, verbose= False):\n",
        "  # beep boop baap - this is where the erorr is \n",
        "  \"\"\"\n",
        "  returns confidence, prediction\n",
        "  \"\"\"\n",
        "  img = img.cuda()\n",
        "  img.unsqueeze_(0)\n",
        "  with torch.no_grad():\n",
        "    yb = model(img)\n",
        "  softmax = torch.nn.functional.softmax(yb[0], dim=0)\n",
        "  conf, pred = torch.max(softmax, dim=0)\n",
        "  #_, pred = torch.max(yb, dim=1)\n",
        "  if verbose:\n",
        "    plt.imshow(img.permute(1, 2, 0))\n",
        "    print(f\"prediction: {trainset.classes[pred]}, confidence {conf * 100}%\")\n",
        "  return conf, pred\n",
        "\n",
        "def prediction_by_imgs(model, img, verbose= False):\n",
        "  \"\"\"\n",
        "  returns confidence, prediction\n",
        "  \"\"\"\n",
        "  img = img.cuda()\n",
        "  img.unsqueeze_(0)\n",
        "  with torch.no_grad():\n",
        "    yb = model(img)\n",
        "  softmax = torch.nn.functional.softmax(yb, dim=1)\n",
        "  conf, pred = torch.max(softmax, dim=1)\n",
        "  #_, pred = torch.max(yb, dim=1)\n",
        "  return conf, pred"
      ],
      "execution_count": 26,
      "outputs": []
    },
    {
      "cell_type": "code",
      "metadata": {
        "colab": {
          "base_uri": "https://localhost:8080/",
          "height": 36
        },
        "id": "MmbDoITrJc72",
        "outputId": "156d8ab1-f183-4c2e-f536-d87ff8937a47"
      },
      "source": [
        "list(meta.keys())[-1]\n"
      ],
      "execution_count": 27,
      "outputs": [
        {
          "output_type": "execute_result",
          "data": {
            "application/vnd.google.colaboratory.intrinsic+json": {
              "type": "string"
            },
            "text/plain": [
              "'model_9_of_100'"
            ]
          },
          "metadata": {},
          "execution_count": 27
        }
      ]
    },
    {
      "cell_type": "code",
      "metadata": {
        "colab": {
          "base_uri": "https://localhost:8080/"
        },
        "id": "9AjjgTQewSO2",
        "outputId": "673d7485-ac66-4542-9be9-6ceb6fffc8af"
      },
      "source": [
        "# manual inspection of where a model disagrees\n",
        "if True:\n",
        "  model = load_model( meta[\"model_49_of_100\"]['save_path'], Model())\n",
        "  c = 0\n",
        "  for ind, (data,target) in enumerate(trainset):\n",
        "      conf, pred = prediction_by_img(model, data)\n",
        "      if pred != target:\n",
        "        c+=1\n",
        "        print(f\"{c}: @ {ind} : prediction {pred}, target {target}\")\n",
        "      if ind ==1000:\n",
        "        print(f\"{c}/1000 disagree with targets\")\n",
        "        break\n"
      ],
      "execution_count": 28,
      "outputs": [
        {
          "output_type": "stream",
          "name": "stdout",
          "text": [
            "1: @ 5 : prediction 9, target 2\n",
            "2: @ 11 : prediction 6, target 5\n",
            "3: @ 24 : prediction 6, target 1\n",
            "4: @ 28 : prediction 7, target 2\n",
            "5: @ 29 : prediction 4, target 7\n",
            "6: @ 33 : prediction 7, target 9\n",
            "7: @ 35 : prediction 1, target 5\n",
            "8: @ 48 : prediction 5, target 9\n",
            "9: @ 55 : prediction 9, target 8\n",
            "10: @ 65 : prediction 1, target 5\n",
            "11: @ 70 : prediction 2, target 1\n",
            "12: @ 80 : prediction 0, target 9\n",
            "13: @ 85 : prediction 3, target 8\n",
            "14: @ 86 : prediction 9, target 3\n",
            "15: @ 100 : prediction 9, target 5\n",
            "16: @ 120 : prediction 7, target 2\n",
            "17: @ 132 : prediction 3, target 5\n",
            "18: @ 134 : prediction 4, target 1\n",
            "19: @ 138 : prediction 0, target 5\n",
            "20: @ 140 : prediction 3, target 7\n",
            "21: @ 141 : prediction 4, target 7\n",
            "22: @ 143 : prediction 9, target 2\n",
            "23: @ 144 : prediction 2, target 8\n",
            "24: @ 146 : prediction 2, target 8\n",
            "25: @ 158 : prediction 4, target 7\n",
            "26: @ 160 : prediction 4, target 8\n",
            "27: @ 173 : prediction 1, target 5\n",
            "28: @ 175 : prediction 6, target 5\n",
            "29: @ 181 : prediction 7, target 3\n",
            "30: @ 182 : prediction 0, target 5\n",
            "31: @ 191 : prediction 6, target 5\n",
            "32: @ 207 : prediction 7, target 3\n",
            "33: @ 212 : prediction 9, target 7\n",
            "34: @ 224 : prediction 9, target 1\n",
            "35: @ 228 : prediction 5, target 3\n",
            "36: @ 240 : prediction 1, target 8\n",
            "37: @ 244 : prediction 8, target 5\n",
            "38: @ 250 : prediction 6, target 3\n",
            "39: @ 262 : prediction 6, target 2\n",
            "40: @ 264 : prediction 4, target 9\n",
            "41: @ 268 : prediction 7, target 2\n",
            "42: @ 278 : prediction 6, target 5\n",
            "43: @ 284 : prediction 3, target 5\n",
            "44: @ 287 : prediction 3, target 5\n",
            "45: @ 306 : prediction 0, target 5\n",
            "46: @ 335 : prediction 6, target 5\n",
            "47: @ 340 : prediction 9, target 7\n",
            "48: @ 360 : prediction 1, target 2\n",
            "49: @ 368 : prediction 2, target 8\n",
            "50: @ 370 : prediction 1, target 7\n",
            "51: @ 374 : prediction 4, target 9\n",
            "52: @ 376 : prediction 8, target 5\n",
            "53: @ 384 : prediction 4, target 7\n",
            "54: @ 391 : prediction 3, target 2\n",
            "55: @ 404 : prediction 3, target 8\n",
            "56: @ 417 : prediction 6, target 5\n",
            "57: @ 418 : prediction 2, target 8\n",
            "58: @ 420 : prediction 9, target 5\n",
            "59: @ 425 : prediction 2, target 3\n",
            "60: @ 426 : prediction 4, target 7\n",
            "61: @ 436 : prediction 9, target 7\n",
            "62: @ 437 : prediction 6, target 5\n",
            "63: @ 448 : prediction 4, target 2\n",
            "64: @ 459 : prediction 9, target 3\n",
            "65: @ 463 : prediction 6, target 5\n",
            "66: @ 468 : prediction 0, target 7\n",
            "67: @ 470 : prediction 6, target 1\n",
            "68: @ 480 : prediction 8, target 5\n",
            "69: @ 488 : prediction 4, target 6\n",
            "70: @ 494 : prediction 0, target 6\n",
            "71: @ 497 : prediction 9, target 7\n",
            "72: @ 500 : prediction 7, target 3\n",
            "73: @ 502 : prediction 8, target 5\n",
            "74: @ 509 : prediction 9, target 3\n",
            "75: @ 513 : prediction 6, target 5\n",
            "76: @ 523 : prediction 4, target 5\n",
            "77: @ 528 : prediction 6, target 8\n",
            "78: @ 529 : prediction 4, target 9\n",
            "79: @ 532 : prediction 3, target 8\n",
            "80: @ 547 : prediction 4, target 6\n",
            "81: @ 554 : prediction 8, target 5\n",
            "82: @ 558 : prediction 6, target 2\n",
            "83: @ 565 : prediction 4, target 6\n",
            "84: @ 588 : prediction 1, target 2\n",
            "85: @ 589 : prediction 4, target 9\n",
            "86: @ 602 : prediction 2, target 8\n",
            "87: @ 607 : prediction 4, target 6\n",
            "88: @ 610 : prediction 9, target 5\n",
            "89: @ 611 : prediction 9, target 7\n",
            "90: @ 614 : prediction 4, target 5\n",
            "91: @ 623 : prediction 8, target 6\n",
            "92: @ 626 : prediction 4, target 9\n",
            "93: @ 627 : prediction 6, target 8\n",
            "94: @ 628 : prediction 3, target 8\n",
            "95: @ 629 : prediction 9, target 3\n",
            "96: @ 631 : prediction 8, target 9\n",
            "97: @ 635 : prediction 9, target 5\n",
            "98: @ 644 : prediction 3, target 7\n",
            "99: @ 646 : prediction 1, target 2\n",
            "100: @ 650 : prediction 1, target 2\n",
            "101: @ 659 : prediction 2, target 3\n",
            "102: @ 665 : prediction 4, target 6\n",
            "103: @ 670 : prediction 0, target 3\n",
            "104: @ 674 : prediction 1, target 2\n",
            "105: @ 682 : prediction 9, target 4\n",
            "106: @ 690 : prediction 8, target 5\n",
            "107: @ 693 : prediction 9, target 2\n",
            "108: @ 704 : prediction 7, target 9\n",
            "109: @ 712 : prediction 8, target 0\n",
            "110: @ 718 : prediction 9, target 4\n",
            "111: @ 720 : prediction 7, target 8\n",
            "112: @ 722 : prediction 9, target 5\n",
            "113: @ 726 : prediction 3, target 8\n",
            "114: @ 736 : prediction 3, target 8\n",
            "115: @ 749 : prediction 9, target 4\n",
            "116: @ 760 : prediction 9, target 3\n",
            "117: @ 775 : prediction 6, target 5\n",
            "118: @ 778 : prediction 9, target 5\n",
            "119: @ 784 : prediction 3, target 8\n",
            "120: @ 786 : prediction 9, target 7\n",
            "121: @ 792 : prediction 2, target 8\n",
            "122: @ 801 : prediction 4, target 2\n",
            "123: @ 813 : prediction 9, target 2\n",
            "124: @ 817 : prediction 3, target 8\n",
            "125: @ 828 : prediction 6, target 4\n",
            "126: @ 832 : prediction 3, target 5\n",
            "127: @ 846 : prediction 2, target 6\n",
            "128: @ 850 : prediction 6, target 4\n",
            "129: @ 854 : prediction 9, target 2\n",
            "130: @ 863 : prediction 4, target 2\n",
            "131: @ 866 : prediction 3, target 2\n",
            "132: @ 876 : prediction 1, target 8\n",
            "133: @ 879 : prediction 4, target 5\n",
            "134: @ 884 : prediction 2, target 7\n",
            "135: @ 886 : prediction 2, target 5\n",
            "136: @ 892 : prediction 1, target 6\n",
            "137: @ 899 : prediction 4, target 5\n",
            "138: @ 902 : prediction 0, target 9\n",
            "139: @ 915 : prediction 2, target 5\n",
            "140: @ 916 : prediction 6, target 5\n",
            "141: @ 921 : prediction 6, target 5\n",
            "142: @ 933 : prediction 4, target 7\n",
            "143: @ 935 : prediction 1, target 8\n",
            "144: @ 943 : prediction 2, target 0\n",
            "145: @ 946 : prediction 8, target 2\n",
            "146: @ 947 : prediction 6, target 5\n",
            "147: @ 964 : prediction 3, target 5\n",
            "148: @ 966 : prediction 6, target 3\n",
            "149: @ 974 : prediction 3, target 9\n",
            "150: @ 985 : prediction 2, target 5\n",
            "151: @ 991 : prediction 9, target 4\n",
            "152: @ 995 : prediction 4, target 7\n",
            "152/1000 disagree with targets\n"
          ]
        }
      ]
    },
    {
      "cell_type": "code",
      "metadata": {
        "id": "PS1_Z12FzKQ3"
      },
      "source": [
        "if False:\n",
        "  for batch_idx, (data, target) in enumerate(testloader):\n",
        "    break\n",
        "\n",
        "  prediction_by_imgs(model,data)\n",
        "  prediction_by_imgs(model, data)[0].shape\n",
        "  yb = model(data.cuda().unsqueeze(0))\n",
        "  softmax_0 = torch.nn.functional.softmax(yb, dim=0)\n",
        "  softmax_1 = torch.nn.functional.softmax(yb, dim=1)\n",
        "\n",
        "  print(yb[:][0].shape)\n",
        "  print(yb[0].shape)\n",
        "  print(yb.shape)\n",
        "  print(torch.sum(yb, dim = 0).shape)\n",
        "  print(torch.sum(yb, dim = 1).shape)"
      ],
      "execution_count": 29,
      "outputs": []
    },
    {
      "cell_type": "code",
      "metadata": {
        "id": "Ez2SVp6a2Nrt"
      },
      "source": [
        "transform = transforms.Compose([\n",
        "    transforms.ToTensor(),\n",
        "    transforms.Normalize((0.5, ), (0.5, )),\n",
        "])\n",
        "\n",
        "#trainset = datasets.MNIST(\n",
        "#    \"~/.pytorch/MNIST_data/\", train=True, download=True, transform=transform)\n",
        "testset = datasets.MNIST(\n",
        "      \"~/.pytorch/MNIST_data/\", train=False, download=True, transform=transform)\n",
        "\n",
        "batch_size = 64\n",
        "load = lambda dataset : torch.utils.data.DataLoader(dataset, batch_size=batch_size,\n",
        "                                          shuffle=False, num_workers=2)\n",
        "testloader = load(testset)\n",
        "testloader = DeviceDataLoader(testloader, device)\n",
        "\n",
        "targets = []\n",
        "for _, targets_ in testloader:\n",
        "  targets.extend(targets_)\n",
        "\n",
        "ordered_test_targets = [t.item() for t in targets]"
      ],
      "execution_count": 30,
      "outputs": []
    },
    {
      "cell_type": "code",
      "metadata": {
        "id": "pFawswywNxCf"
      },
      "source": [
        "def save_np_to_filename(filename, arr, overwrite = False):\n",
        "  if os.path.exists(filename) and not overwrite:\n",
        "    print(\"file already exists, ignoring\")\n",
        "    return\n",
        "  np.save(filename, arr)\n",
        "\n",
        "def load_np_from_filename(filename):\n",
        "  if not os.path.exists(filename):\n",
        "    print(\"file does not exist\")\n",
        "    return None\n",
        "  return np.load(filename)\n",
        "\n",
        " "
      ],
      "execution_count": 31,
      "outputs": []
    },
    {
      "cell_type": "code",
      "source": [
        ""
      ],
      "metadata": {
        "id": "LLUqz1YpzUVg"
      },
      "execution_count": 31,
      "outputs": []
    },
    {
      "cell_type": "markdown",
      "source": [
        "#compute validation weights\n"
      ],
      "metadata": {
        "id": "VpibckXnzVM2"
      }
    },
    {
      "cell_type": "code",
      "source": [
        "def compute_validation_on_federated_datasets(federated_data_loader, model):\n",
        "    result = evaluate(model, val_loader, criterion)\n",
        "\n",
        "    pass "
      ],
      "metadata": {
        "id": "2yXiWG9UzxJz"
      },
      "execution_count": 32,
      "outputs": []
    },
    {
      "cell_type": "code",
      "source": [
        "model"
      ],
      "metadata": {
        "colab": {
          "base_uri": "https://localhost:8080/"
        },
        "id": "jLYuVeJT0wMr",
        "outputId": "17103da7-88ce-446c-9e27-a548c739d705"
      },
      "execution_count": 33,
      "outputs": [
        {
          "output_type": "execute_result",
          "data": {
            "text/plain": [
              "Model(\n",
              "  (fc1): Linear(in_features=784, out_features=500, bias=True)\n",
              "  (fc2): Linear(in_features=500, out_features=10, bias=True)\n",
              ")"
            ]
          },
          "metadata": {},
          "execution_count": 33
        }
      ]
    },
    {
      "cell_type": "code",
      "source": [
        "federated_evaluations = False\n",
        "if federated_evaluations:\n",
        "    teacher_loaders = get_data_loaders(trainset, num_teachers)\n",
        "    experiments_base_save = os.path.join(f\"{ASSETS_BASE_PATH}\", prefix)\n",
        "    teacher_evals_yaml = os.path.join(experiments_base_save, \"teacher_evals.yaml\") \n",
        "    teacher_evals = open_yaml(teacher_evals_yaml)\n",
        "    if not teacher_evals:\n",
        "      teacher_evals = {}   # maps model_ind to its validation score\n",
        "\n",
        "    for model_ind, model in enumerate(models):\n",
        "        teacher_evals[model_ind] = 0\n",
        "        for ind, teacher_loader in enumerate(teacher_loaders): \n",
        "            # load model\n",
        "            # calculate the average evaluation on each of the other datasets\n",
        "            # ideally this would be calculated by averaging the validation error on every one else's data\n",
        "            if ind == model_ind:\n",
        "              continue\n",
        "            teacher_evals[model_ind]+= evaluate(model, teacher_loader, criterion)\n",
        "        teacher_evals[model_ind] = teacher_evals[model_ind]/ len(models) # take the average of the evaluation # Note: may need to make this a weighted average.\n",
        "\n",
        "    write_yaml(meta_yaml, meta)"
      ],
      "metadata": {
        "id": "bHbdyiV80yhv"
      },
      "execution_count": 34,
      "outputs": []
    },
    {
      "cell_type": "code",
      "source": [
        "federated_evaluations = False\n",
        "if federated_evaluations:\n",
        "    teacher_loaders = get_data_loaders(trainset, num_teachers)\n",
        "    experiments_base_save = os.path.join(f\"{ASSETS_BASE_PATH}\", prefix)\n",
        "    teacher_evals_yaml = os.path.join(experiments_base_save, \"teacher_evals.yaml\") \n",
        "    teacher_evals = open_yaml(teacher_evals_yaml)\n",
        "    if not teacher_evals:\n",
        "      teacher_evals = {}   # maps model_ind to its validation score\n",
        "\n",
        "    for model_ind, model in enumerate(models):\n",
        "        teacher_evals[model_ind] = 0\n",
        "        for ind, teacher_loader in enumerate(teacher_loaders): \n",
        "            # load model\n",
        "            # calculate the average evaluation on each of the other datasets\n",
        "            # ideally this would be calculated by averaging the validation error on every one else's data\n",
        "            if ind == model_ind:\n",
        "              continue\n",
        "            teacher_evals[model_ind]+= evaluate(model, teacher_loader, criterion)\n",
        "        teacher_evals[model_ind] = teacher_evals[model_ind]/ len(models) # take the average of the evaluation # Note: may need to make this a weighted average.\n",
        "\n",
        "    write_yaml(meta_yaml, meta)"
      ],
      "metadata": {
        "id": "oXDa-eRm3KVf"
      },
      "execution_count": 35,
      "outputs": []
    },
    {
      "cell_type": "code",
      "source": [
        "validations = {}\n",
        "\n",
        "for model_ind, (name, meta) in enumerate(meta.items()):\n",
        "    model = load_model(meta['save_path'], Model())\n",
        "    print(model)\n",
        "    break\n"
      ],
      "metadata": {
        "id": "dnFttjyoza2q",
        "colab": {
          "base_uri": "https://localhost:8080/"
        },
        "outputId": "87d5c3c6-e190-4110-e3a2-03a23741ffba"
      },
      "execution_count": 49,
      "outputs": [
        {
          "output_type": "stream",
          "name": "stdout",
          "text": [
            "Model(\n",
            "  (fc1): Linear(in_features=784, out_features=500, bias=True)\n",
            "  (fc2): Linear(in_features=500, out_features=10, bias=True)\n",
            ")\n"
          ]
        }
      ]
    },
    {
      "cell_type": "code",
      "source": [
        ""
      ],
      "metadata": {
        "id": "qA77qRRSza9N"
      },
      "execution_count": 36,
      "outputs": []
    },
    {
      "cell_type": "code",
      "source": [
        ""
      ],
      "metadata": {
        "id": "sEuID5IazbEf"
      },
      "execution_count": 36,
      "outputs": []
    },
    {
      "cell_type": "markdown",
      "source": [
        "# Compute histogram of voting\n"
      ],
      "metadata": {
        "id": "lGU23EiWzXmu"
      }
    },
    {
      "cell_type": "code",
      "metadata": {
        "colab": {
          "base_uri": "https://localhost:8080/"
        },
        "id": "z2G52sq9SixR",
        "outputId": "0272194e-30a7-4f39-fc37-2356c187fe06"
      },
      "source": [
        "%%time\n",
        "# compute the vote_hist\n",
        "# to do : don't compute vote_hist directly, instead compute \"teacher_preds\", and create a function that converts teacher_preds to vote_hist.\n",
        "def compute_vote_hist(meta_data, vote_hist_filepath, accuracies_filepath, \n",
        "                      teacher_preds_filepath ,\n",
        "                      overwrite = False, verbose = True, vv = False):\n",
        "    num_teachers = len(meta_data)\n",
        "    \n",
        "    teacher_preds = np.zeros(( len(testset), num_teachers ) ) \n",
        "    vote_hist = np.zeros((len(testset), num_classes))\n",
        "    wrongs = np.zeros(len(meta_data))\n",
        "    accuracies = np.zeros(len(meta_data))\n",
        "    \n",
        "    if not overwrite:\n",
        "        print(\"not overwriting\")\n",
        "        vote_hist_loaded = load_np_from_filename(vote_hist_filepath)\n",
        "        accuracies_loaded = load_np_from_filename(accuracies_filepath)\n",
        "        teacher_preds_loaded = load_np_from_filename(teacher_preds_filepath)\n",
        "        if all(loaded  is not None for loaded in (vote_hist_loaded,accuracies_loaded, teacher_preds_loaded)):\n",
        "          return vote_hist_loaded, accuracies, teacher_preds # beep boop baap - flawed      \n",
        "        \n",
        "    start = datetime.datetime.now()        \n",
        "    \n",
        "    #ind_count =0\n",
        "    N = len(testset)\n",
        "    if vv:\n",
        "        print(f\"model {name}.\")\n",
        "    \n",
        "    # so that we can run perform analysi https://pysyftbenardi.readthedocs.io/en/add_sphinx_docs/api/syft/frameworks/torch/dp/pate/index.html#syft.frameworks.torch.dp.pate.perform_analysis\n",
        "    # pate.perform_analysis(teacher_preds, indices, noise_eps, delta=1e-05, moments=8, beta=0.09)\n",
        "    for model_ind, (name, meta) in enumerate(meta_data.items()):\n",
        "        start = datetime.datetime.now()        \n",
        "        model = load_model(meta['save_path'], Model())\n",
        "\n",
        "        #ind_count =0\n",
        "        N = len(testset)\n",
        "      \n",
        "        if vv:\n",
        "            print(f\"model {name}.\")\n",
        "        #for ind, (datum, target) in enumerate(testset):\n",
        "        ind = 0\n",
        "        for batch_idx, (data, targets) in enumerate(testloader):\n",
        "            confs, preds = prediction_by_imgs(model, data)\n",
        "            \n",
        "            for conf, pred, target in zip(confs, preds, targets):\n",
        "                # store what the model predicted \n",
        "                teacher_preds[ind][model_ind] = pred\n",
        "                vote_hist[ind][pred]+=1\n",
        "                # store when the model is wrong, for model inspectino\n",
        "                if pred != target:\n",
        "                  wrongs[model_ind] +=1\n",
        "                ind +=1\n",
        "\n",
        "        accuracies[model_ind] = 100.* (1.- wrongs[model_ind]/ N)\n",
        "        if verbose:\n",
        "          print(f\"model {name}, accuracy : {accuracies[model_ind]}%  \\t [time to compute: {datetime.datetime.now() - start} ]\")\n",
        "          #print(f\"model {name} is wrong: {wrongs[model_ind]} out of {N}\")\n",
        "    save_np_to_filename(vote_hist_filepath, vote_hist, overwrite = overwrite)\n",
        "    save_np_to_filename(accuracies_filepath, accuracies, overwrite = overwrite)\n",
        "    save_np_to_filename(teacher_preds_filepath, teacher_preds, overwrite = overwrite)\n",
        "    \n",
        "    return vote_hist, accuracies, teacher_preds"
      ],
      "execution_count": 37,
      "outputs": [
        {
          "output_type": "stream",
          "name": "stdout",
          "text": [
            "CPU times: user 3 µs, sys: 1 µs, total: 4 µs\n",
            "Wall time: 5.72 µs\n"
          ]
        }
      ]
    },
    {
      "cell_type": "code",
      "metadata": {
        "colab": {
          "base_uri": "https://localhost:8080/"
        },
        "id": "4kOHIUfWMyEc",
        "outputId": "fe1c6432-af0f-469c-bd02-1bb8004c1b82"
      },
      "source": [
        "%%time\n",
        "relevant_meta = {k:v for k,v in meta.items() if k[-len(\"_of_100\"):] == \"_of_100\"}\n",
        "print(len(relevant_meta))\n",
        "\n",
        "pref = \"trial_1\"\n",
        "vote_hist_path = os.path.join(ASSETS_BASE_PATH, pref, f\"vote_hist_models_{len(relevant_meta)}.npy\")\n",
        "accuracies_path = os.path.join(ASSETS_BASE_PATH, pref, f\"accuracies_models_{len(relevant_meta)}.npy\")\n",
        "teacher_preds_path = os.path.join(ASSETS_BASE_PATH, pref, f\"teacher_preds_models_{len(relevant_meta)}.npy\")\n",
        "os.makedirs(os.path.dirname(vote_hist_path), exist_ok = True)\n",
        "\n",
        "vote_hist, accuracies, teacher_preds = compute_vote_hist(relevant_meta, \n",
        "                                          vote_hist_filepath =vote_hist_path, \n",
        "                                          accuracies_filepath = accuracies_path, \n",
        "                                          teacher_preds_filepath = teacher_preds_path,\n",
        "                                          overwrite = True,\n",
        "                                          verbose = True, vv = False)\n",
        "  "
      ],
      "execution_count": 38,
      "outputs": [
        {
          "output_type": "stream",
          "name": "stdout",
          "text": [
            "100\n",
            "model model_0_of_100, accuracy : 84.86%  \t [time to compute: 0:00:03.934656 ]\n",
            "model model_10_of_100, accuracy : 85.47%  \t [time to compute: 0:00:03.722489 ]\n",
            "model model_11_of_100, accuracy : 84.23%  \t [time to compute: 0:00:04.428600 ]\n",
            "model model_12_of_100, accuracy : 86.23%  \t [time to compute: 0:00:03.777521 ]\n",
            "model model_13_of_100, accuracy : 85.58%  \t [time to compute: 0:00:03.541614 ]\n",
            "model model_14_of_100, accuracy : 84.74%  \t [time to compute: 0:00:03.826043 ]\n",
            "model model_15_of_100, accuracy : 83.95%  \t [time to compute: 0:00:03.532774 ]\n",
            "model model_16_of_100, accuracy : 86.46000000000001%  \t [time to compute: 0:00:03.802248 ]\n",
            "model model_17_of_100, accuracy : 86.49%  \t [time to compute: 0:00:03.887054 ]\n",
            "model model_18_of_100, accuracy : 82.39%  \t [time to compute: 0:00:03.972537 ]\n",
            "model model_19_of_100, accuracy : 83.38%  \t [time to compute: 0:00:03.812937 ]\n",
            "model model_1_of_100, accuracy : 84.46000000000001%  \t [time to compute: 0:00:03.943679 ]\n",
            "model model_20_of_100, accuracy : 84.85000000000001%  \t [time to compute: 0:00:03.851522 ]\n",
            "model model_21_of_100, accuracy : 86.50999999999999%  \t [time to compute: 0:00:04.513241 ]\n",
            "model model_22_of_100, accuracy : 86.72%  \t [time to compute: 0:00:03.722248 ]\n",
            "model model_23_of_100, accuracy : 85.74%  \t [time to compute: 0:00:03.814507 ]\n",
            "model model_24_of_100, accuracy : 84.82000000000001%  \t [time to compute: 0:00:03.883333 ]\n",
            "model model_25_of_100, accuracy : 84.86%  \t [time to compute: 0:00:03.925743 ]\n",
            "model model_26_of_100, accuracy : 85.50999999999999%  \t [time to compute: 0:00:04.840596 ]\n",
            "model model_27_of_100, accuracy : 86.4%  \t [time to compute: 0:00:03.536832 ]\n",
            "model model_28_of_100, accuracy : 86.82%  \t [time to compute: 0:00:03.754629 ]\n",
            "model model_29_of_100, accuracy : 86.4%  \t [time to compute: 0:00:04.096636 ]\n",
            "model model_2_of_100, accuracy : 85.13999999999999%  \t [time to compute: 0:00:04.714639 ]\n",
            "model model_30_of_100, accuracy : 82.26%  \t [time to compute: 0:00:04.413011 ]\n",
            "model model_31_of_100, accuracy : 86.55%  \t [time to compute: 0:00:03.733937 ]\n",
            "model model_32_of_100, accuracy : 84.23%  \t [time to compute: 0:00:04.083198 ]\n",
            "model model_33_of_100, accuracy : 85.49%  \t [time to compute: 0:00:04.393477 ]\n",
            "model model_34_of_100, accuracy : 83.42%  \t [time to compute: 0:00:03.574914 ]\n",
            "model model_35_of_100, accuracy : 85.2%  \t [time to compute: 0:00:04.026264 ]\n",
            "model model_36_of_100, accuracy : 84.25%  \t [time to compute: 0:00:03.699721 ]\n",
            "model model_37_of_100, accuracy : 85.22000000000001%  \t [time to compute: 0:00:03.412882 ]\n",
            "model model_38_of_100, accuracy : 86.02%  \t [time to compute: 0:00:03.465585 ]\n",
            "model model_39_of_100, accuracy : 86.98%  \t [time to compute: 0:00:04.599044 ]\n",
            "model model_3_of_100, accuracy : 86.13%  \t [time to compute: 0:00:03.732879 ]\n",
            "model model_40_of_100, accuracy : 85.02000000000001%  \t [time to compute: 0:00:03.911539 ]\n",
            "model model_41_of_100, accuracy : 86.24000000000001%  \t [time to compute: 0:00:03.832578 ]\n",
            "model model_42_of_100, accuracy : 83.85000000000001%  \t [time to compute: 0:00:04.479057 ]\n",
            "model model_43_of_100, accuracy : 85.13%  \t [time to compute: 0:00:04.214272 ]\n",
            "model model_44_of_100, accuracy : 83.45%  \t [time to compute: 0:00:03.884298 ]\n",
            "model model_45_of_100, accuracy : 85.45%  \t [time to compute: 0:00:04.141492 ]\n",
            "model model_46_of_100, accuracy : 84.50999999999999%  \t [time to compute: 0:00:03.540864 ]\n",
            "model model_47_of_100, accuracy : 84.3%  \t [time to compute: 0:00:04.105342 ]\n",
            "model model_48_of_100, accuracy : 85.69%  \t [time to compute: 0:00:03.724794 ]\n",
            "model model_49_of_100, accuracy : 85.07000000000001%  \t [time to compute: 0:00:03.080954 ]\n",
            "model model_4_of_100, accuracy : 86.41%  \t [time to compute: 0:00:04.158566 ]\n",
            "model model_50_of_100, accuracy : 86.53%  \t [time to compute: 0:00:03.966688 ]\n",
            "model model_51_of_100, accuracy : 84.63000000000001%  \t [time to compute: 0:00:03.797195 ]\n",
            "model model_52_of_100, accuracy : 85.22000000000001%  \t [time to compute: 0:00:03.405492 ]\n",
            "model model_53_of_100, accuracy : 85.35000000000001%  \t [time to compute: 0:00:03.832357 ]\n",
            "model model_54_of_100, accuracy : 85.46000000000001%  \t [time to compute: 0:00:04.646685 ]\n",
            "model model_55_of_100, accuracy : 84.67%  \t [time to compute: 0:00:03.783674 ]\n",
            "model model_56_of_100, accuracy : 86.27%  \t [time to compute: 0:00:03.808489 ]\n",
            "model model_57_of_100, accuracy : 85.94%  \t [time to compute: 0:00:03.932232 ]\n",
            "model model_58_of_100, accuracy : 84.87%  \t [time to compute: 0:00:03.756786 ]\n",
            "model model_59_of_100, accuracy : 87.52%  \t [time to compute: 0:00:03.947666 ]\n",
            "model model_5_of_100, accuracy : 84.69%  \t [time to compute: 0:00:03.800030 ]\n",
            "model model_60_of_100, accuracy : 85.13999999999999%  \t [time to compute: 0:00:04.054626 ]\n",
            "model model_61_of_100, accuracy : 84.78%  \t [time to compute: 0:00:03.768736 ]\n",
            "model model_62_of_100, accuracy : 85.61999999999999%  \t [time to compute: 0:00:04.441362 ]\n",
            "model model_63_of_100, accuracy : 86.22%  \t [time to compute: 0:00:04.044024 ]\n",
            "model model_64_of_100, accuracy : 84.22%  \t [time to compute: 0:00:03.487915 ]\n",
            "model model_65_of_100, accuracy : 85.6%  \t [time to compute: 0:00:04.697145 ]\n",
            "model model_66_of_100, accuracy : 83.61000000000001%  \t [time to compute: 0:00:03.947865 ]\n",
            "model model_67_of_100, accuracy : 85.89%  \t [time to compute: 0:00:03.935194 ]\n",
            "model model_68_of_100, accuracy : 85.48%  \t [time to compute: 0:00:03.686979 ]\n",
            "model model_69_of_100, accuracy : 86.14999999999999%  \t [time to compute: 0:00:04.436069 ]\n",
            "model model_6_of_100, accuracy : 85.11%  \t [time to compute: 0:00:03.777258 ]\n",
            "model model_70_of_100, accuracy : 84.52%  \t [time to compute: 0:00:04.033736 ]\n",
            "model model_71_of_100, accuracy : 84.92%  \t [time to compute: 0:00:04.855862 ]\n",
            "model model_72_of_100, accuracy : 85.84%  \t [time to compute: 0:00:04.211587 ]\n",
            "model model_73_of_100, accuracy : 85.11999999999999%  \t [time to compute: 0:00:04.900442 ]\n",
            "model model_74_of_100, accuracy : 84.35000000000001%  \t [time to compute: 0:00:04.637776 ]\n",
            "model model_75_of_100, accuracy : 84.04%  \t [time to compute: 0:00:04.499125 ]\n",
            "model model_76_of_100, accuracy : 85.75%  \t [time to compute: 0:00:03.947656 ]\n",
            "model model_77_of_100, accuracy : 85.65%  \t [time to compute: 0:00:03.971918 ]\n",
            "model model_78_of_100, accuracy : 85.53%  \t [time to compute: 0:00:04.709946 ]\n",
            "model model_79_of_100, accuracy : 85.57000000000001%  \t [time to compute: 0:00:03.534095 ]\n",
            "model model_7_of_100, accuracy : 86.35%  \t [time to compute: 0:00:03.991920 ]\n",
            "model model_80_of_100, accuracy : 85.79%  \t [time to compute: 0:00:03.997406 ]\n",
            "model model_81_of_100, accuracy : 85.63000000000001%  \t [time to compute: 0:00:04.441343 ]\n",
            "model model_82_of_100, accuracy : 86.7%  \t [time to compute: 0:00:05.364153 ]\n",
            "model model_83_of_100, accuracy : 83.17999999999999%  \t [time to compute: 0:00:04.194647 ]\n",
            "model model_84_of_100, accuracy : 84.26%  \t [time to compute: 0:00:04.069614 ]\n",
            "model model_85_of_100, accuracy : 84.88%  \t [time to compute: 0:00:04.205827 ]\n",
            "model model_86_of_100, accuracy : 86.05000000000001%  \t [time to compute: 0:00:04.478502 ]\n",
            "model model_87_of_100, accuracy : 84.35000000000001%  \t [time to compute: 0:00:04.553990 ]\n",
            "model model_88_of_100, accuracy : 84.2%  \t [time to compute: 0:00:04.508951 ]\n",
            "model model_89_of_100, accuracy : 84.78999999999999%  \t [time to compute: 0:00:03.892988 ]\n",
            "model model_8_of_100, accuracy : 86.47%  \t [time to compute: 0:00:03.628379 ]\n",
            "model model_90_of_100, accuracy : 85.42%  \t [time to compute: 0:00:04.006025 ]\n",
            "model model_91_of_100, accuracy : 85.49%  \t [time to compute: 0:00:04.532052 ]\n",
            "model model_92_of_100, accuracy : 85.22000000000001%  \t [time to compute: 0:00:04.270480 ]\n",
            "model model_93_of_100, accuracy : 85.43%  \t [time to compute: 0:00:04.364973 ]\n",
            "model model_94_of_100, accuracy : 84.15%  \t [time to compute: 0:00:04.911843 ]\n",
            "model model_95_of_100, accuracy : 87.22%  \t [time to compute: 0:00:04.171396 ]\n",
            "model model_96_of_100, accuracy : 84.8%  \t [time to compute: 0:00:04.202011 ]\n",
            "model model_97_of_100, accuracy : 80.97999999999999%  \t [time to compute: 0:00:04.686833 ]\n",
            "model model_98_of_100, accuracy : 79.88%  \t [time to compute: 0:00:04.196955 ]\n",
            "model model_99_of_100, accuracy : 81.75%  \t [time to compute: 0:00:04.098051 ]\n",
            "model model_9_of_100, accuracy : 84.5%  \t [time to compute: 0:00:04.360033 ]\n",
            "CPU times: user 3min 9s, sys: 16.7 s, total: 3min 25s\n",
            "Wall time: 6min 47s\n"
          ]
        }
      ]
    },
    {
      "cell_type": "code",
      "metadata": {
        "id": "8f6nZn5VCXvC",
        "colab": {
          "base_uri": "https://localhost:8080/",
          "height": 36
        },
        "outputId": "8f9cbe9a-64b9-4ecf-8d6f-484c74c2228d"
      },
      "source": [
        "#os.makedirs(\n",
        "os.path.dirname(vote_hist_path)"
      ],
      "execution_count": 40,
      "outputs": [
        {
          "output_type": "execute_result",
          "data": {
            "application/vnd.google.colaboratory.intrinsic+json": {
              "type": "string"
            },
            "text/plain": [
              "'/content/drive/MyDrive/academics/columbia/neural_networks/project/data/round_6/trial_1'"
            ]
          },
          "metadata": {},
          "execution_count": 40
        }
      ]
    },
    {
      "cell_type": "code",
      "metadata": {
        "id": "jU88Ld55Q7Ja"
      },
      "source": [
        "vote_hist_orig = np.copy(vote_hist)\n",
        "accuracies_orig = np.copy(accuracies)"
      ],
      "execution_count": 41,
      "outputs": []
    },
    {
      "cell_type": "code",
      "metadata": {
        "id": "abgXWHmc529Z",
        "colab": {
          "base_uri": "https://localhost:8080/"
        },
        "outputId": "eb763799-b535-4376-e078-b9dd49000eb9"
      },
      "source": [
        "sum(accuracies)/len(accuracies)"
      ],
      "execution_count": 42,
      "outputs": [
        {
          "output_type": "execute_result",
          "data": {
            "text/plain": [
              "85.1063"
            ]
          },
          "metadata": {},
          "execution_count": 42
        }
      ]
    },
    {
      "cell_type": "code",
      "metadata": {
        "id": "iCVLJTJ69SDd",
        "colab": {
          "base_uri": "https://localhost:8080/",
          "height": 915
        },
        "outputId": "8fcaa33f-be84-4f22-930e-54989b231cf0"
      },
      "source": [
        "#x = np.arange(1,11) \n",
        "#y = 2 * x + 5 \n",
        "plt.title(\"Accuracy\") \n",
        "plt.xlabel(\"model number\") \n",
        "plt.ylabel(\"Accuracy percent\") \n",
        "plt.plot(accuracies) \n",
        "plt.show()\n",
        "plt.title(\"Accuracy histogram\") \n",
        "plt.hist(accuracies, bins = 100) \n",
        "plt.show()\n",
        "sorted_accuracies = sorted(accuracies)\n",
        "\n",
        "plt.title(\"Sorted Accuracies\") \n",
        "plt.plot(sorted_accuracies) \n",
        "plt.show()\n",
        "percentage = int(len(sorted_accuracies)/100)\n",
        "print(f\"0th percentile : \\t {sorted_accuracies[0]}\")\n",
        "print(f\"25th percentile :\\t {sorted_accuracies[25 * percentage]}\")\n",
        "print(f\"Median :\\t\\t {sorted_accuracies[50* percentage]}\")\n",
        "print(f\"75th percentile :\\t {sorted_accuracies[75 * percentage]}\")\n",
        "print(f\"100th percentile :\\t {sorted_accuracies[-1]}\")"
      ],
      "execution_count": 43,
      "outputs": [
        {
          "output_type": "display_data",
          "data": {
            "image/png": "[encoded data removed]",
            "text/plain": [
              "<Figure size 432x288 with 1 Axes>"
            ]
          },
          "metadata": {
            "needs_background": "light"
          }
        },
        {
          "output_type": "display_data",
          "data": {
            "image/png": "[encoded data removed]",
            "text/plain": [
              "<Figure size 432x288 with 1 Axes>"
            ]
          },
          "metadata": {
            "needs_background": "light"
          }
        },
        {
          "output_type": "display_data",
          "data": {
            "image/png": "[encoded data removed]",
            "text/plain": [
              "<Figure size 432x288 with 1 Axes>"
            ]
          },
          "metadata": {
            "needs_background": "light"
          }
        },
        {
          "output_type": "stream",
          "name": "stdout",
          "text": [
            "0th percentile : \t 79.88\n",
            "25th percentile :\t 84.50999999999999\n",
            "Median :\t\t 85.22000000000001\n",
            "75th percentile :\t 85.94\n",
            "100th percentile :\t 87.52\n"
          ]
        }
      ]
    },
    {
      "cell_type": "code",
      "metadata": {
        "id": "yk_SsRnoXsUn",
        "colab": {
          "base_uri": "https://localhost:8080/"
        },
        "outputId": "8ba1593f-cdc6-433e-9383-f308daa31ca6"
      },
      "source": [
        "print(sum(vote_hist))\n",
        "print(trainset.class_to_idx)"
      ],
      "execution_count": 44,
      "outputs": [
        {
          "output_type": "stream",
          "name": "stdout",
          "text": [
            "[102677. 115508.  98932.  99896. 101165.  85963.  96158. 101063.  95924.\n",
            " 102714.]\n",
            "{'0 - zero': 0, '1 - one': 1, '2 - two': 2, '3 - three': 3, '4 - four': 4, '5 - five': 5, '6 - six': 6, '7 - seven': 7, '8 - eight': 8, '9 - nine': 9}\n"
          ]
        }
      ]
    },
    {
      "cell_type": "code",
      "metadata": {
        "id": "cRV3-4uBMo8T",
        "colab": {
          "base_uri": "https://localhost:8080/"
        },
        "outputId": "38e8f5d9-af53-406c-c3eb-61927efaf0dc"
      },
      "source": [
        "teacher_preds.shape"
      ],
      "execution_count": 45,
      "outputs": [
        {
          "output_type": "execute_result",
          "data": {
            "text/plain": [
              "(10000, 100)"
            ]
          },
          "metadata": {},
          "execution_count": 45
        }
      ]
    },
    {
      "cell_type": "code",
      "metadata": {
        "id": "kCLN2jZy5nQK",
        "colab": {
          "base_uri": "https://localhost:8080/"
        },
        "outputId": "13d05e28-6a48-4b3b-f60c-643cd0334688"
      },
      "source": [
        "import numpy as np\n",
        "from scipy import stats\n",
        "stats.mode(teacher_preds[0])"
      ],
      "execution_count": 46,
      "outputs": [
        {
          "output_type": "execute_result",
          "data": {
            "text/plain": [
              "ModeResult(mode=array([7.]), count=array([100]))"
            ]
          },
          "metadata": {},
          "execution_count": 46
        }
      ]
    },
    {
      "cell_type": "code",
      "metadata": {
        "id": "3YVJ0qP16PFz",
        "colab": {
          "base_uri": "https://localhost:8080/"
        },
        "outputId": "521d5358-c5e9-46cb-e2b1-a4fb30af9a7c"
      },
      "source": [
        "relevant_meta = {k:v for k,v in meta.items() if k[-len(\"_of_100\"):] == \"_of_100\"}\n",
        "sp = list(relevant_meta.items())[0][1][\"save_path\"]\n",
        "print(sp)\n",
        "model = load_model(path = sp , base_model = Model())\n",
        "for batch_idx, (data, targets) in enumerate(testloader):\n",
        "    #confs, preds = prediction_by_imgs(model, data)\n",
        "    break      \n",
        "\n",
        "confs, preds = prediction_by_imgs(model, data)\n",
        "print(preds)\n",
        "print(targets)"
      ],
      "execution_count": 47,
      "outputs": [
        {
          "output_type": "stream",
          "name": "stdout",
          "text": [
            "/content/drive/MyDrive/academics/columbia/neural_networks/project/data/round_6/model_0_of_100.pth\n",
            "tensor([7, 2, 1, 0, 4, 1, 4, 9, 2, 9, 0, 6, 9, 0, 1, 5, 9, 7, 3, 4, 9, 6, 6, 5,\n",
            "        4, 0, 7, 4, 0, 1, 3, 1, 3, 6, 7, 2, 7, 1, 2, 1, 1, 7, 4, 2, 5, 5, 1, 2,\n",
            "        4, 4, 6, 3, 5, 5, 2, 0, 4, 1, 9, 7, 7, 8, 9, 3], device='cuda:0')\n",
            "tensor([7, 2, 1, 0, 4, 1, 4, 9, 5, 9, 0, 6, 9, 0, 1, 5, 9, 7, 3, 4, 9, 6, 6, 5,\n",
            "        4, 0, 7, 4, 0, 1, 3, 1, 3, 4, 7, 2, 7, 1, 2, 1, 1, 7, 4, 2, 3, 5, 1, 2,\n",
            "        4, 4, 6, 3, 5, 5, 6, 0, 4, 1, 9, 5, 7, 8, 9, 3], device='cuda:0')\n"
          ]
        }
      ]
    },
    {
      "cell_type": "code",
      "metadata": {
        "id": "rObXy--x6huz",
        "colab": {
          "base_uri": "https://localhost:8080/"
        },
        "outputId": "a0f5e029-5919-47d9-a272-9f367529f3a2"
      },
      "source": [
        "\n",
        "sp =relevant_meta[\"model_0_of_100\"][\"save_path\"]\n",
        "print(sp)\n",
        "model = load_model(path = sp, base_model = Model())\n",
        "for batch_idx, (data, targets) in enumerate(testloader):\n",
        "    #confs, preds = prediction_by_imgs(model, data)\n",
        "    break      \n",
        "\n",
        "confs, preds = prediction_by_imgs(model, data)\n",
        "print(preds)\n",
        "print(targets)"
      ],
      "execution_count": 48,
      "outputs": [
        {
          "output_type": "stream",
          "name": "stdout",
          "text": [
            "/content/drive/MyDrive/academics/columbia/neural_networks/project/data/round_6/model_0_of_100.pth\n",
            "tensor([7, 2, 1, 0, 4, 1, 4, 9, 2, 9, 0, 6, 9, 0, 1, 5, 9, 7, 3, 4, 9, 6, 6, 5,\n",
            "        4, 0, 7, 4, 0, 1, 3, 1, 3, 6, 7, 2, 7, 1, 2, 1, 1, 7, 4, 2, 5, 5, 1, 2,\n",
            "        4, 4, 6, 3, 5, 5, 2, 0, 4, 1, 9, 7, 7, 8, 9, 3], device='cuda:0')\n",
            "tensor([7, 2, 1, 0, 4, 1, 4, 9, 5, 9, 0, 6, 9, 0, 1, 5, 9, 7, 3, 4, 9, 6, 6, 5,\n",
            "        4, 0, 7, 4, 0, 1, 3, 1, 3, 4, 7, 2, 7, 1, 2, 1, 1, 7, 4, 2, 3, 5, 1, 2,\n",
            "        4, 4, 6, 3, 5, 5, 6, 0, 4, 1, 9, 5, 7, 8, 9, 3], device='cuda:0')\n"
          ]
        }
      ]
    },
    {
      "cell_type": "code",
      "metadata": {
        "id": "MDq-Z6wM_msm"
      },
      "source": [
        "vote_hist = np.copy(vote_hist_orig)"
      ],
      "execution_count": null,
      "outputs": []
    },
    {
      "cell_type": "code",
      "metadata": {
        "id": "lwDPcVi3MctK"
      },
      "source": [
        "type(vote_hist)"
      ],
      "execution_count": null,
      "outputs": []
    },
    {
      "cell_type": "code",
      "metadata": {
        "id": "Bh6iQhoEsFv9"
      },
      "source": [
        ""
      ],
      "execution_count": null,
      "outputs": []
    },
    {
      "cell_type": "code",
      "metadata": {
        "id": "HnmVL_iPyp6v"
      },
      "source": [
        "def compare(ind):\n",
        "  print(f\"Prediction: {vote_hist[ind]} : \\t\\t\\tP: {np.argmax(vote_hist[ind])}\")\n",
        "  print(f\"real :\\t\\t\\t\\t\\t\\t\\t\\tR:  {ordered_test_targets[ind]}\")\n",
        "  \n",
        "for i in range(5):\n",
        "  compare(i)\n"
      ],
      "execution_count": null,
      "outputs": []
    },
    {
      "cell_type": "code",
      "metadata": {
        "id": "ZQQ5uVV8zJe-"
      },
      "source": [
        ""
      ],
      "execution_count": null,
      "outputs": []
    },
    {
      "cell_type": "code",
      "metadata": {
        "id": "kJP36FhEfUTY"
      },
      "source": [
        "def laplaceMechanism(x, epsilon):\n",
        "    # sensitivity = 1\n",
        "    return x + np.random.laplace(0, scale = 1.0/epsilon, size = x.shape)\n",
        "    \n",
        "def laplacify_votes(vote_hist, eps = 3. ):\n",
        "  # https://becominghuman.ai/differential-privacy-noise-adding-mechanisms-ede242dcbb2e\n",
        "  return laplaceMechanism(vote_hist, epsilon = eps)\n",
        "\n",
        "def get_labels(vote_hist):\n",
        "  return [int(np.argmax(vote)) for vote in vote_hist]\n",
        "\n",
        "\n",
        "def get_new_labels(vote_hist, epsilon = 3.):\n",
        "  \"\"\" Give a histogram of votes, and noise to it, and get the maximum voted for label\"\"\"\n",
        "  return np.array(get_labels(laplacify_votes(vote_hist, eps = epsilon)))\n",
        "\n",
        "def get_student_dataset_and_dataloader( epsilon=3.0):\n",
        "    student_dataset = datasets.MNIST(\n",
        "      \"~/.pytorch/MNIST_data/\", train=False, download=True, transform=transform)\n",
        "\n",
        "    vote_hist = vote_hist_orig.copy()\n",
        "    # put this back later\n",
        "    student_dataset.targets = get_new_labels(vote_hist)\n",
        "    student_dataloader = load(student_dataset)\n",
        "    # send this to the device\n",
        "    student_dataloader = DeviceDataLoader(student_dataloader, device)\n",
        "    return student_dataset, student_dataloader"
      ],
      "execution_count": null,
      "outputs": []
    },
    {
      "cell_type": "code",
      "metadata": {
        "id": "2TEngQiVAZoa"
      },
      "source": [
        "m = 4\n",
        "c = 0\n",
        "for i, noisy_i in zip(vote_hist, laplacify_votes(vote_hist, eps =1000)):\n",
        "  print(f\"diff between vote and laplacified votes:  {i.astype(int) - noisy_i.astype(int)}\")\n",
        "  print(f\"diff between vote and laplacified votes:  {sum(i.astype(int) - noisy_i.astype(int))}\")\n",
        "  print(np.argmax(i))\n",
        "  #print(noisy_i.astype(int))\n",
        "  print(np.argmax( noisy_i))\n",
        "  print(\"---\")\n",
        "  c+=1\n",
        "  if c>m:\n",
        "    break\n"
      ],
      "execution_count": null,
      "outputs": []
    },
    {
      "cell_type": "code",
      "metadata": {
        "id": "cCgE-OJqmwnH"
      },
      "source": [
        "#vote_hist_orig[:5]\n",
        "vote_hist[:4]"
      ],
      "execution_count": null,
      "outputs": []
    },
    {
      "cell_type": "code",
      "metadata": {
        "id": "-FFMPGfG04jw"
      },
      "source": [
        "meta.keys()"
      ],
      "execution_count": null,
      "outputs": []
    },
    {
      "cell_type": "code",
      "metadata": {
        "id": "UWfIWC09mzbl"
      },
      "source": [
        "trainset.targets[:5]"
      ],
      "execution_count": null,
      "outputs": []
    },
    {
      "cell_type": "code",
      "metadata": {
        "id": "JoRoE9YvdINQ"
      },
      "source": [
        "student_dataset, student_dataloader = get_student_dataset_and_dataloader( epsilon=3.)"
      ],
      "execution_count": null,
      "outputs": []
    },
    {
      "cell_type": "code",
      "metadata": {
        "id": "630h0DLXkQ9t"
      },
      "source": [
        "# how often does the new targets differ from the old targets:\n",
        "diffs = 0\n",
        "for i in range(len(testset.targets)):\n",
        "  if student_dataset.targets[i] != ordered_test_targets[i]: #testset.targets[i]:\n",
        "    diffs+=1\n",
        "print(f\"{diffs} /{len(testset)}. alignment : {100* (1-(diffs/len(testset)))}%\")"
      ],
      "execution_count": null,
      "outputs": []
    },
    {
      "cell_type": "markdown",
      "metadata": {
        "id": "p8qFWPUIe1l3"
      },
      "source": [
        "## Train Student"
      ]
    },
    {
      "cell_type": "code",
      "metadata": {
        "id": "J0DD6W4c46Um"
      },
      "source": [
        "student_dataset.targets"
      ],
      "execution_count": null,
      "outputs": []
    },
    {
      "cell_type": "code",
      "metadata": {
        "id": "_MWeLD2Mc41b"
      },
      "source": [
        "model = to_device(Model(), device)\n",
        "\n",
        "EPOCHS = 40\n",
        "epsilon = 1.0\n",
        "\n",
        "student_dataset, student_dataloader = get_student_dataset_and_dataloader( epsilon=epsilon)\n",
        "\n",
        "base_save = os.path.join(f\"{ASSETS_BASE_PATH}\",f\"num_teachers_{num_teachers}__student_{epsilon}\")\n",
        "# make the directory to which we will save stuff\n",
        "os.makedirs(os.path.dirname(base_save), exist_ok =True) \n",
        "tensorboard_path = base_save \n",
        "save_path = base_save + \".pth\"\n",
        "print(f\"tensorboard path is {tensorboard_path}\")\n",
        "print(f\"save_path is {save_path}\")\n",
        "model_name = f\"student\"\n",
        "# \n",
        "\n",
        "meta = open_yaml(meta_yaml)\n",
        "if not meta:\n",
        "  print(f\"no data in {meta_yaml}\")\n",
        "  meta = {}\n",
        "  \n",
        "student_info = do_it_all(model = model, model_name = model_name,\n",
        "                                save_path = save_path, tensorboard_path= tensorboard_path, \n",
        "                                trainloader_ = student_dataloader, val_loader_ = testloader,\n",
        "                                num_classes = num_classes, device = device, epochs = EPOCHS)\n",
        "meta[f\"student_eps{epsilon}\"] = student_info\n",
        "if student_info:\n",
        "  write_yaml(meta_yaml, meta)"
      ],
      "execution_count": null,
      "outputs": []
    },
    {
      "cell_type": "code",
      "metadata": {
        "id": "kR1TS7HnJTsx"
      },
      "source": [
        "list(meta.items())[0]"
      ],
      "execution_count": null,
      "outputs": []
    },
    {
      "cell_type": "code",
      "metadata": {
        "id": "aUQOeqQ0l3jJ"
      },
      "source": [
        "%tensorboard --logdir /content/drive/MyDrive/academics/columbia/neural_networks/project/data/round_4"
      ],
      "execution_count": null,
      "outputs": []
    },
    {
      "cell_type": "code",
      "metadata": {
        "id": "ldWXjCevBX6E"
      },
      "source": [
        "%%capture\n",
        "!python3 -m pip install syft==0.2.9\n"
      ],
      "execution_count": null,
      "outputs": []
    },
    {
      "cell_type": "markdown",
      "metadata": {
        "id": "K4uWx2_2Cslx"
      },
      "source": [
        ""
      ]
    },
    {
      "cell_type": "code",
      "metadata": {
        "id": "xZ9mQps_CsyH"
      },
      "source": [
        "import syft as sy\n",
        "from syft.frameworks.torch.dp import pate"
      ],
      "execution_count": null,
      "outputs": []
    },
    {
      "cell_type": "code",
      "metadata": {
        "id": "G2Ty7SIq7L6p"
      },
      "source": [
        "teacher_preds"
      ],
      "execution_count": null,
      "outputs": []
    },
    {
      "cell_type": "code",
      "metadata": {
        "id": "w29mc7qfC8Pt"
      },
      "source": [
        "\n",
        "?pate.perform_analysis"
      ],
      "execution_count": null,
      "outputs": []
    },
    {
      "cell_type": "code",
      "metadata": {
        "id": "ynLmNdIWC0VO"
      },
      "source": [
        "%%time \n",
        "%%capture\n",
        "\n",
        "eps_test = [0.3, 1.0, 2.0, 4., 10., 40.]\n",
        "eps_d = {}\n",
        "for eps in eps_test:\n",
        "    print(f\"eps : {eps}\")\n",
        "    vote_hist = np.copy(vote_hist_orig)\n",
        "    data_dep_eps, data_ind_eps = pate.perform_analysis(teacher_preds=teacher_preds.T.astype(int), # note might need to transpose this\n",
        "                                                      indices= get_new_labels(vote_hist, epsilon = eps), # student_dataset.targets, \n",
        "                                                      noise_eps=epsilon, \n",
        "                                                      delta=1e-5);\n",
        "    print(\"Data Independent Epsilon:\", data_ind_eps)\n",
        "    print(\"Data Dependent Epsilon:\", data_dep_eps)\n",
        "    eps_d[eps] = {\"data_dep_eps\": data_dep_eps, \"data_dep_eps, data_ind_eps\": data_ind_eps}"
      ],
      "execution_count": null,
      "outputs": []
    },
    {
      "cell_type": "code",
      "metadata": {
        "id": "0ybLonHuev5j"
      },
      "source": [
        "for k,v in eps_d.items():\n",
        "  print(f\"{k}: {v}\")"
      ],
      "execution_count": null,
      "outputs": []
    },
    {
      "cell_type": "code",
      "metadata": {
        "id": "h0rRHM1-jGJt"
      },
      "source": [
        "# https://blog.openmined.org/build-pate-differential-privacy-in-pytorch/"
      ],
      "execution_count": null,
      "outputs": []
    },
    {
      "cell_type": "markdown",
      "metadata": {
        "id": "tkE95sdqaEWw"
      },
      "source": [
        ""
      ]
    },
    {
      "cell_type": "code",
      "metadata": {
        "id": "Df7leGrBiWCc"
      },
      "source": [
        "model.device"
      ],
      "execution_count": null,
      "outputs": []
    },
    {
      "cell_type": "code",
      "metadata": {
        "id": "0tnDSK64iXoI"
      },
      "source": [
        "device"
      ],
      "execution_count": null,
      "outputs": []
    },
    {
      "cell_type": "code",
      "metadata": {
        "id": "CwYt8-pxiave"
      },
      "source": [
        "student_dataloader.device"
      ],
      "execution_count": null,
      "outputs": []
    },
    {
      "cell_type": "markdown",
      "metadata": {
        "id": "Damh11voaPR0"
      },
      "source": [
        "![image.png](data:image/png;base64,iVBORw0KGgoAAAANSUhEUgAABCoAAACfCAIAAACwf69IAAAgAElEQVR4Ae29T4gcSZbn78c4+mUPE6dA5E2XOBTooMMEog86FCIOomm6GBRiQQzdBwXFNAy9iBDk71A/OiEOrcOIoonaQfrN7grWmVq6pR1NExJUF5Vi1aEZjahWi6pQU3+2aqp2vFHzGx3y4Iu9Z27+zMzN3COVkZWR+sYh093+PHv2sb/P3cw8KfADARAAARAAARAAARAAARAAgUMhkBxKKkgEBEAABEAABEAABEAABEAABAqYH6gEIAACIAACIAACIAACIAACh0QA5schgUYyIAACIAACIAACIAACIAACMD9QB0AABEAABEAABEAABEAABA6JAMyPQwKNZEAABEAABEAABEAABEAABGB+oA6AAAiAAAiAAAiAAAiAAAgcEgGYH4cEGsmAAAiAAAiAAAiAAAiAAAjA/EAdAAEQAIFiNpstFouWICaTSfvALWUiGAiAAAgcNQLz+TzLspZazWazPM9bBkaw15wAzI/XvAIg+yDwGhHI8zzLsvl87uR5Sj/HMX47GAxggcQRwRcEQGCjCczn88lkslIWhsMhLJCViL22gWF+vLZFj4yDwOtFYDabjUajPM/TNJXP8+bz+XA4XJVFnue9Xm/VWAgPAiAAAt8hgTzPZ7NZv9/v9Xr9fn9Y/nr0m06nRrc8z/v9/qq2BDpGAxAXcQLtzI+9x9NukiTd6eO9uLjD8X24nSRns89UYuoy2X54wOm+/Pyjnau/ogRWlWxF/Sw7azRdVZAd/uAkWXJJ7IHjs5I47Jv11IhiTQUQprP3/O7bp7udJEmSP/9vz8PhDtwnf3z9/IlUpdv5T7v/fuDii6LY+/bj7MezR1r0mgrMVXy5XKZpulwui6IYj8fyxcVgMPDfh7jx6+5Ho9FsNqvzae8Wr1it4MRFtFelLqRdVnUhXkO3dQKXOK3B5CDHuvZtXFVAPdZSrg9usDgkiCtoLan8j//acui2smEVmOUji3Wd1zIP0d57OBwmSeK82RgOh7JDG4/HToCWqh9Ex+gnZfdFrbrGoigkkdal6ie+NhdRQe0aIxXf/Xf7bm3aOIL3h5y6Kt1rOALt21bmB1kfW1tbSecnH76w438nd6JLbFsHV9NTJLBaRLaHDHi7Oq0qSoY/OElSKk+qD25EsWR/RzfrqRGHbn7sPbiSJJ3T79zZ3d395z8cYqt7futMkmxdunl/d3f36ddrKUTR4a7tCYKn+GQyqX3FkWVZv9/3grdyYJOmVdBgoHjLblWb4yKCKbfysMuqVZTjH2idwCU9exxqVRdk9OD1Cm1cqHDAVeGQILbX2qKyaPvk0MqGoFUc+pChitvKQ7T37vV6SZLw4xhTUbIsM89llstlr9db9dUHizqIjtEoZS7somzZHCwirUvVpLn+C5Erqy5Zin9t361fK52CUG6VodpqBxFl25gfLz78SSfpv/ePN08lyQ9ufxWRdkhebTO3b3VeIQErqlWd9q2Ninhwkiw17NpleW3qjSqAg38fdug01lTgzfk4BH7fSa3r9Xq1T/JGo9F4PG7mEghh3qgE/BudD6CgD0BEUM3vpKyC2hwRj3UCl1m0BpMDfPuxQhsXKmxmVWiv9QpUZCHJa0FLOh/edcs8LBaLJElqH7sYe2M6ndY+r2mZmVfuGP102heliNuSiIhxyJehXNmK23eHpmJIuQYFlLbmIXwkbAvz48UHl5Oke+1J8YmyP07d/MQRlz+9fVWv1khPnL96+6k592DvywfXL/ICkk739MXrD74s1269/PyjgA/n997DnTfSJElPXPnNv6n3Z08zXojS6b55/XEuMidKhWM++PLBDmvT6Z5+O6uUUVJuX32TlrOkb7ydPX2qnm/4T/5JjFp6on4a4d63H4fyKGF4Ucnh7K2PH924qLKTeCqpl7X17KTcZvODSJ/hJTNJp3vy/I5hzbCePs3eJhXSE+d3Pvr8pRbPzMq1axEpaslMsDSLttng5FQRiXLIi5ef3jbFWyleFHG5gXrHNeKjT+dlWZ8QMHQumkhxnVWoDEYuSl7xp1DsnD9JVYlgG6CrZtApZVkqugYaW2rFJmNLjpesCUvsTMJns8/s+qHCSZeqatUAC9UYKw3V/LjATB0MN7Wm5Ew25MVyuZxMJqPRKEmS4XDon1jV6/XkPhATN8/z6XQ6Go14XVae55PJxDdUBoOBXC1ton9z94LpPpQj3Sfn3v+iDEEOlz94wRUr1EfYcKgL8/uLuIgyQf2fKN568P5fdDtJp3vm736v3AMNmFIv60NZVvawwoVC61S5asiumz1V31NXQYKtyNGYBoDbV3WDU6PCGbtjF+FZh8AgwJ5lTVOxpEulrO6r31Stf+/bR3otIg0aPLZRtLO3/kn3Y9Stf/xtObjp5YU6z87IR6m4+EUGzCWlUbIn5ipqsh3s2WhNY32iRmj5BLOUqwe4yPjGVET5GnyBSCtW/GoN9Vk1JNdWFN1ri2J5EJneULWioTB94+27z5/bw3ybmq6ocBG30M4E9ArM+DD+AC9TCwOVVpZdXBDVD6dk/djkMp1OkySRvZnfiQ2HQxnASOLTO8bjsek2Z7OZH3I0GvkytZBIyw+OVFbuyr7IzN/UDFGP6tQ9cGu04rilGm2mPOf0JRoK9oUZHXjIiJtt4QpqaoytuClTutD9b6Ail32a7IajOVVJBZqepYWHnAcjngW5nTILbd690Gx+fHX7B2x96IzZG0Dyh9tbSdI5+db1O7u7d66/dbKTdM69r9Lde56d6yRJ+r2r2f3d+9nV76VJsvXOoxfGZ+u8iqN9Ouey59R9Uwl0OqladnI/++8Pvyr2nlyjJH58k+V0z52rlmUSIUVGa7e1tWWlaJaLsTqsKKXZ2drq1pkfL/7wz7u/+GGS9K/8Ui970Xk8/dPsfpnHZGv7obGyTE30ourMdFil3Ts7CoJR6cWjnZMdDajkUCu3zJw98Jtki/yDy52yDHbvZzvnt5Ik2br2hIAqQt2trU76vR0qIuWpi6isqjyiRKWES7NYIRvEwxTRnetKl+6FS+fSk1y4Pz3dqQzcqNxwvaMa0emkXCXv3/zxSSEzmkdNSsfkymzMbdMzFMWLh9vdpHP6RzfUwijORFmmK2WwKkDnStWjX17p6zqolkBp/G2bjCMvmmsZ9uunu1T3kx/+gtd8UX64eelw0iUKLFRjvn7KeaMk1OouKjCdRrSpRZOT2XCuF4sFL3Sez+eLxUKuN1gul/4KBI6e04+3Y/J2kfF4PBqNHOHj8bh+sCFQF+5+w+H3Hm7TNp7LH+h1dDRLU94UrtMJ9BE1cPy+Ni7CUVhJ7HQ6tLzuzo1/eLYXacC1ZWX3QkqcdtFqiK47VmKRVuRovPfsvVPlQLK7e+fGj1Qv0blwt+49POlgephycNFrhsmzXW2+n1FfdPbSpS2r42RJJfCO7Ld4cFO6f/ar76emPy4HRT2++fid3Ja33mDCDSXUs0UTLWWq/14bLxobnSzfEl84EsFpW/G16FhFKbSCPIgSTrUQvKx1Mm9FUXx19wLNOniwe+vkyXPn+maYDw8pHhXKRRvtTECvwIyPUjHMq2nm4mQwLMjLgxNT3HJ/OJ1Ol8vlfD4fjUbGljChQs9llstlnufD4TBN06JQ55XX9oG1jiQ80vIjI1VtX6TNDyK9dX5HTdB0y6XH5B4Rq0hizTQk0dARF0zDvFrnW+FvX8YqqFHPVnx31xmWI122rk3WDDraN0SaXgx5vFNWQnXjsXPv3DWaH0Sk/94zikc30v7gFyLvPTMPfvIPLqf0SI1WbHUuf2Am6UpfepvB9syVB5XPt/fU9Fn07Mlf3jO+FFzMyvee3zpbvZdQ+ZR1MDl7i80YZQDRkM/9pS+FjCNjPdtYJD3edi/EFi+fvlv7GohkyKg8tUhOVXyISnLlgeKl2HUu3xMPzajx+a+XlFxTMW1F6e6rX49PpFZhU7GIvjMx1p3qCMlYEbQ1oZiUcGmulA3KhSgierGWdKu68Oy9fqIfEUfxhOudHqRFxaOwZ26p3dstSAllLOiiAFQRszzCv/f03X56Yueh2qW9SgZrSlI4ifSKYsUmI8Soy3iuncCWNcD5KWccFJL00i7U+ALAIjXGkUpSSGJDU4sl5+bCuR8Oh7UrDXgRgjRInIiTySRJkul0GtqbPplMBoOBE4tuVV3ubD/krvHJtW6iJk3qLbL6Uc2nlaxcZQJ9hCyNcJ2Pi3B0I4r9d5+aLjva0GrKyuppSEHtwmqIrpu1D1QQpUegFTkaP/lFv7u1/bDa/8S9qFUtyyisg+it5SBAnlY06eJWL+qL3M6q8446MYFTEWXGgzFzIO1Ovfu0fMNcFOSrxzcPf6l53X8VuMJNUeWQKnq2eKKubJKkQbRodLJ8OVY00ioVX4smhQIVhdKyBjB65CnAVNnzwz64og7NYa3jNV22NXvAjWnHdaEsJBWyvJY+UV66OgUqbZU5dRUXZD/LsWNad71eL03TMf36/X6apmbNlQmXJEmo02OrgztG325hCZPJpLbLZR3rW37DSCVbq8wqufOkitLO7/1lp3v+7/m8FlnXZZFEW0xUoiGkL0ajkTMEhJjo8rMqs6yglGxZfyzF7coZrcgkRM6gozmN9tG6GZguU6gU75StduDyEvdN5gf1cNWMmOZB5aPeovji/XOiuQmxRfHonU41+EofeuxX2jPagxsVPRm0SqAcp+3gNHTLfovxUExRrWUXUpMo7e1tYX6oiUNiHlqywoTBVqrMogU+phLtJTqzM1embfmjR95l9Ssl0n8Xi+Xp3ygttH7q0syCKCSNyGIcNbXLlVNJCZYm73Vrmw2Ph0pBW2OsmtpwTQCieCL1jpuT6ItkP+VmUK9FEKSkMlZMUQDUJrYu3fzt8o/VFINFr5DBGl2kk0iPF+441S3SZKSYwHVVsl4AKpKySpAW5Q0FlS5u6Ulg4RoT7tMamlosOS8btkOv1/OXBxRFMZ/PkyTWB2ZZ5qxSsAWrh3/8FNBxL4pCZUebG4ramVu3r3X15ISaIDd0AhrotiTQSJ2Pi3AUs8q33KwabsCyvFkdu39S4rQLBbV8YyUWaUWOxv4tpeT0yRwqisLOi4ogXVxlPVHUJVFjIC97GyR5qrV1NK78hx/9l7JPp//qdTqPNS5+P3PCRcAtl03V92wNiQqRdCmVaNHoZPlyZxCPtELF16Jd9rLi16RFsK2apnNIJqNdMciJtI4OKSXfsrOjIm6hnZzROu1DiKjJAz9Tol7dq2m2UFl6cUESm4xlX/MzF/nO1n+py6+FzTZ0W4C6y/M8SRI/ogkZ7hhXavmqZpRDH3EqC0hMyGl+3Tn9zr3f/+8/macqpSKyrguu8RYTlVhKpv88gvDHFn0TzgqqbqIVVKjnVkeRW32+QLDLFtWOko/ntGG+FELuZUz3pbrtKeh17dONFht6S1u7sj70c1izAV3NMepn8OHBkjJk9xDSUHDh1QVXbVD2DFwj3ZhSKvU8Vs9tDz0OFklP1n8TzKrTxlVdyKh2daJglZIkwl7Vx3dsGFhCZVYcD3P78o//unyi1ib8bKxXhzMWSyEOXSlBV6ZBq0XgtVLCpcm1t202qoS12h5Ho20UT7je1XXAbiL1eWyIKVXPH19Xq+jULz1x5uL1O0/KzTQyFGXRTduuH6bw/Aspia7bNxlfmHIJ5doNbWlMKcv6wVVau1hBSY5xidQYt+WZOMSmHGqMWra33dtUfiZ4zQUPt/JASROIrQtz61/wKBtcxFwU0+k09PUPsjEoP+qBSffaExoIqBxVD6ZzKgua05cuVQ4jdV5G8EU4maoksgfdhxuwXQNUYHtYES6+Gm5aVhsLtyJHY7rd+9P/+eL3i9372d9c0dsJbT10HF8H4WLnRcWQLq6yIiILrwJXVzpZ3fErY5P86njyW103lUpAzZWA681HVHAjrCFRV7SJp2U0NDpNWuRaCQhHWr3iS4VYWeNCjcYyz7XSdeVfoxc9eaQOi0TWlYwecU2SSgPKrE7C8iD1hIsMaPfuwkeFD/MSAXVJ+S7aIy5I1Agdvu4fv9E1i4X4KYwTkPu9iPlRFEWaplKIIyHSMTa0/OBIRVTMaCTKYO/5XVpjTdtrT56/mn30iVlUIoLJUiVZdZWBm2lMopVR3lXI75HG43HtKCMi1JRfVUGtSlc1boous0HXdbpTRXbrTkNOpWBWVLoEkVPQYKesRNS1T0GCLqPmBz9hrcuntkikorZkl0HlSz7t51J1wZUJ6fcMfpKVCxmdR9D8MG2p4lN/VWWlxr9qzp3uyf6Zi1dubJunbXaPyJFJGO2CpSutRERKJPVwFahR1JPjxTb11vOR4mKevp9wieSxrusWMV3V9/70hyd3bozL/bB6daAbyulDIgOnzJ66lpLoun2TcUWpk8+1uVRTP9zQIs/29IwDki66xlhBydu4SPXdFDhvpuqbOAQrPEj7LGtcvLTMOoHaFVZsmUSeWvEzPPmk0EkhvMZAr7BSHZUyHVTvo0YaNUSo7qhchuWTki42HNv4MprICOzou5jAlUR2cu9NQCHJKit7WFHRtYufqC/bcalvRY4KYiqQnuj3z4//5trlvknVDuzrIFzo0uRFRZQujmpWC6REqsDVVZW6iq4qL/nZjKpAdZ2M9HWulcxKlKugENaQqCPWajel3laYKimhgsh1QySzPqFtxa/SK9UwLiTrFcwPik+FbkSWaTj/LX9J1PKgSMJFBiSwpsCEjwof7tlEQK2S76I94oJEjXDyJm8Hg0GSJHHToiiKxsVXaZpGOsbpdBpYfEW61Lf8+EhFVEz7FWVAEl9+/fuPsp2Leru4WeBkBau4VlcSjX0dkGgFGg6HocdPujSq+fP2Q6ogTkWoKqjdd1iKe002MBSUfZqphPZMwlKdb+xklJt0CSKPd8pKhFChJll2ipkf9AYqOfX//E/rPfLuf77YKb9AWPOM84v3z9EOD9Xx2Gt+ikfvqG0hu+pIGKcE2M4h88CtFlQ4dnBy0pkTqNyYEnzd4iuxM8TFI+kFX3e6XSILkVHt6kT+lZJkEdkZc9UQ91U84ciXDO/su//ytVkKRIR0BVUKlVMdHUHlnJ1ILDXouJRgaf5+pWx4uRDFx7oZfFG5kXpnNZ5KJsGI5zEWU9YlFlr9ffn1b9T6YtpsuUIGKwG1V1JSTe3Vi4Brm4wjryHXTmibAmlhtpGqoKomlF2fV3oicrjG2JM+2ds1NLVYcm4u5P1oNAqtj4o/5FssFnzaVSh6URT+wl+RNBXc5Q8ev9fn6kF2x5lbD7KzVZOUBc1RpUuV50idlxF8EUIfdVlJZI9oQ6srK6szkVr5arhp+akb5WQrMo50wRufLv/jH6qFFaRz7fDm6yBc6LJ1bRYRWSFyoM7SF8SLUJVs7nvdhwUmSz4S4+VfqMBVNv2oxqUhUVeyiaeXCNYuLubxTahQ5Z/WFUYi8XLRFSq+VIiVrVxqegWvaMoMUsWw2ZMTlVpDTbdbhkyi0qVMR7jIgCTCFJjwqckDL74iyCKgTsB30R5xQZH2VWrOPV6kQysDqpcboT0MfJwgv0UJPbuJdowmEfVa3oyfTSMVUQmaH0bm3p+e/X9nzaRHFJUcxVdqMbZEk5C6MFvwjat4zkVpW+ZHtILa80VLcatyxiuyW3cacmono3IhXULIGzplJcK0A0PGv4iYH6y2vcJVCeBKwhtAeGtItbWa94WrhHn1nNgBnKs9NsogYc2r7cbFHm89vzRXp8S48Ipv5pc6cneyPlFHZ06g8mJKWZSo2MDOG7DNRMoBI+npNlHtaNdbz7eu/86JRbcyqlRAhxVKEju53a5QiDrdv6azhh3ZIp7jw4lIW4h5lnkjQiKZvS9uX+iUH7AnsdWIGpQSLk0+jlnILyLZ8HIhio+zVeGL4gnXO6vxVDJpxkzJB/MYiynr5fO/f+tEKpuF2nu+VvMjuPU80GTsGtKQazuw3fnwNEKcNUGNuKxZUWCRGsM1tmYYaWhqXmWpUcDNjbof0q/OR7n1ej1nh2We54vFIs/z8XjMp0zy6Vi8wNeRw4f5Oo7mVrHvfP/758zzFmWVnTp1SjyZ8dqE1WuIPIfrfFyEUYYvhER2iDY0p6xo9lPVffsYEF8NL62qxGKtyNaYhMg313z0R/3w5usgXMgabF2bRURWiByqzlLsStfnGjEYfmonNhIXhCk9TWcc+0js3Fp3KnA1ivtRK5d4opZQZ4LRotFpFar8B3dAm0FRhV2h4lcZKVWtXEhB8zBbTUDoJDQBpoxTFMXvrqszsarBms+J0s9L4jW9qptKniz9SpcyJeEiA5IIU2DCJw5ZBNQJ+C7aIy7I6b1LbeX/2WzGR5BLx9pr/+Rc0zFOJpM8z822h9ls5r9LCXaM4ZZPuQ6Pz05fZMrg3x/unOxuTR9X2z7ye3/ZZH7wBFVWFdFM4xItWsyT11zleT6bzZzRxArdUEGtYjf5IwnWXbQiW0JU3HjfYAn2kiJhNUM1xQp3ysrbtAOHgLwNmx80Ya92mctIlHveAGIfA0cHy+oDCO2zQun8U/tI3sgpopbmLKg825eSCJ98ZcWUBbH37Oafm9Np1Qm4nY46CdOQlfnjhzuntu/w96btPNLhwvUH7yoZNECXUaUCnIB00V0jH+x4P9vhU4v1AY2WPro37J776585v79bfCMPJlYHwV58I+2kqXlGTRWlOhuZi6g8NriqXQ1SwqWph96kTTZk7imDXt0X9TaKxy4TWe88kdWw0pDHSExrOPrs/XNUk/Q5f3TOsa70K2XQCyzL3Pa08fMp1mZEtoNKIXTdkGs3vE2BjwnkpqrOvEzp1GvdauygSpBwsVWW7V8bNRfeu0+fVRdxosdTSuFaaRnVzUd1n6ZpZEnueDx2VjDzhpB+v88P9vI8T+nnPwtkr9h4Qw+qElpxRQrRDFgcvm1VLK2yLE+Zw2CdlxFYhu9icEiJ7BhtaDxlL8tK1yU6g5xOtd1S55rqTtdP1E+rcom0IqMrXciTKtX55G92O2maBoY3XwfpslJtlhFJEXKozA9zvK9ztG55Sjafyrt758aYzpzXXW4FgHPp3lt5twaTeP3Xza0+UUuo3UwbzoSlRGX5lgOmXRn9QXG1iu9TkC75hz9RHwHjI/xVT0JjtzXUmxyyXiIsPXzWWkdrus1Xlr7UxSs1GTAy+sd4WSIoAd/FyWAn8BkAX1UTsSg3qqkti2ka2c/GUWazmbO2ipeqpmlqjA0+QWvFjjHY8ptGKrsvqrL64tE7W6p+jPkofDqZ23xboArmGJWxFhOVKImqa97+MRgMhsNhbCzgeLEKahW7pbhdOaNzLksIpRnLqSNYhZcJh5A3dMpKRH37ZAjl36D5wQaWNCnLKOooT/UtkHIDevX5N/ereuJDddYn3OgzV+Kzg2/f/CfzQUIfnvVVLJLzy/J4JAuVH9NxMR8vTOgLUveqM3tF1uhy7/ld/kif3pTmfDFo596n5lzgaFRHAaf+q56/+mSj/f06VyxJql7jmSsq4+o7NvRJrpu//fwLtcKNN+hwZbr3mD+e5Xwhi8TqvjkqRT10qj476JRm62x4PGRNpyzb9TaKp/K06p0nUjanaB6jMS3VX346N19Bs4haoVSGPJkig15gWeiep/3ZwcYmI2VFcy0D1mlsWo2mrDKga4yXOSe7wRqTP77O351UG5BsKZGmZges09XNS1EUPGSKF+JumPl87q9Rns/nzqIC55alZFnmx7UToBmkWKdCh2CIe+sxK0eVRe/kub7Oywi+CFsfB7f2rOTyR0vNdzQLtXGoKivqBfSHUrkTUF91k9NTa9BxtHfaQ7AVORpXX51l5e598u3ja93ypHY7cBOKFWqzJ4ocqOrz1YPnd/kreZ3um1fnn5qlr3ZfyV9JNB8ldJG491Z27HHID2q7iObmJGoJdUpB+TU0Olm+uunHIymZK1V8OyMquu1S9WCd7ps7D/5Jnb1v1TSRw71vPzYfKT79dnbvXevrwpGabiUpS9/yoJSEiwxYWAVm+cQgOwH9aYLIXQN4oZgdafU7frbixOPXwtJxPx1jsOVX5Vwzk3H6IpnVvW8f3Sh3fSSqY6o6MBnM7WwjLSYiUeZ+P9fhCmpVBEtxpz3Epo6WkFK/cE7tZFR4y8Xq/qWP6UnrOmUVMNQ+S5XU/6D5IQMdy+vaEzWOYU5llTmG2dvoLO09uNKmkW50Hr9j5afTqfMMz1eo3++b53m+b8RlOBxG3qtEIsILBEoCz2+dqeb0pSP+xwjUHWQZCw+//REYjUb769/QMe4P+OsW63UxP55c2+qe/PkjsTyw3Ipy3Esc5sdRLWG1RyfVH2Q+qjpuql7mO75tXojzZ9FXzer+Yq2aCsIfbwJqI4s82f5453Y/ufvm7oX0xH/81WcmbrXB1DjhYi0Eal+ANKaEjrEREQIwgdfF/OBlhbwkVG2QiO2zOF51A+bHUS3Pr27/1aW7zyuL+KjquYl6jcfjwWAwmUxaPr2bTCb+CuZIxvM8HwwG+3tnEhELr9eMwN7ja+evPQ4u5X3NaNRnl9aZ672favOP3EpTHwOuB0ZgPp9Hvi3oJ5Pn+XA4jCx29aPA5bUl8LqYH7T0Mnu7PBS6e/ri9Wp54LEufZgfx7p4kbkQgZx+IV/ffTwetx81J5MJbA+fIVxAYA0EXn7+0U75haX0xPmrt81WmjUkBpEOgTn9HMfQ7XQ6RccYggN3h8DrY344GcctCIAACIAACIAACIAACIDAYROA+XHYxJEeCIAACIAACIAACIAACLy2BGB+vLZFj4yDAAiAAAiAAAiAAAiAwGETgPlx2MSRHgiAAAiAAAiAAAiAAAi8tgRgfry2RY+MgwAIgAAIgAAIgAAIgMBhE4D5cdjEkR4IgAAIgAAIgAAIgAAIvLYEYH68tkWPjIMACIAACIAACIAACIDAYROA+XHYxJEeCIAACBDm25QAACAASURBVIAACIAACIAACLy2BA7Q/PgsO5skZ7PPXluWyDgIgAAIgAAIgAAIgAAIgECUAMyPKB54ggAIgAAIgAAIgAAIgAAIHByBAzQ/Dk4pSAIBEAABEAABEAABEAABEDiOBGLmB62m2n7w5YOdN7udJOl0T7+dffztnsbwcDtJzt568P5fdDtJp3vm735vFl99c/dCkvTfeyZ5kecPbn9VFMXelw+uXzxzIk3Ur9M9eX7nwZel0KIo8qe3r55n3/TE+au3n+ZF8cnNU966rmfv9ZPO9kMRU6aHaxAAARAAARAAARAAARAAgSNHoNH82Nra6pz88c37u/ezn57uJMnWO49eUC6U+dHpdLYu3by/e+fGPzzbM+ZH8eKDy479QX4X7n5TFPkHlztJ5+Rb1+/s7u7ez3bObyVJsnXtCZsR+cPtraT0vnP9rZOdpHPu/c+KSnZJUFkf3eljFY08k+2HpRf+gwAIgAAIgAAIgAAIgAAIHEkCjeZHsrX9MNeq7z1771SSnLr5ibpX5kfSf/epef0gTIQXH/6kI99/kNflD14UxVe/Hp9Irf3p8s0GXZ9675mRmX9wOVVvVoqvbv/Aev8hrA+YH0eyZkEpEAABEAABEAABEAABEPAINJoflqnAM/1z739Rmh/ylYMwPwrb/lA+nZ98yG9NPBWUHcNLtb54/5xlY8igtv3x5Fq3fPchA+EaBEAABEAABEAABEAABEDgCBNoND+kgWEZHfT2Q/pK86PYe7ht3n/41sfLP/7r8snu7p0bPxvrbR4k6NE7nSS4iEraH2R9XHtyhLlCNRAAARAAARAAARAAARAAAY/AfsyPzjuPLENEC7XMj2Lv8bTL67Rs6yN/fP17Ztd5/8zFKze2f5hoo8OzaCx1aUc77V6H9WGBwQ0IgAAIgAAIgAAIgAAIbAiBRvOD9oubzJCJwU6erWCbH8b+IOujPKGKjJLk7Lv/8vXLUibtU+d3HjWLr754/1x64spv/k2FppA/uP2Vsj6cg7VKYfgPAiAAAiAAAiAAAiAAAiBwdAk0mh/J2VvPy53gLx9Pt5KEj8/lrefBxVcqx8pMOLu9fVbs0iAT5cyt5wbI3rf3LnfKtx98wK7Yer73/Jb8kjrtKLmwvd0vt78bMbgAARAAARAAARAAARAAARA4+gSazY8kSb93Nbu/e//mj+kY3ExbI01vP7T9kSTC+ij2nlyjg3XVSb67u3euX3wj7aRpteNDH7x7+qfZ/d3dOztqmZY56Ve9//jwJ51Op+NYH2TTBPeMHP0ygIYgAAIgAAIgAAIgAAIg8JoQaDQ/zt56cPft0+qzg+mJ8zsffW4WTbUwPwp1PG7StfaI7335YMd8VfDM2zd/+/kX6iuF+jRf67OD9J1D9dXB6kfvP0Rg8oH5UQHCFQiAAAiAAAiAAAiAAAgcYQLN5kf22RFSnw7Uss8CPkLaQRUQAAEQAAEQAAEQAAEQAIEYgc0yP+iT6XrvSSxX8AMBEAABEAABEAABEAABEDiCBDbF/Pjk1z/72ZW3TnaS7vbDwOcLjyBdqAQCIAACIAACIAACIAACICAIbIr58buZ2vfe/Yub9l4QkRNcggAIgAAIgAAIgAAIgAAIHHECMfPjiKsO9UAABEAABEAABEAABEAABDaLAMyPzSovaAsCIAACIAACIAACIAACG0wA5scGFx5UBwEQAAEQAAEQAAEQAIHNIgDzY7PKC9qCAAiAAAiAAAiAAAiAwAYTgPmxwYUH1UEABEAABEAABEAABEBgswjA/Nis8oK2IAACIAACIAACIAACILDBBGB+bHDhQXUQAAEQAAEQAAEQAAEQ2CwCMD82q7ygLQiAAAiAAAiAAAiAAAhsMAGYHxtceFAdBEAABEAABEAABEAABDaLAMyPzSovaAsCIAACIAACIAACIAACG0wA5scGFx5UBwEQAAEQAAEQAAEQAIHNIgDzY7PKC9qCAAiAAAiAAAiAAAiAwAYTgPmxwYUH1UEABEAABEAABEAABEBgswjA/Nis8oK2IAACIAACIAACIAACILDBBGB+bHDhQXUQAAEQAAEQAAEQAAEQ2CwCMD82q7ygLQiAAAiAAAiAAAiAAAhsMAGYHxtceFAdBEAABEAABEAABEAABDaLAMyPzSovaAsCIAACIAACIAACIAACG0wA5scGFx5UBwEQAAEQAAEQAAEQAIHNIgDzY7PKC9qCAAiAAAiAAAiAAAiAwAYTgPmxwYUH1UEABEAABEAABEAABEBgswjA/Nis8oK2IAACIAACIAACIAACILDBBGB+bHDhQXUQAAEQAAEQAAEQAAEQ2CwCMD82q7ygLQiAAAiAAAiAAAiAAAhsMAGYHxtceFAdBEAABEAABEAABEAABDaLAMyPzSovaAsCIAACIAACIAACIAACG0wA5scGFx5UBwEQAAEQaElgsVhkWTafz1uGRzAQAAEQAIE1EYD5sSawEAsCILCpBPI8XywWLbU/gtPZ9soXRbFS4JZMvvNgfqayLBuPx0VR9Pt9qd4RLD6pHq5BAARA4FgSgPlxLIsVmQIBENgngTzPx+Nxnuct4y+XS57Xtgy/7mCLxWIymbRPZTweH7Mp+HQ6zbLMITCdTtnwcCyTPM9Ho5ETGLcgAAIgAAJrJQDzY614IRwEQOBIEJiGf87kezQaOS6NGciybKUZf6PAxgB5nk/oNxwOZeDlcjkYDNrbThx3OByummWZaPx6NptJ9s7sPx53H77T6bS2LPI87/V60+nUl7lYLAaDge9+IC55ns9mMymK7VsHeK3OMhauQQAEQOA4EYD5cZxKE3kBARAIEhgMBkmS8FR7Pp9nWcZPxOW7iyzL9vcsvNfrLZfLYNoH6pHneb/fn8/neZ6naSon9PuwnYqi4Kn5gepoCZtOp0mSpGnqzLmtQAdxs1wu+/2+b32xy3w+T5LE9y2KYjQa+S9MXl2j+Xw+Go1Mimw0pmmaJImT3P7sxlfXEBJAAARA4DshAPPjO8GOREEABA6bAJsfzrQvox+rYqb1+9BsNps5LyL2IaRllMlkYtIyU9uiKLIsczY2tBTI82/nIX0o7nw+lwZPKJh0Z/NDmnnS9wCvx+Nx7WsEk3TISlwul71e7wA1KYoiZAsxDacecvj1vYQ52KxBGgiAAAi8IgGYH68IENFBAAQ2gAC/KEjT1NF1sViYtxavMn3P8zxJEiPKSeVgb3u9Xq2pMBwOayffbVLPssyYNPHwo9GoZUgjZzgc+s/7je9BXXAR1xYBmyW8DCyUXK/XO8CXM2zK1hbTbDYL0RiNRrXLw0I6wx0EQAAENpQAzI8NLTioDQIgsAKBLMt45ZWJ4z/Cn0wm5jG5CWYuZPg8z/1p7mAwOIS5I2ekdqLc6/X8Z+qsv3OWl8yLCRBamGQI8MU+zI9er5emqXxR48g0t0bPJf2Mu7mQ5J1cvIr1WBRF6M2JSXqliyzLfFuXJUTMj0islVJHYBAAARA44gRgfhzxAoJ6IAACB0BgMpkkSWKeRi8WC99UCE3fF4vFbDZL09QcndTv9/3J+ng8Dr0W4EkzT6lDfxszuVgsRqMRT+VH9JMm0GKx8FVimbPZbDweJ0nCWZ5Op2ma+ltc0jQNWS9St1XND1YsRMZI5g3Z4/GYt98MBgPHFFwul7xsaTgcco56vZ58jSDXpBmx7S+yLDvA9VeDwSCU5Yj5we/QTC1trzxCggAIgMBmEYD5sVnlBW1BAAT2Q4CnqkP69fv9NE3l3J0lxuffbMAsl8vZbCafwRttJpNJaOsFv7JIor82U/+iKAaDQW0qjbPnXq83HA7NXhf/XUS/3/dNMpM7c7Gq+cHc4qvC8jwfDofG3ghN0Hl2PhgM+OUP35pZvpRgtG1/cbBvHpIkMdlxdAjljoP1+32TIycibkEABEDg2BCA+XFsihIZAQEQqCfAD+B51s7Le2pn8EmS1C5qYqFm+ZY/cecA/IakXgPaiBx678HuIbFSIG9vqJ3XTqfT+MP78XicpmnEDBgMBrW+C/s3Go0Gg4F08w05qTPv+I+HYZkmFr+f8YHw0VUy+z36ccSQ+fHzn//8P3k/k5a5iJyLZcK0vFgul69iftRWzpZJIxgIgAAIbAQBmB8bUUxQEgRAYP8E/JOX/Mf8/Cjd2U4gk+QAtRN0DhY3P6SofV+zHVX7nsR8Vi8knM2nSAaHw6G/Ios/Ex59bZNEpssMLRKAD+ySa6iKouCXVH5GJpOJ89pK7ucJvb35sz/7M1//p0+fOvIjq9eckI23bMmEqkr87cdgMIibkY2pIwAIgAAIHH0CMD+OfhlBQxAAgVci4J+85D+Mb2N+pGkaWRgTef/Ar1zkGwP/uk0O2Y7ylS+KotH44VlvZF+Bv92CVXI2rrBt4LzJCSnPNo98X2FCmpcbw+FQTriXy2XoLY2zocKZ5Yfe3vzt3/7t/+v9jBrm4gDffsQt1bj50aef0QoXIAACIHAsCcD8OJbFikyBAAhUBFqevBT/Lt54PB6NRqHjjIqiiLx/OKi9H8PhMPQmIb51YblcTiaTXq9X+36DSYU+Cl5xpKuV9n74hh9L433kJl1p1I1GI+dlCAfz5/T8osCYMbwdnwPv42+j/baSzH0vvur1evj6x0qoERgEQGATCcD82MRSg84gAAJtCfBT7TZTutDqHX63wB9K5497mPNhpRLxebnzusC/NdNoKdO5jtgPPDt3wvMtf2w7z3NjPvEX053AoYO/nGDxbDqBece/87qGN5qzI6ttzI/ZbMbmR57nzj4cNuGMKDa3ZJjIyWOOVrW3EeuxNnzc0XlRIwPH3370er3Qqi0pBNcgAAIgsNEEYH5sdPFBeRAAgRgBnnMnSdLG/OD3G1LccrnkDc28V4TnyqHvewwGg9pdGVLgq1xz6pEk/A/nTadT3tHBWz544juZTPwlWIvFouWnOdqbH5xckiSTyWROvyzL+CWMfIfD76am0+lkMuFTd3nxlbNNhc8OZoDz+dycf2WQxt//mGChi9DO9VD4uHvoXQqbXqF3I1wKxsSKJwFfEAABENhcAjA/NrfsoDkIgEADAZ7UTspfPLQ/f+WPUch96rPZbDKZ+G8q+LCjtU4c+TVOJInxeCxVLYpiPp8Ph0PzisDPjgHChoq5jVy0ND/m83lJvea/NKIWi8WYfmxvzOfz8XjsZ5NXJWVZNqOfXwSRr55HssNeeZ63fPnTKMoE6Pf7jpnHS84MDse3KIr4hy+NZFyAAAiAwKYTgPmx6SUI/UEABA6MQK/X8ye+baS3n763kVYbZjKZxN/hLBYLuYe7VkjIcTAY+LPh2sC8ab7Wa32OfCxV46qk0WjkGGAtVcqyLM62pRwZjPfQS5f49XK5HAwGvlkVjwVfEAABENhEAjA/NrHUoDMIgMBaCPDin1VF84oaZ7HQqkJC4c0+DX+5kR+FPyzou8ddFovFgU++4ymu6svruBotQ34BUis8z3N+bTIajczrIBNSviMyjq9+wYvE2sjhVYKNGWwjCmFAAARA4OgTgPlx9MsIGoIACBweAf6m3krprXXNDG+In81mtcfXOnrmeS63VTi+tbd5nrcxbGrjHpojf7uwTXKz2cx/AbJcLvv9Pr9YmM/nzix/Op1GDgRrk2gkzGKxaHxpw8em4b1HBCO8QAAEjhkBmB/HrECRHRAAgVclMBwO288FeZPDqyYZjs/zV/+BfSjGYrFYaTLNG75D0o6Ce5ZlvDmkdteNryHvdJfuvF9lsVg4hkdBX6Mfj8fti1uKxTUIgAAIgMD+CMD82B83xAIBEDjOBPx5aii3a1pzFUqujftKKq0UuE3qRyGM3NpeFAV/0oRP33LUWywWsD0cJrgFARAAgXUTgPmxbsKQDwIgAAIg8J0R4AOLjZUFY+M7KwkkDAIgAAIlAZgfJQn8BwEQAAEQOI4EhvRbLBbT6RTmx3EsYeQJBEBgwwjA/NiwAoO6IAACIAACqxLIsgzrrFaFhvAgAAIgsCYCMD/WBBZiQQAEQAAEQAAEQAAEQAAEXAIwP1wiuAcBEAABEAABEAABEAABEFgTAZgfawILsSAAAiAAAiAAAiAAAiAAAi4BmB8uEdyDAAiAAAiAAAiAAAiAAAisiQDMjzWBhVgQAAEQAAEQAAEQAAEQAAGXAMwPlwjuQQAEQAAEQAAEQAAEQAAE1kQA5seawEIsCIAACIAACIAACIAACICASwDmh0sE9yAAAiAAAiAAAiAAAiAAAmsiAPNjTWAhFgRAAARAAARAAARAAARAwCUA88MlgnsQAAEQAAEQAAEQAAEQAIE1EYD5sSawEAsCIAACIAACIAACIAACIOASgPnhEsE9CIAACIAACIAACIAACIDAmgjA/FgTWIgFARAAARAAARAAARAAARBwCcD8cIngHgRAAARAAARAAARAAARAYE0EYH6sCSzEggAIgAAIgAAIgAAIgAAIuARgfrhEcA8CIAACIAACIAACIAACILAmAjA/1gQWYkEABEAABEAABEAABEAABFwCMD9cIrgHARAAARAAARAAARAAARBYEwGYH2sCC7EgAAIgAAIgAAIgAAIgAAIuAZgfLhHcgwAIgAAIgAAIgAAIgAAIrIkAzI81gYVYEAABEAABEAABEAABEAABlwDMD5cI7kEABEAABEAABEAABEAABNZEAObHmsBCLAiAAAiAAAiAAAiAAAiAgEsA5odLBPcgAAIgAAIgAAIgAAIgAAJrIgDzY01gIRYEQAAEQAAEQAAEQAAEQMAlAPPDJYJ7EAABEAABEAABEAABEACBNRGA+bEmsBALAiAAAiAAAiAAAiAAAiDgEoD54RLBPQhsFoE8zyeTSXudJ5PJYrFoHx4hQQAEQAAEQAAEQOAACcD8OECYEHVIBBaLRZZleZ4fUnpHOJk8z4fDYS2KPM8Xi8VyuWT1pckxGAzk7RHOH1QDARAAARAAARA4bgRe3fz4LDubJGezz44umf1p+PLzj3au/kpna38ijgoS0n77oVbns+ysvE4ScxfSNxw/FKO9+97zu2+f7naSJEn+/L89b4yX5/loNMqybDwe9/v9xvAHHMAm4QvnFxFpmiZJkqbpeDw2s38/8IG4DAaD+Xzui8qyrN/vDwaD8Xg8HA4H9DPB8jzv9XrmtsVFU85biGgMsvftx9mPZ48aw21SAMnt4XbSorWtmrsVW9Cq4kPh19Q/rodRocR+p4OUUICqRLMyFmC/FKSUV4Bmt7lXEORruJKLzE5hZd3yWUnmQQW21Hl1ofnTTA956YnzV+efvnx1kY0SRPVrDPuKAai8GucUr5gIoh8LAjA/QsVoNdjvvgsMqdnGXWTFyYjwiQgSoZz4kUjtvPYeXEmSzul37uzu7v7zH140RppOp8PhsCiK5XI5nU4bwx9wgHZd62g0SpJkpQVR+9Mzy7LBYODHXS6XbPwYr+FwOBqNzG1RFKPRaDabSZfodbucR0U0eh5GGo1KHHAAmSfVjpqN/RUVWLUFrSg+GFx0CkVBuWyeUQeFVR5rYVRsovlhAa4AlVcS+StAk/WTMR14DS01jv6X2bFLy/KJyliXZ0NJrJTs3pNrW0mSfu9qdn/3zvW3TnaSzrn31//s9iCz0JBfu0Y1BK7xzvN8Npvxs7PJZDKm3ypDVY1MOB1NAq+D+bE/8laD/e67wP1lwotl5crzbXZ41fhuCquC7fV6WZa5Ug7tvl3X2u/3kyRZ93uPoigGg0Etjel0miSJfCuSZZnTg7OJ0ppcu5y3Flcb8DDSqE14jY5rzxMlcCAz/9UoWD3BwSmhxK5hAmxpu1pGDyb06gqsEOMVoK29fu4Hn5X1g6tb+1FFxbHU2a8QjvfV7R8kyan3nu1pMfmDK92k85MPmx+8vVq6B5iFJkVetUZNJhM5eM3n8yRJaoe5Jk3gf9QJBM2Pb+5esF5X031y7v0vyhyRw+UPXnDvcOvjRzcuvqHWnHS6p9/OnopV+erV5fkTyitRLxtvV37UJm49eP8vup2k0z3zd79XssPBy5St/4vFYjKZ8ENx5/luGc7qv/a+fLBz/iSt9ul0T57f+ejzmnefFEMprH5qaH+FTJZaWP9Vzs3PflEp03ZmFWUfUsWWUWVEudCAdc8+o17UStTycdJiaUq+FUrEJy2kAiKoldli79uPb1/1qwAnISTasfy7LMv2Na3f+/LB9YtnuAomVOoPvtT9PyN9Kl+H7xjPoiioulDM9I237z5/rlYa2nl21czzPEmSQ1gYxgnVGjncg8u3Q3meS2uElU7TtDY6+cZzrtZs6BUEne7pi9crZk1EX37+0fWLvNzOillV6mr+GU6FC6apHauMRBp8pF5Q3dx+8OWDnTepr0jfoE7t5ae3Oded7pumnlQ5pg4wPSF7FRbECx8pi1x7KvncLrxeM396+6pI+mltxfNbEOnidKmB5qfgOKrrXO19++g6q6WzzdWl+mul26p/jJRkJbbUKNLCIkXm5MUuBvYsnzJHpHCNqa2hqw1OZolNp/vm9ce5UIDold1tffX0AHNJyYKVUpTwZPve0+ztmhooUtaojQvFKztgVTFZULlMt1XF4aasaFd9QFWkK04jyqG21KlV3apSoyvVcvzBRnmFpxZMpG4Y8EuiWZAsJls5F0dRFE+udZPO9sPSHrHCU1a4k1OTpzNiYhXWmCWEq5+VQryDVJ1noCmEVSNi1RjZuuWXeqVpygscSoei1+vVbm40AXCxoQSC5gfPOi/c/YYztvdwm9bnX/5A2+nUkJQ31bZOp8PvE3fv7HwvTSp7/sWjnZMd/a5x9352VXlubT9k60Q1oU6ns3Xp5v3dOzf+4dleEQ1ei3gwGPA0a7FY1C5EsSbFLx5ud5PO6R/dUIt97lw/vyVUFeJf/OGfd3/xwyTpX/klrwl6hUwKsfqS+viyg+X/urVafR37lMNUOVc4e3bVmJTc9kMuqDIyiS192KvqMXRaehZQhrKUO5t9RvehSCLX+cNthfn0T7P7irl638xVQFH+5ZW+xrz79GsRyblcLBaj0ajf7/d6vRH9nACR2/yDy52kc/Kt66rM72c7qtCTrWtPqMNXmetubaXsrbU7dfMTlvfV3Qsd9aZ85w5rfvLcuX6T+cE20ng8jqjEXovFYjqdTiaT+Xw+mUz8txPT6XQ8Ho9GozzPebuLtCh4d0dtKovFggs6vr/ctB1fSDznn/3q+6lBWi4hyJ43E917np1TxX9eFYbuDjrnKObXT7ky/PAXu7tcFyKptGzHRREJGK0XVLm3trbKVRKq0nQvXDqXnvzxzfu797Ofnu4kia4nug51ynpCvUq5okK2krIlFbpPMvJLEuVTUMbEdZb8Oltb3ZqK57cglYTdpQabnyp0q/rrXJ29dGnLykqpVVVLVuwfi0hJVkL5SjByvYoiWmQ6L/XFoDzLrjQqRddQLvdywHrnkRr1VhiceIlNR1eWq9/rnjtX7ZCkKsHKhKqnB5hKyipYIYWtBhqDuaeyaqDMesWY0vfanKTfvuKUvbrpN0XJkZptpxFKKS/rJCE4wRBJqUuttOzO9eKmaOnpulMzDHjqxKuBEmQVk63fo3c6bjN+8cHlJDlzy9/2uPfsvVPlMq3d3Ts3fqS6nM6Fu1+RyLDGyqKgFV6B6mdrFKqBSgp31jVNIaoalVc5L1ih5ZNe/EwtTVOp5SEsY5bJ4frQCITNj+LZe/3KLFc2+tbWVtK99oR0o0bzg9tf6YFUvk988eFPOkly5YGajHxy81TSuXzv28q2p75fjNtJ/92nxjce3IfCldXYys4ErgwvOmrVaEVT33v6bj89sfPw38ug4r8KWg5YeuouXpq2z6QQyZdKsHy+Z+5JT+nFDqYlqweg+m0MSaKIrKLIInmJe7rUMuS1Ljn2sTJrGWyWaWLHr4tUKmtyvfd42k2Ss7d4bqqcXz5995SZuglFTZTgRa/XM2UdDOR6fPXr8YnUFKTyVbWsLFpi2L3ywLytEwqR6npyTFLpTbksIDctdT8cDtu8LJ5Op4PBgB/q8MsK//1ynuf8KGg2my0Wi9lsliSJecXHe8rrVFBu4/GYt79HLJCghHjOqe6fevdp9dqQhiO9hCBGlJYeSNp7395TtqGe4FrVK5qKSqRVOw4HjNcLUkVUW+rvEqG66h31y2DKsVVPyODlTMk8UUBuIa78gp/vsCdhMg9pzDxAdhpVsZMkU78pCdGlNjQ/Cu7mys1255260wBUVJMsZyfQP0ZLssoIXwlGrlcRLzKKGSoGoW1UCunaufyB6Q9U1U5PXPnNvzWMZZayfgHeUn23xiVKTKkVqsdC5fJ5kChY7pe1RM660JotLH6mbstRekoXUsb02iSI7lasOJY6FotVphFlfZIKxsdeKyndtYtqqAzWlNZVxKcWlG/RDuzsWOq0ECSLyVZQSRLlTZ6UtimBKvyTX/S7W9sPq2VZVDfLTiCmcbz6VSmoK0cjMSOKNIWoaqJGrdTyS7344Bb/XX3pj//Hh0DE/KDXgtrcUFXqzK3b17q6C6XBkjsLqm1WkyIX8nx+60ySnNmZ74ofPe/mqG7DawheS523+fpTNxG40odnnluXbv52+cdq8iSCikulXNkdcm+0v0wKkXxJ6tgWCHm4NJSjVIL8jUblE1Tdb5GnUNikKjLPuTAdXdhHahIOZYuT4Uzi+t1yYt6ZsQ91j/33npV5kJmSca1rNjUDFqYVsvFG5Y+T5+eGbCrraFXmaYZpq05OhmBtQr1eL03T+Mvi6XQqXyjzVg1/HRS/xDBWSlGo19DmyVDjWyBuGmmahiyQyWRS/8IwmnPa6/wffvRfRJvepXeFPDISv3qi9MZUgy/Z8TSHKVMd0nTjqZAF2aYdtw6o9BH1glSRDd7NFulXdWP28gnqHnnWLvNUVa1oh1KDiVIrZx4lOv5vNzyRBHmrx0aR5ufmyss2dcm1FV5FNQ3XnoaIrgAAD9hJREFUi8cZJP94SdqZ4TKoz6gbku6VFqIpB4vB0taTVElRj6dtIWXgFQYnslXtek5OGpcosVj1tFVWdxYXIYUqbnf62DzGKwqCzjXQlqOyI11IjCngKpUVK06k4JSkltOIsj5JBaNNpSwc/f+L98+JSik9G0qP8l3faTm82ggyOKUG6vr///CvfP0q5m5w957KSg9IEY0bqp8tNVwDw03BlkB3QrWqRq3W8kupvHxAbv8offD/uBGImR80iFIvqip099oTqk5U/VWXovtXqm1lv0F4KhdqI+V6H/m/6hhll9oQvJY9PyGOTvgqfYoif3xdrf9Sv/TEmYvX7zyp2/uhUlLKmGxJEaxG5bIfras4JonKSYKqnpmRv+zYKg2ERhxXBJPR1LVJjzJo6AsvW244voVIBrPKSXnYI7Fmy0nbiVkxnRvegrbfhyIv//ivyyfqFfbPxnpdMDPy9a5calSnmaGg6+hYsMEQf0XDe77lMqrhcFi7V4Rfd0iLq9frmZDD4bBxiddgMEiSJHTGLltBbh50+TiFVuWcisypo3xLO8MqfqVg40IxbXvOetNG/ppuQyqt23FDwFC9oOSrtlIzu1K54gDVVZljMfmWeTIgrFzrSFWKNMOx5kLWm0qTCF9U8dS9SIK81b1TkjKQG9wWVj4eqK3wKqoB5MVzCYTri5MdVyPHW709jTRloxBHq9SytFWe9VLC81cmW5cN/+UQJevUczViau0qraLjka2yx0VKsYNS3smbFj35ntKFwpkCrlJRVytUHFmpnCLbxzRCKihqUilYZr10o/81a5u0P2UsXHpVvkt50kWqs7KgUiD9V7HlQw3lKFOyAqubvT/9ny9+v9i9n/3NFb1hTlciP5ZxITzh6uekEeogI02BJYRUq2oUXdVBl3uIHXXotvHBWV0kuG0egZj5UZhHNqpZq/FQzUFUb6uejpbLsPy+oHIxLaIejOvt3tfHKl3NA2Y2l8MLBCt9OOren/7w5M6Nsd6AXm1FKQXzf6WMGc1cEXL+sJrWMhGSqh9qldd+a2UlfA0C6ZKzUV1GU9cmR06vTuFoFLLFhuPLuYkMJTNYP5OVPW4kpiNoOp2aB/+OV/y26l873ZP9Mxev3Nj+oXmSaOdWCapc1JUzAlOLMIO1ny6/xwhXRRVjMBjIVx9sP9caEsPhUGbZWWrI3/RwdDCNgt35+x6h/frT6dQYM5acaM4biqziV4o0LhTTGRdlPSR/TbchFSW7XTsOBozWCy95kwmZK25NyqtqV+RP0ckak3kSMjz5ggO9ezpm5ofDp4To/xeMfM9okUWLQXpGpPjFYpSIKmZC0QVJceq5KlQNwU0kUI+lyrJb0mlJKXZQRwffU7qQGNOjKR9+LqSunM5PKlEFLLPuu5Q+q08jlCxTY2RGWaTvopMK6xD2oai+t3RR16U60r3MoPjf4F1jHxEd1yRREvee3/2x2idJT0r7/fPjv7l2uW8U8RMyLoQnXP2EtuVlXQ0MQm5SjSJSjYqJKJMO/ec1zNHHyqGocN8YAlHzg8yN5PIHj9/rJ7x7THWiZ249yM4a60MMm2Wmq1pHA6nXiZXhxEyPnRqCm3h8IWdsvCPZCVDeVvqULuX/l1//5ko30XkrHfV/1ZrLPudVMmmJNV2EcS0ba1hJDmqpo5yMqJqYVeDqivNgBhqKb/LH4sr95L6zSrDU1KhuIhlVhFd5GXyJzz1ujfJlTOc/fzvPcWy+1WuY3/2Xr81qO+rw9XsfX/XKhaqj3Y2TU8XQS547TX+xE3+AXG2NpO0cZv9GURShjR+81EpWcn4ZYtYZ1i6+ms/nTuosX75CMVrvb/EV47O5GJGiXho3Q7RmVVHB5cOTbVnDGlIxwuki1o6tkFXAhnrh1UuTiVKecuCGoq7KhzHsSw982UnmScjw5IsupgYTCTSvKksV6L8tSSRBvg3Nzw1uC6tv9Dp1FdV0FF48kZ2VSrLq1qxM0k1DkSmFgsVQaRuXUrPi5NE7tHtghcGJcmwPe+SkcfmwyrxW1VN38Aawz0VKqcm6+p4S0/A8refaJMb0aCosV7MVK05duy9ztfo0oiqtsgpWIGpddFJWztjti/fPqa07/0tt1bKLxKgnB1PjWJEwwxz5NVQDGc3Iqi6oaVt5oSXueqdsFa4oClqh3L38j3/4k1lTR2nr2H5CxqWh+lmpuDeiBoabQly1qkat1vJdVQo+v16OlV4QOGw2gbj5QYNI5/vfP2darqqTp06dEutjZTfILIQLrSyUW7oKtX230/3r3/xbXaOPB3dID4dDnorxI165msUOWenz/O/fOpHShnkdQu20elXzgzeUBDNp6UKqyDW87KC6/+pKx6DupBzhTd9SiqsyxSNTGVD5U2DqpmQ0dV31fNJHxVHyzmaZGX44HRnKjk/+FGl7O3YYrR7tva3nW9d/VyYrtOJUa//2ej05F68NU+NInOTDJd7tXJaBzCDHFi6/u75l7ZrnY1XqZ4HGtJDvK4w+5vPnvDrLGAPL5ZLXRzlvLYpCr+Myxkae5/1+X/bFtRvHp/Qz6RZF4Rgt0qvWgKEA0ZzzFkh5msDe81tnk/Q0nZwt+Om0Khcet8RGf731/NKcDtijsiqnQrFUWrfjcMCGekHeVWupmV2pXHEAyp9o/3tf3L7QSfRafJmnCoSYnZcFIlIkTGLrOZ/4VFbZMoL+L+KVTb9EqJ5TBk5+0M1PaETibGHlTE/IqxKv8l8Gk7hkBmMlWcnTV65GIgAp19CUQ8VQaRuXQrrKref8YQa1iXuFwemb+aWOPKdAnyGkAVWQw9VTF2WF1ONSSdGVU2adzizSNZAMiWrQo7ZaVl33oVKVyooVp6aBOCW3yjSiKq2muiUSUZdURmLrOWdWUYyXXpXvUqB0sdRZVVApkP9T0xYKhr/7QQrId6B8ZEs5WEr9WHTlEq9+lkKRGhhuCnHVqGJyl7FSyy8KZ2X1crnk01MsjXFzjAg0mB+0zEp9zKM8/ITMd+u0WtkNMhjpomdsfJDj/WyHP/Mpzui0J3PR4A72If34cFIzn3PC0K3Q57P3z9EhrDvqEFh9COsWH6voxqRe+9T2HfoYtxChw0mXVbSmpmuvsJKjku1j4FBqchYgk9eWix2VAstQdE1hlJf04RyVioVSseNrCjpSNUq6FKuzEP2Dd1VYX48aCfSN8+hxUmEx8gxCdXruxTfSTpqa4w8pAzLL1mNGLlh98uDN8lW4FVyoy4sAneVMeZ6Px2PjyAuoeHVWnuf8vZp+v8+H8AphhbMffTQayT3oRVFkWeabOuPx2NnpwQcW++YNH9IVWicWzbmeTfHBjrt3bozlcdpRojpm3cG7RcFPSbsX3rtPB+/GUmndjoMBG+qFV6G8bCkHrvfklZQHEfPJ48Z4IEG6xggZnnyrJew9u/nn5rBoJbDTUaswaiueLUkkoSsTl2TNudfK3w1uCyvbZ226K/SPsZKUVd5odOo//sz9/foT6zjRUFMOFYPKKJdWQ8HbNZTafPlZ6hW6eZaiT/vmGlHt4hOQg9WzPLSjHIC8krLqi8qdOT68PC24PN5eZ5j6X/LbUseHl102Deimzcn6sFLF8auSVbD03L79NGKFumUlYw7e1YMNfQRAj+/R0pP5ZonSxVJHn+2rj2NvntI4Cr549I45ht45stwOKY8+V2eUv9nt0JlQuuCkfp7G0epnJxOpgcGmEFeNqrfuMrSI+pHCVoTHI8dN7nUkLxJe3xE6UXG7AQSazA9+NyjOTqF9keLe6gY5w6J7VQ7iM0DOh/78JhQNvl+clj4vP51fLXd90Le+PhanAssU9p7f5Y84KdPLEkGhHJdwJqVMvqaopbFQDgPsRUS0lxj0ncRq5g08PJVCy6gW4DJZStHyqTJkRiWhTinMis/+zKWxN3A+X7Vz71NzrqWfMy3Z/sdT7do5NAWMiam+n0dfbrr528+/UJ/U5MOffQ62S/XRJKos994Nvenhr3BwAQyHQ36xMBgM+BhBOcvnd8qDwWA4HOZ5zuu1ZADOujnAdz6fj8fjyWTiZJ8tGceRjY1+vz+dTrMs41tnORbL52VgtV4UIJ5z8T0q/h6WaUY2PyXKdrE/O/j2zX8qvwCp2v7j6/ypPf1503AqRet2HAwYrRdehbIzYT2cZq97j/lTfU6nQoJ0ExIyPPluF2M+G5bQp//uOa8luQzVX1uSSMIEiTQ/N7gtrJRe9gBGorpYrX+MlKQl1e7Hyv6sNL2iRRYtBuVZdrVRKSpn1bfW3K/prdDNV9+4IyG/vGIUsCAHq6cN2GlEZcmIuejZ7KmugUn6xsUbj8SwVmWY86M+nlrCsNucXR9WqDhuK7cLlT+uJ49gi08jVqtbTlpVGbnf8qx8+OOz1SeH7XwrgdLFUkd5riLI0a5QH+Etv9iqPsM8/9SsCnaCVl0AzZvuffLtY/WJQj7QW+rH8WyXcPVzUon2pKGmEFONqnfVZQgRzkhhK7JYLJynaTxC2ee4kPDGCYctGXdHlkCj+XFkNYdi3z0BayBdpzqTycTuhrzE9h5cMSOq53k4Dnn0J3VY0I9dzLYQGcBs/Fgul4vFwrExTMher+e89zPmxGw2m06n8/k8FDfy1UIjHxdtCNjjfpsYK4ehMwfluqOVJRz/CIdQDMcfInIIAt8NAT7Z0qwuzvN8NBqlaeqfR//d6IdU10AA5scaoL4mItf/JCLLMu59er2emVjX0VV7CFL/68x1QTfCjbeImI0fIZ3n87lZ1hUKE3IfDoeO6RIKCfc4gQOf9z65ttU9+fNHZsspbZgT2+3i6ryuvgdeDK8rSOQbBA6fwGw2m0wmvBp5UP5gexx+QRxmijA/DpP2cUmLDQ+1NKJ6ybqOvA0GA+6SmibKX93+q0t3qw+rr0OXQ5XJx1W16XyHw2HUMKtXez6fN7xNqo8H1xoCBz7v5dX6vOVIbXKwNszVKAAnReDAiwFYQQAEQAAE1kYA5sfa0B5jwTTSm7XM68tonuez2Wwf0+v1qXQIkufzOX/dvPHth1qGTLtHVtIqz/PBYPC6UV0J0UqB1zDvpfXhZ07QB1I73dMXr1fL1FdS7XUKvIZieJ3wIa8gAAIgcKgEYH4cKm4kBgKNBHhnCP8N7dyQQniZrHSJX08mE9gecUTwBQEQAAEQAAEQWB8BmB/rYwvJIAACIAACIAACIAACIAACFgGYHxYO3IAACIAACIAACIAACIAACKyPAMyP9bGFZBAAARAAARAAARAAARAAAYsAzA8LB25AAARAAARAAARAAARAAATWRwDmx/rYQjIIgAAIgAAIgAAIgAAIgIBFAOaHhQM3IAACIAACIAACIAACIAAC6yMA82N9bCEZBEAABEAABEAABEAABEDAIgDzw8KBGxAAARAAARAAARAAARAAgfUR+L+cSPBdfz55OgAAAABJRU5ErkJggg==)"
      ]
    },
    {
      "cell_type": "code",
      "metadata": {
        "id": "GATE_kfBaTk1"
      },
      "source": [
        "np.random.laplace(0, scale = 1/10.)"
      ],
      "execution_count": null,
      "outputs": []
    },
    {
      "cell_type": "code",
      "metadata": {
        "id": "c61B1p4WXK4r"
      },
      "source": [
        "data[0].shape"
      ],
      "execution_count": null,
      "outputs": []
    },
    {
      "cell_type": "code",
      "metadata": {
        "id": "i2xb-9YIXGHa"
      },
      "source": [
        "len(data)"
      ],
      "execution_count": null,
      "outputs": []
    },
    {
      "cell_type": "code",
      "metadata": {
        "id": "EQR0kwrDVv82"
      },
      "source": [
        "conf, pred = prediction_by_imgs(model, data)\n",
        "pred"
      ],
      "execution_count": null,
      "outputs": []
    }
  ]
}