{
  "nbformat": 4,
  "nbformat_minor": 0,
  "metadata": {
    "colab": {
      "name": "NN_memorization_experiments_v2.0.0.ipynb",
      "provenance": [],
      "collapsed_sections": [],
      "machine_shape": "hm",
      "mount_file_id": "1LEv5u-JPohmuOVkoO0TefDEcP5zqBvRZ",
      "authorship_tag": "ABX9TyNc47IT7AGtGi6RJNjlK7ca",
      "include_colab_link": true
    },
    "kernelspec": {
      "display_name": "Python 3",
      "name": "python3"
    },
    "language_info": {
      "name": "python"
    },
    "accelerator": "GPU"
  },
  "cells": [
    {
      "cell_type": "markdown",
      "metadata": {
        "id": "view-in-github",
        "colab_type": "text"
      },
      "source": [
        "<a href=\"https://colab.research.google.com/github/RoyRin/multi-party-learning/blob/master/code/notebooks/NN_memorization_experiments_v2_0_0.ipynb\" target=\"_parent\"><img src=\"https://colab.research.google.com/assets/colab-badge.svg\" alt=\"Open In Colab\"/></a>"
      ]
    },
    {
      "cell_type": "code",
      "metadata": {
        "id": "0bgo_wY2Gf23",
        "colab": {
          "base_uri": "https://localhost:8080/"
        },
        "outputId": "b4207474-9fd9-4773-c1c0-d4f0916dc7d8"
      },
      "source": [
        "import os \n",
        "from google.colab import drive\n",
        "\n",
        "ROOT = \"/content/drive\"\n",
        "drive.mount(ROOT)\n",
        "BASE_DIR=\"/content/drive/MyDrive/Research/Privacy/experiments/\"\n"
      ],
      "execution_count": 1,
      "outputs": [
        {
          "output_type": "stream",
          "name": "stdout",
          "text": [
            "Drive already mounted at /content/drive; to attempt to forcibly remount, call drive.mount(\"/content/drive\", force_remount=True).\n"
          ]
        }
      ]
    },
    {
      "cell_type": "code",
      "source": [
        "%%capture\n",
        "BASE_DIR=\"/content/drive/MyDrive/Research/Privacy/experiments/\"\n",
        "PROJECT_PATH = os.path.join(BASE_DIR, \"GIT_neural_nets_memorization\")\n",
        "\n",
        "\n",
        "GIT_TOKEN_path = os.path.join(BASE_DIR, \"royrin_GIT_TOKEN.txt\")\n",
        "\n",
        "GIT_USERNAME = \"RoyRin\"\n",
        "GIT_REPOSITORY = \"neural_nets_memorization\"\n",
        "\n",
        "!set -x\n",
        "!rm -rf \"{PROJECT_PATH}\"\n",
        "!mkdir \"{PROJECT_PATH}\"\n",
        "!git clone https://\"`cat {GIT_TOKEN_path}`\"@github.com/{GIT_USERNAME}/{GIT_REPOSITORY}.git \"{PROJECT_PATH}\"\n",
        "\n",
        "!pip install -r \"{PROJECT_PATH}/requirements.txt\""
      ],
      "metadata": {
        "id": "4VfS9r8VyS4t"
      },
      "execution_count": 2,
      "outputs": []
    },
    {
      "cell_type": "code",
      "metadata": {
        "id": "nSo5UDTBGllI"
      },
      "source": [
        "%%capture\n",
        "!pip install opacus\n"
      ],
      "execution_count": 3,
      "outputs": []
    },
    {
      "cell_type": "code",
      "source": [
        "!pip list | grep \"opacus\""
      ],
      "metadata": {
        "id": "p0Ir33fgWumX",
        "colab": {
          "base_uri": "https://localhost:8080/"
        },
        "outputId": "27316e71-0b0d-4e53-8d2f-455fb6c6606f"
      },
      "execution_count": 4,
      "outputs": [
        {
          "output_type": "stream",
          "name": "stdout",
          "text": [
            "opacus                        1.0.1\n"
          ]
        }
      ]
    },
    {
      "cell_type": "code",
      "metadata": {
        "id": "t37qbl3NMnZV",
        "colab": {
          "base_uri": "https://localhost:8080/"
        },
        "outputId": "15f120e9-fc5b-4ba7-fa11-0e9262bbe1eb"
      },
      "source": [
        "# import custom imports \n",
        "import pathlib\n",
        "\n",
        "if not os.path.exists(PROJECT_PATH):\n",
        "    cwd = pathlib.Path().resolve()\n",
        "    PROJECT_PATH = cwd.parent.parent \n",
        "\n",
        "print(PROJECT_PATH)\n",
        "code_path = os.path.join(PROJECT_PATH, \"code\")\n",
        "\n",
        "from importlib.machinery import SourceFileLoader\n",
        "\n",
        "#module_names = [str(p.parts[-1]) for p in Path(os.path.join(PROJECT_PATH, \"code\")).glob(\"*.py\")  if p.parts[-1] != \"__init__.py\"]\n",
        "module_names = [ 'params',  'utils',  'dataset_management',\n",
        "                'unbalanced_datasets', 'privacy', 'model_training', 'models', \n",
        "                'pate',  'memorization_experiment',]\n",
        "\n",
        "modules = []\n",
        "for module_name in module_names:\n",
        "  modules.append(SourceFileLoader(module_name, os.path.join(PROJECT_PATH, 'code', module_name +\".py\" )).load_module())\n",
        "\n",
        "import params\n",
        "import utils\n",
        "import dataset_management\n",
        "import unbalanced_datasets\n",
        "import  privacy\n",
        "import  model_training\n",
        "import  models\n",
        "import  pate\n",
        "import  memorization_experiment"
      ],
      "execution_count": 5,
      "outputs": [
        {
          "output_type": "stream",
          "name": "stdout",
          "text": [
            "/content/drive/MyDrive/Research/Privacy/experiments/GIT_neural_nets_memorization\n"
          ]
        }
      ]
    },
    {
      "cell_type": "code",
      "metadata": {
        "id": "0nyEpgIoZiqf"
      },
      "source": [
        "import torch\n",
        "import torch.nn as nn\n",
        "from torch.utils.tensorboard import SummaryWriter\n",
        "from torch.utils.data import DataLoader, Subset\n",
        "\n"
      ],
      "execution_count": 6,
      "outputs": []
    },
    {
      "cell_type": "code",
      "metadata": {
        "id": "yzm-rc-gNTBg"
      },
      "source": [
        "(trainset, testset), (trainloader,\n",
        "                      testloader) = dataset_management.load_MNIST_datasets_and_loaders()\n",
        "num_classes =len(trainset.classes)\n",
        "device = params.get_default_device()"
      ],
      "execution_count": 7,
      "outputs": []
    },
    {
      "cell_type": "markdown",
      "source": [
        "## random memorization experiment\n"
      ],
      "metadata": {
        "id": "VuoFKAsErI9q"
      }
    },
    {
      "cell_type": "code",
      "source": [
        "# CNN Model\n",
        "basemodel_name = \"FCN\"\n",
        "basemodel = Model = models.FCN"
      ],
      "metadata": {
        "id": "X007INauuPNi"
      },
      "execution_count": 8,
      "outputs": []
    },
    {
      "cell_type": "code",
      "source": [
        "import numpy as np\n",
        "import matplotlib.pyplot as plt\n",
        "def plot(x,y, title = \"\"):\n",
        "  size = (10, 12)\n",
        "  plt.figure(figsize=size)\n",
        "  plt.title(\"Studying memorization: \"+ title)\n",
        "  plt.plot(x,y)\n",
        "  plt.show()\n",
        "\n",
        "\n",
        "from scipy.stats import norm\n",
        "N = 100\n",
        "y_range = 3. \n",
        "midpoint = int(N/2)\n",
        "\n",
        "#\n",
        "# original data \n",
        "x = np.arange(N)\n",
        "y = np.random.randn(N) * y_range\n",
        "std = np.std(y)\n",
        "outlier = std * 8 \n",
        "\n",
        "# replace midpoint\n",
        "x = np.arange(N)\n",
        "y = np.random.randn(N) * y_range\n",
        "y[midpoint] = outlier\n",
        "\n",
        "\n",
        "# replace endpoint\n",
        "x = np.arange(N)\n",
        "y = np.random.randn(N) * y_range\n",
        "y[-1] = outlier\n",
        "\n",
        "\n",
        "mean,std=norm.fit(y)\n",
        "mean\n",
        "#std\n",
        "# todo: train a model on the 3 cases, and look at the memorization value \n",
        "# the idea that I have is that the curvature is much smaller if it is the end point, rather than the midpoint\n",
        "# so it is easier to learn, and a lower memorization value."
      ],
      "metadata": {
        "id": "6zuUv52IrNq1",
        "colab": {
          "base_uri": "https://localhost:8080/"
        },
        "outputId": "1d791623-f6f9-4c8f-a2a3-770065e6b0e9"
      },
      "execution_count": 9,
      "outputs": [
        {
          "output_type": "execute_result",
          "data": {
            "text/plain": [
              "0.2322963252722504"
            ]
          },
          "metadata": {},
          "execution_count": 9
        }
      ]
    },
    {
      "cell_type": "code",
      "source": [
        "# -*- coding: utf-8 -*-\n",
        "import torch\n",
        "import math\n",
        "\n",
        "\n",
        "# Create Tensors to hold input and outputs.\n",
        "x = torch.linspace(-math.pi, math.pi, 2000)\n",
        "y = torch.sin(x)\n",
        "# Prepare the input tensor (x, x^2, x^3).\n",
        "p = torch.tensor([1, 2, 3])\n",
        "\n",
        "xx = x.unsqueeze(-1).pow(p)\n",
        "\n",
        "# Use the nn package to define our model and loss function.\n",
        "model = torch.nn.Sequential(\n",
        "    torch.nn.Linear(len(p), 10),\n",
        "    torch.nn.Linear(10, 1),\n",
        "    torch.nn.Flatten(0, 1)\n",
        ")\n",
        "model = torch.nn.Sequential(\n",
        "    torch.nn.Linear(len(p), 1),\n",
        "    torch.nn.Flatten(0, 1)\n",
        ")\n",
        "loss_fn = torch.nn.MSELoss(reduction='sum')\n",
        "learning_rate = 1e-3\n",
        "optimizer = torch.optim.RMSprop(model.parameters(), lr=learning_rate)\n",
        "verbose= False\n",
        "for t in range(len(xx)):\n",
        "    # Forward pass: compute predicted y by passing x to the model.\n",
        "    y_pred = model(xx)\n",
        "\n",
        "    # Compute and print loss.\n",
        "    loss = loss_fn(y_pred, y)\n",
        "    if verbose and t % 100 == 99:\n",
        "        print(t, loss.item())\n",
        "    optimizer.zero_grad()\n",
        "    loss.backward()\n",
        "    optimizer.step()\n",
        "\n",
        "## todo : \n",
        "# compute distance from model(x) to y\n",
        "## todo: evaluate model(x)\n",
        "\n",
        "linear_layer = model[0]\n",
        "#print(f'Result: y = {linear_layer.bias.item()} + {linear_layer.weight[:, 0].item()} x ') # + {linear_layer.weight[:, 1].item()} x^2 + {linear_layer.weight[:, 2].item()} x^3')\n",
        "print(f\"loss {loss}\")"
      ],
      "metadata": {
        "id": "VkoqLuxnrNvK",
        "colab": {
          "base_uri": "https://localhost:8080/"
        },
        "outputId": "755dcb3d-e684-45ff-fe9a-dcd4e100f148"
      },
      "execution_count": 10,
      "outputs": [
        {
          "output_type": "stream",
          "name": "stdout",
          "text": [
            "loss 8.917607307434082\n"
          ]
        }
      ]
    },
    {
      "cell_type": "markdown",
      "source": [
        "## regular scheduled programming"
      ],
      "metadata": {
        "id": "hnJWMCZ6rL6r"
      }
    },
    {
      "cell_type": "code",
      "metadata": {
        "id": "eodTSO17NX2Q"
      },
      "source": [
        "from opacus.validators import ModuleValidator\n",
        "import datetime\n",
        "from opacus.utils.batch_memory_manager import BatchMemoryManager\n",
        "MAX_PHYSICAL_BATCH_SIZE = 128 \n",
        "from opacus.grad_sample import GradSampleModule\n",
        "import numpy as np"
      ],
      "execution_count": 11,
      "outputs": []
    },
    {
      "cell_type": "markdown",
      "source": [
        "# Memorization experiment\n"
      ],
      "metadata": {
        "id": "NztCyHzUezSa"
      }
    },
    {
      "cell_type": "markdown",
      "source": [
        "https://arxiv.org/pdf/2008.03703.pdf \n",
        "![image.png](data:image/png;base64,iVBORw0KGgoAAAANSUhEUgAABlUAAAIJCAYAAAA8k7u8AAAABHNCSVQICAgIfAhkiAAAABl0RVh0U29mdHdhcmUAZ25vbWUtc2NyZWVuc2hvdO8Dvz4AAAAtdEVYdENyZWF0aW9uIFRpbWUAV2VkIDI5IERlYyAyMDIxIDAxOjI1OjE4IFBNIEVTVGhu0CgAACAASURBVHic7N13VBTXHgfw72xfdmHpvQoIAmIBe8duNLYkpqkpppiY3ttLMdGUl5740puJibH3jiWx94KCIAiI9L6wdeb3/gAUEBQUk2h+n3PweGDnzm0zu3t/c+8ViIjAGGOMMcYYY4wxxhhjjDHGLkr2d2eAMcYYY4wxxhhjjDHGGGPsWsBBFcYYY4wxxhhjjDHGGGOMsRbgoApjjDHGGGOMMcYYY4wxxlgLcFCFMcYYY4wxxhhjjDHGGGOsBTiowhhjjDHGGGOMMcYYY4wx1gIcVGGMMcYYY4wxxhhjjDHGGGsBDqowxhhjjDHGGGOMMcYYY4y1AAdVGGOMMcYYY4wxxhhjjDHGWoCDKowxxhhjjDHGGGOMMcYYYy3AQRXGGGOMMcYYY4wxxhhjjLEW4KAKY4wxxhhjjDHGGGOMMcZYC3BQhTHGGGOMMcYYY4wxxhhjrAU4qMIYY4wxxhhjjDHGGGOMMdYCHFRhjDHGGGOMMcYYY4wxxhhrAQ6qMMYYY4wxxhhjjDHGGGOMtQAHVRhjjDHGGGOMMcYYY4wxxlpA0ZoXb968GXl5eZAk6WrlhzHGGGOMMcYYY4wxxhhj1xmFQoHw8HB07dr1787KFWlVUOWdd95BYmIibDbb1coPY4wxxhhjjDHGGGOMMcauMzqdDg888MA1H1Th5b8YY4wxxhhjjDHGGGOMMcZaQCAiaumLd+/ejcLCQrTiEMYYY4wxxhhjjDHGGGOM/cvJ5XIEBwcjKirq787KFWlVUIUxxhhjjDHGGGOMMcYYY+zfipf/YowxxhhjjDHGGGOMMcYYawEOqjDGGGOMMcYYY4wxxhhjjLUAB1UYY4wxxhhjjDHGGGOMMcZagIMqjDHGGGOMMcYYY4wxxhhjLcBBFcYYY4wxxhhjjDHGGGOMsRZQtG1yJux5fyqe3R+H196cht4hblAJLThMKsGBZQuwNaUQVfb6fxDg3GksbhkYAQ9HJVqS1LVAKtyNb2fPxjerjqHKuy/ueekl3NWvHVy18talU3IAyxZsRUphFRpUG3SIGHkbhsV4waC+XmqtPgnVWXuw8tfvMe9ECB58ZioGRvlAcz0W9V9DQtH++fjql60o8B6Gu+4YgmhfJyivmTa91vN/bZFMeTi+YwPWHJGh58gEdItozfUvoeTwUvzw6yZkOvXFbbeNQNdgl5a9V10JWylO7liLlWu24GCmEXLXIMT2Hozhg7sh1LESSZuWYktRGIYP6Y3oQMfr5v2ONcNegexjO5G4Phny7gkY1Lsj/FR/d6aucVIpktb8ivlrk6GIn4BbRvVChIearyXGGGOMMcYYY22ubYMq5duweNk+HNmbhN8njkGkjyu8tS35OiuHAmU4vOwLLDlwFhVWOvf7kKmBGBAXAvfrJaginsXSmU/gzR/3IKtCBE6ewvO5Cngumonx0T7QtWbukFwJoeoUNv04D9szSmESa38v88AE14HoGe55nQVVqpGzZzXmffsVvl+6A6mFVaDoBzDJZANd+uCGxEys+eh9/LBiE7YfyURRpQV11Se4DsXrP3+A+wZFwr1VV4iIlO8exN2zFmBfZtW5PAlaN4RERGPkjPfwxNjOCHLmCWIXMO3A12/MxidrjiJfWo08/a94645eCDVcI3V1ref/GiCVJGPrulVYuXItNm7bh5O5ZbCFT8HnXbqja0QrEjLvxdz/voePFuxCtn0pshQumHnvMMS4Xb22Egt34/s3XsGcfQ7oc+MoDIjZhZ9//Aq/zpmNZ3XO0AsWmExWuI9+C9Hd4xEFXB/vd6wBe1Eytieuw5q1G7H1z71IyixApRiFyR9FIr5HDLjVr4zl0EJ8/sEH+D7xFGzeqbA7vIEZE7rBs3XPqzDGGGOMMcYYY5fUhqNIEvLWL8Om00UoN6dgxcIdyCuugtSiXBgQO/45zHlnGroFukDZdpn657Eexc69uSg3iud+ZcvYjd2nymG0NhMaMCXhm3sTcM+n+3C69PxxMkNHjHvyI8x5ajjaeWivds7/PtXZ2DnvLdw7MBZxCbfhua824ERBFeytjqTUIw/CyKc+wfwtR3F8y/u4vasvNJIddrsdtoItWLDiCLLyTK0L1lTvwfKVe5Fxphw2e01a5DMSM3/fjB3bN+KjqV05oNIsEZJItfUtQRQBupL2/ctd6/n/5yNJgNY9BGH+jlDIJNjESx/TdEK1bUUAiCDW/f9qsZ7E77P/g/cXFqLrvU/i8Ufvw7QXPsRHz09C3zADUFWGcqMJVpE7zPWOJAEO3u0R1yMaAS5awMZt3pZIkiBRzX2YSIJI1PoHLhhjjDHGGGOMsRZou5kqYgZWLvsTOcVGSCDkrFuAdQ8PQZC3Hi4tPIvazw9eGhUUAGxtlrF/GKUfAv200KiAcnPNrwS9LwI8NVApmnpKtRJ7Pn8ZH6zcB89AC6QLolQKuLk7Q6VQQACuqwEEqeIYln/5KT79fi3Sqm2oLCxChcnexmWUwSl6KPrH/oDNx7NhNBIAE44sW4xdk+IQ6huKlk02kFCYuBTrj2ej0FL3Ozm8ug1Bn1AfuFz1tYWucdq+mPbSMxBDtiLPaxjuHheDwH/aLA/JhMoqARqtCkpFo7xdC/m/xsndI9BzaAS6d1Ig+1gqMrOPoexyEtL2wJ1PPgGbz0ZkOPbD7Td3R/urNktFRN6Gufht00FkOI/E42E+8HIQAMGAzlNfw3vOEVi2Yinmr92PtDzjVcoD+6dQekagm2cEuvWJgjw7BSmpmThS8Xfn6loiwVxlAimUUKlVaDwBRdP1Jkx/zAKX9icgj5+A2wfEXsOzVC5eVsYYY4wxxhhjf682C6pYjy7Div15KKmuGfKm0m1YtOIExkf4wLmla1oLAgRc5wtgKKIw5dkZ2Jc9C4sPnEWVJhRjn38Gt3TwgfMFrSEiZ+VMPD9nC9IKzHBvLk3h+qwxqiiEyXc0Zi59C11CDDj7072YMmsZdqZXtG1gRXCCQa+EUq2AvMoOiQhi9josWDcF/cMD4OSpunSfFDOwavk2ZMi9EeYpIqekHEY7oHdygkp5nSxdd1XJ4dVrCv7Ta8rfnZFmSCjY/CH+e7gr7pzYDx2DdI3a9J+e/+uHTK2GWi6H/LIvKjk84ifh2fhJbZmtpol52LF1L05ll0DbJQA+TnqcWxFT7oGuEx5FjJ+EtOQ0ZHBQ5d9DcICDVgXVdT0tt+1JxXvw09d7YIgfiOEJsbhg4qfMDZ3GPopOY/+W7LWpS5aVMcYYY4wxxtjfqo2+plVh59LVSCoow7mH9GHGwSWLsb+gBKbrafrEFZPB0P0hfL/tCI4eS8bp04cw/+nBCHZpHHiSULFvDp56eS52ZZZdvzN3LkLuPwi33TEGvdu7Q6tUIjCuE4Jdndp+Q3qZHHKFAEV4L/QM8YCrGgCVYcfiZTiYlYfqFvRf0/5lWL2vCL6DR6FTgDcchLqkZddrzOtfxZqxGLNnz8W2lHxY+H7GWsqahtTTRSipBDQODlBygJUBAITr/OmRq8B2Bhu/+gw/LN+J9OrrfFmvf1NZGWOMMcYYY+wa1SZBFak4EcvWp6GovOHQv/3USizckoPiystd/P76JVO7IjiiPQLddFA18ch15ZHv8fhDb2PVsTyYWrQxzfVP0GqhkcvbciOghulrojF2bDcE+zpCAGBNXoFFf6Qjp+wS/VcqwdZl65Bk6oCRIyLg35KZLezaYTyEb19/D4t2paPs3xjdZJdNLMhDflkVqkVApdZAIedFfBhrvWokL/4Mn81bjf25lku//Jr2byorY4wxxhhjjF272mD5LxFn1y7DNlM4ukQbcTC1BOV1U1OkfGxYtAZpI9rB29EVyjYeaRbLT2HHhnXYvP0gTmYXoNwqQOcWhIiufTBs5FB0DXaGtsl9SuqRKpG1LxGr127B/pRsFFmUMPiEI37QKIxO6Ax/gwYNk7DhzP5EHMgoRbW9YVJqvzgM7BoMZ00lklb/ivlrduBkhSMihk7FveM6w7noAHYcPYtyc6NBeo0/4gd0RZCzA5SChOJdc/D4w29h6eE8nN/PnlB0PBErl2TCUy+HIbw3+kb7wlFz8UE6y9l9WLVwCTbsSUGeWQPviD4Ye8dN6BfuDl1dg0iVOLXzTxw9W47GWdMGdcOAToEwCEU4tG4xliTuQ/KZSsidA9Fl+CTcOrIz/JzUtet9VyN710osXJqIvan5sOr8EDNgAu4Y3wshLlpcqikuTaj379UgR+ANEzDoeAYys4+jyJ6HTQvW4PjgCAQ5+0DdzInFzNVYtjUD6h7PICHUDxsvY9xUNOYhPTkNZ80aeIVGINhDD80lKkwy5iCjRA1PD2fotQoIkGDMPYnk1FyYtL4IjwyCh17TcJkkyYTirFNIO50Psy4QHToEwl2vbkGgyobynHSknz6DIosKBp92iAj2hJO2BU/eixXIzjXD1c0ZDloV7GVZSE7Jhtm5HSKDPC/ow9aSLOTbXeHurIP2auxFIxqRm56K9KwCVMv08ArpgDBfZziomqgFUxoWvfECPl55CGeqRLRvQfItz/8V1Km1BBlnLHDzcoWjTg0BVpScTsbJjCLYXEIQ1d4PLg6qKw9AilXIP52G9Mx8GOEAj+AIhPm5Qa++eMq20kzkmA1wdTHASSMAtjJknzyJ9AILHAPaIzzAA46XSKPu/IXZGTh1Oh8WrS/CI4PheaVlqp/PsjMosDrBYHCEvskL3IbSzByYDa5wMdTMkrOVZePkyXQUWBwR0D4cAR6OaK4okrESRqu1ZqahcO6fv59YhYLTJ5GWY4TCPQTtg71gcLh4v2uzNgUgmoqQdTINuSY13ANDEODhBK2yJceKqCo4jZNpOTAq3BHSPhheBoc2/2zRamI1CrPTkX46FxWiBm6B4QgN8IDhEu/PfzWxugjZaWk4Uy7AOTAMwb6u0LdR5V1O2nZjAbIzs1FgBBx9ghHo7QL9BfdhM7I2fI7ZH/2CTUmlEINakhsbynMLYdHo4eTczOxWqRoFOSUgBye4uDpBJQBSdSFOp6Uhu0yAW3A4Qnxcz39OqjkIlrJcZKanI6dSCc927RHi6wqHSzSzWF2I7PR0nM6tgKhxQ2B4KAI8DLiwe1xOWWvYjQXIPp2BzLwqCDoPBIUFw8et+XtT/TIZ8wpQrXGAo8EJWrECuafSkFmugne7YPi561F/lbqWtRljjDHGGGOM/QvQlbIl05xbOlL3ad/Rps/vpR5BTiSv2S+95kfViR5bdoLyTNIlk7Kf+pruiPEmh3PHyylk6k90JMdIYoMX5tOOL2dQQqgLaWQCydw608TH3qD3336ERka6k4McBJmClCoVqdXqmh/HwfTm9nQqtp9PpuLYQvrPxM7kpVOSyq8XTX7ubfrovy/QpHhfclIpybnDjfTygiOUb7TR+dxX0+FfX6LbuvmSXiWcLycE8hj3Ke0/uo2+vb83+Tspzv9N5kHDZm+i3cs/phkjIslNK693HEjmMYE+P5BF5SIRVa+n53oHk7McDV7T8EdBUdMX0fHcapKIqHjhdOri70hCvfNN+HwHJc59mcZEuZO2UVpy1240Y+5Byq2srQyxkP786ikaF+tJOmX9MsnI79avadeWX+jFGyLJTSNrmA9BT1GTv6Ad2eVkNSbTwudGUHsXNcka5dWr//O0+EQBVTdoxMvpanPonh5BpBfqlSXmAZq3N5OqL929LqKElj3dn6IGzqD5+1Jp1ye3UZyftqY+FeE05ZtdlF7Z3AlMdOCjSRTXvj89tegg5ZRvo7dGdyQvZU3/jbz3R9pz2khNHm0vpiOL36ZpCR3Ix9mRdColyQWBBI0ndRzzLM3dlUVlloZH2ivP0ME139ObD46huEBXCr/9c/ozrZTKklfR+9MGUpirtvb6k5Nz5ESatTqZCkwSkVhGSUvfoXsHhZObg7y2r8jJrctU+nTzKSqxNFM+Uw7tmvsfuqNvBAWHd6ZeAwZR387B5OagJUNAHI1/9nvall5Cpgva1k4Vmbtp8cdP0sRuQeQz7DXacCyTTi57jSZ28SadHCRo29OUL3dSerlIYnUOHVz1Bb00NYE6eHnTiJmbKKlAbJBe6k8PUUKMDzkbDGS41I/vSJq5/jjlW+tX9xFa/PY0SugYSXEJ4+nOe+6imwdGkZezKwX3vYc+2ZhGRfXuU2LhNvrgju7kpzt/vcpVDqR3dCKDwUCuXafT3L2ZZJSoBflvgzq1FNHJP36nj5+9nQZGepLLgOdpzZEcKk1eTrMn96Igg6r22lORZ/w99NmWi7TrJdhLkmjlRzNoZNco6tp/DN121100aXAn8ndzpYAed9A7K45RXlXDtC3Fp2jnkjn00tSh1NHXjfo89hvtzCil1LUf0f2DwslVXXv/ULpT59vfpdVJBWRuLnv2Yjq6+B26d2AEBQRHUlyfftQzJoSCOiTQ/bOeo9v7dCAPGUgeOYW+2HySjK0oplidS0fXf0evTxtOsX6+NOSFJbQ3p94bA1mo+NROWjLnJZo6tCP5uvWhx37bSRmlqbT2o/tpULgrqWU1/UHp3pluf3c1JRWY613jFto35z4aHOVBBr2GVIqae6pMoSWd3unCvnruNTLyHfs2rTlaVPN+Z06lDV//h+7s14ECPZzJYDCQS/QU+jTxBJWJRERGOrL4fXrq1n4UE+xDrgYDGQwuFHHrB7Q+qZgu7H12Kj2+ij6aMZJi/V3JUacipUIgQVCTe4cR9OhXWyit2NzgXtW2bVpCx1d/So/d2J2iImMorldf6hEdSK6OBvLtPIae/u4POlVsafJeaS89Tqs+mkEjY/3J1VFHKqWCBEEgtXsHGvHoV7Qlrbj5817ARCdWvk8PDu1AgR7n28EtOI5GTP+ENibnUd1tQCw9RCs+eoRGdQohL2dncg3sQhNenkf7Mitr/l6WQhu+eJrG9uhIXfqMoFum3kW3DoujYE838ou7iV7/fR9lVzZxHxALac1bt1C8p0CQR9PkT9fSido3MXP6Vpr71j2UEBtCXs4GMhicqcMtb9PyQ7VtWnWcVs15kSYP7EShfm41+XcOo/EzF9P+AnsT5yqjkxu+oKfHxVGwuxPp1CpSyAQSVK7UPuEB+mRNEuW34PNZky4zbXvREVry9t00KL4HDRxzJ903bQqN7duZYuN6Ua+et9HrC/+kU1YiEkto3w9P0qhIZ1Ke+3yjJI2DnpwMBjK4xNDt762kIyUiEYlkyj9Om3+eTQ+NjqMg/4H06I9b6XT9KhGrKO/4Fpr/wZM0qV8EeYeNoVd+30N5FRm09dtnaGxnX3JU1N7rHdvRsKd+oB0ZlSSSSJVpm+irp8dSZz8nUtZ+BpE7d6Bxr/5O+3Oqm+i3IpWlbKAvnh5LPTp2oT4jbqGpd91Kw+KCydPNj+Juep1+35dN57pHq8pax0z5h5fSBw+NoM7hYRQd14cG9I+n9j4G0jl6U8yw6fTh8sN0tvLCfiEaz9Lhtd/QK1MGUYeggTTju0Q6kZ5Inz2YQKHOSoKgpqCxb9DyAwWtazPGGGOMMcYY+5e44qBK9e5ZNLJDH5rxexKdLdxMrw4OJVdl/UF1OQVP+YEOnzE2McjTUIuCKmIhJb5xA0W6qWsGhmUeNPr9HXS61EZEIhUue5x6BRlqB5YF0vm0p5hOXSmuxzT68tAZKrMTEYlUvP0DuqWTV03AQRFB0+YdobNVNWcxH/6YJnTwIg1Agi6S7vh8O2WVWxt8abaf+Znu7exXb4BfII8bX6CXx8ZSQP2ASu2PqtdLlHiykKzmA/TemAjyUDcTVBErKOfkcTrw/QMUF1A/QKWg+Id/olXbDtDhw4cp5UwZma01+b0gqCK4UPzwvtTON5Q6D5pAt98yiDp46M4NBAAgReAd9M2BM1R/vMeW8j+aFO1F2npBFd+R99CETkHUvstguunOO2hkFz9yVNULrsi8aMw7P9N7U3tT+8juNHLSnTRpYCS565T1yq+mqOm/U1JuUwMPLfeXBFX2Z1FV1nx6pF8YGWQ1deA+YhatP1FItiaOFEvW0ysjYqjD2LdpY3IR2Sx/tCyoYkqlxc+Ppm49x9Oz322h1GIT2SwllLxyJk2M9SEHmUDakPH0ztpkKqodGK8+9Bu9+eit1Ke9B+mVAgFyCrj5Lfr0tftpVLfO1H3gOLrr4YfpntFdKcBZTQIE0sU9Rr/9uZF+fHYM9ew+iMZOfYSeff4pum90V/J3VpMAGbkNfp1WHyugxuPv9vwd9NndvSjQPZRGvPgbHcg1Us3QTDVlJn5Ak7v7k6NCTs6dp9IniXUD+CKV7ZtLr0zpSyHnAjwg7YCX6Kf/PkA3xIWRp05FSllN/XS8fxa99tBdNKKDZ22ZaoJ1g99oHJSwUtIXk6lHz1H02OcraG/aGcorKKSioqKan8z1NHNsR/LRCATBgWIf/JH2ZJ6/b9hzN9CbE2LJSx9MEz7YSCkltdezvYA2vDqaoj3UpA2fTP/7M732HkFE1nLKy0qnpO+nU89QFxIgp3Y3v0sLNx+i5JQUOpmRR+WVx2jJ7AdakP8rqVMisWA7ffefB2hUrB8Zageylb2epK/em0ETukdRdPwQGnfzOBoQ40NOahkBAjn3fZ6WHMml1o6X2vO30geTe1KAUyDd8MYSOlRQO9BtL6Kt79xG3Xw1pGl3M7239jgV24iIRCraM49mP3IjdQ1yrQ3iKih++vs06/E7aUBsNHUZOIYmjkugzoEupJGBIBiox6M/0c7MqiaujXRa/upE6uwXRL0f+Jw2pZXU9E2xgk6unk239wwig0IgAa0MqlhTac1Hj9GNsb7n6hCCjvo9Vy+oIhbRnnmz6ZEbu1JQXf9VxNP092fR43cOoNjoLjRwzEQal9CZAl00JANIMPSgR3/aSZn1gkym0lzKOnWSkn57jkbFepEcMvId+SJ9v3ofJaekUEq9n6RFL9GYLj6kbBxUqWVJ+pYeHBBKegEkD7yJ3l+fRKUNupaFUn9+lBLaG0iAjHzHzKY1R4oavd+aKX3VGzSpX28a8+jntDYpn6qsFipNXU/vTe5BQY4yEjSBNOo/C+lgromkNm5TsSKJ5r8wlmLD4+imV3+jfWcra+6nllP06+NDKdJZRoI6mG58cxkdzm8YWDGnr6I3JvWj3mMepc/XJlF+lZUspam0/r3J1CPIkWSChgJH/YcWHmxdXzen/kpPDIusfYBBQz2e+J12ZTV1lzfTga8foiGREXTjawvPBS7Ewh30xfQECnX2pyHPzaWdObUBKbGEdnx2Hw0IdiBN0Bh6dcF+ym+c7EWCKjWslDLvGbohyokEyMl/9Ou0aH9hwza1ptPCF8dSrKtAkHnRsJfm0+68RoPn5kza+P49NLTvSLr/v0vp4NlKslrKKWPLZ/TAwHBylguk9h9MT/+4g7Ja+yZ6uWlXJdG8p0dTp5hR9MK83XTWUlslxjRa+trN1NWvC039bB0lm4iIbFRZdJZOn5hPL02IJx8ZSO4/nJ7+33Lal5xCKSfTKae4koxpifTV8zdT17q+CJDg0JNm/FAvqGJKpjVzXqa7BnWkAFcNCQDJvIfT46+/Qk/emUDd4nrTyNvvp+nTJlLfSG/SyUCCNpomf7iEVi14l+4Z1pv6Dp9EDzz5LD09/SbqG+FFDjKQ4NyTZnyzmTIadD6RCnd8QdMTQsnZfwg9N3cn5dRG/cSSHfTZfQMo2EFDQWNepQX782s/W7SsrOa68ohFdPCXZ2lMjA8F932APt2QSiW1QQ3T2d30/RMjKcpNRXLHSBr3yvxzgR+x8hgt//ARGhHlQ05171nqeLr/nTfoiXuGUoyXnrSamgcJ5OGT6MdVR1vZZowxxhhjjDH273CFQZVyWv/8AIpMeIZWJOeTWbLS4Q/HUaSnutFMjNH0wc7T5wcrm9GSoIpx2+s0NMz13JN8guMwemdnBpWcGxNbSA/FBZCjUBc8mERzdmdTeb1z27MX06N9g8ip9olERdR0WnQ89/zAvC2Z5twSTV7a2nO4DqBX16RSUf1HYS1/0OtDwhoEkJSOjuQaNYFe+fIHevvObuR3LrgikOOwd2hXRgnZxSKa/0Bn8tcL1GRQpZY58SXq386lXlBFSf1e+5NOFV1YiRcEVQBSeA+gp+YdpDyjjSSy0NFPJlIHL029WSbuNPbjvZRZVu+k1avoye5BtcGE2qCF0ov6PfUrHcg1kk2qCSZN6+LXILAhU+io3eiZtPJ4MVXbici8n95tFDiSh0yln47kkPEKZqv8VUEVk1ROW94cQzGeqprzaOPo0fkH6MwFJ7FT5q8zqG9EHN1VN5ulJUEVsZi2vX0TdQ7vR09ckG4V7f3gFuriqyEBMvIcNZs2JBc1COhUbn6dbojxJCVAKgdP6nTLm7TkcD4Z615kzaTfZvSnUIOMBLkHtQsLpwGPfk1b0kvPB07sp+jH+3tRiKNAgjqenlh88NygDxERmZLppwf7UzuDnqKnfU+7T1c2GqQVqXDLWzSuozepBYGc4h6muXuza9pXFIkkK2XNf5T6hzmTDCBVWGfqM+IJmvvHKcpL20gfThtAkWG96OEfdlNGmZ0ky2n65aE+1M5J1mxQ5fCn02jGx+vp8NnGT7NX0v5Pbqc4fwcSIJBDxwfoxz2Z9QKG1bT97fEU660iQdOXXlx7lPLqVaj14Mc0qasfaWQGGvz6ekoqaDgCWr32RUqIdCMBcoq4+wfak1G/Pe1kt0styP8V1mldXk98RVO7B5JOAMmcXCkgdhK9vfQI5VfVDvQWb6W3xnckLzUIiii676e9DQb7L62a9nwyhXoFakhQ96DH5++irHpPH1uPfkX39W9HDjJH6vfsQtqbU//RZCud/GkGJYQ7kgAZObr4UcyE12jenjNUURt8KdnxIU3uGUBagBQRk+nzzSlU0WAssoS2fziZegY6UehN79HapOJGwUwrpc9/koZ1qOlXrZupUtdWWbTw2REULtccigAAIABJREFU5Sq7MKhy7jQn6acZCRTuKBBkjuTiF0MTXptHe85U1ORHLKEdH06mngFaAhQUMflz2pxScUEwwfzHu3RzN19SQE6BN71P65NKL3i4wLLrQ7q9ZwCpmgmqUPVmmjUhjnzkzQVViMzb/0uTuvvVBGYuCKqIVLLzE7qrTxT1efAb+uNUw/tR9cH/0b19g8lBAMnch9DLiw9Q7rlmbYM2tZ6mFf8ZT538wunGt5bTkcL6fUak/OUv0qiObiQDSNnhLvpyS+q59hRLdtInd/WhqD4P0jd/nGrYztUH6X/39qVgB4Egc6chLy+mA7mteVS+mg59OY36hehIgIz8x79La481McNHLKFN706moWNn0FeJp2oDNyY68M0MGhLmQIKqK93/9SZKq3dq24m59OTISNLL9NRzxne0NaNRvi4ZVCEybf+Y7u4XSPLmgipkpj1z7qOBIaqmgypiGe375hEa2qkXTf1wDZ2o/wGDqunoj4/TiAg9CRDItf8T9OOfWWRpadVddtoiFa6bTbd196PQ8bNo2aGSBmWyZS2l/0y6jR75ZDUl1W9s85/00dS+FCADyYPH06xlh6jBhA1RJFEUyZqzkt64OY485U0EVepU7aY59w+iEDUISg25dRhFT32zhdJL69rIRmdXv0mT4r1IIcjIJSCQwvreS28vOEi559rITllLX6UJXdxIJqgoesontDa5XjDRdIC+mTGEwhwEUnW9n77elEbne4CNTsx9kkZG6kmm70kzvttKDbrHpcpa8yJKX/Ya3dzVk/RhE2nWssMNZmETEYkle+jL6QkUqhNI0EXR7e+tpKQSOxGJJJJE1tw19Nat3chbAYIykCK7DqHpny+lA5nptOOH52hcfCTF3/kurT1ScHltxhhjjDHGGGPXuStaCFkq2IClifkI6TcckW7OUAlKRI8bix4+btDVW4ZaKtyCRatOorDUCrqSE8KEPesTcaq4HHX7RctcvODloETd1gUyR094OqugrF2r2p61FN8tOoq8krpzV2DbV59j1fGzqLADgAB9SDiCHLTn98xQBKJ9Oxfo1DWJUMkf+PLLNUjLr8D5LUfkkAlCgzXobSZ/3PLaTDw0eQqe++I7vHlrdwQ4KqHy7ovpD4xBO08D5DIBcplwdZfWF5wx5KnZmDGyI7x0CghQoX1cJ/g76s6vjU1lyDpdAJPFVq9N5JDJGmZM2eMBzHxoKDp666AQALlXJ8SGOMFBXe9FbsPx1GtT0S/CFVo5AHUHdIpyg057fsFw8expZBrNsFxZB/iLOKH3+NGIC/Ku6cemQ1i2ZCdOn62AVP9l1uNYsWIXinwHYWx8AHx1LWtUa9J8fL1wDwpDR2B0bAC8tfWPc0DsoD5o7+0GNSQUbF2FxLRcFNXbIF3r4wt3Bw1UAiDETMbrL9yNUR09oavbIUnpjyEJXeHn4QSIRSj2m4Rn7huDXsHO564TyIPQt1cMvNx0gDUVx5JKUV5Z1zgispZ9jm82HEaW1AVjx8cjyFffaH8OGdz73Yu7R8Yg2EWOigM/4tNfdyMtzwySyQBBCe+YDgh0dqzZh6JQhz7334XB8SHwCh2Mx7/eghOpO/DZ1O4INsghqHwRHRkAF0dVM5cGQZT7I7qjD5wNDfd+qD74Az74aRtO5FSDHGJw59P3YmAHf+jrMiyWICs7H8ZqG8huREWFFTb7+Y4oMzjDoFJCSUbkZOWiqtrSivuUHHK50IL8X2Gd1r5C6esDLwcN1AAExz545P03cN+ojvCsXdRf5toLY4Z0RICHFoI9AyeSi1BR2WijpIsRy3AmpwAVRgtIrEJlpQVWW726cjLAUa2CiqqRl5OHykpzvbpSwtvLA3qdFgIAXbdpeOOVBzGxmx8cFTXlc4kfjkGdQuGrE2DPPInU/FKU1dubqmr/L/hqwTYcKYnCmAn9EBXq2mjjLyUC+/RBp0BfGFp9D61rK29EhgfAw1nT/G1Y6Q0vDz10WgGADt2mvYFXHpyIbn6ONfmRuSB++CB0CvWFTrAj82Qq8kvLYG8uvSshU0Ahl0G4SHkFuQIKmazp8lhTsGzuYmzP9MaA4V0QGqhr8DptdF/0iAyAtxaQinZgw9ZkZOZaa/96pW0qIm/Dd/hm2XacCRmLO4Z2QYR7/R0aZHDr1gfx7fzgphAASYSdpNr7rBUpy+Zi8fZMeA8Yji6hgQ0+V0Abjb49IhFQk3Hs2LAVyZm5sKKltIgZMwb9otvBVS7h7PZE7EnPRnGjRpSKdmPXoWJ4xvRBbIegmv05pArk5uajtMIEEqthrLTAUu/NTeboCEetBmoyIT83H2UVVQ3fO1pAkMshlwkX+aggg1yhqPk80QTbqbX4felmpDh1R0J8FMKc6t9ttIjoHoeodv7QCYSSvVvxZ1Iqsswty9vlpy0i63Qm8otKUFpShIqqKtS/Oyn8+qJffBiCnAHR3ooPCzIZZDIZlJ5haBfoBTeHi1wsag94uDlBrxUAIRxjHn4M993eHyHOdf1SAa9ePdClfTDcBQllZV4YPPkO3HxDp3rv1XL4du2MmOAAuMCGzLQ05BcUnWtjqSIXufmlqDARxGojKi2Wep99ZHB0dIRWowaZ8pGbX4aKqtb1Dil3M36dtwrbjlYhImEYeka3h2uj/VlkLnGYePMo9OnkC2XVCSz9aQE27U2DkWSQQYDSPRyhgd5w0wmAvRTazuMwYehgdA4MQa+pb2PJ3hPYO/cZDO/ofHXajDHGGGOMMcaucVewUb2I0yuXYXtlBG4bEgo355rBRHngaIwf8CW2ZOSjqqLuq5cRuxcvwaHbOsLPzRvayw0oSGU4m1sGi+38F1BBp4NOIce5cQVBD51WAfm57/hWpCYlo7K6NwgqUPFGLFp7EgVldaPUcrh6eUGjrD9Qq4CnlztUKgUAEYCEvI1LsCFzNMJ9DXBtptYU7fpiYJRLzSa+Qgzu+nILJs6qguCoh4NSgWbGPtqeoISDg6bBYIvg6FRTT/VeZjGbIUkX/zKv0OqglcnOHyfo4eAgr1e/gKDWQaeU4fx3ejn0Ogco5DKg7uu3aIHJTJAkAP+svXubpIy8EeMHzMfOtBycLBWRtW4R1k/pj/BAJ3jWblxb/ucSrDlqRuSdI9HB37PZjewbMmH3ijU4dKYQugATkvb8iao0RcOBM1M5SJRBKQBmUzKOJBWjvKcEb7faSpfLoagN6Mm0OuiUioab0UMGRw8POGnVUECA1tUdTmo1Gu57L4erqwFqlRKgShTmF8NstoKggWA7jpXLdyL9bAUQ3hGx3gYYmurzMi8kjOiH0FWHcaqkEPuXL8f+W7oi1CcEegGQKZVQyWsGelUx/TEw3BMeTe4YXFvnSiUEWXNxXhW6TH8VXRr/uvoQfvjgJ2w7noNqckDHO5/CvQM7wF9fLx25NwbefAuGnZYj1esmjOsSCI/6jSWcD3JWGY2w2u0gtD7uedH8t1GdQqGAvC6Yq/eAl0ENdYN05PDy9IRWowZgREVZOaxWOwiKlpVH7ok+N47H8DQLvHTDMbZ7OHzr37AF1A7uE6qMVbDYbA3qSqGQQybIAAjQu3vAoNU22OQYcg+4uzvAQQugrBLllRZYbAQoBUAqwNaVG3AwNQdixBh0C/aGV/3gbV0Seh10KuUVbU6uONdWzQ0C1gYyZAAEPdw9DNBqG5QEcg93uDs4oKYo5ai0WFBXlH8S04F12Lj/FHLUHWFOPYhda842yqMZRRY7ZGoZUG1GalIyCopLIQZ6QY4rbFNbMlYt24qjp6oR+WAPhPh4QdUof3Lv4XjiXQ3aD0uG0GEQErqFwlEAYDqAdRv341SOGh3NqTi4aw3ONqpcc5EFdpkaMlTDnJqE5IJilIqB8Grhe4zcZxBGDYzBxoMnsefsTmz8MxUj46Lg4VtXQhE5O3bioNELneMiEOZZm7DMHd2Hj8HI5DIYpD64sW8MghtEfOouFIKpqhoWy5U+UNJaZhzZvAX7TmRAFmxBZtI+rCk70vAeYMlFpVUOjQAYzelISclDfpGIMP9LVd6VpF1zn1TIBZTuXIDvF0Yj2P8W9ArU13wskLkgbthw6GVecLmsC0lR01/rffS4kBxyuazmNTINtA4qqBqdS6ZzhYtBBwclALUTXJy0cFA1fI3cYICjTgu1QCgrKUKJ0QgzAToBkLl3x/AxI5FcZoDU50b0jQlG093DhKpqCyzW1vQOO05tScTOoykokPwwKMIfnk3dKCGDW49+6Bm9Etv25+D08c3YtGcc+saHo4urDBAUUCprP8spwxDfowOCg/RNvk9c3TZjjDHGGGOMsWvT5QdVbElYvmI/xNgHkRDoAqe6lGTuGDJhOMJWncTZipJzM0rsKSuwcMf96BngCX/Hy5wgI9PD2UkDhbxmsAIAYLXCStL5AQuywGKVINX7jiqTyc6N+pn378GhokpU14sl6HR6yOtHCSCDXq+DQlZvcKHqEPYcKMGU2CC4GprJv4s7PFTKegNOSji6OV9eWduYIAioGRa74pRalIYgtOx1/1gybwydMAIxG44jszQPltI/sXjZIYyJbgePQAcIYg7WL0/EKU13PDOgHfyai7Q1Zj2B/YfOoLjMjqq9v+F/aSugljdRU4IbQju5AZBDDztItIPQ3CyIJmg0UMtluNiVptGqoZDLIYBgMZtgF2suCjF7Pw6mF6HMTFC6uMFNrW52oFjfNQ4dvVyx60QhSk4fwv7TpRjaKRj6RsETmUIBhdDMk/SXzYQjP32IH7Ydx5lqgkPHO/DUvYMQ5d94Bogc3gMew/8GPNboeBEV6Tux8sfl2JtZDBMRdBbLJQONl+Nq1GnTZFCplbUzzgiSKEGi1gzYyeHZ+3683/v+xiVAZeZerPtlBXaczEMVASqrBaIotm6wWKaESlk7I44kiKKEuuxJZQew51AmcosJHn0D4ebkeCVR/6tOplRBKZehpigiRIn+4oHzlrAh9fBRZBUUw1Z8EEu/zcImbdMBNn1QLDoHAXJnOYhssBPQ1K3pAhdpU1v6Phw4mYMCsxe6B7rA0ampAXs5nNsn4I72CQ1znnoYR7MKUGwrxsGl3yJrk7ZRYPhcxhFbk3HIiWpmobUo4wDgiG7DE9Bp+W4knU3HvsQtODG2G2J8amek2FKxY9cxSN590Dk8FC7nbiwyuHebjJk/T26UngRj9kEk/r4cW49mw0gER6sVotiK2WJtwZaOpBOnkZNvQbFxDebm7cTiJm84SvjHdoY/5HDTCIDNBoL84vfpK0pbg9DOsQgL8sWfaWlI/PhRpO3ZioeefRJTBsfARyeHS2wf9GybWrgCKqhrAwnNUquhUihq+qTVAovdDntdhFnmjm6TZ+LC7mFE9sFE/L58K45mG0HkCKtVRKu6h5iLpBNpOJNXCVK2h7OLFg7NvTc4RCE6MhB+7nKczsnBiePpyM2tRmfXRsETQQ65QmjwsMx5ymukzRhjjDHGGGPsr3XZY1bVu5Zg1XEV4p7rD19XxwaTD3S9J2B0x/k4eqYEBZbaX4o5WL9gHU4PCYK3o8tlnliHbv26w3vRCZwpr1mKS6osQ7lVPP9lVqxAudEG8dy4qBIhYWHQazQQIKIo5ywqzNYGDzGqNaqawMs5AtRqFWS1S28QAFAlcnOKYLXagQueta07TKh9svmyCsf+YRy6T8CN3Zfg4Kl8ZBitOLFiMf68rQdC/cKhS1mJ5TsK4DfwccQF+qCFK39BqsxEVr4R1TYdej30FT68bwAi3a9oFb4rcD7wJUl129QAYk4OcquqYSZAIRHoYoPyDsEI9nWETiOgxFyI3LwqmM0EtCgAcGVMR+fiwx+24PiZKpA2Brc/eS8GRtVb9qs5YglStizBzz8twT6jH3rEe8LDoIc6t+qq5fVaqdMLiGVI274Cv85djF3FrujUxQB3V2doMyva/FT21BSkFZSgXAKCdXqolK0IIrKmSZU4k1OA8koLHOLvwQfvPYzRXX3+osmCEirSUpFZXIYqeMFBq4SyyahI08dWnslBQXklLA7xuOeD9/Dw6K7wuQoZV3UYiiHxv+PPIxlIPpKIxGM3o1dsIML0AizHt2BnihL+w2LRvp1j80FqsRwZe9Ziwc8L8cdZHSJjHeHm4QptanHbZ7gFpKpc5BaUosKkRadpMzH7ydvRN6BtKu9K03boNBF333oEqZk/YlNqBbK2/4QXbtuMpROm49mnpmJoR1/or4HZrADOL8lHEoiaD6qK5RnYs3YBfl74B87qIhHr6AYPVy0uq3tIBcgvKEeFseY9m6j5+XaABr5+3nBx1kPIqUBpYSEqjEZI0LfqHnA9tRljjDHGGGOMtZXLG82VSrB56XqkFZ7CqtfGoX+XSLRv3/78T/REvP9HFkpt9Q8ilG5biBUnClB62RtryOA56kFMGxAKLwdZbVaScCi1AlW1aVqTDiKpyIjq2qiJ3HMwbh0bBU8XFQQQTCYzxEZPogsyBRpHQmRyOYRGi9hXG6v++idO2d9HHoLREwYhPKBmXwcxdwMWrjmO7MJi7FqyGkctHTB8ZAcEeKpbPPhLZWWosFphp2qUllTBavvn9Sd7VRVMNhESAHtVJYw2O8TmLlmZC1wMaigVAGCFxSxB+iuKZErCzx9+h81JZ1AlaRF9x1OYNigaAReLqIilOL7ifdw/dBBu++8BeNzxPn7+eQ5eua0ngp3Vl3kzbJlrok7rE8uQsu4zPDp6CG59cytUY17Htz99iZl39Ud7d81VqStTWSkqTGbYAUiSBKK2nzH0r0MVKK80w2IjVJeVwmixNL8qUtufHKVllTBbrACZUV1tg83W0vd+QkV5JcwWG6i6DKVGCyxXK+PyAAwa2hvtgzwgt53Elo0HcTq7HBKqcHDzdmTqA9E5OhxBTe3TIVXg1OZv8OxNI3DLyyth6v8s5vz4Nd65fyhivHV/20qXVFkBo8kMC5lRUW6E2WS79EF/VdoyF8Tf9Sree+sxTOjsA60AUHU2dv38Eu688WY8/slanChszb5W/1xSxSls/uZZ3DTiFry80oT+z87Bj1+/g/uHxsBbd5m9w26CyWyFVQQgVqO6quG+Vw3J4OTkCAdtzfJgNosVov0ydn76F7UZY4wxxhhjjLXUZU0YEXPXYumWs3DqfhsmxPnBRdvEEJstHRt+WIo92aUw133TMh/CksUHMKVzANx9HC7vKWR1FO754HNY5U9i9qL9yKk8id/f+wzxbg9jsM9ZLHj7F+w/UwIrAIV3X8z47yxMjguAs1IAIIOTwQlKueL8DBSg9qnxhl8HJVG84GlyR2cD5Ip/8oI0rG3J4DbwJozqtBZJp0uQYzJi95Kl2Ns7HXs2pkHT/WkMCPGDS2vGRgQBMggAichOT0eFsQoSnK/qgH5rKXS6mj2AAFB+Ds5UmVBNgKqpC1ZQQ6WqXZddcIKzsxrKq76uuhnH532A7xKTkG2UoI2+A09PG4TogMbLfp0nlR3BvDeexhtzj8Bw0yx89sJN6B7ohLpdk662f36dnieVH8fi917EG9/ugnz4i3j3pckYGO4CJQCx9KqdFTarvXYJLYKxvPzcPhQ8W+VKCLVLMRLEs5nILKtAhQT8VZPjlIraZcGkPGRnl6LSKALNLZ/ZiCAIEASAxLPIzCxDxVXLuAwefYdhQPRa7E8uQNYfG7ArPQGxXiXYvLMELhGj0CHc74L5qVJFClZ99gZmfpEIU+9HMfPj+zAqxh0qAFLlVchmq9S8zwgkIjf7DIpLyyDCu42CPG2QttwNnW5+Dd907o95n7yHT+f/geRCE6qzd+C7Fx9ATv4svPbIRHT301yj17+EipRV+OyNmfgi0YTej87Ex/eNQoy7CoCEK+oeCi0ctCqoFABsxcjPq6i5NrRNt4BKpaxd5lMGnZMTtJrLrNPrvs0YY4wxxhhjrHUuI0JgR9qK5dhZGoKxs5/GEwPD4N7kyGAZ4k1pmP71DpwuE88de2rFAmy+vw8CPAPR5PLqLSBz74WHvl2HwWP/i2de/B82HfsFL9y5ouY7pVwDt5hhGDlyEu6eMhbdg5yhObcutgxu7YLhpVNDAeP5/V5stkYBFILFaoVUfzkHmSeCQtygUfMaB/8qmliMH9sbC/eeQu6pctjTVuDjV//A2cJgTHssDgE+ulYNIAjOznBUq6CEiPx9O3G08AbEhjrDqdmxQhuyDx2B2bcd/N1d0FT8sq3JAwLhq9dCKwCVBWlIza2E0Upwbmr5KaqCyWyDXQIEh2CEt3OCvqknutuQNflXfPhdIo5lGyFpo3HH09MwKDqg+WW/xCwsnfkkZv6wDVmB9+GHaUPRJcDpL92v459ep+eIZ7Dmgxfx5ldrkOJ5Bz67exR6h7k03Jj8qpBB56SHVqWEDBKKMjOQV14OC7lDyyN0l09wgkGvgVolQCo4jH3HcjG2RwzcXZu/kdhyjuF4tRt8fTzhcUVr+shhcHGGg0YNgSpxfP8BZOf3QWc/n+b7k8UEs6CEQimDk0EPjVoFQSrA4X3HkDu2B2LcXZsPQNtycOx4Nbx9feDuoW9dVvXxGJbQCct2HUNOxg5s/PMk4vMOYK85GHFdIhDm1ehuIeVi0xczMeuzRTjsNAGzptyIhCj35hYG/csJTo7QOWigEiTkJx1EUvYZJMR7w6PZ5rQjLzkFlTpXePn6XPSz2ZWmrZdsIJkMglwOQ/gQTP+4J0ZNWoQ5736IuZuOIrc6C+u/+x6dOoUi8Oae8LkGn2ORcjfhi5mz8Nmiw3CaMAtTbkxAlHsb9Q65N7y9XGDQC0BxCbIyz6K42ATyanqTeZPZAqvNDhI08AsKhJurodUPcUi267/NGGOMMcYYY6y1Wj9EazqIJSsOwRQxGMNC3WBo9glqZwwYNwzt3Z0bDKBIBRuxaPUpFJbZLn+pAFMmEuc8j4ee+R+OBT2In3efQnZ2NrLPnEF2ZhqSdq/B96/dhf7tXOoFVGqoYnsj3s8Afb0vfVWVlbA3WNZLQmWFEXb7+d/J3LqhbxdXODr8k+YU/NtQvX/bkGSH3U6QbDbYJELDRYfk8B85HkM7+MNdCUAqxtFDGVB2HY7hUf7wVLduxFfmGI4wfyfoNQLE7HWYt+IoMgvMzZbJdPxnvP35OiTlVEL6iwaX5QHxiGvvCRetANhSsHdvNopLm7lexVzk5FfDbBag79QL8d6ucL6acUdrCuZ98C02Hs2CUdIi6vaml/2SivdgTWIS8opMsB1dit+3JCOrVIJnZDQCnJ3QymY752Lr5l/MP7pO67GdWINlW44itdAO97BIBLi5XhDUuFpLvKiCQxDoaoBeAOxp+7A7PRd5Zl5QpikX1IokQmyqb8r0CGnnBxeDAwQpB4mLVuPAyTOobq5azSlY+MmXWLkvDaV05e91ju3DEeLuAkdBQumuZVi+OwWnK5pZ1k0sxLb/zcLny/cgrQLQh7SDn4sBDoKEnMRFWH3gJM40n3GkLPwEX67ch5TSy+kzKkQOGYy4sEAYhHLs27AQ389dBzG0MzqHh6JxDMp+chPWbtmPY3k2uIaEIdDDA7qr+tGg6TJJogSSLvybTBeEIF93uOoFSHnbsWrdHhzJqGr22rWcWoGvvluKbUlFl3yfubK0bTj8y5f4afU2pBhrj5DpEdR3KmbP/Rnvz7gB0W4KSCUncSItF3nlTfQVusSeVH87O05uWost+48hz+aKkLBAeHjoLm82alNllXkjJro9AnwNEGDH6aNHkJFzFk3fKkUUFhShorIKgkMEOscGwt+7tRGPNmgzxhhjjDHGGLsOtfJ7noSSzfOx6oQZkYMGIcjVgIutSqONH4GE9u4w1H9Ajyqxff4CHMwvbuZL4CWYkvDDI5Mw9cWvkJjhgL633ozuoW7QtnQDXF1fTBrXCd5umtpfiCjKz4PZVn+A0468vEKYbXVrTysQPm4SBvm5w/Fig5tEIAlXadSRYLNYIJIEQiX2/vI5Fu/PQdll709z7SGrFTZJali9YjODia1KuApV1XbYK6tgtNvReMVxmaEvJt7QBUF1S9YpwzFywgCE+LpcuOSJZIXVJqJu2x5JlNBgTEQZjj4928PTTQOBSrHjq3fw7cajOGu8cBEqc8ZKzH7pF5hieqBDoA90lx1UuXB5u4uSt8eYsX0R5ucMOUw4tGEdTuTmN3m92tIO42h2CSokP4y4ZSQiAzybXtKqJbmsd/E0PWZmRepvH+KbjUeQVSlBG3U7nr4vocllv8xHNmDDoSzkV4koPZWBsxVVsECCsbwcNlvDPQCkqipU20SIACSJLji3IK9ZwkgAUF1dBZtob7I2L5r/v7JOL3vAUUL56UzklFbABEJVZQWs1obr5EtVJpisNdeIdNENki+WPzR5oNy/O7pF+8PHSQDMR7Fy0TYkpRVfcD1KdjtskgSJUHv9S2jtMF6D/VquYID2klcWXWoj6RYQlOeWg6PKMpRWW2BpUGARxbn5KK2srrcfTd0ZlQjtHo8IPy84CITyvXPx8fdrsCej/IJ6hSUT6z+aiZ8L/BAdGY5gx1Z0uubaNKAP+nQOhp+zDDAdx/z/fohfE48hv3HHl0px6OdZ+DLFgLCQELRzkkEZ2h3xEX7wchBA5Xsx9+PvsWZPBsovzDgy13+EmT8XwC86EqHBji3Pd4O8JmBYnwgEu8tRfXAh/s/efYdXUewNHP/mnPTeeycdCARCLwGkKwhcUbFi44rl+trl2uu1IlYsWFBBmoBUAaVJb8EkpPdeSC8np+28fwQhRCAhNInzeR7+4dnZnd2dmbOZ35SfDqvxi+lOaLB9m/ZFobagkOLKGpqEoKmhHq1We/oRGg0are5EPelcEEBlZo6ZqSnqE+1Wo0ZzejlXqiivqKK2QQ8op7ddpgH07h1BoK8dJqKO+OWfs/DnHaRW/3U/DW3hdj5/+weyrQKI7B6GY3tfhRd6bkMux5LyKCo5fTCByqEH026dyqjELEvfAAAgAElEQVS+QVhjQKc3YDi58ZQKlVrVshxcswaNVs+ZtxERrRqmExu5t3M7HXFev6BKLQWFxVTWNCFEEw31Wk4vHgoajQatzgCc2OD+tJO3d69qAkdcw5BeEXiaQXPqXnYlZpJdf4ZW0JBPWlouxRU63IdO4Jo+PQjszNS/Tr0zSZIkSZIkSZKkru38giq6FJZ+t4nMKh9i+ntge84IA2Dendhe7ti32ZBTn7qET1cmU1ytO+0PNNHcjPa0mQICbbMW48mRmArFP3/Ix5uOUVxvBGMxv305l08+/4Yff1rNmrVrWbduHevW/8JvOw+QUlSL1tD2D01zesx8gjv6B+Jm0bKzSn1aEpn1Tac6OPVpJKVW0ahp6ei2CJ3Bk/cNJ9Dd+tQDEzp0hjYd5o311BmN596jQTGgb5NOGA0Y2gQGTGxtsDFVt+q0N5K+bweZJVkcXvIyzy1IpsEE1KYCg96ActoJDRjaXkOvQ9/mGnq99vR0ig6D4fQ/8A0Gw+mj84XhL8cIY8sMj1P/JTAY2uQJAwbDX/epOR+agkLKGzToWl+7qpxyjZYLii0Zyymv1KApKaW0oblNhyWAORHXT2NYNx8c1SbY9p/C9X388DpDlENpqqdB07J0E0BDXR260wJ25nSfegMjwv1wNAWlah8fPzyT+5+fz4b4PKo1DdQUH+PXr+Zwy78e5CfVGG4a15sg51PzvRSdDp3yZ0fyWW5cpzsx60bQ3NTUZiZWC4NOj/FEkEpRjK3elxqvax9k1oTeBDmaok1czaItqeRVtZlZodSwd/V6jhZU4z7lMe6f0J2AVj1yit5wMghm0DTRbDSco/NboNE0nyi3OnTNepQ2nTO6zGXM/XILifn1KFZRzHjiPkadadkv5Tg7tx6gxmiKytwSCytLzEzVmCCo2bOan4/mUdKkAAr1OdtZ8MFidmeVoREKTbU1NOv1Lc/Y0NJxr3JywvHEkm3l6WkU19WjE2CsOMKOA9lU1Og6kP+L9EybteiMp979X7sMjTQ2adCfmGVnMOjPY8N3FeaWlpibqlEhqDu4kQ1HMshrMAIKDXm7+X7+YrYdK6BRKGjqamnWalH0OnSGluCGVqvDYDS2dEKeKZpgbKKpWX+i482I0SBOBiBRBzBuyhh6h3lhgZGiDR/w5hc/szev7lQAwHicw8tWszM5lyoBSnk2GSXV5x1cbtZoT7RHenRaPUZD205+LVqdAaPxRMfsGW+liWa9AeOJ4I7hDMEdXXMzOoMBgUAxGFGUv74LodNjMBhRAMVg/OvMA7U//r6O2NuaoNTsYeXyHSRkVbcsX2msJX3TR7z+w3YySpoxQ6G2pIjjDQ0n20mz8IlMjutJiKsZKNUcXvA0/579DPNWHSCrspGG2lJStn/HS3fdzAM/1NH3unEMjPI4sZTVhb5TX8bceB39o/ywNoHm7DW8eu9t3P3EeyzZfpSMrDQSdi5n7kMzuPP9bIJHjqRfd8+WIKJZOBMnx9EzxBUzFKoPL+Dpf8/mmXmrOJBVSWNDLaUp2/nupbu4+YEfqOt7HeMGRuHR2VWWVK4MHTOc7kGemCsKtjEjiIsMOMMG9SosLCwxNzPFBEF9/G9sPphERm1LPWksPMDSBT+y6XA2dULQ3FCHRqttmQlpMLaUF7TodEZammUjBr2C0qaJVvv44O3shINKUHtoPT9vO8Sx4y0BYaUui21fvsN3v8STqzHHRKmnvKSS2ro/g6BmhF4znrg+UXiZg6hNYNHL/+GBx99iya40yhsaqC1PZ9eS/3H/bbP5Ij+IkWPjiPG16MCDutBzN5OyawdH07NoO2nJ1MkRBxtrrB1CiAz1xvPPDctU9jjYWWNlaYJSlUdO8XGOawQo1SQfjKckr7TlONFMs06P3gBCr0erN2JsW+WEHr3ecOLZn6kNBWh5V4oiQNtMs96Avu0hRgN644n3qYiWoBaAygILS3PMTE1A1BP/22YOJmXQUjwaKTywlAU/buJwdh1CNNNQp0GrVdDr9S31rAP3qnIbzoxbJzGityfm+nR+XfMbhxOL23wHKdQd/Y2tB5MpsB3FzNsnMzTa49Q3pWj5JlMUwKilWWtAf9Y97DvxziRJkiRJkiRJkrq4jgdVNLlsevO/fPRbJuX12ez/9Qj5FU3oz9FfZ6zNIqOwliZdmz9aRTU7PnyVb3ZmUnkicIFSw9GN2zl2vI5Tg/oUyo/sJL6kliYjgIHstCxqm5pPdF4ZKN69kP89fi+33DCV6ydPZtKkSUy6bgKj4wYQ5edFYL9pPPXDIYrrTwVwVA6DeWTua9wxLAhHcxMMmRtYvCWL8jo9AoXj25axPqmMGi1Y+E/k+XnPM7WnF6eWl9dTsnsrB/NraGj1R6ghawcbDhZQ1XTmkewATTlb+T2pinpNqxBEXQJ7DhZT23gqnXnEYPr5OmB7si9dULXtFSZGR9F/5iqcbriNESEe2BoK2LnnGNX1rUYQijqO7txHQU3DiRGO9STvOkh2TQO6U7ml8PBeUo/X06wAaMjd9BuHK2pOWxpGl7af3QW11J8YKqkvOcTR7DoaT50IpfwP9idVUP/nu2xMJf5YKQ2aVg9HySMhvoSGxrM/m7MzUpe5gbnz15GYX3XaCGulfCeLf/iN+OyaMwRDOkJD5pqlbEzIp7xyLz/9uJu0wrq/jOJWe41h2rju+Hn4c8208UT6uZ9hCalm8n7dxuHiCupFS77LDm1lX04ZNa3qgNpnMo8+dStxke5YmoCxJpl18x7m2j6BuNjY4+zTgzH3zuWA4wxeeP4Ohoa5tJqpoFCdmUVxbSNaAbrSIoobNW1mPBgpyc7leEMjBgT16cdIr6qj4bTnoyMnr4C6Rg2gUJ6fR3VT06n7Ng9m+otv8uT0AfjbVrDx3eeY99N+8mpPBAGUelKWv8ZrCw+h7fM4c1+cwaDg1ntvGKnKzKKkrrElAJFzjISSGmrPPLwYjKVkZJdR36gHjORnZ1LT2HCqk1qfxYr3v2RzQh51RiuiZjzOrFFRrZb9UtBrqilK3cWKdx7j5R+SqRHmmJursIsdSj8/NxxNQdQd4KP7b2TapGsZHxdDz2vmsD9oOIND/XFRQ8O+r/nvY3cxbuy/mb8vg0oFzMN609PbCQcz0P2xkOfnvMgzTz3ITbe8ypa8aprNTNvP/0V5pqDNzCKvroEmAeJ4IfnVGppOqxC1JB3LpLquCYFCWW4OVY1Nf52VcBa2vQfQJ8gbVzMQ9UdY8NgdTL92IuNHxtLrmsfY4tCbflFheJpC46HFvPbMvYwfN4sPfk2g1KgjJ7eA6roGBIKq4kKqGhtO64xU6lNJzaqgql6AUk5+/nHq6/48QoXzsHt57J7rGBhsj9pYzu5PHuLGydOZ+cjzvPziU9w3eSIPrEqnRmeDnQmI2r18eNdE4q55kG37Mzt2k8ZysvNKqa7TAgaKcnOoqqs9PRiuyyG3oJq6BgGiiuLCKhobTrsT6lNTyaqoouVW8sk/Xk/daT2vGjIycqmsrkdB4Xh2BoXVNWhOqwJaMtMzKauuxXiGgAgAag+GjzvR2S+aSF48h9uvn8iECWMZ3rcXI5/Yies1Yxkc7Y+1CWjiv+bJu2/ljldWkJBfD2ovxt3/CLeNi8HX2gSUWtI3f8aT0wYQ4maHvZMXUSPv5I1tpkx87BnuGRON58nG7cLfqUO/u3jyoemMiHDBDDBUJrLhkyeZMTKGsJAIesXdyFNLKxkw+3FmjuuN98l9htR4jbufR24bR4yvNSYo1KZv5rMnpzEgxA07eye8okZy5xvbMJ34GM/cM4ZoT4sL2iTbJnYco3p3w9fOnUGjhxHm78GZwgzW3WPoFRLQElRoTGTxC7O4aeJ4xo8aQJ9RD7LSGExM7574mUHTH6t47/lZjJ9wH2/9vI8CAyh1OeQWlFPZIECpoLjoODVtpuCo3AYxcmgvwn0tEZp0Vr42ixsmjGH8uBH0ixnJw2tVxI4cwcBQO6CZxCUv8cDtt/LcD3vIqlFQeYzkzvtvZ9LgIGxVoNRnsf2b55gxLAJPe3ucPMIZNuNFNmiG8u/HZ3H9QL8O7190YecWaDPWsOCrlfz6R3mrQICW3AOHSMqpJ3DqdCYO6InPn42fWSAR4f54uZuDPo3VH77BS489xn/uuJMXftzHsYaWt2Q8nk9BSWVLkNVYQkHecaqqT49WKbX55Bcfp7pJtGz0XlZH3ek/jigVhRSVV1GjA9GUS2ZWKRVVp59HX1hESWVNS/2vKqGospYaPYA13WN6ERLghTmCxsTFvDDrJiaOH8+oAX0Y9eBKjMEx9O7phxlN/LHqPZ6fNZ4J973Fz/sKMHToXs3wG/sgc564m4k9Xanb9Q3vfrSQDQllJ77nFBqzN/HpvK/ZnO/Dbc//l/sm9cW7VWFWalueVbVGgLGIzLRCys66FGkn3pkkSZIkSZIkSVJXJzqidr14YmiwcFSfXAVBAEJlYS98Jr0ldudWCX2rw3UJ88Xtg7oJB3O1MOH0NKf9M7UTUbO+F6mFSeKHWf1FgJ36jMeZOQ0RT69NF+Uag8j55k7Ry9vm3Odt+8/cX/zrg10it0YnlFb5NJQfFoue/Zfo7WUjzKy9RczYG8SMG0aJ7h62wsLKXcRMf1GsOFomGnStU9WJTc+OFGHOZmfOg4m5cPC9Rjz/S4aoaD7taiLnh/tEP387oT7Lsxjw5BqRVq45kUejOL5rnri1r7ewafXczdx6i1ve3yZyq5uFPmeR+PeAAGGnPtN9q4RN5CyxKDFJLHlsmAh2ND3zs3UdK177bav4+N6BIsD+zM9fbdtLPLT8mMhY/awYFe4qzEzOlH8nMfrVbSJt93wxs7+fsFWb/PUYtY3wmvS2OJZb1aFiZyhcIZ6+fqjo7ucsrM1U53zHaktH4RkQKW56d4dIK9e3f3Jdilj+8n3iuj7+wsnatNW7VAt73x5i6I2vi7XJxaKh1Ss0pH8t7p/5ilhxMPe0/xe6Y2LZy/8W1/cLFq42ZkLVNm82niKi32jx6LdHRG618c9EomT/d2LOtBjhbde6LKmEjf9QMfPNNSKxrKFVvTKKykNLxbtP3iQGBrsI65Pv3FJ4Ro8WN/7nU/FrZonI2fO9eP2hSSLG10FYqP48xlS4RMSJf83+UGzKKBYZ278SL9w9SoS72556lyp7ETxksrjz5aXiSH61OFnkNYViz8L/iun9/IWDlYPw6x0nJk6dIsb2jxAhPUeKmW/+LP4orW+VT4Mo2fmleObWoaKbi7UwbVVWLD26i7gpM8Vz3+0VuZXNQhFCGCsPih/fflLcPrK78LQzP/Uc1A4ieMAEceuLS8SRgipRtmGOGBPhIkw7WufVIeKOr/aJ7HqlJU/b54o7BvoJO9MT5dLUQYSOeUh8vj1LVDVVih3/myp6eVoIExBq5xhx50dbRVaV9kRd1Imcn58RE6NchYXJiXfkFyce/nqvyMne24H8V5/WPp7/MxVC1B8VK956WEzs7inszExOlhXbgP5iwp1vibWpRSJv3yLx6t1xopuL1ak2RmUrAvpPEo8s2CPSSjXt1wthEGW754v7R3UTjn9ex9ReBMfdJ+ZtTBblDVVizwe3i0H+Vi3PyqmnuPmtteLAthVi3hNTRG9fxxPPCIHKRvjGjBa3vLpcxOfkiEMr3hGzx0QID9tTbZHKxk/0GT9bfPJbqijVnCh0xmqRsu5dcW9ciHCxPFXvTcxdRM+pL4il278ST1zXRwT5RYuxdz0vvtyUKIrrtKe17WdirIoXKz98Vtw1upfwc7Q8VU/VdiKg72hx038Xit2ZuSJ+7QfiiSm9ha+jxcn3qbLxFTGjbxGvLo8XOTmHxIp3ZosxER7C1rRVvfXrI8bP/kQcTisWeTu+E288ME5E+zoK85N1wFQ4desvJv57nvglqVDk7lsi3npgnOjuZd+qHtoI35gx4pZXl4uEvJpWma8WCT/+V0yJ9hBWqlP5Dh4xW8zfli4qspaJx8fFiLDI4eLGR98VP+5MFWX1p//e6coOi6Uv3yIGBrTOE0Jl7SMGzHhJLDtYKGp1p45vSForPrhY71Q0ibwdX4jHJ0ULT1vT0+pJ6Jj/iM+3ZYrK5rO8QV2ZOLz0ZXHLwADhaN7qd0VlLXwGzBAvLTsoCltn/IIYRM6Pj4oJE2aJD7ckixrj2Y4zioqD34rHr40SLn/mSW0nAgbfId5cFS+K6qrFwS8eEKNDWr5V1A6RYsoLS8WB/VvED289JK6NDRau1upW78Bb9Bg+Rcyeu1oczq0Vf17WWJssVr12i+jvY3OyTqttA8Tgu+aKDUklInvNS+KGQeEibNBU8dD/vhO/JRaJWm3rTOtFRcJq8fY9cSLExaLVb5OJsPLqK/71zEKxK7tKaDv1rDpzbp04suBxcfPoaBEZHiLCeg0V197+iPjvC8+Jx+4cI/r06Csm/OcLsS2jSrR9o/rCrWLuXUOFn3VLm2Bi5Sn63f62WJdYKsoS14svXr5XjO8bJFysTrUZaltfET3iX+KpL38TSWlHxMYvXxIzR/YQPg5mJ48xdw0XgyfNEu+sPCSysuPFmk+eETcNDhPuNqfej9oxWPSfcJf43/KDIjP9gPhp7iPiut7+wsnC5OQ92/jFiNE3zRFfbT0mSprKxcFvHxfXRrmcrGtquwAx+I43xar4IlFXfVB88cBoEWJjIkAtHCKniBeWHhZFTUo791omTq8mzaLs6Crx9n2jRISbrbD3jBADRk8WUyYMEb0ie4jBN8wR3+7MElWtXoKx4pBY/tZsMba7j3BoXZ/MXURI//FixpPzxS8JhaLx5HU6/84kSZIkSZIkSZK6MhMh/tY7fv6VNpsNc5/nxY/X8EdJw1nW1f4r04hZLPrpJSZFev1lNKahLof43ftJyCjguM4CR+8w+g0bRJS3/V82ur/clPoCju49QFJhA+YugUQPjCXE1QZzucJCF2GkNj+Z5LRcynW2eAWHExHkjp2l6QWNuL7olCZKM5JJzSqk2mCJs38k0WHeOFqb/b3yeQ7GpjKyk4+RUWbEJaQX3QNdsbU4MdPFWE12/BFSSk3wiY4h3NuxzT5NCg0FiRxOzKPewpceMRH4OFmfc0+pdv2Nn6lRU0FeajLpJVrsA3vQPdgDB8sTjY6xhrzEP0gpMuAWGU24nyu2F/QgzpaJRkoykknNLKIWW3wioonwd8XO5Dg5eTpsXV1wdrT6675GXZi+Jo/khBQKNLb4hUcS6uOEtZkKmsvIr1Dh4OSIve25y4+xroi01DSySzVYuQcQFh6Mp4M1Zpd0o/U/NXM8O4WU9ELqzN3pFhFBoLs9lh3ZE81YR1FaKmnZpWis3AkICyfY06Hl/i8ipS6D5GIrPD09cHU897B7RVNJfkYK6YVNWPtFEtXNG2dr9Z8noiA5kZQ8DY6hPYgI8sC+U/VET21hGsdS8qgz9yI0Kgw/F1vMVaCtKOK4sMLO0Qn7c268ZKShJIu0tEyKGs1x8Q0hops3TrbmndtA/QLOrW1owGhmhoWFGYbaUnIz0sgsqsPUJYiIyG54O9mctSwqTaVkJCaRWaHgEtqTyEAPHCwuS8HtBAVNZT4ZKekUNlnjFxlFN29nThWPApITU8jTOBLaI4IgD/vTfk/O714VNMfzyEzLIKeiGVM7L0K7h+Hn7oDlRXg8F/LOJEmSJEmSJEmSuqqrL6hCIzm/r2bJwi9YsD4PK18vnKwtOD32oaBvrCQ/I5vSumYMArCI45XfvubBgcE4/5N64SRJkiRJkiRJkiRJkiRJkiRJuihMr3QGzotSyfY3ZjL7gy2kV7sz+b1FzJs5EH+HM4/M1Zdu5bW7ZvHx1iyqzC2wMFdhcqWHgEuSJEmSJEmSJEmSJEmSJEmSdFW6uibs1//Oyp8TKK7UgttAJsQF4mx39qVOzDyHMLS3J/bWaqx7xBLjaIuNDKpIkiRJkiRJkiRJkiRJkiRJktQJV1dQxcoLTxcLzExBOR7P70dKqWsynvXwpvSfWLkjj2qTaO555GaifZw557LjkiRJkiRJkiRJkiRJkiRJkiRJZ3GV7amiULX/M5587E2WHyykQe1F7PjrmTByAD2CPHGyNkVprqWiMJOkA9tYv/EAVV7XcP/LLzP7mjBcrORmKpIkSZIkSZIkSZIkSZIkSZIkdc5VFlQ5QVPMkd828MvW3cSnZFNQVkV9kx5haoGljQMePgF0i+rL4GvGMXpACK7WZlfZlBxJkiRJkiRJkiRJkiRJkiRJkv5urs6giiRJkiRJkiRJkiRJkiRJkiRJ0mUmJ3BIkiRJkiRJkiRJkiRJkiRJkiR1gAyqSJIkSZIkSZIkSZIkSZIkSZIkdYAMqkiSJEmSJEmSJEmSJEmSJEmSJHWADKpIkiRJkiRJkiRJkiRJkiRJkiR1gAyqSJIkSZIkSZIkSZIkSZIkSZIkdYDp+Rz86KOPcujQIQwGw6XKjyRJkiRJkiRJkiRJkiRJkiRJXYyVlRVTp07l4YcfvtJZuSDnFVTp3r075ubmGI3GS5UfSZIkSZIkSZIkSZIkSZIkSZK6GHNzcwIDA690Ni6YiRBCXOlMSJIkSZIkSZIkSZIkSZIkSZIk/d3JPVUkSZIkSZIkSZIkSZIkSZIkSZI6QAZVJEmSJEmSJEmSJEmSJEmSJEmSOkAGVSRJkiRJkiRJkiRJkiRJkiRJkjpABlUkSZIkSZIkSZIkSZIkSZIkSZI6QAZVJEmSJEmSJEmSJEmSJEmSJEmSOkAGVSRJkiRJkiRJkiRJkiRJkiRJkjpABlUkSZIkSZIkSZIkSZIkSZIkSZI6QAZVJEmSJEmSJEmSJEmSJEmSJEmSOkAGVSRJkiRJkiRJkiRJkiRJkiRJkjpABlUkSZIkSZIkSZIkSZIkSZIkSZI6QAZVJEmSJEmSJEmSJEmSJEmSJEmSOkAGVSRJkiRJkiRJkiRJkiRJkiRJkjpA/dJLL710pTMhSZIkSVc7Te4WPp27ijxLF7x9XLEyaTcFuVs+Ze6qPGxdvPFxtboc2ezyGg9+y9vfHaLWzhNfdzvM230P0kXRXMCOrz9hZbIOG+8APGzkuJ1LqSl+KR/9sIsClRv+3o5YtPu4m4hf+hE/7CpA5eaPt6OFHFklSZJ0mejKjrBq4TJ25OjxigzAvgMNcGfSdI5C5eGlvPnITB74aB/N7uFEh7peJd9PLXn/6Jl7uffNX6l0DKdPpAcWZ8m7Nvt3Vi1ZwZYCG0JDPbGWP4SXiY6KpF9YsmQDSXVe9OrmeMmupFQnsu7DJ7nz3jf5tdKR8D6ReJytQFztlGoS133Ik3fey5u/VuIU3ocoD4uLdnpdwUF+WbaIlWkWhEd605FP+86kkaSrmSzikiRJ0oUxNlKSvIdfln3DF58vYOHyLcTnVdFkOHWIviyJo6lFVNQZzn6eq1hj2gpeefozMtx70is8GOd2f10bSVvxCk9/loF7z150C3a+HNn8R7DpO4UJrkf5/r1PWbEvj3rlSufoH6Api3Xvvsj8eFMCe/Yk0k19pXPU5Vn3msBorxzWffYx32/LoNbYbgp6TRiNV846Pvv4e7Zl1NJuEkmS/mYUmqvySNi5hkVff8mXXy9m3e5jFNbqTx1irCY3I52M7HL0Zz+RdBk1F/7Ot+99xPo8cyIH98e3Az+RnUnTaUopR/fuYPvOeNISE0lKzaL8avmBOJH3X7ccJD0lmcTEVErO8d1nEdSXfhG2lK2fx1sL91HWNf8s+ZvRUnJwGZ98uIQjugiGDQu4hNdSqEg+ws5ft3AwPYXkxERSz1UgrnJKRTJHdv7KloPppCQnciy15KKe39y3B716+qDb9j4vzd9JSQfqS2fSSNLVzPR8DlYqD7N6xU7SKxppt26YmGJuZYWtnRPufsGERUQS6uOEpZmKLhonPguFiv1f8b//LWB9UiOeQ+/m2WdnMizYGSvZ53AVUKhJXM2C7zaTYzOM2+6aSB9/p7OOfrmgK9UksnrBd2zOsWHYbXcxsY8/Tl11VMWfjHXkHdnOxo3ZuE2Zxsgof5zPq1WSrqjmIg6u/ooPP17MjkJwD+1B9wAnTOqW8uFLZTgOvpsnH7+V4Z6FLH7pBXb53MNDd12Hm/2VzvjFZazYyfzXF1IQcQuPTB1GuLNZeymo2Dmf1xcWEHHLI0wdFk67SaSOUznSd+Yc7il9gs++WYaTzZ2Mj3a/SkZcXoWUSvYtfI+FKW6MnTWdcb3ckcX5MlDZE33z/3FX2Qt8/uNinOzuY1p/73N+n6jso7n5/+6i7IXP+XGxE3b3TaO/t8U/7Lv8/CkN2exavYyf91YTMGY6U0f3xc+2iz81YyOl6YfYtikBfeQg4kbGEmB+pTP1T6ajMu13flrwEQtWx3Pc3JfIHqF42xoo+3Yu+QY/Rt/zKA9O74Nx99fMXZmL//j7eSzY/Upn/B9PqU1k7dffs6OmG9MeuYU4v/ZHkXcmzQXlsSKdjNRUMo+DU79oont0x+8q+Xvsz7ynlgscoiPpGRND0LnybmJN4PDpzKiu5vOVC/jCyYnHpoTL0fSXjEJd2q/8+P1Gsp3H8+g9YwmyvJSXqyInJ5Wk1HKEQzSRPWOIOWeBuJopVOXkkJqUSrlwIDqyJ9ExQRf3EiZW+Pa7jptqq/h84WfMc3bh+RndsT1XfelMmotI0dVRmnGI7bvSaXaL4bopA3D/R9ZvQXNZCr+vXcLPf5jQc+JN3DguCqd/5LO4tM6vhTFRo1aaKE3ayNrN8eRVa/4yys3E2ouo6Ai8bQS1RWmk5JRTrzWCyhL38P6MmjKTB2ZNo5+fA5b/gKCCsXg1rz76GgsP5FNnhPSsZygxdeenV6fS3cum608V0u3l9cl38eHOLKoudLiUiRsT31jCO3cPJaz9YeAXhy6eb199jffXxFOsW0Kaajkfzh5JlNvF/nHWEf/tq7z2/hrii3UsSVOx/MPZjIxyO89KetyVCDYAACAASURBVBXQFHBg0zrWb9jE5m17SMg7TpPoy6O9RjIowv9K507qIG3Bdj576Xk+P2jJiFkf89vNQ+nmanmyTTNWJfLTu68y//1SNlbvZ+veJoa85oqzcxdr+HWZrHrvHTbo+vLA5BFEe1u320Gpy1zFe+9sQNf3ASaPiMbbuot3zl0JZj6MuX8W8f95g29+cMftoRsYGGAjO48vOj25Gz7lg58rCLr5FsYNCMRGPuTLx9SLuJkzSZrzFst+cMXN+Q5Ghdqd89vS1CuOmTOTmPPWMn5wdcP5jlGE2nX5r9ELYCDzl2/58J15rExowHpfBVjM4f4JoXS5GIO2nJR9v7FhzXo2bd3F4dRCqvQh3PCKL72HxdL1bvgqoa/gjzXzefO9FWR7TOSh7z5g6oAATlZbpZ6c3xfx8Vdf8erOr2guOUCSxfU84e8vA9xXmqGY3cu+Ylm8kT4zpzM+yqH975DOpLkgClUZGaSmZVKu9uOawUMY2O9qKTun8l6i8mZw7BCGDwluv6lSO9Nz9GTGZ33AN4vn86P3c9w90LXr98tcAYayw6z7fjHbKwKY8exUel3iHl2lJoectCRSS1R4D45lyPAhBHfV3y6lhpycNJJSS1B5DyZ2yHCGXIqbVTsQNmQC12Zn8smP7/OV3xs8PNz93PWlM2k6TaGhLIPDv61m7ebf2bXnEEnZZTTZRTP5gRcYdf2AS3LVvz1jCUe3LuTNZ95ha6U5QcfKEG7vc3+sXG78Yjuvcq1y7s31s59l3pJfWfHcWELc2oyaMLHnmueWsXbDZjb/uo39KVmkbHmf2/t4YmvSTHnKTpb8725GD5nK88v/oKzRgLiYd/M3pEvcy8GSWhpORp/05OzfT1ZtA7qufvMAoplmjR69zoDB1JWouGnc88gzvPjqG7z59tu8/fJt9PewRW0wYDAIvEfO4umX3uTtN9/g9Zef4/H7ZzCmhyfWagWDoQlNsxHjZZ3BacSoiBPlVEExKlyqQms0KogT51YUI0pXrR1CwdTej7AwNyyEQDF00fvswvRFW3jviSf56JA3d705j1dmXUNoq4AKgNq5Jzc++18mKLtZu2EHKRbBRPm64tKlZl8ZKdjwNd/tMWXA1IkM6uHZ/iw2YwEbvv6OPaYDmDpxED085SjxS0XlNpw7bxuIOLCK1buTKGyWbc3FphT/yuLFO2mKGMfEuL74WcrSfLmpXAZx0/Qh2KZvZs22Q+Q2tVfOVbgMuonpQ2xJ37yGbYdyaTfJP5xiFAil5SEJRcEouugXmlBQW7vjH+SNk7Uag/ZqWf+nCzNWcmT5PF56bQmlvWbxxrwXuX1Qq4AKgMqOoLiZPHBTD5SUdSzdWotLQCD+/nIgwZWlUHHgF1b/kollzAQmjw7rwKCDzqS50GzWkpGeRmpGGVbh/RkyZAC9Xa6S8EKrvFsE92bAsGH07+CQdBP7CIaNGUOMdQYblq8lvrbrLhF1xShV/LF9HeuONBM+fjrXRdle4sCVQn1uDulJKRRZBNN7wDCG9b9UHflXnlKfS056EilFFgT3HsCwYf0v2YwME9tg+o0Yz3CvYjb+sJz9Ne3Xl86k6RyBwAxbj1Bi+kQT5q5GJz9fAIEilBN9pwIhFISxS369XnGdHARvRVR0JK62O8is0J6araJywcfPAQtz1cnjfIY9yLsvZJH1yDfsz6vDCOiKtzH34Uexc/6Ch0Z0w7kLr8lh5uOPj5Ul5tTSDIAJtt5+uFuaY9p1b/sURUezTsHEbRTPffExj4wJx9XyVGuvVCwhZfkWEopr0AoT3GOmcMesOELdzE/9IaAvZMPzd/HwFwfR6wwoymVsDMxjuevZZ9D5bCbbZgi3z4wl+KLPUgEwJ/auZ3lG58PmbBuG3D6T2OAuOEsFwDqAPqMC6DMsmPo/jpJdUkmB7tJdTldfj97SEkszM7rGHAkd9fV6LC0tMTO7Anekz2Tle+/ywy4jI198iGnDo3A9Wxtu05Prxg1g1e5kmgKi6Obqctmm/l4OStXvLFqyjZrgWxjdKxyvdiMqClW/L2LJthqCbxlNr3CvS7KUoPQnNV7X3MR1a3bxzU8bGRQViGdvj6tk9OVVQKlm708r+a3YjdE3xRIdYCU78K4IFe7Dr2f8pl18uX4Du3uG4jvI99wjdVXuDL9+PJt2fcn6DbvpGerLIN/LM5RT39SEXqXCzNLyb1QX9TQ16VGpzLC0bJsrU8Im3MGDTeZ476kiYOzNTB0ayqVdjOcKsfQkrJ8nYTHdsKgpJCslh8N1l+5yf8+ycCHOVY46w0DxrmV8vWAJyV7TmDNzBiPP2s5aEjRgIIMH9ea3rHoCg/wIuFo6xrsoUZ/Ib5t+4Q9dMDfEDSOyA9GRzqS54Hw2ZpKRnkpmqSO9xw1l8IAIrC/5VS+O1nmPmjaI4cN7YtPh1Cocuw9k2NBdHFy6ntWbBhB1YxRyDPfFImhI283WjXs47jGOO8dEc8knxYom8nIySUopxC5qGoOGD6dnxwvEVUbQlJdDZlIKhXZRTBs0nOGX9GZV2IfEMGhUDDs/W8fSn4fR687odtqKzqTpDDV2HsH09Qgmpn8Yjvos9u1bRuZFv85VRu1NzMg7ePp1NWFHTeh53Qxu7He1tO5Xl043bSa2dtiYqtucwOQMH3oq3EeNZ7CPM7at+v+U4zv5auFOCioa6crjAkyj7uCph8YR7WOLqYkJtiHX88yTNxLp5dg1O8zbUrRo9Rb0nfkkdwzshotlJ4qcmS/jH5vNxDBXbIwGlMsaYVXhHHMTcz74ii/fuJvhQS5cqoG4KucYbprzAV99+QZ3Dw/CpauP+FVZYmlpiuoSfmAptQf47MUPWJ+QR12XaGgUag98xosfrCchr+4KtJ0K5b8tYum2BKqiruW6fqEEnHNdeTUeoSH4unrTs0cE7i6OXSSwBdBM0orFbEy2pu/YfoQG2bf/g9qcxIrFG0m27svYfqEE2csOj0vOMpJxY2Kxy1rP8h1JZMmRiBeNNnUdK385ghIeR//u4XKN3ivJIowRcbG4lW5n9dbDJFe1X84twkYQF+tG6fbVbD2cTAeSXDClMYU1X37JonUHKP3bbFyq0Jiyhi+/XMS6A6Vn3DNSZR/KqLue56Mv3+eJ6QMI7Optt4k55uZmmF7C0V9/z7JwIdovR+dL1Bzlt182sDnJkX7DhzE4xuWc3xkqRx98/PwJiggi0D8Ar3/EH5p/Vzpyf/+VzduLcIwZzKDYjoyW70yaCyVoykwnPTWDcp9+DBo8kL7eV8uX+ul5jx0ynMH+51nozbzp2bs/PW3z2bZhPTuK5PD2i0ZfyMHfN7Mp1YyooXEM9rz05Upo8sjOTCSl2IPo2CEMH+zfdfvbhIa87EwSU4rxiI5lyPDBnG/xP29m7oR3H0h/z0p2r/mJzfkdqC+dSXMBVObmWNjYYNXFu9E6xgQrr55MmP0mX3z+Px6eFI0ca3FpdP6xqkxQnTGIcgZWQQT5WHP6oB0jxYf3k1ZTj7Yrz0JSOdD/gW/YmZBIUmouuUeX8sQ1gV1/A/ITlOZmdBYxjBkXgrOjWadHsarcRzFmoCcOVgYURXaKSR1gLGbzO6/wxZYkirvI2ibG4s2888oXbEkqvjLLtRhL2L19H+kFNfhHdsfDxaXdj1WVvQN2NhH07u6Ji3PX+bRVavawfks8Za59GRzqh2cHZqnU7FnPlvgyXPsOJtSvA0uFSReBGp+4EfTzNxD/y++kZ1dclM6ufzylloO/buNgng1R/SMI9pOzVK4sFV6DhxAbYkba1t9JSi2h3W3sVF4MHhJLiFkaW39PIrXkQje+a4dynEM/fs6CRb+QUPX36bhSjh/ix88XsOiXBP5G2era/qZl4UJc/HKkUHXsKEcOJ1Dg7E9QgD/+7U0mU1ljbW1Ht/AgAgL8uuZsqquEaEhm/97dJDT5Eh3dk7COzFLpRJoL10xWejqpGdWEDBzC4IHRV9EAidPzPiwuthMdhiqcI6KIiQ1Ak7CPXbvS0V6KrP7jCBoz4jm48wCVrlH06dP90s9SAbT5OWQdS6HMP4YBw+KI7co9yNp8crKOkVLmT8yAYcTFnjvofnGocAgOodfgCEjfz7bfkjtQXzqT5gKYmLT8k6TL6PK0NCZWWFup/zIiXampolpnoOtvqaDCwjmQ8DB/XGzMUf+T6rmJB72mTeWaEBfsLmjEmx2xE6cztIc39vKvBKldGpK/f5nXF/9O+nFt11j7XJPM9y+/zuLf0zl+pSLRmjSS08uprBGo1KoOfbMoeh2KVziRfq5daPaVQtXeHezLqMIzdgCB3u7tb4qpVLF3xz4yqjyJHRCIt3tX3TXx70fl3Ie+3T1Rp+9kT3Yh5Ze47/ifQKk+xN4DqZQ6RhMbEoCv/F2+4lRO0URH+WGdv4/9aVkUt7uspgqn6Gii/KzJ37eftKxiLt1KnFryNn/Np18vZVtWw9/nN1mbx+avP+XrpdvIavjb5KqL+5uWhQtxScqRloL8PHLzSlBMVKhUqvYD18KAQXHE2z+QAH87Gei+YgR1KQnEx2egBPcgKjKkA0tKdSbNRaDNISMjlczm7gwcOogBoZaX46oXR5u8D4/s3BMzsQ0kKCwKP10afxw+TKrmIufzn0g0kJmSwMGkJnwio4mOvBxLDukoyMniWEotITGDiRse2aWXctMVtASQakNiGBw3nE4W//NmYu2DX0g03VQ5JB3YS2LTpUkjSVeTyzNsWGjQNBtpuxWGytEZJwvTs+8toisnaccG1m/eR1JOGY1qe7zC+jN26lSu6e6JrcW5YkI6KpJ/55cNW9iXmE1xncDWK4LB193MtLgw3GzMUGHk+MHvmX/Ag1unDyPQ3ZrGrL3sSiymtvn0YUYmjqEMHdIdTzs1JYe2ciS3mqa2w13VHkSP6keIsy3mop6svbtILK6lzamw9I0lrk8AjtZmmOgLObz1CDnVTW1Gz1rg03cEfQIdsaw/xoYfl7JxTzp1duGMufMepvTxw6H1/XfyWWkLdrLk+1XszjHgPeQmZk6Jxc/R8qIt0aNyjmP24xfjTGq8xz7C7Db/qzQVU1Brg5uTHdaW0FSWSUrWcdSe4YT6OmPTdq8Ho4bj+Zlk5pZQq1ji7BtKeIAbdpam7f7xYawvoqjBDldnW6zP+DyN1OXnUWvrgZuDDZZqUJpKyUzNoKBWjWdoFMGeDli1F1wy1lNU1ICdqzO21hZnjHwa6/LJq7XFw80Bm5YLUZqZSkZBLWrPUKKCPXGwav+eAHRVeaRn5FGpOBIQ2g1vZ2vMVRf7T7FmqvKzyMouod7MnW5RoXjbnU96I5rj+WRm5lJSq2Dp7EtoeABudpZnaD+ayVn7Gk+/s4qDuXUYPTp4Bc1x8jMzyS2pRbF0xjc0nAA3OyzbfV9NlOVlkV/eiMrWi6BgLxytzTsWsTZqqMxPJz2/FuHoR3ioD05nStucw9rXnuadVQfJrTPS3i3pa/PJKjbg6OON6xmfUecoTY00aXXoFR1phw6SUzKY3r6+555xoVjiHxtLlI/7ZRmldFkoNRzaf5S8SicG9fDE1aX9n1Kl5hD7j+ZR6TSIHp6udCCJdLGo3ekVHYHn6pUcPJRPyeBeeMt1US6AQm3CERKyS7AJi8Tb06PrLq9wNVG50D0qDF/bAxw9mkP+NYMI8D/3vg4ql+5Ehflie+AoR3PyuWZQAO0k6QQdJXsWMnful6zcX4rOMaTDKRVtLWV52eSUNWLmFkg3f0+crdspbUoz1SUF5BdXojVzwTfAB3cn67+WUV0JexbOZe6XK9lfqqND2VKaqCivx8TcBidn2zN+KxsbyyitFVjYuuBqbwZKM1VFOWTmlKK18SEkJAAPhzN/27Wlry8lPzuHogYz3PyDCfBywvqiL8mlo76sgJysfI4bbPHuFkpgB7+bWihoa0vJz8kmv0KDysaDwJBAfFztMf/LTXauLCjaWkrzc8jOr0CjssEjMIRAH1fs/3qBNgk7WBbOfFFqy/LIzimj0cyNwG7+eDpfpHLUEUJLc7MGjVZBX5lOSmoaGY096XHO2QsCc/cwIt19CXHrKh9cVyHRQEZKMslZBnymBBIY0IFBNJ1JcxHocjNIT81H3XMUQwb0xfMqKjZt897pVctU9vj7hxDhq2NdahJJmVp69ZQjRS6EaMwhMy2BlEYP4oJDCL4cxVlfSE72MTJ1YcQOHcagq2YZu87QU5iTzbFMHWGxQxk2yPvyLa+tssXbO4QeQfB9+lHiU7XE9mmnvnQmzWWk6JuoKc0jK68cva03QcGBeNm3/zH8Z7rM7CJq9GY4ewcRFOSLi1U7DanQU19TR0MzuHq5YKpvoLIol+xSLfZ+oYT62J96n4qW2upq6jSmuPu6YoFA31BJUXY6uZXg5B9KaJAb1u19DmnrqK1rpNnUDS+nM30FKWhrq6mu02Dq7ourBQh9A5VF2aS3XIjQ0CDc2rsQAEY0NWXkZ2ZTrrPBM6gbgR72mF1Fvy/n6/L8HazLI79Yg/a0IXBqvGMHEuFgd4YOOYWqI9/xytNv8N2ubLQ+Y7jrjtFEaw6w9Ov/smDuWwx94B3ef/I6urvb/KURMZbv5atXn+PtH/aQU6vHIWoiN04ZiK82gYWzxzG/z728+vI0LLe9z4vv/ERKxBzGTRxIIKAtSWTDp3NZtCubas2paIhp94dYtvw5JkTYU517iM3fLWHFtjTKG/SnRllZjuKNHQu438kWc5opTtjA5x/+yI6MSk6dSoXbtI/YNO82elmbYWKoIuP3Jcz9Zi1/lDSg+/NkJm5M+fAXXu11lI+eeZElBwqpOxF1+XHlfkqWzeffQ4JwMhOdflaGrMX859an+fFQIfVG4KuF/Bz/FT/891oiPawv0zSmTlAaKDq6jTXLf2TRiq3ox3/Ap48Ppnnjazz7zjL25tZicBjEYws+5dGJ0XhbmaDUpbHp20/45NvN5NuE0D3UA3V5Arv2ZqLxHMydc17k4ckx+Nq3WaKsuYyknRtYtWI5P23Yj+X0L5j/+HX09rU4cZyOqqzD7Ni0jjWr17L5kAkT5y3guck+FK94l1ff/4EdaRU0GcHEyo9hs17h7Sem0dfXvk3la6YsaScbVq1g+U8b2G85nS/mP851vU91WOuqsji8YxPr1qxm7eZDmEycx4LnJuNTvIJ3X32fH3akUdFyIfyGzeKVt59gWl9f7M9Sy5uyNrPgvXf5fFMepu6e2GnySc2pxdQthNgRYxk7YgBRAS7YmqkxMXPEL9Qfdzur8+ugV+pJ2/AFc+d9yfp0gYe/F9ZNReRWOzLw1pvxL2lnTyWljrRN3/LJJ9+yOd+GkO6heKjLSdi1l0yNJ4PvnMOLD08mxtceMxNAOc6uDx/lifdWc6iwASNA+TqenfgrL6nVmGDF0KeW8O59w4hwUwEKdWmb+PaTT/h2cz42Id0J9VBTnrCLvZkaPAffyZwXH2ZyjC/2Zm1uXKkmYcWHvDlvJenW3egR6o5JeTKHjtVh72WHZY97efPR6+kb7NimLinUZ2zhu48/5quf95Nb1UijRoveaIKNXz+mzH6Gp+6+hkh3G0wB5fguPnz0Cd5bfYjChpaGpHzds0z89SXUahOwGspTS97lvmERuKmgOfl7Hn/gZRbtycOs///xySePcl20N9YXoR9GZeeEo60VFqaC4j1f8+58bxzs72BkmAtn2y7JLOImnoi48Gv/rWiSSEgpocomhEgfF5zbBm/PmCSBlJIqbEIi8XFxpgNJWuirSN25jjWbdpNUquDW/RqmTR9Dn0AXrFRGalK3s2bNRn5PqcbSL5bx0yYzNMobhw5f4BLSV5L06ypW/XKAAhN/hv3rZibEBuN6po9NYy15ydk02vvi5+2KXdv6dkHU+IQE4eWkYkdiMmUVwzB6uXah/X0ut2bSktMpKDMj8DofPNwtOjwi2lCdwd5N69m44yhFekfChl/Pv8b1J8zDBpVSS8aujazbsJ3ECjVevUdz/aQ4egU4/+2WyjNUp7Jj7c9s2JOF3msg10+fyKAIzzP+UaPUFZCaW4+lmw++ng4dr/vnTY1XYADermYcSk6lqKQSo7/nucu52ovAAG9czQ6RnFpESaUR/4u57rlSS+JPc3n19fn8/EdFy0yY6r0s+L9JfPeUKSrM6TnjZZ5//D7Ghpz4WFGaKDy0nu8/+4xFW/6goKqRZp0WvbDELXIEMx56jNk3DCfcpU0vjVJP1o4lzJ/3LTsqrAmMDMahOZ9jx0rQWVrj2PN6Zt15K/8a6ouqNpGf5r7K6/N/5o+Klj9Oqvcu4P8mfcdTpiow78mMl5/n8fvGEmKqozonnu3rfmLZirXsrItm9n/n8H839ObPLcUM9cWkHNjGxrWrWbNxN1Xhd/Hss/9hnO0BFr7/HvNX7iW7WocwscA9+noefO4Z7psUg9dZ+hSaiw+y5usP+WjJASpMnXExq6Uwt5QGCx96DhnB6FHD6BPmjZOVGSpTW9z9fPF2dzi/eqI0kb9vFV9//DGL95Rh6uqFi7qOkuMmBI68lp6GynMvlag0kn9wHd9/9jk/Ha7HPjCcICcNufGHOFasIuTa+3ny0TsY38urZW3z8y4LCo35B1n3/Wd8/tNh6u0DCQ9yQpMbz6FjxahCruX+Jx/ljvG98Gq7ePp5lIXTP5EVmgoPsf77z/hs0Rb+KKiisVmHVi+wdItkxIyHeGz2DQwPd8EcUM6rHJ3HuwEwscbW1h47WzNEXjK/LPoKby9PHrtlCP62Z/ngUvsRd+Nt53kh6aLT5pKdk0Wu1pM4fz/8OvIB3pk0ABipL/iDnb+sY/O+bOot/eg3bgrXjojB316F0lDA0R0bWfPLQfL1jkQMncB1YwYR6WGFCQYKMtJJK7Wmx9hBDOhhf5lnNxmpyz3E1nVr+DWxBvseo7l+0mj6BdqdoQ9CobEsl/zjOqw9AglwNf1L3i9gTXucPDzw93em5mA2GekFGHqGyMEiF0BXVEB+Wib1rj0JCArEpoMvx9hQTPLezazdsJv0mpbvwMmTRtM/2BG10khx8h42rV7P3uwmbLoNZNx14xnW0xsbFRiKc8hOzofQ/gyL64Pj37Yj6wRjA4UJO9mwaiOHK6wIi5vE9RMGE+Jwhm8wpYnjhQWU1atxDQ7Gw6yYnOxk8gml/7A4+lzWm1Xh4OpKYJAHjZtzSU3OQd8ngnaG8HQizSUmtFRm7mfNVx/y+fLfSSlrQKdvRmswxd6vN+PvfJhHZ/2LAT5tpwAJtMcz2PvzAj76ehNpWlciewRgXplO/JFkKh36c9ODT/DInaPodtpvtUBXV0Lq3vUsW7SEn48a6HHT0/zvNlf2fPYyL8/fREadGb6DZ/DoKy9xe3A5+zatYfXPG9iaoabPrc/y/qMxlGxcwNtvf8GGo6VoBJg6BDL4hod5ds79jO3WZkaYoYHyzENsXrmUZau3kGnZnzue/4SnxjidaC+NaKoKOLZnE2tW/8yGrRmo+9zKs+8/SkzJRha8/TZfbDhKacuFCBx8Aw8/O4f7x3bjzHPP9FRl7WX1/HeZvzaRelsvnE2qyc8pRusYRuzQUYweNYjoIHfsLNSoLR1w9/YnwO1yzGS7xEQnafe/IcaHugpzEPz5Tx0sZn6fIIoajK2ONIqK9U+I4YEOwrTVsSq3a8SrmzNFpVb5y7lr988TN0Z7CCsVAvNe4j+rU0SpRhFCNIn9b0wUYa7mAhNHMWjOWpFWoRGtz2Ao2iieGx8mnC1MBCAso2aJH44WiwaDEEIYRNGy2aK/n72wtrISpipVyzGj3hD7s6vEyVzXrBdPDAkUDupT+TXt/pBYmVwqNH9eTJ8qPr2xu/CwanX/lqPEG/uzRVWr29ceeUdMCncTFifvXSXcpn0ijuTXnrqeMIjCH+4RvX1shcmfx5m4iclznhPXR/sJe9NW1wAB5mLQs1tFeoVO1HT6WelE/LuTRISbxWnnVrlNE58cyRe1rV/hJWQs/1Hc19tH2JogwFTEPrVZpJVrxV9LhRDCWC0Off+8uHNYsHC2Nj2RZ7Xo+e8vxGdPTReDIn2Eo6W5MDVBgLUY8eIWkVRmEMaK38W7N8cKb1sPMeLZVSKh9M/n0CRSvpklBgfaCVOHWPHI4iOisPHElXWp4uf/3S8mdPcQdhaqE9cyFb0fXiGOFDS3pDdWir3fviRmT44Rfo7/z955hkdZrH38t8+WJJvNpuym90ISSAi9dxFFBBQLRxS7Ym/Y27EX7Hqs2LBiAwuICgjSlN4kvfded7PZ+sz7IaEkBEhiIhzf87+ufIDd2XvKPTP33NVdKEGgTBBXvPK6eGD+JJGUmCLGn32BOH/GKBFr9GztlxQoznrqZ5FWbW/rg11kfP+MuP6sJBHo5Sakg/w2+Bbxze5iYW0lJGr/WCIevWG2GBLuI9yVreNOuOIV8foD88WkpESRMv5sccH5M8SoWKPwVCkESCLwrKfEz2nVwn7UZLpE4+7F4upxkcI37hzx7Kp0UWOVhXA1idRPbhaTY3yEmvY8p/A7SzyzPl3UdIcv7EXi58fOEylBwWLo5a+KNVm1wupqHXP51vfFTVP6CaOHJBQKBKrh4o7v9opS25HdrBabXrhIDA/RicDJD4pv9x/ef5b0D8WCsVHCS+Utht/2udhd0tw2nzbRWFEk8tKWitsnxwuDEiH5nyEe/Hy12JGRKTKzskVRrUVYna3zUL3pBXHR8BChC5wsHvx2f9veEUJY0sWHC8aKKC+V8B5+m/h8d4lobjePLSL1g2vF+Nh+YsbjK0VqlfXQepavf1pckBIiws5+RqzPqBHtp8wuCn96XJw/apg446b/iNWZ1cLidAlL6VbxwU2TRYyvRigUepFy1dtic0GDcAghhK1RVBTlibSlt4vJ8QahRBL+ZzwoPl+9Q2RkZoqs7CJRa7EKZ9vv73/9YjEszKP1LFH2F9d8xaiSzQAAIABJREFUsl0UNHe6o7oPV71Y//QFYniw+tB55uYXLYacfrG47al3xQ/bckVNs73z/fsPgj31PbFgUpwImHC3+GZ7Ses6Hb+FSH1vgZgUFyAm3P2N2F5y4hZCCOGs2CLeWThfzLv+MbFk9S5xYPty8djckSJl4nXi7Q1pYu/3T4qbrrtLPP/5BrFvz4/ixSsniISUueLZVQdEdddI9B1acsUPjy8QVy9cJD5fu068ddNUkZQ4Tdz/9U5RZu3IIXaR+emt4vQEHxFw5mPi5z2Vvd4dV9UP4sEZySKw/2Xi7fVZwvRPZ9K+hCNDfHbn2WJA4Ghx0we/iXx7Vxo5RdWOj8WDV18irn3gbfHjtj/FjhXPiSsmDRXjL39BrNqzV/z00l3ipjueFB+s3S32/PK6uPmMgSLl3IfFVzsrurDH/j5YC34RL9x+nbjt8Q/ET2vfE3fNHioGTL5NfLCx8LCMeBCOHLHsgXPFIIO/mHLPZ+L3Umef9s1V84t4+qIRIjT+QvHciv1dkOVcouaXp8VFI0JF/IXPiRX7G0Xvin8OYa4rF4WZK8Vz15wmYjQIhfdwcemTn4gN6ZkiMytLFFTUC/PBu99RKbYtuUvMmTBRXHjfErE5r0HYXVZRnbpCPHPZWBGhVQiFNkbMuPdjsbWdwGAT+asWicvG9BfjrnpZ/JRlbruHHKJ2z8finllJImLMAvHG6rxWXnKYRV15ochc+Zy45rQYoUEhvIdfKp78ZINIz8wUWVkFoqK+QeRu/lQ8duloERvg2SrjgVDGnSce/2pP2xniEo2pP4l3HrpYjB8QKrzVrfdi+PRbxEMP3i3mTxwo+g+ZLGaeO0tMGRwlDO4KAQrhO+oa8drPOcLSiXxmzvpBPDV/pAiJHCeu+88akWdyCeFqFvm/vCCuGhcm3DvKZ/pRYsEbq0VedzaJo1Js//BOMaN/mEicvlC8t6lAmJxt85W6Ujx72TgRpVcKSdEq117w1HKxr/nIbjaI/V88KM4baBTGwZeK51akH+I1a+FPYtFlo0WQ2lMkXPCY+GZvbRtPdYcXXKJh/xfiwfMGCqNxsLj0uRUi/TAB8dOiy8ToILXwTLhAPPbNXlHbjmm7yQtH8GrltiXirjkTxMQL7xNLNueJBrtLWKtTxYpnLhNjI7RCodCKmBn3io+3lgpbl/nILGyiJ5CFae9S8fB5icJD0bbWar0IThgjZl99v3j5s7ViX1G9OOo6/R9OOpwFP4mXrh4tQlLmise/PtCl9e9JG+GqE6krXxYLL79M3PLcl2Lj3t1i7eK7xJyxo8Tsez4Sm/ZuFp88c6e46Z5XxPdbd4vfPn1UzBuTIqYueFWsKbAL4aoVWz+8X1x7zd1i8cbKXj77TwSbKPvjI/HEbTeIO19eJlZ//qxYcNpAMeLip8S36eaj3hHO4l/F69dPFMGG4eKxl1b0et/lxt3iq8fOFfFh48RVL60VVX/vZPzD4BQlv70rbp0UKhLPvlN8tMfahTYu0ZC1Vrxz/xXi4gVPiE/W7RZ7Nnws/j1vghgx7Ubx5q97xfZlr4h7rrtNPPv1ZrF789fiuasmipTxl4infsgRNuES9bu/Fk/deIW44cXVoqxvRa2/Dnul2P31C+LOa28Wzyz9WXz92kJx1qBB4pz7PhP7TR2ZzynKtiwRd50RKnxTzhePfJUhXPW7xddP3SiuuOFFsfokDFY2pYpVL80T/YOHiQsf/1FUdGG/9KRNj2DLEmvevkqkqBAKnxRxzgPfiPyOU+RsENm/viFuOnOkmDT/KfHdviphddlFU9FW8emD54kkb0ngFiiGXvio+D7LcuQoRHPhZvHBHZNFqG+UmHTt6+L36raB2KvFnm8eF+fEuAn3kNHi0ufWijJXa5uW0r1i5YtXign9g4T24H0eMEycc+Oj4pX7Zoo4Hy/hpVW26gDDBoqR518vrj5zpIj3dxcKEArDYDHjmofFi/fPEUNjE8TIabPFnBnjRXKop5BAKDz7idNvelfsPsg7zmqR8dticfsZg0SEj7pNvyyJoJHzxDOr23TeskUU714hXr7uTDEy3l+4KxAoDGLwjGvEwy/eL+YMjRUJI6eJ2XNmiPHJocJTQqDwFP1Ov0m8u9t09JkrW0XZji/EQzNjRUjimeL2JXtFnUsI2Vol9i57QpyfeISeu+3PI+50cdt7e3ufB04C+tis6aRq+7vc9/hS9pQ0HvJ4co+Yyt1vvMx1Y6OO9vBt2sxrj77JuoxKWmRQ9RvP5HgfvN0UgAcDhyVh1GlRiga2vvESX/5ZSr2jLbzDmccXj/ybJZtzqbMJUPgy+YorGBcZgKcSQEnQlEkMMuqRrC04j1XwXBtCsMEdzfFcFFQRRIZ54n6C0HNVRAQhHm4c3+lWiX9kBEYPzWGvCNHA+tffJDvuCp5/71nmjwg9HHGgcMNLr0Vt+YP/9HSuELS02HB1mAPZ2ozF6Tp+9MDJguTDkIsf58P1W1hyy2QS2ope1299j8/Lx/LwVztJ/X0Jd88ZRkzCZCYODcaod7Ln09f4bOMByloCSEwOx0d/0KvWg8Q5s5kQE4LetIdly7dQUNbUOnZ1HGff/SY/7t3DRzdPpp9vJ14Dkh+jL3+EN5d/xzPzhhChV4Bcyg/PvMqOoCt5d/Um1q34mm9+3Mi6txcwIc4XlVzJ+m9/Jr2kqi0qSU3c2Xfz5o972fPRzUzu59uJV6mE3+jLeeTN5Xz3zDyGROhRIFP6wzO8uiOIK99dzaZ1K/j6mx/ZuO5tFkyIw1clU7n+W35OL6HqUPhTG0zbeOfJN1i1q4bEOVcxfXAMfm4KkLwYMO8+bpg5iEhvCRR6xt+xhFVb08jc/i4LRsV0w+ujie1v3sMDi1dTM/QWnrn3YibF+dGaNU1N0KirePbZ6zktMeiYhTTtez7ltc82cqCshYDEZMJ99Ie8MD0S5zB7QgwhehN7li1nS0EZTTKABn1gONGxwfh5qFvrFym1GMKiiO0XT3y/OML9PHBTAvY9fPraZ2w8UEZLQCLJ4T7oDxNgzuwJxIToMe1ZxvItBZQ1Hd4Vct06Pv18E1mOFM6ckkCI4SBPqQmaeCO3zRtNpJ8S0W5/yTRuf5P7H/6I/OQbeeyuy5kab8RDKeERMorLHryN84ZG4aNsYv/Hi3hzVSpFTTJo9ASGRxMb7IeHWknrkAyERcXSLz6efnHh+Hm4tfGNktABiYT66FGjQBWaRHKEb9uZ0AuQfBg3/0pmjk0m0E0ByNjq8tmz9nNeffBaZo9KJDZxBNOveYZvdhTR2JH3egBHUzm5qXvYsW0b23rpb8f+XCqaWnpcsLylpJTKxmb0waF463Rd8I5roaS0ksZmPcGh3uiO5WV6BGTTXpY8+z5ZURdx/+P3cdm0oSSNOIdbrphOZNPPvP7YTVz/roVR8xaw4MJBmNd9zldrd5CZup1dmeVUm0/mKW4l/as3+ck1hksWLGDu1LEMjDaiNW/l103ZFFV2KGriKmHXjjSKK5rxNhhw9+j9xMCSdyABfjrca0spbjJhOiUvuf8SWMspr6rHrA0kyFeP/oSBDTLmA1/w6of78D7jNh59eAEzRiYzfMYCLj27P67N7/P0rTfwVmUcM666kUtHONn67XJWbTpA6q69ZBSV0niqrJctmx8+/Jmm+JlceeNlTB8/kJhAPS27NvJ7eg4lHYqSuMr2syctn+ImHb6+OrS9ETJ4HEh6f/z99Hg0VFDW0EjjCY9gCb2/P356DxoqymhobOzlGhcqPH2DiIgOJdC3LdJV6Y7eP5TouHji+/UjMtAHTw0gN5P+3Ru88MZaHOOuYeEdlzAu2hu15IZxwAyuvXY+M0dHoLHk8cvHH/HV6u2Utx3ismk3a35ay5ZCf4aNGUJyjGfbnazCL+U85v9rFmPjPBCutrBxlSe+QRFEhwbi25YqVemuxz80mrj4ePr1iyTQx5uoMfN4aMkmtn3zHAumRHRSO0tCP2A6C574hGWvLOS8EUFICGq2fMon6ytJuGkJv25Zx4pvf2D1zx/x6OWTiHAT1O/ZxMZde8lu7jDblnRWfPgBn//wJ75jZjF98hiidBJIWqJOv4z5c2cwMlQFCi0DL3yI99ccIHPXVzxxyVjCuuxW3Uz6d6+z6JUP2eF9FjfdcRMXj4tEp2ybrwFnc+v9tzH/9AEcK0urI2cN33y9grUH6vCKiCYiOJiD15pbxAQmjhtOcqiN7A3r2LTzT8pd3eQFRw5rvvmaFWsPUOcVQXREMMGHCTBh4jiGJ4diy97Auk07+bP8cGaBbvNCayua07/jjRfeYK1jHNcsvINLxkXjrZZwMw5gxrXXMn/maCI0FvJ++ZiPvlrN9nJnF/nI88Q11zqFAl3yVGaeM5upca1yhnA0UZ75Bz+8/wx3XHI6w/rHM3Dchdz11ir2V7T8M+rTdBMuSx2lOX+ya3svyoh7MyisNvW4xpStpoaaqjokXyNGg6FLEQ/dbiNayP3lUz5bV030xY/w7F1zmTBoCKfNm8u5E/zJ+eYV7rjxJXbLScy78yameuWxccVyVm5N5UBGBlm5NciSH6Muf4p3Fi/imgkBf2uGCnvRRr5bkwMDL+LOm89jckosYQZB5u4d7N6bjbXdt2WqszNIS8+ixl2PQqeHXu67QqvH22DEx95AbXUVla4Tt/kfjgU7dXW1VFbLePsF4O9/Im4WWAs3suyLVWR4n8sjLz3A/ClDGDzhPM4/fzpRFT/yxsIbWbShmvC597JwRgAVO1bx5TebOJCRTXpaJlUuCZ8h53P/6+/z+u3TCD6lQ9EdlG37hbX76gi/4F7uuug0UmIjCJTyObB7G9vT2nM/ch0FuWnsT61C4+mF3tsbyWcI59//Ou+/fjvTTsJgFR46vIwBGFxN1FeWU9aF/dKTNn0CYaV0+woWP/cOO7ymc8eTd3NOij9ukhqv8BHMnr+Aa2cPQGuvZO+aZbz/4UpyDz5bXeXs3/IDn36ygTK1kcDIGGL92k4ftZHEgWOYPikBuSKNXRt+4bccJ6DAPTiFs29/l1XffsSzl6e0Zg+xlrB7626yNXP4ZG8am5c+zWXjBpCcPJGrFj7BO1++ywt3nk2MEoQpk42rvmdt7Xie+WUnf6z+nuU/rOTLdx5jXpIWmvNJ27WBtdsbW/WYSj/6TbiaF3/cxM9Ln+eSpE7e1QoPwobM5PY3v+TdF+7k7FZCZG5cxfdraxn/zC/s/GM13y//gZVfvsNj85LQ0kx+2i42rN1+1LvMVrKT1Z+/yVtr7ESPOpM55w7EVwKFmz8DT5/DVdfOJF4DuEUwZt4TfLs/k32rl/DgBf+MdCa9G9koGjjww9u88KcnrsZS8g7sYNveAmqbHcio8I0dzVkXXcON185hWJge96POABfFPyzh2/1l1NkBFHjF9CPC0+NQugRVQCAGdzUqwNb0O9//mMncpDB8A9xoWv8e7/6aQ0Vbihw8BjNuTBB63WFCkqcP3m6qVmXrMaVPCUUXbmdlF4oGSgolkoITh9MqJRTtqj47aAmby6NP3MjM/kFcMiwQ7XX/ZumOSjxH38B1syKx//ZQj+dKgYaUKROI/Xg3hbU1bYKjhP+E0xlt9DmU0uBUgyQB+JOSFIOf9zYUdSaqrEk8duO5TBgQhE6ax9PL5vH0wQZyNVsKKzBZbICZpkYHDgccqlzm4YOPpwa10kVFXg5VJjMO4Y2bQolSCRDAwKQo/PTbUdRbj+oPAMoAQoK8W+usmCQSL1/E87efRUqwe9u6a4g4azaTP1hDan491dlppNc3MVGE4qYAZSshAgYmEeWnZ7uins4pKQkICcJb64aECSnxchY9fztnpQRzsP63JuIsZk/+gDWp+dRXZ5OWXk/TREHoIaW6TM365fx0oIhKh4GJ0UZ0nkfUXlEGM+2scby3+gD5jfVkZFWi9QkgNtbQLYG1Zc8SXvlkMxk1MVxx6Rn0jzIcZVjUDZnK+ITP2ZJeTulR2m2ZxsJCKkwWbIC5qRFH+4XDx8cTjVqJqyKPnCoTZofolvFAbiyksMJEK2s00ehw0J41fPDUqFG6KsjLqcJkdiC8W40nzvwMsmubMNVXUdlkxeaCQxMkeTPq7NNIrNagEeLwMePIZtnipfxeFMy/Hh1BVGj78HZl8BSmjAhn5d4c6msL+WXFRq6ZkkCk3tCNNEUSflPu5a0lQ1i/v4nAEacxMj6wC0rPrkMdPoP7XtbiH/wMry3dRHZtyxFGWAeNxftY/f4+Nq7ZwF0vPMONMwcfnZqjq5BrWP38Ah54exX7a3pRqyoFMfOJD3h6wZkMNHb3Keaiqqoak8WKl68f7u7uJz7fXVVUVZuwWL3w9XPH3f1ELVrYv/Qj/gw+k7kzJ5Psr2mjIaH18sJD7STjt1RO+/ftDOwfjV5RTGFxJY1NdpSB/RkY64+hq7H2fQBX1Xq++sOdoXOGMTDOB6Uji5y8KuobbeidTuQOBdbk+jTScquotRgZkxyDn8Gz9zul9MPPV4ubs5qq+mZaHIJWQeB/6C5c1TXUNpmw6OLw8dBywu3dksa3X+zDc/iZzD5rGCEH+V9yR6fT4ubKYWP6OO68LoXBCb4oyksoraylwSZhjO9PbHAQ+lMijYNMzeYf2CbHMnbYcJINSpy5BRRW1FBvU+B0dqwdKNOQmUVueSUmvxQSY4II6uvCUpIPPj46POQcqutNmG2CE+V+lHx88NF5IOdUU28y04UmfQJnyQZ++P4X/rD159YxwxgUcOQTRcIwZAiDk+IJ2VhIfsUOtvyxn+mTRhEcrUYuK6a4rILqBgV1jSZMdg5f5pIn/ceMYkhRAZ6yq1uKZ0mSAAmfmGgiw4Lxloqo6/yb+BgN+PnoUVGJImI61999DzfNTjpUS0wVOJLxY4fz8/o/KMouoSCvnPJKFym6g+OUady7kU3b95Bp1jMhOACD4Yj7RTIwfPQIBietZWtpPkXF1djxJDouoluPOVv2z3z11QrWpfsy8f6pjB0ZddQe9ogbypCU/kT/eoC95o6/INNcUUFlTR1mAVpLM1ZrC+Dd9rkGnc4TrYcaubiMkopqaqyC0OPWAulAobmCisoa6loJ0Gy10o6CToen1gO1XExZSQXVNVZEaKvxpEe84Cxhww/f88sfNvrfOoZhgwLazalkGMKQwUnEh2ykML+CHVv+YP/0SYwKju7b9CVKf0bOu4sn9QYMz73JtzsKD6WCBnA2V5P9xze8uGsjG/5YyL8fuIGZiX93CqeTCNHIrq+e5bHHX2ZVfk/dZDqB5MeoKx7i0X/fyvTI7grQMg0NDdQ1mPDQe+Hp5dWF9eh+G1veen7aVY/30DlccnrMoTNb4aZF6+mBonQfOb4DmZsykREBEnWpVVRUVGGRfOgfE0tUlF/rG0Sh+Pv5RW5g34bd1CiDGHH6WIJVLkrKyigpq8TqjMbp6uDcKUwUFhaQX1SHPjwan/DItsH2Yt8lHZ46H/RqM431tdRbZPA+JQSP/z7ITTQ11VDb6I6nzgu9/gSrZC/ij/U7KHQmcP6Ns4g/+H5RaHD38ESrrCQtT0/irBSmjQtG2fQHNRVlVDQr0EdHEBsbi1EJoEChUKA4xQ9AuSmNrXuLMOmGc/mUMFSucqoqiygqa8Hp58Tpav/eFc2llBbkkF/tScj4aKJjjQBtYz1Jg1Vo0Xr64uNuobq+htpmmRN63vakTR/AVZvO9jVfszxLz4TbpjE18shbXMIrKoaksSPp9+UB9jXmkLZzI7+lzSZ2kBvC2kh9VSll9QK8bFibmzELCGhrrXZ3x1PvhZswU19TSlGxGTneB0mhAIUSbWAgkQlxBEr7yW92YowezLSrL2V0hBoi7+Gj2fcc7orThD4gEIMGcmUjg8+4kvuevpWJhrY5U3rTL2k4UycP5Lu0bdRWl5Ofm4/rNF8kpFadqeRJYGAECbH+KFNLOp8QyRMvfQCBrYQwDj6DK+97mlsnHtT9KfHul8TwqZMZ+F0a22qrKc/PJd91Gr4Hl09YKEjbw/o1W6l374dfUAihR+ghJK8Y4lMmMT7pezL31lBTW0W9iKZf9ElNANer6GWjioPG8nTWb91DZlnDEXVEQOEzmpvf+IDbJsdhOJbi01XKr2u2U1FvbrtMJXR6PWrlYYFGodPhqVS2LbKNjN27qWkeTaxsYu13a8mrORwRowqNpZ+veyfGm/8GqIgZP5kBvnrcFaBIvoJ3fjufp5sVeOm0qBUlfPRsD+cKN1SA57iF/OclJc+8+gUb8lyEjL2U+x68kmERPr1W2LqvoNZokBQSoCRm/GQGBvt3nq9TMjBp7sWclQ/7PabzrwnRBHl1GFyb0Us0mzE5nTihXfSEWq1GOm7hdgmVUtn6HYU7xkADHu6a9oKeOpAgowfuGgXC0kCDxYHjSEV8KyHUJzDUSSplmzFPgbsxEIOHe4f87GoCg4yt9IWFhgYLjnaEnGRnZFPb1IyMJ7IsEO00DBLew4aRFODHjsxaGsrLqLNYcQi6nqtbrmHd1yvZU1CBPXYGY+P8MXSmRJa88NKpUang6JABCcOkuVzcunBM/9cEooM6PjIOLRxmkxNnx4U7ASTDJOZefBb57Mdj+r+YEB3E0azRan1tNptwHkFAodagkSQw/8GSlz4jJehWZg4KbouIA/WAs/jXmbVEHqEQse78gRU7C6l0G4wzaydb5MIOcypTYZVAqUGBlYbUfWTWNTBMNnRToaghZNhMLhnWnTbdg1v4ZG78zzjmLdzD77+tY92639iweSfpJXVYnK0MZS1azWsvxtMv7C4uGB3RMyWdZGT6Ax8z9OpaGi32Xougk9x9CQwyoO9SsbWOcFFbU4fFCjpvHe5uqi4YVWqpqbNgRYe3zh23Exywrqp1fLvHi5TzBpAQ4XnE77uor6mlydKCMIxk/PBIQg0qUEYz+/Yn0U+sRp8wlEFxwRy7vp6Dqn0b2GcNZ0BCDKE+vS3QuCjbuJHywEQmhIfjpwRHzh9sTyum0hbDuIFhGI3t/XZtGWlkV9bQpI0nKTEAY6dC9l/st8Ibby93NKoGaqostFgEnNC49T90Brm+jgZTCy5PPV7ubieoESJTs/kn9qmiGJc8iLgjjQpyI7V1jZgtMr4DRzIkJpJANSgjzuS6h3SMuEpFZMoQEsN8Tm7e5YOQK9i6tRSvkElExwagxEnurt2k5ZfQHHEGAyKCCWzH2jZysnMpr6zHPTaR+OAg/PpaHlXo0es8cNc0UFfdTHOzDNrjE1Xo9eg83NE01FHd3EwXmvQB7GT+vpmte9Kwe0ZRlbuftSvz2p+tch1lJhmNVgFNZgpycikprcEVHQwqFSqVCsm6n58+/4KkuGgCZiRhaGMcVeRITpsajrtXz/LuK5SqVjnvuN9RolS2ynAab198vbxoXz5Kha+fL956TxSikWZzMy0tTg4/xVyUFBZTWl6NE0+EkI+Szzzj4+kXHUGAMo/y2hpqGxqxCbous8uN7PltA1t2ptMUMo2BCTFEdyZgKDzQerjj1unmltAPmsKMmamUSKXEnnsGI/t39BQ/KJ9ZabHYsFkFdMOoIukHMWXGTFJLJEpjz+WMkf0J6NDNg/KZtcWCzWZF0HZX9oAX7Jm/s3nrHtLsnkRV5bJ/7UryOshndWUmZI0WBU2YC3LILSmlxhXd9x7Ran8GnXsP751+Gffu2cy6tb+yfsMmtu3LoazB1ioX2avYtWwJH0REEH73RQz2/n9ytym8GX7xv/n4jBuobWzB2UuhOpLGC19/I4bOahucEDJNTU00NNlwD9Hhqe1KzbFutpEb2LvlAA2SkZETBx9WbAGyuZHG+gZMLi/ikgcyYEAkGiSCxpzPLU/HML1JT/ywwfTzP3lFouXaP9lfbEVpGMGgcBW4SkhPP0BqVgOBg2OJiYqinV+1vZiiogKKKtSEjoomLCq49zul8EDr4YVOa6G4sZH6+v8ZVXoM2YzZVE9jixuBOk90xyq62fplmtJ2klpqwnPoBYwyHMnMFkymOuobnegi4xmQMphYN5D8h3LWtU8QPO5mNDHDGd4/CPc+H1RvQaYhM4Oi+hb0w0YQpQZXeS7Zf+4ltc5Iv8h+9OtQF8NRVkZJbh6lqiCmRsYQ1/Ww1L6Dwh13dz1eWisFpnrqartiVOlBm16Hk7LMA2xau4la5QDs9fmsW9nQXn4RZvJKnHh4S1Btpbq8kOzMEpyDYlFpI0keO5t5c8vZKEZwzsxxHG13b5VN7HYbLZZmwOfwR0olSrUKFaDwjSBm4HBGhB3jhaOQWuVKSYFC0qLz9sXQQV6TPHV4GY14K6DC2oLZ1Bph2c5MpFSiUh/vLlMgKdrkV4WEVueNr6GDrCx5ovMyYmwlRIu5zWHlICG5lprqXPKKHQghELLcXmejcCc4NJKUAZGo9mRhbqylqroZmY51h/970bu7UvJn3HUvc5PifW574CO2FTVx0K4iGrbw6qPvM2LJnUyL9+9cl2H5k/1ZTTQfctMXOMt28P2XVra1FRAXDTsobrQeWihrYR4FZiuDW9LY+WcNJssRS+jnj1GjPjUe4z2Ar9EfjfqI3qu9MBzcl6a/MFcyqCQALXEz7+f9mff/TSPqG6jVmjZvws4gYRhzPa99d/1Rn1gr9vPr8qWsTSun0QnITlyy6JvweckNjUbZGgElZFzOjsaMXiOEm0aDspUQssuJaEdIxmq14XK5wNVAVaUFm619RyTvCML9PfHQgLnNC6hbtU8bt7F5exHVDS70I6MJ1Xn2SHcpGcZw/WvfcdTKWSvY/+tylq5No7x14XC6OiofukSAMde/xtGsYaVi/68sX7qWtPJWI63sdCEfQUAdP5aRcQFsSC2l9NdFXDl7I/+67QHuvmIKCf5alMoYpp0Rc8RvOsjctYfimkYcTfv4fnEJa907V8a7hyQyKARw88ClEDj6hE96A2p8o0dydvRIzr7yPnA3VLS2AAAgAElEQVQ0UfznBr798A0Wf72JjEoLTbt+Yc3eOYxODie+o8Wqi1B6+BIc5UsfPKF6CIHVasPhVKLTKFF2RRoQVqw2B06lDs0JFHMAcnULwRMmMaRfZAclrIO8vALqG5vRJgxkQIARn7bPPSNHcXbksX/T1VJPacY21ixfwuJPf8U05t/859+XE+yj7mWBxkWdK4opkwcRF+GNhIO0Tb9zoKgcR+IlTEqO6OCx7CA7LZOymgak2CQGBBo4Mttir/Vb0qDRKFFKViwtDhy9pX35fwjZZsPmdCBp1ChVJ1I6uai1+jNidDwD+hnbR905iigsqqa2yYO4AYmEBPu3fa4lbOg0wob21Qh6CFcDrrDRjIlPItZXAkcWW7f/SU6RlX6zxzIwNqq9AdyRT1ZOMRU1CqKnJBAc6N/3hW8lNWqNCpVkx2pri8w9YRM1GpUKyW7F1hax+bfDWUxWVi4FpS2YlVtY/m4Ga4/hyeERM4jBgNrggVpulXHV4UkkJcQS6bWXfbs/55Fr9rF5/q3ceeP5jOvnh0YZwvCRIX/rkI6GArWq1TijAGSXq0OKUIHdbsfhdIJspr7OhMnkgiN2jaQLJMDfgK+HgvIeeKnKzens359OTokd7dAQgo1GehI8JXknMfuut5h9V4cP7HXk7ljDsh83cqDMDghcsugQwdUlAiTNvou3jiZAXe4O1iz7kY0HyrADwiUjjiCg6jYvOCnOyiK3oJQWs5Ity98lY+0xlNoeMQxqZT481DJWGboRSvyXoNIF0X/CBfSfcAE34cJSncuu1V/w3rufsuL3bOot2ezcuo0d+6eRMsF49P3oqiF9yxZSa73pP24cSQEn83XsoiZ9C1tSa/HuP45xSQE9fqtLGh2GEB2Gk729D6F1H9vtArVKjbpLh34328iN2H3iGOAXyZDQ9l92lpdTXlZBjSac0bFRRB383D2AxLFnciokWpFNMgGJAwmKGUSgBM6CPzmwbz/pTeGMHjKYlGS/dvzrLCuiKL+AUjmEidGRRB5LCflXoFChVKtRq5zY7TZstt4n8f8GwoHdYcMmK1GqNSeQe2Sa7HrC4gYSMCqy/XddVVRVFlNSpSZ4QDRx/Q5GZbphjB3B6bF9N4S+g4zZ5UdU/GBCRoagxElJZgZ7du6nIWggyUOHMaRdBgUnlWUl5OQW4QwYSkRMLFGngmJToUKp1qBRO3E4rLRYu3DJ96RNb8NVQ3lpBgcyTVhaMtn0xYukfX8MOSo0hcGhoAzyx8NlxgWoFFrCR8zl35/P7fBlJ+bKTP74cTnLN2bTIkAty8gu+TiJkZQoVaq/9C5QqJSoNKrWbDBCRpZl+iSrmkKFUqVB1UoIWZaRjyQknDgddmx2gXA1Y2qoo+5InyEUuHv7YAwJQq/IavW7OdVDyrqJPnjfSYTMvoc7t+3ijo+2UdR0yKxC07Y3ePTtkcTefxaJAR5HCXyu2kqqzXYch94YMpXbvuKdnFVoVEd8W+1LSLQvAAovCbtC4KgsoLi+BfsRCyy5a9EqJY4bZHAKQ6FQING5QvuvzNWpkpr8pEA2U7TtR5Z+8iXrirQkT44m2E+PtqCmx7lz/7ugJjw8BJ3WAwUWMvf9SW3DcOQA38P7UaFGo1EiSSoCo6Ixenl2K3LJmZFGRnUjJpdEoN4LdddeFCeAjLloGz8u/YQv1xWhTZ5MdLAfem0BNb20cLK5iG0/LuWTL9dRpE1mcnQwfnotBZ0RcB/M5QuvZFdBFct3ltBc+jtL7jmPn786n5seuJdrpiURqDvCaCI3kJtbQmOzDeWgK3njrVuZmhz4d73F/x6o9YQPncWtg8czIu52Fr74DVuLC8nOrqG+wQVep4BnTa/Agd3uxCVLKNVdSxWJw47d6UKWlKglxQmNAeqkC7g+qbPfKSAzq4KaBkH0gAEEGvxOfIm7Svlx0YO88WMGzogRDHavo8Xp7ENjnYZB/7qOQQf/aTvAxt9TKawQJF05noTwkPapZlxlpKUXUVXnIGJcMmFGQ2sEV6/3W4NarUSpcOCwu9oLg/9Dt+C0O3A4ZSQ3NUrpRKeYmoRZV5DQ2e8U5ZBXVkWtHMH4hGACA07xM0I9gHMuH3Don7bUrWz/M4ciRzxzxwwgJtKznbzmqsgiu6CcKlsoUxLCCQrsisfyX4UGtUqJUnLgsDtxdYXPNerWKAyHA7vT1TcPshNANpdSWlZJjUlB7Lw7eOqBW5jVvxuaA00cZ86bx4HMXEqX76Gm5gA/vnITf/z0NRfdfBc3/2sSif5/x/z/FSgJCPDH4OuNRA3FuTmUlFbgTDgyvZeq9RxTKvENCiHA6NctpxVXUQGFxeVUOhR4arW4u/fGnMi0VKaxecUXLP1xH03GFGJ1gQT5qclr+ss/3kqhpZK0zSv4YumP7GsykhKrIzDID3VnBLrLC7KZ0tIyKmtMKGLnccdTD3DLrP6nuEOeEq1/PBMueZghQwfS7/HHePHLfVSWFlNaVoYTY4c6LoLmA2tZ+sqTfNZ4GvcYkugf4H/SPERF8wHWLn2FJz9r5LR7DCT1D8D/n+KuihOn04HDpUBSKZG6dK11s40qkgmzO/OicVFZUkxhURnOoNFERUQS0bOCPn0KVcwkZh3yO3OQ9+ef7NmXgSViEoNTBtK/XboomdrCQvLzS2j2H0BUdCQRfZKfUoVKqUatdOJyOnCcuh5tpz5cTlx2B05FayaP4+sQVISNnEbYyE5+prqcsvx8iu1GksOjiIk+BZm521ARMXoaEaPb/ukoIjN9FzsPmAgelsTgYSntA6TkBkpL88kpMOEXEU5MTGznmVn+dihRShrUKlfrfumSLqYnbXoXwlpPbXkhxXWCoDGzuOvZt7hlbM+j9oS9keI/17Pss69Zn+UgPD6M0Jhg3PZW9WKv/wsgeaP3CSbIXwnFtVQU55CZ52DUgCMkKUmJSq1GpfTExy+YsFDPf0yUCtBHY5FCOOeehcxOCm2fy1+Y2f3OI/zn12yqLEer9oXFgrVDuJBm1O18s2E32Xl55HXyl7v3Pa5MDsWzqQlTh8egQjr18yr2FH9lrvo6pfcpCdlM7tq3uGPWRM6+byW2KQ/x4dIPeeHW6SQFeR5V7+OfCyXRZ8xkXFwIPiqZyg3f8lN6CVVHRKu4qrPILm2kWUpgxqwxRAR5d+ugsNXV0mCz4wBkl8xfC8mRMeeu5a07ZjHx7PtYaZvCQx8u5cMXbmV6UhCevbBwsjmXtW/dwayJZ3PfShtTHvqQpR++wK3TkwjyVB9D4SDhM/JGXn3nWW44IxGjuwTYqdi5lIf/NY0Z173IqvRqWg5uUNFIo8mOwylwNtRSa7XRCzXc/zbY8zawZmsmRbVdcXv2ZeSM0xneLxQvhQuH/egaGv/dUKJUSUiSQHZ1MeJMqUQlSUhCxiV6Hg3nqkkjvaCKOlsYA5LCMRq6oBBThnL2A0tYtWUrq5e+wh2zhxLq/fepi2ypf7A9q4QqxUDGj40nLKh9DRq5IZW0nEpqLf70T47G39CmmO71fsut6Q5RIim7aAz7HzqFUtmahlKWXR0iIbsDmdqsbArKq2gJjicxPIjA/6p0bDaydu4mI78U+o9iVGJ0B0WPTFNWJrnlVZgMcfSPDiJI93cwXSufyyiRlMqu8bksIwsZlBJK5YmNvn0B0dyMxWLFJlyYGxtobm7upgOQhC7xXBY+tYiHr5pMjF4JOKjLXMObt8/lnEvuZvH6HBp6sexC70NJ8PCxjB6aTJiboH7vRjbu3EuW+fAekxuKKS6poMYRzugJoxmUFNIt5wyHqYmm5mZsgJDbR3h0HzItZbtYtugaZs1awKu7/Zn75Ht88s6jXDopAWMv7Ge5pYxdyxZxzaxZLHh1N/5zn+S9T97h0UsnkWA8Vj2zbvKCaKbZYsFqE7jMjTS0pcA7aXCWs3/ndnbsLTpGfcUjoUCXMJIx40aT7C8hu5w4nc5O9o6DwtwcsvLqMUZEEh7ue1KVGY7CXHKy8qg3RhAZHt4ufdV/P5RIkhKlJNr2WF+16QRyI4WFhRQUN2GIiCIqMqI7WfcOwdWQx67ff2dbajl9HrDhKCQ97QCp2XaikgcxMDmhfSpmYW6rp1KLPjya6MioY/KLq6mI/ds2s3lvSRf2TkcIhBDIQkIhKZH+V3Ov55Ck1nTlos2jvUc/ImMqLaUwp4AGn1DCo2OJ+VtkqMNwmiopyssmr9LSZw7JjtIcsvbvJb0ljISkwQxNbq9zEZZSSgqyyavSERIRTWycX6+f3a7mGkrzMsku747cJRBCPrRflF2MyOt+m96FsFmxmUxYhIzVYqaxobFHayvsdeRu+ogH5s/mgls/pnLQDbz2xRe8dvt5jArT/aOMBV2C5ENs4nCmTEpEi5mCtF1sWLuN+iOc/y21NZTkF2H2i2fg6ClMiDvFHem6iT5bc2XYudy7cBZJoV7tBf6WA3z42Cv8klmBuYM7nMJL1xpZcsT/OWurqbI5TuidqtBojqpHIdtt2PsqndNJxl+Zq/9vkM3pLHv4Ys655GF+8bqMl997lfsuGEqI17EU5v9sKEPP4f4n7+D80VHoLb/z5sPP8emv6VS3uBDmbH549X1+yVcy/p6nuf2sZMJ13Ur+hd1uR5ZlQKapoQGrw9GzPSibSV/2MBefcwkP/+LFZS+/x6v3XcDQEK9eMoLJmNOX8fDF53DJw7/gddnLvPfqfVwwNASvLhGQ8B10CYu+Wsnnzy1gSpwf7hLgqGbP5w9y2WWP8tXOYkwuADUqVWvUnFyST27jSX60dwsOMtZ+w5odOVRYutZC6e+PQavFXfLG6O+Fh8c/SbyQ0GjUKCUZh0NG7so6Sho0aiWS7MDxVx4YqWnkVNVi9o1nQKwRw9/8wOg+HGRs30VuaTUkDGN4VCABHRzNWtJTyaysockzgaSEAAx9lcNabo1QcQk1bm4qlP97MPcYCo0GtUpCOB2tqSR7AtlMZlYOZZWNeMcmEBMUeIoUo+8iHDns2ZdNYZmL2EGDiQ4L7VDSy0pWZg5lFXVoYxPpFxLY9/VUAGQHTocTWVajcVNywuxsgOxw4nDKyGoNbkrVSYmgPFiPREJQXV5GdW1tDyJmJLxip3Hzy5/xxbuPcPHoSPQqwNVI9po3uPuGe3h52W6qTkp+s65B8h/HJTffxoLzRxDkSuX7d97g7U83kNfoQLSUsOXLr/h+cxkRF9/GzZfOYJixO5tGxuFw4HS6EAgsZjPNLS09u4/kFgo3LOaey+dx0zuFJF3zLG88fyvTkwLpnetepqVwA4vvuZx5N71DYdI1PPvG89w6PYnALhHoBi8oWiN/JAlEdTll1bXUnsRIRmfxHjasW8eW7IauvVEkH7y9ffD2kvDU++Dt7X10BKurnKLCfAprjETFRBIZcjKVGS7KiwrJL6zBGBVDZGRI36dF/FuhQK1Wo1YpcDpdrfUe+6TN0RAthRQW5FNU7UlYVDQRkYauK3pkO+bKTLYse5nb5l/AnMse5tNNWTT28VvFWZxJZno6ubYw4vvHE9+hngS2IgoL8ims0BAWFUNUZFD7O+qIft9z5VzOmXcv761Jpb67e1i0Rqg4XUrUajWaf0JQxMmCQoVKpUalcOFyOntW60hYKS0tIjuvAo/gMKJiYgj4O4UTuZLt377ANVOmcfUj77O5ri82gpPyvFwO/JmJJSiafv0HkNiB/e2lpRTn5FKqDiIsKpbY0F4+LeVK9q1+gxumTuXSO//DrzVdHKdoizZxSqhUGjTHL67Y8za9DUlCUqlQImhqqKWstKSbKW8F9upUVr12BxfNu5+VtjEsfOdDnr58PFGn/Ju8LyGhT5zIBbfcz61nxaEu3c7KD17g+a/3Um2TsddmsmHVF3yxVcGEi25g4fXTCf9HpWvpk/RfB6EkbM693LF+F3d+soNi0+HbzZb5CY+/MJoBz81j6BFGF6UhhCC9OxolWNq+7irOJddkxSZz3ILzktEfP426NcSw7fAWDbXU2h04u1PE8b8Ef2WuOsLZVEZxgxpjoC+ebqp/lnXVVc5PTy/kocW/kqO/kNdvm83IWL8TFNb9p0PCOPp63lyWQv87buG11d/z7/O+Y1FgEEa9NwHxY7hx8cvMmxCPv2d3TzwJT289Hmo1EgJLQQ4FTWZahD/dss3govynp1n40GJ+zdFz4eu3MXtkLH69uHCu8p94euFDLP41B/2Fr3Pb7JHE+mm69oh12bELFSqlhKSLZdotbzH+vMv46rVneGHJOtKrmqnb+R6L3h3JgMALGB7pja+3Gxq1AtGwhz92lHPh4HiMhuPMrzWfXWmCqJgQ/HxOYgk+VwkH0mtxRCtwO26xwSOaNDXRZLPh1CczdGAwAb49vDnlJnZ/8QrvfLOB9CpbLxaqD2fqdXdxxfShRHa71ouEj7c3HhoXzeYWHI4uJFWXfPD29kDjasbc4qArTY6GnYwD6ZTVNKCJSyLR33ConspByA4HLklqVRB19+f7Aq5iUtMLqa53EDVlMOEB/rQvk+AgNzWD8poGlHFJDAgy4NdXUokwYbbYcTi98PFxx+0Y9Rr+hxNDqffCy8Md0dhMi91O+6oPXYQjm4ysEsprVUQn9CMo0NDhN2QcDhdSGz8f+f+Wqnzyyq1og8IJ9dfjJgG4aKkvp7CgjCalgaioMIx6tz7bB66yTLIKy6i2R3BGciShwR2ixhwFZGaXUF6jIOq0BEICA44QuPtyDM00W2zYHJ6E6j3w8OgCnzc3Y7HZcHiGovfwoCtNehuSzgudVou7QlCVfYADOXmUTInleNk+7OVZ5Jnd0AWGE6aTccigkFSoPEIYMfdhPphyHr9+9hovvrWMzVm1mDJXsuST/iRER3DRyE5qTpwSkPAecA73vh5LXMwjLPrgF969YxafPeaHn8FAQMRApt77HpfOHEM/Q3e1fhIeOk88te6oEFgrSiitrqZBjutm6iWZ2u2f8tJTz/PB+hbG3n4pc2ePI7InLvHHolC7nU9feornP1hPy9jbuXTubMZ1SK937MbObvKCDi+dFq27AlGVzYEDOeSVTCH2+MxHVp4ZN10g4WH63ho24KKmoJDy6gb8k726dq7KzTQ3N2Np0RI1Ip642LDDZ43cmmPdWZNHfl4+ZR5hTAgLI0RyIcsS0nHyYwuHmZrSIkrqXHgFRxAW6M3xREBhN1FdWkhhuQmFTyhRkSEYPY+80Fv7IjtryMvPI7/Mg7AJYYSFSLhkGamDY2SXICzkrP+Sj5Z8wcb8Zly9VqjenyGzr+CK+bM61DfoUms8PT3ReSqxtViwWtsllu/FNkfDUVRAQV4+pVIIKVERRAZ3+A3hxOmiVel9iLlkarZ9yRtvLGZFgRfJgwKw2F3YbX+H55dMdWEhefklWAIHERcTS3SH1F7O8kIKC1rrqUyKObKeytH9djic2Kw9PIeEDau1GYvVHa1Wh9f/awXpX4SkRavVo1PbsVostDih2/kUnWWUFGeRUwSBEyOIjgnvsCMETmerAkyl6v2Hg6sik/Q9O9lv9mVicCghfcEPch2lJXnk5JsxxkURFx/fIbWXk6rSEnJzCnEGDCcyJoaoXjb2uSoyydn9Bzsb9AwJCSe8q+lshA2b3UxzixvuHl7ou+IV1ZM2vQzJ3QMPvR6dBLbyYnL27yXDOpRBx1GzOOvLKKuqx2LoT7xbDhu+fImHnviMgsizueHSBVyQ3L2MLv9YKLSEjbiIh96OJP6Vx3j87Z955drfeOc2XwKDAwiMGs6Fiz7m4lkjCD2Jaq2+Qt86hyjDOe/eO1i/6y4+PeSxDeAk76sneXbMQF66dAQR3m21B9wHMqi/N7p9Chrawt1F4042ba/i/IQwvPUdxUsXLS1O3NzUSL4DSIrSoU0Hc1usqqu0gHyzDWs3jQydQ8CpFPPyV+bqYFF3Vym/vngn97y8kv2VVrSJc3jwlUVcOzEK3y4qT091ONK/Y+maVArrnHiNSCbBt/Ug7YhTaGX/Hsi17Pnua9KCruSt9f9icn8/lC6BSqU87iOrK1DH9SPGW4enopqm/K1sTqtmalIUuu5YVRzpfLd0DamFdTi9RpCc4Iu+pwsny52kqHGQ/t1S1qQWUuf0YkRyAr76zsI1Oydg3/MWj29NYu6sMQxse+h7hI7h8kVfMnH8E9x873v8mlFN9o4d5NdOZWBEMP36ReKt80BRV8OGL79hx7R+hPmFdx6aLzexc/FTvG8/jxsCQ/Dz6TikLqad6gXItQdIyymmzMuJq0veczK1+/eTVVmPx+iLGRsbQY/roUoa9EHhxMYngsHei0aVUCL8vXDv0Q2oJCDAiKdWQ3VDPVarDcEJot6UAQQYPdFqqmmot2K1CbodbuXI4UBaCdV1gugz+xPUsZ6Kq5hvH32VwuFzOOfMscT2Sc7pbsJeSGFJA40WA8PiwvD18Wg/T64SUjOKqKp3EDEhmVCDgT5zDpQbaWiyYhMGAgK0aE+G5vgfAsloxKD3xCOniQZLCy0yaLopMjjzM8gqKqfaGcGY+BAC/NsfEnLZTzz/VgaR48/inDMGtBnlXZT/tpg3v0+lvDiT1Eod46+5mwVjBVu//JLfch34hvlh2vcbO+siOf/ue7n6rEEE9gFT2UtKKKutx+ybQHSoEYO2/QS4yjPJLiynxhbG1MRwAg91oo/HIDfRaLJgdfliNHqh0554YeSmRkwWKy5fI0YvHV1o8tcgC+iYBtEjlLCwIAJ8JArr9rFuzWamjh5K5LDOPa3l5kxWLPmUDO/hzJofQVD29yzZ7CAw5QxmjmhNj+Hmn8SM219jyMihPPPoC3y4NofSjDSyC4oxjzCi73AEtHbrFJAG5UayN69mb0sKNyx5lgsnx+CpECiQUKn+2uKoQkMJCfTHT8qmojyN/Wm55NaNwr87imNnIZvXrGPzznxaPEYQHRNCsLGTR1aX5LNOeAEnhZvXsG7zTvJbPBgRHUNIsLETA0PnBJzd5oUUQsPCCArwQSqsY9+6NWyeOpqhkcMwdM58ZK5YwqcZ3gyfNZ+IsM6G1EM+khspKMgjK6cS/fiuJZwXTfnk5+ZS6Exk4rAhDIptjZlzFqzno3feYvGqdEzmOqqqqjFLPnzx9NX89LIbYePnc8P11zA75QijkGihbO9avnx/CavSrQT0TyHe10Jeejkeg8/j6msvYERgB8HJVUfa6k959+O1FGpiSI4PgJpssmp8GXn+5Vw2exBGuYD1H73DW4tXkW4yU1dVRbVZwueLp7n6p5dxCxvP/Ouv55rZKUfty+NCoULrF0Rkv0T6u1t6zaii0BiJDjXi1SNHLgkfHx98vXW0mE2Yzc3IuJ9A6daTNh3hoqyggLz8EuyBo4iKjCC8XfikTPWWj/l0qwnj+CuYP9q7TR6TMI6axyOj5vEIINdt4YMnitiR/neE9DmoqqykorIer+BQwkKCO0SsytQUFLXWUwlIJjoqkkiPg58d3e+vXlnEtp3VPeuKsGCxmDBZPdH7+uLn88/Qg5wUSHr03gb8vG3UmM2YTDLdDWF0Vf4fe+cdGGWV9f/PpJHee+8JKYTQe5MuRbGXFxFsqCsu6yo2BNkVXRXXXnYt2HXBBgrSIQRICOm9TTIpM5NJJpmW6c/8/ghIAoEkgO/r+vPLX2Se+9x77nOe+5x7zrnn20xTTQ0NRn/SwmOIjel7FlhQ5vHN14eotY1j9b3Tr3AJQQvS6ioK86txzbyWWbNnEPtrbE4s7bQrWmjtcCVwSjgREec454VOmlvqqWnU4hcdQUxsHK4XutelDQBpdRUFJ0qxH34VM6+eR+Jg6UVsBgx6NWq9Cx7evvgP5gFcSpsrDSdf/IKjiQq0p6SlgZKcffx0aB5p88P6TWKwGVvJ27ONH08JzHw0Cd/KIo78+BPFakdigyKIizs32Af/H3oVf4GtW0ZFTi4VlklsPPwpN43yx0EQEOwccfydL6mXHlQxmbHYhPMMYbO5r7PPPvI6HvvzQfL/+hl5TZqzx/ktTXz/3N+ZNOINVk2MwttRBHZBzF4wlbA99Ui16p5rhTb2fPAZeTMjCUjufazcStvB57jnOTnLXljHtRnJXDUrhXePN9Am76mkaVMXklOo5MbkCLzPRF5tVoSBjF07N9xc7LHv/fANevR9yrbYsJ5XWqxH9iu1J7PZekjlbfRDVn9ZcxWOh71A245/8NRbuyiS6bAC6optbHwqlvRPH2FWwrkZxb8ObCYT5l68BILVegXXIgFNbS1NKi0Gmw1B1YXObMZKr7p3pm50egtWgdMbu/M7t9lsZ8dku9Tg2iCc4H36t11yGG/AzZzQxpEta1ifncCaDcuYmRrQQ3R6hY7h2YdNYuKIEHaXNqDW1LLj0x+5flw0oSmB55wQMmE2C6fnxYLFKpx+N0UImlpqm1RoDTZsgoounRlz3wdHt06PpefB0fsRnR4FDvZ2iERg03ejs1jpEw8QNNTWNqHSGrDZBFRdOsx9O8DUrUNvsfa8g+d1YEV86iQNk5NJjHTrRRTrQszVa1h5IJsaaQdim3D6SdoTO2kSyUEHKW3SoSv6mM2vpRHxzK1MivHu618XNJR+sZ6ndzqx7Okkos5wUNg7YG8nQoQNfbcOy0UiHNqWIgpr9PglpRAT5HnR7MKB0F1RTpW0kRKPRjpVOoQQz4tv9Azl7Nh5lKqOWK5/ZA4ZCf6X8aFxJn7WnTw6685LvsOVhx3ewYH4uLtQIJOh0ekQcL/462PnTXCgD+4uBchkGnQ6Adwv0ELQULnrI97/9hS20bdz17IpJAU5YxHnU1ArRWH0Z0ZcGN7efevJm2oOkK32Z5x/MEFXNGCgp/H4Lvbld+A3ZjZTR0TjN8j7CzodOoMJCz74+7uelzUvdJZTXttGhy6IKWnR+Pu5/nolGU1tKDq0GN2jCPFwvwDR46XLilFK4YF9HG90Yvi06YxNCmawB/2M0kIO7DtOo9ucrSMAACAASURBVNNwpk0fS1Kw2yCXYyPSwgPsO96I0/BpTB+bRPCgTxfqac47wIGTLbimzWDq6HiCBulNt/MKxN/XE1dNG20aNVobeF3gWkFby4EvtrL9mJbkZXdw/ewMwlysSEpKqJa0ovcdT3So3znzbKb+aA6dLlGMigjnTHxQUOex46iexDmreCCihOcffZ5vX3+ck9syWLr8Njb+eSzhbnYY8//N2ke3sO3rA2QmxDE/xb1/vdI3k3fgACdbXEmbMZXR8UGDDCgIdHd3ozeasXn54ufudk5wXKCrqpq6VjnqgEySYoIJPq1wV1yGc2Fqp0OpodslkCAvj0Fx6JnaO1BqunEJDMLLw6Of9d2AvCKP/KoOnKMzyUgKx3fINZ7ssbezx14EmAzoTSb6uIztQ0lLSyEhxptTHUrqfv6YD+KjCQ++hYlh5/AwdYvZ/94rfFXtz/yVY3pIjaVWpDUVaL2S0I7x7eWYHUbIhBu5fkk+JRViss614exPc88AJoMek+lCjuze7Wz0by0OAgM1Ejop+vpl/vFNBxm33M9NsxOG5mQeAHZ+aaSlJhIbkINM3sKxPfs4NnUs6QuSztFhCxartcc2xoognOFGEyF0t9DcKkehsmGz16LV6nsykR3OtjUYDBhNFs7wFPQ1SwfQBaGbluZW5AoVNps9Wq0Wfd8OsBgMGIwmLHD6/r07GKou2BOalkZKQgzepzpQ1v3Mxx/EEx0ezC0Tw3Duq3yI97/HK19V4z9/JWOGe562zwarRwPAUE9jQz2VRZ2ESGUohSQCL/qqmWg8kU3W0TJcJi9n3uzJv5zucoieyarNM1m12UTFNy+y8dm3aBi1lvXr17Awuh+rzNRKzpev8vctO+katZIn3r6buYme2CGgzP6Al7/N58CxkWRem9zrSRgR793KW58V4j7vSd69fTwBDmCQHOGjl17jwL79JI9MZWF0NDNXbWbmqs2YKr7hxY3P8lbDKNauX8+ahdGXYSM6ETpyAXeNXMBdl3yPKw0R7j4++Pl6YahR0qnsRGCgMlxDaWND35TLj199xS6xL9NvvJll0+JxF2TU1lRSVa/GMy6UsJCQvhUCLC0UlsjQWsOYmOhxBW0tI20VJziSXYEhfBzTJo8kctDZ7gYMhm70RgF3Ty88vbz6jsumobFRjFjSgXdENDFRUfxaFWKxqFGrOujCi3A/f/qLE4OJ9tpTZB8ppNM/k2nTxxE72AGZldTnZ3P4lAKvjGnMHB+PzyAV36ysJz/7MKcUXmRMm8n4eJ9BvzOX3vYyZBW54uXlh7+3mbquDhQdAhdayGwGKUX7tvH5t6UMG7eM226ZQ7KnDUWDmIqyarrcQgkKDye8j05ZkJdX0izX4DUj5crrhLmZqop8CpqCGXfHVcwZezEek0ufJ5vRiEHXjUFwI9jDG+9zAnk2XQstDTWI2zwInRpLXNwV5sI6LWdOnTcZy+axeNIQTvBatWhVCpQWd8L8gwgcjFIN2MaMWlpLaUE5HS5xZIxKJ9LrCteIsvMhIiqVURlB7GppRVa4j6//9Q5JMY9xTVLf5FqbsY3in7by4bfl+F77NJP9zIjzZDRKFAiAQa9FozXS+xiW1WzCoNdjtvX89VdP1LH1l5hy7jVw1oHd5z9D6ajn30U6sukaOfbVW7y1S8noBzZz+5jT+mRn/39SVvh/G5f8bhpVXajNfYnhEVQolQYsfYon2hN1/ToeXjic0HOcSFbpLl7Y9Dl5TZ2nSZvtCFywitsnROL/ywbbhi7/bR7602Y+O1pPl9GKpauGfW/ez3X3foPXdbczIz4Yd3tHhl/3P8yND+KXQxqClJ+3bqdEqqSHh1ug7cB+Tsq7Ls5nYB9KQnwArr3SmC3Npzhe1YnGIIDQRdEn6/jH9kqk6l43srQjlRkx9yI1ESxmLH2CLzasFst5L5nNZDrnOtBp1BepV345cwVgpqqwFIWmu88z7C49RVGXlu7/pSCrrUuNxnpWjzRdnZgHkQ5vsVh6iFUBfXf3L0dA+8IOJ1cXnBx6SuEYC3bw9fE6mtU99ze1FbH9xbf5oVRCpxVsmi66jGbMNhMGk3B6MynQrddjsVoBG0bDGUd+b1gxGs1YrT0btH7jLkI33XozPY/TgsUinBfcE7r16C09c2EzGn5x6PfpyWjEbLX2bO/774jubj3m03pjsVhOkzOf/V25/w2e/3A/eaey+PnHPRw4lk95bSMtbZ1oDeaBg44DwT6Kq2+9moyYIIaJBDoOvspTW77hWIOqFzm7HvGuT/kuV4y82wZCC1VlMtTqHv4VOydXXJwcegKbxgJ2fH2cumZ1T2DE1EbR9hd5+4dSJD0Pjq6unvfOZDAhWAUQ+eLjc7rcVncdlTWdaLQC0E1t1hGKpWpsw5xw6OmAgh1fc7yumR7VMNFWtJ0X3/6BUkknVmxourowms3YTAZMQs9zMZb9zM5TTUi15zwlOy8C/N0ZNsyJqBEjifLxZpgIHJOWcNOcFCJ9HcGmo/yTv3LHyr/w0tfZVMl1dGvaEed9zz8fuo4bHz9M0NKbuCo9ijP2hMjXB59hTjiKbHTXVVLTqaFHpFqyjhTT0q5FALoL3+bB6xczf/Ykxi14jK9PNXHuEAcPMzVllUjbFdTu/479xdXIDRfRD6GT3H+/wof7Wom5488snz2SiN/CiYkrDIeYWKJ8PLHJWlBotKe/LxdtQUxsFD6eNmQtCjRa4wUNIHPlf/jni6/x9gcf887neyiXdGBFT/mBo5Q2StHijpfXsL7lq0xidn6eg2vGKNKGRw2x1N7Focv5F0//5WEefPAebrplHR8drWSwpYXt3H3x9XTF2UFAsJ5rjOmp/PEnsqsa6HRPJDUxAP9f8Si4uaWJlk4tlog4Yn29+uXv6E9WxaDqchso+nwzjz68mgfuv507Hn+PPcXtgzNbDUV8vvlRHl79APfffgePv7eH4kHWNDYUfc7mRx9m9QP3c/sdj/PenmIGWw65O/8zNq9bw+oH7uW22//KOz8XDVJWwD6SqPAAfOwVSNvUqC64Jlio2fEu/3z1Vd7d+h5f/FxIrdwK+iqOHi+mVqIBd088XVz6OC7Nkr1sz7ERNTyDzIQzQVwBTcEJWl0C8QuLwa1LSZdGS1O9geSF17JkwTjCTwcu7EQiRCIrnUolGt2FCEa7yf9sM+vWrOaBe2/j9r++w89FikHyeNjh7uONp5sLDraeBJs+fehr2Lcvm5IqBW6xSSQEB9FTAfFKy9DPjEtbkXaoMIVGEeV/fonAflogbZXSoTIRGhWFv5/3OZsfK5Kd/+Ch25ex9NprmD1tLne/9B1F8iE6jUUeeHi44eoiwmZoQdIoQ95uBQy0FOdTXNmIy/hZzJg4mmgXsBka2PPG4zyweh1v7syjoVODtquVsgMfs+me5Tz8UTMRUxcwb1zYL9tZs/gk2SdLKGs7x4a0c8PLywt392EExSUQEx72yxop8vDAw80VF5ENQ4uERpmcnmG1UJxfTGVdOxZAMBoxnOYstJlMmMyW8/gLBbMJs9nc86z6tc9sGIwGjKYeO8cqWLEIQh/7TJP/LR9t/Yodh09w7OBedh/IobiqniZpOyqdEctlEcsD9kFMnH0VU8Yl4iGyoS7YxttvfsC2nJZedr8Rae5u9hzMoVIpgNCORNyCTKbvsc8ch+E8zAkne8BcS/aBbPIKZD2BEXMndYe28vHXe8iTWMDWjU6rR68XMJt6+H4G1IVqCVrHYTj1dEBt9gGy8wqQ9XRAZ90htn78NXvyJFiw0a3Totfre+bfYsbC0HXBIWIys2ZMZHSP8tGw5w0ef2A1697cSV5DJxptF61lB/h40z0sf/gjmiOmsmDeOMJOK99g9WggWCR1SMSNNEkKOHrkKNnV2os4S2xoq3bxxadfkmWZwm133MaiDK/zneVWKY2NYiTt/kTFRJ1fEgrApqbk+/d46aXPkCTfzJpH7mVe4pm114xarcEs2OPqfk4JNkM1J08cp1LpSUxMDH4OAFbkFfmcKmvB5BlIYB8HoxVpYyNiSTv+UTFERYX8zvhUemAfHExwaBBuXQoUHe3oBvHaDrqNVcKR7f9iy+ZX+fCDr/jxSCESCxgbCyksKKRSCS5u7ri59X5WFmQ5+zgptxEwagajfK+crWWo3MW/N61h5T2rWXnnWp7/5DDNg7UlRC54eHjh5eHUQ2B9DkmhUZLL8exjnGoaRlh0LFFRQb+ac86qVNIhlaPyCiQ0LILgfhTTWHeIL15Ywx133c/ddz3Mhnd20zioE/wmxIe/5B8PL2fVg/dw31828t4eyeDsDZOYw1/+g4eXr+LBe+7jLxvfY49kkBN8GW0vXVYAewICAokI80SjVKBo01zAhrHSmvMTH778LC9/uJWvd+wjt94CphbKy06RW9KOzcUVVzf3PlVGLIpCsk7W0+k2hvkTAq546SVTUw2VheVo4ycyc86Mi5YhvZx5Ejm74+7tjecwsAkCtj6TZKK1MI/sQ8cROwYTHh1L3BXmwjojpyJ0NLMWzSNhsKdUAKuqi86WVjrc/QmOjGIwVC8XbyOgLN7NWw8t5qqrr2fpwgUsu+fvfF89SDLXXrBZLJiNxh4bTbBi7WOv2eOXlMHUBfMZ4SECs4LCHa/zlxV3s/Hjg1TIu9Bq2xHn7eCtx+/lnvXf0xa7lBWLExkmssfRaRjOzg6AFVlVIVl791KvB7CikxWza/unbP2xDCNgNOjRarQIVgtWs7GHu0UQEE77+rCYMRsMXHALJVixWkyYLGcDJ+dZlWYzJr2hxw8hCAiW04niZ6/AbDGhNxqxYcNiMWM0nmu/C1itFkwmy9nAyfkdYTbpeyptICAIlr7+UJue+pzdfPz2u/yYV0LO3h3sysqnvKaBljYlGr2Z89ynvzNcwjpkQV23n7c/2kuj4pxF0qbm6MdvsP1YFQq95exv9lHcsO5hFqSEnpOcK6DY/xJPv3mASsVp575LBndvepIbxkTi9Uvgz0TLgVe5e3oCQT7uuPonM3ftLlxv3cQTN2QQ7tlTPsw+dDGPPnkbE2LOcGbYUGW/yF0rHmb9P15ly/qV3PjUt1TLdQMki7kw6dolZAT7nt3oG4t4a8V85kwfz4jYeKY+novgNQzn3ingllK2PraGx/+xjcI2DWZbN+IDWZQqNeh/6dCGuvgYJ1tV6M4En8xSsg+cRNKl7WV0W6g7/BMnm5R0X4jh6zLmCuwJCQnEeVjfkhv2ASGEODsNufTlJUFQU/TzIcrb1fRUbLPQcHQ3uU3Ks3PTbzsVNTVNqLVGbFiRlhXT2KXqd1FyHT2VCVEB+DgChgo+WXsz1y5ZzMI540kfcwvv68Yza1QsYe4ihLYDvLFuDbfPWcDDH56kvlMAQUltTQsqrREbArK6WhQabd/NtKmeWrESTbcAgppmiRyd3tRHx6ytJZQ1dqI22kBopb6uE522t2EjoKytoUXV46AVZHXUKjRo+3ZEfa0YpaYbAQF1swS5Tt8rUAFYWykpa6RT3TPe1vo6OnXaXoabDbVcQZfBQHfTId598k6unjKa1IRowoN88XAZhtMwVzx9golOm8Q1D7zMzhIZ2iGxzNnhO+UBnrp/IaMjPXCwqSj84CGuX3gNd/zpKTY9+wR/umkOSzadRC3Y4eYsAkHBno3XMXPqfB75rJBmayZTJ0QR0PPgqPhkLTdfu4TFC+cwPn0Mt7yvY/ysUcSGuSMS2jjwxjrW3D6HBQ9/SGF9JzjGkjkiEl8vJ7CK+ea5dTz1xGOsXbGM1R8UIte4MmH6BKICfOhRjU9Ye/O1LFm8kDnj0xlzy/voxs9iVGwY7iKBtgNvsG7N7cxZ8DAfnqynSwDMNfznxS18c7wWZS+vulVxlAM5jXR6zOOe/5lOQtjpDGP7YOavWcfK2emEuNqBrZvGwx/wxM1TSA7xwN0rkNix17D2QzFJq//GuhvHE+N91uJwjM1kRKQvPSJ9w3PrnuKJx9ayYtlqPiiUo8EJEWZqjx6ltLmdbqsNbelhjlTK6LhYIORisDZRUdVEuz6EsYmd7Hrndd79Jo9mjeX8cJ62lp+3PMSaV4/hsvRJnr13PiNDnH+9kwf/h7DzSyElLgDvjjqq2jvpGnCPYodfSgpxAd501FXR3tl1wc2UVamkq1uPySmMaTMnEBvuR3fxF3x00puZ82cxMdFCs7gdtep0aQZjMwdefZ6d1lHMmj6WZP8raXQL6GQy2jXdGAFT4yEO5NTTPFgWX+cRTJ2cTERgO+UlEhTthtN6o0e8awvPvvYdObUaHONTSQ3y//X4VBDQ1IlpVnYTmpJKkN+5/B091/Qna13bIGQVtMhlbahUemw2CwqplC6VZlAbZkErR9amQqW3YbMokEq7UGkG1RKtXEabSoXeZsOikCLtUjGopgh0t7XRodZisIGp6RhZOVWDkxXAzofExFhC/dU01MlpV1xoB2lF1aVCpzPiFDyBKeMSiQ3UU/7dF+Q4jGTq7JmMEMmQtCnpPKPO0qO8988f6Iwex/SpGQT1MkYMLklMmZzB8GgX6mvqaVXoSbl2OdddNY7YXyKJAsrWVto6Nbj5B+Dh7ta/oSt009bWgVprwIaJpmNZ5FTVMdgpGDZ8PONS4wjvqqKiUYrsjJFnkLD/nX/w+lcHKVc5Ep2UTGhwwC+Owysqw/lCoW1spFmhxj8xmdDgwIEdloKWxsZmFGp/EpNDCT43dVBQU1VaSUNrB2ZA0FSx47Nt7D9Vg2YoGySHUOLjY4gMc0MkyDjyySs8+5c1rF29nAde2s6JJnALGMf1q+7kpnlp+DiAzSincMer/GnxWGL9vPD0DSPtqhVsPgTT7v4zq6+fSFhvJ4C1mUNffMDn32bR0CtzSugqIb+wlHrTKJZeM5+pIwN/mU+H0HjiYyIJcxMhyI7wySvP8pc1a1m9/AFe2n6CJlywR0DT3EyrXIHWBjZlC82yNhR9vqsWWltakSqUWLCha2+jrbOzb4KStZ36+kaapRpsCLS3tqBob+9Dkqrr7KJLrUXXVsj3r/+Fm2ZPICM5jsjQALzdXRg2zAV3rwDCE0cz53+e5IMDFSgGjur3gh0e6dey8q7bWTwmiGE2HbU/vcxDNy3huhVreXrjeh5ZeS3XPfIZx5pF+HmJwNZF3kePcctV07jj+e8p6IpnRHoy8ZHOgAnJntd5ZPki5s6bz7SxE1iy/ij2caOZmBGAna2L/O2v8fSdC1iyejPbs5sHoQvOZIxMJzk+EmfAJNnD648sZ9HcecyfNpYJS9Zz1D6O0RMzCLCz0ZW/ndeevpMFS1az+avsHofuUHXBzpdx16/izpvmkdajfMgLd/DqnxYzNtYPL09fwtKuYkWP8vHn1dczsZfyDU6PBoIVWX0DYkkb7olRiBqO8OmWN9lZ2t7XzoeeMl15X/L8k3/jk+oYbn30Ue6+OrnfhApB2YhELKbVNYKYqCgi+3EQmuuPsHvnjxxQJjBlxlSmJLti1rbTUHyIr7Y8yrp3czHHzmLBxPA+ctgsRgwGPY2Hv+Cldffxp03v8J9D5diNu5s3dh3m6423MqZ3iRdBSaNEjLjVlYiYKKL6G8zvACLPKKJiYgi3yGhqaaVlEJW0Bt3GqkWjUaPudsAvfRSjM9OJNIk5+ONx5O5JzL1uGh6dUmRy2em9tZn2wm188E0JpsgZLJkedQXLrNowdCrpUHbRbQOzvIhTJ/MplgzW++5ETFo6GemJGCX1iBsaOF3RHJPsJF+/8zrvbTuBwi6U6D58KlcaNgwKOVKJDIfQSGLiY/rxg9gwqrpQKjrQ2sDSXkFxXi554kHIajPQpVQgV2iw2ayolB0o2gYXaLUZulAq5Cg0NmxWFcoOBW3tg5vfS297GbICIMI9LIzo+GjsFK00SSQXIAMX0Om0qLp02HsnMWLUOEbFWWg6vo9jtSbC59/OXF81CmkrrfqeFmZlOT99tp1smS8zbpxH3HmBABvGLim1pcWUN7TTLZzty6RV0FB2itxTZTQqdBew0Y1IqisoEIsYPnUOc8Ze7HTIZc6TYwRJw0cxOtVKq6SOmlr1ad+pCUXRDj5843U+PixDFBROVGzceXwqNmMX0tpSissbaO/u9Z0zaVE0lHEq9xRljQp0/Qp6Vs7oSQtYNHmg03TnyN3RgayhBQLDiE9KHMSaMkAbmwF5i5jS0gYMgM0go/DwTr7clkXbkJzxNowKBdJaMVIBbHoVyrYWWntll9q5xzNx0Z08sHIqIU6AWUXDiS959o5ZpAT74ukZSOzYJfx5axX+c1fz1NplJLkCOBISGceo0am4i8DSXsSOV+9n4Yw5XD13KpOuWsFrBQ6MWTqbSHsbOvEJtr94D4uXrWTN5m1UmHvmQNogoUMAm6YNaUMNNR0XCDl2KmlvkNBqBptRTZdChkzV+1oBTZsccVUdSgFsmk46WptpMvaeDj3K9lYaJEoEbGiVHbRKJH2Tba2dKNsbkPR0hLpLgUym6uPjFzRtyMVV1PV0RGdHK829O7IZ0ek66VBqUTXk8PVzK1k0bTSpiTGEB/nh6TqMYc6uuPsGE506maWrX+DL45Je7+d/P+w3bNiwYbAXW8Wf8cDi67nridfZWSpHd26aFmCSF7Pn83d5/d0jWEZNIT3cB1d7EXbew0lzq+LQiWrk6t4OZwPNx7/lixyBMVMziPBxZZh/GlddlYG3RkxlrQy10Xr6ehtWC7jHTufuF97jxVVTiPbpTeJph0fCNGamu9JRU0adTINJsKJpLiF73z5OKuNY/uxt+JcWU9em+iW72CHmKu5cMoZQn7P13h1CRpIZ1El5USUtnXosNrCZ1LRJVbiNXs5z77zIVeajZJXIsHhEk5wxlolTZzB9fCpxccmkJwrs+vM1rNi8kzKFoY8DUugqY/fXxzGNmM5I3zw2L72JRz/PpVXbd9WztOXz3db3+ThLT+qkdCJ8XHE4x2B28Lv0ufKODaK78ARFje3ozDZEbnEse+JZ7pmRRICL/a/mDLVU/YdnH3+apx9fxwvbTtGiPhsxFTqK+PGrr/l2xy72SzwYnRqJt9tp8nBBRvaHm3lq7Vpe2HaKxq6eT7RZmse+vUc5dqKANtcEYkJ8cT9dZ0rkGsuIOHtaK8uok6owGNTIm6QY/Cdz93OvsHHVYsa41XIkt4rmDjVKuQa/OQ/xyFIPKr55j5c3rOe1HwqRqHoyCw2NuRzMziGnTINvYiDth/7FS0+s56095aefnxVZURbH8/JpIILEMB25H73Ik+te4buiJtQWG9h01OceJa+4BfuoIDqOfMp7Wzaw/rUfKJSoegI2hkZyD2aTk1OGxjeRwPZD/OulJ1j/1h7KW3uCJFZZEVnH88hvgIjEMHS5H/Hik+t45bsimtQ90WZdfS5H84ppsY8hKSoQLxdHfBJSiRB1IK4WI1MZzjMqbIIFk0GHStFM1ck9fLe3Bb+RmSSG+w6+JKrImdBRs5iW5El3q5hGuZIOmZjSk1kczCpE7jePR/5+DwmKU5S1DSNh1q386ennefG5R7hhXATezm7EjojDvrWSsjopKoMBtbwJqcGfyXc/xysbV7F4jBu1R3Kpau5ArZSj8ZvDQ4+uYGpqMM72joTE+KIsKaC8QYGqo5HSomq642/jqaeWMz0xEJ+4EcTZt1JZVodUZcCgltMkNeA/+W6ee2UjqxaPwa32CLlVzXSolcg1fsx56FFWTE8lsDOXn3IUWLrrOfLtdnYdyaWkophjuz/hpQ1vcdx+Cmte3MQdU+Lx63WiQOQWzYRZE4lx1tBUL0GhMZytAe3gy/D59/C3N1/n8RvGEuF1Dk+HQwgxvkpKCsppUKjoaCylqLqb+Nue4qnl00kMcMYOES6WBrIOF1In1+IYv4CVKxcyNtrnksr5CZ3H+M/W4wgzHuZvLzzFDcG1bH95Ay98+CMnq5poaW6guvgE+7a9x+YnNvB+vgtX/fkF/nbffNKCXX+/xG12HjhIczicW4w2YhoTU+MIGuBEjp2HA9Kcw+QWa4mYNpHUuCD6a+IQ4I+DvI42USjRIfbIcz7lzS8lJN2wipX33so4t1ayv/meo+U11Bbv4aNXPyTPcz733L2MSXE+AwTEbWgrD/D9wQKUQdNZNGMkMf7DLrLWi3AJ9MTYVE1ds4mQcA88kq5icnoc4QOnwANOhKQkE2CRcmLHDnKqxNQVH+Lrd9/hhxZXhmmkKBRKAqev4JZ544n1c7rAWIY67nNhIP+HD9h+VEf6jbewcGIcfufVSu9f1rHDY4nxG8A1LXLG30tA3ihG0h3C/BX3cuPcTEIGUYpL5OyPlyCnUSyhO2Q+K+69kbmZIYMoHSbC2d8LQd6IWNJNyPwV3HvjXDJDBlM6TISzvzsmaQNiiQ7fEA98kqcxLi15YFkBsMPDXk7BiTzy2wMYN24EyWH9cVI54OfngLKpHYtvKCEuKgr/8x5fVAUz97ZVPHjHJHw6T7Hz+0MUVtRSdugz3vrwGKIJt7Lq5qtI8e+95RLhHhZPbHgQPo4SsrZ/yU+59oy7/VYWTUvil2ELKk7u+JTvDsiJmH8Di2ekEdJfCTeRM/7uJqQNYiQ6X0I8fEieNo605BgGNQVOQSQlBGHfmc+uH49RWl1Lafa3vP/ut9TZROi6ulC0eTHh5htZOD2ZwGGiKy/DeTBQvPtzvj3YRszVN7JoxnCCBlr4DcXs/vxbDrbFcPWNi5gxPKjvt0LkhLO+gaLCMqpbND3lliw+pMycQmZa5BDKbtjjF+KFSd5IRVkdcqWMuopqFB6TWf6n+7h5ZjwediJcglMZOzaVMMdOGhtaaNec3S/Ye0Qx4bqH2bzlWe5fktlnToSOck7k19Esb6Uqezc7fjrIqbISTh76lndfepOd9X5c/df1rLlpKjG9U17t/QjxMiFvrKCsTo5SVkdFtQKPycv5071XE9a0mw9eXs8zr37O//83GAAAIABJREFUnvyWngQpk5zKUzlkHymkzc4fb7OYfR9u5MmXv+RwWY8DXFDWUXQql2OVWtyDgnFoPchHf1/H5o/2UCjtOaloaK2g8FQeVTovwiKiCPFywiM8mjAPG13iWhraNOedhrEJVszGbjRKKfXFWezeX4HBN5bU1Ci8BhuUFjnhnzCa8SOicNW20NAsQ9HWQm3RCY4cOYnYlsINa+7jqhAN9TXteI5cwqpHnmXz5qe4a+FIwj1dCImLwMPSQX1lLTKNAZ1ShlztROKih9i46S/cOTcMVVUZJaUNdKiUaF3SWbpiJdfPScHDwWFAXfAPiyPCw0JHfSW1Mg0GnRKZXI1T4iIe2riJv9w5lzBVFWUlpTR0qFBqXUhfuoKVN84h2Vx9SbogcgkmdexYUsMc6WxsoKVdczaYYe9B1ITreHjzFp69fwmZIefwg11Mj+67mZnx/ZXVOweCmqI935Al8WP2Qy/z0oNjERV9zvPPbuGTfUWIm1uR1JWTn7WTT1/7G8++toOmsGt57O+Pc+fsxAucSrOhq8xix/c7KXYew+KlS5gYfc5pEyzUH/2Br7/+jjK1DUNbDUd/2Mb2HfvIqWzHIXo6t9x7D7fNSz+9jvVSJUcvXIwyxBXHOZqbT87BH/nPJx/yyfe5KFyjSB4ejU+vb61NV0nWju/ZWezMmMVLWTIxun9ewf92iFyxV9ZRWnCMOsdERo4aS/xAHB2DbWPvjZejnk6VBpFnCAEiMbu2fk6uKZGr71nHvTMioOEgO3dnkV9TQ+73H/DRbikhc1Zw1/XjCR0gG92mb6LgyGGyygUSp81g+uiLPSMRw7xdETRtSGoVOPl4ETJ8DCkpo0kLGVwAxNEviugQL6w1B9l1KIeimhryf/6Uf3+Vh1xrBksbjfbDmbd0KUvGRnChT6FN30TZiWwO5HcTOXEGsyfGD6r8ZQ/MNJw6wPffH8c6fCE33DyN2PMMdBFOni5g7KKpqgU8vAhPGUF88gRGDRTsETnh6WaHSdVKdYsDIxbezp23zSfBe+BFW+TkiZudCVVrNS0OI1h4+53cNj+BQTS9jLaXIeuZO7jYo2qupvBIOdbIdMZOHs75B6Ts8fBwxKrT0GlyISjMGem+z/n8cBtBV93H0w9eRZyLnOydO9mfW0N9wU988tEPVLpOYvn9/8P0iHPZrgWUJbv47P132bptNzu++pTdYmdio0SUbn+Dl9/cTk59E2X7v+DN1z4ltzuY1Iy4nsTbMzDUcWL3DxxrDWPO8hXMinK56B7p8ubJAe+wcML8HWjM2sP+o3nU1Jew/8sP+DyrDqXVGZG8FkvMdBZdewOTY86WSBaUJez67H3e3bqN3Tu+4tPdYpxjoxCVbueNl99ke049TWX7+eLN1/g0t5vg1AziegvaS84Zd6xkQexQyi9baCnL5of/7KMrci43r5hNwoAL+QBtRPY4WLqQ1xeQU9aG0QY2wY3ghAwmzc0keMCNjUBnXS7fv/Uk6/72Bh/9WEynFRDUSGsLydqbTVW7CeegJGL8HHHyDmd45jhGBJtprRfT0mn4JYhg5xJA0vTlPPGPF1l/71ziPc6MU4SjTzBBwb6IWkooqleiN2hRtrVj8B7NTY/8jb89dgupTkoaTmVTJteg0dnwG3k1Ny9Jp2vbev70+Ets3VPVk5QkaGmpPsWhXfs4WdeB2TWM4ZFe2JnlVBz5nM2P/Y03tx+lSW8Dmxa5uITjBwuQmV0I9Bch/vGfPLZ+C58drO2pwGTupLmmgOxTUixOdlib9vHG0xvZ8t5n7KvqqWZi6WqmKv8w+3IbUNu54mKr44fnH+Nvb27naJMeGza0cjElxw9SIDPjEuiPSPwj/3xsPVs+O0htT0d0NtdQkH0KqdWTsKQ4Apxd8A0MIdQXWqqqkHQYzjudZhMsmA06VIomqvIOcTCnFp3/SCalBfzvJPP/yhDZfhOsjBeCgK65kOxjBVQ1KtDhTsjwCcyalkaoh3NPPd4Lwayk+vgRjhfXITcOIzhlMjMnpxDqeIh1s+7jX7kNnAn2Oc96jsP/vo8xMedHo83tlWQfOkphXTsWlyCSJsxk6ohwvJxFtBYco9UtnqToQDycfr0gxOBwiXOlb6Xg8GHyWyBy7AwmJgXhPuz35woV9O2IK0upbtHjHj2CEfHBeDqfeWYm5BV5FNV14Rw9kpHxQXg6/46r/wlKCj55jn/mBrPg6pEEOeiQt8pQKDtRafQYjEZMRj2aLjmS8lOcLJES+j//4v0nrmFUxMWMiwv1p0deW0ZFTROdVleCEjJIjwnAw9lIU1UL9gGh+Hu79U90LOhpF1dSWt2C3j2aESPiCfY8q88meQV5RXV0OUczcmQ8QZ7OfR2Kehnl+UXUdYB/0kjSowPO0W8BfbuYytJqWvTuRI8YQXywJ85nO6Air4i6LmeiR44kPsgTZ3vAoEZldcHV2RFHq5pWcRWVNU2oHfyJTk4lKcwHlwEYuaxaKTXlldS1anD0jyIhKZ4wX1ecLrqwgV5WTn5RHR34kzQynegAd/q+sla6anPJrdYTkDaK5DBvXC5Rna2NP/PJURFpE8aQEeeLI2DuqOL4gb3sPXySysY2tLjgG5rA6JmLWDRrFLEBbucFf3+PMFd+xEOrn+ew3ype2biKOakXq7kLYKbyo4dY/fxh/Fa9wsZVc0i9YAkGM10NpRSU1NIuCiV9TDqxQZ6nT2AK6GTVlJZU0ap3Jyp9JEnhvrgNivjeivTbJ1n59AfUpj/NO8/cwczkAThyekG37wW2NI5l7uwpjI8aSq6jFa20mrLSKlrNPsSkpBMn7GXD6o18eNDEvJfe5Zk7ZpJ8QQ/t5Y0b/Ulev28Nr1ek8thL67h5atyAjpwzsk6eOplZg2Zu/O9E95HXebsmhsypcwYvq6WWr574M8/tsHHNpo08eO1oAi60zlhUNFUUU1wtQwgYTmZ6PKE+p0l4hW7a6isorZCgdQ4jZcRwogI9uJg6C+17eOHBp3mrJI61Lz3F3fNTfsnQFjoPsWXNk7x+1I+7Xt7A/UtH9U823XcGOPL629TEZDJ1zqzBE3UCCDrktRWUVTajd48gKT0eh2Ov8MjGN/mhcwob/vkMqxePPI9E9crLABgKeP+vj/LKsSBWbXqCu+anDOhUMhS8z18ffYVjQavY9MRdzE/pz/krYOhspVmuQnb4PV74QcOEu/7E6qWZ/ThJBoBRSUNlGZUSDc7hyaQmRBLg3p+HR0Df0URddTXidgtugdEkJEYR7O3av26YdOjM9tg5OeMi0tHeIqa6WozC5EJQbDLJ0cF4u1zYk2RUNlBZVolE40x4cioJkQH0O6xfG4KGmj0f8O+fFQSOnMjYKBGKZiltHUq61Dq6DUZMJgM6VTsttSUUFotxnPwwm9b/mRtGew89kUEw0tlSR1VlHTKdHd6RyaQkRBLoYaWtSY7R3g2/IH9c+3u3BSMqqZjKqgY6bH7EpyQRHez5C3eeubORirJKmg0+xKcmExPi2XfjPKAuCBhVUsSVVTR02PCLTyEpOhjPsx3QWFFGZbMBn/hUkmNC8HTksnUBQNB30FRXTbW4HYtbINEJiUQFe+M6wHf2svTI2sqxncdROIQxevYEwocBVjXNpTkc2L2X7KIamrtMOLgHEp0+gavmz2VqRt+gxfk4w6fyNg2j1vLM+odYcC6fik1D7tZNbNj0HrKJ63hm/SMsTRyC8tsMKGpOkbVnDweO55J7soAKsQJR2s08/sx61l6TxJkl9QyfytsNo1j7zHoeWnA5fCq/bVib9vDGpk28U5nC6vVP88Ds8AETHobSxqqVU19RTFmjDvfoNEakxBJ4mhTMZuikubac0rp28IsjLTWBcJ/BJaL0ENVv5O/bzCx6cgNP3zN9AF6fszAUfMVX+QacM2/kplEuAzfo3a9eSVNtOWXiLhz8Y0lN9qDmPy+yadM7VCbcw9PPPM09M4IuuMadIap/6t8Kpvx5A5vXziNksHsfUz17/vU8z75dS9q9G/j7A9MG/OYay3by/YkmtKl3sHLClaUP/63h0mS1Is3ayosbXyQ78Hae2vwYi6Mu8LZbdSgaqygpqUflHMbwESNIDDl9QtdmRCWtp6KkBpnFi+iUVJKj/PvlCrV1V/Hz9v2Uq2NYtmAYP7/8DC/s7SIweSqzZ8zl1pWLSfG2x1y3h3c3b+CtunTu37CZ+6ef3b8ZKnfy9tvbKQ24hqceW0rMELy9l64TAoauVuorSqltt+ETlcpwv1Z+fmsTT7yYR+gtj/DM5rXMD7U/IyhVP29nf7mamGULGPbzyzzzwl66ApOZOnsGc29dyeIUb+zNdex5dzMb3qoj/f4NbL5/+i82W2851z22lISheLXNTRz9cgtPbz5B6PJn+eejcwgYaI0YVBsb5u5OFDIpkqIsfvjmJ6qj72TLhmuJ/NXccgImTTtNteVUN2sReYYRlxRHZKAnF3aH2jB3K5HWVVIl0TAsNIGU4TH4n1FKqxaFpJrSCjmi4ETSUuPw/31vIwGw6aUU7vqSLw80EzBrGZM8OmhqlaHo6ESl1aE3mDAZ9Wg75TRWlVJU3kXIvNU8++rjLAj67/c9/8ZtGTvcwkcx98ZRzB1qU0dfEqddQ+K0c/6uH+Jt/JOZcX0yM/r5LSxzKmFDHdevhkucK5dQMuffQuavNazfCOxc/InLnEFcv4I6ETR8EnOH/2+P6v8A5ib2vPAwT/7owYrnVzN/ctwAGSsaCl5bzV+L29DodNi4hKCKnQtBiWMIShxzzg+uRCQlDNjWPy6TGf0/OJyChjPpYg/OJZiUycGkXLgDXPzjyJwR1/874BTE8ElzOa8HZ8+zxMz2noQmjSU0aeyFx9EP7N1DSB4XQvKQWoFLcAqTgy8sEdjjHT+RufFDvHF/d4qax4qovn9z9Eti2g1JTLvh8u//3wzHhNnMGf81x346QVHTAsYO9x3AwehIwuw5jP/6GD+dKKJpwViG+14oEOOId3QmM6P700o73IKTGR88VM25XFiRthlwdHbAeVBBZyPKxnraBF9Cgv3xChnO+JAzb5KVhi9zKJZI6Y5bwtQRkYT9inwquoKjnKhWETp1Fqkx4f2eEOqLs7K6uP3GzaTLhpW2diN2jvZDk9UhlmkzxvPN4W2cKq6nYdpIAgIvoBcOXkSkTyUivZ/f7FwJjB/NrPjRg+7aUFNFnVSBY+xCooICez1PAWVeDgXVEoZlLmJEbAxenfnsPqUnIjaF1Hif/m9obaPdaIejvQuDmgJjJ00NbZg9AggK8u37fbM28V1+MXUSDdFXTWREbHS/pzmuuAxAd2kuJyva8Bl3AxlJMX1qkF+gBaW5J6lo82HcDRkkxfR32gjADmefcOK9PFDsM+GXmEZ6TBQDJV73i2G+RGdMJTpjoAvtcPGLIm1iFGmDua+TG26/xHnd8I9Kwz9qUC1PDyuajKnRDDisXxOWNk5+9iJ/31pH/K0Pc9Mt0wi/aOy6m5rt/2Dzz3qUHUoELiGoYjcMn4gUJkSca1M4EhgR1W+T3m29wpIZH9b/t8jRJ4oRU6IYcaH2A+qCHcO8wkgeH9a/neToQ9SIKUSd28Fl6gKAnYsfUWkTGWKzy9Mj+1AmLb3unL95Ep4xh+UZc1h+Kfe0SmmUiJG0+xEVE0VkqANgQ1tzjFMtAu4JkxgdKkIkssPOzg0PDw88Bl44eu7RVMCRw0WoAzKZNn0yyx6czLIHwdKez1dbnmXzdwrkCgVaIem0c8qKtFGCWNKOX1QMUZGhOAA2bQ3HTrUguCcwaXTY74bQ1j5sFGPGjSEqL5/SsnJaZ4YTMYBwQ2lj7x5Ewtg5JPSz9RA5+xCRNpmIIerv5UFA2WXCJIC/5+A8tGaNnGa5BpFHIOFBvkSlTyHqtJ0gyA+xo6SEyvYQUq8fSXrqlefOOANjYzUV+eXoosYxbmLmeUkQ50OgS21Cb7Lh4fX7LGF3Fpcqqz1BqSMYNzGJw3vLKCpsYkFUTP+OR3s3AmJHMSt21Pm/iYbhFTqcCaEDOWlsdNdXIVXqcByeSaA+F3VnJ61SM8mLxnHNnUtIOW20iERgZ2dDq1HT2aVC4OxezCliDNc9lMgilwiihpQ+P9R5MqNtlyJXmnEJjCTUO5yUieGn/RUCihNHKDlVgiwgkdmZoxjZ66iGrbueKqkSneNwMgP15Ko76WyVYk5exLhr7mRJymlboEdQbFoN6s4uVAK/7FN7yxk3xGMCphYxNScLaQ9KZdn08YNK+hlcGxGOrr6ExrigbziOyNmXtDFjCPtVPwp2OHkEEpcZeAEf4YXG6Udk+mQi+9vX2LsTEDOKmTFXcJi/cVhVdRz57BVe2i4l7e7neGBZEhcNqxul5Gx7j49+ltHSaoXfQVDlv1+CP/AH/sAgoaf4/ad4+l8HYPxSJsWHD6JchBthoUGERYTgOmwo5Xb+wB/4ncM+nDnXLWSUp5jDR6oQywYmbrYPn8N1C0fhKT7MkSoxg2jy24G1lYJKKz7+Lvj4DGTh6ij66C/cOHsCI0bdxPO7CmntQxyQz87dOdQ0OzHthmuYmByNx6+1uAhtHN2bRa3daJYtyGR42CDWsV6yBvr/Xlw8F4Ago6TWhLP7UGW1I2Ta1cwbF4gi5yilVc0YB250BWCmvrqW5jYTkYnxBAX2OmEsKDiZm091ixdjp2SQEOuBNGs3x0obkFouvGsUZCXUmpxxdwlkwCnoLuerZ1awcGI6mddv4D/ZjX1qhXeX7GX/8VLq7Maz+OrJZCT15+i+8jIgtJNz6BiVxmQWzBvHyOiBEyCE9hwOHavEmLyAeeNGEn3REmMWZEe38slxEUmTpjNuwJN5f2BoMFL303u88vonVPuOZsLY0YQN6Jdxxt8/gMiokCHw7vyB/58gqFtokTQhcw4nOiKCSEfA2EDW3iyy81uwc7cDkSth4RFEhLph6O6mW99PkXOTnPzvPuXjr/ZQqrGBpY6DX/yTpx98nDe/OUp5r5rwDr4xxMTFkZYWRWR4+NmgsqCmpUVCk8yZ8OgIInoGQ0PWXrKy82mxu1BQ978Udv6MmjqT6SkiqnNOklc9iKzOS2nzW4HQQa1Eg1FwJXwQrNWG+j28uXYZE9MyWfrw6/xQ0duCMFCbc5yjx4vQp05j1qxpjB4wFf4SYVNTVZJPTp0TI2fMY97IwZTq66SxpQuV3pXoyN954s1lyGrnm8a4abMZ4y7h5PFjlA+dc3wIsGF2CiVxxBimjPRF3tpCnVhB2MS5XHPjNYz6JVImoO3oQCZVYOfhhY9v3yo1dm7BRMYlkhDqMrT1aEjzZESStZWnbpxIauYi7tv8FcWG3j83UJiXxeGTahLHT2POnEkE9xqMzexEaOIIxkwZia+8lZY6MYqwicy95kauGXVWHkHbQYdMisLOAy8f3z7BwkuW06ZFXF3E0RITSdMWs3TsIKoGDKmNFVXtUX7enU1r4NXcMjfidxNo/93CLKdg90e8+MIOlMHjmDs/4eIBFQAnTzz8ookO8cXnkjK0fnv4fUgxJFixWm0MwFT/B/7A7w/6HL77IZ+GVi2qri5M5oGZEwXlST77uZPEEQmEBLr/EVT5A3+gFzxG38LyRYmoTu4lr0aCZsDvigejb1nOokQVJ/fmUSPR/C9/iqyo1BoMRjPdahV6k/G8mqcXgrH6AAWiCKICwggeyNlnKmLfzyepbFRjEdkhEol6rR0Gyrdt5ZtjlQhT7mP1tRNJDRooTerSx22q/JHvjrQTveAGZmTEDYoDores4b/zI9vGuqMUm30JCoweuqzuGVx782LShQqO5JRSo/pfYBy0tlJdLUGmDiYxKYSg3jXHhC6UnVoMHvEkRQcT0H2M7/OshMQmkhrnfoEbGqk7WozZN4jA6HAGmgJz2REO5JRQ3WlBZCdCZNfrq2isZseX33GooJuxy+/iulmj+z9pcMVlAHPtXnZlNeM3ZSmzxqXiO+Au1Ezt3l1kNfsxZeksxqX6XnjjKnRR/t3zPPlaHr5zb+OWBZkE/x4KIP+WYKwg+8gJTpW2o9FqMOi7B/w2CJpK9mVLENzDSUn+9bK4/8B/MQQBQbDh5OWFt5cnLkInJTu/5bjMkbgZc8nwEgF2BI+ezLSp6dg3lFJW3kMUfPoG6OXFfLtlAy9/X4I+OIk49x5+KJGdO7GzbuTWWxczMfSM9lnpLN/P/tw2vEfMZ+6kqF6Z6QKCIGBz8sLL2wtPF4HOkp18e1yGY9wM5mZ4/e72GC6JM1i4aBrBnac4eryA9kF8Ii+lzW8B5uZCqlVmHIJSSRzQo2ahviCX4yfykZtAJBLR+1NqkmSxa+ePHGiJZ9FNN3Hd7ATOZc+4UrC0FnLy6Enag6axaOl0BhEPwiwrp669C3NwJqluv9LAfiO4PFmdiZk4i0XzEjCXHOZQTtugbfehww7vxDFMnjmTTH8lLa211LZ6EZ8ykpHpvZJbbHokTWIq6w2ERMYSHzeIINogMKR5skgoK8gm68T/Y+++w6I43jiAf/f6HQdHOXrvIAiIBYmK3ahRYzT2nphoTKLpmvrTFBNjuhpNNEaN0Wg09h5bjCU2bAhIkd47B8eVvff3B6igIKCo0czneXieBG93Z3Znd495Z+bNgg7VMwVvNH8DMk8exM5NO5Dk0hNPjRyDgYF1byiBpR/adeqO7m3UKMrMQmJiFlQ+rRAW1rrWDGKCNi0dV+OSUeXoBi8f72bkGGoYnxeL80eO4KpZRwwe0QdNibM1eRtTJbKjN+H7+UtxjOuGaa8OgX/zVhFkHgBDZhwuHtmHw5kaaLUVKG+0M4SgzTyP85dikW8TiUj3RyNs9oiH12/FFxWguMoAY63rbdJXQUcmmPCfjDIx/xWcCGIRB44zIuG3DzBTXoqZ08egq68aipuSYBjKUnBm7zr8uGQ3dL1ewzudAuDySGaTZJi7ILBB1Lhx6P7P59i+7ThCPZ0Q4Xb7ZH8CmyiMG9cd/3y+HduOh8LTKQJuja9HdRcMiF7xDuav3o+LmaUoKdGgyigEnfgWzw9aCZVSBlnrMfjq7QnoHuJY/y70V7Htt/NQBTwFb28HND6xXQKp1BJekYMxctKreCYqqKYT1oCcv77HZ4t34Kr9GMx+/xn0CnFA/UvCt0C5DSnYtuoPxFh0xrTHw+GnbkJP8E11faRjKoY07Nt0AULHLvANcruDugpgFTkMI3qdxPxDO/FXG3949PC5nhvkntBlIDO7CDrHEIR5usCpdmMUeaFr3+7488J2HP91Hi79JodvrzEYFxWGhnLmGtL2YdMFIRy7+CLIrQlnQCKB1NID7Z54AuNmTEHftq7VeSKMeTi+/Gv8sOkSzAbPxKwpgxDhIqv/WdDCdYAxHXvXbUU0WmP445EIbUKCYGP6XqzbGg20Ho7HI0Mb3jcAVGUjV9Aez7w3EaGtXaB8NP7++XfhhBCKhBAKeGQcWI4v5CboX5uCwR28YH1TcnBjRQ7iTmzHL8u2INm+N559oTfCmp3chvkvEFiHo+eAQYhOXIc9y2bjymYhTFZhGDBuHAaF35htJrAMw1NT34KJ+w4rv3oJ0bvD4a82oSg1ESmFInhEDcMrcx5HW7ea2SQiL3QdPAw5Jauw89tZiN7qDSdzE4pTryCpUI6QgRPx6tPd4K/iahcG4T0HYFB0ItbtWYbZVzZDaLJC2IBxGDcovPn5mR4GnAVa934Cfc/G4fc/d+HP8CCMCGskeHQn2zxoxhycOHAeBQY7dIkMaHyUMgCRWAILl2B0azcM06aORG//6vcvX3wRW35eipV/lqHj5Lfx6jN94XuvviPz+Yj+ax/+jBMgdOST6O3ThNCNMR/njl5AaoEM7QcF45HOptICdeWUAejc+wlEX1iOg1u2oWPYJHRofH21u0KabGSlJCOdc0JXbx/41GqQVJGMxPjziCl1RnirYATbt8AXmmafJxFEYgs4BjyGUYOnYurYgQiSAQCP0ri9WPvTj9iS1Rpj3ngTLw5pBbOGThdpkJ2VguR0Dk5dveFTt6JITozH+ZhSOIe3QnCw/d3P+OCLcPnkAew4pYH/4BEYGNCEO7052xhLUWZUIXjwu3iudyia8icb8+BxAgGEQiGEpiJc2v8LPp8lA96YhD6hjlDclPNXV5KBSwc3YMW6I8h3egKvzuoNp0fk3f/fCapoC5B4/gg2f78A+1LzUVHrnwznt2D5tg6wHN0DATZyNJJfmmEeTrJIjJkyGMeTc7D3cgYOL3kVf/30Pzh6esPT1QHWChF4nQZFOalIvpoDo0sPPPfu53h5YBicLMT/7i/0DPOACJ37YvqrsXj90+3YdsQPzk91gOtt/wAUwrnvdLwa+zo+3b4NR/yc8VQH1ybk+bhTYrSZOB9rJt7h5qZinFq+CEfNIjC8Yxt4N2WqhyQEfZ8Ix+mdBrjYWMNczqEqPwZ/rVuI+UuPwtDmJXw/czy6B9hC1mC977LcMCB1+w9YE2OHAc+PRM9Qp9scq8ad1PVhZSpF9JqfcIT3Re9OkQi60z9yBQ7oOflFJKZ+jkM7/0SghwO6ed/DWY2KjpjwyWoMESihsra66b4Rw6XXG1jSdgRSMssgsnGBk50K8gb+kjSVRmPNT0fA+/ZGp8igJqyjDohbdUfvdqehzXOGtbUKZkIdCuOP4Y8fvsKPB4rhPe4LzHymL0KdFA0P0mnBOgAGpO9dhXXREnQaOQoDIj1w21W8gOrcaqvWIVrSCSNHDUBkY0uFKQLRfdB/IencAyRphd6DB+HUucvI2JeI85vnY/K27zHT2R2eni6wNZdCYNSiJD8TqSmZKDcPxqCpM/H+hD5o7dBA8I5hOAW8er2Ir9s/jYyMPFTJ7eDiYg9VPSMZZC4RGPPRSgwuyEJaahZKeAVsXVzhbG9Vz/OHg7lPd0z+uAtGF+chKz0ThVUCmNu7wtVBDfN6M/xyUHj1wotft8fPk6s4AAAgAElEQVTTGRnIq5LDzsUF9irJI91+BTbt8dS4YUj7ZiP2bd6DVp7DEKK6fY3vZJsHhjSI370Bh1I5+DzxBCKbtDa+CF7tOiKifSq4KhVs1RYQ6UuRcm43Vi1cgi1xcnR9+zu8PDIKXi0xvL5eRhRE78fOP+Mhe2wsnns6FI2m9qMKJB/ehgMXi6DuOwXdnB7hEQYtVlcBrEL6YMTINOT+sh/rN4fCd0K7Jn3fulP6rExkJKagwi4Inl6etWaoE8oT4xFz+gLK3ToitE0bOFQk4fSlNGjE/ujW3qn5B7uT8yRyRUjbjugUW4YsCzvYW4phLMvApQNrsHjx7zhjbIsZX7+GiX38bj+7Xp+FzIxEpFTYIcjTC561PkzliYiPOY0L5W7oGNoGbRwqkHT6Eio1YrTu1rwcsNV4FMcexd6dJ6ENG4eZ49o1YeZ/M7eROMK/vSP876B0zIMjcglBx0EjMfxYPFacTsHxNe9i6MZ5UDt7wsfDEVZmYpC+HMU5GUhNzwdv1wHDZryNuWO7wqtJOdweDsLZs2fPftCFuPdMKNo3H698vAIHkrSQqdSws7O78WNJyDp7EKcrfNE52AVWj3xiWua/SQCVX1f06xYMe3El8rNzUFRahuKCbKRfTcSVK4lILwGs/bth9Bvz8M1nr+DpCA9YyoSP9B88DHN3BDBzb4NA0RmsW3cKWntv+LrbQnG779UCM7i3CYTozDqsO6WFvbcv3G0V/851Y0mLClkAukW1ga+zeRNHYghhHRSJNupiRG9bgcWLluDnjUeQIgrByDc/xDuT+yLESQnRPXuwmFByehnmfBcNx8FTMOGJtnBWNOGL2x3V9SFFWlTKvBEZGY5gD8u7qiuncEGwnxTxOzfjWJ4crv6+cDS7V61ZAKm5ChZKOSQNHEIkV0FtZwdrc9ltB8mQthIy70hEhgfDw7KJZ0BoBf92IbCvisfeX5Zg0eLl+P1gAnjfJzH9g3cx7cn2cFM1NgihpepgQun5Nfj8+6OQRo3HpKGd4dHYHyimUpxf8zm+PypF1PhJGNrZowkJ7Zl7TwAzlzB07hKBAFsOJbk5KCguRnFRPrJSk5BwJQEp+VWQOoVjwHPv4rNP38XzA8LgbC5i38+YRnAQyZSwtrOHnZUSMuFt59JColDB1skFrs72sDZvbKChAGK5OaztneHi7ARbSzNIG3mxcyIZlNZ2sLezgvI/8fcFB5m9D7xUxYjevx/niq3QKsSzkZyWd7JNy+AL4nHsz304eEkHj4hOiGzvi9un0dOhSuKEoLD2iGhli6YOLheYu6NVK3fIC09g3Q8L8f2ytdh9rhi2URPx1nuvY1yPANhIm946+IJ4nP7rAPacKYdjm0h06dQKNg2eL0LF1UNY+/MGnJN0xZTpI9Gm0VyBAKBHlcgW3sER6BLalFnbD7MWrCsnhdrDHTa6RBzZfQRpymC09bW6R9+xjcg8fwjbNu1GvkM3DBo6ACHXllg1leLSX1uw9rczUEQMwZhxXWEevx9/HrmAEqdItHW7k7Wm7uQ8CaB09kOglzUqozfgx4WLsPTXHTiVY472o17D+zOfQ7/Wtxt0VlPTzPM4tG0Tduc7oNugoRgQYlvzd6QJpZf+wpa1v+GMIgJDxoxDV/N47P/zCC6XOKFDW7dm1pGgTT+BzatW40BZe7ww6xl0sGnsfrmTbZiHEieDjWcoIrtFws+sAvk5ucgvLEFpUS7SryYiISEZmUVGqPyiMOylD/DZ3FmY0N0P1vUvU/HQ4oiIZRdhmP8ivhJ5aVeRnlMELaeApa0z3JzVUMpEbBk8hmkuUykurvsU8/cp0O/5CRgU4Y7GVswzlV7Euk/nY5+iH6ZOGIQO7o/44sz3iS7xD3zy2U5Qp/GYNOQxeN2Pnoj/PBPKYrfgm292Qt9hFCYM6wbfRod9MndDd3UnvvlqK4oDBmPiqJ4IsG6sO0uHqzu/wVdbixEweCJG9QxAo5swDwZfheLcTKRn5KCMF0Np5QAXZ3tYmUv/ncF3hmFujypw9dAq/Pj7Fai6jsfzw9o0vuTZnWxzB4yJe/HTkiVYujceZZoylGu0MJhqAmAWFlCa+aDn5Kl4YUp/+P+Lvk41WG6hFApzC5grPdFp1LN4+bWhCK71rjPknsYfK9bgcHEARr88AZ2dH+mFXv81qDIdx39fjrUnjQgfPwOTItQtfxBTHo6t/hJz/rcJ3JMz8dEnz6L9tT+t+Awc+nk+5nxxEi4T38cnU9xxfv1OnKv0xchpg+H7UDUDE/KOrcaXc/6HTdyTmPnRJ3j2RkWRcehnzJ/zBU66TMT7n0yB+/n12HmuEr4jp2FwMytqLLiI3WtXYUuiM0a+PhU93RpfJu9OtmEeDSZDBYpz05GaXggtpFDZOcHR0Q42in/Ry+MeYEEVhmEYhmkRBhSlZkGvsoKlyqLx5aYAwFCE1Cw9LK0sobJgXzpbgiE/FVmkgrWlCuaP2EiYfztjcTqyqxQwt7SGZaPrUDF3w1iYgRyjAkpLK1g2aUSvEYUZOTAqlLC0skQzBgEzDMMwd41HeW4+NCSEub1tE/OP3ck2zO3wZQUorNDDZOEAhwYTVjD3BK9BQWE59CYlnBzMW37/ulhsWzgXHy7NQeSrH+Kj5yJrLTllRMG5LVj85WLsyVTAzd0Wao9OGD55zEMYWNMhdttCzP1wKXIiX8WHHz2HyFpraxkLzmHL4i+xeE8mFG7usFV7oNPwyRjT2bnZ+RN5TTGKyzTQWzjDqYlTm+9kG4Z5mLGgCsMwDMMwDMMwDMMwDMMwDyETKosKUFrJQ2brCKt6IggGTT6yMnNRKbGFi6s9zB/SAfSmyiIUlFaCl9nCsf6KIj8rE7mVEti6uML+Ya0owzwEWFCFYRiGYRiGYRiGYRiGYRiGYRimCdh8LIZhGIZhGIZhGIZhGIZhGIZhmCZgQRWGYRiGYRiGYRiGYRiGYRiGYZgmYEEVhmEYhmEYhmEYhmEYhmEYhmGYJmBBFYZhGIZhGIZhGIZhGIZhGIZhmCZgQRWGYRiGYRiGYRiGYRiGYRiGYZgmYEEVhnmATMUXsfGTCegWMR7fHb2CQtODLhHDMAzDMAzDMAzDMAzDMAzTENGDLsCjyYCihBPYv2sv0lzGYGwvX9hbCB90oe6KKe8EVi5cjWNlXhg8ZRy6+aphJuLuaF/6wngc3bUVx/QdMX5wO7hYy3Fne3rIaWOwcuY0fPTbcaQKeqCXngc96DK1MJM2G5f+3oOdMQr0HtwTrd1tIPlPXuzGmFBwZh1+/PUw8hz6YOKYXghysoCYnSumRZigzY3DiT934aIwEo93aws/B+l/87l7CwNKEk9i3669+Ds6AblVIqhcQtD9ycHo1cYTasX9fnebUByzC2vX7UacqB2GDO+PSH9bSFv0YhlRln4Jxw/sRZywA3p0fwytnSUteQCGYRiGYRiGYRiGeaSxoEpLMWTh9I5t2PXnfhw4fBRnE3JRpuPQ8e3uGBTlDTsIH+IOLC0OL3gbHy/6G8nFwL5iNbbOHYpgZ7MmT3Xic85gy4aN2LpjF/Yfj0V2qQH2w5fgiT5hcLbGQ3xu7hSP7N3LsfpQDNLKeZCVEELu0TgLppJ4HN6+FVt37MK+w6eRmFsOPngavKIiEeRu86CL9++kPYalH36K73ZdRK5pJ3KUa/HJmEh4q9hkQuZOmVCaeAx7dmzFth17cfjUFWSVGOA/aTHC2oXB70EX799An4aDSz7GvC3F8O7yGPychTi7dic2rf0Fy35cg8nzv8Mrwx9D4P28D3XnsGHRV/jq5wNIMjggwajAhy8NQXu7uwzuGAsQd/QA9uzajT8P/41TManIK+fRatw3CGgXgWD8F9/DDMMwDMMwDMMwDHNnWI9dSyEeAnNPtOnSGX6WQgiIf9AlakEEnudBIAAE4nmguXMqTEKo3PzgbkYw8jwepbNzR6ou4vffDyE+o+TROxcmQGbvDT9HOYhMMLAlzZqAh4mnmrvKBJ4H6FGbtsTcdyZIoXb3gZNSCM6kf/SeNXfDVIazyz/G7AX/wGrQVLz06gzMmLMQ384cio5e5kBZDM5eSEdmnuH+lotMMJmo+v4nqn4utMSzgEzgFA7waxuBIFcryGF4sDMjTSU4v3EeXn7mVXy38zxy7vNpZhiGYRiGYRiGYZi7wWaqtBSJK8J7uiIcPeBT8Df+TshHSa7xQZeqhSjQ/eVPMAurcazUE4OnPgEv+4ZnqZgqy6ARKGAmEUFY8yGhUxh6DgpDZ2UCDkSnIV9Tet9K/+9jQs7eNdieJYOlpQXKjKXQGHnwJnoklv8SWPsjsrc/IlrziD0Vj8zcJFQ86EI1k0lbjgpOBrlEDNH9CD3LO2Pyu2+C9zyMHPs+mDQ4GG5slgpzVwSw8mmPHj5tESxIwaWEVKRf+i8/d+viU3di9R9HcLHYBVGe1rBSCgCBCuET38OHnD3WnxGg48gOCHWXNml/pqoKaEkEsUQKyd1MKpGF4+kXZkBn5YdYYTsMGd0VIXc7SwUAxHbwb28H//ad0EqYjvj4BKReKLv7/d4hPu0A1v+yFr/u0qN/WB/07hoCB7beIcMwDMMwDMMwDPOQYEGVFsfB3NwMQqEQwKMSVAGEjl3w/NwueL6xD5pysGfuJ4jpOQPjIr1hL6vbScJJpJAJuP/2FKmqS9i4/h9YdOwFJ2MJiopKUW4ywmhqoRHJ/xICmQwyofDhu9amPBz8+gucDx+LoV1aw93sfnT0CWEfOR4fRI6/D8di/lsEkEqlEAof5iUoW5oBSUeO4FxKJsqlflBKRDfyF4ld0XXyh+g6uRm7MxXi5KqlOKlqh26P90CI5d089QSwCX0S00OfvIt93A4HhUIOiUR8j/bfFCYUxcUiKSsb5bbt4eNiB7WctU6GYRiGYRiGYRjm4fHQ9Xf++3HgHpHcGM2nR+La9zFn9UmkFRseqQBBy+GRuXMFNucEoGef1vBylELAATAawZPpkZip8nDT4+ofn+LTX/5CfK6OXQ+GeRSZypGQkIaCYg1M4HB32UQMyPjzRyxcsRXHkysfivce98DDa1okJCQjK7cUSi9/+Nrbw5p9G2UYhmEYhmEYhmEeIuzPWKbFlJ9ehFmfbsX5LM0jNEenhZUdx+rVp2DZ6Ql08vWCWiqsDsKZ+OqZKg+6fP9xmnM/Yc78jTiRXAK2xD/DPKL4fBQUaaCtuvtdVcb9gYUL12DnmWzo7n53/w2GZMQnZCCnQACvAH84OtiiBRY4YxiGYRiGYRiGYZj7hi3/1RhjOTIT45GcXoAqkQqOPq3g42gOWQsmWjBVZiMhNhFZlWZw8feHu40CEmHzRpIaStKRmJiCzCIDZNbO8Pb3gK1SClGju+FRmpqJKjt7WMukEBuLcPVSHDKMtvAPcoeNQlK3s0NfiKvZPOwdrCGXiq6Pd62MX4NZr36DfVfyUEXqZpW9ugKlSL9yBclZZRDYeiM4wBkqmfg2UT8TNJlXUSS1g62lEnIRB5g0yL4Sh4RsLeROvghwt4VSVnfJG5O2EGlJiUjJrYKZWyAC3dRQSu9XbNGA+I0rsasiDBP7hcDLQYeTYgEEgup/0+sIJh64p71LhjJkXU1GeqEOEhtXeLvZwVwmur/jlnkNclMSkZRRBs7aA/4+jrCU3+5aA4ABZVlXkZxeCJ3EBq7ebrAzlzWhfQO8JgfJcYnIqpLB3tsfHrZKyOrZUJu4ER++/S22n8tABe93p7W76zLri9KQa7SG2tIMcsk9ujJ8BfJSriAxUwOR2hN+HvZQKcQPfPz6A2EoRmpmFVTWVlBZyMDBgJL0K7iSnAeduSv8fF1hay69tyMQTBXITiuC0NIaVioziDnAVJGLpCsJyCyXwM7bDx72KijqNB4TqooycDU5BdkVMjj5+cPDTgVZM54ffEU+0pKTkF5sgsrVF97ONlBKmlZTviIPKVcSkakRQe1ZU77b5sTgUZ6ZC625BSzMlZAZS5GRkIA0jQJufh5wsFTc0RcSQ1k2Uq+mID1fC6G5PTx8PeBgaYbbV0OHqioePH93YeyqtH1Y9Ok3+HV/DIp598Y3MGmQk1cJmcIcKgs5+LJsJCWmolTiAC8PZ6iVdZfkMpRmI18ng9LCEhayhs4tj8r8dCQnpyC7jIfMxg2+3q6wVcla5FVi1OQhPTUdeRrA3NEDbg5WTW4jDeGzEpCYnoMCgyvaBbjA3l7SAiVlGIZhGIZhGIZhmPuImHoZ88/S2tljqVOAH7XrPYwmPDuRhnb2I2tzK/Lq/gItPZpBpTpTPVvylLlqErV2MiNARB3f3k9X8vVU7ycLo2nte8Mo3NOTAtt3oaj2vmRrbk5q9zbUZ8Is+nrVVtp3+CgdO36CTpyKp+zyKjLU2VElpR9ZRm8NbU9ebr4U3rk7de8cQq4qGclU7hQx/H1a808Glen4W+tXmkx//zafXhoYRk52/WneP8mUFfs7zewbQNYyAYGTU+Dzv1JcloaIr6D0U5tpwVujqLOPDdkP/JJOpxQTX1Pf3P0f05PBtiQTgAAQICSJQknmFipSqayp/SubKDankkxEpDsyh3r5WJMYAnIa/iNFp2bShXXv0dPhjmQm5mq2F5FN6Bj69lAqFdc5x0Yqz4imXT9/TFMHtiU3a18avehvSiwuobgdX9Lkbj5kLRdW70NoSQFD59LOuDzSmoj4khjaPO9Z6u5rQwphzXGENtRmwgI6mFRE9V7KFmbM2kJv9omicV/so7gCA5ExiX5+riN5KDmCsDVNXXua0irvUUGMufTPirdocLsQiuw7nJ6dOpnG9GtPgUEdqGuXCBr75RGKzTESkZbidiygmcM7kq+zmixVKlJZhdBzP5+kq+XVZSs/u5Y+fvlpeizAleytVaRSqcgqcAL9cDyJSms3teKt9GZXP7LiQKKQabTu1CU6teFjGv+YB6mkgpprLSbrgL70yvKjlFKsq+c+MVLuPyvorcHtKCSyLw1/dipNHtOP2gcGUYeuXShi7Jd0JDaHjLdsVkgX/viMJvcIJEdLczKTiEnIccTJ7Kj1wLfolxNpVHL9ovOU/9dXNKaDM5kJ62/D4S/8QqdSNfXex/Wc7GaXma/MpOgdS+jdCT0o0N6B+n60n2Ly+Dr7TFg1jXoEO1Zfk8Z+nPrRR3svU66+brmKL++gb17qRyEu1mRuJiGxiCOOk5I6sC9N//EQJRZWNbGOtekp7+xmWvjei/TcCzPpu61nKaPkxoGrci7SnhWf05tTxtPosZPoxQ9+oN0Xsqisdtkqs+jMjuU0b+ZUmjB6DE166X/0w+4LlFXnQy1IV0hJxzfR9+9OoN6tncim0wz67fhVKk7YTd883518raUkqGmf6rDR9PnOGMqrqjkzVQm0b+kHNLZLILnZWla3/6DxtOBALJXwREQauvDHl/T6yC4U7OFI1ioVqVRW5D/yK9obU0jXr6pRQ1kX/qTV816mIR29ydZnKM3bdZHySxNo36KXqW8ru+vtUajypQHv/07RmRVkIp5K43fSty/2pSB7JYm4ms9YtaaR87ZTTN6t17Bk92waGGpHAoio1aSldPDsadr65fPU3deG5NfavMiSfHq8QIv+jKd8bQOtwFhMl3d8Qy/1CyEX6+r7SsRxxEnVFNh3Ov14KJEKq+puayxPpzPbFtOsUZ3Ix6UnvbXhH0pM3E2fj4skV3MRgZOR9/Av6eDlomZcwCrKPr2e5j7Tg4K9fKl1hy7UrUs4eduZk8LCmUKfmEGL98ZSXkXtu0xHJxZMou4BNqRSKUkmEREHEAQikpkpyeLaveMygD7cEU05tzxUauOp6PQKeq1/AFmKrz0zBCSWKUhpUX29g0fPp+0XiognnjRZ52n3svdpfPdAcu/2Ei0/EEvJBxbS1B7eZCkGcVJ3evLDP+hsnpF4bS5dPriaPp02gNq6u1C36SvpcEo9heFLKH7fEnrjyQhq3aYT9R0+gSaO7ENtPezIxrktPT1nPZ1OL6db3/485e/6hIa3syMOQgoat4B2x1be0maMBRdo02eTqHu7COo2cCw9N3k8Pdk5jELaRlJkx1E0Z8PflNTE27MqN45O7NtC69aupbVr19KK2eMpKsCGRJZhNPSVT+iHX9fS2rW/0ebDFym9UNu0nTIMwzAMwzAMwzDMA8SCKvUwZu6gd/r4kLXCi0b+cILSygzVHQ7GXNrxZlfytBSTPGAyrTqXRZpbeiyaFlTh8w7QRwMDSa1uR9PWnKFsjZGIdJS2423q421NElzrqKn+4SyfoK9Op9R02hGRMZsOzx9OofZW5DPwI9oWW0iVNf0uFVf30NwhwWQnF5LQqh1NWXaCMsuqy8AXH6elrw+nDi4WJL0WBJH3ok82fUPPdGtFHrZmJBZVBx1EYdNpzSdTaUJ3H7KW13RAgSPzfl/QqetBFSJ9SRalJF6iHycEk5OSI4h8aeyiXXT0QhzFx1+hq7nlpDNUf7pOUGXY57To5T4U4t2KHntiND0zaST1bu1ASkl1h7si/FXaFJdL1f17FXR65Ts0fWQn8rNVkpgDQehKwz5ZQLOf70/twzpQt8ET6cUXn6EB4a5kKeUInBm1nfEb/f3nSnprYEfq0P1JmvDyWzTr9edoQLhL9WcENtRzzk66lFdfh34L4ovo4EdPUuSgt2lDdGZ1nYxp9OsLj5GnBUcQ+tD4n05Qcvm9KEU5nV44ltp7BdOIbw5QQpGhpkxlFLNiGkV5qanja1voXKbuxia6C7RwTFtykXMEoSeN/fE4JZfVLZsubhlN6uBGSg4kdHmaFvydcKN9EtUNqrQeR6+P70ahzhZkZuVILs5qMpeJa9oUCFIPGvDJDorNr9shXH56IY1t70XBI76hAwlFVF1ynspiVtC0KC9Sd3yNtpzLJF3tgmkT6I9ZA6h9x6foreWHKKFQSwZdEcVt/4iGhjiSQsCR3PMpmrc7jgpqAiv60hxKS46hn1/oSN5WHEHoRcM+30AHz9W04ZxS0upv7Z6s92w3p8z6ONry6RTqG2hHymtBRU5JPT+8Oaiip5gl4yiiY3+asWgbnUrMoJy8fCooKKj+Sd1LHz3ZmhxlHIFTUMjUlXQyVVOrQ1VLyTs+pBFdHqOB0xfR7phcqtDrqDhhL80fF0Hu5gLiZG7U/4MNFJ2tbca9wFPZ6cU047nXad7Pm2ntnJHUwS+Uhs/fRZfz8ih6zQc0afh4mvHZKtpz6jLFnd1On42JIG/Px+jl5ccopdxAuSd+opmTxtDkWd/Q+gPRFHv5KK14rR8FufhS/w82UnT2nQR6blPigpO05tOXaVC4+/UgrKjdC/Tl3FdobNcQCmrTjQYOHUw9wtzISiYggCNVxHRadTyVKmoVRBfzE03t6l3d/t2epi/3xlBxnSaio4TV06mHn4o4CMhp4Ke060JB9TWpvESbvnyTxkYFkqNKShxAAqdB9M7n/6OXhnam8PZdaMC4qTTt2ScpwktNcgGIU4TS80v30J41s2lE144U9cQYmvbGTHp9ymCK8LQhuQAksOpCb607SRk3BTZqB1UCh02jMb0jyMvSjFT2TuRkqyKFRHD9XSNx7UPvrj9DWTcHeKuSaceHI6jLYwNp+qLdFJNbQXpdMSXsnU/jItzJXMCRzK0/fbAhmrK1JuJLz9H6uc9RD19bMhPV3OeySHr1+0/ppRGdKcDejKSS6vMvDJxIm/9KaNoFNObTyZ9epJ6+9uTZ4xX66e9UKq15pFVmHKHvp3Qlb0sxCVXBNOKzbRSTd6M9VxZlUVpSPMXHbKHZQ9qSsxQksOlGry7dSidi4yk+Pp6uJKRTgUZbc982zFBeQFkpsbTu3SHUzlFAELrQ428spq2nq58ZyZkFlH1mE339cl9q5WhR/c4CSNrueZr34av0TO9gslfKSSasDuL6DnuF3pgxnYaFX2t3IHAK6vjSiluDKnw+HVvyAvXwtiSXXjPpl+OZVH3JeSo6tpCe6+pBCpk7Dfzf73Qm9+aaNCGoUhFDa94YQKHB/entNf9QVs0Dltck0ubZwyjcuQ1NWLiH4poU/zBS5qFl9N7kQdSzRw/q0aMLhXnZk4VEQDJbbwrpEEU9evSgHj1609C3ltFfsYVN2SnDMAzDMAzDMAzDPFAsqHKLCjr0QU/ythYTJ+tOHx9LpsJa/Rn6U59Rfz81SQSW1O+LE5RSfPMI0iYEVfh82vFGFHmoJOQwZBGdSiutNWq9lPa/2528rUQEyKjdy6to3z8xdCUxg4qr9DWfq6RLP46jcCczMgt5iX6PyaHKm/p7+dy99G4vb7IWgzhVBL2x6TLlVfJExBNPJtKlrKJn2jiTUgCCxJ/ade1Pb/5+hjLzE2jn3NHUwduLOr32O8VnlZPJpKOkn8ZTiJMZcfUEVaimTFtntCU3C44gakUvbLxM2fXMurgRVOFIYetE/r3epDWnsqlcX/1ZvvAwze7rQ9YSEIQeNGHlecqsE7kqp4NznqBgOzEBElLYhdLwjzfR+VzN9U4wfepv9FKUN6kEHAltvcjHtytNX3qIkmvNhDAmraTnIz3JnONI2u5V+iP6WqfUvVFx5lsaFdmTXvz5BF0tr6kPn03rp3cmbxVHEDrT09/9TQnFTeu4bw5j9u80I8qH1IGTaMXJq6SpXU99Iq18PoqeensjnU2v3ZleSXvf7UWBakGDQRXSHqI5/YLITtR4UIVTqsgpZCi9/8sJSi/VkYmMVBy3jT4ZHk5OyuqOVc6qM8364wJlXxslb8ym32dEkY86kCatOElX6xacElc+T1FPvU0bz6bT9YH1fCH99dnTFObbhV5dd5Yy6rTBCjr11XBq4yQjDgKy6/8p7YsrqNV5Wkm73+lBATYcQehfzzGbdLKbWWYjGY0mMulS6NdpncjLQtBgUOX8gsn00rd76XzWzQHAcjrz3Whq66IgDhwpWk+hlSdTqfz65jwV/vUZTezUijpNXSJ+3+8AACAASURBVEZHkurOuKmMXkzPdvYgBQcSqHvRe3+cpeymThAxptD6t2fQZ78dpitlJqo68jkNb+9M5uHj6LWJI2jyrO9pV0xerXuLp4Lt79KAEDtS93ybfvjyTXpp+ke06nAy1ZrcQvqYn2hKVx9SeQ2nr/ddrtuuWoj+yip6qYcvmXMggbkVOQcPodlrTlJGWU0YrOgYfT2uI7nKQRD507hFBym+9j1QeZDmDmlLjsKGgipEVUe/oBEdnKuDyLWDKtdo/qYvRnYgZwkIYjmpgwfTe7/+Q+ml106GntI3zaL+wTYk5ARk4+5JPl2m0rc7LlP+9ZNqpJR1r1HvQEviOAmFTV1BR5LrdpLfCKpwZGbuQEED36QfDyVRoZYnMpZQwp4vaWInD1KJcD2ItLJ2EIkvouPfTaROrTrR1GVHKKlOu66k6MXPUmcPBXEQkLrXe/TH2WzS17xr9Bmb6e0ngkktBEHsScEd+tDLy/ZQTEYSHV48nfqG+FHEs4vo7yvFTbhqVZSw7g3q18qalP5jaMH+uFvaBl94lL4e25Fc5Rxx5iH0zOKDlFh603taf5oWTnyM3GUggV0/+nD7Ocq77cyUhsvz9zcTqLOrgCD0oKfmbqFzRbUKxPNEJj1l7/qERrZ3IBFAYrcACu/1Ai3afJZSk4/RipmDqV1AOxr7+VY6l2cgXp9J2z8cRm3thA0GVbRnl9FLvXxIwUko/PmltD+x1s1jiKVfXutHAUoBKTu+RMsPX6W6t3NjQRWe8vd8SqM6OJP3U3Npy7miOm3WkLaZPhgxil7+bifFNPf5SESkP0fLXupFPgoFtZ2ylA4k6RrfhmEYhmEYhmEYhmH+ZVii+pvxhbiamodKnQFkLEdpqaHOuusCKyuoxCIITRqkpWRVf665h8jcgd/3JiK/jODi7Q0LmazWev0W6PxkH/jZWkKCKsTHZUJp5wgvb2dYSsUQAuBTfseXiw8gPleIiOHD0dbBBvKbrqTAridenPI4fB3NISg9iR+++BXRmUXQkwACcJA4hSLYzRxyMQBDHpTdXsGU7sFwVPug39u/4p/EJPz95dPwc1SC4yRwDQ2Cq7kcdVd8vztCz1GY990beCrcAcqatfgF1o9h1KBwOFrJAT4DMZeyoak01jrHcjg6qaGQScCBQ/C4OXh7Un+0tjO7vh6/2KUXeoQ7w9YC4AsK4TziTTw3MBIelpLrOSOE7p0RGWwPGzNAn3AJMcWlKL9XWeKrLmPNovVI8x2EYZ384KqsuVgCMyhkIgiFAExaVFYYwPMtf3g+8QqSistRXpiHXI0OVaZa/yj2xON9I+BgJQWZav8DB6FICI67TY4EgRBikQC3+8h1wlBM/Ph/eHF4B7hYSMBBCEv/AZi1YB6e6xYAWwlAxcexZt0RJGWWwVRdcFxJKkZ5eSHycjXQ1S04PB/viwgHK0jJhGv/oo9Zh6UbTiLfuy8GhLjCQV67cAqEdO8EPwcbSGFC3uEdOJCYjYKWzEjf7DILIRRy4CROCApwhZW5pIG8JgRe6IKg1o6wVNXNfVIZvQJfrfoLsZmVIEUwxr7xLLoFuuBaM4M+BuuWbsDRVAd0fbwNvN3M6mwvD+qMiABXOMgBU8Ex7Dsch9RsfZOqa0g4hON6D/i7ucFVSagoK0elToeK8xuwpTgUg0Y9jR6BtpBeP6AASpUKCqkIZad/wqcbyhE2ZAQGdfKEqtbDRWBlCZVcAmFmEpLyS1BibFJxmkXsYA9bpRnkHACz9pj84fuYOrQ9nM1FNWVoh8e7h8LbyQycMRVXEnJRXLsgAhFEwtu3f04ogkggaDhXjcwe9molzKQcwAVg2Ftv4Nkh7eFice1kiOEU1RnhHk6wgglFxY4Y9MJEPNUzAOrrJ1UIl4j2CHZxgAUMSIqNQ2FRCUwNHFIYPBLvvPMyxkV5wVomAIQq+PR5BfPnTkP/Nk6QgVB6aiP++OsykourH0j6+C345Y+jSHXoisfbeMPNrE4LQlDnCAS4OkAOEwqO7cPhuFRk66vfNWK7APi7qWEp5wBjIRQdxmBUr84IdPZC1NRvset8PE4sm4ZOvpa3vV4AwGfuwvJVu3Hyih7B/Qagva8nVDe/+6w7YszYfmjnbwtR+UWsW7oeRy6mofJePd9vRyAAODHUvt5wc7CBGQcYi+UIGzwEvXuGwc0zEhM+24RTsafwy5sDEWorgkBsBx8vN9jbKBpoNyaUZWcjt7gMWuJRqSmHTqe78Y4UmMPcXA6ZlKDNzUZuSRkqGmoM9eKRlpKK3IIiFBcVoKyiArVfSyLnzujSzgfulgBvbP5JNabFIyE1BwUGNwQEOMPeriW/VTAMwzAMwzAMwzDM/cES1d9M6IQ+Y0bjYMZWZPpMxFPB9rCsk3yXq+lEI2jKymEw8iCgWQme9ZdjEF9WCS0RTLwJN0dlJMERCHe0wImkApTnZCK3Sg8DAdW56w24uHEDjmcUoIILQptwe5gp60tHK4Dj40+i67e7EJ9ZjpJ/NmDj2dFo7WwDRzkHcBJIJAIIOADSUPTs7QMry4Y6dAGIxRBzXAsmsuZg7uEPd3P5TQmFRXB2daoJmhhQXFQIg9EI4EYiW6FQVNPZL4DczAxiUd1k9BCYw9bWAnKpCODksFZbQCq9KRm70BrWKikkYoDK85FbWIUqPQENJgO+U3ok/r4Av1xyRP/ZvdDK3bJW8mAxzMxkEAsFAGlRUWmE8S4TJ9dLIoZEKADl/4kfv92IVvbPo1eAGjIBAAhg22UoBttYwdGsJdIa10/gFoTWTpawuCmRtcCuO54Z3Q37Y9NRmFSGzL8P4Gx2HwR5qmAJCcQSIQSUjz9//BYbW9nj+V4BUFcXHALbLhg62AZWjmY151SLf7btwrmMfJi5ahFz8m9UJN503bWlIF4AMQdUaeNwIaYQpR1NcLBpqfhyc8t8g1gsBidoqBwStHnhf2hz868rz2HFV6vw1+VMVJICrce+jme7BcJFeWM/2n+2Yde5DGRKw1GVEI0Tu7JQ9zJUoUBnhEAqACqrkBATh7zCYvBu9o0kuuaRcfYieLsI2NjZQcoZcD7xKgqKyyFw7o/npwzCY61sIalzLBNKi4pRrtXBWKVGlzHD0aWNN1Q3HchUXIxSrQ56zhzCRgIXd0wkglDAQQCAU6phq5JXB5mvE8JWrYZCIQdQgvLScuh0BhDELfgcFEIoEoATABDIoVCIIRLddI8o1bCxMINcDHAyS1hbyCG/6TNCSytYyKSQcITiwnwUVlZCR4DiloIK4OzfCs5q61qBrurfqzuNxtM9DuJCUg5iirLxz5FopPdrh1bWZji750+cScqEtHUVEqJPYFfWTeegqgA6owDVTSgBMXF5KCzm4WYvBARiiMRCCAQAxAGI7OwPZ6eGAga3Y8CVvbtxPO4qiuCOwCAn2NjU1yEvgG3nHnjMfwdOxuQh8/xu7Do9BBHB7gi8OQJzn3AiMcRCIQQAxD7tEBHoAXdlw2dAJBJBKBAAqC/KLoC6w+MY2C8OJSoTOg3qjGCPuoFSDtXvatJWoFKng76ZrxWxWAyRkEPx8d/x84YgeLgMR6Sbsvp5ILBC2z6PQymwh5W4uVfRhML4eCRn56LCIRIB7g5wuLWRMgzDMAzDMAzDMMy/Hguq3EIIp96zsLL3rJt+z6M04S9s+mkronPKoAfBUKWDiZo1BBQAYKyqgs5kAoFQkJuDKoMehFoBDYk7PJwVkEqAcu6mUc7GFJw4lYwSjQ6QWENtI4ZY1ECnhHkHdAy1wW/nU1BSnoTTJ1NR3s0HDvKbgiecCCIx7k3H5R0QmZlBJhRAAIJBbwBvomYHrmQyaU2nVIOfgFwqglDIAaRDldYIvvmXslH81T/w3c+nYNH7PQxs4wV1nR5mAcyVSkjEIgBGVFRUwmjkgUa6sptL0uoxtPdYjWOXs5G05QOMjjmMiW+9h1ee7gAPKykE6gj0iWrRQ96C4zgIuPquoRDO3aIQ5rgHF5PLUJpzBbEZpSjXESzlrfBYew+sPnYZ2Ulb8MHoGBye+Bbee+VpdPCwglSgRkTtgutjceZcBgpLjKg49RsWJ26DVFhPq+Fs4B1qA0AIJYwg3lj3/rsbkmaW+a5ocWHV11jx12VkVBIUrcfg9We7o5WLstbMNz1iz5xDRmEJDJpobP4pDfvlonrrqnQPQZg7ILQUgsgA4/VAbkN4lAl98ViEL9wd5OAMcbh8OQP5xYSAEU8g0s8T1re8YXRITExBYYkG8jbj0b+dDzwsbr5PeRQlJCKtsAQ6uzC4WZnD/N7F+25DALFEDKFAAA4EE8/DRA9gugMnhVQigvC2jzMppGIRRABIp0OVka+3O756UMC1LvebCB3QKTIUbjtO4nJRIfKTriCjqARafRbOX0xDXqEBhdGb8VPa/luCOtWUcA8JgzuEsBQSyGAE4eaAtxAiUfWzoNn4LJy/kIycgkqQSAVrKxlkkgZ2ZBaC0CAn2B0SIjM3HZfOpyA/vwoBqjsJ5rQsTiiEiBPibsI7AnV7jPtoNcbd9HuTJh3RB9Zj6+GLSNcQyFwPPd9QW2iIGN5hIfBxd8LfiYk48O10JJ48jGlvvYbxPYPhaCaEVUgndLyjkmtw5UoSsnJKYeEbAG8H+1tmGjEMwzAMwzAMwzDMw4AFVRpjLETMvnVYuWoLzht8EBXhCnulHFcLqu54lzI3NzjLpYhBGbLORyO5vD/8SFlrkoQEYgkHgUAAlYc3HBWyGyPL+XSkZWqh0wMQmxpZeswMXt7OUMguAuUG5GZmolKvb7kO5HvovpTvehTJBNO1NM0tiU/Bxm9/xN+ibpg1tD187GU31UsIC0sLSMQicKiCprQUekMLdvBfo4zE5FfH4GxKPrafz0Z54l4smHoMO9ZNwJvvvYYRHT1gJXtwPVtCtR/8XFRQSjmUGkpRVFQFvZ4AuRKRk1/FmLMpyN9+Htnlidi7YCqO7ViHCW++h9dGdISH1Y2l80zlqUjL1aDSYIbIaT/i6+e6IkB9v+vVvDLfDe3FX/D1ikO4nFEBkgdj9GvPolurWst+AYCpHKlpudBUGqBo9wy+mv8iBoQ7tlDYToLQEVMQWvN/fOZlxF7NQ5HOBX1CPGCrvrm9AzAkIzY+CwXFBM++QXBW29y6pKCpHBcvxiMnvwyq0GD42trglrgLc4vr55pMIKI7eJwJYe3tDRdrFeRcIarKSlCsrYK2LAOZeaUo1ynQ7pmvMP/FAQh3fABRLj4b2bll0FQSICCYbltHOVzdHKEyl4PLrURhbi40lZUwQdHCIet/Ax6lV09i9++rseFIFswCQmBuYwtreQIK73CPitChmDTyAhJSV2J/QhnSjq7C26MOYvOQF/DW6xPQu7UT6p0g2xhdEuITMpBbKILnAD842KsfwevBMAzDMAzDMAzD/BewrqqG8EW4sPETjO/aGWMWJcDnhR+w/tfvMGtIGzgp7275F3HrQRjUwRnWCgH4uC1YdyQdBZpaY0krYhF3VQOtyRMDnoqCs7X5jY4HowYV12ZVGDUoLzfWyflSlwA21pYQi6tjZ/qqqpvyZjD3Do+UP77BkkN6tO7ig6qE49i27jf89lvtn/U4cCkLpbrq61deUgydQd/isR1AAHXU61i4eA4mdvWClYQDTBok71+EaQN7Y+R7v+JkRhkMDyLnAAAIbGFrI4VUAlTnGLmRy0WgjsLrCxdjzsSu8LKSgIMJmuT9WDRtIHqPfA+/nsxAWU3BqaQEZXo9jFSJ4qIK6A33IEFNU6rTjDLfMW0MVn+9HAdjMlBhkiNozOuY3D3oRr6ea6gEJWV66I2EypJiaHS6Zo5abyoTyi/HICG/EBpLPwR5q2Fzc1kA8LmxiEvJQ7HeCYFB7lDb1BN4qbyA6IsZyC2RIzCsNRxtrVnH630isLGBtUIOGapnVAiFAqC8FOVVOhioEiXFGuh0D+a+Al+JyioDjHz1f1dU6GFoMKeHAJYqC8iqHyrQ63Xg+XuQmOeBMqEs6SCWvfU0+g5/D9u1UXjr+5VYOu959A52wF2t5iiwQruJ/8P8T2ZgSJgj5BxAlek4sfpdjB00DK98txux+bpmv6uMaVdwJS0H+UY3+Ps7sXwqDMMwDMMwDMMwzEOLzVSph6noLH5+ZzrmrEuE88RvseLtgWhtVz3CtUW6k0R+mDj3M2SVvoYFe+OxYfYseFrMw8sDQmAvycOhbxZgU5II7V6bj5kD/OFQu3NSpIRSUbMUDGUjLU0LnY6Aetc25yCVSSDkOHAQwMLaGhJR/Uv/MC1Ln7gOXyzcjrPxaTgy+xh+MTU+cry4oABa3b0IqgCAEHYdn8OCjZHoveQzzFuyDdEZZdBrkrH3qylITs/H4o8nIsrHGg2tqHPPcLIbyxtxKtiopZBIa5XcriOeW7ARkb2X4LN5S7AtOgNleg2S936FKcnpyF/8MSZG+UDFcRCAA4hHenIyyjQVMMHygUSOm1pm6zs62VW4vOYrLD8Qg3SNCfKgMXhjcncEuSrrqSsHTgBwIPBZqUgtKUOZCWj5CTx6xF++gpyCUkh8gxBgawPLejp1NbFxSMwvgkYViiAfNWzMby2I5uw/OH01E4XSEIxu5wZH1vF633BSKSSi6qWpOAsrWMukkHHVS4aBeGSlpqKkrAwmqO//fSVUQCEXQyQEwOchO0uDCk1DebA4SCQSiKofKjBXqSCTSh+dd5+pDPE7FuLDj5bggPYxTP/oWzzXPxhqCQBTecscQ2iD0GGzsSwsCmu+m48F644gLl+LyvRjWP7OFGTmzsXsl4eig3M9gdH6C43ChCtIyclDpSPLp8IwDMMwDMMwDMM83NhMlZvxV7HunRcw59d/kOc9Fu9N7Y5A25ZfMkTk8jg++G07lr3YGa7GM1gwsTMC/QIQ1GYAPjjjiRmrdmH9ewMQqJbXvUgid3i4VudbAZ+D+LhsVGiNDXTEEyoqtDCaTCBOAW9/b5jJH6GOpX8rbQx++WwhDpR5oN+YKZjx2ut4/Y038EY9P69N7IUAB3OIAOjyc5CrrYKuxZch00PPVy9xJrQOxlPvrMLe/evx+eQu8LSSgiMtEjd+iUXbLyK15AGMQqcKaKsMMJoAoWswWjtbQiXhAPDQ63mYqguO4Kfewaq9+7H+88no4mkFKUfQJm7El4u242JqCcjSEuZSCcTgkXv6OC7mF0Jz24lZBqSfO4OEvGJoW2wCV/PKfCdnWx+3Fl8vP4BL6RqY5EEY88ZkdA9yRT0TQwDOEpbmUkjEgCnvPE5fykZuye0ra8i8hPMJ2cjXNKN0hmTExGYgv9gEz1aBcLCxridir8OV2CvILawOvATa2cDqlgdrGU4fP4XkjALIQiPRwdMJdmIAJj30Bv6e5D1ibiCtFlV6I3gI4RQQCBcbG8hVKihlUkg4E/LOn8al7FzcvgkZkHnpPBKy89GcJtQooTOcHVVQmnGAqQBXk7NQUlrV4LtPq62C3sgDnByunh6wVNUXdHwYmZC9fwk+mrsQG88r0H3ieAzq0ao6oNJSRzAYwPM8TBBA5dsLL3y7Ebv+WIw3B4bCUSEAVaVh7/Kfsemvc8hp8gSgSly5klydT8X71nwqJoMBRp4Hu8UZhmEYhmEYhmGYh8Gj0cfQggzR67H6YDJyNQSHoBC4Ks1umQTSMn3eBmQcWY0tRd0wd/slZJVpkH81FpcunMGRLd/ihe7esJTVE8oRuiMywg9WFjIABlw+dgyZpeWofxUUHhkZOajSGSAwb4uoCDUs6u15bWkEehAJnf8NTGU4s/RTLDliQtdX5mLeN9/ii/nzMb+Bn88/GIcoDxvIOcCUmYrUsgpUtnCvkv6fBZi7/CguZ17rgBTAwvdxzFi8Ges/HoUIVyWEfC4uRiegqKSy/vZd7y9N4HnCXV9qPhMZ2RXQ6kTw6ByFEHs1lBwA/T9YMHc5jl7ORFXNMQQWvnh8xmJsXv8xRkW4QinkkXsxGglFJdAqfeHjYgGljAOfvgdrtl1Eal5Dna6A9vJqfLZoD2Iyy2G6JdJ4h234/+zdd3RUVdfA4d/MZNJ7L5AQSCMJHSnSqzQVBEWxgQXFLnZRwI6ivr6KvSsKWECQolIsoFJDh/Tee58++/sjlNAk8IHAy3nWylosMnPvvueee27m7Llnn2LMjae6C3MKX7/+MWt251JvdyF+0vGX/bJXbGbVur0UV+qJjmqFp7szGnsB675fSVJq/on3a0zhuzffZ/nWdKqk5WOFreRgPZV/WNbLksXe/XmUVdqJTEgkxM/vmMSLvXIT6zelk1fuRte+vWkXFogeO+U/v8LMt39kU2ZDi2M6F45pVrsN22nVNzk3bEVFlNTVY9C1puelHWkV6onOPZK2YT54uWqwF6zj+5VJpOafYJwAjCnf8eb7y9maXsUpdKGT04XSuVMMoYHuaLCSvn07OSVlJ0hC2ykuLqO+wYDGLYFLuoQR5H+2H8yV06xlc4qsqaz96Te27SnG4htJVHgAAW5nsqEt7Pzqfb5Y+Qcp9QcHMXci+t7MS1/O57V7RpPg54C9MpX96UUU17TwhmXJIC2jgNIqPZGxR9VTsaTx3Ysv8O7i9WSZzuChKIqiKIqiKIqiKMpZopIqR7BTkZpOQYMRC3bqqquxHrUOu72+nkZr07cp7SKnmWGxkrf8KW59Np3uU29hZJcwPPQ69I6O6LTakzxJ4kD78dfQL9wfdy00bl3JipRyqszHCcSSwrbt+dQ2Cq2vuJExUUF4H3eZsBYQDn+D9ARF3ZtqYQDSQEO9FZv9OC86MOkk0DRpfbz2EzlyX//faaqzUITesH8Fi39LIb/K0mzTNvJWvczM9/9EN/Rubh2cQKuTJLF0QaEEe7nipAWpzyQ1u5Y6w1HB2uvJ2fITSxavYlNGBQ2nWo9DLKRs20p+ZdWRdVN0vnSfcidXXdKOQCewmM1NTzUBoMXRqak/IrVUVhowm4+cPLOVFVBU3YjRBtjtJykcfWLmfVvZnldBrdulXHtNL9qEuR+4BgRLyja25ldSdWTg+Hafwp1XXUK7psAxW+3YHaLp0yuGQD9nNFLFXx+8zMdrdlN4nK/LG7OW89KMrzAk9qR9eAhuGgANOp0WrUYDNNLYYMF2wpoNJ3KKMTd7iYidgx31+PkcM2kL/8NHa3aRW2fHJX4SD98++LjLfhl3rWb1jlxKGrRE9+lFTKAfrhqhZsuX/PfTVWzOquGYL5ibcvjljeeYXxpGQlw0bTxaOlbYqdu3j/TSCuo9Y4iP8sf3OMt62Ur3sC+zhApTGPGJ4fgfU8jeTvWWv0jKKqDSqzv9erUhLEAP9nI2birFI8AL3wCXQ69tyNvO2mVLWPFXMiV1Z2vZvH8YPDR6HB116LQgddVUNZowHXGJ2KgoKqGqrhErYLfbz0iy+SwMZwdYSN2xi+ySSlwuGce4S2OJ9NKCvh09uscSFuSKRmrY8uV/+XTVZrJqjn1EwZTzC288N5/SsATiotvQ4i7UIjraDR9Jn/aR+DuAcc/vrNubQ/7xMoSWLPbuy6Gs0krw4CsZ3iGKMKdmwYgg9gMJYfvp3sebaLW6pjFDjBgMJixnoDiVYOfgaNp0rzz8O3tNHvmFFVQ3CtJYT53JxBF5CLsBg8GE2QrYTzPRY81m754cCoqOTEprvRK56vpxDO4WiStWzBYr1hPWdDuSrTiL7IIyKi2tj6qnYqds/TL+NnoQEBZF62ZLP2KvJW/PRjZs2U9+lVE9xaIoiqIoiqIoiqKcN1RS5QhanF1d0DcVLKHq92/4blcRlUY7YKc2fTXzXv2azQVVmLDTUF2J0WZFzCZMtoMTpIKhWUF4q8V8zESavXAJLz23gE17trJ22XLWrt/C7pRM8oorqDVYjp+MaEYXNo6H77mM9iHu6EzbWfTJajKLj35axU7lH4tYuquUhrCJzLh3OG2Dmk2+igWLxd40WWNtpNFo559q2EtjA0abHTuC2WTAKvajJmp0+Pp54+jgALYS9u8rpKHRimCjdPMaNmZXUW+RprayC4JgNBqwybE7tRsam9oTwWwyNS2l1Oy4zGYz9oPBnqCpzGYLdrGDGGlstGI7Zl7ditlyYJkm7Nht9pY/cWHLY9k7L/P0Yy+xfE8+dVYAC4XrXmH6jM/Y6TOBh6YOIaGV28kvMKe2RLb2xN1FA7Z8kvcVU1vbPFFjZt+n93Pd1VczYfwo+vWdwPPL9lB0dOLlJAzbf2LVnkJKjn6foz/+Pi44OvmS0DkOP++DfURHZGQ4nu4uaOyV/L7gK9an5FNrBbBRve9H5s6cz98F5ZgdwFZdQG5FI40nmFAUsR9/7tJWwIqvlpKUq6Xf/Y8wqWcMgc3rjBi289OqPRSWGI56ryP+/j64ODrhm9CZOD9v3LWOJIybwMDY1ng7gL1yI/PuncydT7/Lyu05VBnqqS7cy5qPn2DS+Lv5XjuMiZd1JtL34OSeFh8fb5wc9WArJTWlkNo6M4KNsqTf2ZxZSvXxkpfHNvYpxHyohTAYjFitdkTMmI0W7EdNVprTv+H1D1ezO7cOu0s81z18O4OPt+yXvZw/1m2m2uaA1tEJx4RxTBgYS5S/HuxVbPvoMe6Y9jhvLNlMRkUD9TXF7P/tC2ZPuZa75tfSbcxl9IoPouWrCZlJ3pdC0YFlveID/PA95iE7O3V795FWWkG9dyyJUQH4HxO4jcLcfCpqG/Hs3JvurUPxdwBT8kp+q40gtm0bwj2b3mNJXcCMW69j/FVXMWbAAK56agGbcupPafLYbjJhttqwHZi1Pnbq2UZjoxGL1YYANpv10LgOgC6c8FbeeLprsFf/xeJvf2dXRhUWAFsNqT+/xQvzfyOtyIgeOzVFBZTX13NEF7JbMJttB8anE0QvFixWG3Y7iMmAwWo9NiFmtWA5uHSS3d70dMwJHjmTEyR3bEWr+W7FZtLMlzD1vkn079jqQLkSPbGjrmBA1q/WEAAAIABJREFUhyiautA2PnrsDqY9/gZLNmdQ0VBPTfF+fvtiNlOuvYv5td0Yc1kv4oMO9CC7Fav1wP3FasRgtGI9zdlxXdAwbp08hl7t/dGb97Hq2zXsSik5sk2xU7N1Jb8kpVPsM5Jpt46he6z/kUt4yoE4bE1t2mi1Np23U6bF08sDVxdnNPZKcrIKKS83INip2reF7cnZFBsEsVqx2uzYAZvJiMlqOfYcHg4Oo9GMxWJtOvcmC7Zm695pnZxwdtTjoAGp287aX7awJ60GG2BvyGfzoo9Y8PM2MmsFMdZTazBhsluwWKzYDowpJrMZ24Gbos1qwW4/+gZpZP+G39mRmkHtUefKwccbLzdXXL2iaB8dSvCxa/gdl72+nnqjEYtHCGFB3ni7NI3z9uokflhdQnBcF7p3DDs87thr2PLxE0wZN4wBl/bn2llf8Ve2oUX7UhRFURRFURRFUZSzTSVVjuLZayC9Qr3x0IHU/MncGy/nyiuvYES/jiQMncX+bmMYENG0Fnjd+nd54J6bGT5kGp/uzm+afLBXsnd/DnUGM2CnIDOTGuOR37C0VxZTUmfGVLOPxS/dzfjBPegY147wEH+8XJ1wcnbFwzuIiPjeXDHtNZbvK6fhiIyJI9E3zOGNR66gY5AzxUuf46E3fmRXcf2BxIqd2j3zmTHzC/bq+/P0u88woVMIHs1WP7GVp5BW1IjBCtgy2JlUQl3DiWqzWClMSaekwYgVsGankVJrwHjEZIsj8d27EOzphg4T295/mIdnzeCxaeO55oUNVBgt6HRWspLTqGwwYEOo27eT5OqGo+pZNLJjRzLV9U0TUxWp+8hpaDw8aWavIj2jkJoGE4KZ4oJCGgxHLfFkKyIzu5z6BitIHal7U6msrT/yW67mLHLyamkwAPZScnOqaGxs4eLwdTvYtqeUoq1f8sjNN3P7A4/z+J1jGX3jHFZVd+eep29lUPsQXFryLW1dK+LjwvD2cASM7P1tHSklBeTvW8/v27Ioqyli5/ZkSqoasAOW4t/54P2l7M2u+IdJuWOJYTfzX3mblduyqWmW+DCk/MaGvSXQaQq3jGxPxKHZcB0hQy5nUEwYfnqhYdcn3Dd+NKNHj2ZY3850GDKDHbHjubxHDMHOGmjczDvTJnHdLS+zIrmYBgGcQwkLcsfVSYM9ZSWfLlzDttyaQ9/mt1XvZ9nz9zL7m3wib3+Nl6cOJC7gqJo/YmD3/Fd4e+U2smuaJZsMKfy2YS8ldGLKLSNpH+GLDtCFXcGDj17PgPaBOGvAVr2P5W/cy+iubfBz88Q3LJFht73OZu/rmPn0TfSN8eNwDseRmM4dCPXxQo+ZnZ8/zROzHufRuycy6bnV5FSZ0Du04KSeYsxNjVFMWmYJdQ0WwEZuZjrVDc36rCWD7/7zIb/syqHW5kL8dQ8xdXB8s2W/7FgMVRQkb+C7udN5Zv4+qsURR0ct6MK44sFHueGyLrRy1YC9htRf3uORq3oSFeCBp08I8YNu5sVfHRg1/XFuHdaRYKdTeMTAkk1KaiEV1UJkYiIh/scu6wUWUpPTKK6oxSkmkbjA4xWy1+IX4I+7qyv+QYG4u7pC7W4Wfr4Vjy7d6RAfTlNdaxvle3eTUlhGrQ2wlvL3F5+ydFsKxacwM27OyiavqpZ6AaksJL+ygfrm77fXkZycQVllHYKd0txcyutqD0++64Lof1l/EiKDcZRG9n39BDdeOYqRI4fTv1snBj38B/5DhnNpx6a4Dds/4ZFbruemZ79jV25TMXF7TRbZhVXUGgUsZRQV19Nw1Pp/tpIccstqqLWA1GeQnFZGZe2Rk+CWnHwKquuoF7CX55NXWUd9swHCOTiEQE93nDV20tcs4Ntf/ia90nigpo+NmtSfeO2RZ5m/349rn3uBu0Z3IazZAKYLuYw777+By7q0oqkLpfLLe49wVc8oAjw88QmJZ9DNL/KrwyimP34rwzoGc7AL2aqzyC6qotYkYM8leW8h5RWn+2SRnogrHuaZh29gYLQ3leve5vk3F/JrasWBe4Sd+tRlvPbKp6yviOXOF59i8pAEAo7KEBoz0sgoqaTWBtKYRWp6GVU1p1MARk+buFjCQwJxxELKD2/y4uzpTL/vJm6euYCNWQ04OQo1uXkUVVRhELAVpJOSX0Kp8QQtYCsnN6+IimoTgo2ivBzKK6sO119yTaBLpygiQhxBGtj99UymThzFiBGD6dl1MHcvttG2S2c6tNZD406WvPY0U0eM5PaXl7Ixzwr2WrKy8yitqEewU1ZYQHn10U+uCaa0ZXz08WLW7CxttsSaiezNW9mTVUebcVczqmcHwvS0iC60DRHBAfg0e729IY2l8z5nn1dn+g3qTTv3ZuOOLY1t2/aTmVuP3VrO9s3byc0padnOFEVRFEVRFEVRFOVsE+UoVilY/YKM7xgkrroDK604+EjcqIfli435UmsolzVPD5UoX70A4uB/idzx8UYpqNorS+c+LDcOjJUAV71oDq7SovOQyF6j5YaHP5G/8qvEaBcRqZU93z4lYzsEHt7HP/w4tZ0ob/+dIzUW+1GxNkruHx/I9Ms7Soibs3hFdJMhl4+XscO6SXTbDjL09v/IzymV0mhtdnQFa+Wt+ydIj3BvcW6+b+cQ6Thkgtw6e4FsL6oRs11EbGXy12fPyQPX9ZMYf1dx0Bx8vYN4R/WRy29+XhbvK5W6g9s3p8s39/WXSK8Dx691l4ihj8jCncVStu1rmXXbMInxO3I7PrH9ZfzDn8mWwkrJWvu2PDqpt7TxdhbdoeN3lICEoXLHvB9l8Zuz5JGJvaStn+vh3zsHS8eh18h976yR9KIs+evLF+Sey7tIKy8n0R58jYOfxA0YL9Pe/FnSCtPkt49nyi2DYyXQ/fB50nq2lT5X3CzPLEqS/CrzP3eRunXyzKgECXA48jw5hAyRGd/vkqLGo8/TSTa39hkZmRAgDiCgE1dvL/GJHCaPLUiSgnqjpH59rwyK9j7UbrqYyfLppiypb+FuTH/OkWuH95fOCdHSJrqrDBl/uzwya7bMuG+i9ImLlR4TZsn3O4qk3nr0O21SmfSZPDA8VnydtAeOUyde0cPkwc82Sk5lmnx5x6USH5Uog69/VP773d+SXtEozbupuSRJvp1zh1yWGCwejlpxcA+UNvFdpHvXeIkIaS2Jg26VuT/ukZJ6y/EClznXDpf+nRMkuk20dB0yXm5/ZJbMnnGfTOwTJ7E9Jsis73dI0TGBm6Vo0xfyxFVdJNSj2bWIVtzC+8rkOctkd0m9HGePIuYsWfr4KIn3dzrQh92k9YB75ZO/c6Ta3IIGP8WYbRVbZMErj8iNgxIk2MOx2bjhJW17jpTrZy2UpLxKKVn5hAyL8zvQR1rwo4uSmz7eKJl1h2M2l2yTRc9Mkl4R3uKoOfxarWuY9LxutnyzJV9qTtL1j6vxd5kzobuEuifIlPd+k7Ta47STtUiWPD5SEv29pPeDX8vfuUY5Xmva6nbJVw+Nlm69Lpcp0+6UyVeNlalzf5AdhQ1HvN6c8b08cXkH8ddrDhxvO7n2zTWyv8Z28njr98iP/31YxnZuJd5OmsN9o1UXGTrpOfl2e5Zkbf1O5k4bJnFB7ofbXOsmrbuOkGlvr5WUYsOBgKtk14InZWzHIHHRHh7z2w6cJu/+miplGd/IQ5d1kZj2/eWaB1+VBX8kS0mdWayVO+SHt2bIDf1iJcjd4fBYHxgvA8bdJW+s2CO5mZvlm9emy1WXRIqfi+7wOOMTLZdecbu8umy35KT9KV+9eKdclhgqXo6Hj8UjooeMvP5p+fKvNCkz2UXELGW7lskb910uXVp5iZPOQdz8wyWuUzfpmhApYeHx0u/G5+Xbrf/UB8xSsm2RPDOpl0R4Ox5xXbmG9ZTrZn8jW/Jr5ODbrSV/y5fP3CKDYoPE/eB5AsEpQGL7jJEbHv9IfkspFsOpDZcHGKVwy0J59sa+0s7XTTxDE6XPZWNl7GW9JSGmg/SfNFsWbs6T6iOOxSwZaz6SF+4dJ5fGBImHvtk14BYmnQaOlZvv+48s25Ur1S3oRodY8mXd61Okb2vXpnuOxkWCL7lRXlm+U/b99Y28PG24JIR5HXHNOfpFSY8R18kj7/4ku/Kb+rateres+OAZuW1EN4n0czl8/9K5S6uOA2X8ox/K2n3FYhIRW9kW+eyh0RLvd/A86MQj4lK5ac4S2V5QK1VbPpC7hkaJm6ZpLGk/dqYs2rxJVs9/We4Z3V3a+je7h2pdJTSxv4yd9rr8sC1bamxmSfroIbl2aEdpHxslMZ36yugb75cnZz4l028eJl0Tu8nI+z6QX9Mq5dSGC4vk//6O3Dm0m1x6xRR54MnpMnn8BJn64iLZklsvxzS5rUz++O8t0i/CWTRaL+l229uyNq3ulPaoKIqiKIqiKIqiKGeLRuRirSj+z2wNRaTt3kN6uYag9l1JDPfGRX/gW+G2StK2bCW5zJE23boRE+SOk+5UFo+3UvTH2zz9bh69bhxJO0cjFUVFlJRXUl3bgNFkwmQ2UF9VSs7+rWzeWUDILV+x6KmRxAUdpwA0dhoKk9mzP5OCGsHNP4KEzjEEezjTki/Wn1H2OnJ2bGZXnhH3iI50iwvBw9nhJHViLjRmMr57nGkzPue3tEosAo7BA7jvjf/w4JhOhJ5q0WDjXr587EFeWJREnXccfcfezB23XEWvdn646gBs1Jdkk1dhIH3Rkzy7qxMzZ9/FZR1DcGxJwxpqqcUFFyc9OnMl+enJJGeUYHQLJSahPZEBHjj9U0cxV5K1eyf7Cy14R8YTHxWMl7MDGgwUZZWh9w/A293ln/ua3UhlXiaZOXkUVBjQuQcQGZ9I2yBPXE74RgO1teDi4oReZ6YyP53k5AxKjG6ExiTQPjIAD6d/6ls2anL3sS8lm1KzOyFtY4mLDDx5f7TXk7d7G7tz6nBqlUiXuDB8XPUt7MP/35jPPlttASnJKWQWG3AJjCAmti3BXq7oT/u5RQtlyUmkNvrSrl0EQV6Oxz0+Q8EutqVbCIyJpk2w54n7rq2G3D072JNrxCeqEwltA/F0Ok6NloYy8vLLqU9fwguvbKXV1Ie5e0Jv2pzKUzZniKU6h3279pNncKd1bHuiw3xw1WvBWEJumRYvH2883Vvah84uu6mKguwscnIKKG8EV78I4hLaEeLjRstKbtmoLUghOSWTYoMLgRExxLYNxstVfw4efbVjKM0kOSWd3HIzjt6tiE2MoZWfO47/ZjD2RorTdrMnvQy7XzQd2rchyMvp7LaH3UBFbhr7U/NpdG1N+/h2hPq6Hnj6zU5t3j5278/B4B1NYlwkQZ4t73+m+npsej1OTnqsNcVkp6WQXlCLg18kce3bEerjdtrjhakqh+Tde8mpcyU8vgPRrf1wO/bRtiaWCjJ27CKjwZvoxFjC/V1p2WJjiqIoiqIoiqIoinJ2qaTKv85ExvdPMHVWEp2feZtHR7UnyOWfZicM7Jk3hduTBvD2rOvoHOGt1mw7L1goTVrOtz/8TrKlLUOvvZpB8cF4tmxW8vTYCvj2oTtYHnQHD00eTocQp/NiklZRzh0bRctm8eBSPVfcNplxvSJatuyeoiiKoiiKoiiKoiiKopymE30/UDlLGja/yfSnv2Jn6P081zUE/39MqAC40Lp1CK1LQnDUt3DxcuVfoCew6zju7jruX9qfgbTvXuXrws5MvKEz7YJUQkVRjJk/8vaiTCIG30GPhNYqoaIoiqIoiqIoiqIoiqKcdeqhh39VHX98s4SdhRXU11RRY7ZhPdlzQnXb+eKHUjr2bk+Aj6s6YRcjWwl/v/8QD39t5bJpU7isYytOdYUxRfnfYqNs6+c89cSXVHSfxE2X96Sdp7ooFEVRFEVRFEVRFEVRlLNPPanyr9Kh1zug1YBp23s8+JgjTz9xJ1d2CcP9qAXg7Q0FbF+9kA/m/UDV8Bm80DOCAPU17IuSvTabIq/xPPtmV+LCfTgHJSMU5fxiryO3xIMRj8yhU0I7Ak76xJ+iKIqiKIqiKIqiKIqinBmqpsq/zJLxDQ9NeYwvNmZTYwG0zviFRxMdGYq/hyNibqSqJJfM9DwMQQOZOvt5pl/ZkaDzpMixoiiKoiiKoiiKoiiKoiiKolysVFLlHLCVbef7D97mg69+5O/0Mhoth0+Bg2dr2nfrx+hrp3Dz+D5E+brgoLIpiqIoiqIoiqIoiqIoiqIoinLOqaTKOWWmpiCLzPwy6m2OePmF0DoiGE8nPTqVSFEURVEURVEURVEURVEURVGU84pKqiiKoiiKoiiKoiiKoiiKoiiKorSAqu6rKIqiKIqiKIqiKIqiKIqiKIrSAiqpoiiKoiiKoiiKoiiKoiiKoiiK0gIqqaIoiqIoiqIoiqIoiqIoiqIoitICKqmiKIqiKIqiKIqiKIqiKIqiKIrSAiqpoiiKoiiKoiiKoiiKoiiKoiiK0gIqqaIoiqIoiqIoiqIoiqIoiqIoitICKqmiKIqiXKTslP/8IpMGxBEcFERQUBBBoZcw9cP1pNXKGd2TZfuH3D26K60P7ie4LWOfX8XOYtsZ3Y+iKIqiKIqiKIqiKIpydjmc6wAURVEU5Vyxm+qpMfrRZcwoesaF4q71Iq5rOH5OZ3Y/2uCujL7+DqIG1WEzpbJ6we9YG01Y7Wd2P4qiKIqiKIqiKIqiKMrZpZIqLWCoyGD/ju3sSC7G4upPeEIPenRojY+LHi028jesJC2gF90i/fF01JzrcM8NSyVpG9ey6pdcWl1/A0Ojg/DUneugFADsjRTu/oOfVuzFZdhVDOvUBv+LtZ+eDXYDRXs28PPKvbgOG8uQDhH4qfb9d1iqSd+8mlW/bGB7WglGBy9adRzElWOH0iXSH9cWjkEa59b0GHsjd47qQvBZGrd0Id0YNakbowB79SrqNu9j33nUTSzV6WxevYpfNmwnrcSIg1crOg66krFDuxDp78qZbxY7lTt/4LMFa8nx7Mt1142gaxsf1KVzjjTuY9mHX/DDH8lUaxxxcnLG2VGPTgc2qwWzyYjJZMbu14Prbr2OkT0icT+XzzpfaPFeVBrZt+xDFi1fz84y0Ds54uzshKODDuxWLGYTJpMJk82HLmNv5Nqx/Yn1VCdHURRFURRFUZQLi0qq/ANbxTa+mjOblz9bR0q5AbuDE44aM2arFvewRPoMH8HAaBsbFy1BP3khc2/2u6iSKpbCraz4cRVr1q7j9z+TSCupxaTpxRODrqB/u0DQXTxtcd6xV7B39XJ+XLmSn9esZ1tGCXW2eO6IHECfxDbnOroLn72alN+Xs2zZClat/p2t6SXU2RK5q21/eidE4Heu47sImHN/5b3nX2ZpVTv6XRpDmC6JBSuXsODLj/jg69uY++ZjXNunLR5qGDoJM7m/vsfzLy+lql0/Lo0JQ5e0gJVLFvDlRx/w9W1zefOxa+nT1oMz2pTGLXz56lze+HYjedYfyHXw4blbh5PopyZXzwm9H1Hd+jPCqx1lxTv46ZvlrNiRS504EdxlKCOH96NXpD9eIe3pGOGHy7k+TRdavBcVPX5R3egz3ItWpaXsXbeE5Us3k1FtxzEgkf7DL2Nw3ygCfIKJ6dqOIFd1chRFURRFURRFufCopMoJ2EvX8tyUu5i3NgNL9HhmzZvOjSM6E+ZQQ+auv/ll/n/578L/8EulCTsOXFJUjcliQ9Ce2Ymn85jYtHhEdqFf33x2btyB2DgvepS9YiOfvvIuv2qGcN+0K+ga4X0+hPXvEhsa1yCiYsJYv0awW+xcNB3zX2EH5yDaxYTg8suB9lXzQv8ae20Snzw/m7c2hXLP6/cweVB7POr6Ef7og8xZsIGsvUnsyitluKUtHo7nOtrzmZ3apE94fvZbbAq9h9fvmcyg9h7U9Qvn0QfnsGBDFnuTdpFXOhxLWw/OaFOKDbtNEAFEsB38t3Ju6IOI7zuK+L6AYRNk7GX33lwavPox+bGnuX9Cz7P2FNdpudDivajoCYrvy/D4voCRJJcSUnduJ6PWnZ7X3seMR6cwsNVF91eZoiiKoiiKoij/Y9SnmuOxV/DLa8/x+V+ZVHkOZ847c7i9Vxu89RogkNjeVxLbexgjLnuZhx9/h9Up1VSVl2CxWgD9uY7+X+PYuitDWneFwVGUb9hAWlk1JdZzHZWNtB8+4INFi9nh68W4iYPpFO6Nw8WWUNAFEt9vBPF9OiMpW0gpKCGj/lwH9T9E60ts72HE9uyAbf+B9m0410GdIruB+kYNjk6OOOovpIyQjZyV81m8fjdVrfoT6euDuxa0Xl2Z/NSzaIK+YZu2F9f2iCFUJVT+mS2HlfMXs353Fa36R+Lr444WLV5dJ/PUsxqCvtmGtte19IgJPbMJFQCXntww/UEsIWvI8ujHpKt7EKOeUjkvWHLSyCwoocKiwT02kfZhofifxwmKCy3ei4o1n6ycPApLzWhc2xEXE0F4kProoSiKoiiKoijKhU99sjkOe/kafliTQXmNDc+RQxkY7oOn/uhZeVeir5jFe3ojk+7+kP3l5ZgsFoSL8IEAjQcebjp0OuBcJ1VspezckUZltZHQPvGEeXle3Gv0a51xdtahU3OVZ8cF2752yje8z1tJbRgxcjC9Yj0vnHHLksH69TvILqjDKcYdRwf9odj1rQdw27MDuO2cBnjhsGSsZ/2ObArqnIhxd8Th0H1OT+sBt/HsgLPZkjoCuk/k0e4Tz+I+lFNnoyQljeyiMhrEkU6xMYQFBZzHfyxeaPFeXGxlGWRm51FUL+jbt6NdeBjBF893jxRFURRFURRF+R92fk0F2irZ++Pr3DnuAT7bm0+N/dyEYU1LIaO2EdNJlyLREnLZg9wzOgZ3cxUNFivnKORzS6NBc77MyDbuYXdqBdUGL+I7xuHj5X7hTBYryr/EkrOCN17/nF925GO4wJZcstelkZZbTlX9gSXt1AV+muzUpaWRW16FakrlEHsdqakZFJZUg641MbGtCQw6jx/5utDivajYqc/IICuvkArREto2iojQMJzPdViKoiiKoiiKoihnwPmRVLFVk7ziDaYN60G/ax7lw3WpVBhsnKu5PjEaMdoFO0LtlnWsz6+m1nqCaLTBjLhqGJFaM5UmC5YLbILyf415/072lVZTp29Ppw7+eHmeH11cUc4bDXv4au5/WPTrPsrN5zqYU2crK6ey3oDxXAdywbNRVl5JvUG1pNKMKZWU9EJKKmxoAqOJjQwm2O08vo9eaPFeVMxkZWaRm1+CTRNAZFQkYWEe58kHD0VRFEVRFEVRlP+fc79CgiGNNd/8SpbGl7atfXHdlkvNOU5M6IJCCHTSoweMZT/xyqzPiX3nHoZE+eF8nE+Dbj2v5MbBaQR5OP7jN32tdQWkp2SSV27EwSuEqPgoQjyccfjHT5h26vIyqHANJcTbFSedBux1FOzfR1qJGY/WccRF+OLqqDti33ZDGVlp6eSUmvFqm0h8ax9c/rFugpnyjAJsISH4ujij11ipzU8jJaOQBsdA2sZHE3rSWE+BtY7C9H2kFVtwD4shLsLvmGM4dTZydu+joKoOe7uOdAr2wvv/1cNt1OYVYfT1w9vVBUdrNbnJKeQZvWkbF0GghzO6o15fX5RJWmYupY1a3IMiaR8Virer40kmEcxUZuVj8gvC18MNJw2YK7NJTs2i3OJDZHwMYT6uOJ607W3Ul2STkZFDmcWD8Lj2RPif6jFbqCnIJDM7n3KTI14hbYltE4ini/7k58ZeT0FWJU6BAXi7u+CgAXt9EanJaRQZXAiNjiMiwB1n3RE9FUNFLhnp2ZQY3Qhv355wf3ec/p/9zFJbSFZmHhUmR/xatyM80APnf7WwTtO5SM/Ip1bjS5vYKEK8XThZ6ZLTj9tGfXEmyemFGJ2DaBfbhgB352NrCRmyWD53Nv/9/m8yam20bcGWLXXF5GblUWbQ4R0WSXiQF65npAaLhdqiHLKym7btEdSG6DbBeLud5HoxGTHabNhUAruZ02tLk9GIzXYmv8Bgoa44l6y8Mgw6b8Iiwwnycj15v6/Op9TsiZeXB+5OZ+k6tTVQmp1KekE9Dv6RxLQJwsu1BePaecZSU0BuqRkX/yACfVzP+B9xlpxU0vKKKLNo8IiKJSYkCN/zuD7JhRbvRcWaT0ZmDvnFZjTubYiKakVYgDo5iqIoiqIoiqL8bzj3SRWXaIbeHA1AnecWFv6aQlH1uQ3JIXYA/WLfZUNmKUaTjZK1zzNlcjFzXp/B1d3C8Di6voprd26a3v0EW7NRvv1b3n59Hgs3m2jdKYFwt3pS/vqVnWXedL/2CZ6fcQ3dQ5vX/rBRl7ud335eztLFS1j1l4Hhb33H8+MiqFn7Ni++/D4/bs+n1mQHBx8Sr57JvDmT6d3aG4ea3Xz/5su88clytuXVYLIDDgFccusc5s28mi4hHjQP31S6m1+XfsvCBYtYub89Tyz/D+P1m/nw+Vf4ZNUeiurNCKD3S2T0tFk8c+9I4gPcTrPwu42KHd8x77W3+PLn3ZQ0GjEaLNjEicDOo5k642nuGZFAgJtDCye6jBTu2siOjBJqTQIY2Ll8M/kVBjxDTaSsX8OSVBc0WjciuvamQ4Qf7sfUxjlOlHW5bFvzA4u+ms/3f/kw5YvXmRKRwadPzOa9n3ZR3OhIzI1v8PXsa+kW6Qm2SnYv+5A3533FhpoA2rdvg5cpk81/7KDYJZGx02fz5KQ+tPVzbnZcZirSNrNu1Y/8sGQZa3YGccvXb3FvL0e2vfcCL723jG15NZjt4BjYnRtmvsqMSb2J9Dle4s5GxY5vmffqm3zxazEurVrhp6kguwjirryN7iW1WE7alIVs+u593np/EX+WuBAS6oOuJov9qSVY/eIZfN09PHjnlVwS4XNkYtFWT8HuDaxesZTFS1byZ21fnvv0WSYlWvnr41eZ++5iNmVVYrCBzjuOsY++zgu3DSKv4uDBAAAgAElEQVQmwJHafT/y/uv/5aMfNpFZ2YhNQOfXhRtmv87M6y89wbGe5NyVbmb+ay8x76cS/OPiaeNpJGdnErmaQHw1rRn76gyu7x2HV/pKPvr0c75a/CfpZfVYREvENa/z0ZMT6N7GHU39dhb+91O+X7maTRml1BptoA1l7JxPmHltD9qe8AkoO7V7FvPCW6/z0dJt5NaYsAN63ziG3PQoTz8wju7h3sfU+Wlp3EFHzUfZKnez7MM3mff5CpLya2k0GrFY7TgFJDJs8qPMuOdyurTywlED9sqNfPDEE8xduIHM2qbiR1nfPcoVP87AQadB2+YqXnzjcSb1j8FTC7byJL6dN5d5y7JxaRNHWz8rhXt3kGP1xlMbwZjZ07lhaFdanepdxFTMtmWf8s57X/Nbngb/YD+cGvJISSvC6BlNvwl3cv+d4+kTHYDrweM1b2LenU/w9rIkikwmDEYTZgTTitlMWPsiDgcSdR79HuL956ZyWecgztjUnaWM7Su/YfHqnVR4dGDUNVfRPzEMTz2AiZI9v/PTqjX8vTuPajxp03U4V40dRMdw3+Mm4c+o02hL86Z53PnE2yxLKsJkMmA0mUFMrJg9gbUvOtDUlB70e+h9npt6GZ2P7nTHZaM86VvmzZ3HsmwX2sS1xc9ayN4dOVi9PdFGjGH29BsY2rXVoT867IZi9m1YxeJvFvH9qt0E3vQ2L91zOd1DdYe2mfXNkzzwytf8kV538sSP6yXcNW8Od4/pRtih1Z9sVO//mc/fmccnP2wiq6oeo8mC1eaIX9wgJj34OPeN70VbX6dTHGusVOxezZIlP7GlyInYoVcxbnBXIn2admwqS+bvNav4ZcNOcmo0eLW5hJHjxtC/YzheB+tJGEvYvX4Nq3/7mz251YhnJN1HjOXyfh0I9z7+8lWN+xbx7BPP8+GqNJz63c2c5+7n6t7huJyxzJCN4uSD9Umc6BQTR0hQwJm7ls64Cy3ei4utNJ3MrKZ6Ko7t2xLdKoyQc/+pQ1EURVEURVEU5cyQ80j90vukW2tP0XqMlFe3ZEuV7VxFYpOKdbPksig/cQThwI+DbyeZ+NwS2V3WIBZ7S7ZjlYIVT8rwKF9xbXutvL8xV2oPvNFaskIeGRAp3noXibvtC9lRWC9Nh9sgWz9/Uu4Y30va+riIAwi6CLnhjY/kmZsHSceOPWXI+Fvl3numyMgOQeKu1wgad+n1+ArZ/utHcs+QLtJ9yAS59YHH5PHpt8qIxAOv0QbIyLnrJbPKInYRkcYt8uG9oyXB30UcNE3Hp/EcIU++MkX6xQaJf2i0dOzWWaKCPcRJd6ANNO6ScNsnsqWwTixHNFeBfDGlg4S6ITj0kifWpkqZ+egGapTkhffJoA495OqZC2RjdrWYrCap2LtEnhwZJX7OGtG4RMnEtzZITrVZWta82bL85bvkulFDZPDgwTK4bwdp5e0iDlpXCY2/RC4dMLjp/4dNlNnf75b8un/eqq16q3z59E3SN9JXXA4es8sAmfHFq3LH6G4SFegmjnqtAKLrME1+S8oVsRbJ6uevko5B7tLmqtdlTUqlNB26VUpXz5IxCQHi5BItN767QTKrrQd2VCp/fjJT7hjVUcK8nEQLgr63TP9grtxzVQ+JT+guQ8deLWMHJEqIZ9PvNd595fElu6TIcGy7pn37iIyIDZI2Ax6Qz/7OlRqzXURsUrP/B5k5tpOEejiIRoOgS5Q7vt4iOY1HbsNa8pfMm9Jbwv3byYgnF0pSUb1YD2w7Z93rcmOPVuLhoBPvzjfLm+sypNJ04P2NO2Th8/fJtX1iJMBdLxoQXeur5YW3ZsvUUZdI5x4DZezku+XuW8ZI19be4qRBNG7d5P6FG2TN54/K5b16yKArb5Z7H31cHrp9jHRt1fQard8QeWblHik1tagXHFa3VebdcIm0TZwob6xLk8oDndRWu1c+u6u/tPXvJdOX7pAC08E3mGTXvOulWysX0aCTyBs+kL8za4/se6Zk+WhKDwl31wi6VjLhrQ2SVt18YKqSZY8MkBgfjeDQQW586CYZ2ClMPN18JKRVmPh7OItec3AMcZI2Y16QFfvLxNh8J6ccdxND2mJ5fMwl0mvco/LJb2lSYbCIqTJZlj83XjqGuIpW4yKR416Wn5LLxWQXEXOtlOZnyb7502VYQoBo0EnEFbPki5+SJDklRVIzC6WqwdQ0DtXvkI/vHChxiWPlhWW7pNR8IKa6FFn4yEiJD75Epn35p2QaT+0UWcs2y8d3D5HooEgZ/MDHsiGn5sBY0ij569+ROwa0E2+9TrwSJ8qcH/dK6aH+3iiVhbmSkZIie5fOlqu6hYkTWvEb+KB8uGyj7E9JkZSUVEnLK5d6g+XEARzDJiVLn5DR/SfKzGVJUmQ9+tfVsvnte+W26XPkixXfyQvX95bYztfK3FX7pKx0u3w9c4pcc9P9MueLn2XLvmRJWj5Hru/ZViJ63y0f/ZkltSe4h9mqVsrMK/rIhCeXyNaCo3faMqfdlo2VUpibISkpe2Xp7KukW5iToPWTgQ9+KMs27peUlBRJSU2TvPJ6aWlT1u/4WO4cGCeJY1+QZbtKpam72KQuZaE8MjJegi+ZJl/+mSlGERFzmqx64365omOoeDlpD9xb3KTfY0tkyxFtYZbkz+6SIf0uk6lzv5W/UnKlqLRMysvLm35y18mr1/eUCFeNoHGR+JvflnWpNXK4yY2SueJZmdjvUrn8vrflp70l0mA2SVXaLzL3xp4S4aEVjXO4jJr5nWwvMrTsnnPwuHZ8Jk/eM12eefdbWTjnFhmY0FGunPWtbCsqld2LX5Jpk26Qu575WFZs3CPJO36SN24fJO3b9pDb3lwtKdUWKdv2tcy+80aZ8tBcmf/LVtm392/5esYE6dYmSoY+/IX8ldt4nHjMsv2ju2VolEtTmzl3kzs+WicZ5hYH3oJDq5Q1r1wvvUJ0otFFy8RXl8vuE3Xi88GFFu9FxSbV69+WaYPCRafRSeQVM2Xh1mpRZ0dRFEVRFEVRlP8VF2xSpbE0W3JK68RoOVsf0ZqSAAPbeDWbFEXAQfw6jJenFiZJUd1JJv8bfpOZQ9qJr14jzoOel78yK+TwlJFZtswZJTH+jqL1HimvbsyWqiPm1mrl58f6SaS3TsBR3IK7yQ2v/SQplYZD2zBnfiZTuoSKm1YjusBoiYkZKA/N3yyFzeKypL4vkxJDxEWjEedeT8rq1DJpnu8w58yXW7uGibsWwcFVfONGyqOfbZCcWmPTh9+GdFk+6wpp7+/cNPnvECGTPtwq+bXNgj1pUsUmZWtnyYiYNjLgyRWSUmY8ot3q/3pBRsY0JbC0wWPlzY05Un0a84ymv16WsR2Dxcm9vzy1ao8Un8rc6oE4bWIXc+4iua9/lHhrERyjpHOfEfLgl+slozhd1vznNhkQFyW97/5MduTUSuOfc2Rcx2Bx1DhL3yd/kt3Nd2reLv+d2FXCnLXiNeQZ+WVv6ZHJKPN++eDmHhLuphG0nuLbuqNMnPOD7CppaDrHtgr5/YVx0iHIScBB4m//QrbkNDRrO5tU/PaCjOsYLB4xN8i7GzKl5qh2M6d9LlMvjRQP7QmSKoZk+eLO/tLWy10SbvtUNmXXHTXpYZOy316QsR2CxUmjEc9ud8uXW/KkvvmL6n6VZ0YnSqAewdFVAjtdI88v2Skl9QeP1iw5C++R/u28RKvRSUDbKIkecJ98+FumVB1KnFgl4/Op0jvSQzQaJ+n+4GLZXmA8hYlOqxR9e7/0j/KX9lM+k81Z9Ue815z+uUztP06e+D5J8polphp/mSFD2/uL9kRJFTHIb8+MlIRAh5MnVTTu4hXaUcY//aVszKsRk13EWpUsP75wjXQNdRcdCBof6fv4Ytl1aBL39OK2VfwhcyZ0luh+D8qipHw5Ik/WsEVev6aLhDprBG2gjHpptSSXH+55hnUvyLiuwaJFJ+2ue0vW7q856pitUrJshozuECQxx/m9OWuRTB91tTz06R+S3nAKiS9jmix6eKTE+7pL7PVvydrkoyfYbFLx53/khl6txUWjEY+Ot8i7v6Yf26e3zpPJl0aIM1oJHPmsLN9RKqeXlmja5z8lVazZi+Tx+16SBb+nSq3dKOtfuUYuCfOQbjdNl8kTb5PH31kle0ub9VNbuSyfMUY6BvjKoCcWy7bC4w9C/++kyhlpS7NsnTdZLo1wFrSBMvLZ5bKj9DRisZbIshmjpUNQjFz31lrZX3NEb5GsRdNl1NUPyad/pEvDgYSz1WoXuylXvnt0hMT7ak+YVNn70QPy0OuL5a/so5Me9bLzw6nSv527aNCIS/ubZN66VDl8adqk8u83ZXKfeOlz50eyPuPI66px+7tya9824qpBtP5D5anFSVLU0uSENU+WvfC4vPTJStldbRPjxrfltgFtxKPj1XLnTdfLtMf+I99vK2x2Tdqk8peX5LqeoeLb7355/eUn5dGHZsn7P+2Ximb7tKR8LQ+PThCfNlfKc0uSpOKYP21sUvbra3LTpa3EEY24xF0rr6zYc2a/fNK4Sd6ZOkgiHRFt6CiZ+e1WOZ0u8a+50OK9qDTK9s8fltExToI2SAZP/0TWF6qToyiKoiiKoijK/44Lsl5kw8a5XDfwEuKi+vLIkhRKGs/G4vouxE58jQVfzWFKn3A8D63XY6Vi9/c8f/1ghk55heX7m5Y2Oh5bRRY5pY2YLIK1roYaS/M6AFp8fLzQO+iw1+eSXdj0uub7DwsLwMVRD2jpdNtcZt00mGifw3U89BGjGN49EG/XpuLNEZOf4a5RnQl2P7xOvEPkIPol+uLlLJiSd7K7toHmzaUPiSM2xB1nB0ATzY0vv870iZcS7uHUtBa/aztGPz2P2Vd3IsxDB9Zcfpy/nNTSaiwtbXbTLr58axHb6zsyblwiQUctteLWbTgDovzwdAR78RqWrM6hssbawo0fZCF91x7yq+qQqE50DPLC65TXANGiRYM+OJH24d54OGvAUoZbn6lMHtKdyKB2DHngQ37bn8Zf826mU7grlbl5lNQ3YhEr9bW1mC3Ww8vUaL3w9nJErxfqC3IpamjE1LzN9KGEBLni7ARoPOhz72s8e/soOgS6Np1jrS+9Lx9Kh9YBuGisZO1Ppry2jkPdrX4TH7/5DRvTGug8YSJ9o8LwPOqY9ZGDGNAphAD3460PYyN36dt8tHonufYuXDmuOxGh7kfVYNDi3+9WpoxMpI2Pjtqkz3lrwSbSi42Hj9MlhFB/V5wdNaBJ5MZnnmDKqA4Euh1c50NPq6GD6RoWgCc2yivCmPjI7Vzeuw3eh64rHRF9e5MY5IcbZtL27KWqpgVL/jQ7lvTUDKrq6qgoLaHeZMR+RDtcxoiewfg4CfZmv9DoHNBpNP+w9I8Wnd4BraYl6+vo6DT5eWbdfQ09WjUt56fzjmXM42/x8u0DiQtwBKni768XsT6jgFr76cZtZu+iD/lucxntRoyhY+vgI5f/ce3IoD4xBPs5gb2U31esI72onJbXpLeRlZFFRXUNleVl1BkMNB/i9OGDGNwjnGB3wWY/4UaO2WbBqk/44qfNpJoTGTnmEqIjvY7pa769rueGkd2JDXCgbvciPvxmPbtzG89gzY9TYSNrwzZs7doTEd4ad2mgtq4Rk6mBHd8uparTFVw3YTDtA5qNZ1p3vL1dcXJsJCs9h8rqelrcRKcQ13nVlrYsMrIqqK6ppLysDsMRN0Q94YMG0yM8GHexHWgLHTqdBo1jMHHRrQnwdj7h9WfThhLbPgz/o+4Zht0LeWf+WpIy6xGXOCbcPZlhXdvhdbARzCks/XIxf+YEM+CyLrQLdzvi/S4JfekZ15pgF7CX/8Xq35PJKWrZFWLN+pMtjf60at2Odp5gqK+j0WiiYe+P/FTWhv7jJjK6S0iza1KLq6cnbs6ONOz8iv98V0yrweOZMDQOX/3h7Wq9vfB0dUZfmEVWcQUVx6zZqMV/4DRefPtj5n+xgKULXuG2oQl4n8G/4izZKYfqk3i2iyUmJLAF9UmslO/7nV837ib72KDPqlOL105D0X7+/HE+H7z7Pp8tWsGGPXlUNZ7q3xpKi1iySc/MJk/VU1EURVEURVEU5X/UBbi6sY2SPTvJqGzAUJtM0u4S6gdHE+R6Ng7FgeBL7+T9lcMY/8krPP/GN2zKrcZsB2zV7P3uaa7dsZWn3prLHQPb4nvUAvq60OFcP+lX8pcVEDV5HIlB3kfUM+HgZK7UU1tnwWoTaDb14+DggEajATS4ubvhoDuqkLvWk6BAT5z0WtC44BvgiaP+qNc4+OHv7YiDgwapL6Go3ITZKhwu6uCAg06DRgMa5zDCw1xwOrrgg641Y2+fwPx1mZSmlFG37Q82ltxE5zZ++LTgM3Ljn9+xdFcpNV6daNy+gd+KPDmiVjkGGh0ErYMGzI3sSdpFdX0n7L6eJynw3oytlJ27MqiqMdN6YCfCvb057XrHWj16Rx1aDeCYSP+B0QQGHG/iT0fwwKu5Zng2urQgJoztQnjzCVY0HJqub6in3mzFesQpPtz24E5AkBdOTkf2Y11QIIEuzjgB9bXV1JjNWAUcNHaKV3/Pqt25lEkCN/aOwM/3OOvw6zzwcNfjcLzzZNnH8mV/k1lYC9Ed6BjshdfxLiNtEINH9KPdip1kVJaxbdkytl3TlXYhkTTlanToHA4ch9YFNzf9oRoXhzbhEUCApwtODqBx8cXf0wmnowrz6Hx98XJyRI9QV1ZChdGIWcC5hefRUe+ITiuUrfmA/34fT9DUocT5Ozf1IW0A/caPxc8nBLezNa+jDSehQyjenkcVv9YGMuiWSQxcu5+8igxqCzawLqmI4QmReHmfRtyGTfy4agf5ZW60Nuxl84YG0o9qS0ONYNPq0WDEkLyLvRU1dLcFH1OT5fg06PWO6LRQ8fsXvPd9PK2CL6dLiOuBmPzoPWYM3q4RLU9cWlL55ae/Sc6qhIj2JIT64ac/zuu0AfQdfCmxKzazt7SAnT+tYutVPUmMaH94wvzfYstl83Yj/j19CQx0QmPZSXpWOVV1WsJGTeWOKy4lPuCouj/2Oqqq6zGabOh0OjSasxD0+daWmgPjJRX8/sV7fB/fiuDLuxDi2rQTrV9vxozxxjXC65haFw56PRqtFo6b6tHTYcojdDj6vw17WPjufNYmZVEvLrSfcDeTh3UlqtlBGZJ+Zs22DAqcOmBM287GVYVH3nsxUm6yonXSQqORtL3JlFZUYQs/WS0e2/+xd9/RUVRvA8e/u5vee++9QEIHpYqCoigqKir42hUUe8OKBUXlZ0VFFOwVG4KKAiKKCtKTQEJ6771unbnvHwkSQgIJhKLezzmeI5vd2Tt37szu3mfu81CWmoHJOQyvgADsNGYy8ouorGlA6z+Rq669kIlD/bt89qg0NzTQ3KbHbHBj5PQLmXBa4iGT/2p9A01tegxaO3RWWrTdHiN7AgdN5tJBh23kUVKoyMymoLyKVmHL4Lg4/H19euwP1dBIWdY2Nnz7Acs+WkvVgNt57tEgQjzde/+5fYLaqzZl89PyV1i+rgibkHiifTVUr/+AZzbnYomYwq0P3sOsiYn49l9xmv88pSKTvPyS9noqiVG9qqdiqUrll9+yMAYkMWp4DF7dXdckSZIkSZIkSZJOEf/AoIqOsAvncnumjp/r45l55QD83Y7zbjhHMvmOpYyfPov3npvP8x//SUG9ERVBW85KHru2GdPyN5k7MRLPzjPAugAmzXufSfO6bE9pJPu3b1i+ahcVTSYQZgxGFdHnW5o12NnZout+9qWDPfZ2OnRaAAN6vXrQnfq9ZTNgAqMj32ZzfjVGfT6ZuS3ok1XcHY80fWJiz5btlDW2oKibef/ldOxsdN0EKBwJiEkmALBysGASCqqgPbDRG82ppGbW0aB3Z/SgaNzdHPpc5LxbWiusrDQ9tkPnN547loznji6PK015bP7ufVZtK6RWLxCORoyq2ue71rU2tlhrtWgAoSqoqmifflTr2frHDkprGhE+YYR5OPQ5WKAU72BXXg0NBoG1uyeetrZdJh4PcBoylIG+HmzJqKauYDc7CuqZlByGU28jHthhZ6vrYaJw/1PssbXSodOAMBrQW5Q+9JcNCacPJ+yjP0kvz+Xbx65k76/XcP8jd3LJiDDcbbV4jZzMuF5v7yhoNGi0GrobeLrACYwb5M9PaXk0NVaQlVFCY7MR4Wbf53abMnawu6SWBksr2z5bQs5q2y5Byo7meEaS7AnonMAiMFsE3T7xENbEDh9MRMAGdhQW8OPCG8j84wrufPAurhgbi7e9Fo+hExjdh65RylJIzaugpk1g5eqBu50dXWO3+zkmJZMY4MNGXSmVxXtIKaim2hCHq8MJnvBUmtBFn87I6FD87DWY96WTXlJNvYhjxnmnERPucegHqCmXnII6GlrsCAsJxNXZod8nmE+5vrSOZfjgCAI27KCw4EcW3pDJH1fcyYN3XcHYWG/stR4MndCX0XI4etJXLOHD9TvJa1axj7+EW6+ZxNCozit1zGSnpFFUVYu5dhcrlxfxs71Vt58HTqFJDAoFnZsOIcwc+RRRadFFMHRINFHBDmgsuWRmFVFebSFq6iROS4zD+9BBQX5+EVU1jdgNvJDJIxKIce86KlTq8/MprqpB7zmCQA+3o1hpeYzUJrKycimvbARdJNFxgfj4djOrrZazbvECXv9yO81+gxnkXIvBYm6/2eRUbK+lmLVvvMqqxnhueOlJzoz1wBpAbWHflwuZt+BtnphbR/Oix5kzbTDdbULqK5WmrCzyi0upEzpCI6IIDgikm9s+Or2kmV2r3+GF579Hd8njeMdG4eX5j1xML0mSJEmSJEnSf8Q/MKgCWq9R3LhoFDee4Pe1DRrLzYtXc8ZZz3Hvg0tYl1mDQQVLxc8seuhVBnz2MOfG+tLTzY6W2r2s+/x9Pvg2BXPUOEYG++Jkn0+N4Tg3/O/URQJViKNL/2IdTUyEMw52GmhuprHRjKWHtGcHURvJL6ikzWjBaeI9fLz4agaHdE1Vc+wMe1NIr2qg2TaepERPXJ1Pxo9xhbrMjXzz0Qd8s72FwJHD8PF2xcm2nNb+fitLBnuzamlsUcHfGRcba6z6OE+qlJZS3tqGQYCVKhDiMCPDIYywAGcc7TTUGaopr2jFYOjDMpJe+nuoqurfhYx6y+m0G7hr5k4Kqr8jpbyZnLWLmf3n93x+9X08cvcMRoW5Y3ey5mh0XsTEBOHqZIum0UxjXR0GkwmBfR/brdJcWNSecs7xNG556yVuHB+HVz/vl+OwWcy5cje5ZSvYUthC/sa3uWvbWr66/A7m3TOT8bE+OPThPZXyciqbWmgToBXq4ceafTAh/q4422uobKulsrKFtjYVHE7wLLNNMjNuTu74h0Jpegb5VXUYgyaTFOaNVzdj35ydwp6iSmpFFFMTffHy7P82n3p96ciwWXO4cncuZSu2UNiSz8a372Lb2q+4/I553DNzPLE+/RNcMmR8yZIP1rMjtwnVLo7pt1zNpKGRB6+8UZspKa2isdmIw7DreHHRrUwd4n+EFSi9ZU3CtP8jYf9blWeRnV9GtT6A0xPC8PfrJphvKSQ7p5iKWoWQ0+MI8vU9dHJZbSEjI4uS8gaco+KI9vPlkLjL8WbMJiunjIpaBa1fNPFhfvh1d9OE1p9Jd7zOpDsAVKp+eIbi1F3UnODm9ra9bbu+Z/XuOqxOiyTC2+nAl16tE3EXXcPlO1LJWfoTn389nhEJUZyT4HyCVtr8mxnJzsqhuLQKReNNRFQ4QYFH6FdzHvsycylq8WdiaAABJ3xpoiRJkiRJkiRJUt/IXy195kjMtMf54KMFzBhyICVPa+onvLemkKqmQyMNSl0qXz39f4wfM5PXs6OYs3QFH786j4sHB+DU09KAU44d7u7OWOl0oLHBxlbbu1Ukaj11je2pzVrramm1WI5DjYH2eiplDU0QlUSSz9HUUzkWCvXpq3nhpkmcccX/2Ok9kxc++og3Hr2CUWFu2B6Ps6ytjromIyYLoCgoRxEss7S2oje3rwaxtDbTYrZ0qvnThdYdd1dbrK0ATBgNKmpvgmonktaLcfe8xpInrmF8hDs2GlBb8vj59Vs4f9LlPPLxVkqazCepPocWb29PbG3bp1N1Ot2BWi59aregoaEJk8mCaKunrtWE+XgcB60Hp815nlefms058d7YaUBtLeS35fdw6ZQZ3P/2r+TWm3rdl0pbGwazBQVQ2lppNbWvCuj+vd1wdbGjvatMmIwKyskue6A2k743m+raFtxiEon08sTpkPPaTP6uFPIqarBEJDEo1Afvo85B2LNTsS+1Hqcx5/lXeWr2OcR726FBpbXwN5bfcylTZtzP27/mUm86xjPPsI8vlrzP2h05NKl2xF5yK9dMHkZk14u9aKKx2YDRLGhrqKfFaOT4XKpUWrIyyS2rpNElkrgIP3y7mQhWq7PJLqigWu9HdGwovr7dBF706aSlF1JSY0vMgASCAnpOu3W8mPMzyS6uoMaswTkylijfkxDY6YPetVehsrCI0vQfePPZV/jo5xSqDyr5E0ZCXDiBPjryM/dRVlF1nMbKf4w5n8zs4vZ6Ks5hREYGEniEyL+lJI/8wlIa/COJDgrE9x95y5ckSZIkSZIkSf8lp/BP5pPDkrOK197bSF5162F+XGtxG3IjLzx7HaNC3dtTSYh6dv6VSmuzvtPzVOp2LufWC6Zyw+JsRjz+Hu88fT3jwlyx/QfW69Rq9tfNcMPT0xarXi2N0KDRggaBUpBNTrMeQ39HVZQq0vbkU99oJiTpGOup9JXaQOpH9zHjwutYtCuWO15bysJbJhPraX9cJ8VUkwlLx2oOmhtoMJow93HO0srREQdrK7SAqCylpFVPW0/b0NhiY9ORRk7jgpubLdanYkBQ58OoGxfz1bfLmX/lSIJdbEi9s4kAACAASURBVNAgaMlby4s3z+SeZb+SU9f7YED/0WBna4NVewfi6umFrY3tUbVb035CIZRi8vKaaGk9Tnl3dF4Mveo5Pv76PZ6+fjyRHrZoELQWbuSNO6/lntfWkFZp7FVf6hwcsLe2QgeoVeWUtbTS0uNYs8HGxqpjrDnj6mqH7Qk7oXtgyiQ9q4KaRhuiE+Pw9nQ79Pw257PlrwxKKgyEDxtFjL8/xyNj2analzqvoVz13Md8/d7TXD8+Eg9bDYhWCje+wZ3X3sNra9KoNB7tmWck66slfLB2OzmNKnax05l7zSSGRR5apwU0aDSa9s+cskIKG5poOi6niJmcrBxKKuuwiogl2t+X7hYmtWRnk1dRRZNzJHGRfvh1U1m+NW0Hu7MLqLROYMjgCIIDTnQOKoWKrP31SeyIiI3D38/7hAd2eq+37dXhEx1PZGgEUQkxhPl50XUxi5VOh1arRTWbMSt9STkp9USpyCK7oJzyFoFtSHuQxK+HIImqKlgsJiqzsskrrsI1LAJ/P180iop6cu6AkCRJkiRJkiRJ6hUZVOlCo6lky5KX+Wh7KXWHnQDS4jnuEs4d4IubLYCguakRpdNtwEr+5zw05wk+/quKyFmPMPuMeLxPdAqbfmOisakFi0VF6xFPUrgTjr2ZnNO64+5ig5VOg1K+hd9S62nSH37awly4na3ZdTQbezm90ZJKWlZ7PZWE5K71VFRMJgvqcfl1rlC08inufuo9NhYFMv2eG5g0OBiXE3CHpdbZFSe79pRfSnUeOZUttPQxqqILDiHAyR57DShVOWSXN9PS093kohW9wYxFBY1DGNERLjid6BoXR6CYTCiqikCHx4CLeOiDtfy84nluGBuOu60Goc/hqxde57u0QhpO+O3Igla9AbNFBV0wAwYG4ubaXuS8b+3W4ObmjK2NNSiVbN+cRnVty+EnAs3F7N6RTU11S69bq5jNKIqCQIdb3LncvXQ1a794hbmT4vC20yIM+ax+Yymrtu2jphcrH3SBgfi7OuGoAbUmn7yyBhoNPY01PXqDCYsCGvtgwsPccD10WcgJZc7bS0ZJNfVqOAnxfnh6HHqSm3P/ZHN6MeXGSEaNjiMwwBENYDaZsChKvwXyTr2+VDCbFRRFgM6NuHPvZunqtXzxylwmxXljpxUY8lfzxtJVbNtXw9EslDFlf82SD9ayLacR1S6W6XOvZdKwqO5XJGpccHWyw9ZGg1qVwvY95VQ2HOEzp3QPKdnlVLf04cJgKSQzu4iKagshMTEE+HhzaCjESG5WDmWVtViFxxLj74vXIW1uIWXbLrLyK7BOGMbQqFACbQDV3NGvvW/SUVObyMrMpbyqEXQhxMYF4ut72AoYJ1cf2uuYfBUvrN5Bxs+vcN3YcBw7f2ypNeQXllBdb8Q/PAI/L89ujqHUNypNWZnklldRJ3QERkYTHBiI7SHPs5Cz5lXunn4aQwYnM+a6Z/liey3lvy/jkavGMHT4BdyzdC37eowYS5IkSZIkSZIknVwyqNKFzj8Yf20aK97/hcKqlsOngtD54uu9/459LR7e3lhZ7f9JbmbXio/4Ja+SFuFHYlIwTo7WXdJ+/IN+LJpzyc5tps2owev08QzxdOldTQWtK3FxwTjZ24BSwOp3V5Je0UCPmWD0qSyb/wo/59fQJno3aW/K2MO+6gZabeNJ7lJPxbTnbe6Yt4xNGVWYe7W1PjCnsXLFRvYV1aP6xJEY7IbLibqj3iaKqDDX9sCGOZPNvxdQU9O3FRi64GEMjfHB3b59G9u2FVNb30N6LKWc0so2DAYNTsmnMczPA7dTKj5o4q/Fz/DOH+mU7p9g1roQffYdLFm5ggVXjCTYSYdSmcau7Doaul2S033vqYpy+LoVvaJQWlJOq96IVdgYxiX54uWkOYp2a3COjiLIxQk7jULxT5+wOq2Qqp4m1dGT/tGzvP7TXjLru3lOR9q4g/9iYufbL/Hehh3k7e8nrTMRE2/mpRWf8uz1ZxDlaoVanUFqTjU1LUcOfuoCBpEcE4CPkwYsOezaVUhldQ+rXNQKKqpbaNVrcEwczuBAX7xOaioYhcr99VQC4kkM9cLzkHoqJjJ++529heWYY0YzJj6YAEcNGHaw7NHn+fTXvdT00+T4KdeXpp28/dJ7bNiRx4HhEsHEm19ixafPcv0ZUbhaqVRnpJJTXUMvhkuX7efw9ZL3+XFrNo2KHbHTb+XaScOI6hJRUet28vOvqRRVagmPCMTd1QGNWsqGr35gZ1ZJz6vwDJl8+epSvtueQ73o/VcitTqLrLxyqvR+xMSG4tddWi9LMVlZRZRXK4TExRPo53vIpL3asJMtO/aRV2FP0sjhxIQHYoNK7cbXWPj6CjZkNPe6TUfNkEXm/vok/tHEhvnhe4oFzQ/ST+01Zm3gly17yTEOZPLZpzMwxkN+KT5mBrIycyirqEXR+BARFUZQoNOh5wZWRE25nZe/2Urq9s946v9GE+oznKuefI8NKWmk7vyOl2ZPJs7pFB6HkiRJkiRJkiT9p8nfj11ZBxHkZ0PNmudZtCqN0sPVYFAqqagyYjYL0PoyYvRAnFzs2/+m1pKVU0qrwQxqMw0Nli657FVaWtqwKCqgIkQ/hFj6Wtm7D8yZv/F7Th3NRHPhjDMJ9nLpZWoQa+LHjyHawwVbBHW/vsoTy34jp0Z/6N31+hy+evRePtGNZWK8bzcTl91RKNmXRXljK2pUEgM711NRylnz4W84xMfh59f/d6Cq9bnklzXRagS1pZFGs/ngwI3aSmubuf1OY/UIBaV71EOtFF0Io09LxNfLEQ16dn39Cb/lFNPYdeJWNWM270+jYcFiEfzdDF0M508bQ1SgGzr07F73ExnllXQ3P2/OSSGtuI4mNZBzLptCXLAPNscw13E8hqowZ7Jjewl1XQJDOo9hXDv7YoZH+mCL+aCVS1obW2x0WrQImurq0JtMB49LpZrS8gbaDAqgoqqd+q8vTOls31VMbZMjp19+GaPCAtk/V9TXdltHj2ZUjA+edhpE/Z+89dxy1qeVcehN9gbyv1vIwx/rGTAynsgwZwA0Oh1abXt6JL2+DbPl0HCjsOSQsruIquqDA3U6t0Fcee1FjE4MxK6jTUpvJsl1kUyeMpr4cC+sMLDn1w3sLex+otucv5f0wmrqLH5MnDaZgVGBB6XzE0KgdgSD1P64bh6J2kx6eg5VtS24xCQQ5eWBc9dPTlMam/7MoKhCJX7MWOKDA3DQQOuu30nXeeHp5t1/Qch+60uB+LvQvdrTlaYXBJacFHYXVVF9ULRch9ugK7n2otEkBtqB2YTJcnB6JSHUzv/oZttm8la+yXs/biW7QcEudjq3XjuZYVGHpv0ypv/KL7vyKGnSEDliGLGBvjhoBI3bPuSVd9ewNb/x0FUyxkLWvvwUH1UFkhgXTZhzby9qKs2ZmeSWV9LkFEFMpC8+3aT1Uqv3kZlfRlWbHzFxIfj52neZXFZp2rWV3VkFVDklM2pENOEB1qDWsXNHFVbOTngHOB70/JbSvfz1x1b2ltRzhEWfvWYuyCS7pJzqjvok0X7Hs56KnpLt3/PBkrf4clMWlW1934l+aa8+i1Xvr2DtLiOjZt/NDdNOJ9Kx++OvL9nO9x8s4a0vN5FV2daHFGFGynev4cMlb/L5xnQqWvsQWTWWs3vNhyx583M2plfQl5cey2uPfl87mAvIzC6hvNqMxjmUyMhAAjyPXE8lr7CMBr9IooIC8Tls4FelpWwf2/7cSlpBbb+dA5IkSZIkSZIkSX11SgVVFIvSu4md1n2seuEB7nzsXf4obqC3WaJ6xTqI4EAHbEQ+Xzx6D6+uy6Ra390vUpXaX79kzd5KGowanEdczTUTgvHZn1pFa4eDvXV7LntRz68rviS1vK69nojaRM661/jfJ1sprTeC2kpDnQHFIjAZjR2pgAQmowmlY9Kp+6CLwGQyowoBQk9bm4J6SF9YMJn2P66gKj3PQgp9CQUlbRi7LiNRyvj+7RXsLGsh5IoHmD0uBJ/Od4UKPQaD6HgPC2bTwRPPNskzmHlGOD7OOlBr+H3RdVw++wneWb+H0iYDrfUlpP64hHsumcbcHzyYcd3ZxPm50LsbqhUaG5swmhXcQ8LwdXTsmOxXqf39fVa1jOCsUXGEdpOup0eqGcv+QIRFT5tBwdLNGNPa2mNnbYVOA6LhT1Z+u5vC8vZJCLU5n43LXuGTP3Kp1AvUtkYaDGbMqunApL5qwGg6cMy6O8ZKaxv6jqLUWCyYheiY5NARcf4MzhkQipcNKEXfsPDxt/lxd3mnCRSFqi0f8uVveZQ3CVAryN5XQWPz/olyHf7n3cpNUwYR7maFMW0lH6/bR2Fdl0Ci2sDmld+zu7genwvvZvaUREI7TyCqJkwm9cB+dNupJkxmFaGCMLTRZlEOXQVmMWHen0ddVVHUvk7z6tn14xr2lFWi7/JCGy8v3O1tsPVIZFCcJ24d56kuPJwQFyfsNSp1v37Kx5syKWlqn3pVGtJZvegxPtpcSo3JCpQGSotqaWvrIdAqRPtxPeSPCqXff8y3O4vQjr2D+64cSYyPTafJ1T622yaRiy6ZQGywG1ao1G15jduumc2jS35gV2E9+pYGyvauZ/mDVzL91q/QTprB2YPC2Z8dR+vqiqudLTao1OTmUFrfgEGAUpvKn9uzKasxAgbSNqwntaD4kHod1p4euDvYYe8ex8AYH7xcevMxosN30vVcM3UU8V7WmNLX8MX6VDIru6yuUhvZ/sNaduZU4D5lDtdPHUZsl3xJwqDHYLGgIDDq27B0ExTqV6Z9pGeWU9toQ3RiAt6eHodM6Cv1xZRUNtKixjJyVCQB/nZolFJ+WZuLd2wMYeE+/RjU7a++FBj0BiwWBYQRfZuFo+5KQxob1qdSUNzSZfhb4+nhjoOdPe5xA4nx8aLzcDHojVgsCkKYMRnNKJaDX23O/5Yl765ha1Y9il0MF996LZO7S/ul1rF503aq21S0dvZYx57LBeMHEuVlDWo9O5Y9wM1z5vHyN1vJrW2lpbGCjI0f8Pi1l3PLR00MnXo2oxJ86X3Cq/Z6KqUVtVhFxBHr74f3IUGz9sBLzv5C9pHdFbJXqCgtp6a+GacBQxkcFoKfFRhzfuaPeneCQmOI+jtaoNK08z0euvZiJo07nXGXPsyHv+XResxRRYXyfVkUlFXRJmyJiInFz/f41VNp2/kxC+fdwZxbb2bmrPt486cuxeNPRHstFfz+9iJe/66YsGsXsOC2ixgR2DXg9XeD+XjhPO6Ycys3z5zFfW/+REovG2xI+YSF99/JnFtvYdbVD/LW2lRqevV91UDKJwu5/8453HrLLK5+8C3Wptb0MsBxDK89hn3dTynfR1ZBGVVtApuQSKICA/E/QpCkJjeP/OIq3MKjCQoKPMy1UqVp96csmD2ds8aezoTL7mfp2ux+OAckSZIkSZIkSZL67hQKqpgpLCqlzWhCmJpp1is93AGtUPzlczz64uu8uuB2Hn1/D2UNR5OlvScOBAX6YGdrjajfwov/dx5X3PcWG/PqMSgdv9yURjJXL+Smu95ic2EDVtGX8vTzsxkd7tnpLmAXRk0YRYCbMzoEjX8s4qrzpzHtgnMYm5TIWfMzGDp1PKG+rmhpZtOSO5l79WTOnPMuaSVNqGotmVmltOrNgIny4lL0xi6TZkop2Xm17XfRi2bSU/bR0NplBYgph7yiVgwmAUol+XkNGAw9/Eg2p/H2HbfxzAe/kt9oaJ/01hfw07NzeeTTvWjGPMzihy8gwc/poAkMtW4vGYXN6E2AWkpeXiOGztXodSFc8tCjXDEyDHcbDSj1pH39HDdOGkiQmwPOnsEkT7mF19KCmP38k1wxNBjXXhdBtyI0Nhpvl85tUmlOe58n3i5j6EVnMzzWl14teumg1OWQW95Eq0mAks/e1HIaGruZSHcexpjhwXi7WYFoYuvi2Vx28fmcd854Bg88kwf/Cmfc6dGEeOqgZQvvPHQ31549mZuXbCG7VgVjDrmFTbS0CRA1lBTVo2/rPJZVGvfsJae+iTYBamUB+XWt7H+K1utMbnvwBiYnB+KoU6jYuIjrLpjKjBvuYf6Tj3Hvdedy9ty1VFgs2DloQDTw27OXMHHM2dz94W6Km1SwieDS+c9y36UjCXGqZs3/HuHlr/6icP/+qs1kfLGABe9vxzjkHl6cfwWnRbgfNOmh1ueQW9ZIq1GAqYLSslb0XZa7KOV5FNS00GoB0ZzF3qw6mrrkATLlF1Lc1IoeUKuKKKxvo61Pp7ZAn/YRz7/+AzsKGjlQYkZP5sbf2VsJyddex5T4UDw6BovO/0zOPyOGQE9rRGsq79w+nfPOO4/zJo1h0MAzeXh3LNPPH0GMnx0a2tj6xhyuvOI6nvt+HxWtArAjINAXJwdbNGomP7z7Get3FNG4P9KrNJCxagG3Pb6CkvAbeeG5m5gQ583BWeL62m4dgRfcxf0zxxPvY4cGhYb073j5tvMYEuaJo4sHgQMmccOLW3G74jEe/b8xxHgeCOJYRw4gIcgHDxsw7f2cZ+fP57575zJz1hN8u7ecNhtrQGDI+ILFS7/lj321ndL1Gcj9Ywt7So3EXj6LKYNj8e1tvNI6lAvufYJ7Z00g2q2ODa8v4NXPfiGrtuO6praQteoFnn93E7Wxs3nmkWs4M9G7y0S3gdzsXCrrmlAQtOVnkVNdf+gKrX5kLsgkq6yWBhHOgAH+eHkeusM6Fx+83R1xdPfG18MRB2szRWvf40d9PMMGJRLl3s9T1P3Rl4ZcsnMrqWtSQLSRn5VDdX3j4VNe9kQYyPhiMUu//YN9tZ0+pwy5/LFlD6XGWC6fNYXBsb4HguVKFXmFFdQ3GQELpQX51DV1en9zAavefJcftmZRr9gRc/GtXDd5aKe0XypmQwPlWZtZ+co8nnpvO2VGa2zttKDz5+zZdzDr7MEEOWhAbSRr7Zvcd/FIorydcXH3J+GMq3nmFyvOvXse109Kwq8vqRstxeTkllBZqxISF0egb3dBMzN5OXmUVdZhHRFHjL9fN/VUdLh7euDs5IiHlzfOTk7QksG3n22DsAEMGhLFgexHCrm7dpKRX0SzqlC36y925BZQcVRff1QsZgOtjdUUpazhk5W/kJLXgNDYolOaaWquo6FFj7kfawHtf9+2qipqm1owCDAV/8mmvzLJrTrSqOvH9prL+X3pfBZ8WcqAOYt48d5LGBbYTeq2/e/cVkVVbRMt7Q3mz01/kZlb1YvzRKWlsoKqxkb0QmCpLqe8oZHm3pxgaguVFVU0NuoRwkJ1eTkNjc29OzeP4bVHu6+qxYyhtZHqohTWfLKSX1LyaBAabLUqbS0t1Na3oDdZULo7OGoreXn5FFdYExYVQmBAD8EtABTy01LYm5VLk6pQt2cXKZnZlPXnTwBJkiRJkiRJkqTeEiebUiV2fPO2eP6ey8SIYBdhq0WAtfAfPl3MeXChWL4uS9S0mIV64AWi9qd54owId2FtHSpmLd8tSpqV/myQKP3wOjF05FRx88NPikdvv1KcOSBAONs7Cs/geDF42GARH+Qm7Ky0QmsfKEbOfEZ8l1Ej2izdbMpSKtY9PV0k+ToIXUfGIyv3OHHuvR+ILSVNQl+zXjx6VpTwsEaAlfAafrNYvjlFrFu+QNwxfZgIdrET2v2ZkuwCxJBzrhR3v71JlNQUiF+XPSZumjJA+DlaC83+51h5iwFnzRC3L9koimtyxLrX7xezxkYId3vd/mxLQusaLcZPv1488026qGo2C2HaLV68IE542yI0LhPF3IeuEuMTfIWXf7gYMChZRPu6CLegoeLS+V+L1MoWYT5wIIQ581ux6N6rxIRYb+Fgrfn7PXTO4WLUebPEve/8KUrqDX8fO1Pp7+KtO88VCd4OQqfhQJucwsQZN78s1mbVdd+PR2LKF98/OV0MSRwrZt7xoHj4tsvFeRfdJl5fny1q9OqRX7//cJX/Jt6eN1OMifQUDlYH9gc7X5E4/kJxzSMfiM0FtcKgdn7NRvHi/40Swc5WHcfBSrhGTxJzl24UuXVtovbXheKiZD9hq0Gg8xCDr14sNuQWia1fPiduOzdR+DkfOH5ap1AxYsrV4rnV+0Rp4Rbx8VPXifGRnsJet7+vtMIpdIQ4/45lIqOwtqMFiqhL+0osmDVKhLjaHhgvGhvhPXiGWLh6s1h26zgRHxIqhpx3k3jq/V/EvqoWYeraLfoS8ef7D4lLh4cIV3tXETxovDj3ogvF5BFxImrgGeKaZ78VKRXNwtzpJUrtdvH5/+4TM0ZFCE+HA2PMzi9JnHXZ7eKN9TmiPP9P8eHTc8X5g4OEq6327+dYecaJ8dPniFd/yhZl2RvF8seuExNjfYTT3+NIK1wiRosLrn5CfL6zSNQf0uCujOKPZy8Xk8cNEonRYSJ6yJli+o33ifmPPyxunzFaxMWOEJfM/0rsLm8RXYeYUrdTvHfnZBHrcaD/dK7RYtJd74kthXUi+8ObxekJUWLAxJni/le+FJtzakVb5xPBVCl2fvGsuPnsAcLP2UZorZyET1iCGDxsiEgI9RfBA84Q1y9aLfZUthzUf8fabmEqF3998KC4eHCAcO50/qF1FCFjrhHPrkoTlS2HvqMQJlG05ilx6VB/Yadp72uHwNPFja/9LLJqjUIVRrH11RvFtDOSRUJMhIgeNF5Mu/Zu8cj8R8SdMyeIgQnDxbT7PxRbChu72Z9eMJSJbZ89Ka4aEyk8HF1EwIDR4uwLLxRnn5YoYgaOE1c+/pnYWtwgTAc1OVesX/a0uO2i00WMr7Ow5sA54RiYLCZceLW4/aVVIrWoQfTt00ARld8+KM4bN0M8tmqnKO/m+tP267PikmEBwinxWvHmxmzR1O1QNImCNU+Ly0cNFWfNnC3mzr5cXDTrMfHxn/misZttKvU/iMcuGC0ueegbsb30aC56HY6iL02568Wyp28TF50eI3ydrQ8aN4HJE8SFV98uXlqVKooaetmTxq3i1RuniTOSE0RMRLQYNH6auPbuR8T8R+4UMycMFAnDp4n7P9wiChvbR4tSt0t8/erD4tqzkkWwW6fPOJ2zCB16lpjx0Pvij5wqUbl+gZg+xK/TsT7Cf7pwcdnL60R6p3abKneIz5+4UowKdRM2nT9zHALFyCseFyu2lYhGU087dhj6P8Wr140ToU6x4vJF34s93fWVUinWLLhMDPd1EcNuXip+zmkT3Q0dpSVdfPXYpeL0UeeIK2+YLW647GJxw4JPxebCli5jWRF1f74mbpoQJhy0WuGcfI14Ze0+0djnrz8WUbLqcXHJUB9hY2Uj7BychIubh/Dw9BQe7m7CxclR2NlaC63OUQy9aan4OUd/mG0povL79mtJ+IVPi5W76o54/in1O8VHD14shoSEiMS4GHHOAx+Jn7MMJ6a9pjLx66tzxPSL54j/rd4jqvZ/mJtqRGF+sais7eY6q9SLnR89KC4eEiJCEuNEzDkPiI9+zhKHa/HfL21IEZ89cqkYFhYmhs56XnyXViV6N9wU0ZDymXjk0mEiLGyomPX8dyKtqrcD9RheexT7ailZJR6/ZKjwsbESNnYOwsnFTXh4eApPD3fh5uosHO1thbVOJxySZolFq9JFW9cNGHaLD++fKuIDx4m5b/0iig/7oaKI2i1vi9snRwkHjVa4JM0Uz3679yjOAUmSJEmSJEmSpGOnEeKYKzCfBCaq9u4gRw0iMcofF3urw9zZ1neWvI38UB7M6ckheDpZo8FITeZOtqVmkl9cSbNqj0dwAiNHjyDW3xlb3eHeXaG1PJu0PTnUaHyJHzKAEDd7rDvWCCl12Wzbvo9qmzCGDo3B18mWw26uv5lTeOmSy1n40z5qbM/lfxve4JpoHcW7UsmrseDkF8WA5Eh8HPuvXZaGAvbsyaSwRsE1KJK4uHC8HW2OcfsGqrNT2J1ejsUrlkFJEfg42x63FCYHUdqozEtnb3YlimcUyYlheDnZdiwDU6jP28XOjAo0gUkMjg3ArZ/Ha0cjaCndx56MPMpbtLiGJDAoLgh3B6jMycPiEYC3mzO2R1qbprZRkZ3OvtwS6i12eITEkxQTgJuD9XFoc//SNzWBvT221jpMdSXk7NtHbqUBx4AYEuPD8Xa2xarHnTBRl59GSkYZZrdwEhKi8HO1w0oD+vJ8qq298HZzwr7nDQAqhrpi8vIKKS6tRa9zwjs8gQERvoe9Rh1buwGlkaL0dDILqjA5+RMRG0e4jzN2R2hra2kGu/fkUa/zIy45jhAv57/r5BiamxG2ttjYWGFpKCMvcx855W3Y+UQSHx+Br5s9vV5M1mMT9FTl7SMzp4gakw1uQbEMiAnC08nmBC6hVKla9QjXvZDH0HsfYM65g/HretEwV7NvZxZtHpFEhvriephiQq0VGexOzaHRLpSkpGj83ey7vQapDWt44uqnSR9wL/NuPZ+hAcd4pTqpfWmguVlga2uDjZWFhrI8MvflUN5mh09kPPERvrjZn9zrh9JUSua+TPIq9Nj7hBITG4Gfq8Pfn8N9Z6Y2O5WsZgeCwsMJcrfrdv/0Femk5rTiHBpFZJA7PS6GUZoo3ZfKnvwWnMIGkhjlj5tdd42zUJ+3m93ZLbhEJRIX5o3jCfmQ64lK1Q/PMPexN9gePJeX5s/h/EHuvR5zbb8tZkl2OIPHTmJijO1xbSnmUn5dsoj39nkx6ZqrmTYsGMeOhlpyVrBwRT0Dx53D1DGhPacebfuNxUuyCR88lkkTYzjOLT65TtC+WnK/4ZmHF7A0J4n7n3qQOVNisFGbSN+4lWonX2KHDuxyTbZQX5BGWnYD9qHxxEf64XRSzwFJkiRJkiRJkv6r+lBo4lRig0/iafgcp61bRUzggojOj9jiFXsaU2JPO4qt6XD0j2OUf1z3f/WIZtTk6KPY7vGjdQoieXwQycdp+1ZuYQwa9VRYMwAAIABJREFUE8agft2qHd7RI5l0MrpS54Bv9DB8u31vHe4Rwzgzoru/9WsjcApMZFRg4iF/8YuK7f1mtA74xQ7DL3ZYP7btxLB3cfn7/+08QhhweggDev1qGzzCh3JG+NBDt+sfTkivtqHFziOUBI9QEvrQfcfWbkDnSsjA0wgZ2JcXaXEMTGR0N+MFwM7Z+cDm3YKIHxlEfF8236sm2OMTNRifqMH9veX+Ze1N3EjvXj3V0S+e0X793lNHdlL70o4Dw0WHW1A8I4NOQh8chs4lkIQRgST02xat8YweypG+Edj7JTDSrxeb07kQmDiGHk7HTqxwjxjGGcf98+REUKiqMaK11mHveJy/ippL2bj0Vb6pjmfGbZdwZrzngXRtqpHi1L3UW4KwcnY9bEBIqarBqLVGZ+/4T/3y3GsnZl9VGouKKCqrwTkskkD/AKwBQ846vtuUg8vgqQw55IBY4R42mHFhx61RkiRJkiRJkiRJvfJv/10oSZIkSZIk9TuFpuYW9AYj+pZm2ozttdh6tVJFrSAtx4RdlD0+hxab6T/GYja8/hiPvfo1W8sMvLnojk6rigSqxYJF2DPilteY5up0mLarVKTlYLKLwt7H68Ssgj1pTty+KqqKEDa4ubnj7GyHUruDLz7fhsFnNOeOi8f5VF8iK0mSJEmSJEnSf5YMqkiSJEmSJEm9YCbt82d46b1v2VbYRFNDM20mDaJiGXdfuoInnB2wT5jOk/dcx/mjel7jZ8z9nVSzB/E+YQQdtzxaCsU/LuP1j1azubAJtaen6bzw93fH1fUw4SBjLr+nmvGI9yHs+DX41HDC9lWL16hzuei83RR/v5Ilj23jA0UQMPpS/u+SyQxwO3GJICVJkiRJkiRJkvpKBlX+8xQsikAIEBYjJovKP7HKjiRJkiRJx5s1A2fM550Z849+E+Yi1n2Tis5/LNGJIcexNomO4GlP8NW0J45xO2aK1n1Dqs6fsdGJhPyrYyondl+1jrFMvX8po68qoqRWwdk/iIBO9b0kSZIkSZIkSZJOVTKo8h+nNhZSXKPHZAHUcopKDRiTBNjLX7SSJEmSJPUjtZFdnyxnkxLNpNGnkeh+qq9GUGnc9QnLNylETxrNaYnuvUtv9o90kvZVa4d7YAzugSfizSRJkiRJkiRJkvqHDKr8R6m1u1n9xSq+++JjvkkrpUkF1Azeu+tGan4ex6CkMUybPo4YTyesZXxFkqR/MyFQTAYM+jbadFqsrK2x0unQ9ue1TzFjsljaVwbqTZjlqkDpP0nFZcRM5rp74+d3+MLwpwrVZQQz57rj7efH4TKE/Rv8l/ZVkiRJkiRJkiTpWMigyn+U1t6H2BHn4D3wTK7p7gk23ng7WPfvpKIkSdIpSNT/zDOXrOBpAF0EM158i8evPoO4fpxVNO1YwvV3vMCKLUWYADROjE/qt81L0j+D1p3IePeT3Yo+0OIeGc8/qcVH77+0r5IkSZIkSZIkScdGI4S8V1aSJEn6bzKW72HbnjwqGk3tD2gcCU4eRkKoN87W/fc+al0221OyKKnVdxTMtsIrbjjJkQG4y3SLkiRJkiRJkiRJkiRJ/xgyqCJJkiRJkiRJkiRJkiRJkiRJktQLMmOyJEmSJEmSJEmSJEmSJEmSJElSL8igiiRJkiRJkiRJkiRJkiRJkiRJUi/IoIokSZIkSZIkSZIkSZIkSZIkSVIvyKCKJEmSJEmSJEmSJEmSJEmSJElSL8igiiRJkiRJkiRJkiRJkiRJkiRJUi/IoMp/kWrBZLKgquJkt0SSJEmSJEmSJEmSJEmSJEmS/jGsTnYDTm1t5P3yGR9+spJ1W/dRWNWIaudFSMIozpl5M9dPTSbAxfaUj0wpxd/z7ONL+WlXNiWV1VTVNmCKuJFPvpzPefF+2GtOdgtPIEVPU5sGe3sbrK1O9SP3z2DK2cCKdbsorNXTNUyn9RrE+ReMJc7fFev/0jiTJEmSJEmSJEmSJEmSJOlfSQZVeqKU8sPjN3L3GxvIrjOiDZnKIy/fy7kO63n0riU8e9WXrLxpMe/Ov5iBfk7oTnZ7D0PjEsXo8y/Hb+AuVr39Pj9XCtxiE4hwssf2PzTRba7YzLtPPMj/0gez4KW7uWBwMHb/of0/XjQ29jhYmane/R0rN6RQXG9A7fibLu56goYOJMLfFeuT2kpJkiRJkiRJkiRJkiRJkqRjJ2/V75ZC3seP8di7v5FdZ0TFisSLbmLGhOF4NZRRbTBgUpvY/e6rfLizlFrjqZ1GS+say4QLr+T6Wy5lVIgb9jp7EocMxt3J8d89AFQTbbXF7N30FYvnzeLMsRdw17LfyK9tw6KKQ1ZV/Duo1G5ZzgNXz2LeB1spbLAc93e0DjmNi2+cx8sfvcDssdF4y+iJJEmSJEmSJEmSJEmSJEn/Uv/qOfWjZk7l6y/+oKi6teOOeys8fX2wtarnz407qGhoa3/cXEFZmR6T+Z8xPa8Up7KnpJk2EcWgwV44Op7K62uOjVr3LfdOTCIsbBDnznmZX1qiGBDthbsD/R5MUfXNNBvMWNQjP/e4U7JZ+dZbfP71F6zdXkxdi3Ligkc6N1xdbLGReb4kSZIkSZIkSZIkSZIkSfqXkkGVbihlu0gpaKLVtP8RK3Q6DRqtJwMHR+PhZIsGsPIfxegBnjjb/RO6UaV+104yG1sxBw1iSKgLjv/iyW+tx1QWrttLRWMNhXs28fVr9zI12R+n/k54p1bxy0tP8fbGDEr1Jz+4plSlsDu7jgZDAPEJgbi62HDijrIGzb93SEmSJEmSJEmSJEmSJEmSJJ0aNVVa837mk3c/54df/yKlsBkH/2iSxl7MjTfPYFS4G/YneEGFUlFBldGE+ZC/2JB0yzK+GvATf+SqhI05ixERnjieEr14JAZ279hDXbMBl3FDiHd1xP6fEAs6ajqsj3saKhP5Xy9k4YebiQy89JRIJ9a2J42s2gb0riNIinPH1UlGOSRJkiRJkiRJkiRJkiRJkvrLSQ4HKJT9vJBb73iVHzOqMexPn1SUz96/1vHtyg0sfGcRV48KxvUErqoQra3oFZVuszlpXYmZcBkxE05Yc/qHOZ2daVU0661JGJyMh+O/vJ7KCdCyezlPLPqKLXkOhJzsxgBgIiMlnaqGZqzjkxno5YqLPMiSJEmSJEmSJEmSJEmSJEn95qQGVSw5H/LIwytpG/sgn713EaeHaqjK3Mp3S//Ha6t2UZrzBY8/nsTAt+YwJsKD4x1XUev28fvmDEq3pFPZYuoUVLFQtWc9q7/JxdvBgdDh40kOccWhc4PUZoq2b+CHHzeyI7OYGqM1rv7RDDvjXKZOHESQqx1WB7XfTMmODezMr6etSy1x28ChTBgShptdM3t/+JTP1/xJVpMzsZOu5voLhxDsatvngIhStJPdBY20qlEMHuL7r66nciLoc77iyQdf4bvdJbQqMb1+nbmxlLy8AkpqjNi4+hMRG4aPi33/jG2lkLT0UuqbVSKTkvFzdTsuJ7jaUshfa77l+43byKw0Yh84iHMuu4IpSX0vKqO2lLL7tx/56ZdtpBdUobdyxjdiMOPOOY8zh4bh6WB9AtOXSZIkSZIkSZIkSZIkSZIkHd5JDKo0s+mDr2ia/BD/u/UcEn0d0ALe3qEkjhpB2O2Xc99H2yj5fSU/ZF3KgGB3vG2O7/SqUrCaRfcsYm1mNaaD/mIg5cOHuf1DQBvI5W99z6IZA/8OqjTv/Yr/zV/A0h/3Uu82jBmzpjHBu5HNny3n4bee5dHIKcx9cgG3TYnH29GqY5LYQl32Jj578V1Wp5TTYtqfPEqD94Wv8uNTyexePI/5n22lpKkj6vLp1/xVvoIlN48m3L0vk80qdTt2tddTCUhmSJgzTp370ljG9u++4Ot1OykVgYy54gYuGRmK+4nOu/aPoFKz6RXuvPcFVu4opVUByOHjWyby5e06tBodkVe+wtJ5FzE0xLHjGBko++tLli5eyud/VGLvH4C7rpH8jCwqLZ4kTLyCuXfNZtrwUNz7Up/HUEbqlt3kVjZhFIA+he+2llCrdyHAmMmm9d+QZa9B6xjKkNMGEurpdIzBG4Xqre/xxIML+eSPPOqN+8fsF3z8zntccN/NhFUZe5kGrYXM715jwdNvsGpnJY7JFzLjgrEEGXbyzSdP8c6ixwk560Yeefx2pg0OwuVfXP9HkiRJkiRJkiRJkiRJkqR/jpMXVGnbxsbiYVx97ygivB0OXnlhFcpF11zA++tzqMwrIr+wFYNRwHEOqljHX8Pib8+l9tcXuO7JL9lT2tyxWsWe0fcs55GL4glwtsEtKAJfey2gUvfnK8y55TlW76lEr4nlhkVLeXJaIv4OWmZP8uPKy5/hh4xVPH1NFvnPL2fhrOEEuVijwZ6kyxfw4dh4bp76AJ+nlNKyfzZaLeObR97m/V/SDwRUANRqNq5aT+H0AQS7efVhgtzArl17qG8x4DJmMAmuTuyfu2/e+wXPPfMpJaFnccGllxO5ZjEv3voQxuXPc9WwEFz/EfViTiQtrslXsvCzszlr0fUs+OwvcptCmfb489wyeQAB9lpsXH3x87BvD6goVWx+cx73PL+aqoSbePrr25ia5IejDvRFv/DmI/N4ceWL3PDLWjY++SKPzRpNuHvvissrlbv48YuP+TWzEoMAU3UWe/IqabP1oTH1J77J/xUdoPMex+zwEPw8nTiWMjPNu5bxwJ3P8MXWIloUQOfDyFm3MeeSEbhX/cYHS5fyeUYB1YYjhFXUera+dS93LfyCrUXNEHUVi155gitGhuOsNTEl5CauefpLtq95gdk5BVS+9jTXTojG8zif/5IkSZIkSZIkSZIkSZIkSUdy0qbMVYsPk2+9lgGh3jh0c3O+VVQUoY522Go02Nro0HaZT9VXF1KNJ77uDtha9VPhCHtvwmK98S3wxMG68zZ1OPhEEpeQRJj7gceVkm954oFX+HFvJXoFrBImMmWQN24dFeBtE87mrIFv8UdBJZWt+/jk0YeIiljGbWdE4mnbvkM671BCvOyxsQLMAIKGX17jjeBJ3Lrobhw3vc7iVbsobbIAGmydXXCwPrQ/DsuUzs6UKpr1ViQMGYy7kwNaVBp3LuPhl9JJuvkF7h3pxvYnp3PfO5vIaw5ld14z05MErla9fSMzDcW5FFY1YbD0V8l2HQ6+4UQHumFnfeqsmrF28SXYxQV/dwfah4k1Tj4hhEXFEObYub8MZH4yn3kvfk2a86UsfuImzkv2w7FjCNmHnMEdLz6Pvvk2Fq9J4YNH7sPJ/U3mXTSEIMcjj2ld6Hnc//p53A+Aic3Pz2D2S2vIi7mOF96Yy1mJvv13grft5v3/vc26lOL2gAo6Ai+Yx7MPX8PYaHd0nMX4BDdumvMSq1PKsPS4IYWyNYt4/NVv2V7UjAUdsWPPZLC/D05aABtiJ44n6Z2NZBQX0pL9Fc88EU6Y712cl+SPvYyrSJIkSZIkSZIkSZIkSZJ0Ep20oIrWZQCjhx3mCQYDRkVF2McSH+OMfae0SK1bFjHz+kWsLQnghmWf8vB5cfg6nOjZ1iZ+e+t1vk8vo30xiQan8GhCHeyx3d8UqxBiItxxtNWBXkHUbWLp0jVMSfg/3EJcaQ8T6NBqNAetTDDrg7js8ae4ZWo8fjOH4utwM499uo1Kx1HMufl8Inz2v7Z3LIXbSSlqolWNZNBgP5wdtTTteJMHXilh/B33MXVQAM7kkJNXRZtBwSpgOCNjXXGy7UOCsYqvuP+C+/g0peTAipt+oAu+kre+e57LBgR2TLr/cyhF3/L6snWkFKkMvv8ihoUGHLIPWq+xXH/tFH7JKKUmcyfvL/6UMwYG4JUUgF1fhrQ5h9Q9JdQ3C6KSk/B17dsYOTyVmg2fsnJHPuVtHQdXF8L4s08jxNet4320uA49m/EJn/NnZjkl+h4GQfNmPlj2PbvyattT7GmcCIkIwcnJ/u9zQBcUSZinMw46aLEI6re8z7trJjMwyJtYT7l0SpIkSZIkSZIkSZIkSZKkk+eUnaHU700np8WA49hzmRjsjsvfLVWo3JNCbl0r+qZ97EyrpGViNL4OJ3ZX1Nr1fPVjFlUN5o5HdHj4+mJn3bnWiRU+vl7Y2FgBCqBSsf4b1hVOJTrAFY8emmwVMYYJCe642GlAM4Brlm5k+jOtaJydcLC26tsqFVTqdu4iq7EFs/+ZDIlwRk1/h3kv5XP6bbdzXnIAzlYaIJqrnnoN9ykVeA0/k1FRXvSllr3W71JeXjeaB+paMPbjShV7rwACPRyx+YcFVMBM+ner2JxXRhPRDEzyw7XbXGpafCeew9jI70nJraN6xypW7biMIZH+hDv1/kArVSmk5tbTaApmQnIIbm62/VfgXa1h04a/KKpsQOl4SOMYSVyUK84HrczRodWBpsc3Vqn7bTXrM0qoNnY8pHXH29se286pvXReeHt2PGYRoFbx6/cbyJk6gAhPv2NKYSZJkiRJkiRJkiRJkiRJknQsTs2gilrHb2t/p8QUxZU3TiXK17VTQ3WEXTiX2zN1/Fwfz8wrB+DvduJ3w7BjK7trmmlTDzzm6OiETtd59l+Lk5MjVtpO0YnW3WzdWcf/JYXi4dpDpMDdC28b606Tx9Y4e7odZUv17N65l/oWA06nJeLy1+s8+oeGiXfe9f/s3Xd0VVX2wPHva3npeemNNEgIkBB67ygqiliwi2XsvWNX1LH+LONYxnHUcawj9l4AFRSkKSUQSCOQnpBeXl699/z+SMAQAgYIguP+rJW1wuO9e88999z7ss6+Z29OHBJLUKfCLAGpUzkz9QB3gwn/iAT6RRzo5//HaKX8sq6I2kYnyhJKeLgV696K4AQOZ8TgaMJWbqGmfjvrf9lOw4whJAf69jgw0pKdTV59I47QCQxNC8XWmyu3XFvIya+jqfXXwW4MiyIqwIp1v4JdLrJ/2Uh1Q/Ou4Az4ExBoxtz5EjYGEhBgxtzpsmnbtJYNNY2M0WOI+MMF2IQQQgghhBBCCCGEEP8rjsigiqfgPV5fuIPEcx/l0glJRHTJg2SMGMulj4/l0sPUPtCoLa+g2enuNDkMVl8fjMbOM74GrFYfjMb29F4KQLVQWV6L2+0FfLrfvMGAwQi9stTAncMv2TtoadNxr3iCa2vPYP4Tt3J8VgyBPa90L/aXVk55pZ02pwKzjlKKva/f8Sc5OY6gAF8M9U5qKquwO50oehpUcZKzYTM7GluwDswiIzyEoF4MPGgNVVQ1tuHsPNj9/Qkwm/bvBqLVU1HVRFvnDRl8sPoY2f2y8cHHYtrtNdVaTWWdA6dbsX950YQQQgghhBBCCCGEEKL3HHnPfHuLWPDE6xRnXcX9V06jX4TfEdhIhcPhRNP13V41GM10jYQYTSYMXfIhtbXa0TSN34N3+1o2lDbTppKYMOc0jknYxJNzhjMg6ygufPhjNtbY8fRiDRTRwWvH7vCg6e2/t7R68Gp762gjoaEhWC3tIQq3y4mu78f48BSSvamCxmZIzcoiqlfrqQAtrbR5tN0CiBiMmDDsZ9zPgdOlsfvQN2A0GbqkDDNi6vqacmC3e/H+PpeNEEIIIYQQQgghhBBCdOsIi1e0kf3Sfbxhn83dd89lTKINnyPyoXQjwSHBWEzm3SaVlVLQZT2Crmkdr/8qyBaCyfx7LBLSqV+7lvwmO+74yZx33Xyef+9HNq77gBsyavn6oXOYfeUrrCppksBKbzMHEOBvwWwEVDXlZXYcbXvrZANWH5+O1HEGgm02rLvV5tk3bcdGNm1roMmTSFZv11MB8LPiYzLufrNwOWnTugRafoshiOAgC+bdiqIolNrjqkHT2l//9bOBBAebsUhBFSGEEEIIIYQQQgghxGF0BKX/8lD8yXweWD6Aa+6+iGlp4fgeYSGfXxkJ75tMdIAVM63sLFXv9Xi6BFAULrcbvXPqJ2MUSSnh+Fp7dS3BXthZ+0sODS1OQqYMY6AtAD8jGPtM56Z7/sKKzY+y8PPX+fiiY+kfE0yU1QB4cLmMWCxGjMaeT83rjcv55/xn+XxDOc29Wai+72xuf+BCJiSF/7GyPpkSSIwLxM/PAC07KCyopKXVjbJ1l9JLYXc48Xh1MPiTnNaX4ED/HgdGWrM3kt9RT2VI13oquhu3bsZsMrIfp3P3QwmNICLAio8RdkVRHHbsHg2voudp6oyhJCdGE+TnA40dleqVhtejozov+lJuPB6NzgvBjBEJJEcE4m/+Iw0CIYQQQgghhBBCCCHE/5ojJKiiUbX4Ye5c4M/Zt13M9PRI/I7YgEo7n6zxjIx/lTXb6mjwtr9mb2nBu1tuI52W5la8nXIWGcNHMXFYGEH+v8MBujezNruGFoeFgUOHEhYQsGu1gTkuliirD2atgfoGN16vAqsBx/L/4+qFmcy77CjS4wN7vJTJaA2lT0p/0t3BtPZaUMWIX1IfwnwtR9qSqi7UHquRMCUwckR/or7eQHFLG3lr1lBaN5GM+NhuVl9pVJZX0+Z0YggczbiRMYTZehp0c7NlUy41jXasA4d0qafiZtNL1/NvdRYXnzKejOgDXObhP4D0vqEErzJQ19J+nFpDNVUtzvY6Kz0+OT4MGjWMhIhl5FRWdwQj7bS2evB6O71Nb+1Il7bzBSOhw8aQFRlG8JE9EIQQQgghhBBCCCGEEP/jjoCgik7d8r9x+ysuZs+7mmMzogjoMp+sN67gk+WBTByfRkRoT4t3924bld4lRVHARM48eQgfbamgodoJaNRWV+H0ePj14X0vVVU1OD07Z4zNpJ18JtPiIwja15y5Uu1P7u/PKoBueLetZUNZM20qlWHDowno1LFaRQXVLjceSz+SEwPwtRoBF9k/bCQo5Xj8A/azlo3fIGbf8ACzD7y5fzAGTCYjRoMBaKPN7kHbbdmGif4nnsTEBT9RUF5Aw/pFfLPlLIb1jyHBr8tJ9RSyYWMp9c068cefwcwBCUT1NO+dVkZufiVNdp3UrMG71VPRKr/ijR/8GXhpDDHhB5E3y5TA5ClDiV2cw/aW5vbrwJlL9qY6msboxIR1jBRXDXWNTtydg2pdgk3+Y05h1rBP2LB1ByVtCvQ6duxw4HIpCOo4Zm81O3YWpQcw9+WEU6aSEh/au7VihBBCCCGEEEIIIYQQYj8d5ue+dZrX/pPbniln8jWXMmNgFL5oeL3ejh8nTSUr+Nftz7FWs+D18Wmfsrbn8umTt3HDva+yvLQRl/5b+9nPVrm9eDun7MJDa2sbutZ5Rz5kXngL549OJtJqABQteZsobGnDufODnjw25dZjd7Q/cm9NO5t5l04mOcr/145Xbtxeffe5Z3sLzftbr2LPo6B27Vrym+144oYxIiWIwE4T9crtwqPpGKOSSAqxYjUCLSv5OjuOEUPCse0z6vNH5MWrdfSzpuFVioMbNkZCQ21YfSyg7SA/r4LmFjcKjZq1S1ldtIOW8BO4+rKZDE2xYXZt5OO3FpFbXN+lfo1O44qP+WJ9KQ1RJ3PTFTPJSLL1/MLUmmhqduHRQklMjiYgoOMa0etY9tqntI4+mrEDkgg7qPCpiYSZZ3FCVhJR1p3NrmfVoqVsrazDrQB3OYue/jvvrN7KDvevn1R1lVS0OHDu7GyfAZx19blMHBiHvwFQrRTmbqWpxb7revNszSW/polWDcCHvqdey4XTB5AQJMtUhBBCCCGEEEIIIYQQh9dhnaVsy3mDm696hHc/fJqLJ/Yl3N8Hi8XS6ccPW9J4rl8Zyaj+oYT6txd1KH3/Me556nmeefA67nltExWN3t/cV495q/jxpw3UNTk6BVW85H7/JRsrG3B0inQYQ8Zz/VMPcv6kFGw+BryFX/L2oq3saPag0Kn9/l2+2FRNowusicdzz9P3cMrgWAJ3xSs8VC7/jjUljbR2OgTv1qV8uaaU+jYvB55Iy866tR31VIaMIMMWuFtKNZ/0kQyJDcZ/12S7g83/fZ38QUcxOjaS4D98TEVHc7twtNlpqi0nb9mHLFxTTq1doZetYdH3q1lfUEldUyt2hwuPru9nX/vQf+hg4kJDsOBmw2v3cMf827n16jM556+LKG5wYTH70Pf0+Tw673TGJAZS89UT3P30B6wqbuoIrOi0bHmPBx98jZ9dw7n5qfmcPa4vofuzqMScRHpaJMGBnU6Y3sLG1+7npYoRnHLsKNKjD351lzF0IlfccgHTMuNoz1ynU7v4ca6/7mZuvf0WLjlpJhf9pwxzoB/BnVbi6LWLePKGG5n3+MdsqmrGi5Hg0Zfz4H0XMWNQFL4GjW2LPmBxbhl1bgV6Pcs//poNJTU4lA99Zszj0bvOYEyK7UhYVieEEEIIIYQQQgghhPiTM6g9ikH8PrSKL7jj3Gt5afk2Gj37emcgE+/5mFevn0y/cAsGdOoX3sVpV77IstJgzvznJzx6xmDiAw8+PuTd/DKXX/wg7/1cQks3dUFMvmHEJs9g3uuPc/6wBGwds7xazVoW/P1hHv/31+Q0hZA5cTwDguvJ/nE1hc3+DJp1JXfddRXHDYokwLJzwrmFhXefxLUvLKOg3rPnhL7Bh5D4SVz38j+5bmo/Iqz7OS2ubeVf553E/E+rGHb/Z7xw8WiSdqvToVH29UNcc+u72MfMZJhlK9l1o7j2gUuZnhZxxNe0+U2ezfzrskt54vONVHvMmM3tqboMhvZ+VEpH1zQ0zYvXfxr3vvM4F09KJ3x/jtuznU/vvZo7Xv6WLbUulDGAhEkXcf+jt3DqiARCdp1rJ+Ur3uUff3uONxduoik4naGDUwj1lpNb5CB24rnccOOFTB8UTeABRA4827/k0VvuYcGOgRw9MRl923rKIo/n6uvOZEK/cHx7LV+eRvXK13jk3sd488dC6nYtPzERljWHW/56DbYv7uCp91ZSqkeRkJxCSkoKycnJ9Bt+NKfNHEVyREBHCi+NuuyPeeHxJ3jps3XU+qUzZuw/bk1WAAAgAElEQVRAwu25rFydT51PGsdcPI87rj6RYfEh3dShEUIIIYQQQgghhBBCiN/fYQuqHBw3O3J+oVDvQ0ZqLMF+5sNQZ2VP3uZtrFu+iuyCUmrdVmxx/Rk1aRyD4oLxNf3eLdRp2bqKVRVBDBqaSnSQb7f1KFw1eaz9JZ/W8EEMz0wk1O9ILwp/hNFbKd34CxuLW7D2yWTYgHhC/S17GY86bVUFbM7dSlmDF9+wRAZm9SfO5o/lYIeHs4aCDevZXOklIn0oWX2jCLIeouVGngYKVy9jxYZ8qpxWogaMY+q4QfSxQfGa1eywJpCalkCYf0/GkkZLSTarVq8nd3sNTkswMWkjmDA2g4RQf8xHwoUthBBCCCGEEEIIIYQQHf6gQRUhhBBCCCGEEEIIIYQQQojflyxKEEIIIYQQQgghhBBCCCGE6AEJqgghhBBCCCGEEEIIIYQQQvSABFWEEEIIIYQQQgghhBBCCCF6QIIqQgghhBBCCCGEEEIIIYQQPSBBFSGEEEIIIYQQQgghhBBCiB6QoIoQQgghhBBCCCGEEEIIIUQPSFBFCCGEEEIIIYQQQgghhBCiBySoIoQQQgghhBBCCCGEEEII0QMSVBFCCCGEEEIIIYQQQgghhOgBCaoIIYQQQgghhBBCCCGEEEL0gARVhBBCCCGEEEIIIYQQQgghekCCKkIIIYQQQgghhBBCCCGEED0gQRUhhBBCCCGEEEIIIYQQQogekKCKEEIIIYQQQgghhBBCCCFED5gPdwOEEP+bdM2NpsyYTEaMhsPdGiH+WPTGLXzxyt957sMWpt8zjwtnDCXadLhbdThp2Cvz2LBhE3klDWjWMJKyRjMiPZ4w/44/ZTzVbMppIDQ+jujIYPkDRwghhBBCCCGEEIeEzDmIXqXvWMlrz73JT819Ofny85iaFkGAWWbUD45OW8VGfvj6C3L8ZnDqjCEkR/jQW73qaSji56XfsLAogpNOO4rMxLADuDFolC/6O4/+6zN+2lxC9Y4a6hqdJM59kdfnn87o5MBea+9B0x1UblrGN1/m4D/jZI4anES4zxHTuj8xnfoNH/Of/35LcfBEzj77OIYnh/KnPDXOXBY8cCMPvPot+doEhrs09MPdpsPGSfmaj3nlmed4e2kZRKWRmZFEqKGZBc/cR7VtPBfNu5lzJ8dQ9vZ93Lssnouv+QuzIoMPd8OFEEIIIYQQQgjxP0qCKkccN8semMXFz/9IUb334DZlTOTclz/m4VMziAv4PTK9OVj67B08+PwyihpgUUMEnz48h8z4AMkzt9906nIW8flnX/LlN4v58ZetVLdoDLo8hSkTMkk+qG17qFq/iK++Xsiib5ey/Jc8KhodMPwGhkwfz6AE2P8IiIGglDEcd1ooaeu+4LW3FrNDDyY1PQVbkP/hD6jojeQt/ZxPP/2CrxYt5efCalq0TK7qO5lxGUmEH+72CXCu4Y0nHufp91ZS6v2YEnMof734GDLD/2x3D43qb99mwbdrKWz0okJMmAyH/Qo6PFylLPnnfdzz4hp8p17Gc9+excR+EfjuHBJaPRs/eIK/vvA3qr5qYNV3K2ib8CARYWH8qRf1CCGEEEIIIYQQ4pCSoMoRR+F0OPC4PWi6HwnDJzFpzGD6xYYR5OeDSZXx/ctv8F1BDXbNSOS487jouAyiAg14nXYaqorIXvYdyzZX0Oxx4nBq6L/bI84KTdNQqPZ/aRp0/C72l0Iz+BOd2p/4HxejdA96r4UmFJoxkITB4xlflsMv2XloioOchDQSnDqBE1In4E5rZvnCFWyuT2bw4HBCgo+ESXEdfKPp1z8Wv4UK3aNLRakjjdLQNYVSgFJoO3//s3Ft4dNPl7Jxay1eDiC++b/CU86iJ2/hzn/n0vfyR7n3L0czqOsKPVMYg8+4izvrb+Da//uS5SUxnHlpHyLCrX/efhNCCCGEEEIIIcQhJ0GVI46O2+VGN8Ux86GXefryKfQLtf46/+teSdvCz/hpa3tQJXjQMZx36ckMiu20GsBdymd3XcD1r+Tiduq/Y1DFn2nXPsTtvMlPTSmcfMUJ9I2WVSoHxkTUoEkcN2gCQ1Uea/LKqd7a2kvb9iE+azLxWTCtfwvrfi6gvKYYV69sW6MiZzOlja1ofQczJDqEkCPhLmMMI33cDNLHDEbbsoa88mq22g93o8Ru/MYw96Yb8cQuZlvQJM45fTT9/3SrVHR2fP8BX2/XsIaEYvPW06RpaLr6k4WnPRR++CRPvLkMbdp8rjl18p4BlV0CGDzrWMZ8tJzNbUkM6hdBeOCfbdwIIYQQQgghhBDi93QkTHeK3XhwujUCxl/CzaePINlm3f+ghE8CJ9x4OZ8vuZ8Gj47+O87GmWIncdnDk7js99vl/zgjvr6+mEyHaJIwMBB/sxkz9E5QRW8iO7uAukYHsaOHkBhqw3okPTJu9MXX18Sh6k5xMExEjjyTW0eeebgbcvi4cvn8k1WYBo1npNfFjyvqadS9eHX9T7VqR9/xLW8t+J7s+kFcMmsUaUn7rslkik4jtU8EcXomA6LCsUnuLyGEEEIIIYQQQhxCR8TUolafzXuPXMmpU7Lo2yeB1KwJnHTNMyzMr8ehHe7W/c50Jy63HyOPOoqU0BAsBzghbYyZxlEjbPiaddTvGVURfygGg6F30+S4NpK9pYZGeyCDhqQTHiIrlYToGY3Kxf/l8+I4Rk8bxsAkPwwGwKuh6fqfqFC9RuXyJazML6UxcSAZ0eGE/9bjH8ZgQoICGDA0g5jwMHlaRAghhBBCCCGEEIfUYZ7v1Glc8w8uOf5k5v1nDbU+0cRHmKgvWM1nz9/AnDl38sGmKux/qsCKkZihczhpWjKhQQfxuK0xnDGz5jC2fxj+ll5rnBD75MnLJqeqgRbzALIyIwkJlkfGheiRlp95/93VmAdPY0LGQGKsJoxGA+h/tvRfDvI257OjrhFlNGE09CDsq3tw67GkD0wgItxX6qkIIYQQQgghhBDikDqsD3TqdYt5/KGFBF3wMt+eM4GUECtGWsj74D6uvOXfLM95g39+cAZj+4TTL9zy55goMUYw7aobemFDJpJm3cxVu72m0VRcjjMqmjBfKxZvPds25VLmjSQ9I4lwf589ipV7W8opzCuitNaJOSSW1EGpxAb5Yv6tcJy7jm2VGtExYfhZzd2eO3dtISWeWPpE+ONrMYC7jq05uWyvV0SmZdI/Lhjf39zRvui0lm+j3hpFpC0QP7MB9FYq83MpqHTgF5fGgKRIAn1Nu7VPd9RRsrWQ7dVOAhIHMjAxgkBrT9rhoam8iKLtZdS6fAiJ7Ut6chTBfj0fu1prNdu3bqW4xkNQ4gAGJkXs91FrrVUU5RZS4fQlul86yZGB+Jp/j6tHoyx7E9vrmvEmZzI4NoSQP0xAT6O1ejuFW8toNoSRnJ5KrM0Py+FeZqM1U1rpJCzchr+fD97GEnLzSnHa+jIgKYog394NWnkaiil3hhAWGkKwrwE8jZTm51O0w0VQQn/SEiIJ2ue14KGhuBxnSBihIcG0b6KU/PwidriCSOifRkJkEL91OXkay9jhDiYkJIjAbvPH9c5+AHRHDcWFhZQ2molISSU52ob/gS4RPGAeCj9/h6/rUph53ggGJZrZajF2pKnz4HHr6Bq98o3taa6keNt2SmscmIKiSU5LJsYWgM9v9lXv9fk+6W3Y21y4PTruvJ9Zs62S8UP70GefeQR1fBNHMnJQPFFBh/uiFUIIIYQQQgghxP+6wzj74KXgo8WY587nlnMm0zdkZ+2QINJPuZ2rj08lOtDN9vyttDqcf6KndHuf1ryN5Que4NrZIxk0+kpe21hBbd773D57AiPHT2LymCFMvfF9Cit3Vu7WqF33DvefN5HBI0/muv97hQULXuTeC6eQkZLBMde8zE/lzbi7nhS9jbKfP+G5285hUkY64659ky1VrbudO1dNLt+//SQ3nTGRQekjuPzlbCqamtj8wXxOHzuYIaMncfTRkxiSNpDp173GmooWPPt18jVay9fz9X8e4srZo8nImskd72ZT0dpM3pdPcelRw8gcPpYp0yczOmMgo+f+H1/n1eBUoDdt5pP/u4Sjh6STMXQc046eyuiBg5h8+T9YUtSw5/Hu5Kxg1ZvzmTtpMEOnncXVdz3EAzefz/Ej00hKH8ec2/7Dj9sacO4jf49Wt5537p/LpCHDmXHujdz319u4cMZoxsy+kVdXFtPs+a3DrmfjR49x6VGDSEjoz7AJ0zlq8mgG9U1l9Km38+aqUpr2egC9RG8kOzuf+iYn0RlDSLEF4SlewfvP3ccNl8zl7LmXcOMjb/BDYR1tR8zqM53mTR/y0AWTGZyewYgJU5kyPovUtOHMvvlVfipu/PW8a1Use+kWTh6eTEyYDZvNhs0WSnzmdE697Cm+zK+ided7nZv5/O/zmDMylfiIUCL6TuDS55eyvd7dgzZptJSs5qNnbua0cVmMufgFVhRVUfjp/Zw9fQzjJkxkzLCpXPPyW/zjkds4c1x/+kSGYrPZCBtyGf9Zs72jHa2se+chrjt9AgMTYwi32bDZwhhw9t9YtLl+Vzopd30RKz9+gbsvPIYRmSOY+9g3bK5qovCbv3P5saMZOmIcU6dPZsSgTCZf9CRfba7BtdtQclNftJKPX7ibC48ZQeaIuTz2zWaqmgr55u+Xc+zooYwYN5Xpk0cwKHMyFz35FZtrXHvc03VHFZsWvcoDlx7HyMwxXPj0d+TW6b2+n137a8rli6cu5+hRE5h5/k3cdcuFHDu0L4kpg5l65vU88tL7fPX9clasXMWqNVsorbfv/R5wkLTqb3nrgxxCxxzLhMx+hBgtmM0mjAZAuWhr8+DxHszOXVT98h6PXHwUw4dN4dTLbuOBB+Zx0exxDExJZ/TsG/jnolxq9rgwe7fPe8QYRKgtED+rGdX4E/9+4gXe+y6Pun3dQC0DOPOWqzh57ADCJaYihBBCCCGEEEKIQ00dNnaVu26Tqm6xK+8e/+dWax49XvWP9FcZV32oNlc6lH4YWnhEcq1QDx6TpsItKDCrfhe/pTZV2LvtH61hhXrp5jPU6D7BympEAQq/o9VDHz2tLpo6SCVHBiiL2aAAZR56o1qfX62U8qryL+5Ux6SGKf++Z6kXV5aoZk/71r3VX6h5U1KUzeKnBlzyulpf0ao0pZRSbpXz7j3qgmmpKszPrAygwKCCZj6h1mxv6HiPpqqX/EPdeuExalBUgLIYUGBRk+9+Wz195XFqcFqGGnPcHHXGSZPUgEj/9v83hKppDyxShXWuHp7/NrX+nQfVdWdNUP0jA9u3YUpQpz/0rLrvsuPVqKGj1dSTL1RXX32RmjU8QdmsBoUhQI24/h21bPFr6tYTx6rR005SF1x7q7r95kvVrOF92t9jDFdH3f+l2rRjz3Z4q39Sz/1lnEqM6KeOu/MdtbaytWM8t6ni755S543uo4LMJmUbeoF65rutqt6155G0Fbyn5h2XrqKTp6gb/rNClTS5la6U0pq2qI/vPVkNiQtSZoNBgUllXv62WlPctns7HAXqw9tnqVFjT1G3/nuJKqhzKI+rXuV+/lc1JytW+RsNyi/lFPXY17mqtsv+tcoF6toJ/VSIAWUecYP6aF2Z6qaJPdP2vXrg+EwV5WNTM+75t3rmzsvVWedcrR546XO1YlOB2vz98+qSCSkqLuMc9ffvt6p69wHu56A0qE/nTVH9Qw0K82B13s3nq6lD4lVwQKiK7ROvIoJ8O8YmCqwqedZD6ostNcq5q0801bD8MTUnK0b5gsI0UF3yxmq13d5dp7lVzj/PU6P6DlJnP7tUFTbueafbnaYaf35D3XP+RJUS5qdMtLfDb8pd6vUnLlcnjEhVUQE+ymJEgUkNvvK/am1Jm3JlP6fOHdFH+RlQppS56l8rilTzbs1xqdyX/6Km9w9RBowq7sRH1FfZtUpTmqpd/bZ65NrZanhSmPIztd9TRl75pHr4hrlqSlaGGjb1RDXn5OlqaGKo8jWiMISoMde9rlYUd9xztFq1+u1H1LWzh6uknW02j1RXPvmwumHuFJWVMUxNPXGOOnn6UJUY6quMoAwhY9R1r69QxTv7zF2gvnr6ejU7K06FWI3tfW8IUJNu+0itKe/os97YT+eerlupnr9kkkqJHqzOeeorlVvvVkq5VcXSJ9R5YxJUwK4x0P5jCJqibv/4Z1XxW6fwQGgNatmTc9X0k25Ury7bpuy6Uspbpt6fd6waFGpQmFLUGU8vUpsbtQPbvrdGrX7lanVUWrRKmX6DemVZsWrytP9XW9mP6h+XT1H9bBZlCslUZz76mcrZ4ei9c3tgHaIavn9YnTYyVlk6+t9oDVMpw45W51z/kHrp01Vqa61dueWPAiGEEEIIIYQQQhwmhzGosg9arfrgmlEqqc9kdfdX+arG2c1E9I7tqnhHi3J6DnCi6Y9qP4IqSmlKU7pybX9dXTQsXgUaUfikq5FTjlfz3vtFldcUqC8fPkeN7tdXTbjpPVVQZVfKvkTde1Q/FWYxKN9pD6qfiuo6Bb06gl0RPspom6meWLldNXT8p9frVbruUltfOV9lxQUowx5BlV+3sfGZU9XAKF8FRhUSkaSGzX1aLSyoVw6tvc01i+9SR/cNVRZQ5qxr1UdbqpRjvybQWtT395+gMqMsCnyUf9QQdcaDH6kN1a3Ks7MVxe+oayb3UyFGgzJF9lWpaVPUdS8tUUUNvwZOvFtfU5eNS1FBBoOyjrxRfbiuXO02FB256vUrJqu+IYEq45JX1artLV2OVVM1Sx5SJw+OUVaDQQWPuFq9saZUtXZ6k1a3RD10SpaKCeqv5r6wTBU1dZm1dReo1y4br1KCjN0HVbQ69cOjp6mhaZPUjQvWqrK2zg20qzVPnaGGxfkqA0YVdfwjalFu7a4+UKp3gyqudU+rM4bHKz9zH5U1fKw647FP1PpKe6c+calVT5yqhsYFqcGXv6nWFO9t3B5KnYIqhkAVEpel5tzzhlpZ2qRculLehlz12UNnqOFxge2TyIZQNfH2D1V258Cut1i9c+0k1S/EqDAEqyl3f6E2VXUTIfKWqP9ePVENPu429cmGip71q6YppbtVyYLr1ORUmzKC8kkdqiYcd6N648etqqpwsfrbJVPUgNRx6ur/rFHFzZpSbQvVXUcPVBHGvQVVlHIsuV+dOTpeWXYLquzkVvmvX6OmpwUpA0YVFBqvMk+9T729ukw1e5RSSlP1P/1NnTc2QfmBMqefp57/Pm/3fbjz1evXTFdpQQaFMUiFxmeqU+97W60ua24fb1q9+ulv56mxCX4KzCr9vOfV93nNHX3qVV6vrnRXiXr/1uPUoDDjnkGVXtnPzj6uV0sfO0uNjPNTkTPuVZ+srep0TbSoFX+bq8Ym+Cqwqsy5j6t3vt+o8gtKVG2rY7drp7e0bfiXuvToY9Wlzy5WW3YGTrRq9cmdx6vMcIPCGKtOfPhLlV1zIN91TlWw4BY1c1CYCkw/Vz37ba7qGpvR6parv80dqxL8DMoQlKUueuF7Vdj5PtQbfb6/3CXqi/vmqGHR1o4g/e4/lpAENeSYi9XD761WxY09DboLIYQQQgghhBBC9I4jMlFGW/ZbvLs2lFn3PcYVE5IJ75JL3b7ycc6eOooBqROZ91Ee1W2SHKx7RowY8IkbQmZiEH4WwLODwKk3cPm0TGIjUpl5x1usKtzKsidPIzXaH61uG8U72nB5FN6WJpo8Gpr6dXuhoSFYzCb01hK2V7S/D8BkMmEw+JAwJIOEID/2XkrDQkJcLH4+FgwYCJ5yKy88/BempYbia2zfR8Tk0zguIxqbFbwFm8ipb6NtH5lf9uRHbFwE/r4+GDCQed793PGX4xkcFbCrJIGlz9FMHx5PZDBotXXEnzmPS08cR7LNZ1f9E1PSRMZlRhMeAO6CTeQ0NNGyqy80Sj55npcXbaBEH8ZJp4wkKS6wSz49IxGTLuYvMzNJDjXRvPY1nv3vKgqrdqaza2XVK8/w7soC7ENP48yJqcR3LexuSWHalCHERgZ2X5cmZwEvvb+amn7HMSsrgRi/zu/yJ2vaBPrHhGNFZ8fSL/iusJLa30oldkA0ytbnUFLfhFNrxDjmSm45ezqDY/w79YmJsLBQrBYoys2nsaWVfZ5WzUFzTTll1c043fs1AHrIxJALH2T+1Wcwuk8wPgYw2dKZdfuzPHbpVAZE+oBqYMXbC/hxaznNO5tgSmTmnGPJSIzERzWz8tPP2VBWRdfbkFa2lCXrWkkZM4V+MRH49KRMh9EIBgsxmQNJtAW1162oCWDCZRdy1MgUovsdxQ0vLWFLwU88d8FIEoOMYDBhNhnYVz1vo8mC2WjcS20fCzHRkQQG+GEAAkZdwgP3XMGcUfEEmQGMhI48lmlD+hEXYMBbnE9BdQON3s6biCE6MpAAPwMQwKhLHuCeK+YwKj6o/ZozhjLy2GkM6RdHgMFLcX4B1Q2NeDvOg8lkwOATw4C0BCJt+yg0flD76Tgv1Uv5askmiqo8RCcmERoc1KmWVCAjjppEZnIs/rjYVlSFyd9GcmoC4QG+vV+EzJXHB698QEHUFGZPziI1pONqMfrjZ7VgNhlAOXG0efAeQPovrfwr/v3616zOd5M5cxaj0lII6fKtbwwby7lzZzIyPRJzy0YWvPQuP24s+XU890Kf7zdLAsff/jeeuvdSZqSH49elzZ6mUjYsfIU7zzuNy574hPWVDkkRKoQQQgghhBBCiN/NYS1UvycvO1a9zJ03PsfWpEs4b3w6Yf5di3xrVG/awNZ6O47mXNZurKZ1ehrR/kfYoRxJDD74+Bjb8/Nbh3DUjFRCOwUPOjPFHcO553xP2aflpF54CpnRNnar2WwwtH9OtdLc4sGrKei8JYsFy8737IXZYsJgMAAGgqNjCbb4sFsowRRDTLQVH4sBnE00NHXsx9Tz4tEmk7ljH0b8AgKwmHcvRo8xiMjIYPysZjD4ERYRjNVq3v09pjDCQqz4WEC11FBd58TpVrTPdG/m809XUFTRDGmDyYoJIaS7IWiMZvpxk+j3xQa21tfwy6ef8ssZw+kXm4J/9SI++GojJTWKjPPGkRQehs+eR0JQUCAWc3cFyR2s+uwr1pfVEJDgIGf1MuyFXY7B0YTSjFgM4HTkkp1TR9NYnZjeLjygN5C9sYD6Jgf+Q65g3iXTyejTNcikUV/XgMvtwWSxYDR2P0702oU8fOXdvPjVeirsXgKPvp8Pn7mCqQMj6dWy7MZEMgbHYQvuco8xRjHtonOY+u0WSuu20ly+jO/WVnJMRgohtvYjCh5/GrNHfsqGoh0U53zKh8vPYnS/OFJtO1uoUbzkB7Ld/Tlpcgox4XsPM3bbNIsFH1N7EMQnczJT06KI9D10xdPb63cYAQOBEZGE+HUJjJoiiYjwx98PaGyhqcXVHlDddXMwYzYZad9EIBGRIfj57X7MpsgIIvz9ad9EEy0uF7ttAjBbLBiMRtjrFPnB78e7tYCi2nqadYjRdFSXXVn6DyEjMZpwn21U1FZTY2/D2aWdvcPDtk9e5r9rA5hw7QyGp0d0+kK24O9vxWIxgnJgdxxITRUP+Qu/ZkXuNupJYmBGHOHdjkMjkROnMz79C1bn7KB8w9d89fOpjMlMYmCIkd46t/vNmsDUq55lwtk3se6nJXz33XcsWbqMn7eUUd/mbR8hzhIWPvMk/dP6cMtpY0n0/3WH9g3v8NSLH7Isr27/AzwGXwadditXz5nAgEj520IIIYQQQgghhBC7OzJmC/QWipZ9wtv/fpFXP/mZ4kYn2orbOO2npdz1wtNcNb0fYb47p2dNJJ98Ddflmfi2YSDnnpNJrO3IOIw/BIMZs4W9P9VuimPG7a8x4/Yur2tNFPzwEa98uo6qZjcoD06XjjoUCwiMPvhajB1t1NA0fe9zrAfB19eKybiv4IIvflYzJpMBlAunw4vWcbxa6S+sK6ql0amwhIYTbrXudQIxcPgIBkeHsXJLDfXb1/PL9gZmDEnCtXo5v5TX0qSiSE4Owz9gP0MG7i38sr6MukYv9jXv8ELhZ1i7CzwZwuk3JBwwEYgXpXlRdB9UO2DOjWRvqaGhNYSJp53K8MRY/LvuQKsgr6CSxlaNuKREgvz9u22DMeIY7n5vKqe+eAkXPPwZZGYQFhxMry+rMxgwGA101whT/FQmD43lm41FNDdVkb+ljKYWF8rWvpoDSxqz50xjwYpCynMrWPT+N1wwLZ3EkOj2FSlaEUt+2IgacBbjEqIJPYhokNFsxmzY2yqT34nRgo/FhNFoAKWjdROM+O1N+GAxtQd3la6h6eqQrC74rf14XS5cmoaOTkNdDXZHG4pOY9EcR3xMMIH+hvYbZfdD5KBpJZ/z0ps/YRh9BbPGDiJ2txWZRgIDA7FaLIAHh92B16OxX1/ZWgUbsouoqm1DmUMIC/XFd2/LpQKyGJIRR9QSE+XVpWzasJ2aGicDQrq/Rrs6lOfWEprC6BNSGH3CX7gdD82lG1n60as8/6/3+DG3mrbmX/hm0XpOGZtJQv+g9vbqjaz8/D0+WZRDyITTOf3EyWQlRxPib8Wsyvj80Xt4/qM1aFNuY/5VJzO2bxAm5cXRVM7Gr//Ns6+vorCiGYd2WK86IYQQQgghhBBCHKGOkGiEB90vgdFzriNh+HoWvfM2X6wrobHkSx6al0j/d+cza2AM/jszo0SM5dLHx3Lp4W30n4K3LodFC17j9U824EmdzJiEaAL9tlHrPNwt+53sij7p6Dsz+gNaeTmVHU+wm3WF2tcMs38yyXFBBPgaqHfWUFllx+l0U5yTT11TKzqxBAX7YDHv3wSe3lJMSXUrbZ4Axl31L/526RQGRByejH7u3GxyqhpoMfcna3A4IcF7tkNv2MCG/DqanNGMHNqP0J0Biu7orWzdWkaLI4ZxWfGEhvRyEOi3mCLo378PIZN/cLQAACAASURBVIFWDE0emurrcbrdKHa22Ujk9NM5PmshOdvrqVj5IZ+sPYmsvlEkBRjQCpbwQ46FzAtH0Sc6pPcDQuKA+cTGERMUiJ+hmprczWyrrceuIgjaNcAsWCxGjEYDQfGJxAa3p2HrVVopn//rVZY4h3HJKRMYnNA1eGEkKDgQq9WCATf2lmZcbjcKa8+vA62SyupmWtsUGBW62legw4+ExFhCgvwwVLdRV11Na1sbOv69uzrsoFkIThjOidcNZeKoVG646UneX1lKcUEBtQ2NaLSnJNMbV7F8o2L4xf/HNRcdx+CoX+8femMJ9hYnbe5Yxk+ZxJixwxkUtvMKzWDosBDqt/+D6qQgAgLkyhVCCCGEEEIIIcSejowZA2MYqaOmcMyJp3PBdQ/x5pIlvHbdNPqG+uDM/Zj3l1dRZz8USyLE3mj12Xzw0PlMmXguzxekcuWL7/LWM7dz6rA4Ans/D84fjtdux+HR0AGvvYVWj7dT7ZkujKGEhlixmAHcuJw6utZGfX0zLreX9tU4ar+f/FeNjTS73XhVGw31dtwe7aCO6cBplGZvoqS+GS0liyFxoYTsMUZ0mn9eTXZVHfbgLEZkRBAauI/bjyuH7C21NFsHkNUvlJA9lr0cakYiI8OxWtsTsplMJkxd09r5DeXUk8fTLz4YoyefLz5YSlF5Axoetny/lLygLCYOjyM66Mi4zYp2lvTpHD26P0k2E1rRd3y5PI9tnQsNOYooKqmnydWHqTPGk5oU2ctPH2iUfvEiryxuIGlkKoaKdXy54B3eeafzz7ss3lBCvUMHFC1NjTjdrv1b/aG10eb04NXaf7fb3ftIIWbEFhKMb8d4d7tdaNpBVUXZf+4ili5aSV5JHb9d9slI6OjjOXpkGvFBBjSPG6+ud/SPTt3KFZT3PY5Tjx/PoKjdA7LuvBzyq2ppCkwnIz2K8D2KzPjiGxxLn7iddWSEEEIIIYQQQgghdneErFTpwieJ2ff+lU0bL+Spb4vI31KG3TEQFbQfT+mKA6RTv/ZV7rzufhYUxnPh3//DHScOJsrfBByuSfsjjzkgAH+LGSOgqsspsztoU3RfjNxgxcfHhMkIGIKx2axYzB7c3o7VL7TQ2OjC7elSn+a3GAwYMYDSKC0qornVjo7t94+U6vVkbyigrslFzNgskkNDunmyv4VVy3+hrLaZoFETGBUbjm0fj8B7CjawubIRLS2LQeE2fv+4hAFfqw/m9pNGSHgEVh9rl/eYSDx+DjP+u4S80hyqv/+QLzcfQ3ocLPmxiLCs68mMjd4zDZo4vEzJnHLTnVQ12Hny3RV88+wj9LH5ctM5k0kNamT1f/7NR780knzB3dx05gQGhPfu16Rn28c89+LH/LQhn6Y1P7FgVzBg75rq6mlzONHZjychTP74+1kwmwBtB5UVrdhbO2pC7cGAj8+v4z0oJARf6+/7fevJXcz7i1wcFxJP38Tw3/6AKZLIcH/8fY2EREQS5OfX3jdaDStXNZGSNY2U5LAuf+R4KMrJpaymAWNaBhnR4YR1vQ9pzbRaQ4n39d+1OlYIIYQQQgghhBCisyMzqAIQMJJjpqbx+poyvB4PSj8U2fdFV9q2Bdx55f28tXYH6de/wBXTBhLpf2QlgDkSmBISiQv0w88ALTsKKahsodWtsHU3YansOJwevDoY/JNJ6xtMYEAwIYG+7Sm/tBqKCqtpbfWgbD2fyDTYbARZfbCgUf3zCjbWnEBWPxvdZN7q4KF0fTbOuL70iQjFr7cmDNs2siG3lkZ7ECOGDCQ8pGuBetDrf2LpqmJ2NAUzatIY4iNCMQGa241mNmM2Gjt9RqMyexPbGtroM2EwUbbgXSmIdEct2wtLaPWPp2+fCAKth2psKuwOJx6vDqYEMgfHY+suBVnIRE6bNZLPN2ynpnQNH3+0mhP1an4oiWboGenERvlKIPgIZIqZyDXPvcXAfrdw+4uLeHPeSbzzYCSRYaFEJo/ipEf+y9yjs4gP6uWvSGcu7/79RRZWhDPljEtJidp7zRK9fhOLF61kS2kj7rpqdtjbcCg6pSn7DaZ44mNDCAwwQGMt24oqaGxyoiK626fC4XDi9mpg8CMhJRlbN9fxoaNRtmkLdZ4UDFbfnu1Xa6a52YXLG0zm8MHERrXfU9Bb8Bt6PMdk9CexazRWq2bz5m3sqHeRPDmD2PBwLHts18aAieNISYo+DMFcIYQQQgghhBBC/BEcuUEVjISH27BYAoiKi8LXxyKTk4ech3Xvvsn3RdW0qlgyshIIDOja7xLcAjAljGRE/yi+3lBMS1sea9aUUjcxg/jYbibetUrKq9twOg0Ejh7HyJgwbCYfUlOTCQn0x1DbSt6KZWyvHcug+HisPRzoxqA0UvsEE+hroKH0G97+7Ewm9o0nM6b7iXzH5jd59PlKZlw1l7jI0IPsgV+58zaQU91AiyWdrKxIQkK6Bjp0apYuZsX2appDxzN9fB+iQk2gVfDhnf9H5cy/MGdiFvE7D1xvIntjAfWt4YzJSsAWYsVAK3mf/oMXPitAC7FSsWozUXPv55YzxtEv9FDcxjTKyyqxO1yYkycyOSuaiMDuetVC/9knM+ndFRSU51P05Ts8X7uDzbGnc0G/WCL2Vhj8EOr2CtU1tH3W1Piz8VC15hO+Lk/lkhfmc+rU/thMOgajCZPJeGi+a/QWNrzxNC9928TQKx7hjrlT6d819VQnWsm73Fq6nZKyRpqqyihtaqFVgx7HeUxxDB3Sn7ioFeQ1tlC4bh3F1Uczqm9SN4tVdKqqami1OzAEDGHUsHiiI37HPw/0OjZtLqS0IghvD9OO6XXZZOdX0+A3lnPG9yMxqiM8Yknl6FNSu/9MSw45hTuos8cyKTOZyPBu6joFDOaEkw78UIQQQgghhBBCCPG/7wh+DlOjuqoGt3UoU8bFECyPjLZTbtwevaP+hkL3ar9RgHg/6HXkF5Zjd3pAb6Gx0cvu81s6ra1teDUdaG/DHvtVoHf6/UAbtr/1RQ7a/rbV1J8TT5pIarwNEw7WL/qGLZXVOLvZhqdwAxtL62nW4znujJkMSIjCx2AiccI4MqIjCDCAY92HvP1DIaVNXVOs6Xg8HvSOlVperxe1s3MsaUwY25+ocF8MqoGf/vUYryzeSEXrnmnanNs+55G73sKROYaBibEE9NqssUZJ9iZK65vR+mYxNDoEW9e5WH0Hy374mfKaViInzGBsfDQ2E2jlS1jeEkNyaCihnYMPrs1kb66h2TKAIWmh2IzFLHzyXl7MS+P8+Q9zTtwOthWt5rsVhTQ0OXvrQHbn3szP60qpaw5g/FlnMDY5nm5jKoAp5jjOP3UU/eL8UXXf8d7XFcQPGUffmPDu08H1NqMPVh8TRiOo5nrqHW7cu5Wg0qgpr6ShpQ0voOv6r2NofxzE9dzTTSild/7HIdqPRuWSp7n10VXYpp/K7OkDifQ1YbFYMPdCQMWRv4jPl25ia427Uxs0yr99lof/9S1toy7kgmNHkrqPgAqAKTKGKFsgfiZQ9mK2FjfQuF+1xUz0O2YmEwamEGEG56alfJdTTFlbdzepbeRsLqam3kvM9JM4ZnDqr0HOHjqo4dG2hc15lRRvKKS4oYnfPkwnmz/7nGV5dfQ97WxmDEmjJzEg95bN5FfV0hyUTkZaBOF7X9Z38PRmSjetZNmaLZQ1OJGqcEIIIYQQQgghxP+Owxup0D14dtWV6KL5J75aWk7UrL9w6sBYQjsXvrbn8umTt3HDva+yvLQR159ptkJrocXuRdMBdFqamvB4f6PWifLg2RmI8bbR5tTRu+szoy/+fpb22h+qgaXvvk92ZT1OHdCbKVz0HE+8vZryBhfodhrrnWhehdvlQuuoC6Da7Dg1HR2F2+XAq7rWC9BxOl1oHZOn7ZO7XQaAZqfV4UXTFeDF69nfIu46brcbfedB7uWzbrcHXemgnLS1edH26EYvbo/WEdDQ0TW9UztMxJ5wNZfNHEqKzYxr48e8tSiX4nrP7rvTG1nx8ResL20g6uSbuGJmBkm29svO1PdEzjwuk6QIH9BK+OiR+3jp6/VU2n9tiLZjJW+8/wNFlc0odKoKcqlqasGtAHzIOOU0pqYnYDODXr+S5669kCvueYEv1xXT4GilsSKHxa/cwTlzruYD4wzOPHYoKWG/JrxRThcuXWuf8NM8eHS1f5N/eh3Z2YXUN7mIyxxCUqhtz5U23hK2lTTT6opgzOThxEQEY6SN9R8tQc8cQUpcNJ3rQXsKN5BT2Yg3NYuB5hI+fehJfrDN5qqLjmdYnxACI/qQPu4MLjptHAlRAfvT2t0p1X5u9xgfGuVfvMUna0swTrqeeeeMoX9UNyuQdvEl84xzOWZgEmEmMERM4OiJSUSHHfiT/rrHi6fjmvI62nBq3r2fF1MKKYnBBPoZ0OuX8t+3fiSvrBkvgNbI5s8e5943V1BQ6cSCTlNlObWtrR1jCEDH5XLj1bT2a7i7aOmuoucK0NC8avd7iO7C5faiae3Xc/ebaMPp8dK+CQ2v0vc4JqfDhderoZQHt8uD1rWwei/sR9+xiH/9/W0WLlvBD4u+YfF3K1i/pZDiihoa7S68B5NqUivnm1efZv6tD/HRz1tp8AB4qPrxWe6a/xI/mY7hiktmMrJf8G9/+fokkRQfSkiAAbQKCvMrqW9w71/sN3oGF184i7EDI7C4N/PVe4vJzqvudO4BdJp+/pKFawupCp3JlRfPYmR6xK6Ue711bvfFU5BDbmUtNYXf8vG32eRXO/dxnDoNq1/mb68upiLlAm48/2iGJuw9jVqnvbB1cy7lNQ2Y0jIZFBVB6D6yB+r2baz6/C1efOJh/vrkWyzJqcDR087Xm1jzyh385ZQZTBk/mbPmv8VP2x09/LAQQgghhBBCCCGOdIcvqKKVseDqiaTFxjP0lDt46+dyWjoer9Yb1/PaHY+yrM9lPHDzcfSP9t+t3kLp+49xz1PP88yD13HPa5uoaOxZupA/Pg9lCxezprqx40leRcOaRSzdVkezZx/PZdfmUVDZhsMLaFvZsLaaFru3m0mrYMZOHUucLQgTiqblj3PeiSdx0uzjmJSVwdHztzBi1hSSokMw0sKPL9zANRccw1FXvsrGsmZ0vFTkFVJtd+IFvNsLyGt2tAdldnGRl7+NVocLhU5NyXYaXS46xzP0xvVkFzTT5gS0SrZubcDp/I3AUWd6A4VbK2iyu1C4qSqvwO7oMkmnVVK0vZZWuxdUC/k5+dQ3t+4+EejeRnFpM3YHoO+gpLiBtrZOY82nL6fPf5R5p48hMbCGr564m6c/WEVxU0dgRW9hy3sP8uBrP+MafjNPzT+bcX1Df83hb4zgqGvv4JJjhhAfYEKrWsLjF81m1pmXcPP8B7j3los4/thrWFjlxevrjwFF4w+Pctr0iRx70xtsKm3GFD+bG289lykDo/A1gNa4mc+fvpYThicTHhBMWHwmMy55itW2s7n3nvOZ2L/z6gmdxtx8ihtbcSjQK4vZ3minbT+6mraNbNjSXk9lYFY6YSEBe95UTJFER/jh6xtFTIw/vr6K+lUv81JOCtMnDqBvdOc6Mh31VOpb8dOyef6x96geeTFXnTmR1HArBnwYfP5T/Pf9f3PbrAFE73cVeF/i4qMJ9Ldi0PP4f/buOzqKqg3g8G930+um9wohIUAghN6kSq8W7PKJYhdRUKygYAVR7AVUVBQLglTpvbeEEhJIQgqk955t8/0BaKgmGrMB3+ccz5HJ7sydO3d2du9733tXfbWI9QfSKTkfmTUWc3zZTB6f/hOnQx7gnbcm0DvC4y+nZFO792bkjZEEeNjh13sg3QLOZuP8PUYKk5LJKq1Ap4Dx1DEOZxVTcqV7XONDv+F9aOHnhqVSweEvn+CmoUMZOnQAPdq1od8LsYTfNJxuUYHYqaDq0JdMue9O7nn1Fw6nlwE6TqVmUFRajoJCYeZpCivK0dc6hKksgYTkPArLlLP3Qno+ZaW1XqE7RWpGEaXlCiiFZJ4upKL8gj1QlpBAcl4hZ3eRTnp+GbV3gTGXlLRsikprAANnUk9RWFpywWdDQxxHKckjv7SSytIk1n7yPPcM7kZ0ZBjBfp64ONhibWOLvbMH/i06MHDcK3y/O5UiXR1708uPEhefyekDPzH9ofsY/+gUnn3kFkbe8yqLT4czbsr9DG4fdMWspwtofAkP88NNaw3UkLB9GwkZqWQk7mL7gZNkFdclwGJJ0IjJvDL5LnqHaSnc+BEz31/EphMF5wIrJspPLOOdt79iW0E4D73+IuP6tcLDqtYuGuLaXpWRjOOJZORX4dOxBUWrP+WDz35l/+kyLo6pYSonac0cnpg4l522I3nh1QcZ1M7nMtOZXe4w2Rw7nkpOkZ6QyFb4uF9mPZXa9DVUVaSzb+V3zPt5E4nZFajq+nFjPMmBA8dJSS/HZMjn0N5DpKfl1PHNQgghhBBCCCGEaPIUczEWKJtnDFVaulsrKlDU9n5K297DldGjhinDxoxTnpu/RTlVXKUYLn2jUrBmqtIn1EWxtAxS7pofq5wuM5rhBBpR5V7li0l3K4NjQhU3W0tF9edMKwqgqO08lRYdeivDpy5SjmeXKedrw3Bmg/LBxJuVToFaxUZT6z02PkpUv5uV8dN/UA5llSg6U61jGc4o6167SYnyslM0515v4RKhDJn8jbL7dKlSlb9eeal/c8XVEgUsFPeODyrzd8Upa+e9qjx5e0+lhbudYqE6fywLRdu8uzL83pnKr/G5Suaehcr0Cf2VFm52isX5sqgdlZBuw5Xxc9YqaXnpyvb5zyt3dg1UnKzVf56fY6jSfcwU5duDmUpBjelyNXSWsUDZ/+NsZcrYLkqo25/lx8Zbiep/q/LEx+uVpKxTys5vX1MeGx6t+DtbK+rzr7FwUyJuuEl5+P01ysnMk8rm+S8r9/UNVzwd/qxvtVOo0n3EvcorPx5UThfp/jxu1Wll54LnlVs6BirOts5KQLsblCGjRyk3dopQmrfpo4x78zclLrtM0V+p2IVHlMUz71K6BDor1urzdadSrDyilbFvLFd2zXtU6dUyUAlqP1SZMGOBsikhVym/4KLplKw93yjPjYlWfB1rtw+1Yh/YQxn35jLlSE55reMblKTVHyov3Ndfae3jpFj9cUyN4hDUQRl42yTl003JSm7lVer6/J5SFigTugQrTi59lJdXHVNydJd7lVEp2vOJMr5HG6XbLQ8rjz90hzJ85GPKJ5tOKvkXX09jobLimb5KuLuT4hngrwRHRCs9R4xXnv90rRKfU67o/7pIf02Xoxz8+U3lwYGtFW9HK0Vt4aB4Bkcq0R3aK5FBPkpA6z7K+FnLlaMX1NlfMSr5v05SekV0UMbN262klP2dghqUrK1fKFPv7KE0c6t9H6HYeLVSbhg1Tnnxm11KakG1csnejYXKwa+fVG4Md/2zDWmclbABk5Svd6cphSe/VZ4eGK20aNlLuXXSbOWHrQlKTplOKTu6XJk7eZTSzl+rWJ8/ntpe8Y/ur9wx42fl0KlTyv5fZikPD4hQvBws/rwn7QOU9oMeVj7acEDZ+Mt7yuRR7RR/rfWf94q9vxLd/w5lxs+HlFOn9iu/zHpYGRDhpThY1GqbAe2VQQ9/pOzfs0b59f0XlP/1b6sEaG3+vCc1jkpQTH9l7PMLlB1Jqcqh5XP/0XEOJGafq6xy5eTvc5TxPUMVrZXqgs/Sy/1nFTBEmbbkkJJ9tc+e88q3KbNu66T4WV64DwuvnsqkBbuVtPL6PavKt81Sxnb0UyzPnYutk5PiEtxHmThvu3Kq5NKn45VVK5n7Fimv3t1DaeZqrzj5tla6DxyljBrYVWnVoo3S647pyqK9GUrxBfdvuXK0wer8Koz5yooXRyh9Rz6lLNiVqpyJXaS8dHOM0qx5tNL/rknKzPfnKQu++Ur5dPYLygNDo5XgwNbKwCc+UzYnFyjV9bjNjIW/K9NGtlM8rYKUW95dq8QX/fW1MBatUWbf3VO54fZZyvLDJUqdr54xT9k69z6lZ5CNolI7KzH3f6RsOFlW98IKIYQQQgghhBCiSVMpSqOvXlGLnsLkQ+yPO0lmmYKd1o+wdtG09HPCxuJqSTQ6co8dIMnkT6vmPjjZWsgi9g3KSEXWSY4cTSJf5UXL9q0J1Npiee6SGAtPsm9/AnlWwcTEtMDLwRqNXAAwVZJ9Mp6E5NMUGWxwDWxJVAtftHaWdWqfxvIzJBw9TkpWOWrnQCLbReDvYgc5SaQYXPH10OJofbX7wkhJejzxiank6hzwCQ0nIsQTR5t/8f4wlZN64ABnbENp1cwXre2V0zP0hcnEHognS+VD6/aRBLjYYXlxwaq288bYR/jgUCiTF77NXZFG9n02jRc/3kR131f44pU76RrqzN9OArmw8FQXZpCSkkbGmQKqNA54hETSOtTrb3ymlLNl5u1M2hTM029NYXTM2ayQxqYrPMWRuONk6rWEREbS3NsZGwsVVGWRnm+Bs4sWJ4e6tcfrl5G8fd8xe94RvHv1IsrXmtKsTHLyCigqLaeqqoYaXRUVJflknIzjQFwqDkPf5JOX7qZ3uNNf1J2e1OWv8tRLn7PqcC41Clh6dmPC628z+ZYuBDvVs+XWJPDzK1N5bcF2cuzD6DbsTu6/72Z6Rnjj8LdmlzNRlZtCQmIS6fk6rLT+hLdugb+bA1bmyls1prHm2+2oWnehQ9tmuFoC+gISd21k3bot7EtII7ccbF19CYvpw7BhfWkf6oG9Rf1acdXOOYx/6l2WJEcy9au3eHhwOzz/4nJU736PSS8tJqfbRJ5/bDQdPOpx/fQFJMceJrlCS1jrcALd7Rroc0sIIYQQQgghhBDmZuagihBC/El/5GPG3fcW6xzu5dsPH6NfK08sKtfx0qiJfHGiDS8tfJ27uoZg2r+ErUoHOkUG4uNo/hCBqWAVL97xErHtXuT1iUNo62v9Hw9cNFU60te+w7Mz1uN42/M8fVdvwp2v1tVdzcmFU5m8xYvxE+5laAffOnSM68k/vJYlv23kSIUfPcfcRP92gbhYSYswHz1Hv3iUR9/8ngNeE/jyvUmM7hRw9em/0BM//3GemZ9Bi4efY9LtPQiwqKEg5ShHkspwahZJi2BPHCRSIoQQQgghhBBC/Of8/ZWUhRCiQRnJOnKUU4WVBHSNwtPZCQ1gqiqnosaAycUDD1trrClk3bItJHcPJVoTaO5CA0ZOrVjK1oJgBvWNwM9DAipNVdXhb3n99S/ZZBrO+x1aEHrVgAqADd7eXgT5+2FnY1PH62qJe9RQHoga+s8LLBqGMYv446nkFhoI6dsaHze3v/7yY8wm/vgpCu0DCff1wq3kMMsWLWFHugEl5wCHlC48/PD9jOni2xhnIIQQQgghhBBCiCbEfAvVCyFEbaZSjhxOpLDcjdbtAtBqzwYn1NZOONpaYevigouVJcbjS9lY3Yq2AT542TZ++MJYVUBOQRnVurOL2+tSfuH9b7ajazeY/i38cbv68HdhNhXsW72GAyfSKCotobRGx1+uP18Rz29rT+MRGkxggFYemNco/ek97Dt2mpxyN0Kb+6LV/nWAzFQWz7GkAqw8mmObvZsv522gpOWtTH5mAL5UUJxfA2ppEUIIIYQQQgghxH+RZKoIIZoG42nSMkrR+XShVytP3O3PdXs69OR/j4wm7u1tfDorhY/LHOnz0JO0ae6FdSPHVIyZK3n5/il8vjGZGrcw2kcHojt5kARjT6a92JvwAEfpeG+y1FhYWqDRgO7YIl5/1ZqqKY9ze88w3O0ufBSaqnKI3/YbCz79hbTIu5nUM5rmznJlrx16jnz3Mm99u56j2RWUFxdTVqlHo4Vdcycwcp4dNrY+9HtiJk/c3JUw7aXXVpcQz4mcUtLyFvCxfgwPPvo/hvdohtYinAlzlzHeygpbW1sznJsQQgghhBBCCCHMTdZUEUI0ESbKzySRo/LE290Z+4vWoNAVppF0uhJ7v0B8XOzNsrC2butrjHn0fdYczcVwfqNVEDe98SVvjutFc1eJUzdl+vTVvPn0i3y84hDZ1QqordH6BNMsNAAvrS1qQzUleac5lZxOmVMMtz79IpNv70mYe12n/hLXBz3x8x/j0U9P4NqpC22cMtm+Ng59u3t47ul76B/pLiNShBBCCCGEEEKI/zDN9OnTp5u7EEIIASqsnNxwdbTBSnNpF7bGVouHlwdaOysu8+dGofH0QJ0Wy+HEDAqrTVh5duDu1z9i5j09CHW1lI73Jk7jHEaP/j1p5WNFZV4m2QUlFBflkZWewskTJ0jJrsLaN5rhD03nndnPM65fJF72FnJd/2uMmWz+4Rs2lLdm7AMP8dgDdxFjmcjmdYfRBbemTZieg1viqdFb4ebuYO7SCiGEEEIIIYQQopHJYEshhKgr25bc9s5v3PhEMhkV9vgF+eJqbyVTfl1DNK6RDHlsDkMee4uynAzSMrIp1mmw13rhH+iNi70NFhJF+U8zlcUTn1SAg29LfD08sUQNqMDWDnsbK/SHN7M30YH2npG0MHdhhRBCCCGEEEII0egkqCKEEPVig2tQK1zNXQzxD1ni6BVKa69QcxdENDHG9DQySrWE9mmGn68DatSEde9Dl83fEfvLOxx3aEbvMTfROsLF3EUVQgghhBBCCCGEGciaKkIIIYQQ55kqyM+vwsrBEXs7azTnN1cVkZVThtrJFTetg1nWdRJCCCGEEEIIIYT5SVBFCCGEEEIIIYQQQgghhBCiDmScpRBCCCGEEEIIIYQQQgghRB1IUEUIIYQQQgghhBBCCCGEEKIOJKgihBBCCCGEEEIIIYQQQghRBxJUEUIIIYQQQgghhBBCCCGEqAMJqgghhBBCCCGEEEIIIYQQQtSBBFWEEEIIIYQQQgghhBBCCCHqwMLcBWjaKknZtIhvv1/Kur0JpOWWYLJxJzCy7ZNbzwAAIABJREFUC4PufJDxw9ri62QtkammxlhFaaUKW1srLC3k6jQGXdJGflp3iLSCKpSL/qZ2b8fwET2J8HHGUmWW4gkhhBBCCCGEEEIIIUSDkKDKlRjPsGr6Azz18UZOFtagDhzGi+9NZojdel6a9Alv3v0LSyd8wFfTxtDG2wGNuctbF6Y8tn0wlZe/2IEyaAafTBlKuJfddRUU0mfv4qtXnmN2fDQz332KEdEB2EhH/r9OZWWLnYWevNgVLN0YR0ZRNaZzf9NEjMc/pg2hPs5YmrWUQgghhBBCCCGEEEII8c9cT/3pDchIysKXefmrrZwsrMGEBa1GT2Bs7464F2eSV12NzlRK7Ffv8+3BMxTUXDw2v2kyHF/Ee5+vYPexRHbtiCWztBLjtVH0KzPpqCzI4Ni2xXww9S769RzBpHlbOVVQicGkXJI1If4dloFdGfPAVN777h0e6hmGh0RPhBBCCCGEEEIIIYQQ1yEJqlyO/jC//ryD9LyKc6PtLXDz8sTaooidmw+QXVx5drs+m8zMKnT6a6PrXu0RTusgb4LaDeHpp24nytflmp6OyVT4G5P7RhEc3I4hD7/HpvLmtA5zx8WOBg+mmKrKKKvWYzD99Wv/0zRanJ2ssbqWG5YQQgghhBBCCCGEEEJcgUz/dRnGzEPEpZZSoTu/xQKNRoVK7Uab6DBcVyaSVVGNxqcL3Vu74WhzbcSm1J438sqqG3nF3AVpIGrXYbyxbhhva9So1SqgnFXPbWXjnsSGPZApl03vziau/V3c1LMNQfYSMLgyFSqpHiGEEEIIIYQQQgghxHWqaUYDjJksf2YArbs+wg9Hs6ho5OwAY3Y2uTU69Jf8xYqoR+axeNEC5s/7gbUbPuV/Mf44S2jKTDRYWmrOBVT+LTpO/foGb3y7lcScGplOTAghhBBCCCGEEEIIIf7DmmA4wEj6r6/xxqI9JFn4YVAavxtbqaigymjisrEctTMtet9Ki96NXChhFuWx83ll1mJ2p9gRaO7CCCGEEEIIIYQQQgghhDCrJhdU0Sd/z4w5KzmeVY4xoHGPbSpMYPuu45zZHU9Oua5WUMVA7tH1LF+SjIedHUEdb6BtoDN2tdeNMJWRvn8jq37fzIHEDPJrLHH2CaNDnyEM69sOf2cbLC5IqNBz+sBGDp4qotJwYTms/WLo3T4YrU0Zx1b9wI+rd3Ki1JHwAfcyflR7Apytm2iK0fWlKmkxrz43lxWxp6kwtqj7G/UlnElJIfV0PjVWzviEhhPs6YTtdbTOiKk8jT2rf2Pl5n0k5tRg69eOQbfezuCo+qeVmcrPELv1d9Zs2kd8ai5VFo54hUbTa9BQ+sUE42ZnyfVTc0IIIYQQQgghhBBCiGtZ0wqq1MTz9cxfsOgQjXdqCamNfHhj6nJmPT2LtYl56C74SzVx377AE98Caj9u+3wls8a2+SOoUnZsMbOnzeSz349RpO3A2LtG0tujhF2L5vPC52/yUrPBPPbqTB4f3BIPe4tzHcQGCk9uY9Gcr1gel0W57nxGjgqPUe/z+4y2xH4wlWmL9nK69FzU5Ydf2ZP1E5882J0Qlzp2NBtyObB0IT9vOEKhXSSD77mbAZGeOFxHHfwNz0T+trk8Ofkdlh44Q4URIImFj/Tllyc0qFUamt0xl8+mjiYm0P6P61CduYdfPvuAz37cQY6tD74uGkpOHedEjgG3yL7c/tgkHhrZkSAXm/oHxfQ57F2ykMWbjlPuFsPIO8bQvYUn9hYA1WTFbmDlqo3siT9DmcaFZh2HcMuYG4j0ccKqQS+1kby9X/PKc2/w/Y4UimrOt9ufWfjl14yY8iDBuXWdJq2cxBUfMvO1j1l2MAf7tqMYO6In/tUHWfL9DL6cNZ3A/g/w4vQnGBntj5O0WSGEEEIIIYQQQgghhJk1oYSHKuK+eIMVLrdwT68W+DpoGr0Eli3H8cFvm9j52f+I8nOsVTm2dH/6e1ZvP0TcobW8NTocL1s1YKJw57vcf+ejzFoaS05NKPfM+oy3Xp7CxKdfZ8H8Z+nfzJXq48t4bdytPLVgL6dL9ec6nG2Jum0m3y55m7GRvjjU7i82ZbLkxceYXjugAmDKY/Oy9aTll2CoS6911Ql+mPwY7x2044Z77yXizNc8fsvDzNubRkmddvBfpca57R28sWgtH07oQjMXFWiCGDn9a5Zt3cPevbtZPG0ErX1szwVUjOTu+ohHbr6VSQsL6PXKr2zdvo3NG7dxKP4gK14bgU/OeubcP4Ixk75gS0oRuvpUv6mYnXOf58O9GjreNAj3+E94+K5n+Hb3KYpy9/P1lPt4/L3NlDUbxiMvvcozY7w5/sUjjLx9BksOZ1LZgJe67NA8nn3yVRZsST4bUNF40vneGXy9fA1L5t6KZuVn/LgzgezqvzioqYi9n07kvkdfZ9HuDCoDxzJ97pu8+vwknp45n8+nDqeNj4GTq9/hobue4vNNJymoV6UJIYQQQgghhBBCCCFEw2symSpl+z7mjfW+3DG9LxEVqWj+YlB6VV4aebjh5WKHtUUDxYZsPQgO98Ar1Q07y9r71GDn2YyIyCiCXf7cbjz9G688O5ffj+VQZQSLyL4MbueB1vbsa6wjB9K/zefsSM0hpyKB7196nuah83i8TzPcrM+eoMYjiEB3W6wsAD2AQvGmD/k4YACPznoK+20f8cGyQ5wpNQAqrB2dsLPU8Ndrs1cRN/81lrvezYsT+hHhrUId4ITlmnX8tvE0I1v64+xa38uvpzgjmbTcUqobLCijwc4rhDA/LTaWjR9IuxJLJy8CnJzwcbHjbFOwxMEzkODmLQi2v7DyqxO/Z9rUOfx6xJFbPniFCUPb4m1/rp3YBtJn4hzerirj8Q9WE/fNi0xxcOHTqaNp729fp6imMXUZP5xowc0PjaZ/tCduO75g8Y5f+fo7f/blZ+A99CHeHtWFEBers0GesEe4a/NGji74iq9WDKKtnxcR7g1Qt5WxLJj9BeviMig3AmjwGzGVN18YR88wFzT054ZILRMefpflcZkYrrgjI5mrZzH9/d/Yn16GAQ3hPfsR7eOJgxrAivC+NxD15WaOZ6RRfnIxr78SQrDXJIZG+WArCStCCCGEEEIIIYQQQggzaRJBFVPxNua+vYNmd7/CDWHe2B+++usrds/izvGzWHval/vn/cALQyPwsmvsntZStn7+ESvjMzmbTKLCISSMIDtbrM8XxSKQFqEu2FtroMqIUriNzz5bzeDIe9AGOnO2m1uDWqW6YCovfZU/t06fwSPDWuJ9Zwxedg/y8g/7yLHvwsMPDifU8/x7r8yUuYJ5m30YPa09gZ52qPWHOZ5URGW1AaMJlL8REzFlL+aZEVP4Ie405Q2YNKAJuIPPV7zNra39znWqX0OM6fz20TzWxaVjin6G0R2C8L34JNTu9Bz/PwZvOs6Z/EQOLviAH/q0wdc9Cl+bv2q3RpI27UEVNZpgH29slTKKS6rQ6SrY/+3PBL3xKeNGdb1wOji1I64udlhZlJOUeIqSsk4o7o7/cF0SE/kbf2DpgVNknU990QRyw8CuBHppz7VHNc4xA7kh8kd2JmZxuuoKjaRsF9/MW8mhlIKz0+ypHAgMDcTBwfaPMmr8mxHs5oidBsoNCkW7F/DV6htp4+9BuFuT+NgSQgghhBBCCCGEEEL8B5m/d9KUz6Y5c4hr9T9e6dEcT3v1VUa4AxjJORpHcmEFVaUJHDySQ3nfMLzsGvdUTAXrWfz7CXKL9ee2aHD18sLGsvZaJxZ4erljZWUBGAET2euXsC5tGGG+zlwpUcQitAe9I11wslGBqjXjPtvMTa9XoHJ0wM7Sog5ZKkbSVq8iq9UYWrm7YK8G/dENbEkooFRpSYcOHjj8jenV1N638N667jxbWE5NA2aq2Lr74udqj9W1FlAB9PErWLYrhcxSCGsThbez82VvKrVXXwb1bMbKuGQK8w6wbNkBbm3fDJ8Qh6sHO4yn2LHPQMBwN1xdLFHpjpOYXERppYbAMRN5fGh7Qi9eX8dUSkFRBTV6ExqNBSpVA1SsKZ9tG/eQnlOM8dwmlX0zIpo743hB5o4GtQZUVzwpE4Vbl7P++Gnyas5tUrvg4WGLde3FXzTueLid22ZQwJTLlpUbSRrWmlA3byz/+RkJIYQQQgghhBBCCCFEvZk5qGIi+/e3mZvYkYde7Uqop20dpkPSEDzqMZ5I1LChqCV33tEaH23jn0b1gb3E5pdRafpzm729AxpN7TNQ4+Bgj4W6VgCjIpa9Bwu5JyoIV+crnK2LOx5WlrU6ji1xdNPWo3QGcg0tGD2sLd6utqioIXbVOuLzSyFqADeGuaL9W6uXa7BzD6CZ+99463XJSMaBQ6TkF1OtWOLi5oa1teUVgiQOtI9pg5frbo7nFZIae4DUogG0DXbgqskqxhI0LfvQo7kPbtYq9EcPcySziDJaccuYrgT7OV2atVRzgsTkYsqqbGkV7I+Dvc0/zFIBao5z7EQBJeV/Nni1qyee9tZY1ytmU8PhA0fIKSr9IzgDdtg7WGBR+zZWO2Bvb4FFrZOrPHqQuLxiOpu8cb8GA3BCCCGEEEIIIYQQQohrn1mDKsbTS3nz4zP0fGICnYLdr965XIvavQsPzOrCA/9u8a7CSP6ZTEqrdbU6hsHaxgq1unZvrwprayvU6rPTeykAShlZZ/LR6QyA1eV3r1KhUsPf7wm3pvODz9H5/D8r97By/UnyS63oOnwwYe5aLGVdigZg5MyZLCoqq1GwwKQoV51WzS44GF9He2xUhVTnZZFdUU21wtXbvVUM906M+eN46UeOcqqgFH1QP9oHuqC1vvTNuoQDxJ0uoEQVQXRbd7RXCt7Vg7Eom+ziSqprN3g7O+wtNPX7EDEWkpldQmXtHamssLZSc+GtY4WVpeaCbUp5DlkFVVTr/qrShBBCCCGEEEIIIYQQ4t9hvvHehhR+nDmfov7jGdMh8I+F268NClVV1RhNpgu2qtQWXBwJUWs0qC6aC6myvAKj0UhjKd22kg0p+ZQ59GBo/xDcnK+UTSHqx0BFRRV6o+ns/5eVozcYuVJcRe3igrO15dkghK6GapOJerUCUylH4hIpLKnCNbItzVycuXQpIT1J+w5wKr8EU1h7YgLccGmICFpZOZV644XlVanRoKpnW6qiusbIhc1fhVqjumjKMDWai7cpVVRUGDA03q0jhBBCCCGEEEIIIYQQFzBTpoqBk9/N5IucKP43xpbyrCSOZ9f6a3o+lXojirGU7FMnSFAX4+jsQ5CXE9aW9V8LpOGpcXJ2wlJj8WcGCqAoSq1/nWUyGs9t/5Oj1hmNRSNVvSmfjau2kF5QgUvfIdzg54JjU6jC64IF9vZ2WFqoAYWcM6epqKpEweqygQaVtRVWGg1qQOWkRWttWb+MoZpjHD6eR3GFNRFRkbhpHS+NiupPsn17AtmFOsIG9yDMw61hkjpsrbHSqC88Xk01lUZj/QJDKkecHC2xuGBRlLMZPhfdORiNF2X+qBxwcrLAUhZUEUIIIYQQQgghhBBCmImZgipVHDsQR/LGQ9y79M2rvG4Jz4xcAqjxHfsZK2ffRpS/gxnTa85T4xYajJe9NRaUc36peoNef1EARaFGpzs7LdQfb/UkKMQNG+vGiWyYsteyatsZCqu8GDa0B96uDmgAQ00NWFqiUavrnGlgKt7Bp9M+YEXcGUobcqH60BFMfXUc3YMaKADQaDQEBPriYGuLijJyk06SVVaOTtFe9jyUiiqq9QZMqLALDiPUyeEymSZXpk+K42hmEWVKc6LaeOLsdGkb0iduYevxbAr04QzpHY6nhy0qQK/TobawQF2P633Bmbq4425vjZUa/oiiVFVQoTdiUKj7VHVqF4IDvXC0tYLicyvVK0YMehNK7cQvRYdeb6R2MpjaPYBgdwfsLK6pRiKEEEIIIYQQQgghhLiOmCmoYkVwj5u5y6ITRdWX/tVUEMvv62LJVELoPagjwVp73DtG4GFv0WSmrbKK6kYHv6/Yd6qAIsPZbRVlZRgumNfIRFlpOYZa8xWp3TrSI9oVR7vGCA0ZSV+zhj05hVQH3MrQzp642KnBkMDnD36M9ZNPMbpNMK51jO+orV3wD2lBuM6J8gYLqqixDfLH1cayCQTLrka5JOMINAR0iKGF5+/EpZVRmbiPfRkF9Gjlh4/VpS3VmHWGnMpqqlUOdOraAW9X7aWLzF+RkazDRzlVWII+oA9RgVqcL5kyT8eRDZuJz8zHGDmSPuHeeNiooGoPH0xeje+9dzKwQxguf6ei7SIID3XBaY+KgrKz9WAsyiG7rPrsOit13qcVkR2jCXDfzrGsnHMByQrKy/UYDLVeZiqnrFxfa6ovNS7RnYnycMWpaTcUIYQQQgghhBBCCCHEdcxMQRVr2o19jnZjL/9X3d43GBmbRJ6hE/e88DpjWvlib9aO1LOj6C/oUrfvwdhRbVlyPJOinGrASH5ONtV6PX8O3DeQnZ1Htf58b7EFYaPG0sfP/epTcCnK2VH79ckAuBxjGus3HCSvWE/YPUNp7+GCnRr0R9ewXdOcRxwccKhPvdpGMuLJVxnxD4p0bVGh0ahRq1RAJZUVeowXpWVoWgxnZI8f2XnyDCeLYlm35ji3RbfAO8D2okunJynuCBmFpZj8hnDr4AgCPC8/TdhlmUo4fPgEhSXVaLu1oYXWGftLYiqH2LA1kewCiBrbl3BvD2xUUL5vI0fsAujg5ILj372PNAH0uqEdPuuPkVpWevZeqE7g8NECSjqb8HY9t+OaPAqKq9HVDrpdFIyy6zyaYdG/EZecS3qlAqYCcnOrqKlRwPHcSRlyyD2/KD2ARShDR/cmxM+lHoEoIYQQQgghhBBCCCGEaFjX5pjvigSWvfMsT778FTsyiqkx/fVb6sOkM2CoPWUXesrLKzEZax/IitbjJnNPp2A8rM+urFKWeJSkskqqz79Rn8jRhEIqqs4Ot7cOu50pD/Qi2NPuz4pXdOgMpgv7nSvKKK3vWhWXoztBYlI5lYZm9OoXiauzDSpTIZt+3IFHz24Eemi5TELFNcyAwXiuLo1GDIrCP2saalxctFhbWYIxlxOJmZSW6VAwkndwC3tTcik2ejP00QkMbheC1qKGI0sXsi4hjUL9RSuEFO9i6cpYMoo8GfXUQwxuFYS2PndfzTEOx+dRXG5NRLs2uGqdLrl5jQWppOeUU6lqRfeeIXi4WaEyZrBmRTJBHdrg7+v6D6KoGgIG38bQqCA8rc+fVCF71m0hOasAnQLozrDuvbks2ptMru7PdyoFWWSWVVF9/mJYRXDbo3fSo6Xv2enPlHKSEpIpKav4457TJydwIq+EciOAFaFjHmdc3wgC/nZUSAghhBBCCCGEEEIIIf65a7CH0kjGL2/x0pyPeH/mE7y04CiZxYa/fltdGbLZtjOOgpKqWkEVAwmbVnEkq4iqWpEOtXM3Js6ZyT09Q9BaqTAkreL7dcnklupRMJG/6SdWHs2huAasA4fw0nsvMbqNDw5/DLXXk7VjI/vSiymvdQqG5C2s2pdBYaWBfzTJloUnnh7WWNn4EuBvi5WVicz17/FVdndG9wzBy8lMiUoNxoRRV0NVZQUl+WdI3P4ra/edIb9CwXR6H+s27SX2ZBYFJeVUVNWgN5nqWZ9WtGjXBl8XZyzREbfgJZ6bNpVnHh3LHTPWkVZUg6WFCqvQW5j25hRu6RyIQ95qZr/4Hov3pFFyLrBiKjvOzzNnsmB/De2fnsO027sS6lK/1db1Kcc4nl1Mmao57aK80Dpfmq+hcfbGS2uLrYsXPq622FjqObX8E1YpXekT3YyAfzhvltqlBw9Nvpc+rX05O3udifz1s5j4xNM8M3Uy948czH1fn8bCwRYn2z+jdab8dbzz5CSmzFrK0exSDKhx6vQgM6ffx4BIT2xURk6tW8z6hNMU6BQwFbJj6e/EpedRpVjhP2AKb75wK51DtOZKrRNCCCGEEEIIIYQQQggAVMqlC0WYnW7vG4y8aw5bDEP57LeLp/8yUbj2BW5++DO2Zzgx9tPfePPWNvjVax6ryzPEz+PB8TP5eX86ZZdZM0Rj44pP8ACmfDOLe6ID0J7r4TXmHeTHua8z68vfOVbiTOse3YhwKuTwtr0kldoROexhXnjhEQZFemBveb6zuYy1L47k8U+2c7JQf2lnv8oKZ7+ePDHvU57o3Qz3S9bPqAsjmWtm8ODTP1LReSjRlmnE5zbj3pefYFhrHxyu9QW/9fF8PuEBZq84Qo7eAguLs1N1qVRnz0tRTJiMRoxGAwa7Pry8aBbje4bjVp+mok9l2cuP8ty8DRzPr0FR2xPQ8z5eeXMyY2ICcLb8sw6rz+zip4/f5cPv1nK0xInwdm0IcTFwJiGFKp8e3PnkJMb1jcTLof6hgar1LzNy4qfssryFz+ZPZVT7gMsscq/n1LJXmPjySnQxvYiwyORUZVvGTb6PG9s01BR6RnJ2L+CNl9/iu21JFPyRfqLBNeomJs94DO3K55jz824yTJ4EBIcQEhJCcHAwzdr35+bBHQl2tz83hZeRgsNL+WTWbL5Yfoh823A6d2mJW0UCu/eeoMAqjBvHT+G5R4cT7ed8nWVVCSGEEEIIIYQQQgghrkVNMqjy13TkHjtAksmfVs19cLJtGgvYG0pPcWjHHg6fzCBfZ43WtwUde3Yl0tcJG435SliVfYx9B05QbN+cmJgWeDtYY8biXHtM5WQcOcCRtDKs/VsTHeGHi53lFducqTKbk/EJJJ8uwmDjSmDLKFr4arGz/AeVrsvh6L5E9D6RhAW44XCVfZVnHuFAXAoVjmG0b9sMT0frhk9J0xeRtHc7u+JOkF1tjWdEV3p3jcRfC2n79pJrHUDzsABc7SzrcGwjZemH2bM3loTUPKotnfAOi6F7l1YEuNhxrcf+hBBCCCGEEEIIIYQQ149rNKgihBBCCCGEEEIIIYQQQgjRuK7BNVWEEEIIIYQQQgghhBBCCCEanwRVhBBCCCGEEEIIIYQQQggh6kCCKkIIIYQQQgghhBBCCCGEEHUgQRUhhBBCCCGEEEIIIYQQQog6kKCKEEIIIYQQQgghhBBCCCFEHUhQRQghhBBCCCGEEEIIIYQQog4kqCKEEEIIIYQQQgghhBBCCFEHElQRQgghhBBCCCGEEEIIIYSoAwmqCCGEEEIIIYQQQgghhBBC1IEEVYQQQgghhBBCCCGEEEIIIepAgipCCCGEEEIIIYQQQgghhBB1IEEVIYQQQgghhBBCCCGEEEKIOpCgihBCCCGEEEIIIYQQQgghRB1IUOVaZigj8/ge1vw0j3emP8UDt49kUJ/udIpuRXhIIAGBITSPaEP7bv0YfvsEpsz8iEUbj5JVrsOoNHxxTJWZxK7+kpmP3Mq4t9aSllfV8Af5J6qSWfnms8xaGkdaqcncpflvKN/JJy/M4Kv1CeRVSZ2Lps5E/prXueOGCLy9vPDy8sLLtyMTvtjGydJ/4UPz31SVyrq5LzP7x10kFpr73qtg39czeWPecmIzKzB3af5T9PEsmvYU0z5ezeECqXnz0HPku6nc0jnw7GeKlxfeIUP4cckucxdMXLdMFO2cx9Mj2+Jz/lnm047bZv7C/mvtc6Amk13fvsO785ezN8to5sJUcfS3T3n3o2/YlFSCuUvzn2JIYe2nr/DSjK/ZlnWNteHrhoGk1e/zcN+QP74jewf1ZvaHK81dMCGEEMJsLMxdAFEPxjIyYrezadNmtm7fyZ7DGdQ4+tO8VSThQb6EdhxAJzc33NxccbRS0FWUkJ9zhvSUkxw/Gsfyjxbx/vQKVK7hdO4ziBGjb2LUwPYEaW2xUP2dAtVQcPIg2zetZ926LRzK0hDUsS9Dxs7goU6huNpaNnQN/H3l8Sx8/ll+VI/m2duC8XNq2HiiqegISz6ezQfLFMbMeZE7u7bArdFDlkbKz8RzMPYYSadLUOzcCWnXhQ5h3jjZaM6+RJ9FbFwx3s0C8XCxR/NvF8mhC7eN2M+kmTM5XTyF+4e0wcdOYrmi6TLVlFNS7Ub0sCF0jvDFQe1MRPtA3Kyv+i6MeiOKWoNGo+ZvfZw2pIpEfpn5Mj+U9WTCwHBCXc19z9kTM2owsS++xTuphTz8wBi6BDnKqI5GYKrKISPlMMdK2tGvXAE3c5fov0iDV1R/bn3Ai87FRmpStrBkq4Gaar25CyauY4qukrJqR5r37EqvTs1x0TgQ0jESP9urPaFMGA1GFNSoLTTm/4yuSmXdp7NZEO/OjeM70M7nX//W+hdsiezbi8T35rLggxzKJoxnaCvXf/+7tECpKSQ77ShHMyyILjaBj9lbZ8NQyklYs4jVxxUiBt7G4EhHc5foKtS4Nu/MsHufpFmeHv2Zg2zYlk1VRY25CyaEEEKYjQRVmrqqLOK2rGb5shWs33cGfCPp2KMXI6eMY0ZUMzwdrNDUtQdPX0jyvo2sWLqU31YsZNqSuTzvEEK7Hr3pc0MPunXqQPvWzfF2tsZCXXunJvSVxeRnpZF4NI7Y2FhiYw9zLCkPk3sEnW7ox+CpX/Jaaz+crDXm71C8mDGHDXNe5OvC7jzx3DBigpwbtuFXHWPBs48wY9Eu0tR96a8z0rhj2qvI2PkTn7z3ET/uzMXaL4I2kYE4mQpZ+M4L5Hn257EXn+bWTlpOfvEsz+2P4oVn7+EGF/tGKJsal84P8+oDmTz22Se4uj7FHT3DcLFscq3k31W+lblPv8dvB9OpX8KDGks7e5yc3fFtFknbTr0Z2L8jzTwcsPqPVWFjUtkE0GnU3Tw0JBrvy/WWGLPY/Pm7fLF4E3Gp2eTmFVBc5ctNsz9j2r19iHA24499Yx5bP3mNBRkR3DFxND3DXWkK4W21NoZxz40ne/KnfPWTC/b3DiLK06rpPS+uN8o1lmHV6CqJX/YF3yzdSkKxCitra2xsrLDUaMBoQK+robofiLiPAAAgAElEQVSmBp3JjU63j+f2wZ0Icajv/a3GM6o/t0T1B0yUbFRIOLHn2mz7lfv57s2PWPj7EfLqNVhchYW1LQ7ObngFhtEqpgf9+nSlTagHMs7i36Oy8qJNv5u4/4EBhFzui68pn/2/zGfegiXsSsomNy+fogpX+jz1OtOevoMu7ma8OKYiDvz0Md/sVxNz1x2M7uyDlflK8we1YyQjH7yXvNc/Zck3i3F69G5uCLS5Nu/na8l1+iwzZOxkza+LWV3Vk9Ah/+TXaTUpW39h0Q9L2ZsNltZW2NhYY2WhQWUy/vksMzoROfBWbh87kNba+j/LXMM6MzSsM0NRKN/3LaWnl0jbF0II8Z8mQZUmypi6hrmzv2DF0Qq8onowYMQ0Fr7VEu/6BFEuZulKs243M7HbzUx8o4z0g5tYvXI167bs5IfXf+CdokqMKiscXNxw1Tpia6lQU15CcVExFTjhHdSMFuERtGrbgUGPjee1Ti3wdrD+++VpFDoSF83gtbU2DHppJF3DPLBp0PIayfr9S77bfIz0MiOKiwaNqhErpDqVte9N5fn58XgOn8iCHTfRMVCL9fkiGAs49P0MXn5zFlmRufz+2w7Uw0bj6uzcgCMQTRTsnsf0Vz9lQ3l3npkzhTHtA/kzGciSwGGTeHTf/cz84Fu83R9hSBsfrjpY8jqnL0on5Uwh5TXnJo9Q2eEVGoSXsx1/xptM6KtKyU6NJ6+4Ep3xF2AG1h6tGHDvFJ5/fCQxAc4SXDEHlQNB7fsx2jaA4LU/sGhtLgWaEJoHu6Ktd4drQ9KRtOQdZq3SEfPICHpH+WLXhNqHpd8AHppwiCde/4rvPD147OYuBNk3oQKKOjBRHPcLc2d9yK8pIdz1wmT+N6gN7tfsUG1L3JrH0GuQM83yson9/SdWrIwlvUzB2jua/oNvpGeXENydfWgZFYSbrUQAajOUZpFxJpfCSsPZDSob3AIC8HZzwuaPqjJhqKmi4EwSRwpKqNQrwGyma0PoPOIBJk28m4Ht/LCXqjUDW3xadmPobY74bF3OklWbyTX6EhjohVe9O1wbkp6MDV/zyeJknAc8yIgbwnBsQo8KC88ujL3zOCdmrWDhD554PDScVuYcTCH+BoWyk+v59oN3mb/bhn4PP8XEu3vg15g9I0oxsVs3sTXFijZ39KZ7mO0/2JkF2oBIugww4pmTR8L2laxcvpWEQhNWbuF06TuIG7uH4+XiRWhUBL5m/a4qhBBCXD8kqNJEqdxaMuzpT5ng64L9v5H9oXEksOMIHuw4ggcBTDUUZ6aSkp5FfmEx5TUKVg7OOGtdcHX3IcDPHQdrC9RN6EdNXRjTlvDRvH24DJzG0OhmuDV0D3T1EX7+eTOJp4sxQuOO1tFnsHLmozzzXSYdnvmAl+/oRqjW8sIyaNyIvnsm0/LvZ8I7q4jNCeDeKD+0zg04Qtx4kiWfzmfZ1ljS9WriMgoZ0CYAJ+taR1B70f+h/7Hm3rf57tdOhHvdSCsv6//O6CaHXkz8rBcTATCSvvAxbntpIbtPlZ3NatK04OY35jN1eDT+F0f9jKWc2vkrH7/5Ngs2J5KXd5QVs+9jz85HeefdKYyO8cfhmu3QvEapHQnpPJCQzn1poYtj2+44stxbEunphqsZr4UxYxVffrMTi86PMqRra7ytm9odpsaj173ctXE3by9Zyo4If7w6BTRwoFv8q4xprP/xexav3M6RikKOpmSSX9Ma96YUvasXS7wiezAksgdQxR6SOXbkGOkVzvQc9ywvTbyZzpdNV/uPsuvAXa9+xV2vApjIWjGDJ6Z9yOKD+WefZepgbnxyDi8+MIhIh4ufZRVkHd3E9x+8w2e/budkUQrbv3mBIwcOMGnaCzwysh0eTSEV4b9EbY9fm574telKuG0OR/fuJNEllOZ+fnib8ReiKXsbS37ZQK53Px4a2IPQJvf5osYlZiSjeh1g9trl/N4qnOChEcgYgWuIKYu9a35l0Y9rOFgYjE9iCplV3fFrxOidLnUXWzYdotyvL316xfDPEsMscA1pT9+Q9vSlhqNulaTF7iah2JZ2IyYw9eUnGBws3T5CCCFEQ5OnaxOldgykRWNOq6q2RusfTnv/8EY86L/MlM+Ged+wVd+OJwdGEuTR0FPNmMhe+z0rMm3Qap0oNZRQbjBiNCmNMP2XjsTvZ/D69wexGzGHiSM6XhpQ+YMD0TcNo9PPe0kxtSSquRbnhvyBqnKjWcsgfIJriLjxCe7oGILXZTpzNX6DuWfkL0z49jtW9wzHx60FbvIJ9Nc0ToT0HMebYa6o736GeZsTKTQYydv5Ec++4o3n7AfoE+EuGSvmYMwm8UQG+cV6gnq1xsfNzXxTbZkK2bZwEZuKQ7mjf1vCfZpo0FLjQ7+xw1i2/SsWr+5KZLA37byawgRlok5UWgJDAwlo3gZt23Hc3i+6CXZ4/k36NE6mnCGnQI/KIZzWLf3wvXZTcJoejT0+bYcx6W1X7G1e5q15G0itMVFy7Fc+mOOCq/NUxg8IbVLZdf8ZpnxS09I5k1OFT+cwAnx9ueoyYv9qWUo4sHIFa09aE3VfVzo2t2uazzK1O50H9Sdm+8dsXLWRdq1D6BdstloT9aVyxNs/gODwSKq9RnH7qD60acx0KFMhh7ZsYnuaHe3u7k330AZsO4YsMk6nkp5Vg8o2guZhoYQ2agqOEEII8d9xDeR+1lCQX4ROb2jkdSrEta4qdiFfrU7G84bhxAT6NvwIsuqjLP5pD05d+tMh1A8HNSgmAwaT8q9P/WvK/p35323lRFV7bhrVniCfq//o1Hi3JNzfBe+27Yh01eLYkHe+2p0+z/7E7qOxrJlzDx39r7RmjS1thg8hxjKOnxZuJ/l0udzT9aDxHsCgnqH4uJyvXSNZa77k+x3JnCmXmjQHU2k8x5JyKSj3JKJVIO5utmbr/Kk++gvfr47HLuZGOoaF1Jp+r+mxaTmQAR0cSV75M1uOJlNSr7UZhFmpXeh0//us3BfH1nmTGBTp2STWOWgIxpxETqZmkVehYBUaTgs/LzykH6rBqV1j6NyxHa2CzncimijYu4oVG3YQV7+FWkQDMZWnkJySQWaRC8HNgvDzczTbD8SapHWsXLOLUr8udGkf9Q9H7/+7rEO70a1TIOX7VrFu+6F6rjMkzErlSKtRz/PN1iPs/XkGd3YJwKYRD1+dsoPNm+KoCupB7xva4dKA7dxUmEbaqVNklChY+gUREhyEv4xdEUIIIf4VTeTnopGMtR/zycojZJcZam1X0BdnoHR5iRn3dSXY3WwFFNcaUyFblqzicEkQt/QMxcutobNUjJxZ9TVLsyMYc18b8pKXn50azWDAqJj+5WCBkTOb17LzVDbloaOI8nDG+a8G02qc0TraERnWBk+tE+Yae6sJHMCNneaxafVvbDnVneYB4WadLunaYoGXpxu2NlaoOBdkNp5i947jFPZvTYijvbkL+J9Tc/wYJ7LzKbEPp1WYJ27mimSYitm5ch2Hctzp0y2MAO8mmqVynsaPG3p35Jv1i/l92wl6tW5OtFcT+ToizKia3IS9bFq9gtWb93E0KZ3s/BIqai4aVKOyxK3HQ7z10kOM7uTXQM8zE2UnTpCcmUMxGkJahBPg6XXdBIyaFg0uLlqcHO1QUXP22pqyiD8cz6mUQrp6ypf9xqY/lcyp9NPkWgdzY6g/fubK0DKVEbdtO7tPQLNxrYgIbaJZKuepPenQsT2RKz9n545D9O8RQ/9g6b0WOgpTD7NjzXJWbdjFoYRUsvKKKavSYQJQTBh0NdToVWg7BZCYkM6A4OYN1CmjUJGWRuqpdPIUNT5BIQQHBvFPVmsRQgghxJU1jV6MqoMsfP9Dvlh3gnzdhX9SuQ3m7cnBuGgbulNcXM9M+VtZvz2ViuA76B7ojmtD/8Yp3cV33+1D230K3cP82W6tQaVSgdF4NlOlgQ93oUqOHU6goLgcfDRoVHW4M0w6dCZ/WrUJQOtsxg5XtTudurTBfcUK1m9PY1jrZrjKUOA6UmNtbY2FunbHvYn8nGxqqqsBCao0Lj3J8QmcyStC3TySlt5uuJqpKZsKd7Fl90kKvW+kc7Avnk2+J1iNa/sYWnkv5aetO0kZ3oHWXr7mmzpNmJmJooS1LPxwDh//vJvTKh9axXSk0+Be+HtpsbexRFP7oaWyxCWsAx2auTXgaPoaTiQmkZlTgFHlSVh4CN7e9tdCOvc1SIWVpRWWFhao4Nz3JYXSokIqysoACao0LgMZySmknc5GCYimWYAf3mb6MDaVxLH/wBHSrCMY3KI5wY2ZOvC3qHFuGUlEiJZNB/cTnzCAnsHNzTd1mjAzE2Wpu1k2/13mLljP8Uotzdt1oEO/Wxnm7YqjnRUaFehzDrPx960kW7dj5AN3c2NbnwYc7KYjPS2NU2lZGFWuBASHEBTkLM8yIYQQ4l/SBHozTeStXciq4uYMuvdGPJ1taj34Vdi3GsnYll44NYGSimuFicLd2zmQWYb3sLZ4aLUNnJmhJ3HxAlZXtGPc4ChCvWvYa6nmbF+3Hl2NgskI/1o6iKmC8ooa9AYTNfG72Zl2O9EtPPG86qIaCjYhXekS6YmrWScs1+Ad054It5Ws2bGXzJvb08LD3WyZM9cag9GA6YK55VRY2dii1kgNNjpjFvHHU8kt1BHQLRJfV1czjWo3Ubx/D7FpBbh0bY23u1tTeLD/JY1nW6IivFn66z72p2fRra0vPtdCwUXDMpWSsOIDXp05j+1VEQx/4UcevrUnLb0dGve5oE/jxMkMsvL0qBybE97C5//snXdgU+Xexz8Z3SNtkzZtkzbpXhQoe29ZMgQVByq4x/W6r3sgLlzX8boVxQluQRQQZMneHXS3abr3btOMc/L+ASizixbQm89/0OTkec55zjN+64vakUbZa9hEAUE8sVaS3MkZmdzhWj3niFXk5RsoLG1FPTiC0OCgc1oG6biG0JSeSlpWIXLdJEK0mr+Fo13qG0N0tB7fjYdJycmjeGIkEX+HhjvoWewtFGz9gteee50fDUrG3PQeb143lUH6k0oiixVs/TCH3xV9ueymh/nPFf3pUSkXWxlGo4GC4jZwj0UfoUMX6FjLHDhw4MCBg97i/JswbDl8v2I/oZc+y9MLRhDmdyax7f8RrJVk7jlIZlkTEt9IBg6ORdGYzvYt2zlUaEc/ZgZTBujwcbNRlbyRNRsPUmxTM2j6LEZFq/Bwau/uCTQW7GPjb5vZl1FAtcUVn+Bohk2axrh+WhSu8hPvfa+2pTdpJXn/YaoafRjUJwgf754dU0LZGpauyCZ08hMMj9LiKS1E7iQ9Uv5LbKO11Yog2KG3RrJUgZ+fJy7OMuxVW3jnmbfReD7IFcP1KM7kWHFKYMGTCT3YCIHq5F/45vv1HCh3InLilVw9pR8hPh1nwchCY4gM9GLNoYOkVdcxUFTh0+0QKhNlaYfIa1MRHROKysvlHxyNJdDU2HyivpTEh74D4lH4eAIg1mzh3eeWsvZAHlXNLTS3NNPcbCbimnd49paJ9BG28dnb7/PFmv0UWzwISZrMNbfcwqWjolF7OA5dXUFsOEx6biU1Lf4M7xOGytdO8d6VrFm3lX1ZZbQ6+xMzciaXXjyMaLVnLy62JtJSMiir9SAyToPSr/NZndbaTLauXsW67WmUi/4kTJzL5RcNQK90QyrUk7l5FavW/EFGnSshg6Yyd9Yo4oMVtOu/7SwyDZFhQfhKt5CaXkHVaIGgf4QouI26zC38vPJXduRZCRo2m8unDyc20P00c5NIY1EmBU2uqDVa1IoLNcVIoC5rC6t/+pXteZYO+tQVTOSu+i9PPLuCwuhbePORG5naJwDX87B1EMoz/9RTcekXTWyQGv9/wnC8ILFjammlrc183FrmRXh0FJoQfwDEhkOs/PhTlq/eR3HTsbWsjcAJd/PQvbcwySeVn5Z9wNLv/iC3UY46YSyXLriRK6cMRK84/0ebvxNiUx75+UWU1vsQHhWGJsiJyrQN/L7ud7anFtGIN/pBk5k1Yyz99b69GDxgJjc7l4ISO9ohIQQHd16jzNZgYN/vv/Lrxn0YTV6Ej5jOnKmj6KPxRCo2YdizgV9Xr+dAqR3/PuOZMXM8gyL9e2aukQUQotWidt9MTnYhRRU2IrT/hDF49My4ehUbUuvx7jOJ2TMnMVh/Or0dkZaKAgqrLbir9ehUF2qKkUiTcT8bV69kfUpdB33qCmaKtnzGK8++zR/O03hy2b1cNSLkNFqedloy/mDz5nTs0ZcwbnRizzpUALGmgEKDgaJGO05ROsJDdfwjhqMDBw4cOHBwgXLel9mmbV/xQ2EY024KxMfzf/0EK1L5wxNc/cBXHCpuxi5VMWhKX1oP7Se3ogGLCLi9zXWvLmFkzke88fkmMqtNiIDs5Yk89cX7/GtsOH4up+7QhMrdLHvhKV76bCt5tSaE4//4pBfR0/7Nc0vuZlqcPx4ySa+2pdex5pORU0WjEExYiBfubj3YBrGOP5Z+zDbXkdw/MR6dnxxEJ5zlUiRSABOtrTZsQkcXOhtc6D98ECHf7CO7qprq3e9x+9TveDlxECPGjGf8xElMGB5PsMIVea/c/jbyfniGZ362MWDWPK4p/oSHH7uObbmv8/KtE4hVdWDUlUcQqffGbVsO6UUNNJrt+HTrGVnI/PQebn56ObuMMgbf+wHv3jeDvl04iP+tsOZxILmI2oa/aiS6Rs/i8klRaJVHpnK7tZ6y/BwyUlIobDRhFeyAHN/mNmr2vs99733OAXkiI0ckYN64nT0/vM6ebakUv/Ui/541gKDz8b7+TTFnpJNVXk2jexRR7ul899xy8syhjJgyhzvnKanf+i7PvnwDy3+5nZcW38TkBP/eMUZZjeTkVVBnDiBU442XR2dMAwIVO5by0rubaY2awtxbL8bH+D2vLLmDXzffwTN3D6P+hw/5tV7P2Fn/ZnLzBt5ccj8LNl/Pkidv5KIEVQ9sHuTow0Lx9TSTn11EbZ0Ju8rzb/7umjH+9hav/1CE39CpXK76nTffvovNKQ+w+L6rGBXqekL/bHk/8eIDi3l/ux+vvv0cCy4fft5afmbMFK1/h9d/KMRnyJQO+9R5RJoPfMnr76ymJP5mnnrkBqbE+Z6nrEWRxuwc8sqO6KmEx8ShVTv0VHoNWwk5ufkYS1r/dKo4a0cwcdwQ+uuPFk4SmqkpMZCVkkxOQwsmqwjIkDW0UJv6LUtWfczqkgAGDkrCvucPtv36IQd2pZD31NM8fNNkIs5rRu7fC6shn/zCYqqcdYzzKGfb0kdYWuhMwsTp3DhdgzXlG9587QGuWTmTh566j/mjeknQ21ZKYVEJ5Q0+9Av0w0/RubWsJvlH3v9gFbnug5h19b3MbtzCx288xW2/Xcx9989GefB7VqZD7NQbuNM5mRVvvcS/Nuzi7kfv59pRPZENI0OjCSJAKSHNWER5eTOi1udvHuBjoWzXCpau2EW9fhKzx+Xw3UdP8e9dGTz6xN3MjvU4Yd4Xijez7Lmnee7bVm577CmevHfGeWv5mbFSsftrln69k7rQiR32qfPYac1cw+cffsVut+nc98T9zB+iPv0eSShjz5ZN7KlWMmTuWIYG9/SKZ6elsJCCgkKq7DKCdWHodbrzlHnmwIEDBw4c/G9wfp0qQgmrv/yVjJQDbJi0nEUhcQwcOZlL5l/HFeNj8fdwPuOm1FRlpAolal93XOR/763rX0jxGTCdy2Y14v377+zNr2bfmo0g9yN2zBwSZdls2ZPDV/dcxVc2C6JbCAOnDyWoeg9bU/7gw0+3MjtBjY/G84T7ZitYxaM3389HW/Oot3oQMnAyw4f2I9zbSnnKRtZuzSTnlxe4sbSR9z59nFkJajykvdOWc0JrIYXlzbT5JhDi5YZ7Dzag9dDnfPBrMwNumc3AyMAjUW4SJ5yOZapgorXFhmDrxUwVpPiNv5FbL96LsWITWTUWxLZqcveuJXfvWj57FZx9dCSOnM5Vt97G/PFxqD17Llun7fCX/PcXF6bfcQvTBuqQb/4dX5df2LJmC4bZ/YlUBbZ/SJX6EhToh7tzNkXGZlpb7NAdp4pQTfK+w5TWNmMT7RzcnUxF7RjEYLc/DXPWhhIKCiuob7UitnuxziNzD0AXHoyfh8u5MwAKVex870WWbkqnpPWIGcopcAx3PX03FyeG4nV0jMsCZ/PsT7N5tnk7L157B6//mkK5BWjeztI305CPvJv/+9cMrCtuZ+e6liPO1codbNldwCXD+xHkCGfrJFbyDmdSUlWP4FHF+i92cvm99/P8xYMJ9To6KvTXc8n2A7z8w+d8e9FwYkLHEtXTIYkApmJKKhpo8Y5Go/DEs8P5TqTp0DKWLM0m/MpHuPKiPvg7S6B/MAsP7ePRT9/i6exluA+/gwdumc3IgDTe/Nc3bNibRWngfrLKZjE87myyy44hRaEOwM/TlX0lRTQ2NSHS9ZJP1sYyCovKqW229Ng7LnVTEaIPRuXt1qVNkjlnFZ+sbSR6xvXMm9YPz/0GvvY2sWnrDjJmjWZI6PG19gVKUw6Sbiii0TMCiZt7D7W+ZzHnruaTtY1EXbyQy6f1w3NfHiu8Ws/Qp65cOI9fvl7FIXEQ1y64hLGx58uhAmAmJ/uYnoqaqBgdgeqzzcJxcFqEeg6vXMbn328gufbIGyvz68dlt9/GNRcPRn30hZP6jeKmV0Zx0zNpLF/8OM/+3yrSWwBTGj9+fgjX0Jkseup6gne/yFN//IwNoPYQe/dnkDllAhExjvpLneOYnkoFVjeB3Wv3EXT9TTz07ynEHxMJi7wCY2oKaW+vYuVvQ+kXP49Bfr3wdpgrqayspsFFhdrPF98OJwSRlqyVfPjZToRBN7HoytGEuklA1GPKzyDzjS94+e61BI+6nKuuvZa5scV8tfgnVq0/QI7Cj6x8I3UjNAT0wFrmqVSi9PGkqaKc2tpaRLruVLG1VFNaXEpVgwlbDwkzSl0UBGg0BPl7dclJbCncyk/rcyHxSu5fMAZV1nfsUtpZcWAvBw7lMCW2/3HC5yJVOZmkZ2RT7RqPxNO7Zxrfw1iL/jjSp4QruG/BGJSZ37LTT2T5afvUpQuzfd2vbC0OZNrt87lk8BkcKthpStvKpi1ZEHc548bEnyaT5Ww5WU9Fjy7U27GWOXDgwIEDB73IebWg2TK+57vtRVQ3i9gRaSxKZdOKVDZ9/Q6vjruF5195iNl9A/E8Kdy+ZdfLzL/xZX4rDuamj5bz2MWxqP8hUWnOUbN59O1pjH92Bgte30xunR/jH1/Ku3dOJNJ5K49Ov433dxpocEvkprc/5qlL+6Mu/oCrL13MmkN7yGmYRlSw5182alMy7z/8BJ9vz6dRMYRbFr/Eo1cNRas4VibJTPH6F7njrjdZn/whz7wzmn5PzSAu0L3n23KOEMrLqWwxYVEoUbq49Fy0aVs6X739DYVR87h1ZDQhx6yXUg/cXeXIZIBoorXFitCrmSqAk545i9/DQ/0sz739PbuN9ZiPsyha6o3s/+Vd9m9cy9Yn3ubFmycQo+oBgXqxnN8+34pi/G0MiArBS2olPSef6qYWrAoRu70zJ0EZKpUfbk5mKsrrMJmt2OlG22Rqhk4YTuT6DIrbXBk7aTjagOMOsmIlqxddzUPLtpFT31PmVkCm4dL/rmDJdSOIPHvL8hHs1Rz+7RuWlWzH59h8ZxextTVRU5LDgT82sSOjhHqTAFJP9GPm8+CTD3LF8DD8Tle/wk2FytcVFycJWOyUrv+OqthreWnOeJJCvMnzVeDu6owEG3aZLyqlB26uF+ixS6wlbcNatqcVUmcBqbIvU6YOJz7Et+MIU6Gc/WvWszujhEYBpMGDmTNpMFHBZ3noF0pJyzRSVduKYJMy4LE7uHLacQ4VAJkPvj5uuEgLyc2toa5BAK8zL7lCWxN1tY0I7r74eLnj0kkLs1BZSVVTK21evvi5unZczsSUwvJPUwmaMo8Z4446VACk7nh5ueFky2Tz4Qk8eU8icWHeSIqMFFU00GiRoY5LJMJfSaeSYTqBzM8PX3cXbFWV1LWYsNo5UZC8I8Rqfnv5Fh5971dSqnvwHZcGMuOZj3n+likkqjrZWbGabat2I0aMYOCgPihlNvIKjJRX12GW2LAJIifMjmI9Wdl5lFU04dc3Fs+AwJ5rf08hVrNj1U6E8BEMONYnYxEVNfVYZHbsYvctf80HfmPDvgaCJ9zAsKSwXjAudQFrAVnH9FS8I4iJDiKgIz0VwUxzQy0NVlcUCm88Xf/XM62PYq8jd8fPLLfnonb+ay0TLK3UVxRweM92dhzKoqTBChI3AvtP5cb7H+TmWUPQeZ3mXXNWoFB44ekmgRY71fs2czDuMu6ZMZOJcX6UZ3jh6emKBAt2qTe+vl54duxZPj+IDeTu2sK2PemUt4HEJ4qR40YyODawY8ekWE36H1vZsS+baitI/ROYOHYEAyOVZ9cmoZLcfANFZU0Izf7ETr+Cy684zqECIPXC29sDd+dyCo3lVFQJ0I5TRTC30FjfgFnuibfCG/dOnjSFmlpq6xtpdtfh7e7R8ZzQlsOaHw9iCx/N7LmjjjhUAKSueHi444qRzdkqbl3Ql6H9VEgq91JeXkWNSYpfUjThIdoeCA44+pPeChReHkiyaqhrbMRsp2uZ4mIdOz95nCdf/IjNxT14gJD6MXTh4yx68i6m6jo5R4n1JG85QLUskMGTRhAkFyguLaW4tII2Wxg2QTgxgMHehNFYgKGwFu+QMHxCdD3X/p7CXk/y1n1UyQIYdKxPZWUUl1ViFiMRz2Ita83cxfYd+UgSL2X8uEQUZ3rutmJ2b9nEvjo1I68cwxB1L8xTtlKMxnwMxW3gEYs+XE9oR3oqogVTUz31JiluXj74eDiCqxw4cODAgYOucF5XTnn8rXy8cQbFBZkc3LmN39f+zNod2c0M2YsAACAASURBVFQ2myjc9AY3z6+n7dNnmTdAg9efu1OBirRk8mpbMDVmciC1guYJUag7u2v/WyHBZcB1PHDlEHR+rkgFPXqNOy7OcjQz7uKOiTEEecqR6vRoPVxxKqmm2mLlryQJgaIf32LZ9nyqxGgWvPIuT17al+ATtBNc0F70H56+aT/ZL64j+4cVbLxxGFr/ULxlPdmWc4dQVUmNyYI0wAcvZ6ceKoFlIffb/+PztCCmL5pEvM7nuKhaJzw8XHGSScFuoqXVhk3ooTCz9nDVM/n+jxh3/cPs+2MjGzduYvOW7ezPKqWhTThiwDMZ+PnF54mL1XDPtEQCz7KAtFD8O+tLwxg9NxC1QgrWTLZuz6Ci1kb0jCQCfXw6MalI8PHxxtlJRmVlOaY2c/ecKsjQz1nC98Nvp9zmTZC/Lx7HW6KlAcx6/keG3FVDk6kHM1XclAQG+eHVk04IoZity/7LDqkUyUk3QiJ3wcPLD03fiUweNIZpcy5l+rAI/D3ayz6S8teFBCrLzEy8fiix+mDcJHLir7yfB5rd8F+bhSzpKu6cN4QY5Wn6I7TRVFdLo+COr48X7p219PckQhX7V37Mx9trkfqo8I1yInFof2K0vnQo2yQ2UZJ5gJ1bDlNYnE2Oqoa4mOizdqqIDelH9VTcSLjuTq6fMogIxUn3Rqyjrt5Em1mK3EmGVHq6xorUbn6d+596i+93GWmyejDmwU959a6ZDAru3Jom1FRT29oGngo8XV06mO8EKjf+yEGvvsyNjyH0eKuVUEd1TSOtJjvKIaMYpNOglIMsbBb3POvNmCpvYgb0IzLI+wzOLAtV6btJrvclNjYSjV/HZaEkCgVers7I66upbDXRaqdrNe6lKqY++hkDbqyhobUHM1VcfVEHKvHuQpqjWL6LXSVeBI8NIyJABrY89h9Ix1DcQujkeEKDTionZc4lJ6+MijpXImKj8Q/0O+Wa1pos9qXW4K6LIlrvf84DFMSKXewo9iLouD7tO5BOfnEruilxaAPV3Syd00ZGcioGWShT+0YQ0VOWzW4ilGeRU1BGZYsdl6RYYoPUBJxhqhPrtvPBk8/w+uebyW204Dr0X7z94gPMH6M7//V0LwTECvb9+CGHVsk4ecqTyJxx9VAQEDacmUnDmXjxbGaMTSJM5dpOJLXkuD2kSH2NhZi4BPr2icRTIid86gL+1STi9t1uGsOmcf3C6acvqSOYaWmsp8Esx9Nbgff5ODOIdaRv+obPvjlAg0JLQHgbmri+JMUE0mHlTbGVSkMqe7buILukgAL3UbgHRJ61U0VszifPUERJnTMRM+Yzf85kklQn3Rt7I42NzbS0SnCRy5Cd1vMt0rD3C5Y8/zLvr82g3uzCgOuX8OwjtzE1snOzhNhQR0NjM1Y3Lzzd3TrQ7hKp3fM7qRZfIvoOIf74UmFiI3X19TQ2CyjiBtA/OgqNE8g047j2P270udxGQHwSfcKUZwi6slKXl0xauQR1eCxRQR2XhZJ4eeLh7oZzYz01Tc00itAlmTqpLyNvfolvLnmQuqa2nstUcfbC11+F8uT9STuINamkFLUhUw6mX4gchGIyMtI4nF2Pun8E4Xr9iRkdliIKCwsoLHdCMzQMrT7olGvaGowcTi+mzVtHQrwWz3O9ltWkklzYhtTv5D41EJgUQZhe172MSywUZGeT1eRO7KRE+p0x7clOQ8pWNm3NQ55wJeNGxXQvK6YDxBojRkMBxY12nKP1hOt0hJxhqrM3JfPDmy/y3Gs/kVrbhlOfeTy26CkenBvXAyXxHDhw4MCBg/8dzu8ZUOqCIjAcRWA4CcOmc829i6k69AP/t2gx763PpCrrC55cMog+r1/LoFDFUSO2DP0ld3JXlozf6+KYf3Ufgnz+qUdZGZHDRqD38TpyuJC44+YqRSbzYcCIAfh5eRw5iEpdcXOVIRFtWO32v6JhhQLWrN5JcY0Jvym3ccu48DOIUbuROO0iEj/ejTF7P7tS65kTq8X7hGi/s2zLOUQ0mWizCchdnJHKesZYIxh+4M1P9uJ90ePMTApHdcJpT4qXpyfOTnLARktLKzabAOeomImzXyQjZkcyYvYtPI6VhoKD/P7dR/zfBz+wK6+Gtobd/PxrCpcNiEStcz8rH5dQZSNi2mT6hQbiKQFL2no2p5VRLcRzyfgY1P6dqa8vxcXZBZlMSlurCdtZpfXI8AwMJ/JMf3XzQxN2qrHygkOiYOJTP/LGbWOJ62xkfFdwiaVPQhCqo9GnUq9YZt77JjPvPf3HxdrNvH7/U7z1/S6MTVY8xjzIp6/excxBwedp0XAlYe4T3H7jTAZrutACpyhmPfAasx4QMCy/n3+t627N7BMxpx8mu6KaBq+h3DRzMFE6r1OuK5TnkldaQ4MtEK1WgdfporCR4jfuPj7ZcDHj7rmN51bUExvrj1/HdU/+xN7WhtlqQ+bpjKzD+U6kyhTE6LFJROn8TpyhrPnkF9TR0OJOTGI8AapjjmMPdEMvpqPYU8uBj3jwrpf4rnwYz72/iAXjY+moJL7U2RlnmQxpWysmq7VbhiSZmy9Bel9ONeOcW4R6Ae2w4UQnROArBWv2Lvak5lLYFsWsEYlE6E8swWE1ZJNbVE61JIzxMUGo/U8a19ZUvlj8AC98kk38Q6+x6PZZ9O+Nkjvt9anupD5l7WR3Sg6FpghmDYsnvLvivkIlxSVV2L2j0ah6LvOpe4g0ZmeTV1ZBAzIiomLRBJzZWST1Hclt//czF41+gnufWYohKhp1gP95LF12gSHxZPi/3mbJ/fMZHdoLd8U5lMioUDTBR8zhUo8wxi5czNiFp/+42LCXL5Y8z8vvryWj3ozLgOtZ8uwj3DY18jwZDp2JmHg7c267jenRXWiBPJRxC59i3EKBkjWv8MQP5T1S0seSn4ehsIQqt0TmTxjBgD5+p1xXrC6iqKScSrOSQYFK/E47D0lRDL6OF74dw/AXH+WZNw+iDw8mKLDz67XdbMFstSJxdkIu7+h7InVmJX2SVMQmBJ64L7GWUFJcQVWdK/rJUWi1x/7uRlDiOIIS27+yNeMHXn3sWd7ap+G25xdx/9XD8O9oLXNywslJjszShtlixtqNtUzq4o2/1hv/rn+1RxGbRAJiEwkM74daCraCVNKSU8hoDGFYUn/6njRGbKWFFBoKKBGDGROmQ6c9aVzbclnz/mIWvfA7XvMfZ9ETtzKuN7I02utTo0hAzHF9MqSQcjCZjAYNw/ol0ifet3vvk1hLRUU5rTIVmuBgvM90EWshOzdvYn9jMOPGj2VgRwOqW9hpMRopMBzVUwkNQxcaekZnkcSrH5c+9hlDh7zD4qeXsMlHhzZE6wgOcODAgQMHDrrIBbZ2yvHvP4/Fy/sRc9/1PPzlXkrWrOCXO6cSGeSN8mhYslQ1jJtfHsbN57m1vY5ETkBQEK5Ox0WkSwCZP8HBrjj/adiXIJGcmhAiNhzkUFYjLWYnwjwa2Ll2JTlniry1FtFqFpGKZRgLGjCbRU4ozn+WbTmXWC0WbIIdmdwZqaQHNq5CAd+/8QHb5ON4+NLBRKpPdhzI8PbxxtlJjoQ2mhsasFht2OlAsL1XcEKhH8LcBwYxbkgYN935BmtSK8jPzKS2qQkR97My/jgPXMA9A4/9y8T+9VvILKtBNuhaLooJIqCTQucuzk7IpBIsFjOC2Nu10hzI/DUE+3jg2ckZX+o3jvs+2cDF4+7htudWUB8bi7/f+dQ86BhryS5W/V6Ez4ARDI7V4N1rq5uVnPRMSqvqkIXHEx+g5NRKQSINaYfJqaihxX8YiREqVO3UMhFbCigoqadZGUtCiAplJ98jODbfiUhlTp2Y75xIuOw2Ek53nYIsssurqbeHER+vRunXtRso849h4Kjp+KinMT4u9MzGheNxdsJJJkNitWIRRP7OM4FT/GwWxB/7l5nDu/aQmluINXoew+PD0Z3w/AXKs3MoKKvErBlPTEgg6pOfuVRJZN/hTLthAqMuSuq5UoNd4MQ+tZGyYzdpOUWICVcxKjEKfXdrdonNNLW0Urb+FRas+i/XnzaLqx0kTqjG/ItXnr6Ty4adrRHoqJ5KeQ2CNJCoOD2BgR7tG9jEVooKS6lpVBAZG0LgKXuCXkQo4teXHuP5937iQMXZZ2dJnJSMvO1lFv/7ckaEXvjxyVKFigA/H3w72VSpYjDXvfAtY4a/yKPPvMlBfTjBQYEX2uHnBGyVKWzamo05uC/DBkej6rXHYqMwLx9jUTloBxClDSbolBsj0pSbS35hCfU+YUSFa9C04y0XTaWUllVS665nkk6DpgulmW1WKzargEQqRybtaLchJ+KiK4g43XVKCygoLqVS0DAxUosmuGs3UOqrJ2HoFBYk9WX6sHhOl8R7Ck5y5HI5MpsNq004ovHzN0UePpaZ4cf+ZSU/NZWDyZm0ho6lf99E4ryPf6YiNUYjBkMxLf7x6MN0hJ78zKUKtNGDmHytDv2McfTvFYdC+5zYJwu5KSkcTM6kLXwiA5P6k3DGml0dIJpoNbVQvuMLHln3JY+fdi2zYxcFBEFElEjZuOVrFh3LJJfI8RlwJQ899hB3To86S0evhcJCIwZjKYJESWhYGHqdov21zN5GRXk55VVOaPvr0YX2TOCRAwcOHDhw8L/EhXmucIvhqifuYfuB+/niQCYphxtpGWhH2d1Nz98WJ5ydpUhO2aQdEUY/uUzQyYjVVdSYLdjENlKWP8W9yzvzm3IsFguCeCTL5K+fOLu2nEvkMjlSqQRRFDqp8dEeAgU/vM57my0kXhpJW85Ofs6ynWTIsNOQVkqD+chvNdXXYbZasHN2WSGnYMlh/YZqIgbEExqo6ODlleI3cg7TBvzE/vxKyqwWbKLYs5lDTTtZvyWb0lo3hl00jsggVQflGv5CEEXs9qPPqiccXw7ax80Tj66WwhNbKCgoob5ZSWxCCCplD2jy9BZiPds+e5UX3jlMzMNvoQ0Nxtu7l1orlJCeYaSy1kroqAS0KuWp415s4tDBw5RUNODVpx9xav92szYsmelkl9cijYwnQqXshNj8X8hkcqRSKfazmu8EqtMzKKisxawd3GXHDoAsZCJ3LpnYtZ8VRUS7HWRSZFLJP0dM1ZzNvgOZGEog7uqhxIaFcoKdSWwkOyuPssomlH3jCAsMPPWZy4IZfeMiRp/LdrdHSzI7d6eRUywj8abhxEeEdr8cmcQJJ7kcv8SLuWn8OJJ0nl2bWyRO+EYMYEhMD2SIWA1k5RRRXm1F4hVBTKQatW8HI9GaS3ZeCZWCntFhgag75UHsIWSBDJ57O49HTKSk0XrWa7rEyYewpCHEBlyYx4FTcHHDzcWl03sNAEQTpaVlVNa6o5+kQ6Pp4b1ZTyI2cfDnj3n1pV+QXbYI/5hIVJ2y6ncDoZL8/AKKykwEDo0kVKM5tfyi2EpWZhZ5BZW4hU8lOjT0jKXxAKyGfAyFpbRpJxAWrOmSZolMJkMqk2K3i9jt3XUXitTl51NQVEpzQH8iu+jYAZAFDuWqh4ZyVZd+VkQURewyKTKZ9J+zllmNZKSncTjHgn5iPxL7xOB1/O20Nx/VU6nBOySMMJ2eU6ZPqT9Jl9xF0iXnsuHtYMomJfkAh7JFImckkdQvtvvlyCQy5DI5PlGjuHzkxYyP8zl1brFVkbJhNb9nQPykGUxM9P/r/CaR462Np39SD2SI2EoxGg0UlJjBQ4s+PJTQjjKCrEUYCw0UNgeSpA9F11tzjQMHDhw4cPAP5oI9RUmDJzNlWDC/ZKXR1GRFOBcaFRckZ9jpdWIDKHF1xUUqRSJxRZs0kj4ab9w6eOISVz3TZsTg7y0/zU90vy3nEomLC84yKYLFgiieXRynJfdrXnlrNQeyCvlj0Q4+FzsuaVZXXY3JbOnx0meWtF/58jcnrteFExqo6PgLMjVqf1dcnKX4BKjxdHXpwYOeSO0fG9iWX06DYjiTRusJ6HRku4jFesRx5+Tigkzq2MT3OlIJUomka6+qJZP07HJqpZHER6hQXqjivwDmdA6lFlFFGLP1Svx6UfVarD/M4dxKaloDGJkQhkp5GgNd8wH2HCygrNaD/kMGEBKoamextZJ/OIuSGjNho2MJUPp0yVAsdXbGSSZFtFq7P9+JTRxOz6WyphnfpK47drqLaLViEQTsTi5HavVfYGtJd7HmHiQ5x0ipEMG8/mFoNScV4GjLJiu3lPJadyJiowhW+13QWWAg0rB/J3vScylz68fcoTGEa06vRtAppP6o/RXIfTzpP34G102I7GY9+7NHKM/+U0/FNSmG2KBA/Dt4GLaCLHKKKmjWjiEqSI3ynD48J/xjhjM1Zvi5/NELB4kESVfXMquBfEMhpW1aJoQFoznPGj7tYs0nMyuPwuYgJuiCCe6ohuJZIDblkWsopKTel6jIMLQa71P3iKYM0g5nkVfqTMyERCLDNe1E09sozsvHWFJPYGIEWk1Alw6ZEqcjzlZsVoTuloUVW8jLy6eotBYvXUSXHTvdRTyaoSLKnXCWy3tIy/H8YyvKIisjgzyzlrFx0URHuJ/4AXMhxgIDxnJntMPC0esCL/C1zE5zZgqHDiSTL4vi0qR+JEa6dv9yUl/8/JR4KOuJHDyJa67sf5JWikj1zmVkrHEjduZ1PPTwNQzqpQF5RE/FcFRPRUe4Toe2gxdQKDNSaDBSrdSh1+lOk6nmwIEDBw4cOOiIC3j5dEcTrMLVxRN3NznSf4q15Rwi89ej83PDRVaN38h/89pjU4g5l2UqTkZsouhwFpXOwUTrA/B0Oeq4sbVQacwhv8KKQhdLuNoTl2MnEtFCfWkeOYX1OAVFERHsi6eLrN0+yHx9ULg4YW1uos12JKukW1tY02E+X/IWGxv1TJs/DY3vme+dWH2IX9fuJre8CXNVORWmNsx26GKAXDsIFB5Ko44hyJydO9cfoZ76BgtWQUH/If3w9z3Ngbm7iJVsWr+DgvJGVOMnM0KrxlcGCBYsdjlymfQUkdq/sNPU2IzVJuDt64uLcy+VSRMb2LPsBd75aQ95tT3n5JK56Zh69+MsnBBLUM894AsOa/5hskpqMIeNJjZAic8FfFK25meQWVqDOWwM8QGqXm2rKT2d7IpqGj1j6RMTgPIUo5dI3d4d7MsvocYjiWGDdAT5ywEBi0VAJpOfqH0iVJCeYaCqUc3IuMDjym6JtNUWkV/YgFOADm2A4rROcamPAoWbM0JLMyarFZFuqDlZMknLKKW63pnIhFj8T3HsiFitAlKp7FTdFqGRktwCqkQfQkID8fXo5PwE2JuaabVYsXn54OPq0rFY88mIjRxY8Trvf7eFjEpzDwrVhzDx1gdYOHUAOq+uNkqgNCsbY2kVltDJ9NFpCDqpY9aCLHKKy6iW6JkQE4z6hCwBgeZyAwUVFjyCQghWeeFyvm3AYi17du4hI68SxcBrGBwVQZATIFix2qVHxkVX2ij1IiY6AtXPe0jOL6ZkRCThZ2HX6j4ijdlZ5JVV0oCMyJhYNGr1GcSr//pOVXYOhrJalPExBKsD/jQyi+Y6SgxF1El90WoC8fO48Mtp/S9gK84j31hCfWAiEVoNF3JSjq04H4OxhPqgfkRpNah7sa3mo3oq1W56pkVq0ZziTRRpTDtE8uEcSpxjGd8vmogQZ46tBxKJFLn8uO+INeTnGyiq9CYsIoTgYOc/r2NuKKewqBrBMwitxh/P07waUi9PvDzckBS20mo2I9CNQ6rVQG6ekaIKGSGjI9Cc4tgRj2oentR2AKGFysJCylud8ddqUCtcO79nbmmlra0Ni7svXu7uXd/7iy1krF3GJ1+sZHdRKz0VRyh19idp1kIWXjOTpC7r9YlUGY3kG4ppVfcjMjyCsJM6ZiszYiw4oqcyNvxkPRWR1poSikobkPhqCAn2xe18r2X2Bg4nH+RAihG32KtJ6tuXMGdAtGETAakceVfaKPFAp9OjlewnKyuH3Nb+JB7vd2rLYfvmTaSaw5g2fiz9es3DZ6f5OD0VjS4MfaiO9pdVkbrCQgwFpbiGjEKnC/kzuMFuaaKyuIjKNlcCtFrU3mcRROHAgQMHDhz8w7mAjxZgNlsQJRrCwjxw7bK1xQFugxg7QsuXKYUc/uEzNlw1gGBlyBm0BgRKtizji20txM26kgmx/ng69eA9txXw/RNPs7bNk5rt6yiJvZNXnpmHf+pnvPVNGmZlKKHuhaz7bh8elzzNq/dPxd/wDW98uIkyFw06VTN7f/yNqvgbWfz0jYyP9j+jAU4WGEiAuwtO9XXUmi1Y7HQ9akxsZP+HL/DeHyJjH32eRy4dRGg7oduC4TOaM3MpqWiiucSIsbGFVhHce8q4K1ZxKCWbsoqITgu7i1UHOJhVQ5P3GKaN0hHYRY2E9hCKN7JxbxEVzcFcPHkwGrU3UgRyPr2PD4SruH7WUOLPaA0QqatrwGyV4B+kxs21l8pKSZ1RBOuJjGnEuf7sy6T8eVm3EEJU7rhcwE6Gs0egIj0DQ1Uj6pFxBCr9/lwsxLZaivILaXAKQKcNQNFR+ltvtlIQsNttlKQexlDZSNCoWFQ+CiSCHbtU0gtlCa3kHs6ktKoeWUQ8CYFKlCd3X6xh55bd5BTV4D1oFEP1GvzlIJT/wnNvFDBl1gxGDA//6+NN6aTnVVLvHUt8qAqlqwRaclm79CNWpjbh6lxFSrYPM+67i2sm9cH/JGOULCAAlYc7zlX11LUdceZ2deq25qaRXlxFrT2MKSc4do4gFP3IojeMDJozmykjIv40GFlLNvHea1+TZrJRfnA/tdHzefyhhUyIU3WqNrjYUE9jmxm7MoAAd/eul5OSOuMdGEJEdCwoz15f4s/LumoI9ffCtVtD20JxcSk1dc34xoShUSk5UcpMoCwrB2NZNWbtRGJD1KiP2StsZWxf9g4r9lTRUpXJ4ZogLr7nQW6dmYT6PNrnxYrd7NqfTX6NisEjBhIV7o8MAePKF/m8PJ7RU2YyNqIrDZQRNHwUg0I3sWbzXtKH9Uffx+c8lMxpIzvrmJ5KEFExegLVHZSGEpvIys6jrNqNyJhQAtVuSGjFsOlLlv2wh0qJE/XZBtzH3MBt11/C4CCHY+X8IlKTn4+hqBLvsAhCgoP/dJqJ5gbKC4uoFjwJ0mrwP52l/1y1UhQQRYGK7BzyiypR6MMJClQjEUREaXtBKt3FRtExPZWQQUSFaDhlqIoNJO87QGpmMa7xkxkQG02oM4jVW/nwk2SCoscyZ3b/vz7ekk+eoYhymZ5Reg0aDwmYCtn+3Zd8t9WA1amVwiI5fefeyK3zRxNykp1W6ueHr8IL99YmGluO7KG76lC2FeWSV1BEmVXDxAgtwUEn/ohYvpF3Pk7GLXYCV8xJ4liVUFvlXr75aDmb82upKcylymskNz1wF1cO13TgZD163eYmmltM2BSRKL29u57pKZXjqQpGHxVLo6epx5wqEmcVYRoVXl2ql3cMK5UVFZRX1OEVpEEbHHSSVppIdUHhET2VgD6E6XXojqVpCNUkr/qC5WuSKa2vorhCQvyV9/GfG8ajO19piYBYk0bqoUOkFXsTd1F/+iaGIEekbMsyvkuxETT+ei7r25UGSlElJjEgfg3L9u1kz8FxJIz0P7qWiVTu3cKmHWUoBt3AuOGhZ6mZ0h5mCo0FGIxlR/VUwtHpvNtfy+ytR0q3FYtoJ+rRhXohoY3Sfav5+pvfONwkw1pZjl0/gWvuvIXJYefxwTlw4MCBAwcXMBeuU0UoJiO7HKtuLGNjfPB2OFW6gRfjFl7DiF9zqEhdyTOPxqF9+x6mxKpOiRYSSn9iySOL+WxvOX0t/elzlx+ep1gLu4tI7YaPWOt1BfffNYy6T7JZ8Mb/sajxF9zC5/P4s7cxIMQbZ4mJUbLp3PzRK7zGauoaBnDrA28wJkqJm8xGbvC1XPvyMpauG0WkWnlG4V6pXzCBPu4455VQ2mKirZ2MEVPGL6ypiGRIv3A0vk5HN6ACRWte5Mn3tyObtJgbJySg7eCEJFMHE6hwx0UKTc35ZBc00jTEjuqUQr2tGLauYl1yM9pR0xgdH4yiM2O7JZWUjCqKirMpaGxmsF1F+xWOTKR89wN/GFpIuGYBk2JDThu932rYyqp1yTRrRzFtdDzBis44OASKt2zlYGk1pvC5XDQgmAAvKVjT2bTbjmauJz7tpgqYKa+oodWiIFrjiVu3C/MDpkJ2/ryGPXWBjJg2lkStD65/Pio3YqbexuNTu3/5/1nEJtLT86is9yY2PhSV0hUJLeSuXcpHK1NpcnWmKiUbnxn3cdc1k+hzsqW/17GStnwRLy1by6HSFhrKSqhoEPBseo5bd7yGs0s0cx97lBunDSDkbMbXyQjFpGcWUlVnRTc2kSDlqc4DsXo3Ow4aKa1XMmTsUPQhKuQIlOzYQ4MiEVHpf8LnLVnpZJXXQWQCkSolTiWbefvdX2lKnM0Dzzrz26P3sXL3AXbnXMG0EfH4n5QZI/UJJMDXE7eD5ZQ3tdAigucZXj+xKZM1y5by4347A6+5ibmjYlC72jAcOEhuWRVm1TgiND74nFBY30LOxu00qoagClT/5fiwZPPduz/TMnA+/5kWR9YrC3ls+a9snjOevtEqgjrhdLRUVlHTbMZTF4SXZwfi4KfFlcgJ1/PghOu7/M1eQ2yltdWE2WpH4afE0+Mk4VexnqzsPEorGvFPiiEsMBAPKYCV/J+X8UtVGBffdS+Dyz7g308uZf2WVMYP6os69Hx5cUXK9+0jOc9IvWYUIwdEEq6UgS2PPcmtuEZ6ERjY9b2CNGAMl84awY5XV/L1ugTCtVOIP9fpcNYCsnKKKas6qqcSFdgJPZU8snNLqLTpGBUeiNqtjO0fL+WXshAm3PE0frtf4rHfdrLbdRSXTG+CIL9z0xcHp0dsIT/PQFG5DP0oPRqNBxJMFG7/ji+/24rB6kRrYRHyvnO58db5Y/rAkQAAIABJREFUjD7Z0t/r2Mhd8w5vffAFG3ObaKquoLLGhJPfRzx+7Tc866Jj4i13ces1FxHbbeGH0yBUkJdfQHF5G0HDowgJ1pxSgk+sTyU5NZOcCm8SLxlAXKwWJ0Qqk1OpEZwICA494fPWgjwMhWWYtOMID9bgWbmX5Z//TI7nYBY8dTHZ7y/mueV7sSRMYkbDSEJOEiyXeqnwU/rg1VJNdUMDDSKn6nMca1uLgW0/fMm3myoJmTqfeRcPQe8hUJKRQXZ+IS0+iYRoAgg4YaNsxbjnAFV2N/qFhf2lo2E1sn7FGgoUI7n1hfG0fP0oi97azNb9Exg5WENEJ6Y3a20dtQ3NOCn98fFRdKMElgshQ+Zwx5A5Xf5mr2Fvo62tFZNZxNNbgbdCceJaZm/CaDRgKKzBJ0RPmE53VDvORsnWVazLsBG/cAkPy9bw/OKX2bB1JwfGj0YXe75MDyI16emkpGZQ7p/ArKS+JAbLQCjmcFYtLTYNen3X33+p3wAmXDSBHQdW8OOPq0mIvo5h/jLsrZn8sWUzh4VIZo0fQ2Jv6fwB2MowGgsoKD6qpxIWSmhAR2tZMYVGA0WNgfTTh6JT1JD80wpWHhKIvexxplR8zYuLv2FjrYaRxnoIU3ejYSItFflk51cj8Q8nOjzgpCATBw4cOHDg4O/PeVzarNTkHeJgVikNbScLf0PTvq/5KdmVsQuvZbBGdaJ4Yksmq159iHue/ITtRfWYeyo89UJBFLAJR4S87aKAaD+m42E/8n/YEQWBv9Q9jv6/3Y5oE08QK5ZHX8dT/5lJ32A3arY8zzXTL+Wu/67kUEkTFsEOmCjd8xkPXf8IXx0sptl7NFPHafHxlvVcW8RaNq8rIXJoGD6+UFlRh9lcQJppLPfcOeOoQwVAhpNcjsRyiG9+8+KKO69gdLQSNxmABIlUgkSso6rKhNncThiXPJKoMAUe1lIKq1potZzhs0IRq955kSceeoHVacU02QCslG58ifseW0ay72Xcf8tEErSdMPa5hBMW4o2nmwSEYjLTy2k8jYhs87Y3ue/f93D3XTdz2bxHWXGwgMZOjF9LRgrplfXUZa3h6/UZGGvaK2clUrv9LV5Y+geNfe/g4etGnb7sW/M23rzv39xz913cfNk8Hl1xkILONAYrebkGGprb0A8/Um7JQyJSt+1Hdnn1p79Og397jiJrIcaiBkzoiY5Q4OXR3WnIxK637uP2e+7mntsv5+onviXZ2NTjWjb/k1iySM8qp45IEiJVKJ1K2Pz2c3xwyJ+ZDzzLwug2ygy72bg7h6qa1hO/22Jg04ePcNXYvkRHJTBk+s08/80eCus7KMEmVPLbR5+y7mAWtR0OQyf6XPUcn63bT8reT7hnSgLqwPHc+96PbEtOJWX/9yyaO7BnHSqAWJfO4bxKalrVxCXo8Fe6nfJeCcWFlNQ10Oo3gOH9tQT5ysCUxi9/tKGP1REa6nncp63kH86kpNqEPi4Gt8rfee2N35GOupaFl4wgwtcTZXAUQ+Zex9zR0Wi8TvOuyMMI1/nibS+npKqJ5jPOjVYyv32dl998l48/e4+vfkunsEYAUzobt6VhLGsGTwUKlxPLcFkMq/lqtzv9BvQh7k9BcZH6HT+xU57IwD5x6EkjJauCGvxQurueKnZ8hvaUFJVQ12wjJCIcP0UPlic8n0g98fXxxsNNjt0uIJ4kuGzK2cCG7alkVXkQHhNFoNoXGSA27mHNXhuhsX3oHyMnMyOHknIBha8n7j08jruGlaLCIqprmgjuN5h4nQ6FVKTxwAb2iwGEhMWg75aGkQtRM25g4WQ1GZ+8xNsrtpLf2E0dhW4ilGWSXVBKZasdl/BoYgLVHeupGLPILaqgWRNNpFcDu959l3VNCcy5bh4T4vzx8g0kfNBMrpoznvgwn3PTEQdnxlpAnqGQMpOWiPBgNJ6V7F3+Fh/93kyfBU9x5xglbcZtbNqXRVFJw4nfNZWw99sXuWXaIOKi4hgw8Roe+WgDGZWm9tcysZadP3zH6o17KOtwSMuJnHYXr/+4h5R9K3jmupHoAgZz7eJlbExOJeXAal67bXLPOlQAsTGPPEMRJfV+hEXo0Wq8Tpl/xYoyyiurafCKpV+fSCIC5dCWw9Z9tTj7hRAf73vcp22U5BkwltShDg/H15zCpx+upjjoIq699mL6qz1RBOhJmn45l1w0iOjTCWLLNGiD1ahcaqiorKPOdKa7bMOw/nPeef1V3l72ESvW7CK91AZteezZl8zh3Hpw9zylDJe1ZCu/7G1GEdqf4Qk+f2YTNB3ayIFmH0L6DKWvax45uUaK27xReHnQue2pjcryCqpqW1GHhKD2V17guiKdROKGl5cChZczdrt4imabuXAPO7fvYH+RCxp9ODqdGhlgbznM9uRqJL59GDPYE6Mhn7yCZjy9vfE63R7mnCFQUV5GWXkNqqgEEmLj8JfaacncTWqtDffIgSR0y/HhROjoOVx1SRKm9e/x2js/klproWLPFjbvrMRv8HjGDtX0ahSrWF2A0ZBPYZMdJ42OMF1ox3oq5UaMBiNVfqHo/SXkffMJPx52ZfjVN3DZkGA8vVWE9pvMnFlTGd7Hv/2LnRY7zekree2ey5kwehTjL7+b/65Mp9lxSHPgwIEDB/8wzlumilC0nAfmPsq3abUoRy/g4Wce5uohIShcpDRlfs0TT63Da/4iHpvXF+0JoukCRd+9yBP//ZbUMgkpzlEsvWMYYT1Y2uh80vD7Iubd8Tabc6qx2CH3oeHEvnoRT7w2idy33+PnvQbqrHbentufz/rcxJv3uvPVa1/xR0Y5bUI+dw9dw5IZz7HhrZuID/UBXIia/wofSt255/Fl/GHYykf/2cpHD7viE+CPp62B6rom2mx2pN6JLFzyLAsHheDrJOm5trwxGc8Bc5iaEIAPqRxKr6NVNoJ/PTiPJK0vf2alC5XkGyox2fRc8Z9bGXNCRIuZ/Pximto8SQh0x7U9q53Un759I/D7+Tey0mtpGiuC62mOOE2H2J9WSdm+7fxnQT6bpo8gzJbKup+3keM0jsdfvJHxcUGdK0kj0xIfq8HHyxma2zi8eSNZ8/viV19MvklLfLQWlZeM5tJSqlvbsAL2/N9Yt+smJsTo8G43OlbAmJZOcb2VkBGJVH79Eq/KzNxz/WTiA9xPFHcWm8j65XUefWIp6cELeP65Gxkbo+J0mf9icyml1a20HWkMv63bxU0TYtB5+3Zg3JSh8lfh5uKOUqPBw80NsXwr739RTJ+5M4nRKdtNcRcbc8gpasCsG0k/lQ/d1mEVGygurqCl1QJ2O2XGIhpbTYh4XXgHWlMqP7z3HdtzKmm122nN205Bjfkvw4zdRNYvr7M472t8XCVIfAdyxY2zGRLu36WSSGLdPr5eupI9eQaSdxRQe9ShaK/YydevL2L/1wpcwyZww7yJ9A/zO+NztuYfJrOkGpN+ODFulfz+2hek+03g2oXj6RMoI1MZTNSQuVw0dzSRGq+/vtiSzvLH72Pxl3tpUoWjC5RQl/Y9zy38mR/nPcyzj1zDuGjV6Uv3icXkpufjqutL/y4cuqz56WSWHNFTiQ1QouhVPZXDZJdX0+gRS3yUP37ep95BqUqFn4c77qoA1J7uuFPP/i8+I0U1kCv7xKM9fu4SKknPMFBZ74x3xjLebBnNlQtvZPogPQongDjmPfMx89prlFRJfHwE/j7J5GVVU1cvgPvp1kOB2tp6Wk0WnDWTGD8sHK2ylZSvlrHXZzxTJ9jYnFaMobqRBit4OoO5eCNvLlmNMPgaxg6ORfXnZe2Y5NFMmxZPnN6X2q0b2ZldjNuga+iv1XbunRabyDMUU9sa/P/s3WdAk1fbwPF/JoQECCTMsPdGxL33pO5q1dpl99672r0f+9j1tj4d2r2stmprq1Xr3oAMBREQRNkr7JDk/YC2DqhoRVDP72PmyZ17JOc613XRO9IN3cXt9t2BbAjv3YvIwPWkZOzn8LFC6qMcUUugIe8PPnj9Hb5dn06VIobQME/cXY5v1Ho5AUOG4xUUikvVTpbsSCNbGsNt3fzxb20C8qKRoXVyQqPW4OLmioO9Bkp38+2PB3EIH0tcrNf5N5m3C2HS/U9SUzeP1169i0P77+fxe66mX6BTq9esC8HSbKKpsQ5jWS47vlrO+uRsKq0SHGRmjNVGyitrcFSrUMplnNnKz0JJZiY5x0qRcpDvP15G/4kzuHbiQEKcW656wRMf572JHTP2LqExkzVf/8QfO7Opslqpz08kKb/27/utjeT8+RkLKrbylVqCRBPC0MkJjOoTfE7Xeosxg/XLV/D7thTSEndxuKZlQtdamcZvn77GsY0u2Bp6MXniGIbGeLR5zW8uOETO4QIq3CIJcGpk35L/scvoz8g5k+jvb0NukSt+cePw6zOS7iG6v59Yn82vC5/l+XdXkm3rjZ+7lobDa3nvvtWsWHk7Tzx5B5N7GlrPgrYUkZd1iBIPLVHncC1rPpJN9uGjVLrHENTBvV8asw+RnXeEUltfxgYa8NSfuQUlWie0jvbYO+nQOTrgIDGSvmoZexuc6dGjH2EnB1Mt5RzKziG/0IrZ7he++qmS0ROmc8PIaFyUAAGMvudNRt/zD4OSOhIQGIC3+29k5h6jqNAE9q1lDpiprqrGWFOPwrUnvXtGEebZSOavP7K9zpvuI8eh3lfCkaJSSprAyRaainbyxf8t57B9f2aM6oPhpJdtkPvSd6ADhkgPjEk/sSv5AKawGXQLCeVsi/1bPnst+QUFFFVoCQj2xmC4XEr+KfGPiiY2OoT1u7PJyc2lpr8OBwk0Fe7iuw/eYdEP2ymRBtHvpH4q1kYZhrheGJyj8K5N48+9e9hX48+obpFEeXTmtUyKvYMjjg6OOOl0ODs7QWU6v6/eR6UynImDQk5rMn8ObH0YMuceamtf5cVFT3Bb2iqCKSSPcKYPHUzkBQ6KAljNzTQ11lNTcYTkFStYvTGFEosEO6mFhtpaSsuN6DQqlAp5q9eyisOHycktwGQ2s2H5zzQOHsW0uQnEu7dc0X0G38gLg/9NFrCZvP3ppKYdoMpsxnoglZTUdPISIoi4XA4RQRAEQaATgyoyfTf6dzewNruQvD8/4K7RP/NBryhcLEaaHGOZeM/7PD00BJ2d/LSVwBLUHu7obJXI5Q4YPO1RKi+L9a0ASOUKbGyON301A8hQKBXI5QrkCjlSyfE7pDIUSjlyecuPJcnxP24SmRKlQnHaNrMnauZb/NT7Kj7/4AM++2EtiXmVVB7LpxKQO/jSc8TV3PHg3Uzp0RLYuqBjkfkwak4MAM2piew7YoTYEQwPcMbx5JmT2mSSDlTR4DacYbE6HE+uUdaYzI69hVQQQmy4Dsd/LMclI6BXD4J0G9iVup/yqh5YXFqp1y7XoLGTI5daqMjZxHfvbWq52WM4jy14kRsGhaJv98yOkoi4GDycN5J6rITaPe9x47Al2Dj14taXXyM4zBcJUlyHX8OMNfsoqslF42JLY42JxoaWppltspSTmpKDvNttvPbcXfQ1/c6C+c9w1ccvETFwGIPiwzA4SKgtzGDn2pX8vl9K95kvsPieicQZHNqcnJK6DueaGWvYV1RDrsYF28YaTI0NnGU0gILIaXOZvvkgX2z5nA9rl1F6qBjD1Ie4q3847meJAjSkJLO/tA7Pgb3x1Tuf/+SZ1JVhs2YzPKWE+lw9k25IINS7i64QbDzMzlU/8s2Ow9TI5cilUiRKB/QukpZj1Wql7uBmfjtgxmw2YXapIjphKN38zy2oYq07yJafv+PbPQU0yuXI7XXopRIkFJG6eTXJpibMMXYMHdKHmDaDKmaK0/eTU1yJ0mE/i9+uZeA1NzB3XA/8Wmb6CZ/+Ap+cMdNvInPZB3y+T8X411dw75Re+DjIMRtz2LjkFZ7972vcdfcR5r14H5N7eGN/2hfVmLGH1Do5A2zsz6EeuZnCtP3kFhvxHBSJm17XgRc1M2WFRVTW1GMX2Z1og+uZ/VQAmddoZs/aQuo7u1n12QL2flJIkXoQN985jB6Bp2ZjWIzppGeVUNHUQFXKAaoKjXzZWEVZ+SwmD4zA0+H0c3lrZPh270aw+2+sO5BBSVklFk99K9+tLfETrmHs7jIcmr1pTl/J2yt3k0pvbrjnOkZ5juLrF57no4XPU7arJ37WbHanNxE1/Q5umdgbP638lPf0GDAJDwBzPt+v30FWkY7+d3XDz7udGSeN+0nPKKRaF0u8vztu7UtvuSSoY6/h3oeMNL32KZ+8Np+MTWE4VB5if5E93jYa3NztOSoJJdzr734qUrfejB0FYKFgxRZ2HchD0/Nq4oIC6bDetu0iJ3jUNCbvSGXR3pV89mYin5eWoOl3LTeNHkDwv1x5LNXFc90L7+Ed8DovLXyKKcs+pO+oBK4aN4zeMaH4e+qwVylamRQ6d+aCFbx4/3O8/3MylVIlSqUSpdwGZ2cF5ozvmDfzSx5vakYZN5cFrz/KdcMCT230a6khMzOboyX1NJgOcLC2lJrGWqorq5gxeQjdfDsuGNRlNB4lZcNKvl+6l1KZHJlMhlSqRuei+etaZjqSyMa8PZibTTQ79sMuogf9ewfjeC7v03CElI0r+earnZTJFChUzug0UqTUkLN3HVk7TZiD6gnu1ofBbQZVLJQfyiYnvxCr2Y5fvvqJytETmH7DSKJbZvoJGH0Pb54x09/M4XXf8t2WMsLvXcLHc0cToVNiqS1g97J3eeU/n/H0fQUUPvMoN44K5/Q1XU256WSW16Hxc2qzfFVrYy091NL7ResfjJeXoQP7L1ioLC2jvMKIMrA/Yf6+Z/ZTAWRu/Rg/eTxJOavY8sN7FP3RQJk1lITrZjA6Tnfqtaz2ENk5+RwzNlB76BBNVTXUVVdhrJnO5OE9CdK3p7SsDM+wMEL8XdmZc4iCoyWYgw2tfLc2RAwZx9jd2TRlq7Ap2sbiRz8izejHqOtvY3psPX+89xrvfr+Ap7O2Ee1QStr+ctwGzeLm2aOJdj35w0pxiRvGMABLIb/v3E1KlpzYuXFEhOvady1ryiE7O48im2AGBvnhe85d6rsuVcgorr2rGuMb7/Lr+/MoTOmJt/kIGflWHBQKfPydyCrzbemncvxkKXWOov9gAAslG39kz540zGFT6R4b274gVYeR4d1nBAlX7SZrxWa+XfgwG5pKMAeMZNaNE4lr/8HaKoljOAn3vYK77//xyquL+CalHp+Bzhw7nMyeA2YCvfRo1TYX5FpmKd7ERy89x4sf/EmhVIFSoUSpkOOkc8JSsI737/6N/95qQhYykUfmz+OxGbHYnfwC1nryDh8mN7+CxvImcq111BrLqaqro2ryaPqFu7Yz4/ifSPEMCCAo0B+7tAwk/sGEBAXh2SX/pAmCIAjC+eu89A5VDDd/vI5xD+whMeMwJXUy1M4GwuLiCHG3x6bNzuJSnEc9xzc/TyDL4kVkkAcOpzcIuYTZD36Kn/c91fqd0+/n41Zuvva619r12uqAYdz++jBuf6WOsmMFHC02glqPp48HWtszJy0u/FgsFCcnk2Vswj+hJ24azSl/lhr37SGltA7b2B6EO2hO+UHXmLSeLTmVmKP6Ee+ha7U/yMkU4UMZELaErXu3k1I8nugALWcsKtf0Z/aNo9icdYwNB8sxWUHpPph733qDO0dHnjU4cDpNv6nMHL6Z7NK9GLVhDJh0PbfdNIU+gbq/GtZLdf24+38buBuo+WUeLx2z+8fXBMBqRBZ6Pc/NHU7PMA8c5NfzxrJx3LhxDb+t3cSedUvZUCdBo/ciZPyz/PDBUGJ9nFCd7Ze7VEe/u//HhpbBMO+lY7RjNADI3Ifx6OKVTNybyIEyBb4PxBFq0KJq87g9oZ6kHUkcqTEweEgIbvpWypK1mxTn3rfzwbrbz/sVLhptAq+uTeDVDn4bmWEm726cybv/5kUsRtLTsyipaKKhKoUDVYUYv2ykqqycWZMHEuHp0Hoj9KZ9rN1YSfTVd3HDpN74HC8hKLP3Z+jdC/ELDuSZee/z5C155L8wj5tHReJ2/BizGFP5ZtEyjqmmYvB0b7MHUltjLa50JDzSC71O+S/2p7OR4TX+fl4zTEXmGUKgt771BrZSR7pf/ybfDE4lKe0IJn0o3SL8cLE/c2xNGelkFpYj63cvH7w6l76qNBa/PJ//3LScPx9ayHNzRxDRjt5WiuD+9Ak3sOHPPaQenUDvSD3OrVwWVSGTeO7zIeSmJpKSVYpk6DTuiw7AzUGJBAO3vr2UCZmppGQcpV4znmsfD8XLWf2Pje9Nh9azYW8OZd4jGRrl29KcuB3qU/ey73AF+p4DCPPyaP93fimQqgkecz//N3AmWfvTOHCkHo33tdwfJGfrWw+zaXUdhgExBBkMZ5aXac5h65Y9ZB51pc9N0QQHnFmW52KT6nsz9/UvGJaWwv4CE7qQaML93XC4UBEEOz+G3vUu8eNmseKrJXz+3Sc8/sWLVLVV21WiRD/4Hha+dB/T+3m3+4eszHAV87+/ivnnO05TFplZRyix9ODmBS9y92g3sr95g+cX3sVP62/h1WfvZGJ3tw6cDO8CHIbw4OI/eXBxx76N1GU49/9vOPf/71+8iKW2JXvimJGG2kMcaqqipq6aKmMN0ycPp2dQG1mTpky27zqGrtc1TL1+7F/nYKnaQK9rn+XdgEDefOE/LHzwfo48/Az3XdMPv+MrASy1Waz+dgVp5UFMCQyk3TFHSy3Z2TnkFyrwG+SDwfPM0pIXjhS3Qdfy+LsDudfOQECgV+sr9KUawic8xvs9ppCaeohqlQ8RkSF4OduecU4y5WaTc/gojTGzef75h5geeIxlb7/MWw9dx9oZ85j/4Gz6tyODQ+7bjdjIYFYmp5OenUPxAEOr/blsfIdx91s9mXIwlX37j9DolMBNMaH46FRIgWnPfMyQ6zJIS8+lUu7G1XdHEODh+I9Bz+b8Xezak0quYzwJsRGEtjO1qjFrPwcOFqAIm0xkSNCZ/zUuZRIV3v3m8OJX47ktK520nErk+uncGmbPwe/f4IUNVbgEBxMSGHhmJpr5KMlJe0jMtCVqThzdos+WBd/xpNooJj3yHr0mpZOaXYXKO5zIUB+cL9SiDltP4sdNZtK+NHIqd1OZt5n/u/NbXqhrow6gRIE2fiZPznuK+68Kafe1Q+o6kFsXruXWhec5TlM+h/OyyasJY9Jj83nq5m5U/fIBry94ipt+38LD857k1uE+rf/GbTcp2rireeSdaMbdXYTUI4zIUEP7z4mCIAiCcIno3JpZUjWeMYPwjDnXJypxjeyLa0eM6Uogs0PnFYzO62K/cS1Je/dT1eDCiDhv7NUnr8Ju5uDeZI4YrYTFx6I9pWlxPTtXryOrQk636/vi4+KEKWU5y0oj6NstAC+nVnZjRRjjx/fmq11/sjHpGCMj/XA44xe/ksBpr/FFwEC+X/4nB0wBjLjmaoZGuOPwT7OIbbGNZM7C35nTrh+5ZgoKG1BpFChtzhIhkgUw4faAU29TuBAxfBYRw2ed+zhbG01BIQ0qDQqlTfszPWxdCe03mtBzeaOanazffIj6wAmMCjfgehmtTr9sNGWQnllIuawf937wKnP7qkhb/DLz/3MTy/98iIXPzWVExJkZIeajB8nRxNInyh/fM2pwqfAf/QjvuBt48fGXefvmifwyZByjB0bjbilgx8ofWHMsnDtf703kX3072jPW/S1jlQcTGeiC/rz787SPVO1NXH/vdjxSgZNfHEP94v7hMSZy0vdTUFaPX/8wXHUu6LxGcucNe9iW+h47tiaTN64nYU4yklZtoTE0ivAg39azFhTBjBjZm++2/sL25HzG9gzHubWoCoBCi1/cUFodmlSNe1hv3MPa8REBaCRt3Qb25RoJnTqEcF9PZAd/46d8d6Kiwgh0a6swVC2Jm7eTWeXJwGGR+HvZdeAE4sXVWJFPbrEJexc33JzdCOnhRkiPlvvM+cvZu+8QeUY/hveNIcDP8YxJpsYDm9mSdJASv2EMiArGV5HDhl9z8fANJTTCcNE/z19sdPh3H4J/9456AykO/gOY/dQAZj9RR+mRPHJzcikorqSmsfnUHhYSBU7+MXSPdLuoP2Kb8zI4mF+M0TCQEA933Jz98b5xDpP2pLHg950kZyUwKNYF2/S1bDd64h8aQXCnlm67wplyyc45zNHGGGY//zwPTQ/k2LK3efmth7hu7QzmzX+Q2f3PzAgxl+RRIPMiKCKaqDNqcNlg6HcTz/3XHbeXXuL9J2ayYelIxg7via9NOanrfua3DC3jH5xLv+hWMqTbHGv28bF6MzzAC68OTk+TqtwJi3dvxyPlOHiG088z/B8e00zBoWwOH63ALTIQL4MnTr7+zJo5hZS0TL5LTObAoVH08bAnc9NuyjSuhMRFtp61IPelT7/exKxdQkpKJlnFffFoLaoCILfHM7wvrQ5NqkLv343B/t3a8RkBmji0cyeJaQW495hNbGQwNnlbWZctwck/lji/tpYc1XMgMZHUI7bEXBNHdOhl0hsMMBmLOFJkRGLvipebM77RA/CNbrnPUrSBFSkpHCj1IHJaN6IjXVoJtCWRuCeRbKcYbuseR4TqKHs2Z4HcQHyfoIv+ef6icMQzoi+eER3x4ibytv3Jxr01RN72Dk/fNxq36gJyD+VwpKic6rqmU3vISuQ4GEKJjvK5qMH4ln4qeZQ4++Lv64u31kDw1KuZmplO2qIUklMOUDTEG+ecHSQes6IO6k3ceZVuk+PoFUU/r6gL/hkEQRAEoau4PBqRCJeGplT2ppRSZxtFtzB71Kf0Fihkb2IWxkYfYmN1qO1O+vFWu43V63OoUA9i1EBf3LRGNr3zC+kRnnSXtvUjT4bP+FlMWLqFz39bz6GhIfg4urTyo1WBa/fJ3NV98oX9rGdjzmdnGnhMssWh05cz2rEqAAAgAElEQVTtmMlvGQy2Dh25KtpC4bpVbDisZvD9CUT5u1z+pVIuQaacdPYXlFHv158wVx0uOi9G3nkDe7al8t6OrSTnjaNnmBOypFVsaQwlKjwIX60US30Dtq4e6BwcWl/9ixSn2Gt5dXEI3d99nQWfLuHFpUZMVhmOoWO4+/knmDMkAv05/LM0ZaeTcVI/Fa0MsFSw5+dN1IXGEBXqdw7lVy6yE/1Uqt3pF+GOzlkOWKivq6PRZEar02GnUkHlJn7bkkmYUwjRwW29mAyvkVMZt2Izn/y5kYzhMYQ4e/7LVYbt0LCPjVsOcKQphusGBOHj1sSud1aTpB2Pf0zbf6ItxZtZsykLafxsxsaFY2h9h7nk1KV/y/NPvMiiX/MIu30hrz40m0G+J3boOlLW/MG21ENIe9/C+P6xhJ4xcdpI+vadpGUbCb2qL+GBXjQnfsraPVb6OoefWwD7Uia1Q+8Tht4njB6dPZa/WCjJPEjOsXJ0YaF4urmiACyN9dQ1mGi2d8JZo8ZOUsXuddtJd+mFZ2SHzNoJ7dRccIjsw0epcIsk0MuAp5Mv/rNmMiUljczvEkk+cIhRfTywz9zE7jINriFxRLpKsTY0otTqcHZ2bqP8phSH0AQefsuPqLiF/Of/fmTBb5/SaJWi8RvAnIcf4Y5p/fA6hxPwiX4qVe4xBHl5tvRTsVSTvmEnJRo3QuOjce+qZXMs5S1ZNsUO+E/0xuCpBCw01tfT0GRC46jF3l6DxJjCll37kPr3J7LN9QZS3PqMYET/P3lnxzYS9w2ip0fQqWX4OkJjJnv2pnCg1I8BvaKI8LeQ9u1GdlZ40SeoZ5tPs5Qnsm1HCpVeQ5g+oA/Bl0nKZUP273zwynO8+vk+3CY/zvx5DzMl/MQiiQaydmxj87Zk6iPHM2zYIOJdTr+WNZGdkkJSSgEesVOJiw2GjJVs3Z6DKtKH+Iv9gS4SS2USf67fRI5NNLOG9CfYzhapXSDd3ANpb3iv41moyMsjJ/cott798fXxxgawNjXQUN9Ak8oBR0cH7CU1HNi1l73lGuIjenf2oAVBEAShy+qq003CZag5ey/JBUasId3p5qTh5LgJxr0kpldS79KNeF97NCfNtltqiyiuMqEMjyda74g0+Ut+roqhT6QPhn/Ks3foww23JOB9ZAOrEvMorDuHjqEdrCF9NbuV4YS5uKLr7FohDems3q0kPMwF144cTFMaP373J7Ux05k9MASv9jfOEC6aE/1UqnEPj8Bd54wcsNTXUddowqzVobNToaKSHb9tIbOwmKbjJd8UQVdx900J9Axy/sdsJ4VbL2a/8B2bE5PZtekP1m1NInX7dzw7PR7DOWWamCnPzOJwmRG30AhcnVvetz71B77adIjiKkkbwZ2uwWJMJ/1gCZUOYUT56NHbSgApNhoNKhsVWq0WG6WVzF82UeMThMHHi3+srGUfz8zrEgip2sWa3QfJM16E811TJVXGBiy+EUS667HL+JGVR72JDAsksJXGx8efxIFVy9lY6sfYq4cQG3hmtsalyUTaxnXsSMmkolmCVCJBenIJy8wVfLN8A4l1Pbnu5qkMi/dqJehlorq6hjqzgdBwT9wcs/nl9zy0PoEEhbtdxM8inMFSw8GMQxwrtSUozBd3t5byTFKlGo3KBrXWAUeVLZLsP9hW5YyHZzABl1UdoEuNhfLslh4lDv5BeBtagsyWxnrqG5owaRzR2tujkRhJ2bKLfZm51B//+SP3GczMWVMY3cPzH1eeyXVRJDzwIb/uSCZx+wbWbdpN0o6VLLxrBCFnq1F72lir8vLIO1qKvV8gBg9PFEBD1hpWbtrD/kLpmWUCuxBLbTaHcvIplPkR7Gc4XgJSitLODpWtGkd7B+xUMg5v3k2ZwgG3iLB/7hOljmDM5AR6qfPYtm0PaeVtlAG8kJqN1NTUYnILJNjbgC7vD9bnSHHyjaGboa29wETuxj/YmKWk29hRDOru0jV7+p2zZrITd7Jt+16KmkBy2rWsKW8Tv65cxbqCIBJmzGDqiOBWgl7N1NbWUNOowzfAD1/3Y2zZkkWtzJNuvX0v4me5mJrI3fonGxJr8Oo/lEHdW+tt1wVY68k7nEvuEQte/v74+tojASQKFSqVHRpHNfZ2ahQFO0kqakTmGktMW5nPgiAIgiB0zeu9cHmqzzpEXp2cyIH9cHewP+XPhyk/h1xjM679BhGldTiln4pUP4JZ0+JwKd3Aktfv4YbXsuk2eSw9Q9zO0khPisuIW5k7GLZ/s5zdh4po6ApxlaYsli7Zh2fvbvh66Tu5/noTWUuXsM+zN918vc4pS+DcmDj0w4d8f9CLsTNHEuGrFWlyXZHFSHr6QUoqHQiL8kF/vOeN1EaDRmWDSqtFa6PEmvkLm2p8CDL44HVipl+hw83VAbVde6YVpKhc/IntP4yhfaPw0tqd1/7QbDFjtarQ652wUylpLtrIhx+n4NqnLz2ifbp0nw7zsSMUVNaj796XKIPHX3Wm1X1nMndyHxSJn/PfR67jmc1aevbpTpT32WrsS9ENmsOcoRr2r1zBtrR8OjyOrOnFuAn9CJWl8cPbD3PD8ztxHzySAd382gwAmXJX8NmPaTgMmMzo7iEdeM65+JRKG7R+PRh/16vMv20M8d4tH665eBufvPUhy1LVTHrscW6b0BuvVi9edsSNGMPAGDWHVn7AE3OfZYMyhkFD+xIiJug7l6WIgsJyahxi6BHli8+JWWG7eCbNnswgp4Msfe8xrn96DdbgOHr18O/S55/LnqWW7EM55BfK8Av2w2BQHw+C2WGnskXtaI+DnQrZ4c3sLlPg4BZB2InvVK5Fp3PC0b49VyUptk5ehPcazNABcQS62p/XbzqzxYLVqkSrdcLe3hZz2R6+/3YXDa4RDBgUjn0X3pcsJYUUl1ahCoslKiiQExXvVLFjmTZlJN7HVrPoyRt5+udy9JH9GRh6thKfUrTxVzF5VCC1u37jj80HqO7oa5kqmgHDBtHDpYA/PpnHrfN/ocanDyOHRbcZAGo++ic/rdqO0XcIY4b2wrvDU0MvHrlCiYNXFEOuf4an7ruWkaEtWSrmihR++vR/LFlbTZ+bH+CBm8a0kZ2jIrTXQIb086F8yxe8cMc8fsizJ278eOIv0wl6S/le/ly/mcN2cQwd0p+AtqqfdjZLGSUlxZTLA4mMCiPsRB0+23CGJkwmIdzIxsXPcNNT35EtD2LIyOguff4RBEEQhM4m5jWFi8Z+zNN8u+YBHAxuOKoUp/ypUkTfwnsrrkLu5omz+rQmmFIXhj71PetnZ5BvtMPd14De3paz9WEHQObNxMeeIPWOF/lmeQ+CXUcT6fZvmqP/S5Zytr63gK0eY7m1Vyjems78pWqhfOt7LNjqwdhbexHqfQ69LM5RU/ZSFi45SPCcx7mmXwguou5X12Q+xpGCSur13ekbZcDj75l+Zs6dTPLra/j8v4/wdbOWvrNvpXuUdxvlUS4GGR4jZjN7cxofbP6EBcd+pKlaQsTkW7lxVDy+7WyY3lkUodOZ/9EQLFo9eqeTyu4pvBn9xKf0vjaHIzVKXL080Nnbtm8FrMzAmHsfYP9Dr7ByxSZCDJPp5d2B/UqkjsTf9BZLx+aSW2bFyeCFm9au7cb2psOs/PAr0lwTuPWa4cR6duK5+IJTEDF0JD1211NscMbZUY2ssYyMrT/y4YJFrKsIZM6bj3HTmFg87dqaVJLiEDOTFz8fzuG8YprV7hg8dKdkbgqdRB7IxIffoe99arTOupMmWhUYht7He92vJregCqmTB56uWlSXx5L1S5elhMLiUqpUYQyNCiLw75l+xk6bwr7D37J60ZNss3chYtjVjBkYSuf9HJOi7zOOyeOTyF+1nP+bt4vPzFY8+1/NddNGEdXB/VX+LbnfaO54vTs3KjQ4uzr/fS2Tu9Pv5teJTsinoMKMxs0Td2d1+/54Sl0ZMHsuOXn/4ZfffmFjsBfjwx068FqmIWLyEywaOIf8ogZs9J54urZVyhRoPsrG735kR30EE26ZxrBg9WV0LZMT0KMPvXseRtLgiIveAXlTFblJq/ns3Q/46YCKwU+8zT3XDCKgzfLFEtTBY7j37V5MO1JIjcQJDy93tJdtH8UGDm3ewPrkBvzHDGVwN6euu2pV5s3g654jcqoVG2cP/q7cJselxyzmfziSgqOlNNrq8fR0QSNmigRBEAThH4lLpXDxyJ3xC3Ju4047PAMD2rgPQImzXzRtPfufyNyG8/Dz+Tz08CIWeeh44Oo++Dt21q5vQTvkXp7x90av7fzmzBbtEO59xh9vvbbDVtVayrfx3vxPONZrLk9O6UWgk6LTP7fQBkUo0+d/xBCLFr3eCfuTJg69Rz/Bp72vJedIDUpXLzx09th28sSh1CGWOW/+wNjD2RwxKnD18cLV0Q75v93BrFbMTQ001NdRJ5MiVyiQy2SnlMD416RqPAL927hTidY7FO15vKzMZRB3PXmUZ578msU/6nG4dhjhHVpjUIG9RzDRHmd5mKWS3R+/yuLsICbfczVDoi6/nkoK/6t44AlXVn7/HQvv/oSCKjN2HmH0nv4634zuRbCbul3BMbnGlcAI1w4fr3AupNi5+uHXxr0KR0+CHT3bfLal2YTJZMJstVLf2ESzpSukzV7G5H6MvuN1ut+oQOPsivNJE4fu/W7m9egE8gsqMGvc8HR3Rt3J/4ak6lASHv2Q/nPyOFJmxt7DC0+9/QU4R1oxm5parmVyCTK5AoVcfoGvZSr03j5t3KnA3j2AMPfzeFmneGbccR3Fry5m6Zeu6O68hr6eHZkOIket9yNMf5aHWYykLVvEFzshdtocpg7wPkvW/KVH7jmIa+9yxmvFd3z5+GxeKm9CofMnbuiDLHppELE+ju2aQJCpnPEOPp9/bpeYxiySktKpce7BtKF98e3SWUsSbJ098Wrja5FrXPANcWnz2RZzM80mE2aLhfrGJkxmcS0TBEEQrmwiqCJcEeyiruOVV6w888r/+NbVketHRuHRGUvspXoi4s72j+1ikaKPiKNDR9OQwbcvvcO+4Lk8Nnc8MZ7qrrt6SwCkqD0CaXOqX+tN6PnM9HckqQq9f+QF3Y+tFX/w8rTveAlAFsCMBYt49vqhhDleGnuvKmw6zzxn5ZU3vuV7V0eun9C7kzN3GslavoAPduuZdNeNTOnjT5sLXC9xdt69mf5gb6Y/2NkjaSFVKFHKbbFVSJFdptu86zORvPh+HnntE/7IagBAou7LmFs6eViXNSkqvTdtTvXbuxNwPjP9HUlqi5MhBCfDhXtJa/VOPr5vGYvuA6RejH70FZ59aBZ99JfGycDWfxR3PGzlw/eWs/wHJxyuG09kp2buNJG3fgmfbTASMe02rk+IwfkyzUqzdYtizM1RjLm5s0fSQiJXoFDYYiuXI+9q29wmkgkPvc9YJNioL6espdM1c3DFGzz33Et8k1SLFZCoYpgv+tgLgiAIVzARVBGuEFK0cTey4P3BHGl2waGr/SC/XMm09Ll7IQmuWjRqkaEidHVSHHvO4okFfbixqqnlJoka79gYDG2WbOqKpDhGz+SF//bjaJMjTp1+vpPiGD+Xl4c5o3W8EKuvhXazi2fGUwuYYOeMq1un7whXKBn+w25mnmE4t9ceb7otc6ZHfHjnDku4jEnRRI7jtucDGVVS33KTRIV7SDQhl1REW4omeCz3PRdLUZ0C2zZrS1688dhHTOGBGFu0eufLLkOlS7MNZ9Qtz9PbbIPOu6tNX0iwUWvoqm1ULhwZnj0nc//rYUypMh+/yZGIiIjOHZYgCIIgdKKu9qtEEDqUQh/Q5ip8oQMo3PAXG1y4hNh4RDHAI6qzh3FBKJx98e3sQQCgwMW3a4zkyqPCPSikswdxhZOiDYhjUEBcZw9EuIIoXYKIHxxEfGcP5AKQO3picOzsUQDIcfJou8yf0JFs0Hn7o+vsYVzRJNgbwuhlCKNXZw9FEARBELoIEVQRBEEQurhmSjM2sXqZkUzfYHr3jsLP1f7sFzBLORnbd5GeW8ThbRkUVXe/GIMVBEEQhFaYqczdw4aVX1MR4EN0XAzhvs6cteuVpYrcfUmk7M/jcFISuWVOl0WwRBAEQRAEQRAuZSKoIgiCIHRdUhu0ngbMu9fy3b41yAIn8YyHAYOL/dkb0psL2bvqCz5dncSxJpBHD0Wj6sim7YIgCILQCokSexd3pEW/8uune/jNayi33+dKgI8zZ61qZSll/8Yf+fiLdRyqB1lwAk72l3+xIUEQBEEQBEHoyiRWq9Xa2YMQBEEQBEEQBEEQBEEQBEEQBEHo6i6lboWCIAiCIAiCIAiCIAiCIAiCIAidRgRVBEEQBEEQBEEQBEEQBEEQBEEQ2kEEVQRB6FLM+SuZN6k7QdHTeO33DEqbRIVCQRAEQRAEQRAEQRAEQRC6BhFUEQShCzGT9dsP/JaYSXb6JramFlFeK4IqgiAIgiAIgiAIgiAIgiB0DfLOHoBwdnXZ6/nm869YvmYnBw4XU2WxRe8TQZ8xs7ltbgKxng7YiPBYF2emvroOiUqFUiEX0cy2mA+zbWcGxeV1SD3GMLyHJ64OHbm1msha9x1rEg9TVn968EaKvttVTBgYhoejAkkHjkIQBEEQBEEQBEEQBEEQhEuDCKp0aWYKfnmWWx58n3UHy2mU+pDw9H95eJwda595gP97dQ4/LL+Vdz6dz5RodzSyzh7vebBUs+eTJ3ninTVU9XmcL+ZPI9jTvrNHdWGZCtn26XM88WY6cS++xYMT4vC2FVP0rTEXbGdnWjHldUoi50yhv78njh26X0tQquyQm0pIWrmcdcn5VDRYjt8nI2yuF/HRAXg4KjpyEIIgCIIgCIIgCIIgCIIgXCLEgvkuzJz9JfPmfcrGg+U0WkAeOZlbZwyhp76SoyUNNDRZqE76lLc/30thWWNnD/e8mA//wH/fXsaWlEz2btlLXU1dZw/pArDQVFdGftomlr7zONcOH8iEBz5iY04Zdc0WrKKaVRvMFO/YQWpxGbWO/Zl8VTe83e06OENEgU/fKdzy+H/54j+3MzDYBRE+EQRBEARBEARBEARBEAShLSKo0mWZ2Pfj92zJK6H2+MJ5uc4NVxs5FVs3sKewkjpLy+MKjx6lqcnUiWM9fzLnYKKDXHD16cUN916Li7tzZw/p37GU89PDw4jx86PbuDv47/oagqKC0TvZwYUOpljqMRobMDVbzv7YS4Glgp079lFUXo/XmGmMCvVCfxEjHDKtIw42ShQiiUgQBEEQBEEQBEEQBEEQhDZ0+fJflsYqiksbULk4o1EquBQrXJ0X81ESk3Oprm366ya5TIZEIkUXHUew8yoyjtXSIPOgT/8o7O1tO3Gw/4LjQB79MYlHO3scF4rUmYRX1pDwugypVIoEqPnlCTau20HGBX0jC8Xr3+LN5O5cO3Ug0b7qS77nh6VqJ9uTCykzRTN7Uh98PewvbtRXIrnkt6EgCIIgCIIgCIIgCIIgCB2rCwZV6inYtZLvvvuZNbsLkHlGED94AtdM7U+gswLZlTLraS6ksLiR1hJQlDF38tHSKH7bcgiL3wBG9ApAp+6CX+UVSqbo+PSKppwfeeWVz9kWaODqy6ScWM3u7SQeLUfRfw4JMd64qa6Ug10QBEEQBEEQBEEQBEEQhEtFF5qJt1B94GfefvZ53l9XTcTVD/LUxzPp66vF9oqJpJzEWkttvRlLq5WdpDiGDGF6yJCLPCihS6hJ4uPn3mDp9mzsfDp7MBdKHYk79lJQqWP0A8MJMui60slJEARBEARBEARBEARBEAQB6DJBlToylj7LPY9/zLaGbtz13mIeGh+Ji90VU+zrb5ZyDmzexv6C7aQX1dB0UlCluTiVtSuWccjFDjvfngyO9cHRTnFSySILxrzdrPtlNRv2ZJBf2ojC0YPgHkMZlzCMbl6O2MpPDVCZjuxh3d4cKuqaTx2HjYH4Id3x09piTPuFr7/9la2Z1diHjuT6uZPo7u2IjejIc/HVZ7H0+SdYuDKJI7VmQtr9RBNVBdlk5x6htFGJo0cAoX6uOKgUXaPkVX0S23cfoSEogUk9ffDUdNSoLNQc3sGvP61iw64MihpVGLqNYfrMscScc2saCzUFSWxc/Rvrd6WTW1yP3N6NgLhBjBk/nHg/HXaiQYsgCIIgCIIgCIIgCIIgXFa6QFClkcyvH2bu41+yqyaSBz56l4fGhOKiukJn7M25rHjjId74PYOSplPvakj+nKfu/RyQYrhmEavemEH0iaCKMY2lb87nxQ9Xk1ahpceMa5k4xIWqbd/w8VOLePWZQMbe/Twv3jOWcBc1J2IrzeUH2fTNAj5dkcyxmqa/eqlLXCbx9uoXiE16h8fnf8POI9W0hF2+5scdx/ju/26jv7/TeTX1bi5L4ddvf2DN7jwa9dGMnzObYWGuaMQE9D+ylG5i4f0P85/leyioNQOQ9eWdDPvhXmRSCbLAWSz88HEmx/ugPrEpG46y44cPeefDb9lSpMLD0wlZVQ77M4to1kUwbObdPHD7RHr6OmF7HoecqWgny75cyvr9NejiJzJrSn9CXNUtJ5aGYyT9sYpf1u0gvcCIzCmQnuOuZsrgCDwclKcEc5rStrMrX0q3mWOJ8HbFpiN2BXMJOxc/xxOvfMWW7AoaT+zs33/JJ4sn8MhtfhQ3trOWWk0GK999kZfe/5m9RWpiJ81gwkAvGvYu46sXPuGNZ30YccvTPHvvROK8HM7rOBEEQRAEQRAEQRAEQRAEoevp9MiFcdc7PPbiUvYUyOl///PcMjgQ/ZUaUAFQhHPDOz+xfuuH3BhjwP6kTaHq/xBf/bqZxOREfn9tMqFuKqSApXwrb908m7veWE5SUSMB173Bh6/N45H7HuLlJR/z2IhAnBv28/NLNzD9wSXsPFKN6fjcsSrmGl78fBmvz4g4LTvAwtFlT3P3sycHVFpuL9nwM2sPl1LVfK7NPCyUbn+X2256mT8bwpl6+xxCj3zGnRPnsGBdNmXtndC+QkkdY5n1yjf8/u6t9Al0QoIM34nPsvjnjezYuZPtS+czIcqDE61IzMXbeO/OaUx/4EvKBj3Hjxs3s2nDOjYlprN35UtM8Chi7YKbmTDlAf73ZzYVTee2/S2VW1n45LvslPVk6hg96f93B9c++jnbcyoo3r2YR266h/9uMBKYcCfPPP8oU9z38787JzLzhWXsO1rH3+9mpuTwEWq9RzBpcAAGp47IUDOS+NFj3P/8Ev481BJQkbn25voXFrPit2UsnC5j1YffsvVAIQ1n2QyWip18cN9N3PXyN2zPr8NnxrMsfPV5nnzgIV78eBGPXxWNR/NBfv3P7Vz74CLWHyzjHDetIAiCIAiCIAiCIAiCIAhdVOdmqjSlsuT1xWzLLsUceht3To3C00nZrnJE9SWHKUGHm5MdNvLLKQijwsUvFBe3XHR2ilOiXjI7VwLDIojxc/r7dvMRfnruMRauTqOo3gzyCIaN7YaLtiXggk0Eo0dEs2hLLkVFtRz46hmeDArgo3uGEqizadnWMhd8ffSolHLABIC1cj3vvu/NyLve4EH1Jt5752cSC1qCKxIbexzsFMik57b8vj7tU5586xADH3+NyT28cVSYcekfzMfrfuWzb7czNdodZ0/1OZejMlUVkJtXRGWdiXOu4NQGmZ0rvgGeOKtt6DJF6BQOuHk74ODhhJ2iZQ9QaFzx8QsixO+07daQwVfzH2fBjynYX/0Oz906nlh39fH9RoXP0PtY8Ho9xnve4dfkz3j6EQ1OHzzO5O5eqNt1OJnJ/flrMkOmcfvkEcS56tjyv6Vs+XExX3jtojTfnfG3v86kPv44KVtGFnzntWxYl8qSTz9l5ZhYDG5h6GUAMgxT32TVZAkSiQRJB2R11CUt4c3/rSE5vwYzgMzAhMdf5akbBhLsJIMRg4nQ3sodb60g+Whz2y9kPsqvbzzL2z/tJs/YDLJQBg6Pw8NV07JtlaEMGxzDJxv2k3+4hoNLX+Y5fz/cHhhPjIeqa5RaEwRBEARBEARBEARBEAThvHVqUKVqwxd8v6eAskY53RImEq1uIHP9clLzjcic/enWqzsBejuUp81q125/g9lz3+D3I57c/NHXPDU+DDe7K3O6snrjIt5blc7R6paJYInGn2BfO1R/1U+S4xMSgJPaBhn1mK3lbPrwQ34dG8F1Wh8cj29bmfS0yWxTPV7Tn+WFOxMId59NvJsdt837ml1FavrccRtXBbj+9dx2aUpjyZt/4DnzCcbEeuGokAAW6oy1NJubKS0sosFkwgrnNvFsKWbls7N4bPFmDlZeqJAKIDMwdcE3vHpdP4K0l1rQzkzeT+/x0Zpk8ixxPDq5B76emtPS0qToB87lxrHr2V9QSsbeJbzz9VCiPfXEeNqe/TswZ7F+h4SYyX54uKuwGiupqm+iqXY3n3/vyysf3MCkvv44nVT3SmrvjJOdEnlNFhk5VRh7WdHbn7hfirSjNrOllHVfL2dPzjHqjmeMyHwGM7qvD27a4zux1JH40YOJ+HYrGceOUN9GZolx22d8tCqR7LKW2nwSjQ8BPho0J9KDkOEV6IfO3g4ZNTRbK9i+5FN+HRWNl0soui5QcFEQBEEQBEEQBEEQBEEQhPPXiVN81Wxds4m8ciPNUldsst7l+rHpHDPWYSwvo7q+GRxCGX//q7x690hC9HbHMwbMFKUmc6i8lvrqA+xNKaJmWDBudlfgbKWljLVLV5NZXHk8vwRkzm642SpO6eEgd3VDr1QiB8yApXAty9YcJiHYE0fnNrabPIABQyJwcrBFgoSoGz5kw9SXqZXYo7FTID+nLBULxb9+zBrtOJ6M98XF7vjsubmE/RkF1NZbcPf2wlZpc+4r+aWuTHh5Gb3uLcNYfwEzVVQ63D2csT+fRiOdzZTOyp+3kX20GoKjiXF3xLG1r+bkV5EAACAASURBVFnqxrAxAwlclcyh8hL2/Pwze6Z3J9DDn7P1iTfnbGFXszdX6ZxxUkho2p/BoYpq6mQ+TLnvHsZ3DzgloAJgqS6jorYRk0WGTC5BcpE2raV0E+t25FFUaT5+iwR1YBhBjvZ/954BkEmRIWl7H7SUs3HFWvYfKaHx+E1SJxdcVDYoT3qSTO+C7vhtzVawFP/JqnVZJEQFoHNXXPDPJwiCIAiCIAiCIAiCIAjCxdN5kYimAySmlmCsNyOxc8a792088+FwQnQqqEjlpzce4YlF61n5wk1U8eVJ5apk+E26m3szZPxREc7sWVF4aK/AgApAwx52JpVirDsplKBWo5HJTslKkGo0qOXSk8pY1ZK0cy/l18Xg6+zYRmMdJ/QuShQnzQEr7HVoz2ugJnIKXZg8axB+rvZ/j6NmL3v3V1HT5ETvbsE4qM8jqALIVM4Y/J3Pa2SXI3P+HhKzS6lssKJw0qGzsWmzUbqmezzRbs5s319CeW4Se3IrGBnrh8b2n78Jc5WM8KEDCPLQYSMxkbovhaMVRoi8mil9/TA4nJnG1JiZwaFKI/WqSPy8NKjP8h4XSuP+NDLLqqj56zCR4uzqitrG5tyaSjXuY09KERXV5r9vs1OjkctPOZFKNWrUcvlJx1sdqXuTKansjcVd3/mNrARBEARBEARBEARBEARBOG+dF42oy6egqIEmkxSPSffx6KzBhOmP9wFxjmLqC+9iLLyap75PZtOHi1id0FKuykEGUn0fbnmjD7d02uC7BnNpAUerG2g6aY4XG1uUUukpE7cSGxuUUmlLeS8rgBXjsQJKG5potnLKKvuTnoVEIuUci3G1wYbetz1B79Nubdy3l5RSI3W23YiP1aJuXzMP4SzMBQUcq62jwQpyixWr9R+6pNv54edpj9pWQnlDCccKa2losMJZAh7K+Ou5L/7EG+aRkppDWbUJ3+Hd8XHSYnPG05s4sCeZI2VVSMLiiNVrcbwoX7eZisJCKusaOPkwsbNTI5ed2+nPXH6Uwqo6Gk56IYnS5szjTalEITv5Nis1Rccoq2+g6eybVhAEQRAEQRAEQRAEQRCELqzTZrEtdfXUm81YkOLp64Pa5rQsBXkgk68eiq+LPZLirWzYXUZV3QXsmXEZsNbX02C2nFrySiJFzmmhEKkMmeS0skZ1NdSazadMNF9cJjL3JFFgrEMSGk+8XoNGxFQuiObaWupNZixAc62RGlMz5rbiKlInnBxtUMgBmmhssGA5x53CUp1CckY5VfXORMQG4uRod2YozpTFrj05lFZZCO4ej7fOqc3smQvNWFOHyXzqh5JIZZzaRKgd6htoPP2YkUjPPLZaOd6s9bXUNjd34vEmCIIgCIIgCIIgCIIgCMKF0GnT2FKNHXby42Wq2miuoImNJdReja2ljPzD5TQ0mPmHNfdXHKmDIw4KGfJTZm+tWOHU7WQxYz5++1/stTieVrboojIXsicpm+paM35x8XjZqy/aJPvlTq5WY6eQIwWsRQUcqa3/q0H7GSQ2KJUyZFJA4oBWa4PiHL+IxrR97C+ppNYmjJgIHVr7M49n08HNbD5QSHlTMH0HBOOis70gOVDtobJRIpOeOqbGhjrM5nMLcUjsHbBXyDmlK4rVivX0s1Irx5tE44CDXIHoqCIIgiAIgiAIgiAIgiAIl7bOK/9l64KLkxKFDOpqajCbz8xCkTnrcVa1NEU3m0z/XMboCiTVBeDnpsZGDjUnOtU3mzCdNqFrbWyiyWLl780nxdXXH53KBllnBTKMe0ncX0lNozN9u4fgoDnPSXZLFTsXv8L7y3dyqLzpggXdZCpfxtz3NDcMC8PD7tKK9si8ffDUqFBJwFicxcFjRmqarGhbqztlraW+wUSzBSR2fgQHOKA5p89rIis5laMVRqxBMUS7OnJmOxUTGX9uZH9hGabQcQwJdcVFJQFMNDVJkculSKUdtY1lOOn1qG2USOGvTJH62lpM5mastL/AndTJDx83e1RKqDzeqd5qbsZksZ6SLWZtMmE6JYNMit7bD73G7tQAqCAIgiAIgiAIgiAIgiAIl5zOC6rII4kK1aLemUvhkXzqmxqxcvrEuqxlslWixEnvhEIhu2ir2y8Jyhj69TDw6a4cyiqaW26rNWJsPrVEkcVYTc3JpYekOnoOiMPZ3q7TUpXqk/eQUlZDvao7PWK0aOzOcyRSJY6efgSFVqOsNF2woIpU5Y233g6bM/utdynW0zOQAJl3D+JDXFmdfBhjXQa7duVTNiASg4fyzOPHfIyCojoaGiRoevWlh7sz2nP5zOZj7EvNobzKhPfQGHy0jmf2U2lK4Y8N6RwtNRMxcSih7i7YSqB+xzs8/KsnN88eTVyw0zl/9vayCwslwMmBHZIyjFYAMxVFhRgbWvqstHvPU0bQM84b/eY0jhUdj2LW1lBjaqb5pIdZao6XXDtxg9SJuN4xuDg7iCb1giAIgiAIgiAIgiAIgnCJ67ygilRL/yG9cFuRSXJaEvurphFqceTkXuUWYzmV9SYsinDiYp3QXOGNzC1Wy2l1vdQMmDGJ2GX7OVpRRANgLi2isMGE6aQl+M2FhZQ0mP6a+JUHT2LGUAN6+3+aPbditVrgnNbyt5eJjL3JHKuuQxrane56Def/1aoIHXM7T4+5kOPr2iSylmCjBKirayXjQhbCVRMH8O3WgxQcrCBpzW/svyaOEHdvVKd9laasZFLyy6m2GBg3fSxh3q4oz+HrtlTtY19mOVUNWvpFh6B1VJ+xtzQl/sHGjELKiGHGsFDcXWyRUMOudSnYefdA5WR/3tuiPWTegxjczYO1abkYq1sOoIYD+0gtq6K3xR3n4/teY0kZlQ1NNJ90jJ2aHGdH78kJxP2UzKHiPOqsYCkrpri+kUYr2J843oqK/2pKDyAPGM/kIf4YnLp4hE4QBEEQBEEQBEEQBEEQhLPqxCiFFPfR15AQ5obD0bWs2H6MitpTexzUJu8js7oe2wGTGR+qR3ui10PtAX7+z2PcP+9TtuRX0ng59q+3NNHcbD1lUtdUU0OdxXxKqSFl1A08fF0v/FxskABWYwapWUbqGk480URG6gHKa+tbVs7bBDPzkVsY5OfK38khVpqamrGcMoNci7HazDm2nWgf81ESE7OpqjXj1z0eL3vNZd1PpbnZfHzbmv+fvbsOkLJaHzj+nZntnNnu7oBdYNmgu0MRRQxM1OtV7EYM9KcXbL3qFfQqBoKJdMdSS26y3d0dE+/8/gC9iAi7sAWcz38suzNn3vedc973POc8DzqtHv1lXq9ylQqlsRGG6KjMzKC0sQm1HnRVx9mTkEtVvQ7naQ+ycEoE3koDOpJ/4Ztt6RTUnrOTR6rn4C8bOFlUh8Psx7h/Siieyq51CR2pSaRV1dNsHEREuA1Kq3P/XkdNfiEVza3IQocxwtseWyMZuqItrM/xZEi4Gy42PRzbVbgzZd40Bng6YHzmR1LtYbbtyaGs5nTKOHXJNt59bzUJOZWo//hDPTVlpTS1tf/xnTMKmseDtwwn2MXs9PetOZv0nAaaWv73fctJz6Sqofn0983Ih+sfuoOxQe6cp9SMIAiCIAiCIAiCIAiCIAhXmL6d5rMazkPPLSDGo41Nb73DxpRSmn5fJq7OZO03W8iXR/PI0/MId1OdmXjXUfTDmyx++yPeX/owi79MobRee6F3uQJpKd93gMSaBtrOmgXXpu9iY3IZdW1nRTrk1sQtepult4/AW2mETJvNxm+3kVPZiEYPUvUu1mxIoaK+A4w9mLr4XRZfF46zxf9WzWvK9rPzSCH1zWcdR20OezYeoai29U8r97uD1HCc4+mNtKjtGDA4AEsL46sqrZukU9PR1kpLQzUlGfH8tPUIJdUt6KVijmzbRcLJLMpqGmhuaaNDIyF18fgaBUQQ7qLC2hDUiV+y+NklPPPUg9w0/1W2FdTRbmgARj7MXfIGT86NxsOiik3LX+DdHw9T0HAmsCI1cWrtUpZ+eZSOQY/z9pKbifVRdbGQuobc1FOU1zch84tggKMS679sxlBg7eSI0tQUlaMzNqYmGGry+O3jjehjxxDp685f4jDdTo5q+P08sWAMYS5nUt5J1WxftoiHH3+KZ564h1lT7uK/xQZYmFqdtZtHonrbWzzy6JMs+yWF8kYtyK0Yet9SXrprAiEOJsh0eWz7cTvpxTWo9SDV7ueXzYkUVrWhN3JjwpNv8PyN0Xgr+25ToCAIgiAIgiAIgiAIgiAI3Uem7/Pq7zrK4z/j1Rff4qd8O4ZNHU+EfTvZ8ds4qY/mnhee5dZYD5TGv8+8StRufZ4bHviU+CIrbvrkV964MRxXi6tkGbg2jRX33c3StUcpbNL+tUaIwgQbZy8mPPkVy26PxP33yVpdFce/f4/Xl33O5tQGrMOGExdkRW3SPhKyGzELmc4Dzz/PPyaHYG9u+EcQo2nrC8x66GPis2pPpwz7ExlG1q6MeHgFnzw8Gl+77gl+tO1azJR7PuJA9RBe3fwfFg714urJjKQh7T8LuXf5epIrNBgYGJxO1SU7na4LvR5J0qHT6dBqzRjz4mqW3T2CQNuuXL8a8te9yIPPrmDHqWo69HLM3Udw18tv8MT1g3G3/t/5pb2Eg2v+zTsffs3WlAasAiMI91ahLUknt82Z4bc8wqN3jCXE0eIScgG2sf3FWSz65CCGcz9l5TOzGeRu9tdrRJPHupcX8eIGNYNHBmFQmkfrwDt44q6JhLuY915kV1fBoS//jxff/Jp92TW0/779RGHDgDlP8Oo/lWx49m3WHipCcnDHy9sbb28vvLx8GTT+BqZEeWFnfuZC1dWQ9MvHLFv+Gb+dqMY0MJqYYFta0g+RkFmDkf9E7n7yWR6cEYmr9Xlq2QiCIAiCIAiCIAiCIAiCcEXqB0GVM6RWSlISOH6qkDqdBa5hQ4kKdMbS+HzF6dVUph4jW3Ij1M8ZK1MDMWn5O20jeSf2czgpi6JqNcZKFwKiRhAb4oKVyfmOZW/TcGL5HG7+11byvR/lt68fY5SffZfqeAgAEs1FyRxLLqDJ2I2wyCBcVWZ/n0ZNaqU8K430nGLqtCbYeAQzIMAFpZnhZV0T6ooUjmRocA7xx932QmncmilNPkZibguW/oMY6OuApXHfBEI1ddkkxB8kMbOcdmMHgmJHExvihpICjiRUYuzuh7+7DWaGnWifronCpMMknEwnv6odQysn/AcPIybUHZWZ6JcEQRAEQRAEQRAEQRAE4WrTf4IqwrVBl8uKBbNY/HMGqtu/5Ycl0wh2MhWTz4IgCIIgCIIgCIIgCIIgCEK/d5XkzBL6I21TNZV1rWi0/6vMrivZy/7kWpo1vowYE4LK2kQEVARBEARBEARBEARBEARBEIQrggiqCD1AomrnUubEhuDpOYwnfs2kok0PtHB89U8cLKvFeMStzBvshJ2JCKkIgiAIgiAIgiAIgiAIgiAIVwYRVBG6n1TH7jU/c6Kgmo62RhrbNOgkPY0J/+a1Lw5Raj6J5168hUh31QVqcAiCIAiCIAiCIAiCIAiCIAhC/yKCKkL3k5vh5u6AqbkrsQ+8zIMxRhRvWMz8Oz7glOMcln/zIXfHeqIU1ekFQRAEQRAEQRAEQRAEQRCEK4goVC/0jLY8dq36jFWbjlPQAEr3YGJn3cb8CWE4WRqJaJ4gCIIgCIIgCIIgCIIgCIJwxRFBFaEXSaibqikpKqCwsJTK2gaaW1rp0BtgYq7CwdWLwNAgPGzMMFT07S4WdW02x09WYxMWjKe9NcZiU40gCIIgCIIgCIIgCIIgCMI1z6CvGyBcpaQ2KnOSOX7kCEeOnSA5JY209Azyyupp1Uh//3cGlngMGMGUG+9i4e2TCHO0wKhXtrWoqck6wp6tG9m4aQs7DqZRYTqJV775F3fZWmOs6I02CIIgCIIgCIIgCIIgCIIgCP2Z2KkidA+phdK0BPbv3cOevfuI33+M9PJG1Fjg6O1PUFAwQcGBBPh44e7hjruzPTZWVpibKpDUrTRUlVKQlcLxQ3vYsnEbx/LrwXkEC55+iadujcXT2qTbU4ZJbRVkJOxm66bNbNqyk8PppbSauDFg2HimzJjF7KkjCXGxwkQEVARBEARBEARBEARBEARBEAREUEW4ZFqaChOJ37GNrdt2sCv+COllzchVXoRFDiUmLo6YmGhiBofibmOKobwL+bNaC4lf+wnLlq9kR0YzdiPu5LmXn+KmKDesjS89tCK1VZObnMCBfXvYs2cPew+lUFivx9pnIHGjxjNx8jQmjxqAh8oUA5HuSxAEQRAEQRAEQRAEQRAEQTiHCKoInaetJ+fwDjZt2sjmLTvYn1JCi6EjwVHDGDl6LOPGj2dEhAcqU8Nu2VWiqz3J2reXsPQ/28lsVhIx7TYW3H0L1w8PxNHiwsXudW21lORkkJJ0nBPHjnPs+HGOJ2VQ2qDD3CWIiOg4ho8czbhxoxji54BF7+QYEwRBEARBEARBEARBEARBEK5gIqgiXFRLxkZWfPoF3/+ygxNFLRi5hhE7ajxTps5g6rjBeNmYYthjMQktVcfX8sEby1m5KZnyFgkzB28CggLw9XDBTmmBsUJC095GS2MtleWllBQXUlhcSUObFr2BBc4+wYRFDCE6bgSjx45giL8TlsYKxGYUQRAEQRAEQRAEQRAEQRAEoStEUEW4CDUH3ryNl/ao8Rg0nqnTpzI2wh1rE4NeDkpoqEnfx45tO9i57yjJWfmUVjXQ1KpGZmiMiZkF1jYOOLm44ebpjX9AEKFh4QwYEIybjVkvFbsXBEEQBEEQBEEQBEEQBEEQrmYiqCIIgiAIgiAIgiAIgiAIgiAIgtAJYv2+IFyB2nI28MbTy/glsYBGqa9bI/So5gN8/PyrfLE9nao2cbKF/k6iesvrzB8VhJOjI46Ojji6RLHws31kNV5hazja8tnzn9d5e9UOkqp0PfpWUvluPrhvPGGhk3ly1QEK2y50rFo58f3bLPtkDQcLmujZll0tJMp3f8B948MInfwkqw4UcsFD3BmaNFYveYwl/95EUo3om/uGlvQfX2PBCM/TfY2jI05eE/jPlzv7umHC1Uqq48CKx5k10PmPa845Yh5LfzjKFdcNqCs4/sNHvPfx9+wr7smRRKLm2GpenDuE4BF3sXx9Os0X6n/bM9j61Qe89+kmTtWJEa5TpBqOrX6RuUOCGXHXcjakN1/+a2pz2frJyyx+9b/sK7vSLu6rhDaf3Z8/ziQfpz/6G49ht/H62rS+bpkgCIJwhkFfN0AQhK5pTvuG557+Hvl1TzPPyxWrbg2NStQl/8y/l3/AOv31vP3CLcQG2PZ+9FXXTEnacU6mZlPcoMfMzpuImCH4O1lhojj9K5qykyTWO+HrYY/KXNHbLew9FjHMm3mUR5cupbj+Se6ZGo6zmYiHC/2X1NFMQ7stkdOnEh3kgoXcmqBBHtgaX+TvdBp0ejkKhQJ5Xxe9asngh6Uv8kP9YG68L5xg+57sY3QUxG9lx8FjpJ2S45BSQMm4aDxM/+49zRg4ZTypry3nkw+raVl4C2P8rbmKe8HLpysgfusODh5L45TcgZSCEsZFe/C3h7gTpLYKinKTSG2IYFyzHmy7r7lCZ8mxCx7JdXeaE16rRV1wkI37GmlvU/d1w4Srlh51axPtln6MiB3JUD8VCgtvokJcMb3guCWh0+rQI0duoOj7VY3txez76n0+PwhDF8xkqFsPjiBSOScP7mH33hNkdMhISc+hcnIQFn83C2ESwLDYHFI+Wst77zdw34NzibQTI9yFSOUnObhnN3tPZNAhSyEzp5JpQRaX9Zr6jlrKC1JIKTIgsl4C5z6/aruFviWHvb9sJKHGhQkLriPCuh9/LrkSr8hJ3LbImQkaDeUp8cTnNdLcoe3rlgmCIAhniKCKIFxBdBU7ePuF/1I77GGenT4YT+vu/Qq3pX7J0/94ldUHC5CPHY9a18sry9uKOLDmY9796HsOVBrjGhROiIcVUu03vPV8FQ7j/8kLj9/IUGUWnz39LEcHPM/Tt49CZd67zexdclTRD/DKvaX889OPsbF5jPkj/FEZ9vWscy9rOch/Fn/A2n2Z1HXpspRjaGqGpbUdzt5BDIgaxYRxQwl0tsa4Hz9HXelkJu4MnX0b90+NxOm8cyE6ynb/h3c++5FdifmUV1ZRU9+Gy5zlfLpkAWOCrPtu0klXxd6PX+PLoiBm3juXSQMdMOzR9yslMTmdgtIGZA7jiYn0xdvhwhNIcqsBzHvkTipe/JTvvlVhee/1DHUx7uVaZ1cOXWkiyekFlDbIcBgfQ6SvNxc5xBcnsudeRBuZW1fxzQ9bSawCQ2MjTEyMMTJQgKRFo+6go6ODDp2KyNm3MW/2SAK7vEpEjl3ICGaHjAAkmuI/oSRv+xX5PWhL/JH3P/mCH4+U06U14TIDjE0tsLZ1xMM/lMHDxzEmNhwfe7O+n7i/askwcgxn3Jx7uHeC9/kfpqVqjv6wkhVf/szB7HIqq6qpa7FhzGOvs+Tx+cTY9eHZkRpI/u1zVu2px/f6Rcwf5c5F1jxc3ttVZZKVnk52NaiiBjAgLBT3Cz6+yDD3n8Ttt9bw7qeb+GKVNdb3T8bnwlGra5hEVWYW6enZVKMiasAAgkPdL/9lr8oxTkvZ8T38+v0v5IfewxTDy/kedlB4eD1rVn1HfIkeQyNjjE2MMDI0QC7p0Kg7aO/oQK0zx2/kbObfPptImy6+n1yJV+REvCIngr6FpJ+gYlXCZbRZEARB6G4iqCIIVwp1BqtffY2tJpNZPCsWf3uT7p040JWx+fOv2Z1aSJNOj0qhQNaLzy/t+Vt595nnWJnmwIxFX7J/ThQeyv9NEupqTvDtqy/yxrIyQio38+t+OdOvs8G6O1cYSTUcWvESr3yyg+ZhT/H2k9czyMOqxycmpKZEvn11Ce+vLyX0weUsnh+Hj+rs7tkQj+mP8uCRe1j6wSqc7P7B1HDni6yKvLpp6ksoKK2ioe1MagiZKfaeHjiqLM4Klkho2puoLEinsq6ZDp0eeB0j2yDGzF/E0w/dQKyfLSbX8HHsOzIsPAcx7jpT3L228t3qrVTWKPD288JGadGHk4Fqsn9+i2Ub1Qz+x0wmRXth3sPXh1SZRHJaISV1hvjNnciwsEAcOnF3ZuA8ijvuSOHZN9fwtZ09NrePxd9STKP+lURlUjJphSXUGfoxd+IwwgId+uENsER94g+8t+xDfsr15tbnn+DOyeFcuQu0DVB5DWTYRCPcKitJ3fkz639NIKdewsg+jJETJzF2uB/2KicCBvniKHZgnkVLU2UJpeXVNGtO/0RmrMLF1RkHlen/+kdJS0dbDSXZydQ0tKLRA8tfQukdzcx7H2XRbZOIcDUXwZU+YYpzcBzT5lnivPc3ft64m0qdCx4ejjgq+/KMaCndv4aVa06gG3QHcyeHYN2jY5xEbVYW6RnZVCrcGRc3jJgoj04sVFBgN3gmc8dl8/aab/nCyYnHbopEJS7mv5JqycpKJyO7EoX7OOKGxRDl0aNLQS6Nvoms7av44J2VHDIZxwOPLeK24a69OhbrG9M4vG8nyR2+zJg4lhCzy3k1BVYuAUSNn4GyrIbshK1sXL+N5GoJQ5UPg0dOZsqoUJxVDniGhOMu7s8EQRCuSv3vmVLo/1oKOZaQhdZtIOGeNpgZ9e1NgtRaxqkTx0lKziC/VsLaYwDDxsQQ6GyFyTlN0zUUkJyUTmFVE+o/LQWUY+wQwOAIPxytTPphGhUdBT9/xIojKiYtmUakry1G3fwQ1J68lrW7Myiu10Evr/PUFG1g6YNP8XXpEJ764EXmx/mgPGcnhsI2ktuWLqH6noW8tfEkFe4LGOCqxLobD4Qu62c+WbmOvScL0cgTKaqdQLi7FcY9ejh0FP/2KR//uIujuS00ncinbvpgUJ3TPcsdGX//nWxZ8C++/mkogY4TCXW8hlamm8ey8O1YFgKgo+SHZ7jrxZVsO1WHHkDhy4wXPuK5m0fga3bOUdE1UXhkPZ8tW8bnW5MorTnFlg8e5OihYyz919PcPNyXbt70JVyUHEvvaCZ5RzM2QE3ivkMkltkRHOKArU3f9cC6oo18/tUBDKIfZGpsGO49HnGTqElKJK2gmDqLSOZOiCLEr7O7dOTYxt7E3GEJLN+6jl0hPriO9uHcy/+aJ9WQlJhGQXEdFpFzmRAVgl9/TPehK2D799/y44Z4kltqScktpbojDLsr9oQaYh8QzcSAaKCd46YVZCaeIKfRguh5D/P8U3cy2k10vL8zHTiHpz+ew9MAUiXb3n2Gl5Z9yYHy0zercvdRLHz9RR65IRKrc4e4ljJSdn3LB299yk/xWdTlxvPV88kcO/YoS57/B7Mi7DHq9U90jZOb4xo+AtfwWAJNK0hJOECGygc/V1ec+vCyl6oS2PzLZrJNIrlj5ngCenzVQANZmRmkZ1VgGjibYcOiibDtZP8rsyZ84lTGnHiLH9f/yrYwP+aGW147972dJDVkkZmRTlaFKYGzhzEsOoLOHuLeJJUlsOWn1Xy/5Ti1Xs5k5JbSNswVy147oRqKjx9i14FSrIfez4RYx8sMOBugdA9nlHs4o1CT4SGn7MRekmuMCBl/O0+8/jxz/MQYJwiCcLUTPb3QNdoMVtx/My/+lESF2VheXfMJ9w/3xqYvUhFJjaT8uJyXXlvBltRymrW/b1OWYR50O2+tXMK8aG+s/5ifa2XX2/ex6N/bSas+T+FDRQB3fLaKJXOj8LLoX7fsUvUOVny1F03EI0wK8cS+uyMqUjlbv11PqYkSpVUj2oZmtDodUm9s/VZn8O2rr/PtcTNmvr2ImVF/Daj8wSKSOdOHsjYhFyl4AH5K626dQJTZ+hLs6YxXRxATH55PlLdjDwdUABQofYLxdXKiVBXN/fPj8HY+/9IphesUbp/1AwtXfc2mEYE42wZgK3rxctHeeQAAIABJREFUi1NY4hFzMy99bIPh/c/w7/UnqdDoqDmykpdec8DujQeZMci5F8618Fc6yjMyKaquR+M5kjBnW2z7aoGlVMu+b1azq96H+eMHEujcC0FLqYHkpFPkl9ThMPw+xkSE4GHShb+XOzBy1mS2xH/Gho37Cfd3I9ZNTJ+eTWpIJulUPiV1Dgy/bwwRIR505RD3GpkSDx8P3P3CUQ68g5vHReJzxQZUzqEtJq+giNJKNTIzX4ICPPFwFINXd1GYOzNw+qP8y8YckxffZMWOfDqkBlJ/+oC3VTZYP3M3E3zMxGR0X5CqyS8opKSiDedof9xdXHo01dYF6ZtI3rGFzYlqfG4YxYhg8x6/JvQt2WRlppNdriRi0nDiooPoyuYAuU0ko0fHEP/+FjZs2kOk/3T8+2UH3lf0tGRnkZmeTbkygknD44gOuqztFz1GZumEm7sXgSHtOM6+mdljwnsxoAJSfSqH9+0iTRfEdRPHEtid15G2krLSHPKK28HUGy9ffwI9xBgnCIJwLRC9vdA1bRkkp9fQ0qZDak8lKaeR1ih9HwRVNOSuXcxDL3xFfE4Tpq4DGRMVgmnRPg6lFlObdYBDGZVMGuCF9R8BEmMChk9lcq4hLsVNp9MkAKiryU7LpaKpiYZGNRqtnt7eqXFhbZz85gs25Tgw6YHBeLh0/0NQe8qPrDlsRcx4F7T1tdQ2NCFptUh6PT0bVpEo37ySr/dm0jbocWYP8sT5gpNICpyCA3FTOWEdEYKN0rJb01rI7cbw9JpDp1eK9iKrmIf4av9DnfhNU8JnTGXw6qWs+SaeUb4u2HhZ9KurtT9TOIxkbFwgGxJSqSjRABIVu75l7b7RhPo6EtynKTmuUVIjaanZVNY04xAXioedbZ+ltWtP+YFvN6VhNvgZovy96XJ5h0sgNSeTmJpHSZMfYyfEEhpg2+WdksYBoxk15Bf2rf+FncPDCXSJoKtpu69eEs3JiaTmldDkN5YJsaEE2Pa/vagAyFUMved9NtzT1w3pfrqqHHLziyhr1mMY7IuvhytO/TA7zZVNjs3gaKIiQtkWn09mByDVkLBxPTtGDCHCKxYH0S/0Oqk5l5zcIkrrVPj4euLq2r33rV2hzt/H9q27KVGO4vrYIb1wPehpzc4kMz2LStcoro+LYbBLV/tfIzyGRDE0YAsrtm5mx9Ah+I52EintfqdvJTszk/SsSlyjricuZjBdPsS9RGYZyuznvmL2c33x7h0UHjvAzkOV2MbMZdJQu269hqT6Yopzs8mr02Po6YqHjy9eYn2LIAjCNaFvgyqtJ/j2rW/Zn19D24Vmbs0HMv+JWxnm0XeTLcIZ5sO56daRJFRvp8rndm4a7opNX+TBbj7At1/vJK2wCccpr/DpsoWMD7ah/chnPPPCCo4YjmfyILdz0mYo8JjwMG9NePhPL6Ur/Z5HbnyOVYfaevczdJJUu4efNybR4DmXET6O2Hb3LhVdCRv/+wvlQddzV3gVOb/JkQFarQ691MM7VXQl7N56gLzyZnxmD8De2vqiE4oKayWWZiH4hzugtOqnTw49SOExgYlDV7Br06/syRuGn3sgfZgt6QpjgL29DWamxsjQnA4Y6go5dvgUFZOHEqy06usGXns6TpGaWU51gzmBof442PZ8DaPzkuo5sGEbJyrsGBPnj7tT76TWa01NJCWvhI6Bsxg3JATfS8m5LXcmbtgQ/LasYue+FMYMCSXOVcxYn9ZKamIKeSUdDJw1jiEhvlybac3bqUxPYNem9WzafYSU7ELKqxto6dD+eeGEzBDb4ffz5uL7uW6oazelQpVozskhr6iUGr0cdx8/PF1c++duoSudQoVKaYWlmQw6Tp9ZqSyNpLQccmujcejL4ujXKE1eDnmFxVQaezHRxw3XviqSpG8m7fBB9ie14jZzAOEBPb9LBdrJycwkPasOv5hhxMUMuKSaKHK7AUREDsRh714OJBxhfNwM/MSE9WntOWRmppNV50fMsDhiBqiuzYCTupbiUwls/W0D2/cfIzW3lKq6RlrP5PrWS1o0HR2osWKgVSrJeTPwC+qu+yQ9baUlFGbnUqGXY+fqjrePT5d2ZAmCIAhXrr7M6krtjlV8uPJzEgoaOE8ypj8YRz3FTR1SP6xzcQ2S2xC3aBUHF/VtMzSF6WSWN9AseXD9rLGEuNtiLJNhPPQ+Pt56X982rltJVO/dTnx+C17zh+FhZ9OJ4o5d03jwa74+omTYk8Pwd4vHWCFDJgOdTtvz6b9aU0lKr6G+GZwVCmSdeMKT1Gokt1DC3ZVYX4v5muR2DI0Jx279erbHFzA9zBcbe7HpsHPkGBsZY6A4ezSRqK2qpL21FRBBld6myUkjvaSKOrkfIcFO2Nr0zbUs1R5kz6Esap0mEu3lgkOvTNi0cSoxlbxSI2JvH83AYLdLrHsgRzVgACHuZiQcOkxGzgiGuHqKGgoAbadITM2j1CiW20cPJPiaS40mUZe+lW8+fJt/rz1EscyZ0MFRDJ0yEjdHJeYmhijOHkZlhqj8hzDE17YbJ+bU5OXmUVhcgU5mj7efd5+u1r+qyYwwNDLEwEAGv4fL9I3U1TbS1CSBCKr0Mi1FObkUFJejd4/E173vdmjpG0+RdOIEWZIPN4YE42faC2/akUdWVjrZ7aHEDY8l+lLzdsks8QsIJMBhPbuPJ5KUMwG/YBGWBejIyyIrPZv20DiGx0Zfe6nRpCbyD61j5Tvv8fWONBrMvRkQFcXoOZNxsrXC3NgAORqqTh1g+64k1AHTWHj3TKLcunNWSUNJcTFZOcVoscbF3Qdf32s0uCUIgnAN6ruZOF0Zm9bF0+o6hntuiSbIxQpjhfxPq2a0uRv58Mv9KEePxltlTV+U7RD6J31bK+06HTqZDdYqIwyv1kW5Ui2H4o9R2uTE9IH2KJXdHFrUZPDjl5toibiDKQN8cOpIwFAuP30jqFHToZfQQY8FNKWWZlo6NGilDtIOHaDg5kgCHBy44GYcvQnesTGEONhcowWZFTgNHkSQ7Qa27E+g9IZBBNjbiaBzJ2l1WiS9dNZPZBgamyA3EIGp3qejLO0U+ZW1qN3jCHGxwaZP5rwl6o8e5mRBDarYMJzsbHvn5qgjnaSUXGrshjMnJoSAy8jZJbcNJSTADYuEk5zMK2RcrCceV+u42AUd6Umk5NZgN3wOMSEB11ZaNKmR9PUf8MrSFcS3BTHj+e954MYRBDtZ9O54oS0mJ7eA4nI1Mgsv/PzccLUXI1bP0CLpdEhnD3EYYGhkgIHoD3qfVEVObh6Fpa04Rvni4eLcRzu09DRnnSItLQet62y8vHon6K7OzyIzvRBF+FiGRQ/G6ZL7XzlKHx/8/RxZdzCV9PR81MFBYuEAavKzMkkvVBA+dhjRg6+ttGj6lnz2fv0Or737M3m2I7n5neXcNTMWP9WfOzup+jDfvRPPPp8p3PXcEu4cat29x0lbSUlxNtkFbehNvXDz9sHXVTxTCIIgXCv6rMfXZq9nn+xm/rXyVkYE2GP6l9FNw4nlG/jQMIgRo31QWhmKugF9Qk1lWgLHM8toaNedlSZCjrFdIENjAnGyMDn/A7rURFHiUZLyqmhSSyA3xiEkhqH+DlgYNJNzaDfxx9PIr1Zj6hzGiEljiXBXYmrw1zPdWpJIQmIOVU1qdHrQFSRSVN+OpG8g9+BW1rVnnKnrIsPQwpWQIQPxcbDE+Eq/u2xN5FhqFY3KIYQ5K7Hq1siijrJNK1md6cHExbH4u1kgLzTAUH46uCm1t9Kq0aHrwRIzcmsbbCyMMVLoqdrzb179yBWLp24i1sv6bwMrhqELeDG0GxuhqyZxwxp+3HacckM/xs2bz6SB7ih7dBeMjtq07fz88xYO5bRgHTyBefPGE+6m7FSxdIVHIH5Olmw6eYKU6joGS3ZcejmQNirSk8lptsLLzwsnpclV/FAm0dzUglp9VsobmTUhA4KwtbM+/Ru1B/jv25+zbn865c3NNDe30NLSjuecN/m/h2cTpovnq48+5etNxyhWm+MeOZFbFy5kzvAAHM3FRGGXSA2kpmVTWdOCfWwY3nYq9MVH+HXTFvYezaCs1Qj7wGHMmDONmABHLHrsjqWNlKRTlNWa4xfsiq2NUae7PG1dFge3bGDTnpOUaJQEjJzFnElDCXA0Ry41kBW/ifUbd5NcpcA5YjyzZoxioKcNxjLQZCWRlNOC+/AxDArxxvxyuhyFM16eLtgZHiUtvYSyGh0eTlfB9aitI33Pb/y68QA5GmdiZs1lamwQTudLOyo1UpSeT5OJPa5uTlgbaclKSiKnxZ3hYwYR4t0b6W66Skddxh7W/7KR/TlqnGNmMXdqLEFOZpfZD7eRve5tFi9dTWHAQt5/9m4mhzlg0gcHQFeZTW7e6XoqRsE++Lu54izmm3qGvo2W1nbaO/53ty6z9CHA3xP3MztapYaT/Pr5l3y3/ijFTS00tzTT3NyO09hFPP3oQsYrk/nlv/9h5Q/7yG40wDF0FHMW3M28SYPxshYnriukphxyc4sorVfi4++Nq7MhlSnb2bFlB/uTi2jECq8hE5k5fRQRXqoeDBJ0kJ+bR05+B06jPHB3N+tkX6ijqSiRvZvXs/VQLk0m7kRNms200ZF4WMmRmos4uWcT6zYfoVCjJGj4FKZPiCXY0RQZWoqyMskoNyNsYizRYVaX1f/K7VxwdnfBal0O2Xl5lGqD8LoaLkddI/lHd7J+3XaS660IGz+LGeOj8DpfnkqphYr8QqrVpjh6eWJnUERWZgblZmFMjI0mzKr/jXBITRQc28n6X7eRVHeRz9cVHUXs+Wo5Sz/ah9GUF/nvozcT627+13FT30p2wgF2HmvEdfREJgzq5oAKp+uplORlk1+vx9DLDU9vX7xEEFsQBOGa0We3I2ptCHc8HUaou/I8ARVAk8KOPVk0uU9jtK8K6+6uIyF0ilT2A8/Pf5rVScU0n5sJSuHBLSt+480bwnC1+OtJ1Jz8hAfmL2NbRhXqMz8zCF3Iuw/Ycujbb/jtWBENZz34KVQR3PGvT3j5pkG4WJ4VRNOk8Nk/5/H6pnQqO859l1o2vfMsm/70MyMiH/6OlU9NI8K1d/Li9xRN7imyqhrRuXjjbmnWrTWFpLp9rPw8HpNhjzMuxBMbA5AMjTCQy07fcLa10qrVXjA132UzjiB2iDtrjmZSVV3N4U8eYPIPywgfEsfIMWMYN34ssSEuWJsY9Mx5bM/hp1df5TftIGbeeCvFXzzD87fHk/3uMu4bG4RdT/Q7Ui3HPl/Cst0KIiZO567YU6xc/AzzNt3Am+8uYmq488XPs4Evfl5WmMZnkVbUQGOHHuUlXRwasr5/gYdf/pztGXoi7n+H9568kViv/jj52A00eSSnFlBR0/7Hj4x9JzFrXCg+jqefgPTaBsrzcziVdJL8hlbUOj1ggEVTGzVHPuWxT1Zx3CCcYXGhdOzcT8JP75IQn0zxh2/y0MxBOF+LKekuVccp0jLKqW40w9/fjLQfXuO7nA484iZx3T9vxLZ+Lx8vXcZd323ggX+9wj0TQ7HviVknTQFZORXUdTjg4WqFpXlnHrl1VB39lvc+2UKl4whm3/kEDpWb+Gj5E9y7cz7PPTIe2a6vWV+kZPC0+3hYd4CVby3h3p2zeeGFB7lusD21ZeU02gxi7MgBBDlf7hO4Ag8PV+yUEsdziqiqakFy6qP6NN2lo4CtH77LT0U2RE+ei92O9/no4d0kPfEKj908HI8/RQi05PzyJk+88in7be7mo9cWMTdaQVl5IzaDxjJyQBCXfYi7XQdF2/7Nuz8Vohw6ibl2O3j/o4fZnfQErzx2M8M9TC6xH5ZoPv4N7/57PSUh97Lk2buYFKzqo92MEs25uWfqqSjw8PXHw9UV4z5py9VPW5JFdm4BJa2/31sb4RY3jtFDI/D6/aDrmqkpySMjKZGshhbaNBKgQNHQQm3yWt5Y9znrSxwYPCQSfcI+4jd+xvFDSeQseZln7pmI77W5RfiSaPJyyS0spsrIk9Hm5cSvfJaVhUaEjpvK3VNd0SSt4f13nuDWX2fw9JLHuGW4e8/sZNFVUFJSRHGtJR6O9th3prCJVEfapi9ZufYEmtBpzH14BuqEb/nozQfZvP8fPDnfl/xNP3Oozp2Jt/6DMdnr+PSjR9m6726eee4Bxrs3UV1dh5H3YKJih+JzuWO3wgknR2ccjA5QVFRCSaOE15W+9VBdxqHVK1l9qB6v8bMYnfUDK5Y8xKFTz7F40SyC/rTSQkfx7v/y2suvsbZ1Is8veZFFcdVU1xnhPTiK2KE+/W/njqaCw9+v5PuDdXiMu9jn6wJ9K+mbVvHZt4cxnfoYix+/haGO55/S0lUmcmjPPvKMBnL7xBG4dfvMl57WkhIKztRTsXf1wMfHh97IricIgiD0D30WVDELHUHMBf5fk7KDPVlNuE0Zg6/qr6vW26oKqMIWR5UZxgZX+E1VPya3jWL6vNm0eeZQ/ftOFW0V6UdPUdLcRFODBt3fzLorvEZy/fVZmCUVUVmQxPGsCpozvuSxRRo0kh4zlwGMHToQX5t2Mvfv5Eh2Il88/38MCHufBVEeWP8+A6BwZ9jsG5hldJKiBjWSHvRNhSSn5lHZZIz7wFC87H7flSLDwMyNkeODcLK+8nc3tRYWUt7cjirUHUvTy125+qdX5uSq/7CxeRALZw3Gz+n05I3M0PCPnSq0tdKi1aHtwZ0qyG0Yc/d9TDtSQMWuDGrUEu3V2RzZnM2RzV/xFkYoPcMZNvVm7rv/FsYEO2LRbbt12kn95m02GE/lHwunMNjTgN07VBhv2MOmPXnMivDDrtuTX7eT8d2rfJAWxr2Lb2BEgC1GkjtpgV+z/cc1/HRgNpFeTvhcbLWZXIWzkw1mRpkUFTTT2qLnkiJuuhpST6ZRVNGAVtKTfCyZkorx6LzM/xgcNI1lFBaVU9usRrrgi3We3NQOdy8X7KxMe28Q0tVw9Mv3+GLLMfKaTk84GTjEcu+zDzE7OgDVmf5G4TCF576ewnMtCXzwwCMsX3uQwnagJYGV7+dgMGwRHzw4Hc3qBzi4peV00LHyAHsO5zM7diDO3f/EdtXS5KSSXlJFvc6cqm1fc3Duozz++jSiPCzPTAB7cefs/Rxf9hOr1k4gNtCDUf6W3d8dtRVTUtFAi1UArtYWnGeNwDkkmlNW894XiVhPXMQ/Zg7BxUQGkju3nUrkhU9X8nruj9jELeC+u25kokc2K57+iY37Uiiw8yK9sISGSEccJzzJynEyZDJZp+pJXZgcK3t7bKxMqS8vpb6hAf0l1AjSNldSXFRGdWN7twXU5SY2uHq6Yq8060JNsA6y1n3B5sYApt95I1MGWnAs73us2nax98ApZo4YioffWVPzulKSTqSRV9SIha8KUzMzkCuZ8ORKxsnOHONu+jzdpSN7PV9sbsR/2h3MnTIQi6M5rLZsZdfeA5yaOYKhHn6XFnzoyGHD9+s4KQ3htgWzGRXUVwEV+KOeSkkFOpkd3n5euLpYXNnBvn5KV5/Kr/9dxY/bE6mVABTYDLyBB+6/lWlRjn+MtXKb4dyzfDj3vJrCd6+8wNIP1pHWArSl8POqk5h4zOClJXficvhNluz7DS1A7UmOHDtF+qSx+Ab2u+hkP/V7PZUKNKY6Dm8+ivOd9/D0Q5MI+b12mN9NFCQnkfLROn7dGs3AkBsZ0hOBgo5qqqsrqZWrGGRni+3FblP0beRs+ZpvdlbhPX8Jd03wwUwGel8tJTnpvLn2XR6N92bEtOnc/PhtRFT/ytu//cT6Q6mYGaaTmVPNWE9nohe8xtAFQHf0vzJzVCpbbKxaSa+sprpK4lLyOepaaykvLaG8tvX08003kBtb4+DqirO9ZRcCG2oK9/7CtmwIn/c4C0bakfHDIWz1qzl+5DgnsyYRFHHW1LxURVZ6GqcyqzEJscLCyhK5jQ8LXhvK6UPc30Y4DUX7Tn++0JseY8FIW9LXHsRG+u78n68rr1y0ny0b91LsNIUHbplN1N8EVNC3kJkQz84TTXhNnMDEgT1Ry0tDaUkx2TnFaFHi4uaFj69SjHGCIAjXkH46+6MhZcdesppcmTTaD5XVn1NxtBxaxi13L2NrsQv3rPiO56cF4ShWTvUMI39mPfMBs87+WcOPPDj2EVadbLngn8ptornr9WjuQkfuigXMWvwzKeWtqBX2xN6/lDefmUe0mxVGctBkfMxt17/CuvRdbNhbysxAV6x/n+WUWzNkwasMWfC/11Yfe4db713OuhQHpj/3Ic/MiMStL/Ja9Cgd5eWVtLSpsba1xdi4+9Ygtad9y0drCvG/8T6GBbj/MYkoNzfDxECBApDaWmnR6Hp2pwpg6HUdr3xijuPS1/jox8MU1HecNXmvpr7gGBs+PsbOzXtZ/NGb3Ds2ELtu2A0glW9l1V5rxtw/CH93S+SaNLJyq2lq0WAt6dF308PW2dQZq/lwpzWT751ElJ/t6WCxro3mFi1aTQ2V1a10dHQmiqXAzs4GU8MOKsrraOvQoOcSdmUp7Bk8PJrAzSfIbpYRNyoab7ez6rNI1WxdtpDnPtlIUnV3hVQAuRPTX/2c1xdOIry7CudKtWTs/plVjYnY/R5400toO5qpLc0mcf9eDqQWUN2iBbk57rFzeeS5p7h1dCAO50slZGKDjcoMEyMZtEuU7/mNupAF/Ou6MUS6W5GjssbMxAgZWvQKFXa25pia9NPHKKmWlO2b2Z9SSJ0a5LYDmDQ5lhB31cUnuXXlHNu0jcOnSmjUgdwliuvGR+Hv0vUJ+3NemNKUdAqqamnVaZEPep5/zJtyVkAFQIFSpcTUWE5hdjY1dQ3osPzbGxddexN1tY3ozFQoLc0w7uRMsq6ykqqmVtotVdiYmFw8RVJbGj+vTsR8yCRmThl8OqACIDfBwsIMY102e08N4/H7BhARqEJWVkxJRQ31HXLsAoLxdXbCSg4gR96Nl4xcqURpYYqUXUVdUzMderpWd0qqYfdHj/DCu2s4XN6NPb/cgQnPfMDSh+YwtJMpyaTqeNYdlvCNG8yQMFsU2hzyC8qprutAptWik/7cQUv1GWTmlFHRZMOAIB8cnCzPvLe8f05uSNUcWHcQnU8cg4aEYavQklNQREVNPWqFHr106QNQ8/GtbD/agMvYu4iJvMy0cpdLW0R2bj5FXamnouugpbGehg4DLKyssTLrp48qvUzfkM+RzWv4rHz/H2lC9ZIOdWs9FfmpJOw/wMmMEho0IDN1ImLy3Tz+1L3MHOrJeTPtGFljbW2JhakMWvRUH93NieAbeGT6DMYF21B+yhILCxNkqNHLrVCpLLG4eMS5T0gN2RzaE09CWjntyFD6D2P0sCiCnDoRlpSqSdu3lwNHM6nWgNw+lHGj4hjsZ3t5jdJVkp2bR1FZE7pme4Km3sTcm84KqADILbGyMsfMqJzCgnIqqnQXDBRI6jaa6utpk5tiqVRi3smvhlRfT31tPU2mVliaW2J5kT6hI3cXm47VYT3oOm4Z7/PHOCIzNsPM3BRZSSLZqnBuHDCSKAc5tamVlJdX0ipXEuzji5eXzel+t1uD2XIsLa2wtlTQWFdHXUMberq4yELfwLE1b/DyK++wMU/bbS1DbkP0HS/w0osPM9mzk2NcfSJ7jlejcIpifJwzBrpiSkuLKa1oR+utRaf78z23vqmAgvw8CmutcPf2wd3TBuiPwZTT9PWJ7D1ahcJhyB+fr6ysmLLKDiQ/iUsf4lpJP7SfA7kywueMYXS49d9eA9ryExzaHU+h+SDunjgcl55YXaCt+KOeCmbeuHn74uNy4S+mpGmnub6eVr0RFiobLEScWhAE4YrWP59UNCns2JtJk/NExgSqsP7TBKqOipREcmpbaGtM53hyBc1j/XEUD11XCAM8577G+8/NI9Ltf5Nnhj6xDPVVsjOnmsLcYlo7BqLHtN+tLO1dOqoqa2hTy3FQWmJk2E0psNTZrP1gFSnOU3lpfAieyrPuMg3NMTcxRCEHfVvL6fRfPRBcOJeJ10QeXzGaO585yr6dO9m5azd79h8jo7SB9jMNaMv7jTdfDybI9RGmhDtdZm54HcU7tlHqPYLrnRyxloMmfS/7T1VQqw1geqQTSmU39ylSNTu+3oVJ3F1E+rthdeaw62oyyS5tpFnrgIuzOSad2nEiQ6m0wshQQWVlOW3tHZcWVEGB+7TFfBV1BxVqM+xsbbAyPfuB347Jz33FoLtraGjtxp0qJiocnWyxOl8w41JJpRz87iMS1siRn3MgZAbGmFmocAwZxajBw5k063qmxQXhbHWh2hlnt02iuqKDcXdHE+TlgqnMgJB5j/NEsyn2mzNQRN7MP28cSqDteT6Prp2muloadWaolJaYdXamvzvpqjj26+d8vr8WudIOlb8h4dERBLqpuOjGL6mJkvTjHNyTSmFxJll2NQQHBlx+UEVqIO1MPRXT0Nv5552TGOJrfc6Keom6unra2juQGxii+H0X3Tm/U7v7XR5f8iE/HiqgSWPOyKe+5K2HZzDkIg+2v9PVVFPb2g4W1liYGHOesl5/er/q+E0kGngxLGwgfmfPVkoN1NQ20NwqoQofSqSPJ46GoPCYxH0vWBB1lwGeAyIJclN2YcdG58msrLAwNcGovpaqlhZaJDDryuUmt2Xsoo/59eZXqW/u6L6dKsZK7B1tUVp0tjES5YcOUWLpwihvXxwUoM05xvG0PIpbPJgY4oGz458XGXRkZ5FTVkGdiS9BAc442fTvejJSxSEOFFviPMob39MfkKPH08gtbsVzUjBuTo6XeI20cyoxmTyFB5MH+OJ76cW2uoWuMofcvOLT9VRC/S5YT0VqOMLXb7zOsk83c6q+A+NBd/LG0me5f7Jfj3xfrjRSVSKbvkpl6zfn9oMyFEYmmFs74B07g8jYcUybNZ1Rkd7YXTDQLztr/YZEfY13mo4BAAAgAElEQVSawOBQBoT5YSEzwGfyAh5skjD94TCN3lO4846pRJ9vVrIfBMGkujR2rfmKNccbsHZzwKfdlZABkZ0MqrRSmZdMwt4DZJbkk282HDMHv8sOqkjNueTkFVFSZ4Tv9Fu45bqJRNqdc2z0jTQ2NtPSKsPYQIFCcb7BR09T4k+8/+ZrvPNLMrXthoTd+DwvLXmK64M7982QGhtprG+kw8QFC3OzC9fuk+o5uT+FerkdQ0dGcHamMKm5gYa6epp0lviFhRMS4okRcpxi5/DQ6z5MbrQiYHAE/vY9keBPhrm5GeZmJjQ31tHY0ICEZdd24cmsGTL/Rb6a+AA1DW3dt1PFyBKVvR221p0f42qSkyhqV2AbNRB3A9AVn+JUSiqZ9Y5E+Prg5fXnXRzqokIK8wspN3Ql2tsTL+f+PMZJ1CQnUtgux+bcz9fgRKSvN16el3iNqPPJzMygySyI8eEDcfi7Lk7fRPrheHYmteMzbSLjwswv+dNciFRf8r96Kt5uePr8XT0VPc2nNrNy+Uu8tvo41W0GBEx7iOeXLuW2gf0ucZsgCILQBf0yEqFJ3cnerEacxo0hUGl9zs2fAq/Z/+ThDAU76oK5ZX4Yzt09+Sn0GJlBKLNvHoG7ncWfb4TlVlhZGqCQQ2trC1qdRE9mnboySLS1taPVGWBsJEfRLXMjOvJ+ep8vjlgx4YUZRPrY/Tm1ntwSCwsjDA0AbQstrVq0Ouid3CFG2PjFMcsvjlkLXwBNA/kndvDDig/4z0+HyKlpp+Hwb2xMuoFBfo54XtbuNB1VWl+mTByIh5MFMtSkbNtNSlk1upDZjAl0xL67dz5pC6i0ncTs4QF4nLVSsSUpiYyaelqVMYT5K7Hu1OeSY2xkjEIhp721De3f5eDrFAXmDl74/N3/mqpw9lLhfBnv0Ctklox4chVvPTydwT3xsGnkT1ioM3Znzp3cMogZj77PjEfP/+tS7W7efXwJH/54iIImDeYjn+LLtx5mxhCXPhp4TQi9fjEP3D2DKNcutMDQn5lPvMPMJ3Tkffc4D27ppno7HWmkZlZQ3WBJ9D0ziPL3/OvqWV052Tml1DRocXJzw9ryfKkb5NiMfowvtk9j9CP389rqeoKC7LFRdf4a0Le306HRorAwQnHRjlZHTbs9UTEBhPjb/blr1BRSUFhFTaMpfiFBuDjbn/l/M9wGTcBtUKebdEnkhoYYGRggV7fTodGguZTXMLHG0cMax25vXVfoqNe5ERMbQKivCjkaMg8lkJxdSLv/TOLCffGyOvs8acjLzKaovBqZ9xgCnR2x7+e3hbo6HW4xsQSE+qKSgybjIIeTsihs82VmTAg+XpeYpkRXSXFJFXqrAFztbOlUeaAeI9Gck0NeUQm1egWePn64u7j+bXocuXUUt//fWkbGvslzr77PCS8fXJyd+ueDSh+QmQ/mjjeW8uz9k/DtiYNi5IGfvweuLqfPkNzcm1F3vMKoO87/6/0uCGbky7gHruP++6cS0JUGGHgw+o4ljL5DR8mm5Sz+qbxbdrepc3PIKyyhyjScW8bGMSjM5i+vK1UXUVRSTmWHLUOcbLE57y4VGZYD5/D8V9EM/fcrvPzGLpSebrh3IdWoXq1GrVajNzTA0PAifyc1oFb6EWLjSeQ59wrasjLKSsupNnInxtcLr9//38SBoLhJBHW6RZdChoGBIYaGBmg61Kg71FxKTERuZIGtiwW2Lt3ewC6QaJIcCAp3wmegI3K05CenkJh0ikb3GCIjBhD2p2tBS2lhIXn5JUguI/H29MStX0eaJRolBwLP+nx5SUmcSDxFg2sMA8PDCOlMXZ/zvXJtBRXlrSjsXHFx+fu6cZqS4xzcvZ8SqyEsnBiHU4+MhWfqqWTlUq6X4+Dijvff1lORYRE8hUWfRjB42DKWvPgzejdPvL3ECCcIgnCl64c9uYbUHXvIanBkzJhAVNZ/XX0tt4vh3mUx3Nsn7RMuh1zlS6C7OaZ/KQAuRyajG/LKX000qNVadHoFBkZyZN1wQ6jL/5H3/hOPwehnmBPlh+O5gQOFFUorIwwNZNDeTEODGo1Wz1+KGvUGQ2u8hl7PE0NGM9T7Hv753iaSK3JJT6+lqamrS7DPZcTgBY8w+Pd/th1j2550ymoUDLltAoHODhdeyXdJbzmYBY8MPueHalKT0qioa8I4aCDhNkqsOnmejY0MUchlqNUd6KSeTtImyG2dcFGaY9HJUVNuM5rHvtjOtNGPcP9rq6kPCsLepi9rG1ycpuQQ63YUoRwUR1SQK1Y9eIegyUojvbSKOoUPISEO2J5nZ4HUkEJqVgU1LfbEhPtiZ/f3AR2pJZ/8knqabYMIdbfDtgtfYI1ajVYn/T97Zx3fZrn/7ytWTZu2STVp09Rd5u7ChME2zmDAgDEO8MPtHFyGux3gAAe3s+0AA7YBYzDmbnWXpO7eNPbk98c2mLSrbB2Fb67Xq3+0TZ77fuyWj70RS2SIex1oZURfeA3R3fzHaiikuLKWBiGECdGB+Pud5yWWkwypRILYYsFsHfzSjYOHjLiLribu+K+mLPbsy6DQYCFqyVjiwrQnl7SyVZNfUEpVrQn11GiCA/zP/fh9jpHFXcTVv51gF+m79pJZUIYQv5QJiZGEDrRml9BOW0cnVZte5OrvXmb5qWl7vSGSoZp0My+uvIVLxmjOcpNgpri4hLKKWmwiX8IidGjUvTiLBCOVlVXUNroROkOLWu12/oJrbJX88tYTPPPKF+yqNJ11ZqZI5s3Iqx7j0buWMz186EciixUq/Hy88O6jsfbP6ASz1qbz67Z8TEFJjBkZhWrQDNNWDEXF6MuqQTOMSE1QNxlaAm2FhRQbKmj20hEZpkat6PntsHfVUF1dTZ1MQ0qolpB+jBFWqxWLxYZILEUi7uUOSbVMXKDt5h82asrL0BsqsQaMITRES8h5fqxlUgkyqQSr1YLFOpCwgaGClLDJF/4ezGQpJiPjMGm5nYRMTiEpMZaTpBWFBvT6EkrKO/CNC0WnDelfac/zzinnZy4kPf0wabldhE0fTmpKPIqBTnHGTowd1ez67H42fv7QaZnpANjtCDYbNkEA8Y/sXP8S1xwvYSfxJGHBLdz78H1cEne2D7CFyooyCorKsIm8CQoJI7wXPRW7qZ7amgqqCWCELpywIVpS0YEDBw4c9J2ht/a1ZPHL1gJa/CYzNdYHxV9OJ+P/NiI3OW4S8ZA2LA4dpEikYsQiAcF2DjQ+bKV8/erbbDEnsjiii4Ld68iznmI2sLeQWdmCyQ7QRnOTCYu5v4X5e8dcsImf68MZFhdCgKKXYUjsw/iFcxj2zUGKa6uwmK0IZ1Fvvjvadm9ia34lja5jmDklgkDVmcpCnUMshaRnlNPUZiciORl/r1PLH/WMTRCw20EqkfbBEOzgbBG5uuPuJOulNNQpCB2UllbQ3K4kJj4YlXIgJdrOE0IzOz55iWfeyiL6vjfQhATh6TlYvbVRkZ2DvrYRS8gE4jUqlKc5bgXajhwmq6KGFo8EkmP98T2Dwcmcm01+dSPiiDjCVco+iM3/jkQiRSwWYxds2Ac80Ao05BdQWlWLMXA8McEBpzut+4Opiow9mTR6hBEbq8PPtQ8nJAgIdgEkUiQS0dDUEhkApvwDHMotoYJYLh8dgy7kZEO70JpPXlEVtW1KkmJ1BAT0JoRuoipjD5mNHkTExqLzG5hY7jmjI43dezMpKJeQeN1Y4sJD6FMVyO4QyZBJpfgkzuO6qVNI1cr7N+aIZHiHD2NUtO/Zr9OsBoqK9Uf1VDxCCQ9Xo+5NQ8tSQnGJgcouDdN0QajPZ/kyiS8pc1dwX9BYDE1nX+5SJPMkJGEESUFDOqT8d5xdcXV27l8MzR/pBOsvQhuH133AS89vQHLJY/hGR6DqrmTnucBWS3FxKWVVRgJGRxCiVp9eslboJC83j6LSWlzDLiAqJAS/M7x0ljI9hhID7QGphIZo6U/XJWIxEokYu/3YHDEQhBb0ej2lZa0oI0IJ1YaclV6Tub6Q9KwyTD4RJMcH92nOFux2BMGORCxBIv7r7CQt+hyyM7MoMIcyPTmRhOiTtWLs7cf0VBo8Cdbp0IZ69zLHmakvTCerzIQyIpmEYPngnkAvGPPTSTt0hHwhgvmpqSTH9HNeOgGRRIpE6kXkhL8xft5UYr1OP5K1IYcdP/7EgbZQpl48l+EBshO+LycwKonUc5EhckxPpcjQBa5hBIfqCOslU95aVUFFYQlNKi3asLAzvvMOHDhw4ODPwZBzqliyfmFrQQu+k6cR5604S90EB0MRxy3tKyKcnZ2QiG2YzQLCWe3wzRSufpE31h8iz7Cdx3Z9itCr8bCJ+nojJvO5FlUxk/n95/wkW442LIQARe/fkPj74+vijJPYCz9/OS7O51KLo5HtP++guLoFxdgZTAz1w+c8jYy22nQyihtpMQczJTkEr24y87pHwGwxYxPsyJydkZxLtWsH3SMSI+6v6Ko5l+z8ahrFEcSFq1AO5Yg0UzZHMsqoQ8dFoUp8BlPdWmgmK6uQ2oZO/MbHo1Mpu/HbtnNo32FKqxpxTxnFsOAATi1H/zsWirPyqGgwoZsYg5/Sq18GYbGTEzKJGMFiQRjoQCu0k5dfSGVNC4qoaMIC/PucdXY6FrJXv8A/n/mAnOh7eP3Rm1iQ6tN7FyxWLFYBQeaEs0T6FwlesFB4OI0CfSW28CWk6DSoTynF3pWfR2FlNY1u4cREBuHfi56KJXs1L/zzGT7Iieb11x9FtyB1EPvfGwItB3ezL7uQKtdkFo2OJkx9FtGzYl/8fRVIveSkTJ3PVdMiGAx1g75gqy2muLSMqnY7zvHhRGrUBPQyt1rLiyjWV9AckEi4Rs35TfaSoQwfwYzwEeez0aGDSISov3PcH+kE6y+WYnLzijC0BzJNG0TQGZz0Z4vQVkRhiYGKZm8iI3Ro1N2UKTLmkJmVR1GlE9HTEokIU5+hbJqNKr2BEn09Sm0oWm1gvzbwItnRslkiqxWbdWAC7XbjMcN+nTuaGTpCtMqBO+6tJWz6+ClWPr0Rt8se4tGHb2Rqr/WZ7FitFqw2GxKZDJlM9hfZT1opy8sjJ6cIk2YysVFRhLud/AmTQU9piZ5qJw1jwkLRBvRiuC/ZxMdPreTpjW7c8cijJNw4dRD73wv2dnLTj3AorRhJ5GJSkxOJcBn44cTePvgo3VE2RzByxpVclnJKUITQyKEvX+dXcTDTV9zHEzeMp9uqeucAoamCiuK+6Kkcx0ZtRQWFRVV4qicSFh489AxxDhw4cOCg3wyxsdxC1uatFLQomTg5Hh+Fy19kweTgr4bQXkFeQQ0i3zC0/gpcj6k92zrrMBSVUN0lRxOpI0Dh+psQtGBuobq0CEOjCJUugmCVHOduRSmPI8HbS4GzzEJ7WxdWqwAD3MIYsz7l2Tc20xo6hyvmqPHu0VspUH/ke37cW0h1m4m66ppjIujnMPrQZuBIZhOMkuDk1LfzsTU302K2YFOkMCrZF++BWytPQ6j9lU27SqluVTF11jg0/kdLNNnMZuxSaQ/i2OeG9mN6KkbvcSRHeaPosyHbTltrOxarDU9vb5ydBimzRmjl0KpXeefLreTUnn05lOOIXYKZfsM9XHPBMLSnCWn8dbAUZ5FX0YBJN5EYPyVeQ9jKbSnOIbeyAZNuEnF+qsHtqzGb7Pwa6lvlxCRE46dUnF5rvmk/uw4UU9HgTuqYEWgDfZFy9L20SSRHy1wd/7CthuycEupa/RkfG4DyN6+oQFdjGcWGFmR+WjR+Cly7WfWIvRQoXJ2wdbRjtFgQGICMlKWA3Pxyqhqk6KIjCfBXnnIMAYvFhlgsRiLp7egSvMMSGb/gBmaNmUtqpFff+tDRQafJhMVdjaera/+zHYR2Mr55m/+s+pEjlV3n7n13DmLi1bdxzUXjiOyvIdNWSV6+nso6MyGzEtCqA08p7WWhNK+A8qp6RKHTiA7y79UQL/EOI3H8Am6YNYak1Mh+ns05Rmhk3+595BTVohh+JSMjwwmUATYLFrsYsVjSPz01sQfRUeGo1u0jrbicinERhJ2FAWvgCLQVFVFSVkmjXUJoeCTBanUvDh6BhuJiSspq8dSFExwU9Jv+imBqodpQRr1NTqBGja/8T5L98Rfnj3WC9Q9reTEl+gqaA5OJ1KjxH8S+mo7pqdS7hjInQoPa99QxX6A18whpWQVUOMUwNTmK8GAnQMBqtQFipNITviM0YTCUUFrpQvAELdrg42+SHXNbLeVltXS5+KHR+OPZjU9W7O6Ou9wdiclIZ1cXVvpvALAYSiktLqFCHERSaAjaU+uZ2Y9pMIqkSHub4sQeqCNHMGd5GKHzZpDao9r4SQ1gNHbRaTTh6i7HXT4AfTd7J4W/rubjj1axraQD2zkTqvcldcE1XHPlhaT2lo13KkIden0xJeWd+CdHEBauOyXIxEqVXk9paQVC0GTC+qCnIvZQEzliDsvDQpk47Y8MGgB7SxZphw+Rrncl5vJUkpJ0OAGC1YoAiKXSfu1sRe5atKEaRAfzyCsopDMlkRN9UKbSg+zavJd6v7EsnTVy0BwqYKezspzSwqN6Kv7qYMLCwjnjdCu0UFFRQpFBQuAsHeGhv7/HlvZ6KsuraZMo0YQE4fVHRUM4cODAgYN+M7SWv5YsNm8poMV7PFOSvFEMuP6BAweDh82wnqef3UADtezfVol22aM8crkOw9r/sOZQE+5BIcirtrLuoISpdz3JPRfrqN3wNh9sKkFQBeNrSuOHX6oIv+pxVq6YSpRvT9kJEgIC/HBzltHc1IjJbMaOtN+bCKH1IP955m22C5N54On7WTwi5Axp9jZKPmknt7CCmrZ2KvR6Wjs6EXA7Z1HPQt0R0vOrqAm30jd9dYG6Q4fJa2jDc9IcJmgDzmEmiY3yzZvZX1ZDe9A8Zo1U4+8pBlsBH9/1Lraly1kwOm6QNt9dZKVlU9vchnNsMvFKRT8i2wWamlowWUT4Bvrj6jJIZaXETngGBBMeFQPKsy+H8tthXdSE+HrgMrRmoHOMjZrsHErqWvEfH0uA0ue3CVfoaqSs2ECLzA+txg9Fd5b+89VLmw273UpFRhYlta0ETohB5aVAZLNjF4sGRefKUphFbmUdzZJw4uIDUCpPPX+Bht1b2VtQRoPnCCaMDkXtKwVbNRueeo3SERcyf8ZYwo6tEYS2bLKLamn2jCEuRIXSRQQdhfz4/nt8m9GGi1Md6flezL/rNq6ckYDvKQYJiZ8fKnc3nOqaaerqwmTnN2d4X7GW5JJvqKLOGsLYqCD8TmlEqPyBF/6di3bCHC6aFYf8jMcXEzhhOQ9N6F8fhNYW2jq7sHmrUHnIceuvMUEsw8NPTVhULCbFuXOqiJwD0PorcOtX7bxjmMspr2ygqd2baJ0aldLtZAOMrYq8Aj1V9SY002MI9vfvUQj9OOLACSzv78UdJISavew5mE9xg4qR44YTGeaLBBv6b5/j0+o4Js6+kMnh/XEgSAgcO4ERIb/yw5b9ZI9JITThzDXeB4cuSoqKMZTXYhP5ERYRikbdS8kXoYPiohLKqiWETghFrXZHhBHDzi/5/MttlFhkdBrKkCYtYsUNVzAxeOjrlPy1+XM4wQTBhiDYqMkvoLisFkVoGIEB/ohsAoJY3L0mw1lhpey4nkrwCCKD1UcdpSd1qoW0A4fIyC3HJW4Ww2KiCHECoX4bX6xOQ+Q9lmWXj/rt4/bOo1ki5YKG6aFaQjxE0FXJgfWrWfNTFm0SC7XVdkKnXckt189Cd4pBVuzlhZe3Armxnbb2djoEcOnXoGCjsrSU4pJyzP6jCdWGEHxSGwJ1Oz/hsz1tqCZcw5VjFGd+18UqUhbcTMqC/vTBTkdHB+0dZjw0Pii8ehYp7xGRFDefALSRMcS6dJ4zp4rISYVOrcJjIPqTllpqaqqpafIgUK0hKPCU8xLqKTUc1VPxS9ARqtX2IIT+O2JVCgtuTqFfl3dQEGjIzODIkUzKPWOZmZJEYrAUhCq2fvQl6dZApi6/hKT+OBDEKhJThxH3w0cc2L2Pw1PiGe977IoJDaTv2caWfAkJS2czRTeYc4SZiooyCovKj+qpBIcTFnZ6gNCJ2I0VVBgKKTUHMEwXTpinGEw1pG/6ilXfHaBeDK31JnyGL+HOOy8i8g8JiHDgwIEDB/1lSJm0LFmb2VLQjNfYKSQ6Sn85GIoIzWz97GecZl/H7RMFvrnhBl5572nu+tmT6Evv4p8vjSdS6Yyoawcel97Mv9/8F/xiwpp6BSuevovkIDkSWwnh/+9ynvjofTZOiMBfGUH3FRPE+AQF4OXmRFFFJR3GrjNkjBjJ2fADNRGjSA5T433cImgr44fnHuGdnRJmPL6CafGaXuoWS/APCkDh5oyYNtqL8yltbWOUXXW6EbCzhG3fbSStXcOEOROJC1L0SRy4IyOdnLoyyvNLaW0fif0M4tNHTy2dL7/eTklHPFdePYOY4O5K+3RSsu07Nqa1o5kwh4lxQSj60hlbOVu3Haay3kjYopkMC/LDQwyW7F/Za1ezSO51SsT+ANvpDkshaZkVNLWKiEhKxl/Rdz0VMFFd00CnWUGUWo7r2Tigu8rZ/+NP7K1WkDpjMqlhqhOMsS5ETFvOP6ctH/jx/68itJGdXURtsycxcSGolC6I6KDwx/d579sM2lycqEvPx2v+Xdx25QwSTrX0DzoWMv/7GM9/9CNHKjtoqaqgpsWGvO0pbtj1Ck7OUSx68AFWzBlG8DkNcLBRnp2Loa4Ji3YyiYHK08WChXr27jqMvrIZ5ajJjA4NRiUFW8Uu9rUoSFSo8D1hgWDOyyavugki4olQKZFVbOHNf39PW+JF3POkEz89cBff7j3E3oJLmTMu7jRtFrFXAH7eclwPV1Pd1kGHAPIeXkahvZDN//2Yr3a1E7Poai6ZkYza1YYhI4N8QyVGn9GEBilRnnTNLBTv2EuTq5ZhwZpBE5g11zfQ2NaJq58/Co9eBMG7xZnQCUu5Y8LSQejdwBA6O+k0mrDYFfgo5bifks0nNOeRX1RJTasvqdE6AgLc/0RaMgLVBw6QVqSnWT2B8cMiCFNKwFrEvrROXCI8COitXlY3iP0msXjBOHa99C2rN8YTpplN3PlOk7OUUlRsoLzajMhDS3i4mqDeRCAspRSVGKgyapgSFoRaXsv+/37KugI5I69+lHn57/D4U/9lvzmeWfNbINj3/JyLg+4Z8k4wK4U/vMUb737G5sI22uprqG0wIvN5j4eWreFJZy3Tr7+NG66cScyZvdz9w1ZDUXEp5dVdBI6NJDjo9AwtoTmDtIxcCmo8Sbx4GLExGmQI1KZlUNdmRZkcdtLnLeUG9CVltAYkExqiRdGQxjervuWILYZLHppNzerneHzNZhrVY9E3C+j8T37XRHJvvJU+KLoKaGxqpEmgB00WO8ayfWxYvZofSnyYvOQyFk2KQC5UU1iQS15xK57hQagDA0/eE1grOJJRTbtNzdgoj0HK7rbQ3NxMU6sEb6U3Pt4DGdOcCEqZw3Upc7junPdvYNi7uujqNGIS5HgqPFGcouBub9OjLynB0OBFcKgOrfbMhvshhdBAdnY6GTnV+MYvIDUpkSAJ2MqzyGvswKoOJbTfw4IYn2HTmDltF4dWrWXt+niirhqDr8SOsWgfuzbvozloMtfMGt7D3vocYa2loryIQn0XuIajCdURFtRLWbbqSsoLi2lQhqANC8OnOYcfv17LzgY1c+6/F9PG13j04R/QuydT1GgjspfjdYvQSb2hkMJKM166WKIC/0xrIgcOHDj4czKExtljpb+aFYyakoRS4dpz5zpy+e6le7njkQ/ZWdaM6VyFUzroHsGK2WSks7Pz6E+XBeux8B6b1YTRePTvxi4zVsHOyYE/NiymLswWK3bsYLdhMZkwWwV+0xoXrJi7TFiPi7HbLJhMZqyCcNKxbJYT2jJZsAl2wIbNfPzvRrrM1l61QgSbGdOx45zcbzuC1UTXb/8zYjRZThJFF5p3srkiiPhgFX6SeuqajBj1ORhHX8eKC8cddagAiGVIpCIsmd+y2fkCrlo8nZQg+TGjuQixSITQVEed0XRMFL57pBGR6BTuWCoN1HV00pO8ia3sO9567mHufWY9meVtWAEslWx+/i4e/CgN70vu5vrp8Wjce3/lncN0BHvKcRWBrTyX7OpWWi2nNtzOjtfv4tY7bue2v1/CkgdWcbi0tQ+RzWZy0rOpbW4i74fVbMrR03AmzRahkZ1vPMP721tJuuk+rpoQ3a34c/uO17nr1ju4/ba/c8mSB1h1uJTWvowLliIKS1po7wpl7KQ4/FTuiIQmdqzdg0dKClq170mOogG30w226nQyShppsQSTlBKMl1c/sk0sBvRlLRgJJSpcgUcf7mv3GDn4/sPcccct3HrTZSx78BN25TWdswj1/9OY88jOq6aJCOIjVChlFWx58ynePeLLhfc8yTVRXVSV7GXz3gLqGjpP/m5HCb/+536WTk4iKjKeUXP/ztNr9mFoNnPG0c1Wy0/vfczGw3k09noTZSQsfYpPNh4kff+H3DE7Hv+Aqdz59lp2pGWQfvArHls0/Bw7VAChieysImobOvGPjUfrqzy9TJWtHENFEy2dPgwbm4Im0BsJRjI3bKcrNAZtaMgJBh0LxVm5VNQbCY2NxrX2F1557RfEE5ZxzcXjCPeWowyKZNSiq1g0MQq1RzfvilRHmNYbT3s1FXVttPc4KFspWPcOr772Gu98/C7/3XiEwhobGPPYsTudQkMbyD3xdHU9KSjEYtjEV3vtaGOTSY08U3SthdaqAtIPp1NY2YKxT5l8v/etqrKKhhYzQVotqn7qygxVxHJvvDzdcZXasdsETtZYNlLw88/szMijzj2M6MgA/M9gaLO0VlGQfpj0wkpa+ndxBwkLZYYy6hvaCEoeSZxWi65Aj4kAACAASURBVEIs0HroZw4KfgTrogkdkLaRM5Hzr+WaWf7kfPg8b67aRnHr+T1fW1UuRaUGKjvsOIWEE6FWc2q1oFOxVhRRoq+gyT+MMG8T6R//h/Xlgcxctox5Kf7IFX6Eps7lbxfPZFiU8vyciIOeOcEJFv6bE+wN3vulnYSrH+WWSUq69Dv49UAeZRUtJ3/XWMH+/z3H9XNGEBsZy7DpV3L/ez+TU2s88xwnNLL76y9Zv3kfVb0+0lIi5tzGq2v3kX5gFU9cNR6t30iWPf4Rm9MySD+0nldunHVuHSqA0FpEUUkZFc0+6MJD0ahPd3ALNVVU19bT4hFDckIE4QFS6Cpg24FGTM4aUpJPfL5tVOv1lOjr8AkJxVdUxJoP15LlMpbLr72EUUFyPFUhJM9ayIILxpPg280MIwkgICAIf/dm6uoaqO/oaTNhYNtX/+HlZ17jww9Ws2HbEQxWMOmPcOTwEXIbOVp6y/3EYCgr1Xt/Zn+NHd9hUxh2pnpL1g7q9TmkHcmhtL6Dfqm72Oqpq6uhvk1JkDqQwL+IwrfI1QMPhQIPJzt24VT9TBOGfbvZuesgZc5qQsO0aP17Pm9rRz36nDSO5JRS3zEw7Zxziq2G6qoqqhtURMbHExPri9jeQe7eDBqtbkQMj8dzIK+fLISJC5dycaqRTW+/wltrM2g015C2Zxtbi51ImjaLScGDGzcsNJVTXlRASYsdaYCakLAwQs/YpI3a8nKKiqrwDAoh0KWadZ+tZndnApfduIyJwR54+GhImHoh8+dPY9gZ7nOP2Dso+Old7l0ylQmTprP4xidYdaR1oKfowIEDBw76yNDJVLFk8evWfFo8RzM1RYnCtadFmY2yL5/j4Zf/R0aViHSnSN6/aQy686Us/X8M454XWPr3l9mYXU1XN0a6DfeMZ8M9x3+T4BJ8Ec/971WuHhGMe+kn3HTlI6w+YKDVenwB/znXjfqc66QexF37Fh9Nz2blyvf5Obf2d+fYF39n1Bd/R+oRy/K31rBygTOb7l7GI2sOYmi1nrLhquLtK8fx9vFfxc4EzXmUT176O5OjVac84GYOvXkdt7zwNfsM3dfS/faeGXx7zwl/EDmhmnwP7//rVmbHByA1upE0dwaJGl+kOZnk1bcijFjO7X8bTaTf7xpAtvpSDDXtmDQXccu1U4kNPmFTZdZTWtFGlzyeADeXM2ZkiX2TSAr3Yd1PeWQ3tjFZAJdu1lltRw6SWVvFgZ3/4OriX5k7Toc1YyPrdhQgm/IQz62YSmyga5+M9hJNHDFqLzycoL0riy2b87giyYfm8mKMmjiiNCo8JO1UVtbT2WUB7BT/tJE9100jWuuJ95ns+zY9mdnlNFuCGZdYy+rnX0JiuoPls+Lwc5Oc1D+hLY8Nrz7Aw+9nE3T10zy1YjLRqu60QwTaKyup7+zCAtiLf2LjnuuYFq3F84ydASQqfFWuOLspUavdcXUVqN72Dp+VJ7Dowmi0yhND6M+inW763JqeTn5DM0afCSRHeOPVj/B1obWAgrIWTNrxJKu8GLDeqtBGZWUtbe1dYLdTU15JS1sHAt5DyeN+lK5sNny4lq0Z5bTZ7RhL95Fb0/n7eGA3UbjpbZ6t/AGVmwiRIomLl13E+Lgg+mOXFJqP8M1n37Ezq4D0nXnUdh1twV6/n9WvPsbB1QpcdNO4dsl0UnQ+PV4nS3EWuRX1GEPHEu1ayy+vfEa2zzSWXTOVhAAJucogIkctYuaiiUSoPX7/Ykc2/33oLh7/fD9tqjC0ASKaMr/iqWvWsXbJfTx5/5VMiVJ1nxUmlFOYXYyLNomUfpS1sBRnk1txVE8lxk+JYpD1VLLyq6lvdScmLhJfn26cDGIVKh933NxU+PnLcXOD5oOf8Um6iuGXJRCnOUFvzVZLdk4Jtc1OeOZ8xOsdE7nsmhXMHRGKQgYQy5InPmDJmfokVhIXF46vVxpFefU0NdvArbs1hY2W5hY6Okw4BUxgwqgowvyMZH/zX/ZKU5g4w4xrejWG2kaaLKBwBlPVDt579TuadPOYOzEZ/x4SkoSGNL56932+zzPhIanmSI6JuKV3c+eyaUT3JctAaEevL6euVUVUTBABQ1ncoD84xzJ6VDzhv2aQl6OnqtpIgsIdEV0Yfnmb5/+1ml+zW5AlRRMTFIBvd6ctNJD21bu8/30eJg8J1UdyMMUt5e47lzEt+o90Pknw8vZG7i7H198PTw851B9g9dcFeMbOITVZM3CRebcoLr7jAdo7H+G5Z2+mKOcO7rv1b4wL92YgFWr6gmC1YDZ10tZQyt4vvmHT3lwaBBEeYoHO9nYamtrxdnfBSSbldDk5gcaiYkrKqrHb3Pj+i29pnr2AJdfMJNH3aChz2OxbeXH2rYPT+SGAqXgba7/byLa8Ruz2Lioz91LS+vtAbjcb2L3mDR7N/AYPkQh51FQWzp/FmMj+Ra4LbXn8+s06ftqdQdbh/ejbjy6+7c1ZbPzwOaq2+eKiHsXCiy5galJgj+/H706w+N+cYPvbdMxcdjHjdc6U1hx1goWOOcUJZizmh9ce4/E31lPsEkxogBdd+p958/YfWbf+Ru5/4P+xcKS6+4w+oQZDYRF1gV4k9GOOs5YXU6yvpDkgiYhB1n4xFRdRbCin3kXLnHA1QarTr6DIyxsvhQce3kqUCk88RW1kb1jLoS4fYidNI+lErTmhCb2+hNIKCzbbFr75zsTkWZewYv5wApwBQpi8/AkmnymhWOSJVqtDp7Gyp6yCygoLKLpJEbC109bWSmunFGXiMIanJhJiLuHXDbupkUcza7GcI4VVVNdUY0KJKxbqj3zFB19nYI5fzILJ2h7KLwq05G9m9Sdr2F4uxqWrjKJ6D8avuIfblozgNMmZbrB3VlFVWUGdWwjjtKGE/FVklZx0JCQmkxj1KweKSygtbWe80hMRZqr3r+Htf73Ll3vqEEeM61lPRWghf/NqPlmznXKxC11lRdR7jGfFPbexZITvHzfHiT3wVCjwVHijVPrg4w3N2T/xY3ozTrEXMSmqt0JmPeMSMoVlt3bQ8eyTvHv/DWRtiMSlqZzWkNnMmp3Sj3LKfcdus2IxGWlvqSJr43o2bDpItSDCRSxgMXZQ19CKSu6Kk0yG9DRPaguVFSUU6o3YPPfz03oJoycu4vpLxqJ2AQhi9JIHGH3GxWov2CopLEjnSGYTNpudotxMMtKLISXlLA7qwIEDBw56Y8jsui1Zv7IlvwX5yCmkKhX06FNBhHtgAEoXJ6RST9RBHn0Wu3YwAMQSZDIJYrEIhF52MCIRMonkhPrEEqQyabf1isViKTKJBJFEhkwmRSwSwUnuEjFiqeyoSLhIjMzFGZnkaH3/MyWiiERSpFJJjzoAIokUcX+Ex8VSZDIpkmMHlKinskQNYCPnmyzKmqzEz5lMhP/JRs7OrEzyGzvwGT2R5AAVJwZHm7MOkl7RBFHJxCoVZy7HJQlj1IgIlFv2k5nTSMsIAd9u8pmlcjluUilioYmS7Wt4czuAlMDp9/Lyk9cwKVrVd0OKUxypSYH4bMukqq6Dg28uZ9rHzniPup6nn4skRisCsR/TL7uUTek1tJfK8XUx0W4x0XVUX7NHhMZMMkqkpNzwHCtvHovlp5d59OELef+pOCZOm8TwGDWeog6q8/bx8/qfyBEPY+kTH3HrRamoPXsSYxfjN/0yLt2UTk17KXJfF0ztFky9dQZAFs8lK5awo+Azdn76Dh1r6ymqVbP47psZHxtwSgT9WbRzGiay0rOpbe7AJTaFeKUX3QXQ90RXRho59Z0ETRyNVuUzcCOZWMXERUuYkVZGc7Ybsy6fR1JEwNCZGE7EVM6hTd+yelMOzRIZUokYkdgDla/n0efCbsdUuo9finZjs1mwKS9AN3Uiw2P751SxG4vZ98NXfL6lkA6pDJncB5VYjIgGMnf8SJrFjC3JjalTxpDUo1PFRm12DiW1zTh55vDR6x1MvOwaVswdQehRSz+xS57gg9M2Txby177Np+muzHt+HbctGkWIpxRbWwnbPn6Gx159jptvKeeRJ29n4YhgPE7ZKZvyDpLZKWWCs0cvZf5O7mt1Vg6ltW0ETYrHX6Uc1Ptva6imprkdo1s8wxLV+J2mpwJINMy+4nJ2Zv6LAxs+4eVDH1Bd486k625i2ojwkzbLQls22YV1NJm7aMnIpaW6jc9NLTQ0Xs7CiXEEecr6MN5L0A5LITJgI5tz86hraEYIUnVzb51Jmr2QOfsrkDb6ISrdzDt3vkKmKZ7F11/DgshFfPfiU7z9wbM8nPkrUc4VpGV3oJu7nOv+NploZQ9WoI5s/vfmZ2SrpnPnC3NIsG7kiVtX8tGq7xibHEX4JG3v98SUT15hJY0e8SSHawj6y2jSuZN82W3c3WbmuQ8/4LlH89ge40lzUQ41HsE4y/0J8KhEFB2Lpls9lQ6y//cmn2WrmH7nC8xJsLLxiVtZ+dEqvhubTFT4JLR/2IAnJXLWJSzcm8m7h9bzyYuH+bS+Dvm4K7l29gQi+zMpdINYOZyrnniT4LDneeq1B1m09h3GzprPhXOnMTopGl2QEg9XWTcOjv5jq1jHk3es5K3v0mgWO+Hk5IRMKsPHxwtb6XqeW/E1T5ityOKXsvLJB7j5wtiTdQGEDoqKSyiraqOro4gicwvtna20tLWzZOF0Rkb04Ej+C2GpyWXXj1/y6Y4qJDIpEokYsZsS32MTmN0uUJO1i+8zbFgtVhTj3IgbMZ7RkYr+NdRVTsa29az6Yh8NEhkyVx+UcjFi2ik5tJnCfRZsEUYiU8YwuUenykCdYFb0m1ezZmcDsbd9zPsrZhOndELoqODA2jd45qVPeOj2Cqof/ifLZ8Wepp9nLs0mv7ETeaj3mQN4TulrfdFR7RcvXSQajZrBs8cLNNc30NjUhlP4eGJ02tP1VACJ/zjmLZzHkZIN7PzyTWp+6aLBHs38qy5l4Rjfk+Yeu9GAXl9KWZOJRnMp9s4O2hpb6OxsYeHsccSeENDVM2L8IyKIjlTzS04pBkMVtjjt6ffWKZKx0+cwL6uZIzY5bWmreHBNFo2qsVx6412ME+3mg5dfZe2/HqT80HD82vLJqZEzbPF13LBgOIE9lHIylvzMf9dsp0G3jGceGo/L/vd4YuWLrP92I6kpySyK7f2OmA169CUVoJtGVGR4L7pkfyZciZp1JTe3tvHCGz/w1iPVZIwMxlaeR5ndE5ksBJ13IQ3ao3oqp8tsGCn5+b+s2d6AbtkzPDTehf3vPcHKF9fz7cZUUpIX0YfLOzhIghkzYz4XHihk3Y7VvHbPFsx1NsJmXs7yi1L78Q53hwhF7HxufyYA7b+f4dl3V5HREcio2Q2UH9lPthCBxtcbuYv0nASJCQ37WPXy4zz44o9UiI7OcU7So6XohNo9fPKPObx3uwWxbiY33v84T147EvcTvm/vqqTcUEhJvZnGzjJyd3TSVNtCl6mFRXMnkxh4hgotfUXsT4g2mphId45kCgTrIomMCTnbozpw4MCBg14YOrYz9Twe+XAU0sBEIv3OVP9RjM+slaz6bgGFgob4iEA8e/bAODhLXEfdxf8O3TWwL4dfwVvbruCtXj62dvHKXg+19F9bWfqvgXXjd5xIvfEDdtz4wdkeCIQ6srKKaDKqmZ0aiJfXia+Smewj2dS0SohNjsXb60RxVjMZ2/dQVGcjYdFwAnst0SIjduoEYj7exaE9GdTOSySsG3FG+fgrWD5rB4VVWyhotGDHiYDJt/HKCzcxO/5U50BvyBm3eCnTdxRTf6gNr5gJXHz1DVy7aAzhyuOC9WKU427hP1tuAdr5/pGnqHLr/cj2NgnRV69kxfSRxAR6Ir36BdbOXc62TRv5eftBNn+1hU6RHJUminmPfcnbU5MJ8Xbt1egjVo7jlv9s4Rag/ftHeKovnQFAQsC0f/LR+os4dDiXBpmWO1OjUXu50p2m8sDbOQVLIWmZlTS1QWRyMn5e/dFTMXJk7xHK29VMnhKFv6ovG+qeEOM1/GpeXn81Lw/4GOcJxSwe/noWDw9yM5LARTy7YRHPns1BhDayswupazLT1ZJBbks1bZ+baGlo5PKFE4kL8uxeCN2czs/bmkn8281cc/FoQjyPPhUSDx1Tb3mN0MhwHn7kLR74u4GyJx7hulnx+P8m1p7JqnfXUuW6GHVQQN91O471tbZZQWy8BpWyJ+fluUGimccdz6lZLAkiKjwYVbdGGDGKYVfz4qrJZB7JotyiIjoljlBfj9MciOa8bPKrG5GMu423n13BWNcsPnr6UV669hu23v0aK1fMIK47x80pyCLHMyZWzZatB8msXMDoeBXdVTFxCZvDP98dx9KcdNLzqxGmXMyNiREEebsgJpRlz3zO7OIcMnMMtLvMZemdsWj9PM4gfG8ib/0a0lwTmDp9Ogm+Ttiym2ju6KRLfDSgoS/3oys3g+ziWuTJFxKr0/bDqTb0EbtHcsEd/2bi0kJysnIpN8oJvvIOIqS7eOWe7fzYqWZCUgRq9elrR1PeetakuZIwdTrTE3xxsmXT1NxBZ5f4WNDGH3JKvyFWjWbF858xLSuDnAoLyqhEYnX+eJ6rdBK3UKbe/AbD517Oui8+5tM1H3DfZ0/S0lPdXJETqsm38tpTt7NkXHCfNwkS9YU8+r8LeXSg/bSUUlyip9KUxBWPP87dS8KpWvs6T79yN1f9fCmPPHoXV4wfTGP4H4987PW8/uP1vD7I7Yh9p3PHf6Zzx3/O4iADdYJZ8tmzvwrlqMtYfPWc38ZmsbuaUVc+xhth4bz4xEu8dtcdlN/zMLdfNo7QY4OZ0FHIj6vXkdUYwaLw8L4HoggdFBeXUFYtI3RSCOqgvmVtDwwx/pOu5L43JnKbm5qwcE33ouJiObEL7uWtEYvIzCyi1TWEuPgoND4up41hljI9hmID7TEXc++jD3JdSgvfv/08Lz94LT/tvIdHHrie6SG9C1NINPHEJcbjvzOXnPwCqmZq0ZzuVUE9bjlPJ82lOCedLH0H8tlXkBQXhp+bGJjH3W+M49LCbDKL6kG5kOvjI9F4n6F8rUXP9o2HaXKNZfbi8WhcBIpbW2lp60DkJz4atNcrZkoLC8ktFQiflEBCrNfQy6Y+C0SuwYxb9iRfzLuBwuwsSpqlqJZcT4xHAf974Qm2tPgSGRlFePjpWWkW/XY2Hm7CNXY2i8drcBGKaW1toa1DhJ9Y3G1g4/lDjFfCxfzjzVFcnJ1JcYsrwbHxRIf4nDPdXJeg4cxdeDHpWSU07m2i7tBH3PHt83T0UB5QJPUk8aLbeWDlQ1wa33dBF7FyFJc/tZ7LnxpYP61VFZQXltAUNotbHnyCuyda+OWDl3jxib/z45abeGTlXcwLG3Bu6rFOehI/9yZejJ7KCoMZZXQi8SH9dLo7cODAgYN+M2ScKjLfKIb7RvXx0074xY/Fb1B75MDBGejMID2vgXbFMJJCvE4WK7cVkZZVRpMlnAsTffA6MazaeJDN2/OpEVJYPDYEX28LGd+spT5uLClhGry7eSNlMfOYN/oL9m/dxpGqmcSHep5e7skpnEue+4ywif/jm625WMJmcNnfphIX0IPxthdc4pfx2k/LeK0vH7ZVUN3lilzmhHMvngFJ2AJuPFl/E5lvHNMvj2P65f3vZzedoaK6C1e5DKfeOnMCLn7RjJsdPejt/PbtyiPH9FS0zEjW4K3ohyG7fR+/7ijCGL6AWbFq/M7VzsTBucOcR3Z+NY2Scdz29rOsGOtK1kdP8+hL1/LN1rt5beUKZsSdnhFiqyygRJ7MmAQd2tNqcLmim/0P/hWg5sn7nub16y7i+ylzmT0xkQChgr3rv2RTVSw3PT+aeK2878+TOedoX6WRxIf7ohqwPk8fEbsTnDqe4D58VOYdSurUUFJ7/ISFkuwcKhqMhI6PwU/pi1Izk5uuOcjuzDfZuysNw9yRxHhLOLJhJ6boBGIjtN2Ll8oimTFzNGt2fc+etDLmjIzFp6fa8FIFwYkTCU7s7vzc8IsYzrSI4X04Q0Bop0Mxjnmzw4iLkCPGRkV+IfrqJnyTIvBTdZcxcyqdZO7bT06tN6P+lky0Tv4XMTiZaCorpdbiga+/Pz7+UYzwj2IEADbKvjlEepGBttDpjE0KI/S0iVGgvUPBuHmzCYuLQC4GW0U+hfpqmnyTiPBToRoKF8pZiW7YFHTDBqsBMZ66CVzx4ASuuL+T+nIDpSWlVNQ20246paSqSIa3Lolh8f7ndYNgrSiiWF9Jk3884Ro1Qd5adJcvZVFGFvlrDpOWW8SsMYF45G/nQIMcv6hU4v2Gws37P8oAnWC2OgMVEg0RcYkknFaDyxn1uGtZ+WoA/k89xVv3L2XLVzOZM30kWudGMjd/x8Y8L+bdtYJxif0wqluKj/U1mOlhGjSDql4NYtcAYoYH9OGTUjyDYhkXFHuGzxzTUzHU4aPVodUG46WOZPHfFpOfncW7GWlk5NYwJdiHkr2HqbK7EzE6lcDuTlGiZtiIUYzQHuBQZhbZlVPRBHe/fpXI/YkcOZPIkaf/T+TiTXDCeIIT+nCKgNBpRB43hkmKGFK9xCDUYTCUoq9yJ2iqGnVfxLi7CsnKSKNIiGL2iOEkDPI9PH9YaKspp6ZNhIefBn8fLYkTtBxdWgjUbFlHRkYu9YHxXJKSSPxpejkCnUY5cWMmoYhJ5ejlNWAo1VPlHsRUtZqBaJ2fa2SKIOLGBhE3GAe3GNi9dRuH2uO54sV7eWhRCB2VpRQWl1HT0EKH+eQAApFEjn94PElhfXeonD026irKKS6uxFM9gbDwUBQBrsxfeAmlOWk8n53OoYxKZuv8KT+cjqEVwiaO6cbp2QekHgRGjyKwP1taBw4cOHBwVgwZp4oDB38mzLkZZNe0IYlOJNpbcVJ5IVtNOhmFjXQEzibBV4HnCYuizgOb2V5Yi2z01UzU+uPVtp1/fZ9NXNAwxD3tESQhzLt8AV/t/JSNvxYxNSoEhW838ZoyP4YtvJlhC8/pqfaKrWwfWQRysYtnv0pYDVJn2JcFgRe74DmYnelzOzbaGxuxOHsid3VGJj76t+rd+8iqbaQr9CImxvmi6nN9KoHqzRvYondn8h3zSdD5Dlp9fAcDx1KSTU5FA8bQ8cT4KfFVaph50zUc3J3Jm3t3kWaYy8gYbyRHNrDTFE1CbARaLzGCsQsXv0CUnp49lLoR4518Jc9+FMWwN57n5Q8/5smv2rDYJSiiL+CWx+9n2ZQ4VP0I57YUZ5N3gp6KlwQQmjj43XY6o5NIiA49yxINg8hxPZXWAMbFBaD0kQICxs5OTBYbXkolbq6u0LydjTvzifGOIjGyp4NJ0MxczNx1O/hg6zbypicR5RPUQ334c4hYybALZv3+u9BKfl4RVfVuRMQEE+DfeyaaUL+XLbtyMcXMYfaoFEL/EqW/Osle/Tj3P/kuPxhiuPG1Z7n7iklojz/bnRls+mU3mUViRv99HuOTo7txlolRDruA36+uQGt+HkVV9bhFxBAc4H/OomX/NIjdUIXEoAqJOeacGgoINBYfLc/kqbuIYPXR904wGTF2mbHIFXh5eCAXtZGxcz/pYh3j43t2tToYfAbqBLN3mXDyUuLj49NDBrUYz+j53PNKKAmpr/HSv7/m5Y0fYrKLkYdOYNk9/+D/XTIOTT8G5uN6Ki0BSURogo7qqQitZG/ZR53cn+jhiQQMAcNztwhNGAwllFa6EDxeS0iwM2DH3NWFscuMq6cChacHovZc9h86RKN8OHGjezqYGNWwiUydvIXDG/ey/8AsJgbHdp9Jcw4RK2IYNynmt9/t7Xr0pSWUo+GCUC3aXte/dpozD7L/UCXeY5YybXJ8v0q6Dl26KP7pbZ5Z+Syfpvuz8L5HeeSeRcQeT1boKmTv7h3sTjMSP28a0yYN5zSfCmIUMeP4/fLaadfrKS0pB80FhGq1f5Fr1RMCzUe28uv2EpwTL2fW9DjcncW465Lw0yX90Z37HaGFiooSCg0SAmfoCNMdfY8tZhNGowlnDw+8vBSIO4pIT99Pfmc8MZP+6E47cODAgYO+MlRNJQ4cDGFs6NMyKW8yE5aUiFJxcjmu9vQMchva8UpIQuutOMFoI9BRV0+LSUJESiIqhZi0z7+jJWkM8SHqM4rqeY65hr/PD6Z8ywYOG6rp7IdA5+DSRfaPB3CKjcHXT/mHl+boyv6RA06xxPj60ZN8wXlrR2hg+8vLmJakQzvmNr44ZKDdDnSm8/V3uymtljDmb4sZqe2H5oc5i6/XbKUjaQlXTIxC81eq8fOX4bieSisBsXEEKH2QAoKxk06TBZuXEqWbK640s3fjTvKrazEfqzUni7iQW66dz8gInzOWg5P5j+KKJ9aw43Aa+7f/wuZdR8jcs4bHlgxH3a9MExuN+YXoG9rwj47Dz+dou8bML/liexG1LaIhrWMgtGWTXVBHs2cMCSEqVC4iQIyzXI6rsyteXl44O9nJ/3477SERqEM0Z37XPIaz9Kr5RLXsZ9OBAgxtf8BA23VUG6XWHkZMWAD+vaqtWijc9APby5VMuGgao+LP/Oz8abBksW3zXjLym7CKjmqr/X7rTOSvW8U3Ww7TOfIqrls8jeF9srJ2kZ9XSGWtnbCYMAL8Ty+l6eAPQOiguKiEsmoJoZGhqNXuiACxkxturi64KzzwdHNFot/BgQYZnv5xxPxlItX/jJzoBIvo3QmWX4rx2DpJGjKZpZcvYvaIoDNG9UmVCcy/8x1+2JvG4T1b2Lz9AEf2rue1m2cQ5dWfEU6gxWDAUFmPR2g46sAgZEBX4SbWbz9ITrWYwU7OPBvsRgP60lLKBQ06nRathwgQIXN1xdVNjsLdAzd3GRX7jlBjkuCXnNRt2crfcI1iytz5TApo4uCO3Ryu76EM4CBiMugpLTHQERSKTqtF2dv1t5axd8d2Mk0RzJgzizFD1gPWpdy+3QAAIABJREFUT6zFHN63mz2HajAjOmWOM2PY/gPrN2ymImI+l166mBmRp6upnI4Jg76UEkMHQaE6tFrlX3uOM5eya+sWDrdrGD91EmOHaPaivauSCn0RpV0BBIeFE+4pBkRIXVxxdZfj6SbHXe5MTVoW5fVd+I4cPjSyaB04cODAQZ9wDNkOHPQbIyWl5bSJIhk9So3ypJpdFioMBlpM3owcm4Cv8sQyPGKUkxdz8QgNHXs+5vlbr+G54hQWzhlJVG/RyGJfZly/gsnsYdU3Byiq6WIo+FXMhV/xcXoQo1O0aPoTHj84neGrj9MJGp2CVqMaPAdPH9sRmnfy7bqDFFZ10tnWhtFsRbC3ceiDl/h4exHiSXdw75VjifI/Qy3qk7BQ9OU7/K9Aw5ylM4nTejlSDYciQhvZ2QXUNXsSkxCC6pjmjdhZjtzVGVcvL7ycnbDnf8/29hAi1CFojlv6ZUr8/Txxd+uL0UCMq6+O5PHTmDo2AY2X24CeB6tgw253RaXyxs3VCWvNNt55PwO/MWMZkRjSd22WPwBbVTkVzUZUw8aSoA78LVPOfexSViwcg+zwp7z6j6t4eIcXI8cMIyG4t1r6YpSTlrFsqpyc9evYnVV21BF6HrGU5lFQXkNHSAxRgf4oe3kUrGU/sfq7w5B4AbPHJncrivznxAknZy9CR8zj5mcf5YYLhhMsA7BSu/sDXnlnLZnuF3PvfTewYLSmbxknllLyCsqp6QghJioQ/94uroPzg1BHdW09La4xJCdEEH7cyuqazJxLFjEzuIof332A5Q99R6MqnvETo/9CItV/Qs7GCSb1Qqn0RuHRl9lKjIu3hthRk5k6IZVwP48BretsgoDd7oSXlzceHi7YGg7yv9X76fKLY8KkWDyG8LMkNNRRV9uINDyehJgYjtuMXWKnMn/hfGLbtvHRw9fy4JpipBFTmJno0cscJ8IzcSbzLkhEmvszP/ycTst5neOsVOn1lOob8A0NQ6sN6iUIwEbNno38uK0Sr9FzuGCSjrNUnRhCSJE5eaJJmMLVDz/I7VfOJNoZwEZTxrd8+J+P+bl1DNfdeSfXXhDZt7WYtQq9vhR9gy+hYVq0Q6H216Ah0HhoK7/u0OOWOpUp48Poi9vpj0BobqShpg57SDQJib9nxjmHj2HGwsWMFA7y+WMruP+Tg7QHz+DC4adr5zhw4MCBg6GLwybnwEG/kTP97vdYd4M7/iov3E8K5ZYRt+x5Vs8So/TzxsPt5GWRWDmBOz/8gcWFelqcA9CqVXi4SPpkVJcEX8S992fy/55cxTcjIvGbHY//H1i7RGjcxZsv7yJwzvWMig7+Y40cQiO73nyZXYFzuH5UNMGD1Zl+tCN2DSLIV45cPZJLHriRiT5N/PLkvTz5cQauMx/jgweuZHy4ss+ZAObir3jt4wIil93HZeOi8HXU/Rqa2Koor2jGqBrG2AQ1gb9b+lm6YiFpz2/i01f/wX+tXoy94nqGJQT3UAblfCAhcMYVXLEji7d3fMDLVV9jbhURt/B6ls8a3oeyHH8ssuglPPreFAQvFf+fvbsOrKr8Hzj+3r3r7u5gwYIlDEZ3CYpS1k9Fwf6KKBaglIUgIogoIkgjJTWa0TkGDFjBkrHuurv3nvv7A1RQ6Y0NeF5/bmfnPDv5nOdzns/H2sLk75dQHRd6friA1s+kk1Oli62zA1Ym+rc3g0PuRK+33uH8u5+zccM+nG0G0MnrDmrU3BM1ecmpZF4uxa6VHw52t6hrocxm26IVnNRtx9Bh/Yh2b8wCzPeZTgCdu0dwvLYAJ0tLzIzkKIqTObjmR6bP20Wp17NMG/sivUIcMbzN0Qd1XjKpmZcptWuFn4MddqIH3Dxou9Pz1a8Ie0EHY0vba76018a+7Qi+CupH9qVS1MZ2ONpbYiSOW9O6JgjW+T+CYKczVxA77yMOmdgQ0OUpejVpEEyGdZs+PN43gexN6/hh/DEWqTU4tnuK557s0exrc8hdOvLcZy0ZpNHD0sHm72ectg0RwyfwY/dL5BYp0Le+0t+8rUtDZkXk48/yVNa3rN6+jq0BHjwVbHZ/nh1SMRlZGaRfNsG1ixturjcPk6nyD7Phj33kOXTj+Wf7EvAwRVO1PYlo05rITC3qzGywNtWmvjyDhNhFfD93PUkGHfnwuzcZ2sHztlMrS8UZZGWkc9nElS5ubtxi9z7Y6i6wf89uTtV50KtzR1o12zy1IHdozaAPFtJdIcfCyf7vvqi2FcEDxzCrwzPk5lehbeGEi72JGJwTBEF4wIj7tiDcBbm5K57mN/ilgT0e7jf5Y11zXANu9Mc33Sp2XccwMftdxsybh4PVOzzVxgOzprqKJXM6vTUODxdrzJv8c3YJ805vMc7DBWtzw0Z8ObyD7RhE8Oq0mVgtWMzGdRN5a40pji2ieG/J1/Rs5YqF/u2/AEglh5g94RcuR73ER09E4WWh8/AMnj5sdHwZPOFnOknmWFtbXPMyrINLzw9Z0PoZ0nOq0LV1xsHKBP0m/pBQZhrCs9N+p3fmRXIqdbB1dcbWzBDtez3BNBrU9XXU1dZQI5ehraODtlyOrCFPXJkRDl4eN/ilLuYuvtzVndamA69/lMu4j5axdKU+5i89RqjtfRidkCpITrlIbpHx1XoqN5nFJpVzatlMfjtjSecXhtE7wqFZp2q7czp49H+HD203smrlTN745RLlakMc/Foz+Kvl9Izywc7oztIAVSSncDG3COOr9VQerv31IJNhYO2C6w1+q2Nij6ffjQt/SyolKqUSlUZDraIepdQc5vE+xB6wIJjMyJd+7/9Iu2ezyClWY+LgjKO1yb3Xo9OoUdbXUVtTg7aW/MozTlvWsH0zLX0sHZ2x/M9famNs40YLmztfrcwsiMdeeJaiGfPZ8OsSbN55ic4ujT8H5K96KlrO9HF3w+0m7w6aqhRif1vKnmJX+r76NN09HqKPBgDQxrHDM7xu6cyGlUv44OkplNTrYOURSufR85jSIQTXO3rB+7ueipZzH9zd3Jr1TON7pUhLIOFcFZYRT9I52q3x69/dCy09zO2cbtAf1cbI0hmf/77IAQm1SoVSqUaSaqmrV6K+/1n7BEEQhJsQQRVBeKAYEvjc53yuGcfnP63A1ux5ugc6NMmX7jLrAEKt7/92/5PMmoD70Zg73I6BawzPT4jh+XvZZl0yK6bM4rTPS4x9qS/BjkZiWnizJsPIwYsbDvWbu+B7NyP9jUlmgLVHSxryCtKU7mTqkyuZAiD3ZMj0eXz6fGf8zB6Ms9fAbzDjPtMw8/tYVm+wwPipTvjcsr7JPapLITntEoVannT1tMf+hp+nKkiPncvPB7WJ+b8RDOviyx2VGXhgGOLSejCjWw9m9D2v60o9lUuFWnh29cTe3uSe76MyHV10tfXR15EhfzBO64eQknMrx/PxlJn8ca4WAC3DcGY81sTNeqjdWxCsScj0sXBqgYVTQ61QQ8XR+by9dh5vAzLnnrz/+ae8O7zNA1MLQc+lI8+9qYF5q/hjyTrMX3mK0JsWZLl3iqxMMi9mUevYGg83txvXf1HmcnDVUrZn29Fr1CsMjrB5OGqF/Ys+doG9GBHYixH3vC4FWZmZXMyqxbG1B25ulvf8jNPS1kFHRx99bW20m9kB0Gv5GO/O6Q1aehg181nV90SVzs4fv2DcB/M5ejUfrZ5f/wboEwmCIAgNRQRVBOFBIzMn9IXpzOmYg8rG9CF90RD+IjenzRsz6WdrjrGRmKEiNHcyzCKH8+H0NrxQXn/lR1pGuIQE43S7eZqaBRlmQcP46IsYLtcZYqLT+Ffe3/VUutHC3g7LG97c5ZgGP80nbYwxtzAXMy5uxzX1VLq1sMfuxjv39hmGM+Tj6TxmaImtnXgSNw05LjHDGTs9imcr1Vd/ZE5IcGDTNkt4eMmMadlnJBO9elB4JY6HloE9LYJa3HaapuZBCyOPzrzyUQCFVRrkjZ5SVkVuZibpmcXYeHrg5uZw4/cXmRE+vUfxUT8zbG0ethkqjUSVS2ZmOpnFNnh6uOHm0ADPJH1/erw8kdZqPaxcmtmQkZYeRsYPT4WdG5LbE9xrFFMde1J69REnM3GghZ9b07ZLEARB+Esze0IKgnB7dLD2vNG38MJDRccOD3GohQeInkMgMQ4Px6CmtoULLo20bpVCgUYuR66tjQwl6afOkJZTgVu7YFyd7W5SlFkbK2fnRmrVQ0KlQKGRI5droy0DZfopzqTlUOHWjmBXZ+waJJubAfbeLRpiRcJdk2HmGkRb16CmbojwyNDFxjucjt7hTd2QBiE3scPepDHWrEaplAA5OjoyUOWSmppE6mUrvPv44ON2k4RNcjNs7c0ao1EPD7WSK7tXhyu7N5XUpFQuW3nTx8eHm+3e26eHlYsHVg2xKuHuaBlh7xWOvdfDcb8RBEF4GD1Q39QIgiAIgnA3VBQl7yN27VKWbDhEWkElqtv5M6mE5INbWbt0CesPJpNfoWzshj4CJArivmVk90BCh3/NxtMlqIqOELvzCMmqCPp0CyfQVb+pG/nAkgri+HZkdwJDh/P1xtOUqIo4EruTI8kqIvp0IzzQFbF3BeEhoy4j48QeNi5bwro9p8ksuc1nlVRORkIcG5YtZe2eBDKKFYiqPPdIKiF+6XgGhwfTd8zP7MtXUZZ4gP17j1LoFUOnDm3xM2zqRj64pJJ4lo4fTHhwX8b8vI98VRmJB/az92ghXjGd6NDWD7F7BUEQBOH+EDNVBEEQBOFhJtPD3NEJ9fEdrDy9HbnXQMY5OOFkY3LrgvTqPOI3LWZBbAKX60E7qDPGBvehaPtDTc3lCxfILlJiHWqLXkU8C+ZPY+FpCwZ9/BEv9m6Fjeid3TX15QtcyC5CaR2KrV4F8QvmM23haSwGfcxHL/amldi5gvBQ0dI1wcZeRv6WLSw4sRXnzqN4x9YTN8vbeFZJRZzfu4b5i3dxoRbkPv2wMHkE0go1JqmYnOwsLpUb4WNrijptLbPm/MDW8ihGffAOz3VyvslMTOFWpOIcsrMuUW7kg62pmrS1s5jzw1bKo0bxwTvP0clZ7F1BEARBuF+0NBqN+CBHEARBEAThPpHKkti+chnrdieQozDFM6o3Tw7qQYSnNQaiPMe9kcpI2r6SZet2k5CjwNQzit5PDqJHhCfWYucKgiA0MonKjCNs+X0lGw5coMrAkaBOAxjUtz2BTsaiFuS9kirJOLKF31du4MCFKgwcg+g0YBB92wfiZCz2riAIgiDcTyKoIgiCIAiCIAiCIAiCIAiCIAiCcBtETRVBEARBEARBEARBEARBEARBEITbIBJLC4IgCIIg3A1JSU15AblZWWReyqOopIKqmjrUWjoYmFph5+KNn68HDhaG6DTpZyxKyrPOkpinjbO7J662htyqnI4gCIIgCIIgCIIgCP9NBFUEQRAEQRBuQVKUcik1kRPHjnI8/hRnzp4jKekC2YXl1KpunElVbmiHT3hnBjzzAs8+1hY/+/uUU15ZRubpQ+yM3cyW2B3sP5WFJup1Zkx+GydbQ9EBFARBEARBEARBEIS7JGqqCIIgCIIg/INUW0BG4gn2x8URt3cfB44lklFQiUrfEid3H/wC/PHzbYG3hxuuri442Vpjbm6MoY4W6rpKSvJzuJh0mmMHdrJ1+yHO5dRgGtyXEWPeZ2S/cFzNGjqsIVFXnM6pg7uI3bKZrTsPcia9FC1bXyI79qTfgIH07dwKDxtjdBp4y4IgCIIgCIIgCILwKBFBFUEQBEEQBHU1l88fZe/ObWzbsZu9RxLJLlVhYO9NYFhrottGE92mDRHBXjiYG6B9B/mz6vJPs2P5bGbMXcuhTDkB/V7h/fdH0DvUBZO7nrYioSjNJunkkSuBn7g4Dp66QEGdAc7+kcR07UGvvr3oFOaDvamuKKInCIIgCIIgCIIgCA1EBFUEQRAEQXgkqSuySDiwg9hNW4jdsY+E9BI0Fl6EtI6hU5eudOzYlkhfJywMGiJhl0RF6i5+m/EFs1YeIFPLg3YDnuWVl4bQPdQNC/2bbUNCUZ5HZuo5TiecJP5EPCfiT3AqKYuiWl1sPQMJbxtDh45d6NoxCn8XSxqkyYIgCIIgCIIgCIIg/IsIqgiCIAiC8AipJT1uBYt+XczK2KOklWiw9gknpktPevfrS7fWvjiY6TVe3RN1Gcm7ljJn+hxW7E2iQKGHpbMnLXx98HCyxcLUAB2NCkVdNZWlReTn5ZKTlcWl/BIqFRJyQxtcfAJoFR5FdExHOnWIIsDFCiMdUXpeEARBEARBEARBEO4HEVQRBEEQBOHRoTzJT+99ycY0bbw79qZvn65E+thionufE2SpyslM2M+O2G3sOXKKpIs55JeUU12vQa6jj4GRKZY2ttg7ueDm7oWPXwAtA4MJDnDDzszg/hS7FwRBEARBEARBEAThX0RQRRAEQRAEQRAEQRAEQRAEQRAE4TaIuqXCI0FdlUfK8R2sXvAtk94bxdOP96ZrTGvCAv3wdHPF1cMb38BQorv0ZchLo/nsuyVsS8imvE5Nw0cdJWrzEtnx25e8/fSLTP0jkUvVzSm2WcuFTV8w9ut1nMusaOrGPDKqDv7Ax5MWsCOpkFqpqVsjPNokirZOZXhHP+zt7LCzs8POMZJXftpHakVD3quUnPzpdfqGuVzZhp0d9p4D2bLjVANuQ3gg1GUTN28q03/byelCdVO3RmhktYnrmTtjNot2p1EuDrfQpCRKD/7MuwNCcPjzeefQiqGTf+d4cUN2xlQkrZ7C8+3d/n7euXdn3sJdDbiNR4em/DjLJgwl3OHqMbNzIOjxD/n1QCGN14WWKD6xnPFPReDf/kWmbUyiSgOo0tjy3at08bC/2hZ73DqN5PtNqY3WEkEQBEEQmgftpm6AIDQGddUlEg/vZffuOPYdPMypjBoMHDwJCPDFw8mVsC5hWFlZYWVpih711FQUU5CbTXpqEomnt/LT6h+YXKnBzDucjj36M3DQQHpFemFtpMNdZa2vL+HiqcPE7dzG9j3xZEsOhHToxcAPn6NNCzuMdZtLLvwqzi35iLErZDw+dihOTqYNvH6J0jNrmTNtFn9onmD6J08T3cLq/kd31VVcOhdPwtk0cso1GFp70KpNBD72pvxZK1p5OYFTZfZ4udpgYdT4iXaM2wzlsePvMHlyDmXvjaBPkAOGIuwtNBFJUUV5nRWh/frQ2s8RY5kZfmGuWOk15FZk2If15emR3nSuVKNI2c6yOBX1ClVDbkRo7mousHH6FBZf8mPwyCD8bRr4fitVkLpjMbNnrSAv/A3eHvEE0c73P3maVJNPWuJpzpzPoFipg5lLIBFhfrjZGF/tjKsoTDpPsYEVdk6OWDzEPXSDgC50SP6WmQtnkV/5Ci/1bYmlyGcnNBFNfQ2VdSZ4t4+mQ5Q3FnJjPCIDcDJoyL65DGv/Djz+ghFBJSrqMw+xeV8FdbX1DbiNR4hGSW11LQaukfTr0gF/KzlGLiG0cjW8u/e02yHlkXAojj17T5Ks0CIx6QIFvfwwllni3bofz//Pi0KlkkvxO9mXV0m16MsIgiAIwkPvIX5lEx41tflnObhtI39s2M6RLCXWLcJo174nbw37hFbe9pjqa992R1tZls7JuC38sW49f6z5nJd/GI+BSzBtOnSiU/t2tI4MI8jHEQsDHWTXrlRSUlteTF5WCmdPnyIhIYGE02dJzVdi7hVGTNdevDV7HCFulhhoN5dAyp/U5O+czie/ltDurQ/pF+6GWQPfIWrPLmTsa5NYfigTWZdu1Kvv8wyd2mwOrvyBb2ev4GCBHk5+QQS4miKVLOGbjwux7fYGn7w7mCjzVH4a+yHHgz9m7HMdsTC6D22TWdD61Ym8nPsGP/5gieXo4bT3saCha08ry9I4un0L2/afJDW/Dm0zZ4I7D2Bgt1A8rA0fqjoNyrJMEg5sZ3uKMV36dSbcxw6dfy9EZsIBtm9PwbhLPzqH+2D3r4UeTVr6LkQNfJZRfUKxb5QTQ45DeB+Gh/cBJMq2VHL03LnGGxARmh+pmMMLv2HheRt6vPIUPUNs/32N3hMFaeun8eHEH/jjdB2RnrWo7vNMQEXeSTYvmsP3i7aTVm+BZ8uWeFrrUP37D0y5bECrIW8z+oUeeBSt46tJO9Hr/zwjhjpicX+beX/JTAgYMJLnC6cyd+0iVpu+zrMdXdFv4ItfVZnNmX3b2br7MGdzKtEY2ePfthf9erSlpbPJQ/USpKrMJenYHrYnKvFv25HOEe78KwauqiQ36Rh7tiei9G9Lx84RuDdooPzBpaVrR1DXQYx4uTsejXJiyLAOaM/AgPaAROX+uVxK3yGed/dCSxcbv0gGvDiax3wa/2qWClNITUoirQgsIoMJDmyJizaAJT6t++LTui9oqjj2WwU5a7MbvT2CIAiCIDS9h+l9QngkqcnaNY/v5q/lRLE5/tHd6P3+fD4LdMLsDoIo/6Rj7kHUgNeIGvAan1Vd4vS+rWzeso09+9cwbc0sSqqVoGOEuaUl5qaG6KKguryc0rJqNMY2OHu2wM+vJcHhnXn5mfG09nPCzODu23M/1CcvZ9KUbej3GseAaB9sGnp0Q32Z2F8Ws+dsFpVqDRZyOVr3cYfUZWzj2w8+Yv45W/q/vZADgyJxNdf765ioi0+ydNJ4vvj6MgEFsaw/IKPf45aYmTXcdBGp+DA/fzqRuTuraPf+dN57IgxX02vWr+NKv3de59iIycz6zR7r1/oQ5GDQQOdNPVm75zL5y/WUerWnbQsn5PHL2Lx2Gb/9PI+lI77mu7FDaedp0qzP05tTUpAYx7bYWLbtjOPA8fNkF1ejCR6Jc2RrWnmDjhYoCxKJ2xZL7LadxB04zvnsYqo1wYx0jqT1nwvdLamEE4u/ZOqcTeQHv8aUMcOIaWHxUAWrBKFhKMnYPIeZ6wvxGDqcnq3dMWrgm49UuI81a7Zx8GwRSo0pMpnsPj53FFw6sJAvJs4mThHGs59v5LmuAdj9NQVRTdn5TXz/5SK+/2ob1UnHOVwYwGhbO2wbrHcuUXbqd2Z+/T1rLnrwzMdjeKFXENaNfkOSqLmwg19mfMuCQ7p0e3MMrw+LwfXaAXxtW9oMeZrzKV+zcckybG1G0b+lWQPNXFVy+dgKZn2zhLM6/rQJd8UkaTXr1y9nyS8/s3jQ+0z55HUGhlg+wHmQVZSkHSNu2ya2bI9j/9EzXMwrR+X9JBOdQmkfDnpaoCpJ41jcNjZt2U7c/qOcuZhHucqbJyc6EfrnQndLKufcpnnMmLmUM9YDGf3uSJ6ItBcvl82ZppbMfcuYPWMuOxRteH30/3ipm2dTt+oBIFGSmkpSchoFche6tm1Hm0jXBv4IQBAEQRCEB43o9zZHtWf5+Y03OdjqK8Y/E4q7hRiOuzEtLH178Oa3T2NrYdIosz/kxk6E9n6R0N4v8jEg1ZeTl5lBVm4BxWWV1Ek6GJmaYW5hibW9M442phjoyB6sgWl1Jmtn/8wxi55M6BuKl5Vug7e/7swqVu1JJqdMDfd57yizNzH59fdZnBvB+7PGM7ytJ+b/GDiXW4Xy7OQJFI14hW82J5Dv8jzBTuaYNVhqNjWpa+cy/4+9JGQpkZ3KpqR7EC6metftDZldN0a9sJXnv1rMmihf7Hq0xO5eBj0AkKiI/4XJn87iiOMbTH/j/+jsb0Jle1fef+cLlu1P52z8abILeqD0NEH3HrfWlNQyQ5wCoojOTebUmfOoNPw7oKGWYegUQFR0LsmnznD+Pxe6y+1f3MyvC9ex/WgKdXWnySjoTWsfC+QP1A3hUVPL5bMJpFSa4uXriYOFQRMHwSRqCy9y9lQCp86lU6jQw9Y3ig7RQXjYGF3fNqmK3ORzJF24ROk/aoBp6VriERhEC1cbjJthb0/K3cHSpXup8RtCn47huDR0IB8FKVtjiTt+jjwl9/mxoyJv71zGf/IDxyyH8MnU1xgQZveP8Ws55v6PMXpMGR+/9zkrt6ZiOeBxXO3sGm7GhjqTHSuWsnrTfs5Ul5B4MZciRSDWho28M6R8Dq5fzvLVW4kvcMY+NYu8aglXvetDGDKLcAYM7MCJadvYENsSX/e++N1zZE2i+vw6fvhqOhure/D+uHcZHm1FTU9/bMZP5vu1p7hw7jxpGZepD7FE/x631pQkLX1sPEOICswi5ewZkqX/OM0lLfRtPAmJCiQr5Sxn/nOhu6PO2c/6FatYuzuBcm9vUrMKUETY0+wmYgt/kYpPsG31MpZtOEauvQm56ZcAEVS5Jamc1JRkklLzMfAdSLt2rWll9eCGZAVBEARBaBjN8DX7UVfJ0dmfMH3jcWxdFUiiYPUtyDB28sL4fm5R1wxHnxAcfe7jRhuVRNHOn1m0V0mr//UkwM2GBi/xIuWxbelGcvXNMTetQFVehUqtRtLch/Rf9cksnTSVpfGGPDb9bR6L/HdA5S/GoQzqF8WqoxeR/IPxNjej4caetLDy8sfNwR2FXw/eGh6Jh53ef4xtyHHq/RwDfn+F3xZvob2vA1YtrO7tZq2+yObFa9h3phTnDh5YWhgjQ4ZZ2P/xyUQt7FaeQNZmKFEtHB/ogAro4BDQFocA6OCnJOl0Chm5KdT8cymHANpeWQhl0mlSMnJJ+edCd0nL0h0fNye8gpxp++owYgKcGzyljdCQ1KT/Pp7XJ8xnexJEvf090995nCiXhpohdmekqlS2/zyNz79fxaGLpdT/eYvUMsDjsQ+YNmEUj4Xa/nU/qD3yKxM+mMbCvZko/7U2OW4DJzJzwqv0b2XRvL7Il0o5tHoNO3Nt6DYkgmC3ht/fUtFBNu5IoUJjio2VksISNWq1dF/6VcqMTfwwcyHbyyL434dD6Bn6z4DK3wwDutOlzR/ExRdj4euJnZ1pwx0rLXNcPV1x8Q7CPOT/GNY1FM/GDqgAyExwdHfHxd2DgNCBPNmrLS0t/uuRBub6AAAgAElEQVS/kmHduhfdwvczZ9dmdrUKxKPrf6StuhPqy+zbuJHt+zIwGuCKnb0FMmQY+w/g1bFg5rGTAtfe9IjyfqADKqCNtVcoMV6hRAcaUZyRzNkLRyn951LWXoTGeBEaHYhRcQbJZy9w9J8L3SUtM0fcXN1o0VIbz6HD6NPWt8FnmwkNS2Zkh7ObG54efvh2f5zozqFN3aQHgqY6jdSUJNLyzGnVM4a2rf0wbOpGCYIgCILQ5ERQpVlRc2njJD6Ys4e0gjqsm7o5wqOhNoElC7ZwwbYnr4a74tgIb8R1iatZecSUNt0cUZWVUFJeiaRSIWk0NG5YRSIvdj6L96ZQG/YuA8PccLjpgJIce39fnC3sMWsVgKW5SQMORMqw7jyWlYfH3npRgyD69wln+eSVLNnfES9HS9yN7/64KJN3sS8hg0uVerQw1kX7r6CSDi4dRzCx44i7XnezZWSEoY7OLVIzGGFkqINOA+ZvkFnG8NYvu3ir4VYpNKo60pPTyC8pRyVBWnI6RaXVSC5NMFtFlc3W78YzYdYajhfqYOcXTVigJeVnEjiTcomshJMkZebSOcSWP8en9dzD6Ni9N8X6yZQo/owWKCnNSiP9UhE1VVXUKRSNfJ+9c4qkjayJjUfyfYWolr7853j7vW2B1O2bOaJwoVWEGtmxOAqLJdRqNRqpkfeGVMT+39ew/eglPJ56h9aBPtw0i6TMGi8PF+ydA/HwscfOqgHPPJkFUSO+Y9N9v8UbE/DEeJY9Mf7Wi+p50rZtFBt3LWPz9v2EBbvSxubuTwhVTjwnTp4jpVibYEM99P6KZmljHzGI0RGD7nrdzZWWgQH6eno3/yhCywADfT30GvDLCZlZKMOnrmL41IZbp9DIDHzoPfpneo9u6oY8SDTUpKWQkpRKgVMkT7RtQ7ijyCIhCIIgCEIzCarU5x5m5S/z+X3XeYpq66ioqMfILYr+I97gpR4tsTXWebBSKd0ViYrjc3j3k984nFmGUmRpFe4LiZK4tWw+XY7bU+3xtLNq+Fkq6kts/nUdeX5P8GJQIRc2XEmNplLdh8Et9SX2bDtIel4VngODsTEzu+VAqdzMHBPDAHyCbDE3baqXJjmu3XsQ9fNutqyPI72dNy6+lnc5yCtRkXyerKJSqqQrad0e/vspaGlpoXWr4glXl3lg9kftZRIP7mDLxq3sOXGOizn5FFfUUK+6/jrS0rWhyzvf8+mL3QiyEy/+N2dAeJ+BdDp8kcKzxvQd0AE/16apgVNzchPrdxzhTKE57d+YyuTRw2jnLHH296+ZOmczhQHdaO3nyrVlmGQObXnmk7Y8c+2KpAK2fP4m479bTeb9/iduh1TOsR27OZZpRNATfng2wqwgqWAv67akYez3JJHG2lw4sRe4OlOlsWMqBUc5cPQcF4oc6e/riJ3drfpzMoxNjDFuEYivox22j1z3T4ZtRCRhAZuYd/AAJ7vFEN7N/S57wRLVWZnkXM6j7FGa6a3FbdQKuq2FmhEFRWnx7I3dwOZdRzidksXlojKq65Rcd2i1dLCIeo4JH73JMx3dm8eL7SOsviSD0we2smHzTg6dTCLjciFllbXUX3/Q0DZvxVPvjuXdV3vh3ewPWh0XUlJISi3Fu0072rYJboQPAQRBEARBeBA1cTdGouTobN589XvSQ15j4k9fE+Nhjr4inW0zxvDuG4PYM3IWc97ogpeV/oMz8HUXKk8v4H+vfcGmxDxqH6UXQaFpSUXs3bGfjGp3hrdzxdqy4UdzKg4tZvExc9q91w4f5/3oybXQ0gK1WtX46b9qznI6qZiyKnCQy29rPEGqr0dybkmQizlm91zL5O7JrKNoE2TNxo072J/Zj0AvS2zu6o6tJr+gmKraOnjAk3s9stQlJG78hRnT57I+vhA9lyAiItvSv4sTtuZG6GlfX8NJpmuJb5tAXMzFW/+tyTALfZ5vNjzPN03aDhWX0zPILSxB5dCeLh1C8Xc2RCaDoMGfsWzwZ03auoYklR7n0NEk8szDeMHbDed7yvX0X6pI2LCeQwpXesWE06rgFKvkMkC6mv6rcZ87tWkppF3Oo0Rji/zq8+7mNCiVEjZeLXCzt8PgYe7s3oDMzJ8APw/Md8dz/FwS3du7431X54VEaWk55ZXVaJr6FUe4SxLlaXGsmjud75ft5aLSBt/QCMJ6tGWAvQXGBrrX1yjT0sHMI4Q2/rZNXAvr0SZVZnD4j/nMmLmQHedrMPduRUREVwb3s8fSxBDd6w8a2qauBEaE4PAgHDRFOqmpSaTVtaRtTDStfR7sxIGCIAiCIDScpn3jqD7I9+NmsVPdjdljhtDO0/xK7nkDD3q8P4VRCYOY/ONMfu8awMg27lg0emuV5JzYRXx6KTWq63+j5xROpzB3zPUrObt5GSu2HCSlwgTf7s/z0sAwXMz0rksTVF+QSNzmTWw7nEh6fjVyUwdaRPXg8ce70tLemL9rdUoUH57D/16fwrpTeVSp//y5hqJzu9i4NhNbYzlmPm1p61pL4vFz5JbXob62cVrm+MS0o6W9CfLLx9kVn0HpP/8B5NgFdyHS2xJjXS1Q5nBiVzzppTVcv6QeTuGdCHM3R7/yLJuXrWDLwRQqTHzp/vxL9HcsIf70RYqq/5G9XWZFy07RtLA2oDZtN2tXb+bAqUxKJBPcQnsweHg/Qp1N0X8QOs+PEKnkMPtP5FJp348QG3PMG/r4KJNZvXAL1a3+j97BntgrjqIjk125VpT1KDQSahqsRvi/SNVVVCuUqCQF5w4fJHNYKC1sbW8+G0ejj0d0GwJsLRuwnspdkNsTHuaH1aatHDiay5NhLbCxvps9paGutu5K2ps7/EtlxWUy0zPILqxFbmKHu4879uZG6N5yrF5N5aV8ak1MMTUxRl9VTk5qKllVhri2cMfe3PCOHz7q6nwy0i6SmV8Fhja4+3rjZHXtvfThJJUl8vvXnzB5UTyysCeZsn4Ug9p4YW34iN5M60vJyihEMrPHzsoUg4dm3FSDok6BUqkCIxNM9fUf0lo8EuWn4zl98TJGLfxxtLdr8I6oKmM767blYB36f7QJ9cJklw5y2ZUbhUpZj6RWQ6PNBpaoramlTqFEqr/AqfgLZHeNxtPj5rNxNHpOtGrlh5uTWfOqfXO/yCzwbdECd4tdnD2dyoWcrnh73d0xqq+/eh3d4Zmlqi7iUmY6mZcrkQyscPFyx8nGDP1bHhCJ6oIiarR1MbQwx0hdRX7GBTKKtbB2d8fVzvSOzzZ1bTG5GRe5eKkMlY4Fzt5euNhb8NDf9qVK0rb/zBdT5rCt0IXuby/kl+FdCHY2FSGyZktDdcZeFs+Ywrdr07HqMIK53z1Hrwh3zB6Sg1afkUpKUhbyoC60ax2O/SN5kxYEQRAE4b80aXdHcXw7ey6UoPD2wMVQ//ointoeBPnbYbT7HCfOllEVImFh0ti9GBUlqftYPn0BG05dpurvCrHYDPyO2EkhJMz6gAnLj5JTcTUUsWwNRy6v5IeR7fCw0EFLKiF+0UTGTl3E/osKnLq/wHPdgqk9uoJfPvqZ6V/G8NrXM3ivX0tsjeRQu5Ov3/2GjdcFVK605fzK8by9EkCbgFdXsPJ1U05vnsOMJfu5WFr7d2BFuyVvrFzFJ739MC3N4Pi2RSz/fTfJBVUo/xpF1afL1Dh+HmVxJaiiKiF133KmL9jAqctV1xTDtWHgd7FMCklg1gcTWH40h7//1SNM+qIXJbtWs2rDcXIqFH9Pwdduw4exM2h3di4Tv1xDfG7l38GaVQuZO28An/00g5fbu2PRQF//K4tSiU9IIqdMjalHKyL8rahNO8r+/fGkKx1p3as7kV42GElFnN27nd0nMqi1CKF7vxj8HcxuWDQWAHUlWQl72bnnKIkXC6jTMcXeJ5LOPToR5m6F4XWFzpUUpcaTkJRDmdoUj1YR+FvVknZ0P/vj01E6tqZX90i8bIyQis6yd/tuTmTUYhHSnX4x/jiY/Vex8vuj5tQJzhZWYB4RiIO5KTeq33531FzeMp/lKa70GBeNj7MxsixtdGRXvqqX6mqoUapRa2i0fFQyM0ssjfXQlWsojJvDpNlOGL8/hGh3sxsGVnRaPs/4lg3XBnXRKTatXM32+Dx0vLsydHhPQlzMb37+ASDH1dcbe5MtJJxMpKg0HMna/LYH3Or3f8XwMfPYnVREvaKGOoUSNAo2ffokO6dqX/3S04T27/7IpFd60uqvNFEK8k78wYI5c1m6Jxsta3us9KrJTk7lcp0pPu2fZNTboxjUzgebf4zwqKtyOLVnI6uWLub3ffo88e1UXmlVyprPPmPWumNkV2nj9dQUfv70BTr5W9zO3qP0XCyLfpjNol35GHv54mklkX3yAAnZWnj3foNPPnyeLgF2TRsAU5dwdvta1sYeIQtX2g8aSu8IT6wN7vGZVZvEysnvMWVDOVFjfmLsM53wsWq6+8W1lIUn2bxyDdtPFWMS1IfBT3Qg0Onq4KEin8S4WLbsOMSZ7DIwdSesxxMM7ByMq6X+3Q8aV5/i17HvMnVxHNkm3Xhv5lRe7dsKhzt8piiL0zh1OonM656RINO1wCMkHH9Xa4xvMAoq1RSQlphIclYh1SoNWjoWeAS1wt/DDiPFJRKPHeboyWRyK7Uw9wynQ8dI/J0t/iP4V0dhWiKJSRkUVKnQIJF7NIW8KhUaTQ6n9sayuvz0lfuEljaGtt4EB/ngYm30gH+NXUfyuRSy83Vw7+eEnW0Dn89SIftWrydB7s+T7cMJsJSRr62NTC4HNChq66hXKpG4h/PwpmQYm5lhamiAtiafY8u+Z66TJRYj+hBkZ3CDbWrjPeA1vBusDWpKk+PYuG4zBy7U49BmAE/1icbP3rBxAzbqci4cimXD5jgSi3RxiuzFE33aE+RkdBvblWPr4oyznSF7UlPIys5H5eV82y8pyjPLmDjpG37clkZtfR0KhQKNVMW+H96kz/x30ZYBGBH23Kd8PPoFurr/ueZ6is7tYtXPc1mw+SxVBjbYmqopuJhGdpk2zpH9+L/XRjG8Rygupte3RqrJJ+nINtYsXcyqXTVEvvkBbz9uwbHvpvD1rztIKgXnHv/jywnvMDza/jb+C4mKi/tZu2A2P29IQWnjRQtnPYqTjnEytQqbts/z7tiRDIx2vy4F4H2nLufCoa38sXEP56utCOv9BP06hOBsfK+NqiN921wmT17AGdshfDH9NQaGOzbts/0qVWkSezeuY+OBTGSeHXhsYHdat7BGD6C+mLRju4ndGkf8hSLqDRwI7NCP/t1b4+9wO+d+45OqrjxTNmw9SrbaltAeA+jbORy3BnivVmTHsWjaZGbv06X3+F95Z1hbXBqhNuMdU5eTdngr69fvJlXpQnTfAfSOaYmtPoCS0owE9m3dwq5jKeTX6WLr147e/XoSE+zM9aeyiuzUFJLzDAnsEU3rQNNm0QcTBEEQBKF5aNKgilRVSZVKRfWFZNKqawnUmF/TeVZRVVmDStJBX0+G7L70YAwIHjqZ39r7M7LfWFacukTVnwMuUi5rP/mJhbvP/R1QAZAK2fPHDjIHBeJirsvJWa/y8ucbSMyvRTvkLb6Z8RE9fe3Qr+uI6ZPPMn3HLr4ZNQqd335ldDcfrPXa8NavmxlyYCYvj19GQnbF1WCJNhGv/8JnQwJxNpOjb+WGm60JLWdF4qbfl9d/OkxGufrf/0HQk3z8/UCebPk0gz7bwNn82hv8q8EMnfwb7f1H0m/sCk5dquLvf3Utn/y0kN3n/g6oXPlX97Dx4gcsnDGUaPMBvLPoBNmVfxfGzVgyllX7irFp1Ych4RfYv/cMOeUK1EBdxh9M/iyY0AVv09GrAep2SEVs/Pxlxi7YR2qphMyyFV2CVKQkXiCnuBYJMPAawqTPOlK4bj6/bUkgt/rKnAjrDu/z46y36B1k/x9pNtQUnVjO9Mlf8suO8+RXXT+PR2bsRddXxjPlfwMJdTZFWwukoo18/vJYFuxLpVSSYdmqC0GqFBIv5FBcKwEGeA2ZxGcdC1k3/ze2JORypSnWdHj/R2a91Zsg+4bPKX9rSi6eT6WwQo2jhwsmhg3bBql0H/N/2Y9+u3fpGuCGpTZIOrpoy7SuvGTW1lCjUvHvs7gB6bUiOsKFlcdTKCwq4sjcV+n1+9cERbSlQ+fOdO3WhegAR8z0tRtl/9ddWMOkSRtQhT3G4GdyWPDBxzy3P41vvx5JFz/rW14H2l7euJsasD/1HNnlFSg05redGkY3fAQzVw6iuk5B4oJ3mPpbHCcuGxPz6heMHhKDr4UMtGQYWjpgbXZ1mFZdxLGFn/LhF79z0WUYnyxawJOtXTHVhtpL+/l10id8s2IOb+zfyZ4PP2f8i93wt9FHU3GK1bNnM3fBOo6kF1KtAvSjURbs4tuPN7Fjz2kKFBrQ1JFx5gzlRcXArYIqagr2fseYsTNYnxvMmJm/MKpPMDa6WqiL9/LNm2OYuXoCb9fLmPPZi3T1t2yaB5oig03TvmRdqSdd+g/Deu0UvnxlL+cnfc6b/cPueMD/L1IFR376glnbK2n7zueMHRaDp1nzGE6Xyo/x06R5XHDqQJ+e2Sz9ZgwvHhzB5+P/j3DFdr7/bh0ZpmF06zOCfm5yLq77hknvD2Zl73FMGzOYNu4mdzXQVH9uL7viU8kqV6Eo38P2/RfoGxmEg8sdHHmpkK0z/sfHP27hdNE/c23KcOw/hflTXqZHkNV/tFFF6rqveHfKPDafq7z6zJTjMeB/PNtS4tzWVWxNyKFS/ff6THz68vbE8bw6IBzHay5e1cUNfDN6InM3JlL+rylk+1j45T4WXvsjHX+emfYNH73UC//mMGB1t1TZXEy/TGG1FYEOFpjf80DstSQqjq9m5Z5yXHoMp3WIE7qAjo78r5kqirpa6pXKm6/mHun6hRDo5Yr9oQyyyk6zYtxwts3zo1Wb9nTq3JVuXdoR7GGDccN+xXCVguztc/h2TRbmUT15ynon381+iz2nxzBx9DBiXBsnla5UfpY1M2ex6bIl4b2HMLxwE7/Mf5cRcc8x7sNR9Gt56xk4cicnHGyt0ErMJDsvjyrJmdvNYKjToi9vfxvNc1W1XNwyi+lzFrItVYfQwe/x9ohBRNlfed7pm9lg9ee0d6mUs+tnMWnKTxySd+a1r9fzUs8ArHVBUXCStd9N5suflvDxC3vZM/Ijxr01mGhXIzTVyexYPJ/Zc5azNymHsnoN6IYQXHKUxdMT2LZyL1m1EmhU5KYkUZR9CW4ZVJEoObGELz6dyvx4G4aNm877/9cJV30tpLITLJw0js9/nMHHChXShNE83dahaSov1ueyd8EcVp2FgO5PEHN8AT++/wYnRk7gg5e643XXERCJ6jNrmDd3NecdhvDBx6/zeCvrZjE7RapKZPWcBRyudqVtjwAOLZzGm3vieWfc/+hneZqlPy7naJULMX2H8s5wEwr2/ML0aSNYsWUEn340iv5Blk0YWNFQdXEXi35ayfEqd3o8NpQW8SuY9/Er7Bg4lnGjBxN6D8VBNDVJbPntJ5YeMaDP6HG8+3QUds3hoGmqSd60gIW7sjGL6k7Y+VXMHb2DIyPH8cFQVy6smc/iPZexatOPJ958CouyIyz7/nteX7GBIR+OY/TQcKz/3C1SBUVFpeh6hBMZHYWnyKIrCIIgCMI1mrTro+3sgqOBLqdTfmfWov6EjumJr82Vrwelkjh2Hc2nyrwdnUKsMDO8vtNXW5hJIVbYWRiip92w3VW5jRuu1gboagNKAA1lu79njkt3Xv96NEb7ZjPrj5NcqlABWuiZmGKoI6fqwHd8OmcXSfm1SGjjE9OJFuZXZ0QYBBHe0hrjgxcoKjvM7Okr6O7/OjGeljj6+GOVY42RzrUDZloY2HjiFxCMp9W1PzfE0cEKfV1tuOFwtDaubs4Y6esio5Ybl2iRY+PmirWBLn//q2Xs/n4OLt1f5+vRRuybPYs/Tl66ElzR0sPE1BAdbQucHS3R15XDn2tXnWLzscF89uOvPN/ODXOdUjaMeYw3fzlCZrka0FB5eBOxKU8T4mKJ7b3OVpGZEtJtAP2LtNm6/Rhp+QnsiAO5hQ/R/YMwyDrKieTVfPTSalRKCX2HEHr0dKbi9GHOHFnE0rg+BLva4n3dG7uarNjJvP3+HGLPFqIwcCKkS2tah/pgIRVxfu829p5NZ/uMN8irqGfeJ4OJdDNFbhpCtwH9KdLeyvZjaeQn7CAOORY+0fQPMiDr6AmSV3/ES6tVKCV9HEJ60NO5gtOHz3Bk0VLi+gTjaut924MHDaeGrKw8quosaOligoFhQzaghoTf5rG5KoxXBoTjbX9lIEdLR+evmSrU1lCtUqNqxJkqyCzp/NJI+h7LJH93MsX1EnVFaRyLTeNY7CK+QRdztyDa9RnGyFFP09nfruEGuurOsmT6JvT6vMYrvcNx097DTgs9NsVtIS59AK28rbG/xaiIzMIBe0tDdFOyyayqoVrD7efbN7DEydUSqKfU0hg9bS1AjoGFA66ePrSw+ecAvYK01V8y4ZtlHJH15vOPRzEo+u+i2AZOMYycOhVF9btMX32ElVM+xsjMmI+Gt8fLNIhBH/7IwOf6MmHkJ/wUm0iROo/tv+6m8yvjWP2NN0UbZvL5D7GURkZibW996/bXxrNi/iriEnJQhAzC18ES86tRKLlVNH06t2LTkbPsj/2DXUM6EeRtieN9H2VSkPT7HDar2jD85QF08NXnULwVhpWb2bkvlQFRQTi43t0buCJ5LYvWn8Oo61u80CcSj2YSUAE12VvXkOzYlUFP9KW96ynOrlzHnk3LWeZ4ll8r7Ok4eAJvdPbH5up93nfEMA7tP8O8ZUvY2DUUD+cwHO6i9yF3a4GPgxXmOlkU6Hjj38IWqzvdLzJzgjr357ECfVyyKq/OVFFTcvEMKVlFVFdXolDW3yBVngyHVp3oNaAYHfdMslLOk5aVT9bm75i6SUKt1sHaO4ro0ACctfNJPHyMMxc2MXuOF14udgxv5/JXVSOZbRAdej9GobYrl6pVaNBQfTmF5Is5FGOHr68HTn/OStGSY2AXSY9wb+wf9JxgdZe5XFBKlaEd9hammDbkaV2bxB8rYsmyasPLHSLwNr5SR0VbWwe5XIYWGhR1tSiVyjtOhXgnZGatGTS8PyeSLrLqUA61mnpKs06zO+s0u1fOZoKOKY6+EXQb9CIvP9ubSE/L25i5eHsUaRtZEFuBT9//46neIRgfv8Bykxp27z3I+cfaE+XqTYOXsFGks3nOfI4adOSVjwbSxsUAKaOYo3vi2L5rO3Hd2xHlH3PLlDkyYyusrMwxrswnr6SEEonb7xfpmWLtaIo1KpTxlhjpaKGFHH1TG5w8vGnxr8BrPVk75vPNtLlsKg7jrSlv8GKfAP7MsKlnG8rg98ahqlcyde5Gtv7wBQbGRox74wlCrX3oNvJLOj/emzmffMq0BXvJkYo4vH4/nZ8fwZyDM9E9uohvZq4g2SkUJ0/n29iH59i6ejWbdidT5RmBh5P9X9e6zDyE9m1bs2XnAVYf2MXeY11oF+GAz30f3K0nffsytl22ot3TT/NkazPOFMdiXr+Bw4dPc65rB7wC7rLWRH0GO9dv5Ei5L0+OHkyvkOYRUAE1eQd2kiTzpO0TwxgUnEn1wVg2zdvMmh/ziDN3xDdiJJ8/EY3L1YCSZP8E5xNO8dWKdWxoF0Ggbw+8mmggXpm7nxVLd3DZ4TE+eLEPLYw15MrPE7d5A+v27OZAx/aEdHO6y6CPkuwDW9m8Nwf73q/y9MDI5hFQAaSC4+xPqsUi5AleGBpF/upEdqzdxI71cyk/5YqTow/PTP6YTh5GV14/NE7UpJ8j4cQ8tmyMIiosiIF+Vw+azJLWz08h6nlAS0vMUhEEQRAE4TpNOitZJ/BJnu3mg51xFUemv8YbMzZytrAGtSKddZO+ZE2uI09PGkO/FvbXTcWtPvw1wzpF4ucdw3trk8mvaejXYzmyf3SclLXODP50Eq89+xxj5/7C5KFRuJjooGsfw6sj++NpXcmmX9dyOreEegAtEzx9XDEy0L26Hm1s7azQ19EGNFQcXM+m5EJK6++87TKt2zhs8tuc3SOXoXVdFVUltc6D+XTSazz73Fjm/jKZoVEumOjoYh/zKiP7e2JrJkMu+8ffafswbMLHDIl2x1xPBjILIiMCMDe+ZvaDlE16Rg11ioY4Xrp49n6Hb376ghfbemKpo4XMpj1j5q5k1fJVrP32ZaK9LZEUavT9nubrJatYsXwNiz7sT6B9FYnxaZSU1V43sFJ39lcmTlzAjnPFGIc+x7Tfd7Jz40p+nPY5X0z/ifUHD7Fu4mDCHCTO/fY1P+5IIrtSA7qe9H7nG3764kXaelqioyXDpv0Y5q5cxfJVa/n25Wi8LSUUan38nv6aJatWsHzNIj7sH4h9VSLxaSWU1TZywfb/os4jr6Ca2nozrKz00GvAl766c0uZvTILn8eeol0Ll7+uX5mRIfracuSAVFtDtVLduDNVAB33x5k4dyYfPtseD3O9f9z06inLPMGmH8YwZOBIZu1IpqhBzk+JvG2/sdesM93DfHAxkaFMT+ViUSXVSglJo7m9QT25NdaWBugo8skrrUWhbLzzRH1pC78siuVoSj2BvfsR6eOB2T9uNTLLNjz9TG8ifG3QrjzDip9Wsu9MFjUaGTK00LH1w9fVGnMDLVAVYxj1NMO6xeDv5EmHUTPZciqZwz+/Rjsf81u3pyyHSwUVVCk0qKsrqVTUX5OqSYapmQl6urpoavK4lFdJZd39v4akgt2sOqBHWHQYQd7myJWZXMgooLRCiSRp0Nx1kyo4smEz8fW+9Osbjr+zYfN5kVens/+EGi9/N1xdjNFUV1BZo0BRncCq9aWEPDaMJ7v8HVABkBmbY26oh25NOmmZJZRV3TjUfzNy256M+UEwDZ4AACAASURBVPZH5i9cyPJNy5kyPBpv0zvdMzq4dR3JpHm/szF2K1u3bmXr1rVMebYNnua3WpcM04B+vDF1AWs3LObTZ9rhZQpqpRLJ2J/HP/6Fzbt3snnFAuYv+YNV00bRM8iciviDHEu+yKVrJkjIjP3o8+oU5q/ZROzWrWzduol5Yx4nwlkfuUtHXpk8j3V/ti92M+sWfsaz7XywaC6xtbukLiyiuKKSGmMzzA0MG7Aou4ILm5awNlGf0J6daR1geTVNmgwDfT10r/a96mprqVfWN9RGb0Abp65vMvWribzZPwi7fxbCUFaQm7iLRZ+9xNCXJ7PsUBbVDfLYKeLgH4dQewYRFhGIlVxFTmY2+cVl1EsaNFJj3COVpG9Zwh6FN+26dyfSxeCv9J51CgWK8jLKKqq4rUteZoqZmQlGWmUUl1ZQ0SDP4v8mFRxg3ao/2HasHM+YzkSHBvHP7wxkZsH0HdiHLlGu6NakErtyNVv2naPiz+edpQcerk7YmWiBugz9lt3p27MvbTzcCR8ynqUHz3Ji1acMirC7dXsqC8gvKKa0VoO6tprqujrqrnneGRkbYWigD7VF5BeUUnqX99B7IZUcY9vRaiw9w4gJt0VbdZnsS7nkFyuQNBL3cnpVn4ljz5HLmLbpTkwbX0yaywNPnUvCuWpMbJzx97eA2iqqq2uorUli265czAP78PSTfwdUAGSGppgYG2KguER2dh4FZff/WAGgyuXA5n3/z955R1dVpQ/7uS29995DSEIJvSsdBFGqOoqiYu/j6Nh1xIIylrHCKDr2wTIoKB3pHUJN7733e3P7Ofv7I0FDCoQQyvdb91krLHKz79nvPmXvs99KsSKKSfOm0sdFAciYjUZMRiNNjU00NjWdxfHuHOgzOLB3H3mK/kycMJ7+7lfKRZOpSM2iUelE8MCBeCuMNOubadbryd21h0JCmLjo1j8NKgAKR1xcXHFxslBRWkJZee2Z50WhQGEzqNiwYcOGDRs2OuHypnpVhTLn5X/yyLQE/DQVbHtjEbMXPsCiGfN4LaM/f//iO5bMG4C/c9udjkRlygly65oxNGVw9FQlOsPFVsuCOmos4xM8cXNQgHM/bv/3DlLzq6gt3MbSOfF41W1jy6GKPzc6Shfc3DSo/hBdgYuLMypV6yk3ZXD0aA3NzRdf9vNDTdTY8SR4utEy1Nv5945U8qtqKdy2lDnxvnQe0OCIs4sa5R/jVeLu5oJG3ebaCRMmo4y4KPsLewbc+BA3jI4jwEmJY2gYQS6OOKgDmXb33UwZEImHRk1IaBCuTvY01dVhNLfxRpZKWbfyW3all2KJuokl777I4il98G5bE8EuiKsffpbFE/oSqMpl3c/byS+r62gUsB/AjQ/dwOi4AJyUjoSGBeHi6IA6cBp33z2FAZEeaNQhhAa54mTfRF2dEXMPjGsXjFRNVa0Bs9IND1c7NOpe2i6Yc/jxg69JCZzBTZMTCPdocw9onHF20KBSgjA0t6T/ugRDd4iYyt9WbuHI4W2s/vcrPHLTJAaGeuCg+nPMhvxfefP1L9idWckF6+elEn7fUkZkUh8C/N1RYiF7117SK+uw9kliUIAHHt3x6FN44OFmh0ZVR1WFoZcMkp1hIWvzRvZn5FNHGPGJQXh7dxb2ocR37ERGx0XgpxE0n9jIhiO5FDadnvc0qDUqlEpA05dRY+MIDuqZQUDlN4br5kxjwviJ3LzweobHBp2hgFXQusEVzeiaTVguosGpcyTKdu2k1C+GyNBQvFRgyTvAobQSKk1R9OsfhI9PD0NnDCkcOV6Mc9xYBoSGXt78+e2Qig5xzOhDoJcffvYKLNk55NfUo1UGM/2ee7ludAK+7fLaydp6GnRGTJIKlUpBd/wCusIxdBgz/3IbN4xPJNDtsiTA6YgqgIn3PcPfH5jP0GCXVmW+mqB+icSGBuJsqqS0op7Gy6AIvdKQ6+to0BqQnN1wdbC/8FSgrViKNvHNjweREqcydfTAM6IA1Y6OONhpUCEwGQxYzNaLGqnSgj3BY+7gzZ92c2jPer7659+5feYIYvxc2tQuM1G6YyUf/Oc3DuQ2X7BMcuUB9pW4EhgSSbSfCqyFHDmaRl6JnvC+8YQE+Pd6yii5/gC/7jUSGp/EkITT0QUyDQWFlFZWo/fwxsfDvYOBvlMUrrg4O+Fo10RDrRZd08V6XqwU7NvD/uRTlMkBRMaEEhTcWYSFEs9BIxiW1I9wB4Ehcy+7Dp4g9XTaQIUataZlTkMdycDBicTG9KzegtIrifHTZzBj2kTmzp/F+CGxZxgWFK1KXTBgMBgxXUSDU+fIVCcfoVjpin9sPEFqsJac5FRqFvm6EGL7hBMS3FPPHBPZaenkWnwYMCCOeO8rZ8GTKk6R3qTEwSOMMCcF1qJiSsoqqVX4M2b+LcybMZrQdtGDcnMTWm0zeqsSpVJ5QetdzxFoT+3iSLmM54DxjAxuffJlLeXlZZRV6HDz8sLT07PHigBzQRZZmVqc+g6k/0C/K6J2DAByFZnZ9ZiEB1FRziispZSVFVNarcBn6ExuWDCXSZHt0h0LPTpdE9pmCwqlCqXy/3PvBRs2bNiwYcPGJeOyB+oqvUbz1xUrcXj0fl775QR5m78k37UfC5fewIyBgbh1qO6qImL2QzySqeL3+nhuubkfgd3STl4gnj742mnabEg1uHr/6W2tPXWSrKZmjKc/EFbKDq/he+NB3DQKQNBwuJhG4+lNopHCvAJMxiSugMtwBp4+vthp2my9Na54n9uxvCOX0qtHFcmQ4ZF4e7XmC3d0xF6lQu0ez7AkX7xad/QqBwcc1EqE1YJoY92Rin5n84F8KrQeTHhyERPiw+g0q4xDApMmDODL3RkcPX6ElJp5DIr1PiNFhSpyCMMjvfFq3Wg5OtqjUqlxjx9Gkq9Xq3JBhYODA2qlwGoRF8nQdA5kAwajFUltj51S1UsbIon81e/zn8NuTHl+FoOi2tUNUbri4mKHRg1Ym2nWW7G2lLq5BNjhFTOa62NGc/09z4OlkYJjv/PTyg/4ZPUBcmuNNB78lfUn5zM4xp/wC6mOKlVjjb6GqQPDCHBRgDmFLTtSKK+RSJg9gTh/X7qVxUdpj529CpXSiN5gRbpYNlipjBMn86io0SPU7nh5OuDQlbbTeQADE4Pw26GitLKYlBMFVFcb6evezniiVKFWK3peD0vlx+h73mb0Pe1l1VJ4eBPf/rqPrIpmBHaYTRLSpbDOnSkItVIEE8YPJCbMHSVmUnfu4VRhOea4vzAuPoSgHt5DUkUhRTUqfK4KxtPzctRb6hqpSUXs6BHEhgfgqLCQkZZGSXU9ou+NzBzVh0ivjuuZOTeHgroGdA4RhAW749qrqQYvNwpUkVcxZUx/+vqfqbJWOjvjZG+HBiNGg/kyGP6uPGSTCZPVgtJOg0rdSxO/VMqWr1exS9uHeTOvYki7uiFKZyecWg04JoMBvcWMlUv05qVxJ2zQVG4dNJVbnwCrrpS0vb/y1fJP+X7bSUq0Wk5u307ydWMZGjWge8aHLpDqJUJGjqJPYjSeSrBk7ufgyWyKDNFcNzKBqB7WMjprn+V1uA+7ij6D+hH0h05dT1ZWLsWltTiHRREZFEi3yjYoNWg0GtQqM0aT+eJFZkpVZGXlUFDShFCH4+7ujHNXIVOOfYjrE0lYgJqsggqyM/MoLtYx0red8UShQqVWourpCVZ6kTT/GVbOf+bMz+VmylJ2s3rtVo7kNSILJyxmK1brpV/vGuVAkob6kBDvgxILuclHOZ6Wgy58EkP6xRHb05tXqqG8rBKzYwDB/v70apmlC0RuVhHarz8+8VG4KKwU5OZSUFyBJWI8V48axIDAjmZKS0kRJeWV1Nn5ERjojfeFPNQ9RqK6yZmofoOIHBPNHyZDUxGFhfkUVjkSfHUEoaE+PZwTZOoqK6nQq/AJDiLoSvL8kPUog2KJD40kzk2BVFJIQV4BJaYQho0azfDhIR2Ny5ZyyspKKKvR4D3cH19fjyvHSGTDhg0bNmzYuKK5IrT5SvcIkob0JSK5iubcCnTaFL5+7AYK8t/jg79fSz8/5zN0rkqfkdz9z5HcfSmFVLR613a675KoraxGZ7b8GS4sV3Lwh3+Ts96OtiVfNJ5BRHoCKHBVmlFcFm362VEoWgqJX0mKvHOhUPsQ4O+IQ5uUMwpA6R1AgKPDn/nKFZ2NSqbp1Cmy6hppVgfipD3KtvWVHOnijdqS24BeUiJXFVPcoMcgtc37rUDtE4B/2z5bJME7IABHB3vOKsqlxGLGbJUQKjV2p4vHXyBSwf9475M9qMc/zbxhMfi3txyo3FoiL9QKMOpobDRjsQp6zV35fNC4EzF8Lk8MHc/wyLt46L0NnKrMIyOjDq1WhvYpW84HuyEsemzIH78akrewM6OcWtVQbp0SR6CffTefL3vsNCqUCjNmk4R80Ywq5ZRXNqHTC1CKc6QncyQ0LBB3V0cUlXpqKyvR6fXIOF1U25jUkMPeX//L16sPUOs1kEHuPnh5OFLYdBE7PSt2DLzxXgae/tVwgp170yisgKS7xxMfHtzj1EaytgmdsYx1S+by8yvK854rlHZ+THpyOa/eM42BvZzk3G7gjdx7etBSKWnp+VTVmQiZOoAIX59OjIUWsk+kUFRZi4i5lkR/H7z/TzmBKnANDiPEy6ujMtCWMqQDVrMFi1VGaa9B1SvewBKlW77im63VRM5exMRhUTi3O+FKF1dcHOyxA4x6HTqjCZMMDpdBa6Z2CWbAtPtYNnIocc8+xZtfbSe3OI/cqhpqJC7IqKJJuJ5FCad/M3Jy30FSsouRE//C2P6xRLQ/Mb3AmX22YsklM7uYkgolYaNiCQkO7OZmQ4NarUatsmK1WJGsvS5uC3IN1bX11DfJIATirOudPf4B/vh4u6IoaKCxtobGpiYk3C7qBkrSFnHs99V8+8N28pWRJHp5EeDnTFrV5TLMaugz7Qb6nP7VlM6R5BOk5VqIu24EAxNie56yS7SkZirf8R0PrfuER8/XE0OhwWvkHbz84uPcPiGiV6OxNH2mccPpQctV5OXlU1yuw39gH6JCQ3DpIKqVosxscgvLsIZOJzYkhKDLstNWE3X1LKLaS1dcSGFeAaWKYKZEhREe0lPhZAx6A80V+/jmmU18+7zyPNc5BWqPwdz01HM89dAMYnvzoqmjuHrW6ZHL1BQVkZ9fTJNPNNFREUR2cqNaS/PIy86lyBzEuKhwIsKukChYGzZs2LBhw8YVz+U3qhgy+eHZB3ntaDxPfP07ifnf8PJLy9mSWcmed+/jbusKPntmFgn+F1dhd2EI9HojstzWQGLHiMd+4rMHhhHpdeVK/n8GjR0apbKjYUCjQaPq5PMzENTV1mM0WRCmNFa/8TSru9On2oLZLCHLZ1Za19hpUCo79qjRaFB18vllQ61CrVSikGWk7tb4OBtSAav/tYId5v7MizGSvf9XMq3tjIaikZSyRloyV2hpqDdhMQu4kKiQTjBnb2FrTTSDE8IIcD/HNKf0Ysycaxj8SzJ5VeVYzNbWa9pbaNm/ZSdZZXU4jpzC+JhAfLptRGq5vwRqVOqLmEZC0qM3WlqihoSe5uZWY1enKeGUeLi74WBvB+gxm01IF037BVJDJlu/+Yh/fbEPKWkBD738GRMTfKlf/RR7ft990fo9X3TJO9mbXkil3RBuGhdHeKBDz5XpGjvUKm8Gz7meSWPizzviRWnnReywwURe5AIcsjaN1OxqanUeDEqMxsfbpeNca8nn2Ik8KmqsRF2VRLifb68V5b4yUODg6IBGY1PCdAeVSoVKqUSWJUTPiw79gVS6la++2kSxZxLXOjWStulHjreLWhO6U+RU6ZEB0dxEk9GIQYD7BffeFguF+/dR7hpMZJ8Y/M+RCUnpPohJE0bw2+6j5KVbsVjl3k2F2XyC/QdTyC5R0f+uUSREh/Vi/ZqzYy3KJKuwgnJzMFfHhhIc1N20UDKyLCMLFUpVaxrJi4FkxGg0YbYCGNDrjZjMgjZ52dqgxNXFBWfHlvncYrZgtVg6adc7yNoC9q/5nA8+2URFwATueORdXhoRgXH7uzxz5Hfg4vV9PujTjpB8Io18RTw3DR9AfLTzBRiP1ajVajzjJ3HrVVMZdb4p1BQa3MP7M6R/wEXd1MrNueTmF1Na50J4TBRBwZ2kzrKWkpGZTUGJgeCxfYkKD71kz925kagoLCCvoASj/xCiIsIJt+/psRSo1CrUHrGMXTCGmRPiOWdJsnbfV7uFkJA0iB7bdbqDMFBUUEBBUTXOIZOJCAunY3Y5iYrcHLKyC2gOGERMTDSRvbwnsWHDhg0bNmz83+XyGlWkEtY8dy9PrzIxZ8WDTEuMxW/IElYNGsKrDz/Jim05HPnoOd5OiuP1+QMIupJiws9AgauLUzuFuZXa6ipMFgsClc1T9VLQRXhNd869g70dSpUShX0Q/UcmEublcg5vNwUOYZOY1T8Er04U5J2LcoXdBQp77O1UKCUzZlnuebFKAMzkfP8WH/52lMyi3fxj39fI51SY1VNTY2hRZvQqZlLWf8tmzR2ER4UR0A3NmcrfH18He+yUHvj5u+DQIe1gz5HrdrN1Tx4Vje6MmjyOCD+v7k+8shmLWUIWGuztL6KSSeWEk6MGtQqQqigv09GsE3Seo0yBnZ0dalXLXe7q7o6DfXcjb84Hmca01fzz2SV8dkDFtGeX8dyt44n11AAS9b3e3wUg13Ng534yi6txGXYno6ND8LsAHbvKPwB/VyUlQcOZNnsuI8J6mqv+4mLOTCOrooZGu1gS+/ri7dHRiGPJP8DB9BIqjJHMHtmHwMCe1di5svm/N6KLhcLODo1aibBYkC40n6GliI2ff87/th3iZO1u9q15D/lcC1lTPXW6ZgwyvZt20pLNrl+3UjNwEr5xMZy7NLkKH28vXJ2dULl54ePqjEuvySPTmLyfQ2k5lDsOZO6IOKJ6XO/i/Puuy8wiv7wKrW8SsREhBHd05+/iq60RKrIajZ0adW/VeWuPygFHB3vsNYC5npqqBhoaZHDu/AJoNBo0ajWgwMnVBScnx4uQGkhGl/s7K994hfd/q6b/4ud566H5DA2wB2Qqer2/C0Bu4uSRZE6mF2GfsIihCXFE9Fg5Dyi98fH2xMFTQ8KY6dw6K4HOKtxcbiwFeeQXllKlCuOq6GCC/Tq+yVlLT3IyNZs8bTCjB8QTFeV25aSRkhspLCwgv6gB78hIIsPDex5dhBJPLy+8nb1piBnG5IU3keTYm8L2EpZiCovyKCxXEjQwgvDwTqLmpHIy0lJJzWogYGA8CXFxZ6R0tmHDhg0bNmzYOBuX1aii3/Mp769NoTb2QWYl+uLZ6r7qGH09Sz6zR1r4IJ/szmfND79z/4QI/F08rtBoFRXeQQG4OdihQt9auFyiODcXrdGEjMMVKreNFlR4hYXi7eyIWvZgxF2v8/zcIYRdRk8lWVdKZnYlCt8owv3dcWz1oJT01RTl5lNhdCEkNpIAd8c/nCtlcyMVBbkU1SnwiYwh1McFe9VZxqDyxMPdHo1Fh9ZoxSpDT3d/htSveePDbTRFXMMt1wTj2WXBEJma4+vZeDCHCq2J6opKDEYTgl5UtEpFHE+ph+Eq7Oy6NyCpoYFGswXJPYnhA33x7LX80DJV27ewr6CCJp8JTB0dgr+nCpAwmwVqtQrl2VJdCC1NOgtWyQ1PT3vsLlaaNFUwwYHuuDgroKGG/LwyGhqNCJ/OrovAYDBitkqgcCQ0MgIP904iFC4QqWQD7zz7Kp9syMTvlg+5Y8ZoYjyvzGgAuWYvOw/kUFzrxYjxI4gM9UUNSGYzQtXqdX0ex1O6J5IY68HGjGQKKsYyKCyEK8+sYiEvNZ2S6nrkyGnEB3jTsZyKhdx9+0krLscUPY8xfYMJclYAFsxmRUvUwtnmKBuXEBl9VT555UacAkIJ9nWjxbYsYagvp7CgjCaVNxERIfi42bfezzIWXQ0l+YVUmV0JiggjwMupc4f/VlRurrg6OiAamzGYzfS8pJaJnF8/4bN12dgNncPiuKCuazHI9WTs2sH+k7nUWuqpqdah08sXlmurHVJ5BtnVzTjjQPdKBklom7QYjGZc+vYnITQI3956UZTrOLT/EOm5VbgPWciw2GgCNYBkwSKUKJWqntf+OCd6MrNyKa1owDk8mqjgILy63VczeqMRo9kJT1cnnC7WO5jKDz8/bzzdlVBZT2lJGVVVzYjgziMkTCYTJosFFA4EBIfi6+vV6+udXLmHr95ayrvfHEAz/VlumTuTwQEXYqm4eMgNxzmSfIr0Uhf6XzuEhPhQWm4vC0KhQKlWn9/5UboQHR1FgHkLqdn5FBoSiLviFPRWSnPzKCipwBI8geiQIAI7LMpWio8fJyUzF23IOAYnxrTWmbFisYBCobp4hsLuYCykqDCPwmongidEEhbmewH3sQLn8HAiQhQkZ2aSnaMnqb9TLwrbO0gVLenOSkz+DI8IJyy04zMllaWReiqFzIYABvXvR3xCSwSSZLUiAJVabXObsGHDhg0bNmx0yWU0qlgpy8iistmEa1AoHg72tNWtqAKn8sidE9mUuYrU/GyKm40MEFxBYdRn4tB/IPHuLpxQNKATAILGI7s5VDWPuBB33NpvliUDBqs99hplr3ifi9YfGz3DMWk0I8K/42BGOr+t+p0FwyIJjPPuPFpFKmffqu/ZXRPKpLmTGBDi0aslQaSi33j9jXXUUsXhXWWE3/oSL94cSdHPn/LD0Xqcg8JwKd/Jr8kqJjz+Kk/MjqRq3Qo+35KP7BOKr+kEG34vJ/q2Jby8eAJ9fLuIIlAFEODnhL2mgfo6E2ZzV+mezo7clMynS1ewW76aZ19/hnlDw85SaFQi/ysdGTmlVGp1lBYW0tTcu/U45OrjnMwqpzK6u4XdZaqPHiOzVovbVdcwNjygE+VwD5FK2LbtMMWVOoJmTmVYsD9uSpCyv+TxTyT+csd1jEjw73oiluupbzRhUfgS2K5mUK+iCiJpYB+C/PaT2aAl59gxCisnMywqvJNgFZmKimp0zQYUzgMZNigYf5/eXkospG9Yw45T2VRbfRjdNxRvr/YF26+UGU+ifM9ujuSX0BBwNeOHRhDipQIpj+9f/A9NE69j5oRhhJ6PPUgVzLgJw/h29y62JOcwOD6IWNcrzHVSqvyjnkrQ5ETCfbw73ivmdHbtSaWw3EKfm8YSHxqEswKMySt5aYML1143nXEDfC+L+DbaIlG+4xM+XpNKeXEmqZUujL3rSe4ZLTjw/ffsyLXgGeKF9sQOkptiufHJJ1k0XMHBVV/x69FaHAP8URTsY0+eCxMefIaH5o0kvIv6HUofH7zdnHHMaaJBb8AgQzdt322Q0aX+yIrPN1ASeQMvPHsPM/p7db2GyKWsWfIIJfl51NZVUVZWT0NjbxpVZOozMskpKCbQYqVbyRDletLSsymt0jDk1pH0jQ7qtVoQcuVBDiRnkVfrw7DRQ4iN8kWFROGaN/m6IoFx02ZxdfRFMlCbssnMLqGyVk34hBhCQs4jJZOsQ6trxmB1J8bbDbeLFZ2u9CUurg+RYR4crKyjOCOdvMIi9En9OtTjAZmamjoaGrTgGE2/xEgiQ3r73FnJ27OdHfuTKTZ7MD4yjMBA13YK7yvlLV+m5lgyx1IzqfQawA2D4okLVINUwqaPVpHrncCUG2fQ97y8AFT4DxnOkJgt/LTvIMeuGkXs0N43XF0Qci25eXkUl+vwHRBDREhwx3oqljySj54kLbeZ8ImD6RcXi5sSTGmr+WhDHaFDZrJgfOhlER/AUlxIQV4hZYpgpkWGEx58Ye9tSp/+DBqcwIYvjrD/0DHGJ47B98q6aNQXFpJfUEyTVzQRkeGEdQjNsVJ06hTHT6TTFDyCAf37keChBHM2G/6zgXxlLNfecQ2Rlz9Zug0bNmzYsGHjCuWKeP2xmIyIDjkblPjEROLvZI/a3gH7Xiqk3WOEQMh0uadR+k/mmnHBeLn+ua2Xqzbz+bdHKKkxnJlaSapi++t/4bq/fUNWmbarDrGYTEhCRqDl8LcfsTq5lAaTEmdnR1RnuBkaMRjkM9JeCEmmffYlIQQdPux0qIKzDPX/Ji5juemGscSGOFG18W1e/mQjJ8p0dNTJS1Ssf4+XX3mFF/7+T74/UURtb5aTkBvY+c1W7KbdxaOvPs38eBN7Vr7O43f+jQ1OM/j72x/zr9df4rXlS7g5sopfPvqAtx5+kM8rB7D49Q/48K0lLPnXv3horIojX3zGpsxiGrtKh6L0IijAAye7WkrLmjEYz3bFDaSvW82OzBLqLW3aScVsePNF/r1XxeQHFzMxMeQsBhUAFf5BAbg72aNEoMvLoqBJi6GzrvX57Fq1gg9W/sax0tN1WM5N86mTpFcXczKrgCad4dz3seEkP63eTX5zIgsXTaZvaCcRcT2URSrZya5jZdQYopgwZTBBfq4osZC5/SAiOAwXj3NE35kqqKzVY3YPItjFseeFz5Fb6xfIdF49R0X01GsYEx+JjxqMKTvZllpIib6TtpZ8UtMKqa6zEjDxeqb2jyG4t409ciMFhaXUNxlANKNtMmM+46TLNBsMmK3Ws4zpEiGVsW/fcQrLtISPGc/g8BA8lGDJ2UOy2RM/Fx/O3+akInDKzcwdpib5u+/YdjQf7YXl5+t1ZG0aaTlV1Orc6JMQg49XeyUgmE/tZl96ERVyPGPHxRMa5ISCZo7tSUPl442zr8d592uqSmPnup9Zs/0kxQ3GTuZoG+eL3HSEX/cY6DNlMa++dCsjXDL5+YNnuPvx76mJu4WXP/yIt155jff/cQcj1If4dsWbPPLYp6S4TOaJdz7mvaWv8vY/H2VmSCnrvvuNg6mVXV4XpbsfPl5uOGmrqNI2tTqhdIExj52bdnIsveyMOVeq2MNn73zCuvI4/1HxggAAIABJREFU5i+8lrEJZzGoACi98PPxxM1FDUJPSUERtbVNnaa8NJQcYd1Xy/nkp91kVeq7mRbTQHZmDqW5J8gvqqW26dzfMmVtZtOeE5QGzWTulOH0D+yoqO+ZLDIVR45wIreQhuDhjBkcQ5S3CqwFHDqhx8HVlYCAdhOSoYQj675i+Sc/sTurEv0FzDXWoiyyisqplsKIPq96KoCljvq6RnQab3w9PHDvkaeFQCBaV4WWfzu+9qoIHTWW0UMHEmwHppwjHDiRRmZnL0vWUnJz8yguN+E9fCLjRwwhtrcjaGQtZeVlVNXqEMJAs86IwXDmemcwGjGaLWcZ0yVCruL48ZNk5NQQkDScQfF98VeBtfgYqU0yGtcQemJzUvqMZMY14wiq2sr/ftvKibora2aXm/PIzSumtM6Z8KhIggM7Gn0s2Uc5fiqdPFMkg4b2Jy7WDSUGMo5l04wdHqHnTgrYHlNVOjt/WsmKbzZytEh7AWl6JSoKC8krKMHsH05URDhhFxoIpfRi8MQpTOxjYP/PP/Pboeoraz0W+pZ0Z4U1OIaEExka2tHoY83nVMpxTmbqCe2XxMD+CXgowZibQm69HuEXRdDFMKjIzVTmHGP/geN/1PuyYcOGDRs2bPz/yWW0U6gJGzSAMFcHdCnHSG/UYWz3VmFqaEBrhcABgwh3df4zpURzBmvfforHXvwPe4sbMPX224gwY7a2M0o0a2mSpK5fGJV+XLN4ISPDfP5UfIpmji5/hIeXfsuevAZMkpWG7K189MA87l3tzryF4wkKcAFA4eKMs1rVRjEgkXVgJznluSSvepnnV6ahU4BKrSIoNgZfJ4c/vf+sJSTvz6Rea0RGpuHE1zy97H9klLdVGlipKa9orfHSdqhmrPKZKslmbdM5c52bLdZ2NTOsWMxyi+GpFYvZjNT2AyFjtUq9uhmUJSuSLBBCtBqSWg8uWjedQkaS2mxAW/8jhNz6vdNHUhF945M8NnsEUW4N7Hv3HuYseIClPxyioMHUUkDWUMHR71/ivue+ZE9OAy4jJzEu3L81qkFGskrIokWWtscWrUXghSydURBetEY0Cbn1e4DcsJdtpUEkhvrgp6qhut6AoTAdw4i7WDxrNLHerVEnSg0qtQJLyhq22U/ntnmTSApyab1/FCgVCuT6aqoNprMYANTExEbi7myhrKiaZr25S9W0VLyWj998gaeW/kZKibbFE9dSxrZlj/PcFyfwnP837pmUSIjzuacU+6hIQt1ccFSAVJJBWkUTTZb2PevY8/7jPPzYozxy93xueHYVxwo6V4KdiZn0k2lUNdSTueF7tqQXUnu2mi1yHXs/XMpnu5sY8MDT3DY2Dv8O7vY9lQUsuTnkN+owRoziqgQ/fJwVyPV7+PmAK0lJ4QR3FUV0+vtFhRQ3GiCiD9HurnTj9HY2SAzNBqxWCYQJg96KtZNatyr/KSy+/VpGxvugMaex4cetnMys5MzTJ9N4ZD2bj+ZQ4XkN9y++lqFxPn/OW7IVq7XVwGs1YjidVu58Udrh4NBat0U0cXjDeo5mF6KTAFlH4d6vWf7ddlKLmxGygaZGIyaTjMVsxipJLc+byYRJsrbM2ZIFS2d1g4QJk0nC2tIIi0U+d02G9lgLyC+so1EfytBRiQQHuqKUGzi4/jCamD5ERAb3zBhmH8/8Bxcz3nk/77+6nF8OF9N8Be28zRlpZJbXttRTSfDF26tDOCb1xSVUNuqQ40YwMjqIQAcFUul2Nuf6EtcngsjzLDwjVWzkjftv4YY5c5k9eSxT7/uAzek1PSjdLCNZTBj0evR6PXq9EbNFQhYgJCtmo7Hlc4MRU+vnZ37disVkxmxpeU8QshWz2YxFkv64x2TJgslswSrJLXO71YLZbEGS5DPksFqMrXIYMJqtLX3JEhZT6+cGQ+cynCGPhMVs7Hw8shWz0fDH3wwG4xlygoz22AHKHP3wDo7EuaGOBq2O4jwjfWfM4bprhv8xryvVKlQqiZxtB7AmjmfGrAn0aU3Jp1AoUCgETXV16Jr1XZs5VWGEh/jiqaqmvKqJxi6N+TIV2//L8iVP8coPe0mtabnK1qqDfPbqEj7aomfUojuYPS4Bz3Mq3+0ICQnC29MVBRIV+bmUVdd0XBv1R/l26dM8ev+D3HvLQp5csYkT1d1QE1ryyMwpoaIyj90btnE0paRzR4HTI2s8xrfLv2R9lh/zHljEtaOjO0ZI9FQWLBQXFVNTqyVo4DASwsNxV8o0Hd1KsuxHaGQcEWd0pufot0t5+tH7efDeW1j45Ao2neipclSmJqulnoo+oE9LPZUuIpY6w1pVQWV1HXr/UEL9ffHuoVHFbDRhMVsBM0aDBbO5Yyul9yjmLJjN9JEh2Fvy2L1pG/sPF2Jst97pUnez++BxcuzHcNNNc5gyPPjPd28hYbVKSJIAyYTJaMbcEycbpR129nbYaZQgmknZs52DR1OptwKynvJja/jqv7+xN70BIUzotAYMBhmrxYKlNUURZgtma2uUlGzFKne2XzFjMVuxtjTCapW7Gc3bBmsZpaWVVDX4k5CUSEyMF0pZy6ndJ9A7ehPVv0/HCI5uYUfUlJtZOCOG8v+9x/ufbySj4cpR0Vvyc8kvaqmnEhMbQnBge027TFNlJRU19VjC+5MUF0O0swK56jD7csAtMI7+4eeZxNOYwYaVr/Donfdw/5138PgbX7OzpIfnRG6gsDCfgqJGvMIvtJ7Kn2jCxjHnL7MZZNjCinc/5udTdVeOYcVSTFFhPoXlSoIjogiLCOkQNSdrq6muqKLGFELfxHj6xrmikGs5cSSHZoU3iUOj6fUkfEJH2pp3eWzBRMaNncCCR99hbZqut3uxYcOGDRs2bFwiLmvwh92QRdw3KxH/2jX86/O95NTo/3wZ06fx/X+3UqQYzl2LxhHi69wqrETxT2/ywjsf8f6rj/DClymUNfRmqICF8r3bOFzUgK7NYa25O1l/uJg6vbVLZYHjwLt55bkFDA1z/zONg7mUbe/dzdWx/ni6OOHTdyqPb3Di5leeZcHAENxa0y3Z9R3NsBB3XP74oqBu+xJmDEhg+O0/4zl/IeNj/HFRgePoOVw3MACvP5S/Jk58fDvTp1zNiAFRxIx7hkOyO/YODm0usJWUL5/i0WeW8dPxKrQWAZZy9m47TFGDrk26Ciu5O9dzuLgOvbXzkUp1x9lztIjG5jaqLCmfAzszqG4ytihrrGXs3HOKusa2kQIGso+fpKpZ3wsv3U3sWjafoTETePrnE5TXbePlaYNJnPIcny69i+nTHmXlgTzq0j5j0Zh+DF38ER8/MZurbl3KxpQKKjc8y+Skfsx8ZSMZVa07brso5i/5gDfun06Cj6Bs39e8cOMIYgL8CQ4LwT8oipE3v8aaU1Wo4m7ipRfvYGycH/baXSybP5SYCU/z84ly6ra9zLTBiUx57lOW3jWdaY+u5EBeHWmfLWJMv6Es/uhjnph9Fbcu3UhKRSUbnp1MUr+ZvLIxjapGJwbMmEz/EF/U6Slk1jQhD72DRxeMINbP4Q8FvFRTQFGlDlPI9Tx05wTiQ9t4iZsLKSjVYnQJIMDJofNa4wAo8R0wgGgvFyoy06jTdu0Fpz2eTEpVOUe+fpJFi+7msaef5r7ZM7n1jQ00DH2IFxZPID6wfXqmzlGFJNA32ANXO8CYyo5tmVSWlpC2eyfJ+dUt96aso6ysBr3RApjI27yJAyWVXUfdnEYqJCWthAZLKKPjq/h+2dusXJ9CpV7q8NzK2kx+fe1uHvzoJIGLXue1xVcT52PXcQw9lQVQ+fji42iPU0Awwc6OOMoV7Pr3N5T0m8CIuHC8z6pTlmnKzqa40UT4wIH4eLj3bMI2ZJORU0NdkwRCT35WDtX1jZ08gxrCr3uCl59YyPhYD+q2fcSr769ie1Ztq2FFRpe1lreX/YfdtXHc9/rz3D4pEd82egKpIZ+C8nqaTALkIjJSy6ip7dpY1zUuJI0YTGSQDxoE2qMrefy2BcycMZ0JQwcy6fEtuCcNI6FPAGqaOfLdqzx913Sm3fMeW09WICHTmJ1LUW0jzQLkyhKK6rVo2y0VcmM2uUW1NLY0oqSoHm37RudC6Y23tzOOTn4EBrrg7Cyo2v8lP+SHMmRQf+ICel4NxTnhJp77x4OMta7hubse5JVvD1DUaLmccTmtWCjIzKKstgER2Y9+gT54d/DmVOHm54unszOevv54OTuhsRSx+YuNGOKHkpQY0w1l+JlYc1NIL66m3gLIWjJW/4cfdqdSeNZwh3aYTvDZ/VOI93bG2fn0jx+zXl3HyWqJpp3LuGFMFG7Ozjg7OeLkEsSkJ75mX5EZkCjd+Ca3jgnHzSWS+a/9zPFaK5Wbl7JwbCgubjHMW7KKL976K7P6++AWOZdXfz5OrbWSLW8sZGyoC24xc1ny81EqijbyxsIxhLs54+TsjLOzO0Pu/pDNWc1Ys37gqTlD8HNxxtnJCUeXICb+7Wv2FnXUDlvS/stTc5Pwc3ZqPY4zzq7hzH75fxytlqjZ9k9uGx+Fa+vfnJyccPYdxQP/3k5Oc8t5MzrGMXbMQOIjHMnLzqOs2kDCnNuYN2k4UX9oSGXqy8qorNfiM/EW/jJ9DP18/ryA5rIyKuqaUPv44Ori0vVaoPSkT58ognyaKMitpKa6q+dNR0ZaBsUFR1iz7K/cc/s9/PWph7hp3m08/1UGIQse5q45Y4ntVv0rFQHRUYT6tTi9mHMOsT8tj+ziXI7sTya9qBaTAFlfRVVtEzqjAHMx+3YfJDO36pzvK1JZNjlFlWh9k4hp3st3Kz7iuz15NHZwFpBpLtjB8r//jbc3mxj/2As8PHcUYZ1YXXsqC6jw8PTExdkFX38/3FxdoOYI36/Oxi2mP4MGhpypJJT1VFXV0qQzIjBTvG83BzNzqerJS5qsIyszh/LKRtyi+xIVHIxntxctmebiUkor6/GIiiU0OLhn6dBMJRQWlVBeYwFhpKwwn/KK6k5SsqkJuvp2Hn/ifuYN9af50Co+/HAl/ztchkFukUdfuIPPP17JmjR35j75FA/eOJawNhXUZW0pZeVV1OgFyBXk5xZTVtaN6NgOOBLXrx9x0SHYI9Cnr+bNR25m+tTpTB49lAl3/Ydqn0SGD4vCDgNp65fzyv3XMOOuV/huRz4WZLRFxZSUV9Ekg1xbSXl1HXXtrM2ytojiknKqWhpRWV5NXftG50LpjoeHG66u3vj6uuPuDnUn1/Jbmoxv3AhGRF5AiXnHKKbf+wSPzgnixEePc//fP2BjeifGz0uOlbKCAorKqpCCY4gNDaZjAJYSZ08vvNzc8fDyxsvdDXtrOft++Z0yx2D6jx5C+wCxcyGM9dTV1tGgF2Cp5ETyYY6eLOpeesH2xzIUUliQT2G1MyERkYSF+/SSAsCBsPG38vBfb6Zv4Vc8c99jLPvlBJVnjXy/NEiVJRQVFlFm8SciMoKITkJzlE4eeHh54OHhgaeXBx6OElXJG9iRa8K933hGX2CKtM4FKyI9LYXUjEYkqYGMlFNkpBX1fj82bNiwYcOGjUvC5c0Sqgriulc/Q+3zEi8vf5T5h1cxfkwSYfY1nNy8kZOakTy2/AXuHBOB5x9FKxQ4Bwbg7WCHWu1GcJBrt4tRnxstm5+/noeX7yG7rp3iynCKTxeN4Ydnx/HIyhU8Mj4anw4pb+zpc9NbfOMfx2v/eIfvDxbSeDqMRjZjsLoRPf42nl36NPMHBeHWtpqr6zgeWfIwuY8u45fjZTS3bmg1vgNZ8Oy7vH7LYELdWovl2Q/ivjeWUN78PJ/tyqbOKIOspeTUEeojJ3Lnv17lMe/V3P54CY3ClZDIGKKjIggNDSUkNAwvJxVK3Waen/cIy/dkU9du42849SmLxvzAs+MeYeWKRxgf7cPpoZr3LGXOve/ye3r1mRsdoeXQOwsYn/4qa98bxsFn/sqy9SlUGNpqniXy/3s/U08e5oPv/8Gc+MBzpIo6G0rUajvsVCqUClq8eJUa7DRq1Bo1dmolCoUCEChVGuw1atTqFgVQi9gKlBo7NBp1a7tWXPoy97VVDJn+PSs/+YIfNh4hr7aRypJGQI1ryCCmz72Hxx5cwKhobxxVgFmN2s4OlUqJghavZKXGDo1ajUZth1qpoEUUJSqNPRq1mhZRWk+gQonGToNGrUIVMoEbIlvOVfovqRTXW0m85mpi/P+8BgD61BSy6prxGjGOgQE+tC23YE5N5mRpPfQZSLy3+1nPsSpqOENjvNlxOIX0ukaGyr54dNJe7eKCk1qNUq4nf/cPfLQbQE3gpKd459XbuSrOp/t1ZewSGDQgEK9dKZRXN5P80R1M/NIez+H38PqbsfQNV4DSj0k33ciWk5XoClzwdTChs5gwSpzVFCzXpXAqX03SvW/y8oOjsGx+h5demMVnryUwbuJVDOkbjJuimYrMQ2z9bTPpysH85ZUvePj6QQS7dWJQgR7LAqBJnM/iG/aQ/c1evv53Mz/X5FIVPI+/PTiG+IBzGaGMnDqRTo0+iHEjwvHx6kK+LrBkb+Df36xly6ZN7D1VTK1eABJFv/yDu3LXMSxpAFfPu4t5VyUSerq2gNKTQbe9wZcJI1n5/od8+evz3LDlM/r3j8GXSrLzdXgPnceybxczPSkE91atl1R1gP+u+JTPv1vH4bwqdBaAWra98wALd33JsHGzueuOaxkR638WI19blPhMvJe/3VNGw1ur2J3XgLbwKPvqoxhz4yN8+NebGReQg095Dvk5FRSVp3DcZwFPPzQd74qNLL3vJ1avP0hGaX1LFEP1Vt5+6A72jBzHnMX3cX1oOZtX/8hPq9dzMKO0RUlPNVvffog79oxk3JzF3Dd3HPFBzuc+55o4Zi2cx770/5D842cs2/4hJdU+TL33HiYMCeskR//5oMRn5H2882kEsa+9wkePzWDVR1cx49pZTB8/jP59IgjwdMFBo7zEhVStVFVUo9MLYscNJTrQr9NoHMdh87jt+sPkr97H95/Usb6hFF2f+TxwzVj6+Z+/sUkTN5zhfUPZl1pOsV4GazlFRY006WRw6a6FpqWQskqlQkFHY2v7tgq1qmVuPz0+pQq1WoWydX0547gqDSqVEpVa3dqmfRMlqtPHU6qws9OgVv65bnQpr6rlO8rOLrJCiVqpQtWhs65QolJrUP8xJiX+w6fjDyDl8WNOARXacEaMiCcyrO39byAnO4/yGgf6z+xPRFjblFsWctIyKCgzEHZNHwIDzpaOS0Vo/37EhniQlp1NRVUdUoR/J+3VODk5YmenRtaXkrz+C5LXAypfRt71Mi88MIeRod0z5ANoouPpGx6EnyaLAkMa3z1zA2uWeDFwwd948fEo+ihA6TWSa2ZNJjm7kiMmJxw0IOlbnE66Hk+L8bvQFMb1f3+Ux68PIO3rZSy7axrvBw3h6vEj6R/hjZ2phrzju9i45Ti6sKnc8+5j3Dy+L75dTIg9k6XlvMVOnc+cgyl8cvQ3vnrrGF/XVOMyeiF3ThvbsTaT0ouR18xicnI2lUdMOLV01OJUdL6RIpacloidWg1Rs/oQEnyWemEdMJOfl0dRpT2x42KICHc6rznNWnKQtT+v5odfNnHgeAZF9S01SMq3L+fpkr38OGQIV828idlTx9DX5/R650bfWU/wXtQgRv77Az798UPun/Uj7yb2JdSxkaLCOjTRU3h8xb3MGxeHT6tOVq47yfpv/8OKz1azL6OEehNAA4e++gf3Hf2V4VfP4pabr2PSkIhuzv9KPEcs4K67y6isWcHaE1U0l6eR3NTE4JmLeenxO5nZt55fl9aQfjSftJoc0kuiuefWqcSpT7H88SdZte4Ap3IrMQLUH+TLJQ9xYsNVXH/rIub0U5Gy5Xu+WrWOA6dyqWxpxMEvl/DQiQ1cdf2tLJo3lZExHudWtKsjuXrWdRw+XszOLd/xbt5atDUaBsy+jeumJl5wmSKl5wAWPPMOQRHvsfSdN7h53X8YMnkm18+cxMikeKKDfXBzsjujBufFR6Kupo6GRjOhif2Iiw7vNBrHod9krr/+CCmfH2P9l2+S+l0DDV6juXHRtVwVcf7GJoV7P8ZMns7UIzlsLAcHDydoasDC+W/eLcWFFOYVUq4MJikynPDezGmlcCf+2kdZGhDOijeX8eGd0/l6wHiunT2LyaMHkxgdgo+HM/aX9qIhNdRRX1ePMSiO+Pg4ojsLzbGPY9z067n22Mfs+P1b3ir9DX29I/2vvY0F02JxvBiCKYOIioohOtKJ1EwFkbF9iIwJuhg92bBhw4YNGzYuBeIKwdyQL5J//0V898Xn4otvfxbbTxaLRqNVyJ22NonKlH1i78ki0aC3dNHmMiPpRHHyJvH9yvfFsqVLxbIPvhC/Hi4SjYauxtT6taYikbzpJ/HlZ1+I//6yQ6RW6ITJ2kVjc7VI3/6j+PTdN8TSf74nPl97UOTXG4RFFsJaclTsOpQpyhpNwnpFnqD/P7Dqa0VpToo4dvSkSM+vEjrjJbrfpHLx4yNjRYzvIPHg98mi2NC2V5M4sGyuGBgcLGYt2ykyaqUz/nbknQViUHCAmLJkk0irspyjI7NI+fgWMTQiXty8fK/IbZQ6b2bKET/+dYro46URChBgJwKufkKsOloqdF185WwYUr4Sj0yJE/7eQSJuzA3iqU9+F5k1zaLzW10r1r3wtFi5/5QoM5/9uNbcNWL5F1vFqeJGcXrk5qpUsfXbd8TT990i5s6cJqZfO08svO8Z8d5P+0Verf48n4/uy/InBlGZsVds/GWt+P1Ygajr7pyl3yvemDNARIx4WHyfXCz0l/w5loS+Mlsc3bVB/LJ6jVi/LVnkVmmFqQfXu+dYhb4qVxzdsUGs27RXpJY2CEObm8RaXyCO7dggftt6RORWaYX5Ms51xupscXDLWrF2y2GRU63rfVmsDSL798/EC7dNEPEBrsJO+Ufl4g4/Sjs/Me3FteJY+bme/66QROWaZ8TMq24UL649Kso7eTDNVeniwJ5kkVXeIExnHatOlKftEZvWrhM7TxSLen1XC5ok6te/KK4bM1+s+e1I14cz1onirDSRun+FuG/SVHH3u5tFav0lvSn/zyJVbxKv3zhchCT8RbyzPlVo215X8wnx+cNTRVzwePHEt3tFSdvLaE4VXz42XfQNHC0e+nynKDCdoyNLtlj15LViQN+Z4sUfj4iqLm4Jc9Em8cbCkSLIQdFyb2t8xNA73xObMuq7WCvOhlFkr31V3DwiTPj4R4mhsx4Ub/2cLIobupjIm3eK999aKX79PVMYz3pcqyja9l+xav1ukVp1+lgWUZezT/y84h/ikTsWiFnTp4uZs28Sdz3xpvhqa4ooazKf33tEt2Vpg7FG5CVvF+vWbhYHMspF49kf0tMdiZ3vvyVW/vq7yOx2R39iyfxOPDkzQbjZxYuF720Qx7XnMUrjKfHdM9eLpKS54uUfjoqGS/5IS8JQWyhS928Rv/78i/htywGRXlIn9JdUDkkY6opEyr4tYv3GneJoXpXQtZnCpaZSkb5/q1i3aZ9ILa4/x7x7cTHVFYoTuzaIXzfuFSkl9cLY67JIQlt4QPz4zwfEtYPDhZeDqsv1DoVGeI2+Xyzfmiu6/VrWrq/a7e+Je66dK+7/eLPI62TZtNTliRMHj4hTedXneBfTi+rcI2L7ut/E1kPZokLb1RosiabdH4kHZs4R7y/fcG4RDUfFqi9Wii9WJQt9N0Z0JlZRuPFdsXikt7CLnCH+/sVB0XiR7h1JVyqOrn1fPDZnhIj2cRKqrq4ZCqHxGCpuW7ZWZPbsogm5fp/47In5YvZtb4o1WZ1dtAZRlHpEHD6WJSqazz5gQ12hOL57g/ht836RXvrn/qFngmnFoS+fFvNn3yLe+F9a520sDaL41F6xdet+kVrS1IP1zIYNGzZs2LBxpXB5I1XaoHGPYPDECAZ3q7Udfomj8LvIMl0QSmdCBk/lhsFTz+9rrqEMnhravfOg8aHv+Pn0Hd/J34IHMS74vLq20QkqRy+Cor245D5E+lOczKxF5z6YAWEeuLcNU5FyOZFaTL0lmln9vfBom/7EkMy23VlUyknMGxWGr6eFU7/8TE3CKJKiQvDs8MRr6DtzJiO+O8zOXccpn5JIhFsnaabsopn/5jdEjfuRX3ZmYImazE0LJpAQ4IamB85nDom38t7mW3mvO42lUiqMjrho7LA/h+esKuo67os68zONbwKTbk5g0s3nL+eFyPInDvjFjWZa3Pl1pTu0nT25BqKvm0p8sF83Izx6EyWOfjEM8oth0KXu+g9UOPpGMejqqE5lUHmEk3R1OEmXXK6O2PvEMHxyzMXrQOVOzMQ7WTLxTl5qrqK4oID8ojKqG5sxt0vVqLTzInrQMKI75uTqNTS+fRnh252WzgTEjyEgvpc6tvckJNYTXe1mjL79GJYYQmC3UkDZOBfG7Exyy6vRRM0g3N+PtvW4peJMsgvKaQocTVxgAL5t5j9T2gEOp+bRGD2dobERBMnZ/L6hFM+IOPrFB9IhJkkdxVXjR7B6508kn8yj4KokfP06Tqia0Kn87V8hDJmyls3JdfgMn8WcqcOI8XXoQWSWPTGznuPbWc91q7VUVYNJqUHl6HwOr3AVoRNu4sYzPlPjGT2K2dGjmH3veQt6AbK0wd6byMHjiezeS/XpjqgxKdGoHHE+76lDpiozi7yyKgyBY4kPDyD4PAq6GzKOcSylBIcBNzGofxyX/pFW4uAVRsLIMBIudddtZfAMJXFUKImd/dU1iL4jg+h7yeXqiJ1nGAPGhTHgovWgxCVsBPOfGMH8x9+irryYgrwCSivr0RotZ6aqVWhwD0sgKbGHKeO6gdozkgHDI7vR0hGfqCGMjzp3y/NBrmvAbJbBx+38xyjXUVCYR35xE96xLfVUelb35twonYMYNOthBs16kKUNVZQW5JKdMn6SAAAM3ElEQVRfUkldkx7zmRcNtVswcf37EXbRLpo7oQlDCO1GUwfPMAaODWPgRRKlA2p3Qvr9v/buPDrK+t7j+GdmEkjINllmkiE7WQiTBQQMiUXBImCKVRHFHWipUq/tbb0utdda1MrxSEu1iz2Vq/V6ruVyXcDlunQRaUQEpSdKQiALYGKAABKZhmSSWZ7pH7SH0JL4pGYzvF9/ZmbO7ztn8szzzO/z/H7f85RWNFQDAgCAwTJiQhUAp/j2VKv2cLtsE4s1MT7utC0kgod3qrqxTR2u+SpyxCm2x1xU545NervxiMJnLNX5mcmyt7+tX7xWK/f4qbL2Mklhy1ig6y59Qe/8z+/01t4LlZ8RJ8eZfuSEOzV14a2aunBA3+pnCn78nnbJpcsjYvWPO5cMtSGrxWjVplc3qylqlr57SZGyHf3b+gujmy3KqaxCp7LONPN2Fgge2aIn/muLIqYt0cySnH70bUDv/NpX36iWIz5lTM9VsjO+R7hu6Fh9vfa2HlNcbr5cTkePi0evara/r9r9XrkXlWtijkvePz+ut6rGqtTh7mWSyirXBQs0v7RSj2/fopq5pSpxZp6xIXBYolsXLXHroiUD/X77Yqi1ulG+iFxFOpP6vQvWF7UWo7Vajb4I5UY6ldTXQMFOeTzdskaM07hxY0/WZBzVBztr1XTQo/Fl0+TOyFCC2ePSaFPVu9tVfTxNsxfPVFle/7b+wihnjVRCar4SUvNN3ng32hg61tis9m5DjrTUPn+4G10n1N4VlHVstGIiTx7ExvF6NezZo8ajScq/rFATCxxD0FDVqgh7inKmpChnJNz1AgAAMEiYigBGnKCaPqxRy6c+TSgpVmJc7GkH6omd1dpz7ITsRSXKjI/rsYLBUMfRT+Tptil3SrGS4qz68Lcvy1NSpsKM1D7u/IxV2bKbdEl6iza/WqXm1s4R0Aj777pU+8YOjZlUIIczcdDuQhxptfh2bdCzf+pQyeLrdX5+2ufoPQSMJoba617RQ3f8RDtSL9eyxbNV+C/0ZsEZBA+qvr5ZrX9JUf5El5J7LkVRp+rrG3XwaLhyC7KUkhx16pxkdKmtzaNOI00FBS6lRDXo/988rITMXLkLHL2HANGTtfCar6rY2K3K7TVq8Bi9PXPode/Vlp1+JSQ7lZV2pqhnNNbSrb1bdsqfkCxnVtoZAy5JMo7/Wf9955Uqy8nUtGWP6PXqNhmSvHV/1Kat1WroLtH8i8tVPDHe9A8M/0eVerOyUWOmVGjeBVNPWwUFnPX8Lfqg3iN/WLIK83vr8hFS++5X9OObv6z8jBJd8f2ntOWwIalbTdu36Z2tVTqeU65Z55+n6clcUAIAAAwUrqyAEcer/R+1qN2SpxmlqUo8bc8uvw40N8vTHa9zy4vkSIzucUenVYmzFuny6Wnq2Pa0Vn97mR7eN0ULK85VfnLf26VYHRfp5uWzpG3r9eKOvTrcNTJiFV/jC3p653jNmJKptKThjVSGrBb/Xj3/+HNqSKvQtXPdyrSzoBA4KaBDzV4VfX2lHrp9sWZkxAzzKoJRpLtFBw61qdtVoinZaRrfM6sKHNahg21qjyjUFHe60nouDbLG6dx581XuHqs9L/1Kd920StuipuiC2WXK6XOPGaviy6/S1Rcl68Dm11S5Y59OjIjTjl/Nf9ionTaXsvIKlTGsmcrQ1eJv/oM27rTJlZWnwl4HMtRetUlvbvtADZ5OdXR41eULKtRRq42/WafX3/OoZMktuuHiMk0wu/VX4KD+9NKr2taeqdkXX6jSdEJS4JSAWrdt0oef+BVfXK6CXjOVDtW9v1Vb3qnS0Q6vuryd6vKH5N3/ljY897ze2J+uBTfcqKu/UqIz9WsHAADAv4bZOmDEidac25/QKyuilJxkV1TPfioKl/vG1fq/eVYlOuMVM+70XNSaOFO3PfW6FjU2yTM2RZmpSYqJsJnYSsOm9Mu+p+/X3KIH17+o6XlOzS9MHoY+HqcYbVv12E+3ylVxs0onpg/aHtAjqxaf9r3wMz3dkKcb775G5+U7NIYfwMDfjFH+3MXKH+4yRqNxZVq66hldYY1WXEL8af1UFJajr97xK5V9N0Kx9njFnZZkWWWfulQP/3aemj4+JiPWpdSUBEWZabZlTdGcb9yqxqbV2vzaHzUpK0Wzc6KHcesnQ56qdXry7aDy5n5J5YXmV1t8kWsxPFVa9+TbCubN1ZfKC/vYTs+qCIdTSXHxGl88Uyu+XqGC8Co99h+r9USlR5P+7RHd/Y0FmpoeZfIzDOhg5bPasN0r96U36cov55221SlwdgvpRN0ben5zkyy5C7SgPLn37wDLGMUnJCgxabzychbqhitnKbXpGf3o0V/rpboYLbrvQX37uguVH8sBBgAAMJAIVYARyGbP0AR7Lw9Gpig7q48Xj7Erw93bi/saNFlz7nhAH99+h9audSnxtqtUlh03fF8Shl2z//1eZacnyd6Phrdf3FoMtb37mFb+5pBKl/+nrijNUbyZiUlgsIRCCvq61OXtVKfNqrDwcIXZbLIO4L9l0O9TIBBQMBSS1+dXwBgRyxXOQjbFutIV28ujEUmpfTb8DY91KbfQ1e9RrYllWnbbEh1+4Bmte9Yh+/JLdY5z+FYlGrGluv5b8XKkpChumNdyD1ktRqxKr/+W4h0pSvmMgcYWXaO7VsUqc90GvfX4PaqMdCj7nGu15rmvqHySS9Gml44Zat+1UWufeU+afKVuXDRT6cN5FwegkIJ+38nzXZhFtrBwhYeFDej5zgj4FfD7FQiF5O32yf8Z57tQVKEqri9STGqWEvs8NMcoZ97XdHdkotavf1UbH75Tr9jTVHTBnXpy9RxNH85r+UEVUsjwy9flVWdnmCy2MIWHhylsID80UwwFAwH5/UEZhlfdPr+CIa5lAAA4G1hCIc76AE4xjlfp6Xsf0ubUG3TX0rkqdPW23wAGUlfd/+qe+3+vuMtu1fIF5yjV/OwUMMAMHXn5B/raPWv1es2xkz2WbBN09U/X6r6lF6pgwGZ4fXrv58v1nTXPaluzT5JkiZ6lDevX6PIF0wZoDIx8hv6y+yU9+uhr8pVeq6VXzVZe703AMAr4mt/U2sc2aL9jjpYsvUSTHWz7heFiqG3zL3X3ytV6svKADEmypmn+XQ/pvtuvU1nSQH0X+VWz7oe6Z9XP9HKtV5JkGTdNj6x5UN/55sUDNMbZI3T8XT314P164NHfqSkoSVa5Zt2ie++7Vytm97GqZzAE6vTij+/X/avW64OOkCSLIkuu1sqVP9T3rpg0lJUAAIAhRqgC4J/5P9G+loCczgRFRzHZMRT8h/erxZokpz3a3NY5wCDqPlSj92v2qdVzMuyQJUrpk6fLnelQzIAtJDDU1rBDH9a36Jj3b43Kw5J03ozJGu+KH6hB8AUR+PRjHeoapxh7guyRfAeOZoFPD+lId5gi7ElKYIUKhpnvaKOqa+u0/+jJsEOWSKXkF8udn6GEAetlZMjTvEu7djfqYHvw5J9sdk0uKVJeTspADXL28Lfpo921qm1oVWdIkiyKcEyQ2z1JExwRQ1tLqF0H6nardnezPH//aOPS5Xa7NTE1ZmhrAQAAQ4pQBQAAAAAAAAAAwAT2VwAAAAAAAAAAADCBUAUAAAAAAAAAAMAEQhUAAAAAAAAAAAATCFUAAAAAAAAAAABMIFQBAAAAAAAAAAAwgVAFAAAAAAAAAADABEIVAAAAAAAAAAAAEwhVAAAAAAAAAAAATCBUAQAAAAAAAAAAMIFQBQAAAAAAAAAAwARCFQAAAAAAAAAAABPC+vPkUCikUCg0WLUAAAAAAAAAAIBRymKxyGKxDHcZn0u/QpWKigpt2rRJfr9/sOoBAAAAAAAAAACjTFRUlFasWKE1a9YMdymfiyXUj6UnW7du1ZEjR1itAgAAAAAAAAAATLPZbMrOzlZxcfFwl/K59CtUAQAAAAAAAAAAOFvRqB4AAAAAAAAAAMAEQhUAAAAAAAAAAAATCFUAAAAAAAAAAABMIFQBAAAAAAAAAAAwgVAFAAAAAAAAAADABEIVAAAAAAAAAAAAEwhVAAAAAAAAAAAATCBUAQAAAAAAAAAAMIFQBQAAAAAAAAAAwARCFQAAAAAAAAAAABMIVQAAAAAAAAAAAEwgVAEAAAAAAAAAADCBUAUAAAAAAAAAAMAEQhUAAAAAAAAAAAATCFUAAAAAAAAAAABMIFQBAAAAAAAAAAAwgVAFAAAAAAAAAADABEIVAAAAAAAAAAAAEwhVAAAAAAAAAAAATCBUAQAAAAAAAAAAMIFQBQAAAAAAAAAAwARCFQAAAAAAAAAAABMIVQAAAAAAAAAAAEwgVAEAAAAAAAAAADCBUAUAAAAAAAAAAMAEQhUAAAAAAAAAAAAT/gqPOggo6itnYAAAAABJRU5ErkJggg==)"
      ],
      "metadata": {
        "id": "S98S8h1RcDwk"
      }
    },
    {
      "cell_type": "markdown",
      "source": [
        "set up the memorization experiment indices for the datasets"
      ],
      "metadata": {
        "id": "SN_figgNlIlI"
      }
    },
    {
      "cell_type": "code",
      "source": [
        "# TODO : now remap this to also include epochs\n",
        "# todo: set up computing the confidences from the models. \n",
        "\n",
        "def dataset_from_indices(mask, dataset):\n",
        "  indices = mask.nonzero()[0]\n",
        "  if not (isinstance(indices, np.ndarray)):\n",
        "    raise Exception(f\"Indices are not numpy array: {type(indices)}\")\n",
        "  return Subset(dataset, indices)\n",
        "\n",
        "def set_up_memorization_experiment_dataset_masks(filepath= None, N = 60000, m_ratio = 0.8, trials = 2000, overwrite = False ):\n",
        "  \"\"\" Create a numpy matrix of 1's and 0's of the form\n",
        "    [0 0 1 1 0 1 0]\n",
        "    [1 1 0 0 0 1 0]\n",
        "    [0 0 1 1 0 0 1]\n",
        "  each row represents the points to include in the model for that experiment\n",
        "  each row has m_ratio* N 1's, randomly shuffled. \n",
        "\n",
        "  \"\"\"\n",
        "  if os.path.exists(filepath) and not overwrite: \n",
        "      mem_exp_masks = utils.load_np_from_filename(filepath)\n",
        "      if mem_exp_masks is not None:\n",
        "          return mem_exp_masks\n",
        "\n",
        "  m = int(m_ratio * N)\n",
        "  base_mask = np.pad(np.ones(m),(0, N-m))\n",
        "  mem_exp_masks = np.zeros((trials, N), dtype = \"bool\") # indices is a matrix of the masks for each trial\n",
        "  for trial_ind in range(trials):\n",
        "    mask = base_mask.copy()\n",
        "    np.random.shuffle(mask)\n",
        "    mem_exp_masks[trial_ind] = mask\n",
        "  #return mem_exp_masks\n",
        "  if filepath:\n",
        "    utils.save_np_to_filename(filepath, mem_exp_masks, overwrite=overwrite)\n",
        "  return mem_exp_masks\n",
        "\n"
      ],
      "metadata": {
        "id": "7L22ONbDWjUU"
      },
      "execution_count": 12,
      "outputs": []
    },
    {
      "cell_type": "code",
      "source": [
        "def CNN_model_factory(device = params.get_default_device()):\n",
        "  m = models.CNN(num_classes=10)\n",
        "  m.to(device)\n",
        "  return m \n",
        "\n",
        "def run_single_experiment( *, model, dataloader,memorization_dataloader, \n",
        "                          model_confidences, save_path, \n",
        "                          tensorboard_path, model_name = \"CNN\", \n",
        "                          epochs =5, overwrite = False):\n",
        "  # set up file path and sttuff\n",
        "  # where we are at. beep boop baap\n",
        "  \n",
        "  print(f\"starting experiment on {model_name}\")\n",
        "  \n",
        "  res = model_training.do_it_all(model=model,\n",
        "            model_name=model_name,\n",
        "            criterion=params.criterion,\n",
        "            save_path=save_path,\n",
        "            tensorboard_path=tensorboard_path,\n",
        "            eps= None, #eps,\n",
        "            delta=None, #delta,\n",
        "            trainloader=dataloader,\n",
        "            testloader=testloader,\n",
        "            device=device,\n",
        "            epochs=epochs,\n",
        "            max_grad_norm=params.MAX_GRAD_NORM,\n",
        "            dp_prototypicalness_labels_list_of_dicts=\n",
        "            None,\n",
        "            model_confidences= model_confidences,\n",
        "            memorization_eval_loader = trainloader,\n",
        "            overwrite=overwrite)\n",
        "          \n",
        "  return res, model_confidences\n",
        "\n",
        "def generate_save_paths(base_save, model_name):\n",
        "    save_path = os.path.join(base_save, model_name +\".pth\")\n",
        "    tensorboard_path  = base_save\n",
        "    return save_path, tensorboard_path\n",
        "\n",
        "def round_name_setup(memorization_ASSETS_PATH, model_name):\n",
        "    \"\"\"get the paths for tensorboard and model saving (make dir if not yet exist)\n",
        "    Returns:\n",
        "        tensorboard_path, save_path\n",
        "    \"\"\"\n",
        "    os.makedirs(os.path.dirname(memorization_ASSETS_PATH), exist_ok=True)  \n",
        "    tensorboard_path = memorization_ASSETS_PATH\n",
        "    save_path = os.path.join(memorization_ASSETS_PATH, model_name+ \".pth\")\n",
        "    return tensorboard_path, save_path\n",
        "\n",
        "\n",
        "\n",
        "def run_all_experiments(mem_experiment_masks, confidences, \n",
        "                        memorization_experiments_meta_filepath, \n",
        "                        base_save, dataset, memorization_dataloader,\n",
        "                        epochs = 5, basemodel_name = \"CNN\", overwrite = False ):\n",
        "    \"\"\" run memorization experiments \"\"\"\n",
        "    memorization_experiments_meta = {} # todo :read this to and from memory\n",
        "    if os.path.exists(memorization_experiments_meta_filepath):\n",
        "      memorization_experiments_meta = utils.open_yaml( memorization_experiments_meta_filepath)\n",
        "\n",
        "    for model_ind, model_mask in enumerate(mem_experiment_masks):\n",
        "        torch.cuda.empty_cache()\n",
        "        model_name = f\"{basemodel_name}_{model_ind}\"\n",
        "        print(f\"working on :{model_name}\")\n",
        "        # get the datasets\n",
        "        \n",
        "        subset = dataset_from_indices(model_mask, dataset )\n",
        "        subset_dataloader = dataset_management.load_dataloader(subset)\n",
        "\n",
        "        # run a single memorizatoin experiment        \n",
        "        \n",
        "        save_path, tensorboard_path = generate_save_paths(base_save, model_name)\n",
        "        \n",
        "        res, model_confidences = run_single_experiment(model = CNN_model_factory(device = device),\n",
        "                                                       memorization_dataloader = memorization_dataloader, \n",
        "                                                       dataloader = subset_dataloader, \n",
        "                                                       model_confidences = confidences[model_ind], \n",
        "                                                       save_path = save_path, \n",
        "                                                       tensorboard_path = tensorboard_path, \n",
        "                                                       model_name = model_name, \n",
        "                                                       epochs =epochs, \n",
        "                                                       overwrite = overwrite)\n",
        "        ## save data\n",
        "        model_mask_indices = model_mask.nonzero()[0]\n",
        "        res[\"dataset_indices\"] =  model_mask_indices.tolist()\n",
        "        memorization_experiments_meta[model_name] = res # update meta data\n",
        "        confidences[model_ind] = model_confidences # update confidences\n",
        "        \n",
        "        # save confidences to \n",
        "        utils.save_np_to_filename(confidences_filepath, confidences, overwrite = True)\n",
        "        utils.write_yaml(memorization_experiments_meta_filepath, memorization_experiments_meta)\n",
        "\n",
        "    return model_storage, dp_prototypicalness_labels_list_of_dicts\n"
      ],
      "metadata": {
        "id": "6AAD92YlqJto"
      },
      "execution_count": 13,
      "outputs": []
    },
    {
      "cell_type": "markdown",
      "source": [
        "### Set up for memorization experiments"
      ],
      "metadata": {
        "id": "WRHHIditZaZo"
      }
    },
    {
      "cell_type": "code",
      "source": [
        "# SET UP\n",
        "\n",
        "confidences = None #np.zeros((model_counts, epochs, N))\n",
        "mem_experiment_masks = None \n",
        "ASSETS_PATH = os.path.join(BASE_DIR, \"assets\",\"MNIST\", \"memorization\")\n",
        "os.makedirs(os.path.dirname(ASSETS_PATH), exist_ok=True)\n",
        "\n",
        "round_name = \"round_0.1.1\"\n",
        "round_ASSETS_PATH = os.path.join(ASSETS_PATH, round_name)\n",
        "os.makedirs(round_ASSETS_PATH, exist_ok=True)\n",
        "torch.cuda.empty_cache()\n",
        "    \n",
        "\n",
        "base_save= round_ASSETS_PATH\n",
        "mem_exp_masks_filepath = os.path.join(round_ASSETS_PATH, \"memorization_masks.npy\")\n",
        "confidences_filepath = os.path.join(round_ASSETS_PATH, \"confidences.npy\")\n",
        "memorization_experiments_meta_filepath= os.path.join(round_ASSETS_PATH, \"memorization_experiments_meta.yaml\")\n",
        "\n",
        "epochs = 5\n",
        "model_counts = 2000\n",
        "\n",
        "dataset = trainset\n",
        "\n",
        "N = len(trainset.targets)\n",
        "\n",
        "\n",
        "if os.path.exists(confidences_filepath) and confidences is not None:\n",
        "    confidences = utils.load_np_from_filename(confidences_filepath)\n",
        "else:\n",
        "  confidences = np.zeros((model_counts, epochs, N), dtype = \"float32\") # 2000 * 5 * 60000\n",
        "  utils.save_np_to_filename(confidences_filepath, confidences) # save the confidences to the filepath (if not yet saved)\n",
        "\n",
        "mem_experiment_masks = set_up_memorization_experiment_dataset_masks(filepath= mem_exp_masks_filepath, \n",
        "                                                                        N = len(dataset), m_ratio = 0.8, trials = model_counts, \n",
        "                                                                        overwrite = False )"
      ],
      "metadata": {
        "id": "A7CkP2IKKwwN",
        "colab": {
          "base_uri": "https://localhost:8080/"
        },
        "outputId": "99e952c4-2c13-4276-a1b1-e0daef00ee5e"
      },
      "execution_count": 14,
      "outputs": [
        {
          "output_type": "stream",
          "name": "stdout",
          "text": [
            "file already exists, ignoring\n"
          ]
        }
      ]
    },
    {
      "cell_type": "code",
      "source": [
        "torch.cuda.empty_cache()"
      ],
      "metadata": {
        "id": "h3r0FsQH1nzu"
      },
      "execution_count": 15,
      "outputs": []
    },
    {
      "cell_type": "code",
      "source": [
        "ds = dataset_from_indices(mem_experiment_masks[0], trainset)\n",
        "dl = dataset_management.load_dataloader(ds)\n"
      ],
      "metadata": {
        "id": "SGL7aKNaMMpS"
      },
      "execution_count": 16,
      "outputs": []
    },
    {
      "cell_type": "code",
      "source": [
        "\"\"\"run_single_experiment( *, model, dataloader, \n",
        "                          model_confidences, save_path, \n",
        "                          tensorboard_path, model_name = \"CNN\", \n",
        "                          epochs =5, overwrite = False)\n",
        "\"\"\"\n",
        "test_single_experiment= False\n",
        "if test_single_experiment:\n",
        "    run_single_experiment( model = CNN_model_factory(device = device), dataloader = dl, \n",
        "                      memorization_dataloader = trainloader, \n",
        "                      model_confidences = confidences[0], \n",
        "                      save_path = \"save_path\", tensorboard_path= \"tensorboard_path\", model_name = \"model_name\", epochs =epochs, overwrite = False)"
      ],
      "metadata": {
        "id": "bxGTss96HTTk"
      },
      "execution_count": 17,
      "outputs": []
    },
    {
      "cell_type": "code",
      "source": [
        "a = np.zeros(10, dtype = \"float32\")\n",
        "print(a.size * a.itemsize)\n",
        "a = np.zeros(10)\n",
        "print(a.size * a.itemsize)"
      ],
      "metadata": {
        "colab": {
          "base_uri": "https://localhost:8080/"
        },
        "id": "JEUY_ou0b-PR",
        "outputId": "0cace73a-7e56-4628-94bb-fe107bbbf720"
      },
      "execution_count": 18,
      "outputs": [
        {
          "output_type": "stream",
          "name": "stdout",
          "text": [
            "40\n",
            "80\n"
          ]
        }
      ]
    },
    {
      "cell_type": "code",
      "source": [
        "confidences[0]"
      ],
      "metadata": {
        "colab": {
          "base_uri": "https://localhost:8080/"
        },
        "id": "SYNBhWkIiNeX",
        "outputId": "c9a33de8-8607-4aff-f81e-0d72588b9b89"
      },
      "execution_count": 26,
      "outputs": [
        {
          "output_type": "execute_result",
          "data": {
            "text/plain": [
              "array([[0.47707567, 0.44953397, 0.24549761, ..., 0.3143184 , 0.20039317,\n",
              "        0.31352678],\n",
              "       [0.45862815, 0.48940971, 0.24364449, ..., 0.3339285 , 0.19999523,\n",
              "        0.33141512],\n",
              "       [0.45000517, 0.48045897, 0.24688414, ..., 0.3326265 , 0.19985169,\n",
              "        0.32362452],\n",
              "       [0.4510264 , 0.46833366, 0.24923594, ..., 0.33651915, 0.1996686 ,\n",
              "        0.330892  ],\n",
              "       [0.44003978, 0.4837275 , 0.2475655 , ..., 0.32789412, 0.19975743,\n",
              "        0.32381433]], dtype=float32)"
            ]
          },
          "metadata": {},
          "execution_count": 26
        }
      ]
    },
    {
      "cell_type": "code",
      "source": [
        "%%time \n",
        "if mem_experiment_masks is None and os.path.exists(mem_exp_masks_filepath):\n",
        "    mem_experiment_masks = utils.load_np_from_filename(mem_exp_masks_filepath)\n",
        "\n",
        "if confidences is None and os.path.exists(confidences_filepath):\n",
        "  confidences = utils.load_np_from_filename(confidences_filepath) # read from filepath\n",
        "\n",
        "\n",
        "run_all_experiments( memorization_dataloader = trainloader, mem_experiment_masks = mem_experiment_masks, confidences = confidences, \n",
        "                    memorization_experiments_meta_filepath=memorization_experiments_meta_filepath, \n",
        "                    base_save=base_save, dataset= dataset, basemodel_name = \"CNN\", epochs = epochs, overwrite = False)\n"
      ],
      "metadata": {
        "id": "FDkX3Vz5mEU2",
        "colab": {
          "base_uri": "https://localhost:8080/"
        },
        "outputId": "79ec69b2-bae5-4f0a-d691-e5fc1b648e3f"
      },
      "execution_count": null,
      "outputs": [
        {
          "output_type": "stream",
          "name": "stdout",
          "text": [
            "working on :CNN_0\n",
            "starting experiment on CNN_0\n",
            "epsilon - None\n",
            "path /content/drive/MyDrive/Research/Privacy/experiments/assets/MNIST/memorization/round_0.1.1/CNN_0.pth already saved to. SKIPPING.\n",
            "working on :CNN_1\n",
            "starting experiment on CNN_1\n",
            "epsilon - None\n",
            "path /content/drive/MyDrive/Research/Privacy/experiments/assets/MNIST/memorization/round_0.1.1/CNN_1.pth already saved to. SKIPPING.\n",
            "working on :CNN_2\n",
            "starting experiment on CNN_2\n",
            "epsilon - None\n",
            "path /content/drive/MyDrive/Research/Privacy/experiments/assets/MNIST/memorization/round_0.1.1/CNN_2.pth already saved to. SKIPPING.\n",
            "working on :CNN_3\n",
            "starting experiment on CNN_3\n",
            "epsilon - None\n",
            "path /content/drive/MyDrive/Research/Privacy/experiments/assets/MNIST/memorization/round_0.1.1/CNN_3.pth already saved to. SKIPPING.\n",
            "working on :CNN_4\n",
            "starting experiment on CNN_4\n",
            "epsilon - None\n",
            "path /content/drive/MyDrive/Research/Privacy/experiments/assets/MNIST/memorization/round_0.1.1/CNN_4.pth already saved to. SKIPPING.\n",
            "working on :CNN_5\n",
            "starting experiment on CNN_5\n",
            "epsilon - None\n",
            "path /content/drive/MyDrive/Research/Privacy/experiments/assets/MNIST/memorization/round_0.1.1/CNN_5.pth already saved to. SKIPPING.\n",
            "working on :CNN_6\n",
            "starting experiment on CNN_6\n",
            "epsilon - None\n",
            "Training epoch: 0/5\n",
            "Epoch [0], train_loss: 4.883212461660306, train_accuracy: 0.34152083333333333,  val_loss: 0.281917542219162, val_acc: 0.9091453552246094\n",
            "time for epoch 0 : 0:00:29.183299\n",
            "Training epoch: 1/5\n",
            "Epoch [1], train_loss: 0.46008421742543576, train_accuracy: 0.8798333333333334,  val_loss: 0.14956292510032654, val_acc: 0.9527755379676819\n",
            "time for epoch 1 : 0:00:24.487604\n",
            "Training epoch: 2/5\n",
            "Epoch [2], train_loss: 0.5412627874156655, train_accuracy: 0.9027916666666667,  val_loss: 0.13111448287963867, val_acc: 0.965255618095398\n",
            "time for epoch 2 : 0:00:24.321132\n",
            "Training epoch: 3/5\n",
            "Epoch [3], train_loss: 0.5029908507111638, train_accuracy: 0.9133958333333333,  val_loss: 0.09065042436122894, val_acc: 0.9739416837692261\n",
            "time for epoch 3 : 0:00:24.702938\n",
            "Training epoch: 4/5\n",
            "Epoch [4], train_loss: 0.6148259333381041, train_accuracy: 0.9118333333333334,  val_loss: 0.12758861482143402, val_acc: 0.9664536714553833\n",
            "time for epoch 4 : 0:00:24.521357\n",
            "total time: 0:02:07.217533\n",
            "working on :CNN_7\n",
            "starting experiment on CNN_7\n",
            "epsilon - None\n",
            "Training epoch: 0/5\n",
            "Epoch [0], train_loss: 2.61299604817216, train_accuracy: 0.7327916666666666,  val_loss: 0.1565968096256256, val_acc: 0.9531749486923218\n",
            "time for epoch 0 : 0:00:28.453609\n",
            "Training epoch: 1/5\n",
            "Epoch [1], train_loss: 0.561000094645579, train_accuracy: 0.8976875,  val_loss: 0.45479628443717957, val_acc: 0.9330071806907654\n",
            "time for epoch 1 : 0:00:24.409456\n",
            "Training epoch: 2/5\n",
            "Epoch [2], train_loss: 0.610214607513141, train_accuracy: 0.910625,  val_loss: 0.12433306127786636, val_acc: 0.9669528603553772\n",
            "time for epoch 2 : 0:00:24.746626\n",
            "Training epoch: 3/5\n",
            "Epoch [3], train_loss: 0.3238703192770675, train_accuracy: 0.9230208333333333,  val_loss: 0.13933569192886353, val_acc: 0.959664523601532\n",
            "time for epoch 3 : 0:00:24.564663\n",
            "Training epoch: 4/5\n",
            "Epoch [4], train_loss: 0.3687531651633326, train_accuracy: 0.9236666666666666,  val_loss: 0.09990863502025604, val_acc: 0.9689496755599976\n",
            "time for epoch 4 : 0:00:24.527784\n",
            "total time: 0:02:06.702444\n",
            "working on :CNN_8\n",
            "starting experiment on CNN_8\n",
            "epsilon - None\n",
            "Training epoch: 0/5\n",
            "Epoch [0], train_loss: 3.5277024855278434, train_accuracy: 0.79825,  val_loss: 0.28766918182373047, val_acc: 0.916234016418457\n",
            "time for epoch 0 : 0:00:28.160628\n",
            "Training epoch: 1/5\n",
            "Epoch [1], train_loss: 0.48934973263514014, train_accuracy: 0.8965208333333333,  val_loss: 0.12390002608299255, val_acc: 0.9624600410461426\n",
            "time for epoch 1 : 0:00:24.676813\n",
            "Training epoch: 2/5\n",
            "Epoch [2], train_loss: 0.3552977319517328, train_accuracy: 0.9183958333333333,  val_loss: 0.09451857209205627, val_acc: 0.972244381904602\n",
            "time for epoch 2 : 0:00:24.407381\n",
            "Training epoch: 3/5\n",
            "Epoch [3], train_loss: 0.3708399501007516, train_accuracy: 0.9203333333333333,  val_loss: 0.20860037207603455, val_acc: 0.9494808316230774\n",
            "time for epoch 3 : 0:00:24.456018\n",
            "Training epoch: 4/5\n",
            "Epoch [4], train_loss: 0.5107632917098042, train_accuracy: 0.9139166666666667,  val_loss: 0.1289203017950058, val_acc: 0.96305912733078\n",
            "time for epoch 4 : 0:00:24.509832\n",
            "total time: 0:02:06.211010\n",
            "working on :CNN_9\n",
            "starting experiment on CNN_9\n",
            "epsilon - None\n",
            "Training epoch: 0/5\n",
            "Epoch [0], train_loss: 5.436737351020177, train_accuracy: 0.12891666666666668,  val_loss: 0.6671656966209412, val_acc: 0.7971246242523193\n",
            "time for epoch 0 : 0:00:27.389457\n",
            "Training epoch: 1/5\n",
            "Epoch [1], train_loss: 0.661476726348667, train_accuracy: 0.8338541666666667,  val_loss: 0.14121651649475098, val_acc: 0.9584664702415466\n",
            "time for epoch 1 : 0:00:24.402442\n",
            "Training epoch: 2/5\n",
            "Epoch [2], train_loss: 0.45604184370068834, train_accuracy: 0.9112291666666666,  val_loss: 0.2045627385377884, val_acc: 0.9588658213615417\n",
            "time for epoch 2 : 0:00:24.580690\n",
            "Training epoch: 3/5\n",
            "Epoch [3], train_loss: 0.6110922325441691, train_accuracy: 0.9109583333333333,  val_loss: 0.1349988728761673, val_acc: 0.9647563695907593\n",
            "time for epoch 3 : 0:00:24.652062\n",
            "Training epoch: 4/5\n",
            "Epoch [4], train_loss: 0.34115254526468924, train_accuracy: 0.9201666666666667,  val_loss: 0.11767955869436264, val_acc: 0.9664536714553833\n",
            "time for epoch 4 : 0:00:24.451874\n",
            "total time: 0:02:05.478588\n",
            "working on :CNN_10\n",
            "starting experiment on CNN_10\n",
            "epsilon - None\n",
            "Training epoch: 0/5\n",
            "Epoch [0], train_loss: 1.4864600519565865, train_accuracy: 0.8210625,  val_loss: 0.2804698348045349, val_acc: 0.9150359630584717\n",
            "time for epoch 0 : 0:00:27.680987\n",
            "Training epoch: 1/5\n",
            "Epoch [1], train_loss: 0.4550114457809832, train_accuracy: 0.906,  val_loss: 0.19153441488742828, val_acc: 0.9538738131523132\n",
            "time for epoch 1 : 0:00:24.640691\n",
            "Training epoch: 2/5\n",
            "Epoch [2], train_loss: 0.3738300363610809, train_accuracy: 0.9183333333333333,  val_loss: 0.10697298496961594, val_acc: 0.96875\n",
            "time for epoch 2 : 0:00:24.555307\n",
            "Training epoch: 3/5\n",
            "Epoch [3], train_loss: 0.399908351652169, train_accuracy: 0.9216458333333334,  val_loss: 0.11069020628929138, val_acc: 0.9693490266799927\n",
            "time for epoch 3 : 0:00:24.429306\n",
            "Training epoch: 4/5\n",
            "Epoch [4], train_loss: 0.6498051294192555, train_accuracy: 0.9157916666666667,  val_loss: 0.1128680557012558, val_acc: 0.9686501622200012\n",
            "time for epoch 4 : 0:00:24.644559\n",
            "total time: 0:02:05.952950\n",
            "working on :CNN_11\n",
            "starting experiment on CNN_11\n",
            "epsilon - None\n",
            "Training epoch: 0/5\n",
            "Epoch [0], train_loss: 5.049987699563305, train_accuracy: 0.23752083333333332,  val_loss: 0.3143916428089142, val_acc: 0.9107428193092346\n",
            "time for epoch 0 : 0:00:27.381063\n",
            "Training epoch: 1/5\n",
            "Epoch [1], train_loss: 0.418809547045889, train_accuracy: 0.8883125,  val_loss: 0.19065295159816742, val_acc: 0.9486821293830872\n",
            "time for epoch 1 : 0:00:24.420014\n",
            "Training epoch: 2/5\n",
            "Epoch [2], train_loss: 0.3889917820605139, train_accuracy: 0.9065208333333333,  val_loss: 0.11922786384820938, val_acc: 0.9646565318107605\n",
            "time for epoch 2 : 0:00:24.569150\n",
            "Training epoch: 3/5\n",
            "Epoch [3], train_loss: 0.5661078684477834, train_accuracy: 0.90925,  val_loss: 0.13941334187984467, val_acc: 0.9586661458015442\n",
            "time for epoch 3 : 0:00:24.596843\n",
            "Training epoch: 4/5\n",
            "Epoch [4], train_loss: 0.4337288361598427, train_accuracy: 0.9144583333333334,  val_loss: 0.11931085586547852, val_acc: 0.9651557803153992\n",
            "time for epoch 4 : 0:00:24.473901\n",
            "total time: 0:02:05.441464\n",
            "working on :CNN_12\n",
            "starting experiment on CNN_12\n",
            "epsilon - None\n",
            "Training epoch: 0/5\n",
            "Epoch [0], train_loss: 5.738961651881536, train_accuracy: 0.8317291666666666,  val_loss: 0.1617281138896942, val_acc: 0.9517771601676941\n",
            "time for epoch 0 : 0:00:26.742515\n",
            "Training epoch: 1/5\n",
            "Epoch [1], train_loss: 0.39443833034780496, train_accuracy: 0.9105,  val_loss: 0.14234659075737, val_acc: 0.9573681950569153\n",
            "time for epoch 1 : 0:00:24.267580\n",
            "Training epoch: 2/5\n",
            "Epoch [2], train_loss: 0.52616659723905, train_accuracy: 0.9163125,  val_loss: 0.21246559917926788, val_acc: 0.9567691683769226\n",
            "time for epoch 2 : 0:00:24.497881\n",
            "Training epoch: 3/5\n",
            "Epoch [3], train_loss: 0.43323122593791535, train_accuracy: 0.9218333333333333,  val_loss: 0.11338093876838684, val_acc: 0.9658546447753906\n",
            "time for epoch 3 : 0:00:24.258184\n",
            "Training epoch: 4/5\n",
            "Epoch [4], train_loss: 0.4445299365039294, train_accuracy: 0.91375,  val_loss: 0.12312622368335724, val_acc: 0.9638578295707703\n",
            "time for epoch 4 : 0:00:24.256171\n",
            "total time: 0:02:04.022931\n",
            "working on :CNN_13\n",
            "starting experiment on CNN_13\n",
            "epsilon - None\n",
            "Training epoch: 0/5\n",
            "Epoch [0], train_loss: 3.1162769400067627, train_accuracy: 0.5996458333333333,  val_loss: 0.27248600125312805, val_acc: 0.9168330430984497\n",
            "time for epoch 0 : 0:00:26.796540\n",
            "Training epoch: 1/5\n",
            "Epoch [1], train_loss: 0.41491284714856497, train_accuracy: 0.8960625,  val_loss: 0.1393561214208603, val_acc: 0.9603634476661682\n",
            "time for epoch 1 : 0:00:24.311652\n",
            "Training epoch: 2/5\n",
            "Epoch [2], train_loss: 0.5773913878369494, train_accuracy: 0.9094166666666667,  val_loss: 0.10457176715135574, val_acc: 0.9707468152046204\n",
            "time for epoch 2 : 0:00:24.496012\n",
            "Training epoch: 3/5\n",
            "Epoch [3], train_loss: 0.41066553383833765, train_accuracy: 0.918,  val_loss: 0.13639451563358307, val_acc: 0.9659544825553894\n",
            "time for epoch 3 : 0:00:24.589967\n",
            "Training epoch: 4/5\n",
            "Epoch [4], train_loss: 0.3970921457648898, train_accuracy: 0.9210833333333334,  val_loss: 0.11773821711540222, val_acc: 0.9681509733200073\n",
            "time for epoch 4 : 0:00:24.470227\n",
            "total time: 0:02:04.665526\n",
            "working on :CNN_14\n",
            "starting experiment on CNN_14\n",
            "epsilon - None\n",
            "Training epoch: 0/5\n",
            "Epoch [0], train_loss: 4.895111887171865, train_accuracy: 0.47308333333333336,  val_loss: 0.21773774921894073, val_acc: 0.9316094517707825\n",
            "time for epoch 0 : 0:00:26.417305\n",
            "Training epoch: 1/5\n",
            "Epoch [1], train_loss: 0.46649743137694893, train_accuracy: 0.8745625,  val_loss: 0.18858389556407928, val_acc: 0.9425918459892273\n",
            "time for epoch 1 : 0:00:24.652342\n",
            "Training epoch: 2/5\n",
            "Epoch [2], train_loss: 0.5292870449485878, train_accuracy: 0.8974166666666666,  val_loss: 0.15287834405899048, val_acc: 0.9553713798522949\n",
            "time for epoch 2 : 0:00:24.524811\n",
            "Training epoch: 3/5\n",
            "Epoch [3], train_loss: 0.37794113874280205, train_accuracy: 0.9133541666666667,  val_loss: 0.10143481940031052, val_acc: 0.9709464907646179\n",
            "time for epoch 3 : 0:00:24.582147\n",
            "Training epoch: 4/5\n",
            "Epoch [4], train_loss: 1.0328083547976312, train_accuracy: 0.9094791666666666,  val_loss: 0.2689709961414337, val_acc: 0.9484824538230896\n",
            "time for epoch 4 : 0:00:24.496988\n",
            "total time: 0:02:04.674770\n",
            "working on :CNN_15\n",
            "starting experiment on CNN_15\n",
            "epsilon - None\n",
            "Training epoch: 0/5\n",
            "Epoch [0], train_loss: 3.9641808097362516, train_accuracy: 0.11416666666666667,  val_loss: 1.3150808811187744, val_acc: 0.5971445441246033\n",
            "time for epoch 0 : 0:00:25.558001\n",
            "Training epoch: 1/5\n",
            "Epoch [1], train_loss: 0.5345623760750362, train_accuracy: 0.8611666666666666,  val_loss: 0.12651824951171875, val_acc: 0.9614616632461548\n",
            "time for epoch 1 : 0:00:24.684192\n",
            "Training epoch: 2/5\n",
            "Epoch [2], train_loss: 0.38254391244550545, train_accuracy: 0.9066666666666666,  val_loss: 0.112596295773983, val_acc: 0.9664536714553833\n",
            "time for epoch 2 : 0:00:24.706818\n",
            "Training epoch: 3/5\n",
            "Epoch [3], train_loss: 0.4464449269437076, train_accuracy: 0.912875,  val_loss: 0.1179404929280281, val_acc: 0.9650558829307556\n",
            "time for epoch 3 : 0:00:24.597311\n",
            "Training epoch: 4/5\n",
            "Epoch [4], train_loss: 0.47222126900881994, train_accuracy: 0.91475,  val_loss: 0.1147870272397995, val_acc: 0.9657548069953918\n",
            "time for epoch 4 : 0:00:24.834554\n",
            "total time: 0:02:04.381238\n",
            "working on :CNN_16\n",
            "starting experiment on CNN_16\n",
            "epsilon - None\n",
            "Training epoch: 0/5\n",
            "Epoch [0], train_loss: 5.882083199329363, train_accuracy: 0.699625,  val_loss: 0.1838790476322174, val_acc: 0.9453873634338379\n",
            "time for epoch 0 : 0:00:24.590369\n",
            "Training epoch: 1/5\n",
            "Epoch [1], train_loss: 0.43678271627146753, train_accuracy: 0.8918541666666666,  val_loss: 0.14328999817371368, val_acc: 0.9557707905769348\n",
            "time for epoch 1 : 0:00:24.678667\n",
            "Training epoch: 2/5\n",
            "Epoch [2], train_loss: 0.5793063974051426, train_accuracy: 0.8999166666666667,  val_loss: 0.11409274488687515, val_acc: 0.9663538336753845\n",
            "time for epoch 2 : 0:00:24.623233\n",
            "Training epoch: 3/5\n",
            "Epoch [3], train_loss: 0.3578193032058577, train_accuracy: 0.9168125,  val_loss: 0.13181652128696442, val_acc: 0.9599640369415283\n",
            "time for epoch 3 : 0:00:24.767656\n",
            "Training epoch: 4/5\n",
            "Epoch [4], train_loss: 0.660772773799176, train_accuracy: 0.9085625,  val_loss: 0.1166515126824379, val_acc: 0.9666533470153809\n",
            "time for epoch 4 : 0:00:24.633046\n",
            "total time: 0:02:03.294169\n",
            "working on :CNN_17\n",
            "starting experiment on CNN_17\n",
            "epsilon - None\n",
            "Training epoch: 0/5\n",
            "Epoch [0], train_loss: 4.205773374299829, train_accuracy: 0.63525,  val_loss: 0.16794690489768982, val_acc: 0.9504792094230652\n",
            "time for epoch 0 : 0:00:25.346758\n",
            "Training epoch: 1/5\n",
            "Epoch [1], train_loss: 0.40339727032743394, train_accuracy: 0.90075,  val_loss: 0.13820375502109528, val_acc: 0.9595646858215332\n",
            "time for epoch 1 : 0:00:24.935340\n",
            "Training epoch: 2/5\n",
            "Epoch [2], train_loss: 0.6923007333699691, train_accuracy: 0.9012083333333333,  val_loss: 0.1178404837846756, val_acc: 0.9671525359153748\n",
            "time for epoch 2 : 0:00:24.622756\n",
            "Training epoch: 3/5\n",
            "Epoch [3], train_loss: 0.39010901779382645, train_accuracy: 0.91675,  val_loss: 0.10413126647472382, val_acc: 0.9682508111000061\n",
            "time for epoch 3 : 0:00:24.555895\n",
            "Training epoch: 4/5\n",
            "Epoch [4], train_loss: 0.36698001392208973, train_accuracy: 0.9158125,  val_loss: 0.09752028435468674, val_acc: 0.9715455174446106\n",
            "time for epoch 4 : 0:00:24.682338\n",
            "total time: 0:02:04.143489\n",
            "working on :CNN_18\n",
            "starting experiment on CNN_18\n",
            "epsilon - None\n",
            "Training epoch: 0/5\n",
            "Epoch [0], train_loss: 3.7489780079082897, train_accuracy: 0.5221875,  val_loss: 0.2553950846195221, val_acc: 0.9262180328369141\n",
            "time for epoch 0 : 0:00:25.691818\n",
            "Training epoch: 1/5\n",
            "Epoch [1], train_loss: 0.597860879527793, train_accuracy: 0.8681458333333333,  val_loss: 0.181437149643898, val_acc: 0.947484016418457\n",
            "time for epoch 1 : 0:00:24.055145\n",
            "Training epoch: 2/5\n",
            "Epoch [2], train_loss: 0.36287665423906096, train_accuracy: 0.9125416666666667,  val_loss: 0.10917264968156815, val_acc: 0.9648562073707581\n",
            "time for epoch 2 : 0:00:24.099552\n",
            "Training epoch: 3/5\n",
            "Epoch [3], train_loss: 0.45461009111633754, train_accuracy: 0.9136875,  val_loss: 0.09021767228841782, val_acc: 0.9740415215492249\n",
            "time for epoch 3 : 0:00:23.982850\n",
            "Training epoch: 4/5\n",
            "Epoch [4], train_loss: 0.5881719906743722, train_accuracy: 0.913125,  val_loss: 0.12446552515029907, val_acc: 0.9635583162307739\n",
            "time for epoch 4 : 0:00:24.025292\n",
            "total time: 0:02:01.855804\n",
            "working on :CNN_19\n",
            "starting experiment on CNN_19\n",
            "epsilon - None\n",
            "Training epoch: 0/5\n",
            "Epoch [0], train_loss: 2.6901986736844603, train_accuracy: 0.7378125,  val_loss: 0.23722317814826965, val_acc: 0.93180912733078\n",
            "time for epoch 0 : 0:00:24.826373\n",
            "Training epoch: 1/5\n",
            "Epoch [1], train_loss: 0.39745990171586165, train_accuracy: 0.899375,  val_loss: 0.12448517233133316, val_acc: 0.9637579917907715\n",
            "time for epoch 1 : 0:00:24.493380\n",
            "Training epoch: 2/5\n",
            "Epoch [2], train_loss: 0.4803665232897141, train_accuracy: 0.913125,  val_loss: 0.11618775129318237, val_acc: 0.9634584784507751\n",
            "time for epoch 2 : 0:00:24.464508\n",
            "Training epoch: 3/5\n",
            "Epoch [3], train_loss: 0.42798265886384373, train_accuracy: 0.9178541666666666,  val_loss: 0.10935686528682709, val_acc: 0.9642571806907654\n",
            "time for epoch 3 : 0:00:24.876249\n",
            "Training epoch: 4/5\n",
            "Epoch [4], train_loss: 0.6332654808173587, train_accuracy: 0.9192708333333334,  val_loss: 0.1346556395292282, val_acc: 0.9680511355400085\n",
            "time for epoch 4 : 0:00:24.639033\n",
            "total time: 0:02:03.299855\n",
            "working on :CNN_20\n",
            "starting experiment on CNN_20\n",
            "epsilon - None\n",
            "Training epoch: 0/5\n",
            "Epoch [0], train_loss: 3.8181427887901664, train_accuracy: 0.5845,  val_loss: 0.19946393370628357, val_acc: 0.9359025359153748\n",
            "time for epoch 0 : 0:00:25.206500\n",
            "Training epoch: 1/5\n",
            "Epoch [1], train_loss: 0.46998184397319953, train_accuracy: 0.8846041666666666,  val_loss: 0.15295442938804626, val_acc: 0.9592651724815369\n",
            "time for epoch 1 : 0:00:25.321634\n",
            "Training epoch: 2/5\n",
            "Epoch [2], train_loss: 0.5210315671899977, train_accuracy: 0.9075416666666667,  val_loss: 0.12393376231193542, val_acc: 0.9641573429107666\n",
            "time for epoch 2 : 0:00:25.023411\n",
            "Training epoch: 3/5\n",
            "Epoch [3], train_loss: 0.44368240872070114, train_accuracy: 0.9170208333333333,  val_loss: 0.1133507788181305, val_acc: 0.96875\n",
            "time for epoch 3 : 0:00:24.804467\n",
            "Training epoch: 4/5\n",
            "Epoch [4], train_loss: 0.4698342743618802, train_accuracy: 0.9200625,  val_loss: 0.22568689286708832, val_acc: 0.9573681950569153\n",
            "time for epoch 4 : 0:00:24.821462\n",
            "total time: 0:02:05.178136\n",
            "working on :CNN_21\n",
            "starting experiment on CNN_21\n",
            "epsilon - None\n",
            "Training epoch: 0/5\n",
            "Epoch [0], train_loss: 4.0551503197525935, train_accuracy: 0.7884791666666666,  val_loss: 0.20201954245567322, val_acc: 0.9403953552246094\n",
            "time for epoch 0 : 0:00:24.518261\n",
            "Training epoch: 1/5\n",
            "Epoch [1], train_loss: 0.43369442177719125, train_accuracy: 0.8927083333333333,  val_loss: 0.14429634809494019, val_acc: 0.9567691683769226\n",
            "time for epoch 1 : 0:00:24.572355\n",
            "Training epoch: 2/5\n",
            "Epoch [2], train_loss: 0.4840239257165231, train_accuracy: 0.9076666666666666,  val_loss: 0.1251787394285202, val_acc: 0.9615615010261536\n",
            "time for epoch 2 : 0:00:24.682463\n",
            "Training epoch: 3/5\n",
            "Epoch [3], train_loss: 0.5501883899241026, train_accuracy: 0.9125625,  val_loss: 0.18128623068332672, val_acc: 0.9636581540107727\n",
            "time for epoch 3 : 0:00:24.809398\n",
            "Training epoch: 4/5\n",
            "Epoch [4], train_loss: 0.3696826235735013, train_accuracy: 0.92,  val_loss: 0.11389574408531189, val_acc: 0.9672523736953735\n",
            "time for epoch 4 : 0:00:24.812610\n",
            "total time: 0:02:03.395676\n",
            "working on :CNN_22\n",
            "starting experiment on CNN_22\n",
            "epsilon - None\n",
            "Training epoch: 0/5\n",
            "Epoch [0], train_loss: 5.0335201365053654, train_accuracy: 0.19202083333333334,  val_loss: 0.3943769037723541, val_acc: 0.8698083162307739\n",
            "time for epoch 0 : 0:00:24.495241\n",
            "Training epoch: 1/5\n",
            "Epoch [1], train_loss: 0.52402591911455, train_accuracy: 0.8545833333333334,  val_loss: 0.16638273000717163, val_acc: 0.9504792094230652\n",
            "time for epoch 1 : 0:00:24.584717\n",
            "Training epoch: 2/5\n",
            "Epoch [2], train_loss: 0.4347373154228553, train_accuracy: 0.9046458333333334,  val_loss: 0.12294164299964905, val_acc: 0.9629592895507812\n",
            "time for epoch 2 : 0:00:24.471710\n",
            "Training epoch: 3/5\n",
            "Epoch [3], train_loss: 0.5715343893426083, train_accuracy: 0.9107708333333333,  val_loss: 0.10242107510566711, val_acc: 0.9690495133399963\n",
            "time for epoch 3 : 0:00:24.567394\n",
            "Training epoch: 4/5\n",
            "Epoch [4], train_loss: 0.37520885420387884, train_accuracy: 0.9197708333333333,  val_loss: 0.11682295799255371, val_acc: 0.9686501622200012\n",
            "time for epoch 4 : 0:00:24.498844\n",
            "total time: 0:02:02.618596\n",
            "working on :CNN_23\n",
            "starting experiment on CNN_23\n",
            "epsilon - None\n",
            "Training epoch: 0/5\n",
            "Epoch [0], train_loss: 7.0394289473593235, train_accuracy: 0.2645,  val_loss: 0.3916192054748535, val_acc: 0.8904752135276794\n",
            "time for epoch 0 : 0:00:24.167452\n",
            "Training epoch: 1/5\n",
            "Epoch [1], train_loss: 0.6221085759072255, train_accuracy: 0.8702708333333333,  val_loss: 0.6022205948829651, val_acc: 0.915335476398468\n",
            "time for epoch 1 : 0:00:24.324867\n",
            "Training epoch: 2/5\n",
            "Epoch [2], train_loss: 0.40091446806661163, train_accuracy: 0.9065,  val_loss: 0.13870328664779663, val_acc: 0.9586661458015442\n",
            "time for epoch 2 : 0:00:24.395427\n",
            "Training epoch: 3/5\n",
            "Epoch [3], train_loss: 0.5675625027746428, train_accuracy: 0.9130208333333333,  val_loss: 0.11461453884840012, val_acc: 0.9654552936553955\n",
            "time for epoch 3 : 0:00:24.389449\n",
            "Training epoch: 4/5\n",
            "Epoch [4], train_loss: 0.3618566841123296, train_accuracy: 0.9189375,  val_loss: 0.10669802874326706, val_acc: 0.9685503244400024\n",
            "time for epoch 4 : 0:00:24.294761\n",
            "total time: 0:02:01.572847\n",
            "working on :CNN_24\n",
            "starting experiment on CNN_24\n",
            "epsilon - None\n",
            "Training epoch: 0/5\n",
            "Epoch [0], train_loss: 3.1986528783192236, train_accuracy: 0.6015,  val_loss: 0.1641274392604828, val_acc: 0.9504792094230652\n",
            "time for epoch 0 : 0:00:24.311967\n",
            "Training epoch: 1/5\n",
            "Epoch [1], train_loss: 0.40224211594245085, train_accuracy: 0.90475,  val_loss: 0.14561370015144348, val_acc: 0.9607627987861633\n",
            "time for epoch 1 : 0:00:23.951909\n",
            "Training epoch: 2/5\n",
            "Epoch [2], train_loss: 0.4483628214865457, train_accuracy: 0.9124375,  val_loss: 0.11517658084630966, val_acc: 0.9648562073707581\n",
            "time for epoch 2 : 0:00:24.553613\n",
            "Training epoch: 3/5\n",
            "Epoch [3], train_loss: 0.5203579930206051, train_accuracy: 0.914875,  val_loss: 0.09236618876457214, val_acc: 0.9737420082092285\n",
            "time for epoch 3 : 0:00:24.323499\n",
            "Training epoch: 4/5\n",
            "Epoch [4], train_loss: 0.3274065254398932, train_accuracy: 0.9216041666666667,  val_loss: 0.10740339756011963, val_acc: 0.9692491888999939\n",
            "time for epoch 4 : 0:00:24.265152\n",
            "total time: 0:02:01.406580\n",
            "working on :CNN_25\n",
            "starting experiment on CNN_25\n",
            "epsilon - None\n",
            "Training epoch: 0/5\n",
            "Epoch [0], train_loss: 2.3734147971663626, train_accuracy: 0.7075416666666666,  val_loss: 0.19716885685920715, val_acc: 0.9390974640846252\n",
            "time for epoch 0 : 0:00:24.114011\n",
            "Training epoch: 1/5\n",
            "Epoch [1], train_loss: 0.4625687343993147, train_accuracy: 0.891,  val_loss: 0.14598898589611053, val_acc: 0.9530750513076782\n",
            "time for epoch 1 : 0:00:24.195468\n",
            "Training epoch: 2/5\n",
            "Epoch [2], train_loss: 0.47314521977414065, train_accuracy: 0.9030625,  val_loss: 0.11521124094724655, val_acc: 0.9637579917907715\n",
            "time for epoch 2 : 0:00:24.319120\n",
            "Training epoch: 3/5\n",
            "Epoch [3], train_loss: 0.45206968516412116, train_accuracy: 0.908875,  val_loss: 0.16148491203784943, val_acc: 0.9553713798522949\n",
            "time for epoch 3 : 0:00:23.980566\n",
            "Training epoch: 4/5\n",
            "Epoch [4], train_loss: 0.46540152270533147, train_accuracy: 0.911625,  val_loss: 0.1930224895477295, val_acc: 0.9609624743461609\n",
            "time for epoch 4 : 0:00:24.542384\n",
            "total time: 0:02:01.152710\n",
            "working on :CNN_26\n",
            "starting experiment on CNN_26\n",
            "epsilon - None\n",
            "Training epoch: 0/5\n",
            "Epoch [0], train_loss: 3.6008303887221653, train_accuracy: 0.7555,  val_loss: 0.1581270545721054, val_acc: 0.9531749486923218\n",
            "time for epoch 0 : 0:00:24.316861\n",
            "Training epoch: 1/5\n",
            "Epoch [1], train_loss: 0.43434611245671595, train_accuracy: 0.9089791666666667,  val_loss: 0.12537987530231476, val_acc: 0.9619608521461487\n",
            "time for epoch 1 : 0:00:24.210804\n",
            "Training epoch: 2/5\n",
            "Epoch [2], train_loss: 0.6176695666382245, train_accuracy: 0.9146875,  val_loss: 0.18165025115013123, val_acc: 0.9576677083969116\n",
            "time for epoch 2 : 0:00:24.336536\n",
            "Training epoch: 3/5\n",
            "Epoch [3], train_loss: 0.3781359459059046, train_accuracy: 0.9162291666666667,  val_loss: 0.13621266186237335, val_acc: 0.9663538336753845\n",
            "time for epoch 3 : 0:00:24.268369\n",
            "Training epoch: 4/5\n",
            "Epoch [4], train_loss: 0.35789529778870444, train_accuracy: 0.9181041666666667,  val_loss: 0.09682699292898178, val_acc: 0.9719448685646057\n",
            "time for epoch 4 : 0:00:24.322851\n",
            "total time: 0:02:01.455750\n",
            "working on :CNN_27\n",
            "starting experiment on CNN_27\n",
            "epsilon - None\n",
            "Training epoch: 0/5\n",
            "Epoch [0], train_loss: 2.9970726013034583, train_accuracy: 0.667625,  val_loss: 0.2444974184036255, val_acc: 0.925818681716919\n",
            "time for epoch 0 : 0:00:24.428256\n",
            "Training epoch: 1/5\n",
            "Epoch [1], train_loss: 0.5010482473496037, train_accuracy: 0.8806041666666666,  val_loss: 0.1409294307231903, val_acc: 0.9578673839569092\n",
            "time for epoch 1 : 0:00:24.323558\n",
            "Training epoch: 2/5\n",
            "Epoch [2], train_loss: 0.9327008198079032, train_accuracy: 0.87925,  val_loss: 0.14360806345939636, val_acc: 0.9601637125015259\n",
            "time for epoch 2 : 0:00:24.515251\n",
            "Training epoch: 3/5\n",
            "Epoch [3], train_loss: 0.37028551680028127, train_accuracy: 0.9187083333333333,  val_loss: 0.11762278527021408, val_acc: 0.9654552936553955\n",
            "time for epoch 3 : 0:00:24.440123\n",
            "Training epoch: 4/5\n",
            "Epoch [4], train_loss: 0.5078677249774143, train_accuracy: 0.9186875,  val_loss: 0.22495025396347046, val_acc: 0.9365016222000122\n",
            "time for epoch 4 : 0:00:24.542483\n",
            "total time: 0:02:02.250745\n",
            "working on :CNN_28\n",
            "starting experiment on CNN_28\n",
            "epsilon - None\n",
            "Training epoch: 0/5\n",
            "Epoch [0], train_loss: 4.212109182198843, train_accuracy: 0.107125,  val_loss: 2.3025689125061035, val_acc: 0.10273562371730804\n",
            "time for epoch 0 : 0:00:24.445526\n",
            "Training epoch: 1/5\n",
            "Epoch [1], train_loss: 1.003231277313144, train_accuracy: 0.7414375,  val_loss: 0.1614721119403839, val_acc: 0.9535742998123169\n",
            "time for epoch 1 : 0:00:24.382099\n",
            "Training epoch: 2/5\n",
            "Epoch [2], train_loss: 0.5970494910117704, train_accuracy: 0.895,  val_loss: 0.12814998626708984, val_acc: 0.9642571806907654\n",
            "time for epoch 2 : 0:00:24.307737\n",
            "Training epoch: 3/5\n",
            "Epoch [3], train_loss: 0.4639178107356332, train_accuracy: 0.9073541666666667,  val_loss: 0.1593940407037735, val_acc: 0.9580671191215515\n",
            "time for epoch 3 : 0:00:24.295917\n",
            "Training epoch: 4/5\n",
            "Epoch [4], train_loss: 0.36733761135364573, train_accuracy: 0.919,  val_loss: 0.20114204287528992, val_acc: 0.9520766735076904\n",
            "time for epoch 4 : 0:00:24.537702\n",
            "total time: 0:02:01.970549\n",
            "working on :CNN_29\n",
            "starting experiment on CNN_29\n",
            "epsilon - None\n",
            "Training epoch: 0/5\n",
            "Epoch [0], train_loss: 2.5056954410181693, train_accuracy: 0.6975,  val_loss: 0.19816075265407562, val_acc: 0.9397963285446167\n",
            "time for epoch 0 : 0:00:24.763288\n",
            "Training epoch: 1/5\n",
            "Epoch [1], train_loss: 0.4121696119807505, train_accuracy: 0.9019791666666667,  val_loss: 0.10694872587919235, val_acc: 0.9665535092353821\n",
            "time for epoch 1 : 0:00:24.831529\n",
            "Training epoch: 2/5\n",
            "Epoch [2], train_loss: 0.7203102457038816, train_accuracy: 0.90725,  val_loss: 0.1191256046295166, val_acc: 0.9654552936553955\n",
            "time for epoch 2 : 0:00:24.793407\n",
            "Training epoch: 3/5\n",
            "Epoch [3], train_loss: 0.36872084216298145, train_accuracy: 0.9183333333333333,  val_loss: 0.11165494471788406, val_acc: 0.9690495133399963\n",
            "time for epoch 3 : 0:00:24.900476\n",
            "Training epoch: 4/5\n",
            "Epoch [4], train_loss: 0.5005796904575729, train_accuracy: 0.9155208333333333,  val_loss: 0.2288776934146881, val_acc: 0.9619608521461487\n",
            "time for epoch 4 : 0:00:24.796930\n",
            "total time: 0:02:04.086180\n",
            "working on :CNN_30\n",
            "starting experiment on CNN_30\n",
            "epsilon - None\n",
            "Training epoch: 0/5\n",
            "Epoch [0], train_loss: 6.2876210422342025, train_accuracy: 0.6598333333333334,  val_loss: 0.23036080598831177, val_acc: 0.9296126365661621\n",
            "time for epoch 0 : 0:00:24.928809\n",
            "Training epoch: 1/5\n",
            "Epoch [1], train_loss: 0.538720746099328, train_accuracy: 0.8868541666666667,  val_loss: 0.12531797587871552, val_acc: 0.9632588028907776\n",
            "time for epoch 1 : 0:00:24.679337\n",
            "Training epoch: 2/5\n",
            "Epoch [2], train_loss: 0.3222249038288525, train_accuracy: 0.917,  val_loss: 0.15293030440807343, val_acc: 0.9545726776123047\n",
            "time for epoch 2 : 0:00:24.767906\n",
            "Training epoch: 3/5\n",
            "Epoch [3], train_loss: 0.39117074984374145, train_accuracy: 0.9158958333333334,  val_loss: 0.12026345729827881, val_acc: 0.9643570184707642\n",
            "time for epoch 3 : 0:00:24.824000\n",
            "Training epoch: 4/5\n",
            "Epoch [4], train_loss: 0.6405867267613067, train_accuracy: 0.9150625,  val_loss: 0.10150229185819626, val_acc: 0.9716453552246094\n",
            "time for epoch 4 : 0:00:24.671304\n",
            "total time: 0:02:03.871775\n",
            "working on :CNN_31\n",
            "starting experiment on CNN_31\n",
            "epsilon - None\n",
            "Training epoch: 0/5\n",
            "Epoch [0], train_loss: 4.717550282998632, train_accuracy: 0.64925,  val_loss: 0.3837957978248596, val_acc: 0.8828873634338379\n",
            "time for epoch 0 : 0:00:24.612066\n",
            "Training epoch: 1/5\n",
            "Epoch [1], train_loss: 0.5677447967845947, train_accuracy: 0.8928125,  val_loss: 0.11891676485538483, val_acc: 0.9628594517707825\n",
            "time for epoch 1 : 0:00:24.610589\n",
            "Training epoch: 2/5\n",
            "Epoch [2], train_loss: 0.5061140453007247, train_accuracy: 0.9086458333333334,  val_loss: 0.13404612243175507, val_acc: 0.9658546447753906\n",
            "time for epoch 2 : 0:00:24.547225\n",
            "Training epoch: 3/5\n",
            "Epoch [3], train_loss: 0.3401525770588002, train_accuracy: 0.9225625,  val_loss: 0.143721342086792, val_acc: 0.9576677083969116\n",
            "time for epoch 3 : 0:00:24.617065\n",
            "Training epoch: 4/5\n",
            "Epoch [4], train_loss: 0.5793934223570053, train_accuracy: 0.9182708333333334,  val_loss: 0.1858263909816742, val_acc: 0.9591653347015381\n",
            "time for epoch 4 : 0:00:24.725845\n",
            "total time: 0:02:03.114999\n",
            "working on :CNN_32\n",
            "starting experiment on CNN_32\n",
            "epsilon - None\n",
            "Training epoch: 0/5\n",
            "Epoch [0], train_loss: 2.8325855455283695, train_accuracy: 0.7389166666666667,  val_loss: 0.17971445620059967, val_acc: 0.9416933059692383\n",
            "time for epoch 0 : 0:00:24.436346\n",
            "Training epoch: 1/5\n",
            "Epoch [1], train_loss: 0.3964351410319408, train_accuracy: 0.9018958333333333,  val_loss: 0.10856147855520248, val_acc: 0.9683506488800049\n",
            "time for epoch 1 : 0:00:24.317809\n",
            "Training epoch: 2/5\n",
            "Epoch [2], train_loss: 0.391387995268063, train_accuracy: 0.9108333333333334,  val_loss: 0.1446673423051834, val_acc: 0.9564696550369263\n",
            "time for epoch 2 : 0:00:24.462860\n",
            "Training epoch: 3/5\n",
            "Epoch [3], train_loss: 0.4211182325343446, train_accuracy: 0.9151041666666667,  val_loss: 0.10463347285985947, val_acc: 0.9681509733200073\n",
            "time for epoch 3 : 0:00:24.394585\n",
            "Training epoch: 4/5\n",
            "Epoch [4], train_loss: 0.8262547399873534, train_accuracy: 0.9088333333333334,  val_loss: 0.11920604854822159, val_acc: 0.963957667350769\n",
            "time for epoch 4 : 0:00:24.390129\n",
            "total time: 0:02:02.002108\n",
            "working on :CNN_33\n",
            "starting experiment on CNN_33\n",
            "epsilon - None\n",
            "Training epoch: 0/5\n",
            "Epoch [0], train_loss: 5.5357906118233995, train_accuracy: 0.2215625,  val_loss: 0.500633955001831, val_acc: 0.8655151724815369\n",
            "time for epoch 0 : 0:00:24.578775\n",
            "Training epoch: 1/5\n",
            "Epoch [1], train_loss: 0.4509897333069239, train_accuracy: 0.881,  val_loss: 0.12725885212421417, val_acc: 0.9600638747215271\n",
            "time for epoch 1 : 0:00:24.491978\n",
            "Training epoch: 2/5\n",
            "Epoch [2], train_loss: 0.5050300758372371, train_accuracy: 0.9089583333333333,  val_loss: 0.10453798621892929, val_acc: 0.9689496755599976\n",
            "time for epoch 2 : 0:00:24.354754\n",
            "Training epoch: 3/5\n",
            "Epoch [3], train_loss: 0.43732821290292, train_accuracy: 0.920875,  val_loss: 0.11398768424987793, val_acc: 0.9649560451507568\n",
            "time for epoch 3 : 0:00:24.409834\n",
            "Training epoch: 4/5\n",
            "Epoch [4], train_loss: 0.7086105701957519, train_accuracy: 0.9101041666666667,  val_loss: 0.1724536120891571, val_acc: 0.9523761868476868\n",
            "time for epoch 4 : 0:00:24.692518\n",
            "total time: 0:02:02.528177\n",
            "working on :CNN_34\n",
            "starting experiment on CNN_34\n",
            "epsilon - None\n",
            "Training epoch: 0/5\n",
            "Epoch [0], train_loss: 3.4058138490207495, train_accuracy: 0.7359583333333334,  val_loss: 0.1847275346517563, val_acc: 0.9434903860092163\n",
            "time for epoch 0 : 0:00:24.582355\n",
            "Training epoch: 1/5\n",
            "Epoch [1], train_loss: 0.5214736562003381, train_accuracy: 0.8891458333333333,  val_loss: 0.13028168678283691, val_acc: 0.9579672813415527\n",
            "time for epoch 1 : 0:00:24.766678\n",
            "Training epoch: 2/5\n",
            "Epoch [2], train_loss: 0.5078102680591983, train_accuracy: 0.9076666666666666,  val_loss: 0.10752222687005997, val_acc: 0.9700479507446289\n",
            "time for epoch 2 : 0:00:24.811370\n",
            "Training epoch: 3/5\n",
            "Epoch [3], train_loss: 0.47540961577838364, train_accuracy: 0.914625,  val_loss: 0.10299938172101974, val_acc: 0.9720447063446045\n",
            "time for epoch 3 : 0:00:24.549053\n",
            "Training epoch: 4/5\n",
            "Epoch [4], train_loss: 0.39869347803581817, train_accuracy: 0.9192916666666666,  val_loss: 0.09857697039842606, val_acc: 0.9707468152046204\n",
            "time for epoch 4 : 0:00:24.501874\n",
            "total time: 0:02:03.211744\n",
            "working on :CNN_35\n",
            "starting experiment on CNN_35\n",
            "epsilon - None\n",
            "Training epoch: 0/5\n",
            "Epoch [0], train_loss: 5.834470331266522, train_accuracy: 0.2687291666666667,  val_loss: 0.20155054330825806, val_acc: 0.940095841884613\n",
            "time for epoch 0 : 0:00:24.629059\n",
            "Training epoch: 1/5\n",
            "Epoch [1], train_loss: 0.4545729149929248, train_accuracy: 0.8934583333333334,  val_loss: 0.15382973849773407, val_acc: 0.9583666324615479\n",
            "time for epoch 1 : 0:00:24.715943\n",
            "Training epoch: 2/5\n",
            "Epoch [2], train_loss: 0.5830047811906552, train_accuracy: 0.9099166666666667,  val_loss: 0.13053947687149048, val_acc: 0.9665535092353821\n",
            "time for epoch 2 : 0:00:24.656294\n",
            "Training epoch: 3/5\n",
            "Epoch [3], train_loss: 0.3959538548294998, train_accuracy: 0.9172708333333334,  val_loss: 0.10670419782400131, val_acc: 0.971345841884613\n",
            "time for epoch 3 : 0:00:24.605071\n",
            "Training epoch: 4/5\n",
            "Epoch [4], train_loss: 0.5260394582273439, train_accuracy: 0.9187708333333333,  val_loss: 0.14167170226573944, val_acc: 0.9637579917907715\n",
            "time for epoch 4 : 0:00:24.533489\n",
            "total time: 0:02:03.142598\n",
            "working on :CNN_36\n",
            "starting experiment on CNN_36\n",
            "epsilon - None\n",
            "Training epoch: 0/5\n",
            "Epoch [0], train_loss: 5.3053287009050445, train_accuracy: 0.6063333333333333,  val_loss: 0.2756021022796631, val_acc: 0.9122403860092163\n",
            "time for epoch 0 : 0:00:24.327891\n",
            "Training epoch: 1/5\n",
            "Epoch [1], train_loss: 0.4534127365546301, train_accuracy: 0.8803958333333334,  val_loss: 0.1347278207540512, val_acc: 0.9561701416969299\n",
            "time for epoch 1 : 0:00:24.322831\n",
            "Training epoch: 2/5\n",
            "Epoch [2], train_loss: 0.4239596790461801, train_accuracy: 0.9063333333333333,  val_loss: 0.15167419612407684, val_acc: 0.9541733264923096\n",
            "time for epoch 2 : 0:00:24.322966\n",
            "Training epoch: 3/5\n",
            "Epoch [3], train_loss: 0.563961073750824, train_accuracy: 0.9074791666666666,  val_loss: 0.24854640662670135, val_acc: 0.9507787823677063\n",
            "time for epoch 3 : 0:00:24.235826\n",
            "Training epoch: 4/5\n",
            "Epoch [4], train_loss: 0.5400653180997663, train_accuracy: 0.9166041666666667,  val_loss: 0.1319575011730194, val_acc: 0.9590654969215393\n",
            "time for epoch 4 : 0:00:24.504751\n",
            "total time: 0:02:01.716745\n",
            "working on :CNN_37\n",
            "starting experiment on CNN_37\n",
            "epsilon - None\n",
            "Training epoch: 0/5\n",
            "Epoch [0], train_loss: 3.20698364439855, train_accuracy: 0.723625,  val_loss: 0.20266757905483246, val_acc: 0.9410942196846008\n",
            "time for epoch 0 : 0:00:24.640456\n",
            "Training epoch: 1/5\n",
            "Epoch [1], train_loss: 0.47693700797576455, train_accuracy: 0.8886666666666667,  val_loss: 0.16553926467895508, val_acc: 0.9476836919784546\n",
            "time for epoch 1 : 0:00:24.707824\n",
            "Training epoch: 2/5\n",
            "Epoch [2], train_loss: 0.5108887059734843, train_accuracy: 0.9056666666666666,  val_loss: 0.15731872618198395, val_acc: 0.9579672813415527\n",
            "time for epoch 2 : 0:00:24.710035\n",
            "Training epoch: 3/5\n",
            "Epoch [3], train_loss: 0.3433148496538245, train_accuracy: 0.9167708333333333,  val_loss: 0.11713967472314835, val_acc: 0.9625598788261414\n",
            "time for epoch 3 : 0:00:24.809780\n",
            "Training epoch: 4/5\n",
            "Epoch [4], train_loss: 0.6593121644312486, train_accuracy: 0.9111666666666667,  val_loss: 0.14563767611980438, val_acc: 0.9559704661369324\n",
            "time for epoch 4 : 0:00:24.673523\n",
            "total time: 0:02:03.544359\n",
            "working on :CNN_38\n",
            "starting experiment on CNN_38\n",
            "epsilon - None\n",
            "Training epoch: 0/5\n",
            "Epoch [0], train_loss: 2.5009521800911365, train_accuracy: 0.8225,  val_loss: 0.12624351680278778, val_acc: 0.9597643613815308\n",
            "time for epoch 0 : 0:00:24.675506\n",
            "Training epoch: 1/5\n",
            "Epoch [1], train_loss: 0.36794079109537414, train_accuracy: 0.90925,  val_loss: 0.10329767316579819, val_acc: 0.9679512977600098\n",
            "time for epoch 1 : 0:00:24.808381\n",
            "Training epoch: 2/5\n",
            "Epoch [2], train_loss: 0.508925206631034, train_accuracy: 0.9091041666666667,  val_loss: 0.11241556704044342, val_acc: 0.9656549692153931\n",
            "time for epoch 2 : 0:00:24.689482\n",
            "Training epoch: 3/5\n",
            "Epoch [3], train_loss: 0.4011295149346503, train_accuracy: 0.917875,  val_loss: 0.3173868656158447, val_acc: 0.9372004866600037\n",
            "time for epoch 3 : 0:00:24.404551\n",
            "Training epoch: 4/5\n",
            "Epoch [4], train_loss: 0.38051760263729373, train_accuracy: 0.9180416666666666,  val_loss: 0.10483816266059875, val_acc: 0.9664536714553833\n",
            "time for epoch 4 : 0:00:24.657896\n",
            "total time: 0:02:03.238403\n",
            "working on :CNN_39\n",
            "starting experiment on CNN_39\n",
            "epsilon - None\n",
            "Training epoch: 0/5\n",
            "Epoch [0], train_loss: 4.17925211638088, train_accuracy: 0.7369375,  val_loss: 0.20380814373493195, val_acc: 0.9377995133399963\n",
            "time for epoch 0 : 0:00:24.935303\n",
            "Training epoch: 1/5\n",
            "Epoch [1], train_loss: 0.4121282442569112, train_accuracy: 0.8937291666666667,  val_loss: 0.146054208278656, val_acc: 0.957068681716919\n",
            "time for epoch 1 : 0:00:24.865668\n",
            "Training epoch: 2/5\n",
            "Epoch [2], train_loss: 0.49829522285667677, train_accuracy: 0.9075,  val_loss: 0.15929476916790009, val_acc: 0.9582667946815491\n",
            "time for epoch 2 : 0:00:25.030517\n",
            "Training epoch: 3/5\n",
            "Epoch [3], train_loss: 0.6674672973159079, train_accuracy: 0.9134166666666667,  val_loss: 0.1211574375629425, val_acc: 0.9651557803153992\n",
            "time for epoch 3 : 0:00:25.011942\n",
            "Training epoch: 4/5\n",
            "Epoch [4], train_loss: 0.837323254093489, train_accuracy: 0.9106041666666667,  val_loss: 0.11049970239400864, val_acc: 0.9693490266799927\n",
            "time for epoch 4 : 0:00:24.864016\n",
            "total time: 0:02:04.707749\n",
            "working on :CNN_40\n",
            "starting experiment on CNN_40\n",
            "epsilon - None\n",
            "Training epoch: 0/5\n",
            "Epoch [0], train_loss: 2.7726992840605478, train_accuracy: 0.71575,  val_loss: 0.134959876537323, val_acc: 0.9578673839569092\n",
            "time for epoch 0 : 0:00:24.411538\n",
            "Training epoch: 1/5\n",
            "Epoch [1], train_loss: 0.3805712392025938, train_accuracy: 0.9115625,  val_loss: 0.12868228554725647, val_acc: 0.9603634476661682\n",
            "time for epoch 1 : 0:00:24.562547\n",
            "Training epoch: 2/5\n",
            "Epoch [2], train_loss: 0.4139800669294782, train_accuracy: 0.9167708333333333,  val_loss: 1.647515892982483, val_acc: 0.7815495133399963\n",
            "time for epoch 2 : 0:00:24.556773\n",
            "Training epoch: 3/5\n",
            "Epoch [3], train_loss: 0.5451498428006113, train_accuracy: 0.9168541666666666,  val_loss: 0.23643487691879272, val_acc: 0.9528753757476807\n",
            "time for epoch 3 : 0:00:24.388207\n",
            "Training epoch: 4/5\n",
            "Epoch [4], train_loss: 0.35928750524511754, train_accuracy: 0.9190625,  val_loss: 0.09803244471549988, val_acc: 0.972244381904602\n",
            "time for epoch 4 : 0:00:24.544879\n",
            "total time: 0:02:02.465026\n",
            "working on :CNN_41\n",
            "starting experiment on CNN_41\n",
            "epsilon - None\n",
            "Training epoch: 0/5\n",
            "Epoch [0], train_loss: 2.827397370229475, train_accuracy: 0.7246875,  val_loss: 0.15116126835346222, val_acc: 0.9568690061569214\n",
            "time for epoch 0 : 0:00:24.688780\n",
            "Training epoch: 1/5\n",
            "Epoch [1], train_loss: 0.39389288177434356, train_accuracy: 0.903125,  val_loss: 0.11601660400629044, val_acc: 0.9659544825553894\n",
            "time for epoch 1 : 0:00:24.552561\n",
            "Training epoch: 2/5\n",
            "Epoch [2], train_loss: 0.4365364517592807, train_accuracy: 0.9151041666666667,  val_loss: 0.16993315517902374, val_acc: 0.9597643613815308\n",
            "time for epoch 2 : 0:00:24.354594\n",
            "Training epoch: 3/5\n",
            "Epoch [3], train_loss: 0.4476790876270582, train_accuracy: 0.9195416666666667,  val_loss: 0.09963146597146988, val_acc: 0.9717451930046082\n",
            "time for epoch 3 : 0:00:24.128233\n",
            "Training epoch: 4/5\n",
            "Epoch [4], train_loss: 0.3462317736053568, train_accuracy: 0.9245833333333333,  val_loss: 0.10465323179960251, val_acc: 0.9700479507446289\n",
            "time for epoch 4 : 0:00:24.106229\n",
            "total time: 0:02:01.830756\n",
            "working on :CNN_42\n",
            "starting experiment on CNN_42\n",
            "epsilon - None\n",
            "Training epoch: 0/5\n",
            "Epoch [0], train_loss: 3.7579458768218754, train_accuracy: 0.2531875,  val_loss: 0.26693058013916016, val_acc: 0.9164336919784546\n",
            "time for epoch 0 : 0:00:24.814444\n",
            "Training epoch: 1/5\n",
            "Epoch [1], train_loss: 0.48178286879028503, train_accuracy: 0.8765625,  val_loss: 0.5743783116340637, val_acc: 0.9160343408584595\n",
            "time for epoch 1 : 0:00:24.638078\n",
            "Training epoch: 2/5\n",
            "Epoch [2], train_loss: 0.3925385811061909, train_accuracy: 0.9082916666666667,  val_loss: 0.11786389350891113, val_acc: 0.9642571806907654\n",
            "time for epoch 2 : 0:00:24.557937\n",
            "Training epoch: 3/5\n",
            "Epoch [3], train_loss: 0.5181314331048246, train_accuracy: 0.9149375,  val_loss: 0.10518801957368851, val_acc: 0.9721445441246033\n",
            "time for epoch 3 : 0:00:24.572414\n",
            "Training epoch: 4/5\n",
            "Epoch [4], train_loss: 0.4621260364369179, train_accuracy: 0.9155416666666667,  val_loss: 0.1139506846666336, val_acc: 0.9682508111000061\n",
            "time for epoch 4 : 0:00:24.388226\n",
            "total time: 0:02:02.972033\n",
            "working on :CNN_43\n",
            "starting experiment on CNN_43\n",
            "epsilon - None\n",
            "Training epoch: 0/5\n",
            "Epoch [0], train_loss: 4.947542947610219, train_accuracy: 0.10970833333333334,  val_loss: 2.3024258613586426, val_acc: 0.1135183721780777\n",
            "time for epoch 0 : 0:00:24.583789\n",
            "Training epoch: 1/5\n",
            "Epoch [1], train_loss: 0.885042930085212, train_accuracy: 0.7511041666666667,  val_loss: 0.2889658808708191, val_acc: 0.9140375256538391\n",
            "time for epoch 1 : 0:00:24.345664\n",
            "Training epoch: 2/5\n",
            "Epoch [2], train_loss: 0.42269902103138157, train_accuracy: 0.9002291666666666,  val_loss: 0.116614431142807, val_acc: 0.9645566940307617\n",
            "time for epoch 2 : 0:00:24.400055\n",
            "Training epoch: 3/5\n",
            "Epoch [3], train_loss: 0.33659951237228236, train_accuracy: 0.9180833333333334,  val_loss: 0.16562294960021973, val_acc: 0.949181318283081\n",
            "time for epoch 3 : 0:00:24.362868\n",
            "Training epoch: 4/5\n",
            "Epoch [4], train_loss: 0.7034795003717784, train_accuracy: 0.9112916666666667,  val_loss: 0.17049330472946167, val_acc: 0.9534744620323181\n",
            "time for epoch 4 : 0:00:24.474778\n",
            "total time: 0:02:02.167537\n",
            "working on :CNN_44\n",
            "starting experiment on CNN_44\n",
            "epsilon - None\n",
            "Training epoch: 0/5\n",
            "Epoch [0], train_loss: 4.403196279315899, train_accuracy: 0.437625,  val_loss: 0.1856650710105896, val_acc: 0.943989634513855\n",
            "time for epoch 0 : 0:00:24.796234\n",
            "Training epoch: 1/5\n",
            "Epoch [1], train_loss: 0.4224036247575035, train_accuracy: 0.8997083333333333,  val_loss: 0.1480843871831894, val_acc: 0.9544728398323059\n",
            "time for epoch 1 : 0:00:24.801143\n",
            "Training epoch: 2/5\n",
            "Epoch [2], train_loss: 0.38574790096236394, train_accuracy: 0.9125833333333333,  val_loss: 0.10943158715963364, val_acc: 0.9665535092353821\n",
            "time for epoch 2 : 0:00:24.787749\n",
            "Training epoch: 3/5\n",
            "Epoch [3], train_loss: 0.4920532029229362, train_accuracy: 0.9138125,  val_loss: 0.10973228514194489, val_acc: 0.9674520492553711\n",
            "time for epoch 3 : 0:00:24.716865\n",
            "Training epoch: 4/5\n",
            "Epoch [4], train_loss: 0.3392186919096081, train_accuracy: 0.9218333333333333,  val_loss: 0.1405060887336731, val_acc: 0.9629592895507812\n",
            "time for epoch 4 : 0:00:24.649906\n",
            "total time: 0:02:03.752258\n",
            "working on :CNN_45\n",
            "starting experiment on CNN_45\n",
            "epsilon - None\n",
            "Training epoch: 0/5\n",
            "Epoch [0], train_loss: 3.9916449215303484, train_accuracy: 0.7472708333333333,  val_loss: 0.18349170684814453, val_acc: 0.949181318283081\n",
            "time for epoch 0 : 0:00:24.660429\n",
            "Training epoch: 1/5\n",
            "Epoch [1], train_loss: 0.3751607436630196, train_accuracy: 0.9075,  val_loss: 0.13028015196323395, val_acc: 0.9615615010261536\n",
            "time for epoch 1 : 0:00:24.377145\n",
            "Training epoch: 2/5\n",
            "Epoch [2], train_loss: 0.40606307322198215, train_accuracy: 0.9178958333333334,  val_loss: 0.19101965427398682, val_acc: 0.9576677083969116\n",
            "time for epoch 2 : 0:00:24.166190\n",
            "Training epoch: 3/5\n",
            "Epoch [3], train_loss: 0.36864153461274207, train_accuracy: 0.9232291666666667,  val_loss: 0.10038045793771744, val_acc: 0.9680511355400085\n",
            "time for epoch 3 : 0:00:24.309031\n",
            "Training epoch: 4/5\n",
            "Epoch [4], train_loss: 0.38644599698600357, train_accuracy: 0.9219791666666667,  val_loss: 0.1268802136182785, val_acc: 0.9628594517707825\n",
            "time for epoch 4 : 0:00:24.152757\n",
            "total time: 0:02:01.668113\n",
            "working on :CNN_46\n",
            "starting experiment on CNN_46\n",
            "epsilon - None\n",
            "Training epoch: 0/5\n",
            "Epoch [0], train_loss: 2.269329554149881, train_accuracy: 0.8112083333333333,  val_loss: 0.16651096940040588, val_acc: 0.9458865523338318\n",
            "time for epoch 0 : 0:00:24.371251\n",
            "Training epoch: 1/5\n",
            "Epoch [1], train_loss: 0.440971849876456, train_accuracy: 0.9005,  val_loss: 0.15234389901161194, val_acc: 0.9571685194969177\n",
            "time for epoch 1 : 0:00:24.204979\n",
            "Training epoch: 2/5\n",
            "Epoch [2], train_loss: 0.39715586058613067, train_accuracy: 0.9085,  val_loss: 0.1261226087808609, val_acc: 0.9642571806907654\n",
            "time for epoch 2 : 0:00:24.229513\n",
            "Training epoch: 3/5\n",
            "Epoch [3], train_loss: 0.49360182017755383, train_accuracy: 0.9121041666666667,  val_loss: 0.20300988852977753, val_acc: 0.9497803449630737\n",
            "time for epoch 3 : 0:00:24.310298\n",
            "Training epoch: 4/5\n",
            "Epoch [4], train_loss: 0.40708301606836417, train_accuracy: 0.9168958333333334,  val_loss: 0.1200893223285675, val_acc: 0.9649560451507568\n",
            "time for epoch 4 : 0:00:24.499317\n",
            "total time: 0:02:01.615668\n",
            "working on :CNN_47\n",
            "starting experiment on CNN_47\n",
            "epsilon - None\n",
            "Training epoch: 0/5\n",
            "Epoch [0], train_loss: 4.695488795677821, train_accuracy: 0.18827083333333333,  val_loss: 0.3721812963485718, val_acc: 0.9001597166061401\n",
            "time for epoch 0 : 0:00:24.631940\n",
            "Training epoch: 1/5\n",
            "Epoch [1], train_loss: 0.5075603546801334, train_accuracy: 0.87275,  val_loss: 0.1257939487695694, val_acc: 0.960463285446167\n",
            "time for epoch 1 : 0:00:24.362403\n",
            "Training epoch: 2/5\n",
            "Epoch [2], train_loss: 0.5761309644953581, train_accuracy: 0.9058333333333334,  val_loss: 0.24414227902889252, val_acc: 0.9531749486923218\n",
            "time for epoch 2 : 0:00:24.311841\n",
            "Training epoch: 3/5\n",
            "Epoch [3], train_loss: 0.5512570904273695, train_accuracy: 0.9137083333333333,  val_loss: 0.0951075553894043, val_acc: 0.9715455174446106\n",
            "time for epoch 3 : 0:00:24.131298\n",
            "Training epoch: 4/5\n",
            "Epoch [4], train_loss: 0.45152649921318516, train_accuracy: 0.9184166666666667,  val_loss: 0.1063070297241211, val_acc: 0.9682508111000061\n",
            "time for epoch 4 : 0:00:24.114020\n",
            "total time: 0:02:01.552394\n",
            "working on :CNN_48\n",
            "starting experiment on CNN_48\n",
            "epsilon - None\n",
            "Training epoch: 0/5\n",
            "Epoch [0], train_loss: 4.6080516845782595, train_accuracy: 0.1185625,  val_loss: 0.7688379883766174, val_acc: 0.753494381904602\n",
            "time for epoch 0 : 0:00:24.163927\n",
            "Training epoch: 1/5\n",
            "Epoch [1], train_loss: 0.5348499471235555, train_accuracy: 0.8495833333333334,  val_loss: 0.11898725479841232, val_acc: 0.9648562073707581\n",
            "time for epoch 1 : 0:00:24.061649\n",
            "Training epoch: 2/5\n",
            "Epoch [2], train_loss: 0.3766741510024294, train_accuracy: 0.9121041666666667,  val_loss: 0.11880514770746231, val_acc: 0.9640575051307678\n",
            "time for epoch 2 : 0:00:24.116247\n",
            "Training epoch: 3/5\n",
            "Epoch [3], train_loss: 0.45854388213382724, train_accuracy: 0.9143333333333333,  val_loss: 0.4268712103366852, val_acc: 0.9018570184707642\n",
            "time for epoch 3 : 0:00:24.142369\n",
            "Training epoch: 4/5\n",
            "Epoch [4], train_loss: 0.38038868880597876, train_accuracy: 0.92175,  val_loss: 0.1263836920261383, val_acc: 0.9601637125015259\n",
            "time for epoch 4 : 0:00:23.892513\n",
            "total time: 0:02:00.377365\n"
          ]
        }
      ]
    },
    {
      "cell_type": "code",
      "source": [
        "indices"
      ],
      "metadata": {
        "id": "kfrzfrBNkyfL"
      },
      "execution_count": null,
      "outputs": []
    },
    {
      "cell_type": "code",
      "source": [
        "memorization_estimator_exp = False\n",
        "if memorization_estimator_exp:\n",
        "  # todo : save indices, and don't misplace it\n",
        "  influence = np.zeros((N,N))\n",
        "  conf = np.zeros((m,N)) \n",
        "  for i in range(N):\n",
        "    # pick a model A (index A) that is trained with i\n",
        "    # pick a model B  (index B) that is not trained with i\n",
        "    for j in range(N):\n",
        "      influence[i][j] = conf[A][j] - conf[B][j]\n",
        "\n",
        "  influence\n"
      ],
      "metadata": {
        "id": "nFmt68drkmZy"
      },
      "execution_count": null,
      "outputs": []
    },
    {
      "cell_type": "code",
      "source": [
        "m = utils.to_device(m, \"cpu\")"
      ],
      "metadata": {
        "id": "QQ1VlEJqsNyH"
      },
      "execution_count": null,
      "outputs": []
    },
    {
      "cell_type": "code",
      "source": [
        "%%time\n",
        "\n",
        "#conf = compute_train_correct_accuracies(m, trainloader, device)\n"
      ],
      "metadata": {
        "id": "Lr5CnbeaYVRw"
      },
      "execution_count": null,
      "outputs": []
    },
    {
      "cell_type": "code",
      "source": [
        ""
      ],
      "metadata": {
        "id": "fPZSvFCsaBZL"
      },
      "execution_count": null,
      "outputs": []
    },
    {
      "cell_type": "code",
      "source": [
        ""
      ],
      "metadata": {
        "id": "QkyGmoqoPmoq"
      },
      "execution_count": null,
      "outputs": []
    },
    {
      "cell_type": "code",
      "source": [
        "## TODO: train model and look at different condiences \n",
        "c = 2\n",
        "for i in range(2):\n",
        "    m = models.CNN(num_classes=10)\n",
        "    res = model_training.do_it_all(\n",
        "                    model=m,\n",
        "                    model_name=\"butt\",\n",
        "                    criterion=params.criterion,\n",
        "                    save_path=f\"arg_{c}_{i}.pth\",\n",
        "                    tensorboard_path=\"arg\",\n",
        "                    trainloader=trainloader,\n",
        "                    testloader=testloader,\n",
        "                    device=device,\n",
        "                    epochs=3,\n",
        "                    max_grad_norm=params.MAX_GRAD_NORM,\n",
        "                    overwrite=False,\n",
        "                    model_confidences= model_confidences[i])"
      ],
      "metadata": {
        "id": "xaYTQ8NgZW-T"
      },
      "execution_count": null,
      "outputs": []
    },
    {
      "cell_type": "code",
      "source": [
        "model_confidences"
      ],
      "metadata": {
        "id": "2hPiZmy6Wv67"
      },
      "execution_count": null,
      "outputs": []
    },
    {
      "cell_type": "code",
      "source": [
        "trainloader.dataset.targets"
      ],
      "metadata": {
        "id": "Ymx3MaGcTrJr"
      },
      "execution_count": null,
      "outputs": []
    },
    {
      "cell_type": "code",
      "source": [
        "len(trainloader.dataset)"
      ],
      "metadata": {
        "id": "J4tWhKyEUss4"
      },
      "execution_count": null,
      "outputs": []
    },
    {
      "cell_type": "code",
      "source": [
        "if model_confidences[0] is not None:\n",
        "  print(1)"
      ],
      "metadata": {
        "id": "Lyp88v3vRmPO"
      },
      "execution_count": null,
      "outputs": []
    },
    {
      "cell_type": "code",
      "source": [
        "55479 / 60000"
      ],
      "metadata": {
        "id": "nsBCNTbOfKSC"
      },
      "execution_count": null,
      "outputs": []
    },
    {
      "cell_type": "code",
      "source": [
        "raise Exception"
      ],
      "metadata": {
        "id": "2jdV8YRbSnnT"
      },
      "execution_count": null,
      "outputs": []
    },
    {
      "cell_type": "code",
      "source": [
        ""
      ],
      "metadata": {
        "id": "DYUxQwG9USEY"
      },
      "execution_count": null,
      "outputs": []
    },
    {
      "cell_type": "code",
      "source": [
        "\n"
      ],
      "metadata": {
        "id": "uGtJ5Iv2pbp3"
      },
      "execution_count": null,
      "outputs": []
    },
    {
      "cell_type": "code",
      "source": [
        "%%time\n",
        "a_train = compute_train_correct_accuracies(m, trainloader, device)\n",
        "a_val = compute_train_correct_accuracies(m, testloader, device)\n",
        "\n",
        "print(a_train, a_val)\n"
      ],
      "metadata": {
        "id": "FHg5uCEaw9Be"
      },
      "execution_count": null,
      "outputs": []
    },
    {
      "cell_type": "code",
      "source": [
        "def compute_train_correct_accuracies(model, train_loader, device):\n",
        "    ''' Computes the accuracy of the model on the training set\n",
        "    and compute predictoin confidence for each datapoint  \n",
        "    '''\n",
        "    total = 0\n",
        "    correct = 0\n",
        "    with torch.no_grad():\n",
        "        for data, target in train_loader:\n",
        "            data, target = data.to(device), target.to(device)\n",
        "            output = model(data)\n",
        "            softmax = torch.nn.functional.softmax(output[0], dim=0)\n",
        "            conf = softmax[target]\n",
        "            #conf, pred = torch.max(output, 1)\n",
        "            total += target.size(0)\n",
        "            correct += (pred == target).sum().item()\n",
        "    return correct / total\n",
        "\n",
        "def compute_train_correct_accuracies(model, train_loader, device):\n",
        "    # compute the confidences matrix\n",
        "    confidences = np.zeros(len(trainset.targets), dtype = \"float32\"))\n",
        "    with torch.no_grad():\n",
        "        for i, (data, targets) in enumerate(trainloader):\n",
        "            data, targets = data.to(device), targets.to(device)\n",
        "            output = model(data) # make prediction\n",
        "            softmax = torch.nn.functional.softmax(output, dim=0)\n",
        "            w = len(targets)\n",
        "            confs = softmax[np.arange(len(softmax)), targets]\n",
        "            confidences[w* i: w*(i+1) ] = utils.to_device(confs, \"cpu\")\n",
        "    return confidences\n",
        "    \n",
        "m = models.FCN(num_classes = 10)\n",
        "m = utils.to_device(m, device)\n",
        "trainloader "
      ],
      "metadata": {
        "id": "LVHMP-oTUoTn"
      },
      "execution_count": null,
      "outputs": []
    },
    {
      "cell_type": "code",
      "source": [
        "confidences"
      ],
      "metadata": {
        "id": "aSi4rXTqZXIn"
      },
      "execution_count": null,
      "outputs": []
    },
    {
      "cell_type": "code",
      "source": [
        "for i in target:\n",
        "  print(i)"
      ],
      "metadata": {
        "id": "VHuVRW1lW8TF"
      },
      "execution_count": null,
      "outputs": []
    },
    {
      "cell_type": "code",
      "source": [
        "output.shape\n",
        "softmax = torch.nn.functional.softmax(output, dim=0)\n",
        "print(softmax.shape)#[target]\n",
        "print(target.shape)\n",
        "print(softmax[:,target].shape)\n"
      ],
      "metadata": {
        "id": "UxV3mzVFWw9v"
      },
      "execution_count": null,
      "outputs": []
    },
    {
      "cell_type": "code",
      "source": [
        "softmax[np.arange(len(softmax)), target]"
      ],
      "metadata": {
        "id": "NpCfcE39q0fd"
      },
      "execution_count": null,
      "outputs": []
    },
    {
      "cell_type": "code",
      "source": [
        "softmax[:,target].shape"
      ],
      "metadata": {
        "id": "iz1raO2upw-A"
      },
      "execution_count": null,
      "outputs": []
    },
    {
      "cell_type": "code",
      "source": [
        "np.arange(3,)"
      ],
      "metadata": {
        "id": "-VFk7bAnqohH"
      },
      "execution_count": null,
      "outputs": []
    },
    {
      "cell_type": "code",
      "source": [
        "# compute confidences \n",
        "# todo : save and load confidences\n",
        "# todo: change the do-it to return confidences\n"
      ],
      "metadata": {
        "id": "AFmXrnosL19y"
      },
      "execution_count": null,
      "outputs": []
    },
    {
      "cell_type": "code",
      "source": [
        "softmax[0][1]"
      ],
      "metadata": {
        "id": "GcFtUQIspquo"
      },
      "execution_count": null,
      "outputs": []
    },
    {
      "cell_type": "code",
      "source": [
        ""
      ],
      "metadata": {
        "id": "AjRBJtDosT44"
      },
      "execution_count": null,
      "outputs": []
    },
    {
      "cell_type": "markdown",
      "source": [
        "## TODO:\n",
        "1. create a plan for which models to train\n",
        "2. create a map that maps models to indicies\n",
        "3. create a map that maps indicies to models that are trained on them (it should be possible to just do (total models) - (models that contain an index).\n",
        "\n",
        "4. \n",
        "\n",
        "\n",
        "process 1 - pick which models to train\n",
        "process 2 - pick which models to evaluate\n",
        "- we should do them together."
      ],
      "metadata": {
        "id": "ZtWaCVg7sebY"
      }
    },
    {
      "cell_type": "code",
      "source": [
        "def get_dataset_without_index(dataset, drop_ind):\n",
        "    \"\"\"\n",
        "    Given a dataset, return a dataset missing a particular index\n",
        "    \"\"\"\n",
        "    if drop_ind < 0 or drop_ind >= len(dataset):\n",
        "      return dataset \n",
        "    indices_mask =  np.ones(len(dataset), dtype=bool)\n",
        "    indices_mask[drop_ind] = False\n",
        "    indices = np.arange(len(dataset))[indices_mask]\n",
        "    return Subset(dataset, indices)\n",
        "\n",
        "def probability_of_label( model, img, label):\n",
        "  \"\"\" returns the probability of the model predicting a particular label for a particular image\n",
        "  \"\"\"\n",
        "  img = utils.to_device(img, device)\n",
        "  model = utils.to_device(model, device)\n",
        "  img.unsqueeze_(0)\n",
        "  with torch.no_grad():\n",
        "      yb = model(img)\n",
        "  softmax = torch.nn.functional.softmax(yb[0], dim=0)\n",
        "  confidence = softmax[label]\n",
        "  return confidence.item()\n",
        "  \n",
        "\n",
        "def round_name_setup(memorization_ASSETS_PATH, model_name):\n",
        "    \"\"\"get the paths for tensorboard and model saving (make dir if not yet exist)\n",
        "    Returns:\n",
        "        tensorboard_path, save_path\n",
        "    \"\"\"\n",
        "    base_save = memorization_ASSETS_PATH\n",
        "    os.makedirs(os.path.dirname(base_save), exist_ok=True)  \n",
        "    tensorboard_path = base_save\n",
        "    save_path = os.path.join(base_save, model_name+ \".pth\")\n",
        "    return tensorboard_path, save_path\n",
        "\n",
        "\n",
        "\n",
        "\n",
        "def train_memorization(missing_index, epochs = 6):\n",
        "    \"\"\"\n",
        "    train a model on a dataset without a given point\n",
        "\n",
        "    \"\"\"\n",
        "    model = models.CNN(num_classes = 10)\n",
        "    dataset = trainset\n",
        "    in_range = missing_index >= 0 and missing_index < len(trainset)\n",
        "    if in_range:\n",
        "        dataset = get_dataset_without_index(dataset, missing_index)\n",
        "        model_name = f\"CNN_missing_{missing_index}\"\n",
        "    else:\n",
        "        model_name = \"CNN_ordinary\"\n",
        "    \n",
        "    dataloader = dataset_management.load_dataloader(dataset)\n",
        "    tensorboard_path, save_path = round_name_setup(memorization_ASSETS_PATH, model_name)\n",
        "    print(f\"save path is {save_path}\")\n",
        "    res = model_training.do_it_all(\n",
        "                model=model,\n",
        "                model_name=model_name,\n",
        "                criterion=params.criterion,\n",
        "                save_path=save_path,\n",
        "                tensorboard_path=tensorboard_path,\n",
        "                trainloader=dataloader,\n",
        "                testloader=testloader,\n",
        "                device=device,\n",
        "                epochs=epochs,\n",
        "                max_grad_norm=params.MAX_GRAD_NORM,\n",
        "                overwrite=False)\n",
        "    if in_range:\n",
        "      img, target = dataset[missing_index]\n",
        "      prob_of_correct_label = probability_of_label(model, img, target)\n",
        "      res[\"probability_of_correct_label\"] = prob_of_correct_label\n",
        "      res[\"missing_index\"] = missing_index\n",
        "      res[\"correct_label\"] = target\n",
        "    return res\n",
        "  "
      ],
      "metadata": {
        "id": "5Q-pNzxhebGS"
      },
      "execution_count": null,
      "outputs": []
    },
    {
      "cell_type": "code",
      "source": [
        "round_name = \"0.1.0\"\n",
        "memorization_ASSETS_PATH = os.path.join(ASSETS_PATH, \"memorization\", round_name)\n",
        "memorization_ASSETS_PATH\n"
      ],
      "metadata": {
        "id": "0Cln8yfOzA8D"
      },
      "execution_count": null,
      "outputs": []
    },
    {
      "cell_type": "code",
      "source": [
        "from pathlib import Path\n",
        "import yaml\n",
        "def open_yaml_unsafe(filename):\n",
        "    \"\"\" return the contents of yaml as a dictionary \"\"\"\n",
        "    path = Path(filename)\n",
        "    if not path.is_file():\n",
        "        return None\n",
        "    try:\n",
        "        with open(path, \"r\") as infile:\n",
        "            return yaml.load(infile)\n",
        "    except Exception as e:\n",
        "        print(e)\n",
        "    return {}\n"
      ],
      "metadata": {
        "id": "R2QE_QKCdSR3"
      },
      "execution_count": null,
      "outputs": []
    },
    {
      "cell_type": "code",
      "source": [
        "dataset = trainset\n",
        "# maps from { idx-of-class : np.array(indices) }\n",
        "class_to_idx = {class_idx: np.arange(len(dataset))[dataset.targets == class_idx] for class_idx in range(len(dataset.classes))}\n",
        "epochs = 5\n",
        "\n",
        "memorization_experiment_results = {}\n",
        "memorization_experiment_results_yaml = os.path.join(memorization_ASSETS_PATH, \"memorization.yaml\")\n",
        "\n",
        "if os.path.exists(memorization_experiment_results_yaml):\n",
        "    memorization_experiment_results = open_yaml_unsafe( memorization_experiment_results_yaml)\n",
        "print(f\"len of memorization_experiment_results is {len(memorization_experiment_results)}\")\n",
        "res = train_memorization(-1, epochs = epochs)\n",
        "memorization_experiment_results[\"ordinary\"] = res\n",
        "\n",
        "for i in range(len(trainset.targets)):\n",
        "    print(f\"index is {i}\")\n",
        "    #class_idx = i % len(dataset.classes)\n",
        "    #index = np.random.choice(class_to_idx[class_idx])\n",
        "    index = i # remove randomness here\n",
        "    if index in memorization_experiment_results:\n",
        "      continue\n",
        "    res = train_memorization(index, epochs = epochs)\n",
        "    print(f\"Result for {index} : {res}\")\n",
        "    print(f\"Probability of correct label : {res.get('probability_of_correct_label')}\")\n",
        "    memorization_experiment_results[index] = res\n",
        "    utils.write_yaml(memorization_experiment_results_yaml,\n",
        "                      memorization_experiment_results)\n",
        "\n",
        "\n",
        "\n"
      ],
      "metadata": {
        "id": "LWwNoPaO3UjX"
      },
      "execution_count": null,
      "outputs": []
    },
    {
      "cell_type": "code",
      "source": [
        "hours = 10\n",
        "minutes = hours * 60\n",
        "epochs_trained = 5\n",
        "seconds_per_epoch = 16\n",
        "minutes_per_training = epochs_trained * seconds_per_epoch /60\n",
        "print(f\"number of memorization values we can measure the memoriztion of, in 10 hours: {(minutes)/(minutes_per_training)}\") "
      ],
      "metadata": {
        "id": "MzUW84R5uiDE"
      },
      "execution_count": null,
      "outputs": []
    },
    {
      "cell_type": "code",
      "source": [
        "# TODO:\n"
      ],
      "metadata": {
        "id": "ezYN6dPktSJY"
      },
      "execution_count": null,
      "outputs": []
    },
    {
      "cell_type": "markdown",
      "source": [
        "## TODO \n",
        "1. figure out how to monitor probability of correctness during training\n",
        "2. Actually do the memorization estimator"
      ],
      "metadata": {
        "id": "_ZzNO9TueRNW"
      }
    },
    {
      "cell_type": "code",
      "source": [
        ""
      ],
      "metadata": {
        "id": "3qm2Rl_Ze1VG"
      },
      "execution_count": null,
      "outputs": []
    },
    {
      "cell_type": "code",
      "source": [
        "## back of the envelope math:\n",
        "\n",
        "# to train a model, epoch ~ 24 seconds. 13 epochs = 5 minutes per model.\n",
        "# to test 1 memorization = 10 minutes per point.\n",
        "# classes = 10.  10\n"
      ],
      "metadata": {
        "id": "XMtSZmy5VDcq"
      },
      "execution_count": null,
      "outputs": []
    }
  ]
}